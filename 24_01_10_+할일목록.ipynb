{
  "nbformat": 4,
  "nbformat_minor": 0,
  "metadata": {
    "colab": {
      "provenance": []
    },
    "kernelspec": {
      "name": "python3",
      "display_name": "Python 3"
    },
    "language_info": {
      "name": "python"
    }
  },
  "cells": [
    {
      "cell_type": "markdown",
      "source": [
        "Step 1: 할 일 목록 초기화 및 표시 함수\n",
        "목표: 사용자의 할 일 목록을 관리합니다.\n",
        "내용:\n",
        "할 일 목록을 저장할 리스트를 초기화합니다.\n",
        "할 일 목록을 표시하는 함수를 정의합니다.\n",
        "\n",
        "Step 2: 할 일 추가 및 삭제 기능\n",
        "목표: 할 일을 추가하고 삭제하는 기능을 구현합니다.\n",
        "내용:\n",
        "할 일을 추가하는 함수를 정의합니다.\n",
        "할 일을 삭제하는 함수를 정의합니다.\n",
        "\n",
        "Step 3: 사용자 입력 처리\n",
        "목표: 사용자 입력에 따라 프로그램이 반응하도록 합니다.\n",
        "내용:\n",
        "사용자로부터 입력을 받아 추가, 삭제, 표시 기능을 수행합니다."
      ],
      "metadata": {
        "id": "upzRfbgdIm_m"
      }
    },
    {
      "cell_type": "code",
      "source": [
        "from IPython.display import display"
      ],
      "metadata": {
        "id": "EW0BM8HWJZPs"
      },
      "execution_count": 1,
      "outputs": []
    },
    {
      "cell_type": "code",
      "execution_count": 15,
      "metadata": {
        "colab": {
          "base_uri": "https://localhost:8080/"
        },
        "id": "fUbcV04xHUVl",
        "outputId": "33740d51-c857-421a-ec30-8286340a4aca"
      },
      "outputs": [
        {
          "output_type": "stream",
          "name": "stdout",
          "text": [
            "\n",
            "[1] 할 일 추가 [2] 할 일 삭제 [3] 목록 표시 [4] 종료\n",
            "원하는 번호를 입력해주세요 : 1\n",
            "추가할 할 일을 작성해주세요 : 코랩 필기\n",
            "코랩 필기가 할 일 목록에 추가되었습니다.\n",
            "\n",
            "[1] 할 일 추가 [2] 할 일 삭제 [3] 목록 표시 [4] 종료\n",
            "원하는 번호를 입력해주세요 : 1\n",
            "추가할 할 일을 작성해주세요 : 티스토리 필기 복습\n",
            "티스토리 필기 복습가 할 일 목록에 추가되었습니다.\n",
            "\n",
            "[1] 할 일 추가 [2] 할 일 삭제 [3] 목록 표시 [4] 종료\n",
            "원하는 번호를 입력해주세요 : 3\n",
            "현재 할 일 목록:\n",
            "- 코랩 필기\n",
            "- 티스토리 필기 복습\n",
            "\n",
            "[1] 할 일 추가 [2] 할 일 삭제 [3] 목록 표시 [4] 종료\n",
            "원하는 번호를 입력해주세요 : 4\n",
            "프로그램을 종료합니다.\n"
          ]
        }
      ],
      "source": [
        "todo_list = []\n",
        "\n",
        "def display_todo_list():\n",
        "    print(\"현재 할 일 목록:\")\n",
        "    for todo in todo_list:\n",
        "        print(\"- \" + todo)\n",
        "\n",
        "def add_todo(new_todo):  # 추가\n",
        "    if new_todo not in todo_list:\n",
        "        todo_list.append(new_todo)\n",
        "        print(f\"{new_todo}가 할 일 목록에 추가되었습니다.\")\n",
        "    else:\n",
        "        print(f\"{new_todo}는 이미 할 일 목록에 있습니다.\")\n",
        "\n",
        "def remove_todo(todo):\n",
        "    if todo in todo_list:\n",
        "        todo_list.remove(todo)\n",
        "        print(f\"할 일 <{todo}>이(가) 제거되었습니다.\")\n",
        "    else:\n",
        "        print(f\"할 일 목록에 '{todo}'가 없습니다.\")\n",
        "\n",
        "while True:\n",
        "    print(\"\\n[1] 할 일 추가 [2] 할 일 삭제 [3] 목록 표시 [4] 종료\")\n",
        "    choice = input(\"원하는 번호를 입력해주세요 : \")\n",
        "\n",
        "    if choice == '1':\n",
        "        new_todo = input(\"추가할 할 일을 작성해주세요 : \")\n",
        "        add_todo(new_todo)  # 인자 전달\n",
        "    elif choice == '2':\n",
        "        todo = input(\"삭제할 할 일을 작성해주세요 : \")\n",
        "        remove_todo(todo)  # 인자 전달\n",
        "    elif choice == '3':\n",
        "        display_todo_list()\n",
        "    elif choice == '4':\n",
        "        print(\"프로그램을 종료합니다.\")\n",
        "        break\n",
        "    else:\n",
        "        print(\"잘못된 선택입니다. 다시 입력하세요.\")"
      ]
    },
    {
      "cell_type": "code",
      "source": [
        "1"
      ],
      "metadata": {
        "id": "x0wu1FI2QGmr"
      },
      "execution_count": null,
      "outputs": []
    }
  ]
}