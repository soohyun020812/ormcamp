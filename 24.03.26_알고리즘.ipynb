{
  "cells": [
    {
      "cell_type": "markdown",
      "metadata": {
        "id": "xPJAL0fq8sBX"
      },
      "source": [
        "# 1. 자료구조와 알고리즘, 코딩테스트"
      ]
    },
    {
      "cell_type": "markdown",
      "metadata": {
        "id": "r9ZOF95mU4f5"
      },
      "source": [
        "* 자료구조(자료를 어떻게 담는가?): 리스트, 튜플, 딕셔너리, 셋, 싱글 링크드리스트, 더블링크드리스트, 트리, 해쉬 등\n",
        "* 알고리즘(문제를 어떻게 풀 것인가?): 애라토스테네스의 체, 그리디 알고리즘, 투 포인터, 슬라이딩 윈도우 등\n",
        "* 자료구조 + 알고리즘 => 문제 풀이 능력을 보겠다! => 코딩테스트\n",
        "* 추천 서적\n",
        "    * 학문적 접근 : The Art of Computer Programming(도널드 커누스)\n",
        "    * 코딩테스트 접근 : 파이썬 알고리즘 인터뷰(박상길)\n",
        "    * 기타 : 파이썬 자료구조와 알고리즘(중학교 학생 가르칠 때 사용), 그림으로 배우는 알고리즘(코드 없고 그림만 있습니다), 알고리즘 산책(역사적인 알고리즘을 쭉 훑어봅니다. 수학적인 내용이 많고 코드는 C++로 되어 있으나 보는데 큰 무리는 없습니다.)\n",
        "* 요즘은 ChatGPT가 이러한 책의 역할을 하고 있습니다. 그래서 https://100.pyalgo.co.kr/와 같은 곳에서 문제를 풀어보시면서 자료구조와 알고리즘을 설명해달라고 ChatGPT에게 요청하시면서 공부하시는 방법이 더 효율적입니다."
      ]
    },
    {
      "cell_type": "markdown",
      "metadata": {
        "id": "6O46Zg9D5tv6"
      },
      "source": [
        "## 1.1 코테 전 준비사항\n",
        "0. 회사와 경향 분석!\n",
        "    * 코테 보는 회사와 회사 유형을 정리하세요.\n",
        "    * [코딩테스트 경향 정리](https://paullabworkspace.notion.site/446d03bf38df42e19d9fedcf5ceaec61?pvs=4) 해두었습니다.\n",
        "    * 분석 서비스를 통해 [출제 경향](https://algoview.co.kr/)도 한 번 정리하세요.\n",
        "1. 플렛폼에 익숙해지자! (프로그래머스, 구름EDU 등)\n",
        "    * 사용 가능 라이브러리 미리 확인 등\n",
        "    * 대부분 numpy나 pandas가 사용 가능하지만 간혹가다 라이브러리 제한이 있는 곳도 있습니다. numpy는 python보다 대부분의 경우 속도가 빠릅니다. 크기에 따라 다르지만 100000개 이상의 배열의 연산의 경우 50배 이상의 성능을 보입니다. 순열과 조합은 itertools를 사용하시면 python 아주 쉽게 풀 수 있습니다.\n",
        "2. 언어 선택(속도 : C++, 풀이 : Python)\n",
        "    * 요즘은 Lv이 높은 경우가 아니면 속도 체크를 거의 하지 않는 추세입니다.\n",
        "    * 다른 언어가 메인이셔도 Python 추천 드립니다. 코딩테스트만을 위해 Python을 새로 공부하시는 분들이 많습니다.\n",
        "3. 코드 스니펫(트리, 검색, 최단경로(예를 들어 다익스트라), 직접 제작한 함수 등), Cheatsheet, A4 용지 준비\n",
        "    * 코드 스니펫을 만들어둔 레파지토리 fork - [제주코딩베이스캠프](https://github.com/paullabkorea/programmersLv0)\n",
        "    * 감독관이 없는 경우 [스니펫](https://github.com/paullabkorea/programmersLv0/blob/main/Solution.md)에서 Ctrl + F해서 문제를 풉니다.\n",
        "    * 시험 전 스니펫을 만들지 말고 하루 한 문제씩(저도 매일 한 문제씩 풉니다.) 또는 버겁다면 일주일에 2 ~ 3문제.\n",
        "4. 유용한 라이브러리 정리! (collections, itertools(순열, 조합), functools, re, bisect, math 등) - [제주코딩베이스캠프](https://www.youtube.com/channel/UC4GnvNKtuJ4cqWsYjxNxAEQ) 유튜브 채널 확인\n",
        "    * 유용한 알고리즘 GitHub repo를 검색하고 fork를 떠두는 것도 좋습니다.\n",
        "    * 면접질문 repo등 다양한 목적에 repo가 있습니다.\n",
        "5. 기억해두자! 예외처리!\n",
        "    * 예외처리와 테스트 케이스중 통과 못하는 케이스들은 문제를 많이 풀어보셔야 합니다.\n",
        "    * 길이가 0이거나 0으로 나누거나 등\n",
        "6. 속도개선\n",
        "    * class로 구현\n",
        "    * 메서드 대신 슬라이싱 구현(슬라이싱은 C로 구현되어 있어 메서드보다 통상 8배정도 빠릅니다.)하세요. 다만 공간복잡도가 상승할 수 있습니다. (리스트.reverse(), reversed(리스트), 리스트[::-1])\n",
        "    * for문 대신 list comprehension을 사용하세요. 더 빠릅니다.\n",
        "    * 재귀는 느립니다. 최후의 수단으로 사용하세요.\n",
        "7. ChatGPT, Copilot 활용\n",
        "    * 감독관이 없고 검색이 가능하다면 ChatGPT를 활용하세요.(ChatGPT가 활용 불가인 코테도 있습니다. 다만 활용 불가인데 검색이 가능할 경우 형평성 문제가 생겨요.)\n",
        "    * ChatGPT 나오고 화이트보드 테스트가 많아졌습니다."
      ]
    },
    {
      "cell_type": "markdown",
      "metadata": {
        "id": "2GrEMayc9b3O"
      },
      "source": [
        "## 1.2 문제 유형과 출제 방식\n",
        "* 5 ~ 6시간, 6 ~ 7문제\n",
        "* 30분씩 4문제, 2시간씩 2문제\n",
        "* 2 ~ 3시간, 3 ~ 5문제\n",
        "* 30분씩 3 ~ 4문제, 변별력 1문제\n",
        "* 단기 공부로 붙을 수 있는 코테와 붙기 힘든 코테 경향 정리\n",
        "* 문제 유형 분석 관련 글\n",
        "    * [문제 유형 분석](https://www.hanbit.co.kr/media/channel/view.html?cms_code=CMS4385594264)\n",
        "    * [언어 유불리 여부](https://www.hanbit.co.kr/media/channel/view.html?cms_code=CMS9145550324&cate_cd=)\n",
        "    * [코딩 테스트에 가장 많이 출제 되는 알고리즘](https://www.hanbit.co.kr/media/channel/view.html?cms_code=CMS7793635735&cate_cd=)\n",
        "        * 요구사항 구현 알고리즘(33%)\n",
        "        * 그리디 알고리즘(20%)\n",
        "        * 너비우선탐색, 깊이우선탐색(20%)\n",
        "        * 정렬(8%)\n",
        "        * 다이나믹 프로그래밍, 최단경로, 이진 탐색 등\n",
        "* 전체 문제 유형\n",
        "    * 알고리즘\n",
        "        * 정렬\n",
        "        * 이진 검색\n",
        "        * 비트 연산\n",
        "        * 슬라이딩 윈도우, 페이지 교체\n",
        "        * 분할 정복\n",
        "            * 그리디 알고리즘\n",
        "            * 다이나믹 프로그래밍\n",
        "    * 자료구조\n",
        "        * 선형\n",
        "            * 스택과 큐, 데크\n",
        "            * 연결리스트, 해시 테이블\n",
        "        * 비선형\n",
        "            * 그래프(최단경로) - 다익스트라가 나오면 매우 어려운 문제\n",
        "            * 트리\n",
        "                * 힙\n",
        "                * 트라이"
      ]
    },
    {
      "cell_type": "markdown",
      "metadata": {
        "id": "UQj-NRrc9WCQ"
      },
      "source": [
        "## 1.3 워밍업 문제"
      ]
    },
    {
      "cell_type": "markdown",
      "metadata": {
        "id": "83As1RgB5tv6"
      },
      "source": [
        "### 1.3.1 1번 워밍업 문제(google)\n",
        "\n",
        "1부터 10,000까지 8이라는 숫자가 총 몇번 나오는가?\n",
        "\n",
        "8이 포함되어 있는 숫자의 갯수를 카운팅 하는 것이 아니라 8이라는 숫자를 모두 카운팅 해야 한다.\n",
        "(※ 예를들어 8808은 3, 8888은 4로 카운팅 해야 함)\n",
        "\n",
        "문제 링크 : https://codingdojang.com/scode/393"
      ]
    },
    {
      "cell_type": "code",
      "source": [
        "[0, 0, 0, 0]\n",
        "[9, 9, 9, 9]"
      ],
      "metadata": {
        "id": "_z-IZGIEKwwn"
      },
      "execution_count": null,
      "outputs": []
    },
    {
      "cell_type": "code",
      "source": [
        "%%timeit\n",
        "\n",
        "str(range(1, 101))\n",
        "str(list(range(1, 101)))"
      ],
      "metadata": {
        "colab": {
          "base_uri": "https://localhost:8080/"
        },
        "id": "1mjCcHa-K4Lk",
        "outputId": "8e307dbb-1123-4e6f-f0a0-29dab8bc65a0"
      },
      "execution_count": null,
      "outputs": [
        {
          "output_type": "stream",
          "name": "stdout",
          "text": [
            "10.3 µs ± 2.87 µs per loop (mean ± std. dev. of 7 runs, 100000 loops each)\n"
          ]
        }
      ]
    },
    {
      "cell_type": "code",
      "source": [
        "'[1, 2, 3, 4]'.count(',')"
      ],
      "metadata": {
        "colab": {
          "base_uri": "https://localhost:8080/"
        },
        "id": "BUbzf8K6LZRE",
        "outputId": "50fefe22-e56a-46a2-94b5-961586badd0f"
      },
      "execution_count": null,
      "outputs": [
        {
          "output_type": "execute_result",
          "data": {
            "text/plain": [
              "3"
            ]
          },
          "metadata": {},
          "execution_count": 4
        }
      ]
    },
    {
      "cell_type": "code",
      "source": [
        "str(list(range(1, 101)))\n",
        "str(list(range(1, 101))).count('8')"
      ],
      "metadata": {
        "colab": {
          "base_uri": "https://localhost:8080/",
          "height": 88
        },
        "id": "88BfbnoqLTkI",
        "outputId": "e0c00b9c-514f-4bbe-9f17-09edc125da90"
      },
      "execution_count": null,
      "outputs": [
        {
          "output_type": "execute_result",
          "data": {
            "text/plain": [
              "'[1, 2, 3, 4, 5, 6, 7, 8, 9, 10, 11, 12, 13, 14, 15, 16, 17, 18, 19, 20, 21, 22, 23, 24, 25, 26, 27, 28, 29, 30, 31, 32, 33, 34, 35, 36, 37, 38, 39, 40, 41, 42, 43, 44, 45, 46, 47, 48, 49, 50, 51, 52, 53, 54, 55, 56, 57, 58, 59, 60, 61, 62, 63, 64, 65, 66, 67, 68, 69, 70, 71, 72, 73, 74, 75, 76, 77, 78, 79, 80, 81, 82, 83, 84, 85, 86, 87, 88, 89, 90, 91, 92, 93, 94, 95, 96, 97, 98, 99, 100]'"
            ],
            "application/vnd.google.colaboratory.intrinsic+json": {
              "type": "string"
            }
          },
          "metadata": {},
          "execution_count": 3
        }
      ]
    },
    {
      "cell_type": "markdown",
      "metadata": {
        "id": "Vpj7PJrg5tv_"
      },
      "source": [
        "### 1.3.2 2번 워밍업 문제(daum)\n",
        "\n",
        "1차원의 점들이 주어졌을 때, 그 중 가장 거리가 짧은 것의 쌍을 출력하는 함수를 작성하시오. (단 점들의 배열은 모두 정렬되어있다고 가정한다.)\n",
        "\n",
        "예를들어 S = [1, 3, 4, 8, 13, 17, 20] 이 주어졌다면, 결과값은 (3, 4)가 될 것이다.\n",
        "\n",
        "문제링크 : https://codingdojang.com/scode/408"
      ]
    },
    {
      "cell_type": "code",
      "source": [
        "data = [4, 3, 8, 1, 2, 8, 11]\n",
        "result = float('inf')\n",
        "\n",
        "for i in data:\n",
        "    if i < result:\n",
        "        result = i\n",
        "\n",
        "result"
      ],
      "metadata": {
        "colab": {
          "base_uri": "https://localhost:8080/"
        },
        "id": "KEZjMB69LlZg",
        "outputId": "214eb4dd-45dd-43d6-849c-d92c4d8b91e9"
      },
      "execution_count": null,
      "outputs": [
        {
          "output_type": "execute_result",
          "data": {
            "text/plain": [
              "1"
            ]
          },
          "metadata": {},
          "execution_count": 5
        }
      ]
    },
    {
      "cell_type": "code",
      "source": [
        "data = [4, 3, 8, 1, 2, 8, 11]\n",
        "result = float('-inf')\n",
        "\n",
        "for i in data:\n",
        "    if i > result:\n",
        "        result = i\n",
        "\n",
        "result"
      ],
      "metadata": {
        "colab": {
          "base_uri": "https://localhost:8080/"
        },
        "id": "XZztmfTuMUFO",
        "outputId": "0c00674e-a7cd-4c31-8f64-e7b7db96caa7"
      },
      "execution_count": null,
      "outputs": [
        {
          "output_type": "execute_result",
          "data": {
            "text/plain": [
              "11"
            ]
          },
          "metadata": {},
          "execution_count": 6
        }
      ]
    },
    {
      "cell_type": "code",
      "source": [
        "s = [1, 3, 4, 8, 13, 17, 20]\n",
        "result = float('inf')\n",
        "pair = [0, 0]\n",
        "\n",
        "for i in range(len(s) - 1):\n",
        "    if s[i+1] - s[i] < result:\n",
        "        result = s[i+1] - s[i]\n",
        "        pair[0] = s[i]\n",
        "        pair[1] = s[i+1]\n",
        "\n",
        "pair"
      ],
      "metadata": {
        "colab": {
          "base_uri": "https://localhost:8080/"
        },
        "id": "AjU91R3aMgCb",
        "outputId": "80dd8c11-767d-48e0-9f1d-78267f6e2483"
      },
      "execution_count": null,
      "outputs": [
        {
          "output_type": "execute_result",
          "data": {
            "text/plain": [
              "[3, 4]"
            ]
          },
          "metadata": {},
          "execution_count": 7
        }
      ]
    },
    {
      "cell_type": "code",
      "source": [
        "s = [1, 3, 4, 8, 13, 17, 20]\n",
        "result = float('inf')\n",
        "pair = [0, 0]\n",
        "\n",
        "for index, value in enumerate(s):\n",
        "    # print(index, value)\n",
        "    if index == len(s)-1: break\n",
        "    if s[index+1] - s[index] < result:\n",
        "        result = s[index+1] - s[index]\n",
        "        pair[0] = s[index]\n",
        "        pair[1] = s[index+1]\n",
        "\n",
        "pair"
      ],
      "metadata": {
        "colab": {
          "base_uri": "https://localhost:8080/"
        },
        "id": "6sfKFshbNcOD",
        "outputId": "9eae5499-4075-4986-ce7b-f387ff55ed22"
      },
      "execution_count": null,
      "outputs": [
        {
          "output_type": "execute_result",
          "data": {
            "text/plain": [
              "[3, 4]"
            ]
          },
          "metadata": {},
          "execution_count": 10
        }
      ]
    },
    {
      "cell_type": "code",
      "source": [
        "s = [1, 3, 4, 8, 13, 17, 20]\n",
        "result = float('inf')\n",
        "pair = [0, 0]\n",
        "\n",
        "for i in range(1, len(s)):\n",
        "    if s[i] - s[i-1] < result:\n",
        "        result = s[i] - s[i-1]\n",
        "        pair[0] = s[i-1]\n",
        "        pair[1] = s[i]\n",
        "\n",
        "pair"
      ],
      "metadata": {
        "colab": {
          "base_uri": "https://localhost:8080/"
        },
        "id": "2YjOPjK7OHJs",
        "outputId": "f80643df-3e06-4f50-9f31-c014f00d7b07"
      },
      "execution_count": null,
      "outputs": [
        {
          "output_type": "execute_result",
          "data": {
            "text/plain": [
              "[3, 4]"
            ]
          },
          "metadata": {},
          "execution_count": 11
        }
      ]
    },
    {
      "cell_type": "code",
      "source": [
        "list(zip(s, s[1:]))\n",
        "sorted(zip(s, s[1:]), key=lambda x: x[1] - x[0])\n",
        "sorted(zip(s, s[1:]), key=lambda x: x[1] - x[0])[0]"
      ],
      "metadata": {
        "colab": {
          "base_uri": "https://localhost:8080/"
        },
        "id": "MXRLG0UTOfn6",
        "outputId": "d4d7036e-0321-4ad2-c190-25dfead90d02"
      },
      "execution_count": null,
      "outputs": [
        {
          "output_type": "execute_result",
          "data": {
            "text/plain": [
              "[(3, 4), (1, 3), (17, 20), (4, 8), (13, 17), (8, 13)]"
            ]
          },
          "metadata": {},
          "execution_count": 14
        }
      ]
    },
    {
      "cell_type": "code",
      "source": [
        "-10 // 3 # 내림입니다."
      ],
      "metadata": {
        "colab": {
          "base_uri": "https://localhost:8080/"
        },
        "id": "NtP8bhAcPBY4",
        "outputId": "cea3a3d4-e88e-41db-8403-98b76792d5f5"
      },
      "execution_count": null,
      "outputs": [
        {
          "output_type": "execute_result",
          "data": {
            "text/plain": [
              "-4"
            ]
          },
          "metadata": {},
          "execution_count": 15
        }
      ]
    },
    {
      "cell_type": "code",
      "source": [
        "float('inf') > 10000000000000000000000000000000000000000000000000 # 수학적 무한대가 아닙니다."
      ],
      "metadata": {
        "colab": {
          "base_uri": "https://localhost:8080/"
        },
        "id": "e3PxKqPKPEQi",
        "outputId": "4ec54264-67b7-439a-9c80-6c820f77ab57"
      },
      "execution_count": null,
      "outputs": [
        {
          "output_type": "execute_result",
          "data": {
            "text/plain": [
              "True"
            ]
          },
          "metadata": {},
          "execution_count": 18
        }
      ]
    },
    {
      "cell_type": "code",
      "source": [
        "float('inf') > 10e2040 # 수학적 무한대가 아닙니다."
      ],
      "metadata": {
        "colab": {
          "base_uri": "https://localhost:8080/"
        },
        "id": "LRiNQOEWPVIO",
        "outputId": "045c5a45-6868-41cd-a41d-a340aab2e35f"
      },
      "execution_count": null,
      "outputs": [
        {
          "output_type": "execute_result",
          "data": {
            "text/plain": [
              "False"
            ]
          },
          "metadata": {},
          "execution_count": 25
        }
      ]
    },
    {
      "cell_type": "markdown",
      "metadata": {
        "id": "GMB54MkT8y4C"
      },
      "source": [
