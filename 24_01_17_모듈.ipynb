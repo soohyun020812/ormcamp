{
  "nbformat": 4,
  "nbformat_minor": 0,
  "metadata": {
    "colab": {
      "provenance": []
    },
    "kernelspec": {
      "name": "python3",
      "display_name": "Python 3"
    },
    "language_info": {
      "name": "python"
    }
  },
  "cells": [
    {
      "cell_type": "markdown",
      "source": [
        "### nonlocal"
      ],
      "metadata": {
        "id": "Gi2ZQJ4vJgBg"
      }
    },
    {
      "cell_type": "code",
      "source": [
        "# nonlocal은 파이썬의 키워드 중 하나로, 중첩 함수 내부에서 바깥 함수의 변수를 참조할 수 있게 함\n",
        "# nonlocal은 주로 클로저(closure)에서 변수의 값을 변경하고자 할 때 사용\n",
        "\n",
        "a = 10\n",
        "def f():\n",
        "    a = 100\n",
        "    print(f'f a: {a}')\n",
        "    def ff():\n",
        "        a = 1000\n",
        "        print(f'ff a: {a}')\n",
        "        def fff():\n",
        "            nonlocal a # global a로 변경해보세요.\n",
        "            a = 100\n",
        "            print(f'fff a: {a}')\n",
        "        fff()\n",
        "        print(f'ff a: {a}')\n",
        "    ff()\n",
        "f()\n",
        "print(f'global a: {a}')"
      ],
      "metadata": {
        "colab": {
          "base_uri": "https://localhost:8080/"
        },
        "id": "CwHYFjCdfbGR",
        "outputId": "b4ef0031-c8f0-463b-bd4a-c7a6abc221cc"
      },
      "execution_count": 1,
      "outputs": [
        {
          "output_type": "stream",
          "name": "stdout",
          "text": [
            "f a: 100\n",
            "ff a: 1000\n",
            "fff a: 100\n",
            "ff a: 100\n",
            "global a: 10\n"
          ]
        }
      ]
    },
    {
      "cell_type": "markdown",
      "source": [
        "### 모듈"
      ],
      "metadata": {
        "id": "KQzb9UAuhBCg"
      }
    },
    {
      "cell_type": "code",
      "source": [
        "# 모듈이란 클래스나 함수, 변수를 다른 파일(.py)에 작성하여\n",
        "# 다른 파이썬 코드에서 재사용할 수 있도록 한 것\n",
        "# 1번 스탭 : info.py를 생성\n",
        "# name = 'leehojun'\n",
        "# age = 10\n",
        "\n",
        "# def hello():\n",
        "#     print('안녕하세요 저는 이수현입니다.')"
      ],
      "metadata": {
        "id": "WiGGz8nqhC5s"
      },
      "execution_count": 2,
      "outputs": []
    },
    {
      "cell_type": "code",
      "source": [
        "import info # info.py를 가져오기\n",
        "\n",
        "info.name\n",
        "info.age\n",
        "info.hello()"
      ],
      "metadata": {
        "colab": {
          "base_uri": "https://localhost:8080/",
          "height": 401
        },
        "id": "WiBWuLh9h3nu",
        "outputId": "c94078ee-031e-4d8f-d314-b0170525e86f"
      },
      "execution_count": 3,
      "outputs": [
        {
          "output_type": "error",
          "ename": "ModuleNotFoundError",
          "evalue": "No module named 'info'",
          "traceback": [
            "\u001b[0;31m---------------------------------------------------------------------------\u001b[0m",
            "\u001b[0;31mModuleNotFoundError\u001b[0m                       Traceback (most recent call last)",
            "\u001b[0;32m<ipython-input-3-806634b723d5>\u001b[0m in \u001b[0;36m<cell line: 1>\u001b[0;34m()\u001b[0m\n\u001b[0;32m----> 1\u001b[0;31m \u001b[0;32mimport\u001b[0m \u001b[0minfo\u001b[0m \u001b[0;31m# info.py를 가져오기\u001b[0m\u001b[0;34m\u001b[0m\u001b[0;34m\u001b[0m\u001b[0m\n\u001b[0m\u001b[1;32m      2\u001b[0m \u001b[0;34m\u001b[0m\u001b[0m\n\u001b[1;32m      3\u001b[0m \u001b[0minfo\u001b[0m\u001b[0;34m.\u001b[0m\u001b[0mname\u001b[0m\u001b[0;34m\u001b[0m\u001b[0;34m\u001b[0m\u001b[0m\n\u001b[1;32m      4\u001b[0m \u001b[0minfo\u001b[0m\u001b[0;34m.\u001b[0m\u001b[0mage\u001b[0m\u001b[0;34m\u001b[0m\u001b[0;34m\u001b[0m\u001b[0m\n\u001b[1;32m      5\u001b[0m \u001b[0minfo\u001b[0m\u001b[0;34m.\u001b[0m\u001b[0mhello\u001b[0m\u001b[0;34m(\u001b[0m\u001b[0;34m)\u001b[0m\u001b[0;34m\u001b[0m\u001b[0;34m\u001b[0m\u001b[0m\n",
            "\u001b[0;31mModuleNotFoundError\u001b[0m: No module named 'info'",
            "",
            "\u001b[0;31m---------------------------------------------------------------------------\u001b[0;32m\nNOTE: If your import is failing due to a missing package, you can\nmanually install dependencies using either !pip or !apt.\n\nTo view examples of installing some common dependencies, click the\n\"Open Examples\" button below.\n\u001b[0;31m---------------------------------------------------------------------------\u001b[0m\n"
          ],
          "errorDetails": {
            "actions": [
              {
                "action": "open_url",
                "actionText": "Open Examples",
                "url": "/notebooks/snippets/importing_libraries.ipynb"
              }
            ]
          }
        }
      ]
    },
    {
      "cell_type": "code",
      "source": [
        "import info as q # info라는 이름 대신 q\n",
        "\n",
        "q.name\n",
        "q.age\n",
        "q.hello()"
      ],
      "metadata": {
        "colab": {
          "base_uri": "https://localhost:8080/",
          "height": 401
        },
        "id": "oX8yXZIdiF9U",
        "outputId": "c84e90be-df5e-4e34-9a8d-5b9fa1d27138"
      },
      "execution_count": 4,
      "outputs": [
        {
          "output_type": "error",
          "ename": "ModuleNotFoundError",
          "evalue": "No module named 'info'",
          "traceback": [
            "\u001b[0;31m---------------------------------------------------------------------------\u001b[0m",
            "\u001b[0;31mModuleNotFoundError\u001b[0m                       Traceback (most recent call last)",
            "\u001b[0;32m<ipython-input-4-d4b04216114d>\u001b[0m in \u001b[0;36m<cell line: 1>\u001b[0;34m()\u001b[0m\n\u001b[0;32m----> 1\u001b[0;31m \u001b[0;32mimport\u001b[0m \u001b[0minfo\u001b[0m \u001b[0;32mas\u001b[0m \u001b[0mq\u001b[0m \u001b[0;31m# info라는 이름 대신 q\u001b[0m\u001b[0;34m\u001b[0m\u001b[0;34m\u001b[0m\u001b[0m\n\u001b[0m\u001b[1;32m      2\u001b[0m \u001b[0;34m\u001b[0m\u001b[0m\n\u001b[1;32m      3\u001b[0m \u001b[0mq\u001b[0m\u001b[0;34m.\u001b[0m\u001b[0mname\u001b[0m\u001b[0;34m\u001b[0m\u001b[0;34m\u001b[0m\u001b[0m\n\u001b[1;32m      4\u001b[0m \u001b[0mq\u001b[0m\u001b[0;34m.\u001b[0m\u001b[0mage\u001b[0m\u001b[0;34m\u001b[0m\u001b[0;34m\u001b[0m\u001b[0m\n\u001b[1;32m      5\u001b[0m \u001b[0mq\u001b[0m\u001b[0;34m.\u001b[0m\u001b[0mhello\u001b[0m\u001b[0;34m(\u001b[0m\u001b[0;34m)\u001b[0m\u001b[0;34m\u001b[0m\u001b[0;34m\u001b[0m\u001b[0m\n",
            "\u001b[0;31mModuleNotFoundError\u001b[0m: No module named 'info'",
            "",
            "\u001b[0;31m---------------------------------------------------------------------------\u001b[0;32m\nNOTE: If your import is failing due to a missing package, you can\nmanually install dependencies using either !pip or !apt.\n\nTo view examples of installing some common dependencies, click the\n\"Open Examples\" button below.\n\u001b[0;31m---------------------------------------------------------------------------\u001b[0m\n"
          ],
          "errorDetails": {
            "actions": [
              {
                "action": "open_url",
                "actionText": "Open Examples",
                "url": "/notebooks/snippets/importing_libraries.ipynb"
              }
            ]
          }
        }
      ]
    },
    {
      "cell_type": "code",
      "source": [
        "# 사용하는 코드\n",
        "\n",
        "import pandas as pd\n",
        "import numpy as np"
      ],
      "metadata": {
        "id": "9L9whtVPidLx"
      },
      "execution_count": 5,
      "outputs": []
    },
    {
      "cell_type": "code",
      "source": [
        "# a > b > c > infotest.py 파일이 있을 경우\n",
        "# name = 'hojun'만 infotest.py에 있음\n",
        "\n",
        "import a.b.c.infotest as q\n",
        "\n",
        "q.name"
      ],
      "metadata": {
        "colab": {
          "base_uri": "https://localhost:8080/",
          "height": 401
        },
        "id": "dO0pq24hzzw0",
        "outputId": "400d2833-ab3e-4580-aa0a-b1ec5e120704"
      },
      "execution_count": 6,
      "outputs": [
        {
          "output_type": "error",
          "ename": "ModuleNotFoundError",
          "evalue": "No module named 'a'",
          "traceback": [
            "\u001b[0;31m---------------------------------------------------------------------------\u001b[0m",
            "\u001b[0;31mModuleNotFoundError\u001b[0m                       Traceback (most recent call last)",
            "\u001b[0;32m<ipython-input-6-86f8e9b0f3ea>\u001b[0m in \u001b[0;36m<cell line: 4>\u001b[0;34m()\u001b[0m\n\u001b[1;32m      2\u001b[0m \u001b[0;31m# name = 'hojun'만 infotest.py에 있음\u001b[0m\u001b[0;34m\u001b[0m\u001b[0;34m\u001b[0m\u001b[0m\n\u001b[1;32m      3\u001b[0m \u001b[0;34m\u001b[0m\u001b[0m\n\u001b[0;32m----> 4\u001b[0;31m \u001b[0;32mimport\u001b[0m \u001b[0ma\u001b[0m\u001b[0;34m.\u001b[0m\u001b[0mb\u001b[0m\u001b[0;34m.\u001b[0m\u001b[0mc\u001b[0m\u001b[0;34m.\u001b[0m\u001b[0minfotest\u001b[0m \u001b[0;32mas\u001b[0m \u001b[0mq\u001b[0m\u001b[0;34m\u001b[0m\u001b[0;34m\u001b[0m\u001b[0m\n\u001b[0m\u001b[1;32m      5\u001b[0m \u001b[0;34m\u001b[0m\u001b[0m\n\u001b[1;32m      6\u001b[0m \u001b[0mq\u001b[0m\u001b[0;34m.\u001b[0m\u001b[0mname\u001b[0m\u001b[0;34m\u001b[0m\u001b[0;34m\u001b[0m\u001b[0m\n",
            "\u001b[0;31mModuleNotFoundError\u001b[0m: No module named 'a'",
            "",
            "\u001b[0;31m---------------------------------------------------------------------------\u001b[0;32m\nNOTE: If your import is failing due to a missing package, you can\nmanually install dependencies using either !pip or !apt.\n\nTo view examples of installing some common dependencies, click the\n\"Open Examples\" button below.\n\u001b[0;31m---------------------------------------------------------------------------\u001b[0m\n"
          ],
          "errorDetails": {
            "actions": [
              {
                "action": "open_url",
                "actionText": "Open Examples",
                "url": "/notebooks/snippets/importing_libraries.ipynb"
              }
            ]
          }
        }
      ]
    },
    {
      "cell_type": "code",
      "source": [
        "import sys\n",
        "\n",
        "sys.path # 모듈을 읽어오는 경로\n",
        "sys.modules # 기본적으로 읽어온 모듈들"
      ],
      "metadata": {
        "id": "U4oprAmk0JWp",
        "colab": {
          "base_uri": "https://localhost:8080/"
        },
        "outputId": "e9c6fafe-b66b-43a5-ea69-011acc13188e"
      },
      "execution_count": 7,
      "outputs": [
        {
          "output_type": "execute_result",
          "data": {
            "text/plain": [
              "{'sys': <module 'sys' (built-in)>,\n",
              " 'builtins': <module 'builtins' (built-in)>,\n",
              " '_frozen_importlib': <module '_frozen_importlib' (frozen)>,\n",
              " '_imp': <module '_imp' (built-in)>,\n",
              " '_thread': <module '_thread' (built-in)>,\n",
              " '_warnings': <module '_warnings' (built-in)>,\n",
              " '_weakref': <module '_weakref' (built-in)>,\n",
              " '_io': <module '_io' (built-in)>,\n",
              " 'marshal': <module 'marshal' (built-in)>,\n",
              " 'posix': <module 'posix' (built-in)>,\n",
              " '_frozen_importlib_external': <module '_frozen_importlib_external' (frozen)>,\n",
              " 'time': <module 'time' (built-in)>,\n",
              " 'zipimport': <module 'zipimport' (frozen)>,\n",
              " '_codecs': <module '_codecs' (built-in)>,\n",
              " 'codecs': <module 'codecs' from '/usr/lib/python3.10/codecs.py'>,\n",
              " 'encodings.aliases': <module 'encodings.aliases' from '/usr/lib/python3.10/encodings/aliases.py'>,\n",
              " 'encodings': <module 'encodings' from '/usr/lib/python3.10/encodings/__init__.py'>,\n",
              " 'encodings.utf_8': <module 'encodings.utf_8' from '/usr/lib/python3.10/encodings/utf_8.py'>,\n",
              " '_signal': <module '_signal' (built-in)>,\n",
              " '_abc': <module '_abc' (built-in)>,\n",
              " 'abc': <module 'abc' from '/usr/lib/python3.10/abc.py'>,\n",
              " 'io': <module 'io' from '/usr/lib/python3.10/io.py'>,\n",
              " '__main__': <module '__main__'>,\n",
              " 'types': <module 'types' from '/usr/lib/python3.10/types.py'>,\n",
              " 'enum': <module 'enum' from '/usr/lib/python3.10/enum.py'>,\n",
              " '_sre': <module '_sre' (built-in)>,\n",
              " 'sre_constants': <module 'sre_constants' from '/usr/lib/python3.10/sre_constants.py'>,\n",
              " 'sre_parse': <module 'sre_parse' from '/usr/lib/python3.10/sre_parse.py'>,\n",
              " 'sre_compile': <module 'sre_compile' from '/usr/lib/python3.10/sre_compile.py'>,\n",
              " '_collections_abc': <module '_collections_abc' from '/usr/lib/python3.10/_collections_abc.py'>,\n",
              " 'itertools': <module 'itertools' (built-in)>,\n",
              " 'keyword': <module 'keyword' from '/usr/lib/python3.10/keyword.py'>,\n",
              " '_operator': <module '_operator' (built-in)>,\n",
              " 'operator': <module 'operator' from '/usr/lib/python3.10/operator.py'>,\n",
              " 'reprlib': <module 'reprlib' from '/usr/lib/python3.10/reprlib.py'>,\n",
              " '_collections': <module '_collections' (built-in)>,\n",
              " 'collections': <module 'collections' from '/usr/lib/python3.10/collections/__init__.py'>,\n",
              " '_functools': <module '_functools' (built-in)>,\n",
              " 'functools': <module 'functools' from '/usr/lib/python3.10/functools.py'>,\n",
              " '_locale': <module '_locale' (built-in)>,\n",
              " 'copyreg': <module 'copyreg' from '/usr/lib/python3.10/copyreg.py'>,\n",
              " 're': <module 're' from '/usr/lib/python3.10/re.py'>,\n",
              " 'warnings': <module 'warnings' from '/usr/lib/python3.10/warnings.py'>,\n",
              " '_stat': <module '_stat' (built-in)>,\n",
              " 'stat': <module 'stat' from '/usr/lib/python3.10/stat.py'>,\n",
              " 'genericpath': <module 'genericpath' from '/usr/lib/python3.10/genericpath.py'>,\n",
              " 'posixpath': <module 'posixpath' from '/usr/lib/python3.10/posixpath.py'>,\n",
              " 'os.path': <module 'posixpath' from '/usr/lib/python3.10/posixpath.py'>,\n",
              " 'os': <module 'os' from '/usr/lib/python3.10/os.py'>,\n",
              " '_sitebuiltins': <module '_sitebuiltins' from '/usr/lib/python3.10/_sitebuiltins.py'>,\n",
              " '_distutils_hack': <module '_distutils_hack' from '/usr/local/lib/python3.10/dist-packages/_distutils_hack/__init__.py'>,\n",
              " 'importlib._bootstrap': <module '_frozen_importlib' (frozen)>,\n",
              " 'importlib._bootstrap_external': <module '_frozen_importlib_external' (frozen)>,\n",
              " 'importlib': <module 'importlib' from '/usr/lib/python3.10/importlib/__init__.py'>,\n",
              " 'importlib._abc': <module 'importlib._abc' from '/usr/lib/python3.10/importlib/_abc.py'>,\n",
              " 'contextlib': <module 'contextlib' from '/usr/lib/python3.10/contextlib.py'>,\n",
              " 'importlib.util': <module 'importlib.util' from '/usr/lib/python3.10/importlib/util.py'>,\n",
              " 'importlib.machinery': <module 'importlib.machinery' from '/usr/lib/python3.10/importlib/machinery.py'>,\n",
              " 'google': <module 'google' (<_frozen_importlib_external._NamespaceLoader object at 0x79220e56ee90>)>,\n",
              " 'google.cloud': <module 'google.cloud' (<_frozen_importlib_external._NamespaceLoader object at 0x79220e56d4e0>)>,\n",
              " 'mpl_toolkits': <module 'mpl_toolkits' (<_frozen_importlib_external._NamespaceLoader object at 0x79220e56cbe0>)>,\n",
              " 'sphinxcontrib': <module 'sphinxcontrib' (<_frozen_importlib_external._NamespaceLoader object at 0x79220e56cd60>)>,\n",
              " 'sitecustomize': <module 'sitecustomize' from '/usr/lib/python3.10/sitecustomize.py'>,\n",
              " 'site': <module 'site' from '/usr/lib/python3.10/site.py'>,\n",
              " 'runpy': <module 'runpy' from '/usr/lib/python3.10/runpy.py'>,\n",
              " 'ipykernel._version': <module 'ipykernel._version' from '/usr/local/lib/python3.10/dist-packages/ipykernel/_version.py'>,\n",
              " '_json': <module '_json' from '/usr/lib/python3.10/lib-dynload/_json.cpython-310-x86_64-linux-gnu.so'>,\n",
              " 'json.scanner': <module 'json.scanner' from '/usr/lib/python3.10/json/scanner.py'>,\n",
              " 'json.decoder': <module 'json.decoder' from '/usr/lib/python3.10/json/decoder.py'>,\n",
              " 'json.encoder': <module 'json.encoder' from '/usr/lib/python3.10/json/encoder.py'>,\n",
              " 'json': <module 'json' from '/usr/lib/python3.10/json/__init__.py'>,\n",
              " 'errno': <module 'errno' (built-in)>,\n",
              " 'signal': <module 'signal' from '/usr/lib/python3.10/signal.py'>,\n",
              " '_weakrefset': <module '_weakrefset' from '/usr/lib/python3.10/_weakrefset.py'>,\n",
              " 'threading': <module 'threading' from '/usr/lib/python3.10/threading.py'>,\n",
              " 'fcntl': <module 'fcntl' (built-in)>,\n",
              " '_posixsubprocess': <module '_posixsubprocess' (built-in)>,\n",
              " 'select': <module 'select' (built-in)>,\n",
              " 'collections.abc': <module 'collections.abc' from '/usr/lib/python3.10/collections/abc.py'>,\n",
              " 'math': <module 'math' (built-in)>,\n",
              " 'selectors': <module 'selectors' from '/usr/lib/python3.10/selectors.py'>,\n",
              " 'subprocess': <module 'subprocess' from '/usr/lib/python3.10/subprocess.py'>,\n",
              " 'IPython.core': <module 'IPython.core' from '/usr/local/lib/python3.10/dist-packages/IPython/core/__init__.py'>,\n",
              " 'IPython.core.getipython': <module 'IPython.core.getipython' from '/usr/local/lib/python3.10/dist-packages/IPython/core/getipython.py'>,\n",
              " 'IPython.core.release': <module 'IPython.core.release' from '/usr/local/lib/python3.10/dist-packages/IPython/core/release.py'>,\n",
              " 'atexit': <module 'atexit' (built-in)>,\n",
              " 'weakref': <module 'weakref' from '/usr/lib/python3.10/weakref.py'>,\n",
              " 'copy': <module 'copy' from '/usr/lib/python3.10/copy.py'>,\n",
              " 'fnmatch': <module 'fnmatch' from '/usr/lib/python3.10/fnmatch.py'>,\n",
              " 'glob': <module 'glob' from '/usr/lib/python3.10/glob.py'>,\n",
              " 'token': <module 'token' from '/usr/lib/python3.10/token.py'>,\n",
              " 'tokenize': <module 'tokenize' from '/usr/lib/python3.10/tokenize.py'>,\n",
              " 'linecache': <module 'linecache' from '/usr/lib/python3.10/linecache.py'>,\n",
              " 'traceback': <module 'traceback' from '/usr/lib/python3.10/traceback.py'>,\n",
              " '_string': <module '_string' (built-in)>,\n",
              " 'string': <module 'string' from '/usr/lib/python3.10/string.py'>,\n",
              " 'logging': <module 'logging' from '/usr/lib/python3.10/logging/__init__.py'>,\n",
              " 'zlib': <module 'zlib' (built-in)>,\n",
              " '_compression': <module '_compression' from '/usr/lib/python3.10/_compression.py'>,\n",
              " '_bz2': <module '_bz2' from '/usr/lib/python3.10/lib-dynload/_bz2.cpython-310-x86_64-linux-gnu.so'>,\n",
              " 'bz2': <module 'bz2' from '/usr/lib/python3.10/bz2.py'>,\n",
              " '_lzma': <module '_lzma' from '/usr/lib/python3.10/lib-dynload/_lzma.cpython-310-x86_64-linux-gnu.so'>,\n",
              " 'lzma': <module 'lzma' from '/usr/lib/python3.10/lzma.py'>,\n",
              " 'shutil': <module 'shutil' from '/usr/lib/python3.10/shutil.py'>,\n",
              " '_ast': <module '_ast' (built-in)>,\n",
              " 'ast': <module 'ast' from '/usr/lib/python3.10/ast.py'>,\n",
              " '_opcode': <module '_opcode' from '/usr/lib/python3.10/lib-dynload/_opcode.cpython-310-x86_64-linux-gnu.so'>,\n",
              " 'opcode': <module 'opcode' from '/usr/lib/python3.10/opcode.py'>,\n",
              " 'dis': <module 'dis' from '/usr/lib/python3.10/dis.py'>,\n",
              " 'inspect': <module 'inspect' from '/usr/lib/python3.10/inspect.py'>,\n",
              " 'typing.io': typing.io,\n",
              " 'typing.re': typing.re,\n",
              " 'typing': <module 'typing' from '/usr/lib/python3.10/typing.py'>,\n",
              " 'traitlets.utils': <module 'traitlets.utils' from '/usr/local/lib/python3.10/dist-packages/traitlets/utils/__init__.py'>,\n",
              " 'traitlets.utils.bunch': <module 'traitlets.utils.bunch' from '/usr/local/lib/python3.10/dist-packages/traitlets/utils/bunch.py'>,\n",
              " 'traitlets.utils.descriptions': <module 'traitlets.utils.descriptions' from '/usr/local/lib/python3.10/dist-packages/traitlets/utils/descriptions.py'>,\n",
              " 'traitlets.utils.getargspec': <module 'traitlets.utils.getargspec' from '/usr/local/lib/python3.10/dist-packages/traitlets/utils/getargspec.py'>,\n",
              " 'traitlets.utils.importstring': <module 'traitlets.utils.importstring' from '/usr/local/lib/python3.10/dist-packages/traitlets/utils/importstring.py'>,\n",
              " 'traitlets.utils.sentinel': <module 'traitlets.utils.sentinel' from '/usr/local/lib/python3.10/dist-packages/traitlets/utils/sentinel.py'>,\n",
              " 'traitlets.traitlets': <module 'traitlets.traitlets' from '/usr/local/lib/python3.10/dist-packages/traitlets/traitlets.py'>,\n",
              " 'traitlets._version': <module 'traitlets._version' from '/usr/local/lib/python3.10/dist-packages/traitlets/_version.py'>,\n",
              " 'traitlets.utils.decorators': <module 'traitlets.utils.decorators' from '/usr/local/lib/python3.10/dist-packages/traitlets/utils/decorators.py'>,\n",
              " 'traitlets': <module 'traitlets' from '/usr/local/lib/python3.10/dist-packages/traitlets/__init__.py'>,\n",
              " 'dataclasses': <module 'dataclasses' from '/usr/lib/python3.10/dataclasses.py'>,\n",
              " 'pprint': <module 'pprint' from '/usr/lib/python3.10/pprint.py'>,\n",
              " '_socket': <module '_socket' (built-in)>,\n",
              " 'array': <module 'array' (built-in)>,\n",
              " 'socket': <module 'socket' from '/usr/lib/python3.10/socket.py'>,\n",
              " '_struct': <module '_struct' (built-in)>,\n",
              " 'struct': <module 'struct' from '/usr/lib/python3.10/struct.py'>,\n",
              " '_compat_pickle': <module '_compat_pickle' from '/usr/lib/python3.10/_compat_pickle.py'>,\n",
              " '_pickle': <module '_pickle' (built-in)>,\n",
              " 'pickle': <module 'pickle' from '/usr/lib/python3.10/pickle.py'>,\n",
              " '_heapq': <module '_heapq' (built-in)>,\n",
              " 'heapq': <module 'heapq' from '/usr/lib/python3.10/heapq.py'>,\n",
              " '_queue': <module '_queue' from '/usr/lib/python3.10/lib-dynload/_queue.cpython-310-x86_64-linux-gnu.so'>,\n",
              " 'queue': <module 'queue' from '/usr/lib/python3.10/queue.py'>,\n",
              " 'logging.handlers': <module 'logging.handlers' from '/usr/lib/python3.10/logging/handlers.py'>,\n",
              " 'socketserver': <module 'socketserver' from '/usr/lib/python3.10/socketserver.py'>,\n",
              " 'logging.config': <module 'logging.config' from '/usr/lib/python3.10/logging/config.py'>,\n",
              " 'textwrap': <module 'textwrap' from '/usr/lib/python3.10/textwrap.py'>,\n",
              " 'traitlets.utils.text': <module 'traitlets.utils.text' from '/usr/local/lib/python3.10/dist-packages/traitlets/utils/text.py'>,\n",
              " 'gettext': <module 'gettext' from '/usr/lib/python3.10/gettext.py'>,\n",
              " 'argparse': <module 'argparse' from '/usr/lib/python3.10/argparse.py'>,\n",
              " 'traitlets.config.loader': <module 'traitlets.config.loader' from '/usr/local/lib/python3.10/dist-packages/traitlets/config/loader.py'>,\n",
              " 'traitlets.config.configurable': <module 'traitlets.config.configurable' from '/usr/local/lib/python3.10/dist-packages/traitlets/config/configurable.py'>,\n",
              " 'traitlets.utils.nested_update': <module 'traitlets.utils.nested_update' from '/usr/local/lib/python3.10/dist-packages/traitlets/utils/nested_update.py'>,\n",
              " 'traitlets.config.application': <module 'traitlets.config.application' from '/usr/local/lib/python3.10/dist-packages/traitlets/config/application.py'>,\n",
              " 'traitlets.config': <module 'traitlets.config' from '/usr/local/lib/python3.10/dist-packages/traitlets/config/__init__.py'>,\n",
              " 'pkgutil': <module 'pkgutil' from '/usr/lib/python3.10/pkgutil.py'>,\n",
              " 'platform': <module 'platform' from '/usr/lib/python3.10/platform.py'>,\n",
              " 'sysconfig': <module 'sysconfig' from '/usr/lib/python3.10/sysconfig.py'>,\n",
              " 'urllib': <module 'urllib' from '/usr/lib/python3.10/urllib/__init__.py'>,\n",
              " 'urllib.parse': <module 'urllib.parse' from '/usr/lib/python3.10/urllib/parse.py'>,\n",
              " '_sysconfigdata__x86_64-linux-gnu': <module '_sysconfigdata__x86_64-linux-gnu' from '/usr/lib/python3.10/_sysconfigdata__x86_64-linux-gnu.py'>,\n",
              " 'pydoc': <module 'pydoc' from '/usr/lib/python3.10/pydoc.py'>,\n",
              " 'bdb': <module 'bdb' from '/usr/lib/python3.10/bdb.py'>,\n",
              " 'IPython.utils': <module 'IPython.utils' from '/usr/local/lib/python3.10/dist-packages/IPython/utils/__init__.py'>,\n",
              " 'IPython.utils.ipstruct': <module 'IPython.utils.ipstruct' from '/usr/local/lib/python3.10/dist-packages/IPython/utils/ipstruct.py'>,\n",
              " 'IPython.utils.coloransi': <module 'IPython.utils.coloransi' from '/usr/local/lib/python3.10/dist-packages/IPython/utils/coloransi.py'>,\n",
              " 'pygments': <module 'pygments' from '/usr/local/lib/python3.10/dist-packages/pygments/__init__.py'>,\n",
              " 'IPython.utils.colorable': <module 'IPython.utils.colorable' from '/usr/local/lib/python3.10/dist-packages/IPython/utils/colorable.py'>,\n",
              " 'IPython.utils.PyColorize': <module 'IPython.utils.PyColorize' from '/usr/local/lib/python3.10/dist-packages/IPython/utils/PyColorize.py'>,\n",
              " 'locale': <module 'locale' from '/usr/lib/python3.10/locale.py'>,\n",
              " 'IPython.utils.encoding': <module 'IPython.utils.encoding' from '/usr/local/lib/python3.10/dist-packages/IPython/utils/encoding.py'>,\n",
              " 'IPython.utils.py3compat': <module 'IPython.utils.py3compat' from '/usr/local/lib/python3.10/dist-packages/IPython/utils/py3compat.py'>,\n",
              " 'IPython.core.excolors': <module 'IPython.core.excolors' from '/usr/local/lib/python3.10/dist-packages/IPython/core/excolors.py'>,\n",
              " 'IPython.testing': <module 'IPython.testing' from '/usr/local/lib/python3.10/dist-packages/IPython/testing/__init__.py'>,\n",
              " 'IPython.testing.skipdoctest': <module 'IPython.testing.skipdoctest' from '/usr/local/lib/python3.10/dist-packages/IPython/testing/skipdoctest.py'>,\n",
              " 'cmd': <module 'cmd' from '/usr/lib/python3.10/cmd.py'>,\n",
              " '__future__': <module '__future__' from '/usr/lib/python3.10/__future__.py'>,\n",
              " 'codeop': <module 'codeop' from '/usr/lib/python3.10/codeop.py'>,\n",
              " 'code': <module 'code' from '/usr/lib/python3.10/code.py'>,\n",
              " 'pdb': <module 'pdb' from '/usr/lib/python3.10/pdb.py'>,\n",
              " 'IPython.core.debugger': <module 'IPython.core.debugger' from '/usr/local/lib/python3.10/dist-packages/IPython/core/debugger.py'>,\n",
              " 'IPython.core.display_trap': <module 'IPython.core.display_trap' from '/usr/local/lib/python3.10/dist-packages/IPython/core/display_trap.py'>,\n",
              " '_bisect': <module '_bisect' (built-in)>,\n",
              " 'bisect': <module 'bisect' from '/usr/lib/python3.10/bisect.py'>,\n",
              " '_random': <module '_random' (built-in)>,\n",
              " '_sha512': <module '_sha512' (built-in)>,\n",
              " 'random': <module 'random' from '/usr/lib/python3.10/random.py'>,\n",
              " 'pexpect.exceptions': <module 'pexpect.exceptions' from '/usr/local/lib/python3.10/dist-packages/pexpect/exceptions.py'>,\n",
              " 'pexpect.utils': <module 'pexpect.utils' from '/usr/local/lib/python3.10/dist-packages/pexpect/utils.py'>,\n",
              " 'pexpect.expect': <module 'pexpect.expect' from '/usr/local/lib/python3.10/dist-packages/pexpect/expect.py'>,\n",
              " 'termios': <module 'termios' from '/usr/lib/python3.10/lib-dynload/termios.cpython-310-x86_64-linux-gnu.so'>,\n",
              " 'tty': <module 'tty' from '/usr/lib/python3.10/tty.py'>,\n",
              " 'pty': <module 'pty' from '/usr/lib/python3.10/pty.py'>,\n",
              " 'resource': <module 'resource' from '/usr/lib/python3.10/lib-dynload/resource.cpython-310-x86_64-linux-gnu.so'>,\n",
              " 'ptyprocess.util': <module 'ptyprocess.util' from '/usr/local/lib/python3.10/dist-packages/ptyprocess/util.py'>,\n",
              " 'ptyprocess.ptyprocess': <module 'ptyprocess.ptyprocess' from '/usr/local/lib/python3.10/dist-packages/ptyprocess/ptyprocess.py'>,\n",
              " 'ptyprocess': <module 'ptyprocess' from '/usr/local/lib/python3.10/dist-packages/ptyprocess/__init__.py'>,\n",
              " 'pexpect.spawnbase': <module 'pexpect.spawnbase' from '/usr/local/lib/python3.10/dist-packages/pexpect/spawnbase.py'>,\n",
              " 'pexpect.pty_spawn': <module 'pexpect.pty_spawn' from '/usr/local/lib/python3.10/dist-packages/pexpect/pty_spawn.py'>,\n",
              " 'pexpect.run': <module 'pexpect.run' from '/usr/local/lib/python3.10/dist-packages/pexpect/run.py'>,\n",
              " 'pexpect': <module 'pexpect' from '/usr/local/lib/python3.10/dist-packages/pexpect/__init__.py'>,\n",
              " 'shlex': <module 'shlex' from '/usr/lib/python3.10/shlex.py'>,\n",
              " 'IPython.utils._process_common': <module 'IPython.utils._process_common' from '/usr/local/lib/python3.10/dist-packages/IPython/utils/_process_common.py'>,\n",
              " 'IPython.utils._process_posix': <module 'IPython.utils._process_posix' from '/usr/local/lib/python3.10/dist-packages/IPython/utils/_process_posix.py'>,\n",
              " 'IPython.utils.process': <module 'IPython.utils.process' from '/usr/local/lib/python3.10/dist-packages/IPython/utils/process.py'>,\n",
              " 'IPython.utils.decorators': <module 'IPython.utils.decorators' from '/usr/local/lib/python3.10/dist-packages/IPython/utils/decorators.py'>,\n",
              " 'IPython.utils.path': <module 'IPython.utils.path' from '/usr/local/lib/python3.10/dist-packages/IPython/utils/path.py'>,\n",
              " 'IPython.utils.data': <module 'IPython.utils.data' from '/usr/local/lib/python3.10/dist-packages/IPython/utils/data.py'>,\n",
              " 'IPython.utils.terminal': <module 'IPython.utils.terminal' from '/usr/local/lib/python3.10/dist-packages/IPython/utils/terminal.py'>,\n",
              " 'IPython.core.ultratb': <module 'IPython.core.ultratb' from '/usr/local/lib/python3.10/dist-packages/IPython/core/ultratb.py'>,\n",
              " 'IPython.utils._sysinfo': <module 'IPython.utils._sysinfo' from '/usr/local/lib/python3.10/dist-packages/IPython/utils/_sysinfo.py'>,\n",
              " 'IPython.utils.sysinfo': <module 'IPython.utils.sysinfo' from '/usr/local/lib/python3.10/dist-packages/IPython/utils/sysinfo.py'>,\n",
              " 'IPython.core.crashhandler': <module 'IPython.core.crashhandler' from '/usr/local/lib/python3.10/dist-packages/IPython/core/crashhandler.py'>,\n",
              " 'tempfile': <module 'tempfile' from '/usr/lib/python3.10/tempfile.py'>,\n",
              " 'IPython.utils.importstring': <module 'IPython.utils.importstring' from '/usr/local/lib/python3.10/dist-packages/IPython/utils/importstring.py'>,\n",
              " 'IPython.paths': <module 'IPython.paths' from '/usr/local/lib/python3.10/dist-packages/IPython/paths.py'>,\n",
              " 'IPython.core.profiledir': <module 'IPython.core.profiledir' from '/usr/local/lib/python3.10/dist-packages/IPython/core/profiledir.py'>,\n",
              " 'IPython.core.application': <module 'IPython.core.application' from '/usr/local/lib/python3.10/dist-packages/IPython/core/application.py'>,\n",
              " 'IPython.terminal': <module 'IPython.terminal' from '/usr/local/lib/python3.10/dist-packages/IPython/terminal/__init__.py'>,\n",
              " '_hashlib': <module '_hashlib' from '/usr/lib/python3.10/lib-dynload/_hashlib.cpython-310-x86_64-linux-gnu.so'>,\n",
              " '_blake2': <module '_blake2' (built-in)>,\n",
              " 'hashlib': <module 'hashlib' from '/usr/lib/python3.10/hashlib.py'>,\n",
              " 'IPython.core.compilerop': <module 'IPython.core.compilerop' from '/usr/local/lib/python3.10/dist-packages/IPython/core/compilerop.py'>,\n",
              " 'IPython.core.error': <module 'IPython.core.error' from '/usr/local/lib/python3.10/dist-packages/IPython/core/error.py'>,\n",
              " 'ntpath': <module 'ntpath' from '/usr/lib/python3.10/ntpath.py'>,\n",
              " 'pathlib': <module 'pathlib' from '/usr/lib/python3.10/pathlib.py'>,\n",
              " 'IPython.utils.text': <module 'IPython.utils.text' from '/usr/local/lib/python3.10/dist-packages/IPython/utils/text.py'>,\n",
              " 'IPython.core.magic_arguments': <module 'IPython.core.magic_arguments' from '/usr/local/lib/python3.10/dist-packages/IPython/core/magic_arguments.py'>,\n",
              " 'getopt': <module 'getopt' from '/usr/lib/python3.10/getopt.py'>,\n",
              " 'binascii': <module 'binascii' (built-in)>,\n",
              " 'mimetypes': <module 'mimetypes' from '/usr/lib/python3.10/mimetypes.py'>,\n",
              " 'IPython.core.display': <module 'IPython.core.display' from '/usr/local/lib/python3.10/dist-packages/IPython/core/display.py'>,\n",
              " 'IPython.core.page': <module 'IPython.core.page' from '/usr/local/lib/python3.10/dist-packages/IPython/core/page.py'>,\n",
              " 'getpass': <module 'getpass' from '/usr/lib/python3.10/getpass.py'>,\n",
              " 'IPython.lib.security': <module 'IPython.lib.security' from '/usr/local/lib/python3.10/dist-packages/IPython/lib/security.py'>,\n",
              " 'IPython.lib': <module 'IPython.lib' from '/usr/local/lib/python3.10/dist-packages/IPython/lib/__init__.py'>,\n",
              " '_datetime': <module '_datetime' (built-in)>,\n",
              " 'datetime': <module 'datetime' from '/usr/lib/python3.10/datetime.py'>,\n",
              " 'IPython.lib.pretty': <module 'IPython.lib.pretty' from '/usr/local/lib/python3.10/dist-packages/IPython/lib/pretty.py'>,\n",
              " 'IPython.utils.openpy': <module 'IPython.utils.openpy' from '/usr/local/lib/python3.10/dist-packages/IPython/utils/openpy.py'>,\n",
              " 'IPython.utils.dir2': <module 'IPython.utils.dir2' from '/usr/local/lib/python3.10/dist-packages/IPython/utils/dir2.py'>,\n",
              " 'IPython.utils.wildcard': <module 'IPython.utils.wildcard' from '/usr/local/lib/python3.10/dist-packages/IPython/utils/wildcard.py'>,\n",
              " 'pygments.lexers._mapping': <module 'pygments.lexers._mapping' from '/usr/local/lib/python3.10/dist-packages/pygments/lexers/_mapping.py'>,\n",
              " 'pygments.modeline': <module 'pygments.modeline' from '/usr/local/lib/python3.10/dist-packages/pygments/modeline.py'>,\n",
              " 'pygments.plugin': <module 'pygments.plugin' from '/usr/local/lib/python3.10/dist-packages/pygments/plugin.py'>,\n",
              " 'pygments.util': <module 'pygments.util' from '/usr/local/lib/python3.10/dist-packages/pygments/util.py'>,\n",
              " 'pygments.lexers': <module 'pygments.lexers' from '/usr/local/lib/python3.10/dist-packages/pygments/lexers/__init__.py'>,\n",
              " 'pygments.filter': <module 'pygments.filter' from '/usr/local/lib/python3.10/dist-packages/pygments/filter.py'>,\n",
              " 'pygments.token': <module 'pygments.token' from '/usr/local/lib/python3.10/dist-packages/pygments/token.py'>,\n",
              " 'pygments.filters': <module 'pygments.filters' from '/usr/local/lib/python3.10/dist-packages/pygments/filters/__init__.py'>,\n",
              " 'pygments.regexopt': <module 'pygments.regexopt' from '/usr/local/lib/python3.10/dist-packages/pygments/regexopt.py'>,\n",
              " 'pygments.lexer': <module 'pygments.lexer' from '/usr/local/lib/python3.10/dist-packages/pygments/lexer.py'>,\n",
              " 'pygments.unistring': <module 'pygments.unistring' from '/usr/local/lib/python3.10/dist-packages/pygments/unistring.py'>,\n",
              " 'pygments.lexers.python': <module 'pygments.lexers.python' from '/usr/local/lib/python3.10/dist-packages/pygments/lexers/python.py'>,\n",
              " 'pygments.formatters._mapping': <module 'pygments.formatters._mapping' from '/usr/local/lib/python3.10/dist-packages/pygments/formatters/_mapping.py'>,\n",
              " 'pygments.formatters': <module 'pygments.formatters' from '/usr/local/lib/python3.10/dist-packages/pygments/formatters/__init__.py'>,\n",
              " 'pygments.styles': <module 'pygments.styles' from '/usr/local/lib/python3.10/dist-packages/pygments/styles/__init__.py'>,\n",
              " 'pygments.formatter': <module 'pygments.formatter' from '/usr/local/lib/python3.10/dist-packages/pygments/formatter.py'>,\n",
              " 'pygments.formatters.html': <module 'pygments.formatters.html' from '/usr/local/lib/python3.10/dist-packages/pygments/formatters/html.py'>,\n",
              " 'IPython.core.oinspect': <module 'IPython.core.oinspect' from '/usr/local/lib/python3.10/dist-packages/IPython/core/oinspect.py'>,\n",
              " 'IPython.core.inputtransformer2': <module 'IPython.core.inputtransformer2' from '/usr/local/lib/python3.10/dist-packages/IPython/core/inputtransformer2.py'>,\n",
              " 'decorator': <module 'decorator' from '/usr/local/lib/python3.10/dist-packages/decorator.py'>,\n",
              " 'IPython.core.magic': <module 'IPython.core.magic' from '/usr/local/lib/python3.10/dist-packages/IPython/core/magic.py'>,\n",
              " 'pickleshare': <module 'pickleshare' from '/usr/local/lib/python3.10/dist-packages/pickleshare.py'>,\n",
              " 'IPython.core.autocall': <module 'IPython.core.autocall' from '/usr/local/lib/python3.10/dist-packages/IPython/core/autocall.py'>,\n",
              " 'IPython.core.macro': <module 'IPython.core.macro' from '/usr/local/lib/python3.10/dist-packages/IPython/core/macro.py'>,\n",
              " 'IPython.core.splitinput': <module 'IPython.core.splitinput' from '/usr/local/lib/python3.10/dist-packages/IPython/core/splitinput.py'>,\n",
              " 'IPython.core.prefilter': <module 'IPython.core.prefilter' from '/usr/local/lib/python3.10/dist-packages/IPython/core/prefilter.py'>,\n",
              " 'IPython.core.alias': <module 'IPython.core.alias' from '/usr/local/lib/python3.10/dist-packages/IPython/core/alias.py'>,\n",
              " 'IPython.core.builtin_trap': <module 'IPython.core.builtin_trap' from '/usr/local/lib/python3.10/dist-packages/IPython/core/builtin_trap.py'>,\n",
              " 'backcall.backcall': <module 'backcall.backcall' from '/usr/local/lib/python3.10/dist-packages/backcall/backcall.py'>,\n",
              " 'backcall': <module 'backcall' from '/usr/local/lib/python3.10/dist-packages/backcall/__init__.py'>,\n",
              " 'IPython.core.events': <module 'IPython.core.events' from '/usr/local/lib/python3.10/dist-packages/IPython/core/events.py'>,\n",
              " 'IPython.core.displayhook': <module 'IPython.core.displayhook' from '/usr/local/lib/python3.10/dist-packages/IPython/core/displayhook.py'>,\n",
              " 'IPython.core.displaypub': <module 'IPython.core.displaypub' from '/usr/local/lib/python3.10/dist-packages/IPython/core/displaypub.py'>,\n",
              " 'IPython.core.extensions': <module 'IPython.core.extensions' from '/usr/local/lib/python3.10/dist-packages/IPython/core/extensions.py'>,\n",
              " 'IPython.utils.sentinel': <module 'IPython.utils.sentinel' from '/usr/local/lib/python3.10/dist-packages/IPython/utils/sentinel.py'>,\n",
              " 'IPython.core.formatters': <module 'IPython.core.formatters' from '/usr/local/lib/python3.10/dist-packages/IPython/core/formatters.py'>,\n",
              " '_sqlite3': <module '_sqlite3' from '/usr/lib/python3.10/lib-dynload/_sqlite3.cpython-310-x86_64-linux-gnu.so'>,\n",
              " 'sqlite3.dbapi2': <module 'sqlite3.dbapi2' from '/usr/lib/python3.10/sqlite3/dbapi2.py'>,\n",
              " 'sqlite3': <module 'sqlite3' from '/usr/lib/python3.10/sqlite3/__init__.py'>,\n",
              " 'IPython.core.history': <module 'IPython.core.history' from '/usr/local/lib/python3.10/dist-packages/IPython/core/history.py'>,\n",
              " 'IPython.core.logger': <module 'IPython.core.logger' from '/usr/local/lib/python3.10/dist-packages/IPython/core/logger.py'>,\n",
              " 'IPython.core.payload': <module 'IPython.core.payload' from '/usr/local/lib/python3.10/dist-packages/IPython/core/payload.py'>,\n",
              " 'IPython.core.usage': <module 'IPython.core.usage' from '/usr/local/lib/python3.10/dist-packages/IPython/core/usage.py'>,\n",
              " 'html.entities': <module 'html.entities' from '/usr/lib/python3.10/html/entities.py'>,\n",
              " 'html': <module 'html' from '/usr/lib/python3.10/html/__init__.py'>,\n",
              " 'IPython.lib.display': <module 'IPython.lib.display' from '/usr/local/lib/python3.10/dist-packages/IPython/lib/display.py'>,\n",
              " 'IPython.display': <module 'IPython.display' from '/usr/local/lib/python3.10/dist-packages/IPython/display.py'>,\n",
              " 'IPython.utils.capture': <module 'IPython.utils.capture' from '/usr/local/lib/python3.10/dist-packages/IPython/utils/capture.py'>,\n",
              " 'IPython.utils.io': <module 'IPython.utils.io' from '/usr/local/lib/python3.10/dist-packages/IPython/utils/io.py'>,\n",
              " 'IPython.core.hooks': <module 'IPython.core.hooks' from '/usr/local/lib/python3.10/dist-packages/IPython/core/hooks.py'>,\n",
              " 'IPython.utils.strdispatch': <module 'IPython.utils.strdispatch' from '/usr/local/lib/python3.10/dist-packages/IPython/utils/strdispatch.py'>,\n",
              " 'IPython.utils.syspathcontext': <module 'IPython.utils.syspathcontext' from '/usr/local/lib/python3.10/dist-packages/IPython/utils/syspathcontext.py'>,\n",
              " 'IPython.utils.tempdir': <module 'IPython.utils.tempdir' from '/usr/local/lib/python3.10/dist-packages/IPython/utils/tempdir.py'>,\n",
              " 'IPython.utils.contexts': <module 'IPython.utils.contexts' from '/usr/local/lib/python3.10/dist-packages/IPython/utils/contexts.py'>,\n",
              " 'concurrent': <module 'concurrent' from '/usr/lib/python3.10/concurrent/__init__.py'>,\n",
              " 'concurrent.futures._base': <module 'concurrent.futures._base' from '/usr/lib/python3.10/concurrent/futures/_base.py'>,\n",
              " 'concurrent.futures': <module 'concurrent.futures' from '/usr/lib/python3.10/concurrent/futures/__init__.py'>,\n",
              " '_ssl': <module '_ssl' from '/usr/lib/python3.10/lib-dynload/_ssl.cpython-310-x86_64-linux-gnu.so'>,\n",
              " 'base64': <module 'base64' from '/usr/lib/python3.10/base64.py'>,\n",
              " 'ssl': <module 'ssl' from '/usr/lib/python3.10/ssl.py'>,\n",
              " 'asyncio.constants': <module 'asyncio.constants' from '/usr/lib/python3.10/asyncio/constants.py'>,\n",
              " 'asyncio.format_helpers': <module 'asyncio.format_helpers' from '/usr/lib/python3.10/asyncio/format_helpers.py'>,\n",
              " 'asyncio.base_futures': <module 'asyncio.base_futures' from '/usr/lib/python3.10/asyncio/base_futures.py'>,\n",
              " 'asyncio.log': <module 'asyncio.log' from '/usr/lib/python3.10/asyncio/log.py'>,\n",
              " 'asyncio.coroutines': <module 'asyncio.coroutines' from '/usr/lib/python3.10/asyncio/coroutines.py'>,\n",
              " '_contextvars': <module '_contextvars' from '/usr/lib/python3.10/lib-dynload/_contextvars.cpython-310-x86_64-linux-gnu.so'>,\n",
              " 'contextvars': <module 'contextvars' from '/usr/lib/python3.10/contextvars.py'>,\n",
              " 'asyncio.exceptions': <module 'asyncio.exceptions' from '/usr/lib/python3.10/asyncio/exceptions.py'>,\n",
              " 'asyncio.base_tasks': <module 'asyncio.base_tasks' from '/usr/lib/python3.10/asyncio/base_tasks.py'>,\n",
              " '_asyncio': <module '_asyncio' from '/usr/lib/python3.10/lib-dynload/_asyncio.cpython-310-x86_64-linux-gnu.so'>,\n",
              " 'asyncio.events': <module 'asyncio.events' from '/usr/lib/python3.10/asyncio/events.py'>,\n",
              " 'asyncio.futures': <module 'asyncio.futures' from '/usr/lib/python3.10/asyncio/futures.py'>,\n",
              " 'asyncio.protocols': <module 'asyncio.protocols' from '/usr/lib/python3.10/asyncio/protocols.py'>,\n",
              " 'asyncio.transports': <module 'asyncio.transports' from '/usr/lib/python3.10/asyncio/transports.py'>,\n",
              " 'asyncio.sslproto': <module 'asyncio.sslproto' from '/usr/lib/python3.10/asyncio/sslproto.py'>,\n",
              " 'asyncio.mixins': <module 'asyncio.mixins' from '/usr/lib/python3.10/asyncio/mixins.py'>,\n",
              " 'asyncio.tasks': <module 'asyncio.tasks' from '/usr/lib/python3.10/asyncio/tasks.py'>,\n",
              " 'asyncio.locks': <module 'asyncio.locks' from '/usr/lib/python3.10/asyncio/locks.py'>,\n",
              " 'asyncio.staggered': <module 'asyncio.staggered' from '/usr/lib/python3.10/asyncio/staggered.py'>,\n",
              " 'asyncio.trsock': <module 'asyncio.trsock' from '/usr/lib/python3.10/asyncio/trsock.py'>,\n",
              " 'asyncio.base_events': <module 'asyncio.base_events' from '/usr/lib/python3.10/asyncio/base_events.py'>,\n",
              " 'asyncio.runners': <module 'asyncio.runners' from '/usr/lib/python3.10/asyncio/runners.py'>,\n",
              " 'asyncio.queues': <module 'asyncio.queues' from '/usr/lib/python3.10/asyncio/queues.py'>,\n",
              " 'asyncio.streams': <module 'asyncio.streams' from '/usr/lib/python3.10/asyncio/streams.py'>,\n",
              " 'asyncio.subprocess': <module 'asyncio.subprocess' from '/usr/lib/python3.10/asyncio/subprocess.py'>,\n",
              " 'asyncio.threads': <module 'asyncio.threads' from '/usr/lib/python3.10/asyncio/threads.py'>,\n",
              " 'asyncio.base_subprocess': <module 'asyncio.base_subprocess' from '/usr/lib/python3.10/asyncio/base_subprocess.py'>,\n",
              " 'asyncio.selector_events': <module 'asyncio.selector_events' from '/usr/lib/python3.10/asyncio/selector_events.py'>,\n",
              " 'asyncio.unix_events': <module 'asyncio.unix_events' from '/usr/lib/python3.10/asyncio/unix_events.py'>,\n",
              " 'asyncio': <module 'asyncio' from '/usr/lib/python3.10/asyncio/__init__.py'>,\n",
              " 'IPython.core.async_helpers': <module 'IPython.core.async_helpers' from '/usr/local/lib/python3.10/dist-packages/IPython/core/async_helpers.py'>,\n",
              " 'IPython.core.interactiveshell': <module 'IPython.core.interactiveshell' from '/usr/local/lib/python3.10/dist-packages/IPython/core/interactiveshell.py'>,\n",
              " 'prompt_toolkit.application.current': <module 'prompt_toolkit.application.current' from '/usr/local/lib/python3.10/dist-packages/prompt_toolkit/application/current.py'>,\n",
              " 'prompt_toolkit.eventloop.utils': <module 'prompt_toolkit.eventloop.utils' from '/usr/local/lib/python3.10/dist-packages/prompt_toolkit/eventloop/utils.py'>,\n",
              " 'prompt_toolkit.eventloop.async_generator': <module 'prompt_toolkit.eventloop.async_generator' from '/usr/local/lib/python3.10/dist-packages/prompt_toolkit/eventloop/async_generator.py'>,\n",
              " 'prompt_toolkit.eventloop.inputhook': <module 'prompt_toolkit.eventloop.inputhook' from '/usr/local/lib/python3.10/dist-packages/prompt_toolkit/eventloop/inputhook.py'>,\n",
              " 'prompt_toolkit.eventloop': <module 'prompt_toolkit.eventloop' from '/usr/local/lib/python3.10/dist-packages/prompt_toolkit/eventloop/__init__.py'>,\n",
              " 'prompt_toolkit.application.run_in_terminal': <module 'prompt_toolkit.application.run_in_terminal' from '/usr/local/lib/python3.10/dist-packages/prompt_toolkit/application/run_in_terminal.py'>,\n",
              " 'prompt_toolkit.selection': <module 'prompt_toolkit.selection' from '/usr/local/lib/python3.10/dist-packages/prompt_toolkit/selection.py'>,\n",
              " 'prompt_toolkit.clipboard.base': <module 'prompt_toolkit.clipboard.base' from '/usr/local/lib/python3.10/dist-packages/prompt_toolkit/clipboard/base.py'>,\n",
              " 'prompt_toolkit.clipboard.in_memory': <module 'prompt_toolkit.clipboard.in_memory' from '/usr/local/lib/python3.10/dist-packages/prompt_toolkit/clipboard/in_memory.py'>,\n",
              " 'prompt_toolkit.clipboard': <module 'prompt_toolkit.clipboard' from '/usr/local/lib/python3.10/dist-packages/prompt_toolkit/clipboard/__init__.py'>,\n",
              " 'prompt_toolkit.cache': <module 'prompt_toolkit.cache' from '/usr/local/lib/python3.10/dist-packages/prompt_toolkit/cache.py'>,\n",
              " 'prompt_toolkit.enums': <module 'prompt_toolkit.enums' from '/usr/local/lib/python3.10/dist-packages/prompt_toolkit/enums.py'>,\n",
              " 'prompt_toolkit.filters.base': <module 'prompt_toolkit.filters.base' from '/usr/local/lib/python3.10/dist-packages/prompt_toolkit/filters/base.py'>,\n",
              " 'prompt_toolkit.filters.app': <module 'prompt_toolkit.filters.app' from '/usr/local/lib/python3.10/dist-packages/prompt_toolkit/filters/app.py'>,\n",
              " 'prompt_toolkit.filters.cli': <module 'prompt_toolkit.filters.cli' from '/usr/local/lib/python3.10/dist-packages/prompt_toolkit/filters/cli.py'>,\n",
              " 'prompt_toolkit.filters.utils': <module 'prompt_toolkit.filters.utils' from '/usr/local/lib/python3.10/dist-packages/prompt_toolkit/filters/utils.py'>,\n",
              " 'prompt_toolkit.filters': <module 'prompt_toolkit.filters' from '/usr/local/lib/python3.10/dist-packages/prompt_toolkit/filters/__init__.py'>,\n",
              " 'prompt_toolkit.document': <module 'prompt_toolkit.document' from '/usr/local/lib/python3.10/dist-packages/prompt_toolkit/document.py'>,\n",
              " 'prompt_toolkit.auto_suggest': <module 'prompt_toolkit.auto_suggest' from '/usr/local/lib/python3.10/dist-packages/prompt_toolkit/auto_suggest.py'>,\n",
              " 'prompt_toolkit.keys': <module 'prompt_toolkit.keys' from '/usr/local/lib/python3.10/dist-packages/prompt_toolkit/keys.py'>,\n",
              " 'prompt_toolkit.key_binding.key_bindings': <module 'prompt_toolkit.key_binding.key_bindings' from '/usr/local/lib/python3.10/dist-packages/prompt_toolkit/key_binding/key_bindings.py'>,\n",
              " 'wcwidth.table_vs16': <module 'wcwidth.table_vs16' from '/usr/local/lib/python3.10/dist-packages/wcwidth/table_vs16.py'>,\n",
              " 'wcwidth.table_wide': <module 'wcwidth.table_wide' from '/usr/local/lib/python3.10/dist-packages/wcwidth/table_wide.py'>,\n",
              " 'wcwidth.table_zero': <module 'wcwidth.table_zero' from '/usr/local/lib/python3.10/dist-packages/wcwidth/table_zero.py'>,\n",
              " 'wcwidth.unicode_versions': <module 'wcwidth.unicode_versions' from '/usr/local/lib/python3.10/dist-packages/wcwidth/unicode_versions.py'>,\n",
              " 'wcwidth.wcwidth': <module 'wcwidth.wcwidth' from '/usr/local/lib/python3.10/dist-packages/wcwidth/wcwidth.py'>,\n",
              " 'wcwidth': <module 'wcwidth' from '/usr/local/lib/python3.10/dist-packages/wcwidth/__init__.py'>,\n",
              " 'prompt_toolkit.utils': <module 'prompt_toolkit.utils' from '/usr/local/lib/python3.10/dist-packages/prompt_toolkit/utils.py'>,\n",
              " 'prompt_toolkit.key_binding.key_processor': <module 'prompt_toolkit.key_binding.key_processor' from '/usr/local/lib/python3.10/dist-packages/prompt_toolkit/key_binding/key_processor.py'>,\n",
              " 'prompt_toolkit.key_binding': <module 'prompt_toolkit.key_binding' from '/usr/local/lib/python3.10/dist-packages/prompt_toolkit/key_binding/__init__.py'>,\n",
              " 'prompt_toolkit.key_binding.vi_state': <module 'prompt_toolkit.key_binding.vi_state' from '/usr/local/lib/python3.10/dist-packages/prompt_toolkit/key_binding/vi_state.py'>,\n",
              " 'prompt_toolkit.cursor_shapes': <module 'prompt_toolkit.cursor_shapes' from '/usr/local/lib/python3.10/dist-packages/prompt_toolkit/cursor_shapes.py'>,\n",
              " 'prompt_toolkit.data_structures': <module 'prompt_toolkit.data_structures' from '/usr/local/lib/python3.10/dist-packages/prompt_toolkit/data_structures.py'>,\n",
              " 'prompt_toolkit.styles.base': <module 'prompt_toolkit.styles.base' from '/usr/local/lib/python3.10/dist-packages/prompt_toolkit/styles/base.py'>,\n",
              " 'prompt_toolkit.styles.named_colors': <module 'prompt_toolkit.styles.named_colors' from '/usr/local/lib/python3.10/dist-packages/prompt_toolkit/styles/named_colors.py'>,\n",
              " 'prompt_toolkit.styles.style': <module 'prompt_toolkit.styles.style' from '/usr/local/lib/python3.10/dist-packages/prompt_toolkit/styles/style.py'>,\n",
              " 'prompt_toolkit.styles.defaults': <module 'prompt_toolkit.styles.defaults' from '/usr/local/lib/python3.10/dist-packages/prompt_toolkit/styles/defaults.py'>,\n",
              " 'prompt_toolkit.styles.pygments': <module 'prompt_toolkit.styles.pygments' from '/usr/local/lib/python3.10/dist-packages/prompt_toolkit/styles/pygments.py'>,\n",
              " 'colorsys': <module 'colorsys' from '/usr/lib/python3.10/colorsys.py'>,\n",
              " 'prompt_toolkit.styles.style_transformation': <module 'prompt_toolkit.styles.style_transformation' from '/usr/local/lib/python3.10/dist-packages/prompt_toolkit/styles/style_transformation.py'>,\n",
              " 'prompt_toolkit.styles': <module 'prompt_toolkit.styles' from '/usr/local/lib/python3.10/dist-packages/prompt_toolkit/styles/__init__.py'>,\n",
              " 'prompt_toolkit.output.color_depth': <module 'prompt_toolkit.output.color_depth' from '/usr/local/lib/python3.10/dist-packages/prompt_toolkit/output/color_depth.py'>,\n",
              " 'prompt_toolkit.output.base': <module 'prompt_toolkit.output.base' from '/usr/local/lib/python3.10/dist-packages/prompt_toolkit/output/base.py'>,\n",
              " 'prompt_toolkit.output.flush_stdout': <module 'prompt_toolkit.output.flush_stdout' from '/usr/local/lib/python3.10/dist-packages/prompt_toolkit/output/flush_stdout.py'>,\n",
              " 'prompt_toolkit.output.plain_text': <module 'prompt_toolkit.output.plain_text' from '/usr/local/lib/python3.10/dist-packages/prompt_toolkit/output/plain_text.py'>,\n",
              " 'prompt_toolkit.output.defaults': <module 'prompt_toolkit.output.defaults' from '/usr/local/lib/python3.10/dist-packages/prompt_toolkit/output/defaults.py'>,\n",
              " 'prompt_toolkit.output': <module 'prompt_toolkit.output' from '/usr/local/lib/python3.10/dist-packages/prompt_toolkit/output/__init__.py'>,\n",
              " 'prompt_toolkit.output.vt100': <module 'prompt_toolkit.output.vt100' from '/usr/local/lib/python3.10/dist-packages/prompt_toolkit/output/vt100.py'>,\n",
              " 'prompt_toolkit.mouse_events': <module 'prompt_toolkit.mouse_events' from '/usr/local/lib/python3.10/dist-packages/prompt_toolkit/mouse_events.py'>,\n",
              " 'prompt_toolkit.formatted_text.base': <module 'prompt_toolkit.formatted_text.base' from '/usr/local/lib/python3.10/dist-packages/prompt_toolkit/formatted_text/base.py'>,\n",
              " 'prompt_toolkit.formatted_text.ansi': <module 'prompt_toolkit.formatted_text.ansi' from '/usr/local/lib/python3.10/dist-packages/prompt_toolkit/formatted_text/ansi.py'>,\n",
              " 'xml': <module 'xml' from '/usr/lib/python3.10/xml/__init__.py'>,\n",
              " 'xml.dom.domreg': <module 'xml.dom.domreg' from '/usr/lib/python3.10/xml/dom/domreg.py'>,\n",
              " 'xml.dom': <module 'xml.dom' from '/usr/lib/python3.10/xml/dom/__init__.py'>,\n",
              " 'xml.dom.minicompat': <module 'xml.dom.minicompat' from '/usr/lib/python3.10/xml/dom/minicompat.py'>,\n",
              " 'xml.dom.NodeFilter': <module 'xml.dom.NodeFilter' from '/usr/lib/python3.10/xml/dom/NodeFilter.py'>,\n",
              " 'xml.dom.xmlbuilder': <module 'xml.dom.xmlbuilder' from '/usr/lib/python3.10/xml/dom/xmlbuilder.py'>,\n",
              " 'xml.dom.minidom': <module 'xml.dom.minidom' from '/usr/lib/python3.10/xml/dom/minidom.py'>,\n",
              " 'prompt_toolkit.formatted_text.html': <module 'prompt_toolkit.formatted_text.html' from '/usr/local/lib/python3.10/dist-packages/prompt_toolkit/formatted_text/html.py'>,\n",
              " 'prompt_toolkit.formatted_text.pygments': <module 'prompt_toolkit.formatted_text.pygments' from '/usr/local/lib/python3.10/dist-packages/prompt_toolkit/formatted_text/pygments.py'>,\n",
              " 'prompt_toolkit.formatted_text.utils': <module 'prompt_toolkit.formatted_text.utils' from '/usr/local/lib/python3.10/dist-packages/prompt_toolkit/formatted_text/utils.py'>,\n",
              " 'prompt_toolkit.formatted_text': <module 'prompt_toolkit.formatted_text' from '/usr/local/lib/python3.10/dist-packages/prompt_toolkit/formatted_text/__init__.py'>,\n",
              " 'prompt_toolkit.completion.base': <module 'prompt_toolkit.completion.base' from '/usr/local/lib/python3.10/dist-packages/prompt_toolkit/completion/base.py'>,\n",
              " 'prompt_toolkit.completion.deduplicate': <module 'prompt_toolkit.completion.deduplicate' from '/usr/local/lib/python3.10/dist-packages/prompt_toolkit/completion/deduplicate.py'>,\n",
              " 'prompt_toolkit.completion.filesystem': <module 'prompt_toolkit.completion.filesystem' from '/usr/local/lib/python3.10/dist-packages/prompt_toolkit/completion/filesystem.py'>,\n",
              " 'prompt_toolkit.completion.word_completer': <module 'prompt_toolkit.completion.word_completer' from '/usr/local/lib/python3.10/dist-packages/prompt_toolkit/completion/word_completer.py'>,\n",
              " 'prompt_toolkit.completion.fuzzy_completer': <module 'prompt_toolkit.completion.fuzzy_completer' from '/usr/local/lib/python3.10/dist-packages/prompt_toolkit/completion/fuzzy_completer.py'>,\n",
              " 'prompt_toolkit.completion.nested': <module 'prompt_toolkit.completion.nested' from '/usr/local/lib/python3.10/dist-packages/prompt_toolkit/completion/nested.py'>,\n",
              " 'prompt_toolkit.completion': <module 'prompt_toolkit.completion' from '/usr/local/lib/python3.10/dist-packages/prompt_toolkit/completion/__init__.py'>,\n",
              " 'prompt_toolkit.history': <module 'prompt_toolkit.history' from '/usr/local/lib/python3.10/dist-packages/prompt_toolkit/history.py'>,\n",
              " 'prompt_toolkit.search': <module 'prompt_toolkit.search' from '/usr/local/lib/python3.10/dist-packages/prompt_toolkit/search.py'>,\n",
              " 'prompt_toolkit.validation': <module 'prompt_toolkit.validation' from '/usr/local/lib/python3.10/dist-packages/prompt_toolkit/validation.py'>,\n",
              " 'prompt_toolkit.buffer': <module 'prompt_toolkit.buffer' from '/usr/local/lib/python3.10/dist-packages/prompt_toolkit/buffer.py'>,\n",
              " 'prompt_toolkit.input.base': <module 'prompt_toolkit.input.base' from '/usr/local/lib/python3.10/dist-packages/prompt_toolkit/input/base.py'>,\n",
              " 'prompt_toolkit.input.defaults': <module 'prompt_toolkit.input.defaults' from '/usr/local/lib/python3.10/dist-packages/prompt_toolkit/input/defaults.py'>,\n",
              " 'prompt_toolkit.input': <module 'prompt_toolkit.input' from '/usr/local/lib/python3.10/dist-packages/prompt_toolkit/input/__init__.py'>,\n",
              " 'prompt_toolkit.input.typeahead': <module 'prompt_toolkit.input.typeahead' from '/usr/local/lib/python3.10/dist-packages/prompt_toolkit/input/typeahead.py'>,\n",
              " 'prompt_toolkit.key_binding.bindings': <module 'prompt_toolkit.key_binding.bindings' from '/usr/local/lib/python3.10/dist-packages/prompt_toolkit/key_binding/bindings/__init__.py'>,\n",
              " 'prompt_toolkit.key_binding.bindings.scroll': <module 'prompt_toolkit.key_binding.bindings.scroll' from '/usr/local/lib/python3.10/dist-packages/prompt_toolkit/key_binding/bindings/scroll.py'>,\n",
              " 'prompt_toolkit.key_binding.bindings.page_navigation': <module 'prompt_toolkit.key_binding.bindings.page_navigation' from '/usr/local/lib/python3.10/dist-packages/prompt_toolkit/key_binding/bindings/page_navigation.py'>,\n",
              " 'prompt_toolkit.lexers.base': <module 'prompt_toolkit.lexers.base' from '/usr/local/lib/python3.10/dist-packages/prompt_toolkit/lexers/base.py'>,\n",
              " 'prompt_toolkit.lexers.pygments': <module 'prompt_toolkit.lexers.pygments' from '/usr/local/lib/python3.10/dist-packages/prompt_toolkit/lexers/pygments.py'>,\n",
              " 'prompt_toolkit.lexers': <module 'prompt_toolkit.lexers' from '/usr/local/lib/python3.10/dist-packages/prompt_toolkit/lexers/__init__.py'>,\n",
              " 'prompt_toolkit.layout.utils': <module 'prompt_toolkit.layout.utils' from '/usr/local/lib/python3.10/dist-packages/prompt_toolkit/layout/utils.py'>,\n",
              " 'prompt_toolkit.layout.processors': <module 'prompt_toolkit.layout.processors' from '/usr/local/lib/python3.10/dist-packages/prompt_toolkit/layout/processors.py'>,\n",
              " 'prompt_toolkit.layout.controls': <module 'prompt_toolkit.layout.controls' from '/usr/local/lib/python3.10/dist-packages/prompt_toolkit/layout/controls.py'>,\n",
              " 'prompt_toolkit.layout.dimension': <module 'prompt_toolkit.layout.dimension' from '/usr/local/lib/python3.10/dist-packages/prompt_toolkit/layout/dimension.py'>,\n",
              " 'prompt_toolkit.layout.margins': <module 'prompt_toolkit.layout.margins' from '/usr/local/lib/python3.10/dist-packages/prompt_toolkit/layout/margins.py'>,\n",
              " 'prompt_toolkit.layout.mouse_handlers': <module 'prompt_toolkit.layout.mouse_handlers' from '/usr/local/lib/python3.10/dist-packages/prompt_toolkit/layout/mouse_handlers.py'>,\n",
              " 'prompt_toolkit.layout.screen': <module 'prompt_toolkit.layout.screen' from '/usr/local/lib/python3.10/dist-packages/prompt_toolkit/layout/screen.py'>,\n",
              " 'prompt_toolkit.layout.containers': <module 'prompt_toolkit.layout.containers' from '/usr/local/lib/python3.10/dist-packages/prompt_toolkit/layout/containers.py'>,\n",
              " 'prompt_toolkit.layout.layout': <module 'prompt_toolkit.layout.layout' from '/usr/local/lib/python3.10/dist-packages/prompt_toolkit/layout/layout.py'>,\n",
              " 'prompt_toolkit.layout.menus': <module 'prompt_toolkit.layout.menus' from '/usr/local/lib/python3.10/dist-packages/prompt_toolkit/layout/menus.py'>,\n",
              " 'prompt_toolkit.layout.scrollable_pane': <module 'prompt_toolkit.layout.scrollable_pane' from '/usr/local/lib/python3.10/dist-packages/prompt_toolkit/layout/scrollable_pane.py'>,\n",
              " 'prompt_toolkit.layout': <module 'prompt_toolkit.layout' from '/usr/local/lib/python3.10/dist-packages/prompt_toolkit/layout/__init__.py'>,\n",
              " 'prompt_toolkit.key_binding.bindings.completion': <module 'prompt_toolkit.key_binding.bindings.completion' from '/usr/local/lib/python3.10/dist-packages/prompt_toolkit/key_binding/bindings/completion.py'>,\n",
              " 'prompt_toolkit.key_binding.bindings.named_commands': <module 'prompt_toolkit.key_binding.bindings.named_commands' from '/usr/local/lib/python3.10/dist-packages/prompt_toolkit/key_binding/bindings/named_commands.py'>,\n",
              " 'prompt_toolkit.key_binding.bindings.basic': <module 'prompt_toolkit.key_binding.bindings.basic' from '/usr/local/lib/python3.10/dist-packages/prompt_toolkit/key_binding/bindings/basic.py'>,\n",
              " 'prompt_toolkit.key_binding.bindings.cpr': <module 'prompt_toolkit.key_binding.bindings.cpr' from '/usr/local/lib/python3.10/dist-packages/prompt_toolkit/key_binding/bindings/cpr.py'>,\n",
              " 'prompt_toolkit.key_binding.bindings.emacs': <module 'prompt_toolkit.key_binding.bindings.emacs' from '/usr/local/lib/python3.10/dist-packages/prompt_toolkit/key_binding/bindings/emacs.py'>,\n",
              " 'prompt_toolkit.key_binding.bindings.mouse': <module 'prompt_toolkit.key_binding.bindings.mouse' from '/usr/local/lib/python3.10/dist-packages/prompt_toolkit/key_binding/bindings/mouse.py'>,\n",
              " 'prompt_toolkit.input.ansi_escape_sequences': <module 'prompt_toolkit.input.ansi_escape_sequences' from '/usr/local/lib/python3.10/dist-packages/prompt_toolkit/input/ansi_escape_sequences.py'>,\n",
              " 'prompt_toolkit.input.vt100_parser': <module 'prompt_toolkit.input.vt100_parser' from '/usr/local/lib/python3.10/dist-packages/prompt_toolkit/input/vt100_parser.py'>,\n",
              " 'prompt_toolkit.key_binding.digraphs': <module 'prompt_toolkit.key_binding.digraphs' from '/usr/local/lib/python3.10/dist-packages/prompt_toolkit/key_binding/digraphs.py'>,\n",
              " 'prompt_toolkit.key_binding.bindings.vi': <module 'prompt_toolkit.key_binding.bindings.vi' from '/usr/local/lib/python3.10/dist-packages/prompt_toolkit/key_binding/bindings/vi.py'>,\n",
              " 'prompt_toolkit.key_binding.defaults': <module 'prompt_toolkit.key_binding.defaults' from '/usr/local/lib/python3.10/dist-packages/prompt_toolkit/key_binding/defaults.py'>,\n",
              " 'prompt_toolkit.key_binding.emacs_state': <module 'prompt_toolkit.key_binding.emacs_state' from '/usr/local/lib/python3.10/dist-packages/prompt_toolkit/key_binding/emacs_state.py'>,\n",
              " 'prompt_toolkit.layout.dummy': <module 'prompt_toolkit.layout.dummy' from '/usr/local/lib/python3.10/dist-packages/prompt_toolkit/layout/dummy.py'>,\n",
              " 'prompt_toolkit.renderer': <module 'prompt_toolkit.renderer' from '/usr/local/lib/python3.10/dist-packages/prompt_toolkit/renderer.py'>,\n",
              " 'prompt_toolkit.application.application': <module 'prompt_toolkit.application.application' from '/usr/local/lib/python3.10/dist-packages/prompt_toolkit/application/application.py'>,\n",
              " 'prompt_toolkit.application.dummy': <module 'prompt_toolkit.application.dummy' from '/usr/local/lib/python3.10/dist-packages/prompt_toolkit/application/dummy.py'>,\n",
              " 'prompt_toolkit.application': <module 'prompt_toolkit.application' from '/usr/local/lib/python3.10/dist-packages/prompt_toolkit/application/__init__.py'>,\n",
              " 'prompt_toolkit.key_binding.bindings.focus': <module 'prompt_toolkit.key_binding.bindings.focus' from '/usr/local/lib/python3.10/dist-packages/prompt_toolkit/key_binding/bindings/focus.py'>,\n",
              " 'prompt_toolkit.widgets.toolbars': <module 'prompt_toolkit.widgets.toolbars' from '/usr/local/lib/python3.10/dist-packages/prompt_toolkit/widgets/toolbars.py'>,\n",
              " 'prompt_toolkit.widgets.base': <module 'prompt_toolkit.widgets.base' from '/usr/local/lib/python3.10/dist-packages/prompt_toolkit/widgets/base.py'>,\n",
              " 'prompt_toolkit.widgets.dialogs': <module 'prompt_toolkit.widgets.dialogs' from '/usr/local/lib/python3.10/dist-packages/prompt_toolkit/widgets/dialogs.py'>,\n",
              " 'prompt_toolkit.widgets.menus': <module 'prompt_toolkit.widgets.menus' from '/usr/local/lib/python3.10/dist-packages/prompt_toolkit/widgets/menus.py'>,\n",
              " 'prompt_toolkit.widgets': <module 'prompt_toolkit.widgets' from '/usr/local/lib/python3.10/dist-packages/prompt_toolkit/widgets/__init__.py'>,\n",
              " 'prompt_toolkit.shortcuts.dialogs': <module 'prompt_toolkit.shortcuts.dialogs' from '/usr/local/lib/python3.10/dist-packages/prompt_toolkit/shortcuts/dialogs.py'>,\n",
              " 'prompt_toolkit.shortcuts.progress_bar.formatters': <module 'prompt_toolkit.shortcuts.progress_bar.formatters' from '/usr/local/lib/python3.10/dist-packages/prompt_toolkit/shortcuts/progress_bar/formatters.py'>,\n",
              " 'prompt_toolkit.shortcuts.progress_bar.base': <module 'prompt_toolkit.shortcuts.progress_bar.base' from '/usr/local/lib/python3.10/dist-packages/prompt_toolkit/shortcuts/progress_bar/base.py'>,\n",
              " 'prompt_toolkit.shortcuts.progress_bar': <module 'prompt_toolkit.shortcuts.progress_bar' from '/usr/local/lib/python3.10/dist-packages/prompt_toolkit/shortcuts/progress_bar/__init__.py'>,\n",
              " 'prompt_toolkit.key_binding.bindings.auto_suggest': <module 'prompt_toolkit.key_binding.bindings.auto_suggest' from '/usr/local/lib/python3.10/dist-packages/prompt_toolkit/key_binding/bindings/auto_suggest.py'>,\n",
              " 'prompt_toolkit.key_binding.bindings.open_in_editor': <module 'prompt_toolkit.key_binding.bindings.open_in_editor' from '/usr/local/lib/python3.10/dist-packages/prompt_toolkit/key_binding/bindings/open_in_editor.py'>,\n",
              " 'prompt_toolkit.shortcuts.prompt': <module 'prompt_toolkit.shortcuts.prompt' from '/usr/local/lib/python3.10/dist-packages/prompt_toolkit/shortcuts/prompt.py'>,\n",
              " 'prompt_toolkit.shortcuts.utils': <module 'prompt_toolkit.shortcuts.utils' from '/usr/local/lib/python3.10/dist-packages/prompt_toolkit/shortcuts/utils.py'>,\n",
              " 'prompt_toolkit.shortcuts': <module 'prompt_toolkit.shortcuts' from '/usr/local/lib/python3.10/dist-packages/prompt_toolkit/shortcuts/__init__.py'>,\n",
              " 'prompt_toolkit': <module 'prompt_toolkit' from '/usr/local/lib/python3.10/dist-packages/prompt_toolkit/__init__.py'>,\n",
              " 'prompt_toolkit.patch_stdout': <module 'prompt_toolkit.patch_stdout' from '/usr/local/lib/python3.10/dist-packages/prompt_toolkit/patch_stdout.py'>,\n",
              " 'pygments.style': <module 'pygments.style' from '/usr/local/lib/python3.10/dist-packages/pygments/style.py'>,\n",
              " 'unicodedata': <module 'unicodedata' (built-in)>,\n",
              " 'IPython.core.latex_symbols': <module 'IPython.core.latex_symbols' from '/usr/local/lib/python3.10/dist-packages/IPython/core/latex_symbols.py'>,\n",
              " 'IPython.utils.generics': <module 'IPython.utils.generics' from '/usr/local/lib/python3.10/dist-packages/IPython/utils/generics.py'>,\n",
              " 'IPython.core.completer': <module 'IPython.core.completer' from '/usr/local/lib/python3.10/dist-packages/IPython/core/completer.py'>,\n",
              " 'IPython.terminal.ptutils': <module 'IPython.terminal.ptutils' from '/usr/local/lib/python3.10/dist-packages/IPython/terminal/ptutils.py'>,\n",
              " 'IPython.terminal.shortcuts': <module 'IPython.terminal.shortcuts' from '/usr/local/lib/python3.10/dist-packages/IPython/terminal/shortcuts.py'>,\n",
              " 'concurrent.futures.thread': <module 'concurrent.futures.thread' from '/usr/lib/python3.10/concurrent/futures/thread.py'>,\n",
              " 'IPython.terminal.debugger': <module 'IPython.terminal.debugger' from '/usr/local/lib/python3.10/dist-packages/IPython/terminal/debugger.py'>,\n",
              " 'IPython.lib.clipboard': <module 'IPython.lib.clipboard' from '/usr/local/lib/python3.10/dist-packages/IPython/lib/clipboard.py'>,\n",
              " 'IPython.terminal.magics': <module 'IPython.terminal.magics' from '/usr/local/lib/python3.10/dist-packages/IPython/terminal/magics.py'>,\n",
              " 'IPython.terminal.pt_inputhooks': <module 'IPython.terminal.pt_inputhooks' from '/usr/local/lib/python3.10/dist-packages/IPython/terminal/pt_inputhooks/__init__.py'>,\n",
              " 'IPython.terminal.prompts': <module 'IPython.terminal.prompts' from '/usr/local/lib/python3.10/dist-packages/IPython/terminal/prompts.py'>,\n",
              " 'IPython.terminal.interactiveshell': <module 'IPython.terminal.interactiveshell' from '/usr/local/lib/python3.10/dist-packages/IPython/terminal/interactiveshell.py'>,\n",
              " 'IPython.core.magics.auto': <module 'IPython.core.magics.auto' from '/usr/local/lib/python3.10/dist-packages/IPython/core/magics/auto.py'>,\n",
              " 'IPython.core.magics.basic': <module 'IPython.core.magics.basic' from '/usr/local/lib/python3.10/dist-packages/IPython/core/magics/basic.py'>,\n",
              " 'email': <module 'email' from '/usr/lib/python3.10/email/__init__.py'>,\n",
              " 'http': <module 'http' from '/usr/lib/python3.10/http/__init__.py'>,\n",
              " 'email.errors': <module 'email.errors' from '/usr/lib/python3.10/email/errors.py'>,\n",
              " 'email.quoprimime': <module 'email.quoprimime' from '/usr/lib/python3.10/email/quoprimime.py'>,\n",
              " 'email.base64mime': <module 'email.base64mime' from '/usr/lib/python3.10/email/base64mime.py'>,\n",
              " 'quopri': <module 'quopri' from '/usr/lib/python3.10/quopri.py'>,\n",
              " 'email.encoders': <module 'email.encoders' from '/usr/lib/python3.10/email/encoders.py'>,\n",
              " 'email.charset': <module 'email.charset' from '/usr/lib/python3.10/email/charset.py'>,\n",
              " 'email.header': <module 'email.header' from '/usr/lib/python3.10/email/header.py'>,\n",
              " 'calendar': <module 'calendar' from '/usr/lib/python3.10/calendar.py'>,\n",
              " 'email._parseaddr': <module 'email._parseaddr' from '/usr/lib/python3.10/email/_parseaddr.py'>,\n",
              " 'email.utils': <module 'email.utils' from '/usr/lib/python3.10/email/utils.py'>,\n",
              " 'email._policybase': <module 'email._policybase' from '/usr/lib/python3.10/email/_policybase.py'>,\n",
              " 'email.feedparser': <module 'email.feedparser' from '/usr/lib/python3.10/email/feedparser.py'>,\n",
              " 'email.parser': <module 'email.parser' from '/usr/lib/python3.10/email/parser.py'>,\n",
              " 'uu': <module 'uu' from '/usr/lib/python3.10/uu.py'>,\n",
              " 'email._encoded_words': <module 'email._encoded_words' from '/usr/lib/python3.10/email/_encoded_words.py'>,\n",
              " 'email.iterators': <module 'email.iterators' from '/usr/lib/python3.10/email/iterators.py'>,\n",
              " 'email.message': <module 'email.message' from '/usr/lib/python3.10/email/message.py'>,\n",
              " 'http.client': <module 'http.client' from '/usr/lib/python3.10/http/client.py'>,\n",
              " 'urllib.response': <module 'urllib.response' from '/usr/lib/python3.10/urllib/response.py'>,\n",
              " 'urllib.error': <module 'urllib.error' from '/usr/lib/python3.10/urllib/error.py'>,\n",
              " 'urllib.request': <module 'urllib.request' from '/usr/lib/python3.10/urllib/request.py'>,\n",
              " 'IPython.core.magics.code': <module 'IPython.core.magics.code' from '/usr/local/lib/python3.10/dist-packages/IPython/core/magics/code.py'>,\n",
              " 'IPython.core.magics.config': <module 'IPython.core.magics.config' from '/usr/local/lib/python3.10/dist-packages/IPython/core/magics/config.py'>,\n",
              " 'IPython.core.magics.display': <module 'IPython.core.magics.display' from '/usr/local/lib/python3.10/dist-packages/IPython/core/magics/display.py'>,\n",
              " 'gc': <module 'gc' (built-in)>,\n",
              " 'timeit': <module 'timeit' from '/usr/lib/python3.10/timeit.py'>,\n",
              " '_lsprof': <module '_lsprof' from '/usr/lib/python3.10/lib-dynload/_lsprof.cpython-310-x86_64-linux-gnu.so'>,\n",
              " 'profile': <module 'profile' from '/usr/lib/python3.10/profile.py'>,\n",
              " 'cProfile': <module 'cProfile' from '/usr/lib/python3.10/cProfile.py'>,\n",
              " 'pstats': <module 'pstats' from '/usr/lib/python3.10/pstats.py'>,\n",
              " 'IPython.utils.module_paths': <module 'IPython.utils.module_paths' from '/usr/local/lib/python3.10/dist-packages/IPython/utils/module_paths.py'>,\n",
              " 'IPython.utils.timing': <module 'IPython.utils.timing' from '/usr/local/lib/python3.10/dist-packages/IPython/utils/timing.py'>,\n",
              " 'IPython.core.magics.execution': <module 'IPython.core.magics.execution' from '/usr/local/lib/python3.10/dist-packages/IPython/core/magics/execution.py'>,\n",
              " 'IPython.core.magics.extension': <module 'IPython.core.magics.extension' from '/usr/local/lib/python3.10/dist-packages/IPython/core/magics/extension.py'>,\n",
              " 'IPython.core.magics.history': <module 'IPython.core.magics.history' from '/usr/local/lib/python3.10/dist-packages/IPython/core/magics/history.py'>,\n",
              " 'IPython.core.magics.logging': <module 'IPython.core.magics.logging' from '/usr/local/lib/python3.10/dist-packages/IPython/core/magics/logging.py'>,\n",
              " 'IPython.core.magics.namespace': <module 'IPython.core.magics.namespace' from '/usr/local/lib/python3.10/dist-packages/IPython/core/magics/namespace.py'>,\n",
              " 'IPython.core.magics.osm': <module 'IPython.core.magics.osm' from '/usr/local/lib/python3.10/dist-packages/IPython/core/magics/osm.py'>,\n",
              " 'IPython.core.magics.packaging': <module 'IPython.core.magics.packaging' from '/usr/local/lib/python3.10/dist-packages/IPython/core/magics/packaging.py'>,\n",
              " 'IPython.core.pylabtools': <module 'IPython.core.pylabtools' from '/usr/local/lib/python3.10/dist-packages/IPython/core/pylabtools.py'>,\n",
              " 'IPython.core.magics.pylab': <module 'IPython.core.magics.pylab' from '/usr/local/lib/python3.10/dist-packages/IPython/core/magics/pylab.py'>,\n",
              " 'IPython.lib.backgroundjobs': <module 'IPython.lib.backgroundjobs' from '/usr/local/lib/python3.10/dist-packages/IPython/lib/backgroundjobs.py'>,\n",
              " 'IPython.core.magics.script': <module 'IPython.core.magics.script' from '/usr/local/lib/python3.10/dist-packages/IPython/core/magics/script.py'>,\n",
              " 'IPython.core.magics': <module 'IPython.core.magics' from '/usr/local/lib/python3.10/dist-packages/IPython/core/magics/__init__.py'>,\n",
              " 'IPython.core.shellapp': <module 'IPython.core.shellapp' from '/usr/local/lib/python3.10/dist-packages/IPython/core/shellapp.py'>,\n",
              " 'IPython.extensions': <module 'IPython.extensions' from '/usr/local/lib/python3.10/dist-packages/IPython/extensions/__init__.py'>,\n",
              " 'IPython.extensions.storemagic': <module 'IPython.extensions.storemagic' from '/usr/local/lib/python3.10/dist-packages/IPython/extensions/storemagic.py'>,\n",
              " 'IPython.terminal.ipapp': <module 'IPython.terminal.ipapp' from '/usr/local/lib/python3.10/dist-packages/IPython/terminal/ipapp.py'>,\n",
              " 'IPython.terminal.embed': <module 'IPython.terminal.embed' from '/usr/local/lib/python3.10/dist-packages/IPython/terminal/embed.py'>,\n",
              " 'IPython.utils.frame': <module 'IPython.utils.frame' from '/usr/local/lib/python3.10/dist-packages/IPython/utils/frame.py'>,\n",
              " 'IPython': <module 'IPython' from '/usr/local/lib/python3.10/dist-packages/IPython/__init__.py'>,\n",
              " 'ipython_genutils._version': <module 'ipython_genutils._version' from '/usr/local/lib/python3.10/dist-packages/ipython_genutils/_version.py'>,\n",
              " 'ipython_genutils': <module 'ipython_genutils' from '/usr/local/lib/python3.10/dist-packages/ipython_genutils/__init__.py'>,\n",
              " 'ipython_genutils.encoding': <module 'ipython_genutils.encoding' from '/usr/local/lib/python3.10/dist-packages/ipython_genutils/encoding.py'>,\n",
              " 'ipython_genutils.py3compat': <module 'ipython_genutils.py3compat' from '/usr/local/lib/python3.10/dist-packages/ipython_genutils/py3compat.py'>,\n",
              " 'ipython_genutils.path': <module 'ipython_genutils.path' from '/usr/local/lib/python3.10/dist-packages/ipython_genutils/path.py'>,\n",
              " 'jupyter_client._version': <module 'jupyter_client._version' from '/usr/local/lib/python3.10/dist-packages/jupyter_client/_version.py'>,\n",
              " '_ctypes': <module '_ctypes' from '/usr/lib/python3.10/lib-dynload/_ctypes.cpython-310-x86_64-linux-gnu.so'>,\n",
              " 'ctypes._endian': <module 'ctypes._endian' from '/usr/lib/python3.10/ctypes/_endian.py'>,\n",
              " 'ctypes': <module 'ctypes' from '/usr/lib/python3.10/ctypes/__init__.py'>,\n",
              " 'zmq.backend.select': <module 'zmq.backend.select' from '/usr/local/lib/python3.10/dist-packages/zmq/backend/select.py'>,\n",
              " '_cython_0_29_32': <module '_cython_0_29_32'>,\n",
              " 'cython_runtime': <module 'cython_runtime'>,\n",
              " 'zmq.error': <module 'zmq.error' from '/usr/local/lib/python3.10/dist-packages/zmq/error.py'>,\n",
              " 'zmq.backend.cython.context': <module 'zmq.backend.cython.context' from '/usr/local/lib/python3.10/dist-packages/zmq/backend/cython/context.cpython-310-x86_64-linux-gnu.so'>,\n",
              " 'zmq.backend.cython.message': <module 'zmq.backend.cython.message' from '/usr/local/lib/python3.10/dist-packages/zmq/backend/cython/message.cpython-310-x86_64-linux-gnu.so'>,\n",
              " 'zmq.constants': <module 'zmq.constants' from '/usr/local/lib/python3.10/dist-packages/zmq/constants.py'>,\n",
              " 'zmq.backend.cython.socket': <module 'zmq.backend.cython.socket' from '/usr/local/lib/python3.10/dist-packages/zmq/backend/cython/socket.cpython-310-x86_64-linux-gnu.so'>,\n",
              " 'zmq.backend.cython._device': <module 'zmq.backend.cython._device' from '/usr/local/lib/python3.10/dist-packages/zmq/backend/cython/_device.cpython-310-x86_64-linux-gnu.so'>,\n",
              " 'zmq.backend.cython._poll': <module 'zmq.backend.cython._poll' from '/usr/local/lib/python3.10/dist-packages/zmq/backend/cython/_poll.cpython-310-x86_64-linux-gnu.so'>,\n",
              " 'zmq.backend.cython._proxy_steerable': <module 'zmq.backend.cython._proxy_steerable' from '/usr/local/lib/python3.10/dist-packages/zmq/backend/cython/_proxy_steerable.cpython-310-x86_64-linux-gnu.so'>,\n",
              " 'zmq.backend.cython._version': <module 'zmq.backend.cython._version' from '/usr/local/lib/python3.10/dist-packages/zmq/backend/cython/_version.cpython-310-x86_64-linux-gnu.so'>,\n",
              " 'zmq.backend.cython.error': <module 'zmq.backend.cython.error' from '/usr/local/lib/python3.10/dist-packages/zmq/backend/cython/error.cpython-310-x86_64-linux-gnu.so'>,\n",
              " 'zmq.backend.cython.utils': <module 'zmq.backend.cython.utils' from '/usr/local/lib/python3.10/dist-packages/zmq/backend/cython/utils.cpython-310-x86_64-linux-gnu.so'>,\n",
              " 'zmq.backend.cython': <module 'zmq.backend.cython' from '/usr/local/lib/python3.10/dist-packages/zmq/backend/cython/__init__.py'>,\n",
              " 'zmq.backend': <module 'zmq.backend' from '/usr/local/lib/python3.10/dist-packages/zmq/backend/__init__.py'>,\n",
              " 'zmq.sugar.attrsettr': <module 'zmq.sugar.attrsettr' from '/usr/local/lib/python3.10/dist-packages/zmq/sugar/attrsettr.py'>,\n",
              " 'zmq._typing': <module 'zmq._typing' from '/usr/local/lib/python3.10/dist-packages/zmq/_typing.py'>,\n",
              " 'zmq.utils': <module 'zmq.utils' from '/usr/local/lib/python3.10/dist-packages/zmq/utils/__init__.py'>,\n",
              " 'zmq.utils.jsonapi': <module 'zmq.utils.jsonapi' from '/usr/local/lib/python3.10/dist-packages/zmq/utils/jsonapi.py'>,\n",
              " 'zmq.sugar.poll': <module 'zmq.sugar.poll' from '/usr/local/lib/python3.10/dist-packages/zmq/sugar/poll.py'>,\n",
              " 'zmq.sugar.socket': <module 'zmq.sugar.socket' from '/usr/local/lib/python3.10/dist-packages/zmq/sugar/socket.py'>,\n",
              " 'zmq.sugar.context': <module 'zmq.sugar.context' from '/usr/local/lib/python3.10/dist-packages/zmq/sugar/context.py'>,\n",
              " 'zmq.sugar.frame': <module 'zmq.sugar.frame' from '/usr/local/lib/python3.10/dist-packages/zmq/sugar/frame.py'>,\n",
              " 'zmq.sugar.tracker': <module 'zmq.sugar.tracker' from '/usr/local/lib/python3.10/dist-packages/zmq/sugar/tracker.py'>,\n",
              " 'zmq.sugar.version': <module 'zmq.sugar.version' from '/usr/local/lib/python3.10/dist-packages/zmq/sugar/version.py'>,\n",
              " 'zmq.sugar.stopwatch': <module 'zmq.sugar.stopwatch' from '/usr/local/lib/python3.10/dist-packages/zmq/sugar/stopwatch.py'>,\n",
              " 'zmq.sugar': <module 'zmq.sugar' from '/usr/local/lib/python3.10/dist-packages/zmq/sugar/__init__.py'>,\n",
              " 'zmq': <module 'zmq' from '/usr/local/lib/python3.10/dist-packages/zmq/__init__.py'>,\n",
              " 'jupyter_client.localinterfaces': <module 'jupyter_client.localinterfaces' from '/usr/local/lib/python3.10/dist-packages/jupyter_client/localinterfaces.py'>,\n",
              " 'jupyter_core.version': <module 'jupyter_core.version' from '/usr/local/lib/python3.10/dist-packages/jupyter_core/version.py'>,\n",
              " 'jupyter_core': <module 'jupyter_core' from '/usr/local/lib/python3.10/dist-packages/jupyter_core/__init__.py'>,\n",
              " 'platformdirs.api': <module 'platformdirs.api' from '/usr/local/lib/python3.10/dist-packages/platformdirs/api.py'>,\n",
              " 'platformdirs.version': <module 'platformdirs.version' from '/usr/local/lib/python3.10/dist-packages/platformdirs/version.py'>,\n",
              " 'configparser': <module 'configparser' from '/usr/lib/python3.10/configparser.py'>,\n",
              " 'platformdirs.unix': <module 'platformdirs.unix' from '/usr/local/lib/python3.10/dist-packages/platformdirs/unix.py'>,\n",
              " 'platformdirs': <module 'platformdirs' from '/usr/local/lib/python3.10/dist-packages/platformdirs/__init__.py'>,\n",
              " 'jupyter_core.utils': <module 'jupyter_core.utils' from '/usr/local/lib/python3.10/dist-packages/jupyter_core/utils/__init__.py'>,\n",
              " 'jupyter_core.paths': <module 'jupyter_core.paths' from '/usr/local/lib/python3.10/dist-packages/jupyter_core/paths.py'>,\n",
              " 'jupyter_client.utils': <module 'jupyter_client.utils' from '/usr/local/lib/python3.10/dist-packages/jupyter_client/utils.py'>,\n",
              " 'jupyter_client.connect': <module 'jupyter_client.connect' from '/usr/local/lib/python3.10/dist-packages/jupyter_client/connect.py'>,\n",
              " 'traitlets.log': <module 'traitlets.log' from '/usr/local/lib/python3.10/dist-packages/traitlets/log.py'>,\n",
              " 'jupyter_client.launcher': <module 'jupyter_client.launcher' from '/usr/local/lib/python3.10/dist-packages/jupyter_client/launcher.py'>,\n",
              " 'jupyter_client.channelsabc': <module 'jupyter_client.channelsabc' from '/usr/local/lib/python3.10/dist-packages/jupyter_client/channelsabc.py'>,\n",
              " 'jupyter_client.channels': <module 'jupyter_client.channels' from '/usr/local/lib/python3.10/dist-packages/jupyter_client/channels.py'>,\n",
              " 'jupyter_client.clientabc': <module 'jupyter_client.clientabc' from '/usr/local/lib/python3.10/dist-packages/jupyter_client/clientabc.py'>,\n",
              " 'jupyter_client.client': <module 'jupyter_client.client' from '/usr/local/lib/python3.10/dist-packages/jupyter_client/client.py'>,\n",
              " 'jupyter_client.kernelspec': <module 'jupyter_client.kernelspec' from '/usr/local/lib/python3.10/dist-packages/jupyter_client/kernelspec.py'>,\n",
              " 'jupyter_client.managerabc': <module 'jupyter_client.managerabc' from '/usr/local/lib/python3.10/dist-packages/jupyter_client/managerabc.py'>,\n",
              " 'jupyter_client.manager': <module 'jupyter_client.manager' from '/usr/local/lib/python3.10/dist-packages/jupyter_client/manager.py'>,\n",
              " 'jupyter_client.blocking.channels': <module 'jupyter_client.blocking.channels' from '/usr/local/lib/python3.10/dist-packages/jupyter_client/blocking/channels.py'>,\n",
              " 'jupyter_client.blocking.client': <module 'jupyter_client.blocking.client' from '/usr/local/lib/python3.10/dist-packages/jupyter_client/blocking/client.py'>,\n",
              " 'jupyter_client.blocking': <module 'jupyter_client.blocking' from '/usr/local/lib/python3.10/dist-packages/jupyter_client/blocking/__init__.py'>,\n",
              " 'zmq._future': <module 'zmq._future' from '/usr/local/lib/python3.10/dist-packages/zmq/_future.py'>,\n",
              " 'zmq.asyncio': <module 'zmq.asyncio' from '/usr/local/lib/python3.10/dist-packages/zmq/asyncio.py'>,\n",
              " 'jupyter_client.asynchronous.channels': <module 'jupyter_client.asynchronous.channels' from '/usr/local/lib/python3.10/dist-packages/jupyter_client/asynchronous/channels.py'>,\n",
              " 'jupyter_client.asynchronous.client': <module 'jupyter_client.asynchronous.client' from '/usr/local/lib/python3.10/dist-packages/jupyter_client/asynchronous/client.py'>,\n",
              " 'jupyter_client.asynchronous': <module 'jupyter_client.asynchronous' from '/usr/local/lib/python3.10/dist-packages/jupyter_client/asynchronous/__init__.py'>,\n",
              " '_uuid': <module '_uuid' from '/usr/lib/python3.10/lib-dynload/_uuid.cpython-310-x86_64-linux-gnu.so'>,\n",
              " 'uuid': <module 'uuid' from '/usr/lib/python3.10/uuid.py'>,\n",
              " 'jupyter_client.multikernelmanager': <module 'jupyter_client.multikernelmanager' from '/usr/local/lib/python3.10/dist-packages/jupyter_client/multikernelmanager.py'>,\n",
              " 'jupyter_client': <module 'jupyter_client' from '/usr/local/lib/python3.10/dist-packages/jupyter_client/__init__.py'>,\n",
              " 'ipykernel.connect': <module 'ipykernel.connect' from '/usr/local/lib/python3.10/dist-packages/ipykernel/connect.py'>,\n",
              " 'ipykernel': <module 'ipykernel' from '/usr/local/lib/python3.10/dist-packages/ipykernel/__init__.py'>,\n",
              " 'tornado': <module 'tornado' from '/usr/local/lib/python3.10/dist-packages/tornado/__init__.py'>,\n",
              " 'numbers': <module 'numbers' from '/usr/lib/python3.10/numbers.py'>,\n",
              " 'tornado.speedups': <module 'tornado.speedups' from '/usr/local/lib/python3.10/dist-packages/tornado/speedups.abi3.so'>,\n",
              " 'tornado.util': <module 'tornado.util' from '/usr/local/lib/python3.10/dist-packages/tornado/util.py'>,\n",
              " 'tornado.escape': <module 'tornado.escape' from '/usr/local/lib/python3.10/dist-packages/tornado/escape.py'>,\n",
              " '_curses': <module '_curses' from '/usr/lib/python3.10/lib-dynload/_curses.cpython-310-x86_64-linux-gnu.so'>,\n",
              " 'curses': <module 'curses' from '/usr/lib/python3.10/curses/__init__.py'>,\n",
              " 'tornado.log': <module 'tornado.log' from '/usr/local/lib/python3.10/dist-packages/tornado/log.py'>,\n",
              " 'tornado.concurrent': <module 'tornado.concurrent' from '/usr/local/lib/python3.10/dist-packages/tornado/concurrent.py'>,\n",
              " 'tornado.ioloop': <module 'tornado.ioloop' from '/usr/local/lib/python3.10/dist-packages/tornado/ioloop.py'>,\n",
              " 'tornado.platform': <module 'tornado.platform' from '/usr/local/lib/python3.10/dist-packages/tornado/platform/__init__.py'>,\n",
              " 'tornado.gen': <module 'tornado.gen' from '/usr/local/lib/python3.10/dist-packages/tornado/gen.py'>,\n",
              " 'tornado.platform.asyncio': <module 'tornado.platform.asyncio' from '/usr/local/lib/python3.10/dist-packages/tornado/platform/asyncio.py'>,\n",
              " 'zmq.eventloop.ioloop': <module 'zmq.eventloop.ioloop' from '/usr/local/lib/python3.10/dist-packages/zmq/eventloop/ioloop.py'>,\n",
              " 'zmq.eventloop': <module 'zmq.eventloop' from '/usr/local/lib/python3.10/dist-packages/zmq/eventloop/__init__.py'>,\n",
              " 'zmq.eventloop.zmqstream': <module 'zmq.eventloop.zmqstream' from '/usr/local/lib/python3.10/dist-packages/zmq/eventloop/zmqstream.py'>,\n",
              " 'ipython_genutils.importstring': <module 'ipython_genutils.importstring' from '/usr/local/lib/python3.10/dist-packages/ipython_genutils/importstring.py'>,\n",
              " 'imp': <module 'imp' from '/usr/lib/python3.10/imp.py'>,\n",
              " 'hmac': <module 'hmac' from '/usr/lib/python3.10/hmac.py'>,\n",
              " 'dateutil._version': <module 'dateutil._version' from '/usr/local/lib/python3.10/dist-packages/dateutil/_version.py'>,\n",
              " 'dateutil': <module 'dateutil' from '/usr/local/lib/python3.10/dist-packages/dateutil/__init__.py'>,\n",
              " 'six': <module 'six' from '/usr/local/lib/python3.10/dist-packages/six.py'>,\n",
              " '_decimal': <module '_decimal' from '/usr/lib/python3.10/lib-dynload/_decimal.cpython-310-x86_64-linux-gnu.so'>,\n",
              " 'decimal': <module 'decimal' from '/usr/lib/python3.10/decimal.py'>,\n",
              " 'dateutil._common': <module 'dateutil._common' from '/usr/local/lib/python3.10/dist-packages/dateutil/_common.py'>,\n",
              " 'dateutil.relativedelta': <module 'dateutil.relativedelta' from '/usr/local/lib/python3.10/dist-packages/dateutil/relativedelta.py'>,\n",
              " 'six.moves': <module 'six.moves' (<six._SixMetaPathImporter object at 0x79220c87be20>)>,\n",
              " 'dateutil.tz._common': <module 'dateutil.tz._common' from '/usr/local/lib/python3.10/dist-packages/dateutil/tz/_common.py'>,\n",
              " 'dateutil.tz._factories': <module 'dateutil.tz._factories' from '/usr/local/lib/python3.10/dist-packages/dateutil/tz/_factories.py'>,\n",
              " 'dateutil.tz.tz': <module 'dateutil.tz.tz' from '/usr/local/lib/python3.10/dist-packages/dateutil/tz/tz.py'>,\n",
              " 'dateutil.tz': <module 'dateutil.tz' from '/usr/local/lib/python3.10/dist-packages/dateutil/tz/__init__.py'>,\n",
              " 'dateutil.parser._parser': <module 'dateutil.parser._parser' from '/usr/local/lib/python3.10/dist-packages/dateutil/parser/_parser.py'>,\n",
              " 'dateutil.parser.isoparser': <module 'dateutil.parser.isoparser' from '/usr/local/lib/python3.10/dist-packages/dateutil/parser/isoparser.py'>,\n",
              " 'dateutil.parser': <module 'dateutil.parser' from '/usr/local/lib/python3.10/dist-packages/dateutil/parser/__init__.py'>,\n",
              " '_strptime': <module '_strptime' from '/usr/lib/python3.10/_strptime.py'>,\n",
              " 'jupyter_client.jsonutil': <module 'jupyter_client.jsonutil' from '/usr/local/lib/python3.10/dist-packages/jupyter_client/jsonutil.py'>,\n",
              " 'jupyter_client.adapter': <module 'jupyter_client.adapter' from '/usr/local/lib/python3.10/dist-packages/jupyter_client/adapter.py'>,\n",
              " 'jupyter_client.session': <module 'jupyter_client.session' from '/usr/local/lib/python3.10/dist-packages/jupyter_client/session.py'>,\n",
              " 'ipykernel.iostream': <module 'ipykernel.iostream' from '/usr/local/lib/python3.10/dist-packages/ipykernel/iostream.py'>,\n",
              " 'ipykernel.heartbeat': <module 'ipykernel.heartbeat' from '/usr/local/lib/python3.10/dist-packages/ipykernel/heartbeat.py'>,\n",
              " 'IPython.utils.tokenutil': <module 'IPython.utils.tokenutil' from '/usr/local/lib/python3.10/dist-packages/IPython/utils/tokenutil.py'>,\n",
              " 'tornado.locks': <module 'tornado.locks' from '/usr/local/lib/python3.10/dist-packages/tornado/locks.py'>,\n",
              " 'tornado.queues': <module 'tornado.queues' from '/usr/local/lib/python3.10/dist-packages/tornado/queues.py'>,\n",
              " 'ipykernel.jsonutil': <module 'ipykernel.jsonutil' from '/usr/local/lib/python3.10/dist-packages/ipykernel/jsonutil.py'>,\n",
              " 'ipykernel.kernelbase': <module 'ipykernel.kernelbase' from '/usr/local/lib/python3.10/dist-packages/ipykernel/kernelbase.py'>,\n",
              " 'ipykernel.comm.comm': <module 'ipykernel.comm.comm' from '/usr/local/lib/python3.10/dist-packages/ipykernel/comm/comm.py'>,\n",
              " 'ipykernel.comm.manager': <module 'ipykernel.comm.manager' from '/usr/local/lib/python3.10/dist-packages/ipykernel/comm/manager.py'>,\n",
              " 'ipykernel.comm': <module 'ipykernel.comm' from '/usr/local/lib/python3.10/dist-packages/ipykernel/comm/__init__.py'>,\n",
              " 'IPython.core.payloadpage': <module 'IPython.core.payloadpage' from '/usr/local/lib/python3.10/dist-packages/IPython/core/payloadpage.py'>,\n",
              " 'ipykernel.displayhook': <module 'ipykernel.displayhook' from '/usr/local/lib/python3.10/dist-packages/ipykernel/displayhook.py'>,\n",
              " 'ipykernel.codeutil': <module 'ipykernel.codeutil' from '/usr/local/lib/python3.10/dist-packages/ipykernel/codeutil.py'>,\n",
              " 'ipykernel.pickleutil': <module 'ipykernel.pickleutil' from '/usr/local/lib/python3.10/dist-packages/ipykernel/pickleutil.py'>,\n",
              " 'ipykernel.serialize': <module 'ipykernel.serialize' from '/usr/local/lib/python3.10/dist-packages/ipykernel/serialize.py'>,\n",
              " 'ipykernel.datapub': <module 'ipykernel.datapub' from '/usr/local/lib/python3.10/dist-packages/ipykernel/datapub.py'>,\n",
              " 'ipykernel.zmqshell': <module 'ipykernel.zmqshell' from '/usr/local/lib/python3.10/dist-packages/ipykernel/zmqshell.py'>,\n",
              " 'importlib.abc': <module 'importlib.abc' from '/usr/lib/python3.10/importlib/abc.py'>,\n",
              " 'distutils.errors': <module 'distutils.errors' from '/usr/local/lib/python3.10/dist-packages/setuptools/_distutils/errors.py'>,\n",
              " 'distutils.py39compat': <module 'distutils.py39compat' from '/usr/local/lib/python3.10/dist-packages/setuptools/_distutils/py39compat.py'>,\n",
              " 'distutils._functools': <module 'distutils._functools' from '/usr/local/lib/python3.10/dist-packages/setuptools/_distutils/_functools.py'>,\n",
              " 'distutils.sysconfig': <module 'distutils.sysconfig' from '/usr/local/lib/python3.10/dist-packages/setuptools/_distutils/sysconfig.py'>,\n",
              " 'distutils.command': <module 'distutils.command' from '/usr/local/lib/python3.10/dist-packages/setuptools/_distutils/command/__init__.py'>,\n",
              " 'distutils._log': <module 'distutils._log' from '/usr/local/lib/python3.10/dist-packages/setuptools/_distutils/_log.py'>,\n",
              " 'distutils.debug': <module 'distutils.debug' from '/usr/local/lib/python3.10/dist-packages/setuptools/_distutils/debug.py'>,\n",
              " 'distutils.fancy_getopt': <module 'distutils.fancy_getopt' from '/usr/local/lib/python3.10/dist-packages/setuptools/_distutils/fancy_getopt.py'>,\n",
              " 'distutils.dep_util': <module 'distutils.dep_util' from '/usr/local/lib/python3.10/dist-packages/setuptools/_distutils/dep_util.py'>,\n",
              " 'distutils.spawn': <module 'distutils.spawn' from '/usr/local/lib/python3.10/dist-packages/setuptools/_distutils/spawn.py'>,\n",
              " 'distutils.util': <module 'distutils.util' from '/usr/local/lib/python3.10/dist-packages/setuptools/_distutils/util.py'>,\n",
              " 'distutils.dist': <module 'distutils.dist' from '/usr/local/lib/python3.10/dist-packages/setuptools/_distutils/dist.py'>,\n",
              " 'distutils.dir_util': <module 'distutils.dir_util' from '/usr/local/lib/python3.10/dist-packages/setuptools/_distutils/dir_util.py'>,\n",
              " 'distutils.file_util': <module 'distutils.file_util' from '/usr/local/lib/python3.10/dist-packages/setuptools/_distutils/file_util.py'>,\n",
              " 'zipfile': <module 'zipfile' from '/usr/lib/python3.10/zipfile.py'>,\n",
              " 'pwd': <module 'pwd' (built-in)>,\n",
              " 'grp': <module 'grp' (built-in)>,\n",
              " 'distutils.archive_util': <module 'distutils.archive_util' from '/usr/local/lib/python3.10/dist-packages/setuptools/_distutils/archive_util.py'>,\n",
              " 'distutils.cmd': <module 'distutils.cmd' from '/usr/local/lib/python3.10/dist-packages/setuptools/_distutils/cmd.py'>,\n",
              " 'distutils.config': <module 'distutils.config' from '/usr/local/lib/python3.10/dist-packages/setuptools/_distutils/config.py'>,\n",
              " 'distutils.extension': <module 'distutils.extension' from '/usr/local/lib/python3.10/dist-packages/setuptools/_distutils/extension.py'>,\n",
              " 'distutils.core': <module 'distutils.core' from '/usr/local/lib/python3.10/dist-packages/setuptools/_distutils/core.py'>,\n",
              " 'distutils.command._framework_compat': <module 'distutils.command._framework_compat' from '/usr/local/lib/python3.10/dist-packages/setuptools/_distutils/command/_framework_compat.py'>,\n",
              " 'distutils._collections': <module 'distutils._collections' from '/usr/local/lib/python3.10/dist-packages/setuptools/_distutils/_collections.py'>,\n",
              " 'distutils.command.install': <module 'distutils.command.install' from '/usr/local/lib/python3.10/dist-packages/setuptools/_distutils/command/install.py'>,\n",
              " 'distutils.command.install_egg_info': <module 'distutils.command.install_egg_info' from '/usr/local/lib/python3.10/dist-packages/setuptools/_distutils/command/install_egg_info.py'>,\n",
              " '_distutils_system_mod': <module '_distutils_system_mod' from '/usr/lib/python3.10/_distutils_system_mod.py'>,\n",
              " 'setuptools._distutils': <module 'distutils' (/usr/local/lib/python3.10/dist-packages/setuptools/_distutils/__init__.py)>,\n",
              " '_distutils_hack.override': <module '_distutils_hack.override' from '/usr/local/lib/python3.10/dist-packages/_distutils_hack/override.py'>,\n",
              " 'setuptools.warnings': <module 'setuptools.warnings' from '/usr/local/lib/python3.10/dist-packages/setuptools/warnings.py'>,\n",
              " '_csv': <module '_csv' (built-in)>,\n",
              " 'csv': <module 'csv' from '/usr/lib/python3.10/csv.py'>,\n",
              " 'importlib.metadata._functools': <module 'importlib.metadata._functools' from '/usr/lib/python3.10/importlib/metadata/_functools.py'>,\n",
              " 'importlib.metadata._text': <module 'importlib.metadata._text' from '/usr/lib/python3.10/importlib/metadata/_text.py'>,\n",
              " 'importlib.metadata._adapters': <module 'importlib.metadata._adapters' from '/usr/lib/python3.10/importlib/metadata/_adapters.py'>,\n",
              " 'importlib.metadata._meta': <module 'importlib.metadata._meta' from '/usr/lib/python3.10/importlib/metadata/_meta.py'>,\n",
              " 'importlib.metadata._collections': <module 'importlib.metadata._collections' from '/usr/lib/python3.10/importlib/metadata/_collections.py'>,\n",
              " 'importlib.metadata._itertools': <module 'importlib.metadata._itertools' from '/usr/lib/python3.10/importlib/metadata/_itertools.py'>,\n",
              " 'importlib.metadata': <module 'importlib.metadata' from '/usr/lib/python3.10/importlib/metadata/__init__.py'>,\n",
              " 'importlib._adapters': <module 'importlib._adapters' from '/usr/lib/python3.10/importlib/_adapters.py'>,\n",
              " 'importlib._common': <module 'importlib._common' from '/usr/lib/python3.10/importlib/_common.py'>,\n",
              " 'importlib.resources': <module 'importlib.resources' from '/usr/lib/python3.10/importlib/resources.py'>,\n",
              " 'setuptools._importlib': <module 'setuptools._importlib' from '/usr/local/lib/python3.10/dist-packages/setuptools/_importlib.py'>,\n",
              " 'setuptools.version': <module 'setuptools.version' from '/usr/local/lib/python3.10/dist-packages/setuptools/version.py'>,\n",
              " 'distutils.filelist': <module 'distutils.filelist' from '/usr/local/lib/python3.10/dist-packages/setuptools/_distutils/filelist.py'>,\n",
              " 'setuptools.monkey': <module 'setuptools.monkey' from '/usr/local/lib/python3.10/dist-packages/setuptools/monkey.py'>,\n",
              " 'setuptools.extension': <module 'setuptools.extension' from '/usr/local/lib/python3.10/dist-packages/setuptools/extension.py'>,\n",
              " 'distutils.log': <module 'distutils.log' from '/usr/local/lib/python3.10/dist-packages/setuptools/_distutils/log.py'>,\n",
              " 'setuptools.extern': <module 'setuptools.extern' from '/usr/local/lib/python3.10/dist-packages/setuptools/extern/__init__.py'>,\n",
              " 'setuptools._vendor': <module 'setuptools._vendor' from '/usr/local/lib/python3.10/dist-packages/setuptools/_vendor/__init__.py'>,\n",
              " 'setuptools._vendor.packaging': <module 'setuptools.extern.packaging' (<setuptools.extern.VendorImporter object at 0x79220c3cc2e0>)>,\n",
              " 'setuptools.extern.packaging': <module 'setuptools.extern.packaging' (<setuptools.extern.VendorImporter object at 0x79220c3cc2e0>)>,\n",
              " 'setuptools._vendor.ordered_set': <module 'setuptools.extern.ordered_set' (<setuptools.extern.VendorImporter object at 0x79220c3cc2e0>)>,\n",
              " 'setuptools.extern.ordered_set': <module 'setuptools.extern.ordered_set' (<setuptools.extern.VendorImporter object at 0x79220c3cc2e0>)>,\n",
              " 'setuptools._vendor.more_itertools.recipes': <module 'setuptools._vendor.more_itertools.recipes' from '/usr/local/lib/python3.10/dist-packages/setuptools/_vendor/more_itertools/recipes.py'>,\n",
              " 'setuptools._vendor.more_itertools.more': <module 'setuptools._vendor.more_itertools.more' from '/usr/local/lib/python3.10/dist-packages/setuptools/_vendor/more_itertools/more.py'>,\n",
              " 'setuptools._vendor.more_itertools': <module 'setuptools.extern.more_itertools' (<setuptools.extern.VendorImporter object at 0x79220c3cc2e0>)>,\n",
              " 'setuptools.extern.more_itertools': <module 'setuptools.extern.more_itertools' (<setuptools.extern.VendorImporter object at 0x79220c3cc2e0>)>,\n",
              " 'distutils.command.bdist': <module 'distutils.command.bdist' from '/usr/local/lib/python3.10/dist-packages/setuptools/_distutils/command/bdist.py'>,\n",
              " 'setuptools.command': <module 'setuptools.command' from '/usr/local/lib/python3.10/dist-packages/setuptools/command/__init__.py'>,\n",
              " 'setuptools.windows_support': <module 'setuptools.windows_support' from '/usr/local/lib/python3.10/dist-packages/setuptools/windows_support.py'>,\n",
              " 'setuptools.errors': <module 'setuptools.errors' from '/usr/local/lib/python3.10/dist-packages/setuptools/errors.py'>,\n",
              " 'setuptools._vendor.packaging._elffile': <module 'setuptools._vendor.packaging._elffile' from '/usr/local/lib/python3.10/dist-packages/setuptools/_vendor/packaging/_elffile.py'>,\n",
              " 'setuptools._vendor.packaging._manylinux': <module 'setuptools._vendor.packaging._manylinux' from '/usr/local/lib/python3.10/dist-packages/setuptools/_vendor/packaging/_manylinux.py'>,\n",
              " 'setuptools._vendor.packaging._musllinux': <module 'setuptools._vendor.packaging._musllinux' from '/usr/local/lib/python3.10/dist-packages/setuptools/_vendor/packaging/_musllinux.py'>,\n",
              " 'setuptools.extern.packaging.tags': <module 'setuptools.extern.packaging.tags' from '/usr/local/lib/python3.10/dist-packages/setuptools/_vendor/packaging/tags.py'>,\n",
              " 'setuptools.extern.packaging._structures': <module 'setuptools.extern.packaging._structures' from '/usr/local/lib/python3.10/dist-packages/setuptools/_vendor/packaging/_structures.py'>,\n",
              " 'setuptools.extern.packaging.version': <module 'setuptools.extern.packaging.version' from '/usr/local/lib/python3.10/dist-packages/setuptools/_vendor/packaging/version.py'>,\n",
              " 'setuptools.extern.packaging.utils': <module 'setuptools.extern.packaging.utils' from '/usr/local/lib/python3.10/dist-packages/setuptools/_vendor/packaging/utils.py'>,\n",
              " 'setuptools.extern.packaging.specifiers': <module 'setuptools.extern.packaging.specifiers' from '/usr/local/lib/python3.10/dist-packages/setuptools/_vendor/packaging/specifiers.py'>,\n",
              " 'setuptools.extern.packaging._tokenizer': <module 'setuptools.extern.packaging._tokenizer' from '/usr/local/lib/python3.10/dist-packages/setuptools/_vendor/packaging/_tokenizer.py'>,\n",
              " 'setuptools.extern.packaging._parser': <module 'setuptools.extern.packaging._parser' from '/usr/local/lib/python3.10/dist-packages/setuptools/_vendor/packaging/_parser.py'>,\n",
              " 'setuptools.extern.packaging.markers': <module 'setuptools.extern.packaging.markers' from '/usr/local/lib/python3.10/dist-packages/setuptools/_vendor/packaging/markers.py'>,\n",
              " 'setuptools.extern.packaging.requirements': <module 'setuptools.extern.packaging.requirements' from '/usr/local/lib/python3.10/dist-packages/setuptools/_vendor/packaging/requirements.py'>,\n",
              " 'setuptools._path': <module 'setuptools._path' from '/usr/local/lib/python3.10/dist-packages/setuptools/_path.py'>,\n",
              " 'setuptools.config.expand': <module 'setuptools.config.expand' from '/usr/local/lib/python3.10/dist-packages/setuptools/config/expand.py'>,\n",
              " 'setuptools.config.setupcfg': <module 'setuptools.config.setupcfg' from '/usr/local/lib/python3.10/dist-packages/setuptools/config/setupcfg.py'>,\n",
              " 'setuptools.config': <module 'setuptools.config' from '/usr/local/lib/python3.10/dist-packages/setuptools/config/__init__.py'>,\n",
              " 'email._header_value_parser': <module 'email._header_value_parser' from '/usr/lib/python3.10/email/_header_value_parser.py'>,\n",
              " 'email.headerregistry': <module 'email.headerregistry' from '/usr/lib/python3.10/email/headerregistry.py'>,\n",
              " 'setuptools.config._apply_pyprojecttoml': <module 'setuptools.config._apply_pyprojecttoml' from '/usr/local/lib/python3.10/dist-packages/setuptools/config/_apply_pyprojecttoml.py'>,\n",
              " 'setuptools.config.pyprojecttoml': <module 'setuptools.config.pyprojecttoml' from '/usr/local/lib/python3.10/dist-packages/setuptools/config/pyprojecttoml.py'>,\n",
              " 'setuptools.discovery': <module 'setuptools.discovery' from '/usr/local/lib/python3.10/dist-packages/setuptools/discovery.py'>,\n",
              " 'setuptools._vendor.jaraco': <module 'setuptools.extern.jaraco' (<setuptools.extern.VendorImporter object at 0x79220c3cc2e0>)>,\n",
              " 'setuptools.extern.jaraco': <module 'setuptools.extern.jaraco' (<setuptools.extern.VendorImporter object at 0x79220c3cc2e0>)>,\n",
              " 'setuptools.extern.jaraco.functools': <module 'setuptools.extern.jaraco.functools' from '/usr/local/lib/python3.10/dist-packages/setuptools/_vendor/jaraco/functools.py'>,\n",
              " 'setuptools.extern.jaraco.context': <module 'setuptools.extern.jaraco.context' from '/usr/local/lib/python3.10/dist-packages/setuptools/_vendor/jaraco/context.py'>,\n",
              " 'setuptools.extern.jaraco.text': <module 'setuptools.extern.jaraco.text' from '/usr/local/lib/python3.10/dist-packages/setuptools/_vendor/jaraco/text/__init__.py'>,\n",
              " 'setuptools._reqs': <module 'setuptools._reqs' from '/usr/local/lib/python3.10/dist-packages/setuptools/_reqs.py'>,\n",
              " 'setuptools._itertools': <module 'setuptools._itertools' from '/usr/local/lib/python3.10/dist-packages/setuptools/_itertools.py'>,\n",
              " 'setuptools._entry_points': <module 'setuptools._entry_points' from '/usr/local/lib/python3.10/dist-packages/setuptools/_entry_points.py'>,\n",
              " 'setuptools._normalization': <module 'setuptools._normalization' from '/usr/local/lib/python3.10/dist-packages/setuptools/_normalization.py'>,\n",
              " 'setuptools.dist': <module 'setuptools.dist' from '/usr/local/lib/python3.10/dist-packages/setuptools/dist.py'>,\n",
              " 'setuptools.py34compat': <module 'setuptools.py34compat' from '/usr/local/lib/python3.10/dist-packages/setuptools/py34compat.py'>,\n",
              " 'setuptools._imp': <module 'setuptools._imp' from '/usr/local/lib/python3.10/dist-packages/setuptools/_imp.py'>,\n",
              " 'setuptools.depends': <module 'setuptools.depends' from '/usr/local/lib/python3.10/dist-packages/setuptools/depends.py'>,\n",
              " 'setuptools.logging': <module 'setuptools.logging' from '/usr/local/lib/python3.10/dist-packages/setuptools/logging.py'>,\n",
              " 'setuptools.msvc': <module 'setuptools.msvc' from '/usr/local/lib/python3.10/dist-packages/setuptools/msvc.py'>,\n",
              " 'setuptools': <module 'setuptools' from '/usr/local/lib/python3.10/dist-packages/setuptools/__init__.py'>,\n",
              " 'distutils': <module 'distutils' (/usr/local/lib/python3.10/dist-packages/setuptools/_distutils/__init__.py)>,\n",
              " 'distutils.version': <module 'distutils.version' from '/usr/local/lib/python3.10/dist-packages/setuptools/_distutils/version.py'>,\n",
              " 'ipykernel.eventloops': <module 'ipykernel.eventloops' from '/usr/local/lib/python3.10/dist-packages/ipykernel/eventloops.py'>,\n",
              " 'ipykernel.ipkernel': <module 'ipykernel.ipkernel' from '/usr/local/lib/python3.10/dist-packages/ipykernel/ipkernel.py'>,\n",
              " 'ipykernel.parentpoller': <module 'ipykernel.parentpoller' from '/usr/local/lib/python3.10/dist-packages/ipykernel/parentpoller.py'>,\n",
              " 'ipykernel.kernelapp': <module 'ipykernel.kernelapp' from '/usr/local/lib/python3.10/dist-packages/ipykernel/kernelapp.py'>,\n",
              " 'google.colab._import_hooks._altair': <module 'google.colab._import_hooks._altair' from '/usr/local/lib/python3.10/dist-packages/google/colab/_import_hooks/_altair.py'>,\n",
              " 'google.colab._import_hooks._bokeh': <module 'google.colab._import_hooks._bokeh' from '/usr/local/lib/python3.10/dist-packages/google/colab/_import_hooks/_bokeh.py'>,\n",
              " 'google.colab._import_hooks._client_info': <module 'google.colab._import_hooks._client_info' from '/usr/local/lib/python3.10/dist-packages/google/colab/_import_hooks/_client_info.py'>,\n",
              " 'google.colab._import_hooks._cv2': <module 'google.colab._import_hooks._cv2' from '/usr/local/lib/python3.10/dist-packages/google/colab/_import_hooks/_cv2.py'>,\n",
              " 'google.colab._import_hooks._generativeai': <module 'google.colab._import_hooks._generativeai' from '/usr/local/lib/python3.10/dist-packages/google/colab/_import_hooks/_generativeai.py'>,\n",
              " 'google.colab._import_hooks._pydrive': <module 'google.colab._import_hooks._pydrive' from '/usr/local/lib/python3.10/dist-packages/google/colab/_import_hooks/_pydrive.py'>,\n",
              " 'google.colab._import_hooks._pydrive2': <module 'google.colab._import_hooks._pydrive2' from '/usr/local/lib/python3.10/dist-packages/google/colab/_import_hooks/_pydrive2.py'>,\n",
              " 'google.colab._import_hooks': <module 'google.colab._import_hooks' from '/usr/local/lib/python3.10/dist-packages/google/colab/_import_hooks/__init__.py'>,\n",
              " 'google.colab._import_magics': <module 'google.colab._import_magics' from '/usr/local/lib/python3.10/dist-packages/google/colab/_import_magics.py'>,\n",
              " 'google.colab._installation_commands': <module 'google.colab._installation_commands' from '/usr/local/lib/python3.10/dist-packages/google/colab/_installation_commands.py'>,\n",
              " 'google.colab._interactive_table_helper': <module 'google.colab._interactive_table_helper' from '/usr/local/lib/python3.10/dist-packages/google/colab/_interactive_table_helper.py'>,\n",
              " 'google.colab._generate_with_variable': <module 'google.colab._generate_with_variable' from '/usr/local/lib/python3.10/dist-packages/google/colab/_generate_with_variable.py'>,\n",
              " 'google.colab._quickchart': <module 'google.colab._quickchart' from '/usr/local/lib/python3.10/dist-packages/google/colab/_quickchart.py'>,\n",
              " 'google.colab._ipython': <module 'google.colab._ipython' from '/usr/local/lib/python3.10/dist-packages/google/colab/_ipython.py'>,\n",
              " 'google.colab.errors': <module 'google.colab.errors' from '/usr/local/lib/python3.10/dist-packages/google/colab/errors.py'>,\n",
              " 'google.colab._message': <module 'google.colab._message' from '/usr/local/lib/python3.10/dist-packages/google/colab/_message.py'>,\n",
              " 'google.colab.output._js': <module 'google.colab.output._js' from '/usr/local/lib/python3.10/dist-packages/google/colab/output/_js.py'>,\n",
              " 'google.colab.output._publish': <module 'google.colab.output._publish' from '/usr/local/lib/python3.10/dist-packages/google/colab/output/_publish.py'>,\n",
              " 'google.colab.output._js_builder': <module 'google.colab.output._js_builder' from '/usr/local/lib/python3.10/dist-packages/google/colab/output/_js_builder.py'>,\n",
              " 'google.colab.output._area': <module 'google.colab.output._area' from '/usr/local/lib/python3.10/dist-packages/google/colab/output/_area.py'>,\n",
              " 'google.colab.output._tags': <module 'google.colab.output._tags' from '/usr/local/lib/python3.10/dist-packages/google/colab/output/_tags.py'>,\n",
              " 'google.colab.output._util': <module 'google.colab.output._util' from '/usr/local/lib/python3.10/dist-packages/google/colab/output/_util.py'>,\n",
              " 'google.colab.output._widgets': <module 'google.colab.output._widgets' from '/usr/local/lib/python3.10/dist-packages/google/colab/output/_widgets.py'>,\n",
              " 'google.colab.output': <module 'google.colab.output' from '/usr/local/lib/python3.10/dist-packages/google/colab/output/__init__.py'>,\n",
              " 'google.colab._quickchart_hint_button': <module 'google.colab._quickchart_hint_button' from '/usr/local/lib/python3.10/dist-packages/google/colab/_quickchart_hint_button.py'>,\n",
              " 'google.colab._quickchart_lib': <module 'google.colab._quickchart_lib' from '/usr/local/lib/python3.10/dist-packages/google/colab/_quickchart_lib.py'>,\n",
              " 'google.colab.autoviz': <module 'google.colab.autoviz' from '/usr/local/lib/python3.10/dist-packages/google/colab/autoviz.py'>,\n",
              " 'google.colab.widgets._widget': <module 'google.colab.widgets._widget' from '/usr/local/lib/python3.10/dist-packages/google/colab/widgets/_widget.py'>,\n",
              " 'google.colab.widgets._grid': <module 'google.colab.widgets._grid' from '/usr/local/lib/python3.10/dist-packages/google/colab/widgets/_grid.py'>,\n",
              " 'google.colab.widgets._tabbar': <module 'google.colab.widgets._tabbar' from '/usr/local/lib/python3.10/dist-packages/google/colab/widgets/_tabbar.py'>,\n",
              " 'google.colab.widgets': <module 'google.colab.widgets' from '/usr/local/lib/python3.10/dist-packages/google/colab/widgets/__init__.py'>,\n",
              " 'IPython.utils.traitlets': <module 'IPython.utils.traitlets' from '/usr/local/lib/python3.10/dist-packages/IPython/utils/traitlets.py'>,\n",
              " 'google.colab.data_table': <module 'google.colab.data_table' from '/usr/local/lib/python3.10/dist-packages/google/colab/data_table.py'>,\n",
              " 'google.colab._interactive_table_hint_button': <module 'google.colab._interactive_table_hint_button' from '/usr/local/lib/python3.10/dist-packages/google/colab/_interactive_table_hint_button.py'>,\n",
              " 'google.colab._inspector': <module 'google.colab._inspector' from '/usr/local/lib/python3.10/dist-packages/google/colab/_inspector.py'>,\n",
              " 'numpy._globals': <module 'numpy._globals' from '/usr/local/lib/python3.10/dist-packages/numpy/_globals.py'>,\n",
              " 'numpy.__config__': <module 'numpy.__config__' from '/usr/local/lib/python3.10/dist-packages/numpy/__config__.py'>,\n",
              " 'numpy._distributor_init': <module 'numpy._distributor_init' from '/usr/local/lib/python3.10/dist-packages/numpy/_distributor_init.py'>,\n",
              " 'numpy._version': <module 'numpy._version' from '/usr/local/lib/python3.10/dist-packages/numpy/_version.py'>,\n",
              " 'numpy.version': <module 'numpy.version' from '/usr/local/lib/python3.10/dist-packages/numpy/version.py'>,\n",
              " 'numpy.core._multiarray_umath': <module 'numpy.core._multiarray_umath' from '/usr/local/lib/python3.10/dist-packages/numpy/core/_multiarray_umath.cpython-310-x86_64-linux-gnu.so'>,\n",
              " 'numpy.compat._inspect': <module 'numpy.compat._inspect' from '/usr/local/lib/python3.10/dist-packages/numpy/compat/_inspect.py'>,\n",
              " 'numpy.compat._pep440': <module 'numpy.compat._pep440' from '/usr/local/lib/python3.10/dist-packages/numpy/compat/_pep440.py'>,\n",
              " 'numpy.compat.py3k': <module 'numpy.compat.py3k' from '/usr/local/lib/python3.10/dist-packages/numpy/compat/py3k.py'>,\n",
              " 'numpy.compat': <module 'numpy.compat' from '/usr/local/lib/python3.10/dist-packages/numpy/compat/__init__.py'>,\n",
              " 'numpy.core.overrides': <module 'numpy.core.overrides' from '/usr/local/lib/python3.10/dist-packages/numpy/core/overrides.py'>,\n",
              " 'numpy.core.multiarray': <module 'numpy.core.multiarray' from '/usr/local/lib/python3.10/dist-packages/numpy/core/multiarray.py'>,\n",
              " 'numpy.core.umath': <module 'numpy.core.umath' from '/usr/local/lib/python3.10/dist-packages/numpy/core/umath.py'>,\n",
              " 'numpy.core._string_helpers': <module 'numpy.core._string_helpers' from '/usr/local/lib/python3.10/dist-packages/numpy/core/_string_helpers.py'>,\n",
              " 'numpy.core._dtype': <module 'numpy.core._dtype' from '/usr/local/lib/python3.10/dist-packages/numpy/core/_dtype.py'>,\n",
              " 'numpy.core._type_aliases': <module 'numpy.core._type_aliases' from '/usr/local/lib/python3.10/dist-packages/numpy/core/_type_aliases.py'>,\n",
              " 'numpy.core.numerictypes': <module 'numpy.core.numerictypes' from '/usr/local/lib/python3.10/dist-packages/numpy/core/numerictypes.py'>,\n",
              " 'numpy.core._exceptions': <module 'numpy.core._exceptions' from '/usr/local/lib/python3.10/dist-packages/numpy/core/_exceptions.py'>,\n",
              " 'numpy.core._methods': <module 'numpy.core._methods' from '/usr/local/lib/python3.10/dist-packages/numpy/core/_methods.py'>,\n",
              " 'numpy.core.fromnumeric': <module 'numpy.core.fromnumeric' from '/usr/local/lib/python3.10/dist-packages/numpy/core/fromnumeric.py'>,\n",
              " 'numpy.core.shape_base': <module 'numpy.core.shape_base' from '/usr/local/lib/python3.10/dist-packages/numpy/core/shape_base.py'>,\n",
              " 'numpy.core._ufunc_config': <module 'numpy.core._ufunc_config' from '/usr/local/lib/python3.10/dist-packages/numpy/core/_ufunc_config.py'>,\n",
              " 'numpy.core.arrayprint': <module 'numpy.core.arrayprint' from '/usr/local/lib/python3.10/dist-packages/numpy/core/arrayprint.py'>,\n",
              " 'numpy.core._asarray': <module 'numpy.core._asarray' from '/usr/local/lib/python3.10/dist-packages/numpy/core/_asarray.py'>,\n",
              " 'numpy.core.numeric': <module 'numpy.core.numeric' from '/usr/local/lib/python3.10/dist-packages/numpy/core/numeric.py'>,\n",
              " 'numpy.core.defchararray': <module 'numpy.core.defchararray' from '/usr/local/lib/python3.10/dist-packages/numpy/core/defchararray.py'>,\n",
              " 'numpy.core.records': <module 'numpy.core.records' from '/usr/local/lib/python3.10/dist-packages/numpy/core/records.py'>,\n",
              " 'numpy.core.memmap': <module 'numpy.core.memmap' from '/usr/local/lib/python3.10/dist-packages/numpy/core/memmap.py'>,\n",
              " 'numpy.core.function_base': <module 'numpy.core.function_base' from '/usr/local/lib/python3.10/dist-packages/numpy/core/function_base.py'>,\n",
              " 'numpy.core._machar': <module 'numpy.core._machar' from '/usr/local/lib/python3.10/dist-packages/numpy/core/_machar.py'>,\n",
              " 'numpy.core.getlimits': <module 'numpy.core.getlimits' from '/usr/local/lib/python3.10/dist-packages/numpy/core/getlimits.py'>,\n",
              " 'numpy.core.einsumfunc': <module 'numpy.core.einsumfunc' from '/usr/local/lib/python3.10/dist-packages/numpy/core/einsumfunc.py'>,\n",
              " 'numpy.core._multiarray_tests': <module 'numpy.core._multiarray_tests' from '/usr/local/lib/python3.10/dist-packages/numpy/core/_multiarray_tests.cpython-310-x86_64-linux-gnu.so'>,\n",
              " 'numpy.core._add_newdocs': <module 'numpy.core._add_newdocs' from '/usr/local/lib/python3.10/dist-packages/numpy/core/_add_newdocs.py'>,\n",
              " 'numpy.core._add_newdocs_scalars': <module 'numpy.core._add_newdocs_scalars' from '/usr/local/lib/python3.10/dist-packages/numpy/core/_add_newdocs_scalars.py'>,\n",
              " 'numpy.core._dtype_ctypes': <module 'numpy.core._dtype_ctypes' from '/usr/local/lib/python3.10/dist-packages/numpy/core/_dtype_ctypes.py'>,\n",
              " 'numpy.core._internal': <module 'numpy.core._internal' from '/usr/local/lib/python3.10/dist-packages/numpy/core/_internal.py'>,\n",
              " 'numpy._pytesttester': <module 'numpy._pytesttester' from '/usr/local/lib/python3.10/dist-packages/numpy/_pytesttester.py'>,\n",
              " 'numpy.core': <module 'numpy.core' from '/usr/local/lib/python3.10/dist-packages/numpy/core/__init__.py'>,\n",
              " 'numpy.lib.mixins': <module 'numpy.lib.mixins' from '/usr/local/lib/python3.10/dist-packages/numpy/lib/mixins.py'>,\n",
              " 'numpy.lib.ufunclike': <module 'numpy.lib.ufunclike' from '/usr/local/lib/python3.10/dist-packages/numpy/lib/ufunclike.py'>,\n",
              " 'numpy.lib.type_check': <module 'numpy.lib.type_check' from '/usr/local/lib/python3.10/dist-packages/numpy/lib/type_check.py'>,\n",
              " 'numpy.lib.scimath': <module 'numpy.lib.scimath' from '/usr/local/lib/python3.10/dist-packages/numpy/lib/scimath.py'>,\n",
              " 'numpy.lib.stride_tricks': <module 'numpy.lib.stride_tricks' from '/usr/local/lib/python3.10/dist-packages/numpy/lib/stride_tricks.py'>,\n",
              " 'numpy.lib.twodim_base': <module 'numpy.lib.twodim_base' from '/usr/local/lib/python3.10/dist-packages/numpy/lib/twodim_base.py'>,\n",
              " 'numpy.linalg._umath_linalg': <module 'numpy.linalg._umath_linalg' from '/usr/local/lib/python3.10/dist-packages/numpy/linalg/_umath_linalg.cpython-310-x86_64-linux-gnu.so'>,\n",
              " 'numpy.linalg.linalg': <module 'numpy.linalg.linalg' from '/usr/local/lib/python3.10/dist-packages/numpy/linalg/linalg.py'>,\n",
              " 'numpy.linalg': <module 'numpy.linalg' from '/usr/local/lib/python3.10/dist-packages/numpy/linalg/__init__.py'>,\n",
              " 'numpy.matrixlib.defmatrix': <module 'numpy.matrixlib.defmatrix' from '/usr/local/lib/python3.10/dist-packages/numpy/matrixlib/defmatrix.py'>,\n",
              " 'numpy.matrixlib': <module 'numpy.matrixlib' from '/usr/local/lib/python3.10/dist-packages/numpy/matrixlib/__init__.py'>,\n",
              " 'numpy.lib.histograms': <module 'numpy.lib.histograms' from '/usr/local/lib/python3.10/dist-packages/numpy/lib/histograms.py'>,\n",
              " 'numpy.lib.function_base': <module 'numpy.lib.function_base' from '/usr/local/lib/python3.10/dist-packages/numpy/lib/function_base.py'>,\n",
              " 'numpy.lib.index_tricks': <module 'numpy.lib.index_tricks' from '/usr/local/lib/python3.10/dist-packages/numpy/lib/index_tricks.py'>,\n",
              " 'numpy.lib.nanfunctions': <module 'numpy.lib.nanfunctions' from '/usr/local/lib/python3.10/dist-packages/numpy/lib/nanfunctions.py'>,\n",
              " 'numpy.lib.shape_base': <module 'numpy.lib.shape_base' from '/usr/local/lib/python3.10/dist-packages/numpy/lib/shape_base.py'>,\n",
              " 'numpy.lib.polynomial': <module 'numpy.lib.polynomial' from '/usr/local/lib/python3.10/dist-packages/numpy/lib/polynomial.py'>,\n",
              " 'numpy.lib.utils': <module 'numpy.lib.utils' from '/usr/local/lib/python3.10/dist-packages/numpy/lib/utils.py'>,\n",
              " 'numpy.lib.arraysetops': <module 'numpy.lib.arraysetops' from '/usr/local/lib/python3.10/dist-packages/numpy/lib/arraysetops.py'>,\n",
              " 'numpy.lib.format': <module 'numpy.lib.format' from '/usr/local/lib/python3.10/dist-packages/numpy/lib/format.py'>,\n",
              " 'numpy.lib._datasource': <module 'numpy.lib._datasource' from '/usr/local/lib/python3.10/dist-packages/numpy/lib/_datasource.py'>,\n",
              " 'numpy.lib._iotools': <module 'numpy.lib._iotools' from '/usr/local/lib/python3.10/dist-packages/numpy/lib/_iotools.py'>,\n",
              " 'numpy.lib.npyio': <module 'numpy.lib.npyio' from '/usr/local/lib/python3.10/dist-packages/numpy/lib/npyio.py'>,\n",
              " 'numpy.lib.arrayterator': <module 'numpy.lib.arrayterator' from '/usr/local/lib/python3.10/dist-packages/numpy/lib/arrayterator.py'>,\n",
              " 'numpy.lib.arraypad': <module 'numpy.lib.arraypad' from '/usr/local/lib/python3.10/dist-packages/numpy/lib/arraypad.py'>,\n",
              " 'numpy.lib._version': <module 'numpy.lib._version' from '/usr/local/lib/python3.10/dist-packages/numpy/lib/_version.py'>,\n",
              " 'numpy.lib': <module 'numpy.lib' from '/usr/local/lib/python3.10/dist-packages/numpy/lib/__init__.py'>,\n",
              " 'numpy.fft._pocketfft_internal': <module 'numpy.fft._pocketfft_internal' from '/usr/local/lib/python3.10/dist-packages/numpy/fft/_pocketfft_internal.cpython-310-x86_64-linux-gnu.so'>,\n",
              " 'numpy.fft._pocketfft': <module 'numpy.fft._pocketfft' from '/usr/local/lib/python3.10/dist-packages/numpy/fft/_pocketfft.py'>,\n",
              " 'numpy.fft.helper': <module 'numpy.fft.helper' from '/usr/local/lib/python3.10/dist-packages/numpy/fft/helper.py'>,\n",
              " 'numpy.fft': <module 'numpy.fft' from '/usr/local/lib/python3.10/dist-packages/numpy/fft/__init__.py'>,\n",
              " 'numpy.polynomial.polyutils': <module 'numpy.polynomial.polyutils' from '/usr/local/lib/python3.10/dist-packages/numpy/polynomial/polyutils.py'>,\n",
              " 'numpy.polynomial._polybase': <module 'numpy.polynomial._polybase' from '/usr/local/lib/python3.10/dist-packages/numpy/polynomial/_polybase.py'>,\n",
              " 'numpy.polynomial.polynomial': <module 'numpy.polynomial.polynomial' from '/usr/local/lib/python3.10/dist-packages/numpy/polynomial/polynomial.py'>,\n",
              " 'numpy.polynomial.chebyshev': <module 'numpy.polynomial.chebyshev' from '/usr/local/lib/python3.10/dist-packages/numpy/polynomial/chebyshev.py'>,\n",
              " 'numpy.polynomial.legendre': <module 'numpy.polynomial.legendre' from '/usr/local/lib/python3.10/dist-packages/numpy/polynomial/legendre.py'>,\n",
              " 'numpy.polynomial.hermite': <module 'numpy.polynomial.hermite' from '/usr/local/lib/python3.10/dist-packages/numpy/polynomial/hermite.py'>,\n",
              " 'numpy.polynomial.hermite_e': <module 'numpy.polynomial.hermite_e' from '/usr/local/lib/python3.10/dist-packages/numpy/polynomial/hermite_e.py'>,\n",
              " 'numpy.polynomial.laguerre': <module 'numpy.polynomial.laguerre' from '/usr/local/lib/python3.10/dist-packages/numpy/polynomial/laguerre.py'>,\n",
              " 'numpy.polynomial': <module 'numpy.polynomial' from '/usr/local/lib/python3.10/dist-packages/numpy/polynomial/__init__.py'>,\n",
              " 'numpy.random._common': <module 'numpy.random._common' from '/usr/local/lib/python3.10/dist-packages/numpy/random/_common.cpython-310-x86_64-linux-gnu.so'>,\n",
              " 'secrets': <module 'secrets' from '/usr/lib/python3.10/secrets.py'>,\n",
              " 'numpy.random.bit_generator': <module 'numpy.random.bit_generator' from '/usr/local/lib/python3.10/dist-packages/numpy/random/bit_generator.cpython-310-x86_64-linux-gnu.so'>,\n",
              " 'numpy.random._bounded_integers': <module 'numpy.random._bounded_integers' from '/usr/local/lib/python3.10/dist-packages/numpy/random/_bounded_integers.cpython-310-x86_64-linux-gnu.so'>,\n",
              " 'numpy.random._mt19937': <module 'numpy.random._mt19937' from '/usr/local/lib/python3.10/dist-packages/numpy/random/_mt19937.cpython-310-x86_64-linux-gnu.so'>,\n",
              " 'numpy.random.mtrand': <module 'numpy.random.mtrand' from '/usr/local/lib/python3.10/dist-packages/numpy/random/mtrand.cpython-310-x86_64-linux-gnu.so'>,\n",
              " 'numpy.random._philox': <module 'numpy.random._philox' from '/usr/local/lib/python3.10/dist-packages/numpy/random/_philox.cpython-310-x86_64-linux-gnu.so'>,\n",
              " 'numpy.random._pcg64': <module 'numpy.random._pcg64' from '/usr/local/lib/python3.10/dist-packages/numpy/random/_pcg64.cpython-310-x86_64-linux-gnu.so'>,\n",
              " 'numpy.random._sfc64': <module 'numpy.random._sfc64' from '/usr/local/lib/python3.10/dist-packages/numpy/random/_sfc64.cpython-310-x86_64-linux-gnu.so'>,\n",
              " 'numpy.random._generator': <module 'numpy.random._generator' from '/usr/local/lib/python3.10/dist-packages/numpy/random/_generator.cpython-310-x86_64-linux-gnu.so'>,\n",
              " 'numpy.random._pickle': <module 'numpy.random._pickle' from '/usr/local/lib/python3.10/dist-packages/numpy/random/_pickle.py'>,\n",
              " 'numpy.random': <module 'numpy.random' from '/usr/local/lib/python3.10/dist-packages/numpy/random/__init__.py'>,\n",
              " 'numpy.ctypeslib': <module 'numpy.ctypeslib' from '/usr/local/lib/python3.10/dist-packages/numpy/ctypeslib.py'>,\n",
              " 'numpy.ma.core': <module 'numpy.ma.core' from '/usr/local/lib/python3.10/dist-packages/numpy/ma/core.py'>,\n",
              " 'numpy.ma.extras': <module 'numpy.ma.extras' from '/usr/local/lib/python3.10/dist-packages/numpy/ma/extras.py'>,\n",
              " 'numpy.ma': <module 'numpy.ma' from '/usr/local/lib/python3.10/dist-packages/numpy/ma/__init__.py'>,\n",
              " 'numpy': <module 'numpy' from '/usr/local/lib/python3.10/dist-packages/numpy/__init__.py'>,\n",
              " 'PIL._version': <module 'PIL._version' from '/usr/local/lib/python3.10/dist-packages/PIL/_version.py'>,\n",
              " 'PIL': <module 'PIL' from '/usr/local/lib/python3.10/dist-packages/PIL/__init__.py'>,\n",
              " 'google.colab._reprs': <module 'google.colab._reprs' from '/usr/local/lib/python3.10/dist-packages/google/colab/_reprs.py'>,\n",
              " 'google.colab._shell_customizations': <module 'google.colab._shell_customizations' from '/usr/local/lib/python3.10/dist-packages/google/colab/_shell_customizations.py'>,\n",
              " 'google.colab._system_commands': <module 'google.colab._system_commands' from '/usr/local/lib/python3.10/dist-packages/google/colab/_system_commands.py'>,\n",
              " 'google.colab._tensorflow_magics': <module 'google.colab._tensorflow_magics' from '/usr/local/lib/python3.10/dist-packages/google/colab/_tensorflow_magics.py'>,\n",
              " 'http.server': <module 'http.server' from '/usr/lib/python3.10/http/server.py'>,\n",
              " 'google.colab.files': <module 'google.colab.files' from '/usr/local/lib/python3.10/dist-packages/google/colab/files.py'>,\n",
              " 'google.colab.auth': <module 'google.colab.auth' from '/usr/local/lib/python3.10/dist-packages/google/colab/auth.py'>,\n",
              " 'pexpect.popen_spawn': <module 'pexpect.popen_spawn' from '/usr/local/lib/python3.10/dist-packages/pexpect/popen_spawn.py'>,\n",
              " 'psutil._common': <module 'psutil._common' from '/usr/local/lib/python3.10/dist-packages/psutil/_common.py'>,\n",
              " 'psutil._compat': <module 'psutil._compat' from '/usr/local/lib/python3.10/dist-packages/psutil/_compat.py'>,\n",
              " 'psutil._psposix': <module 'psutil._psposix' from '/usr/local/lib/python3.10/dist-packages/psutil/_psposix.py'>,\n",
              " 'psutil._psutil_linux': <module 'psutil._psutil_linux' from '/usr/local/lib/python3.10/dist-packages/psutil/_psutil_linux.abi3.so'>,\n",
              " 'psutil._psutil_posix': <module 'psutil._psutil_posix' from '/usr/local/lib/python3.10/dist-packages/psutil/_psutil_posix.abi3.so'>,\n",
              " 'psutil._pslinux': <module 'psutil._pslinux' from '/usr/local/lib/python3.10/dist-packages/psutil/_pslinux.py'>,\n",
              " 'psutil': <module 'psutil' from '/usr/local/lib/python3.10/dist-packages/psutil/__init__.py'>,\n",
              " 'google.colab.drive': <module 'google.colab.drive' from '/usr/local/lib/python3.10/dist-packages/google/colab/drive.py'>,\n",
              " 'gzip': <module 'gzip' from '/usr/lib/python3.10/gzip.py'>,\n",
              " 'socks': <module 'socks' from '/usr/local/lib/python3.10/dist-packages/socks.py'>,\n",
              " 'pyparsing.util': <module 'pyparsing.util' from '/usr/local/lib/python3.10/dist-packages/pyparsing/util.py'>,\n",
              " 'pyparsing.unicode': <module 'pyparsing.unicode' from '/usr/local/lib/python3.10/dist-packages/pyparsing/unicode.py'>,\n",
              " 'pyparsing.exceptions': <module 'pyparsing.exceptions' from '/usr/local/lib/python3.10/dist-packages/pyparsing/exceptions.py'>,\n",
              " 'pyparsing.actions': <module 'pyparsing.actions' from '/usr/local/lib/python3.10/dist-packages/pyparsing/actions.py'>,\n",
              " 'pyparsing.results': <module 'pyparsing.results' from '/usr/local/lib/python3.10/dist-packages/pyparsing/results.py'>,\n",
              " 'pyparsing.core': <module 'pyparsing.core' from '/usr/local/lib/python3.10/dist-packages/pyparsing/core.py'>,\n",
              " 'pyparsing.helpers': <module 'pyparsing.helpers' from '/usr/local/lib/python3.10/dist-packages/pyparsing/helpers.py'>,\n",
              " 'pyparsing.testing': <module 'pyparsing.testing' from '/usr/local/lib/python3.10/dist-packages/pyparsing/testing.py'>,\n",
              " 'pyparsing.common': <module 'pyparsing.common' from '/usr/local/lib/python3.10/dist-packages/pyparsing/common.py'>,\n",
              " 'pyparsing': <module 'pyparsing' from '/usr/local/lib/python3.10/dist-packages/pyparsing/__init__.py'>,\n",
              " 'httplib2.error': <module 'httplib2.error' from '/usr/local/lib/python3.10/dist-packages/httplib2/error.py'>,\n",
              " 'httplib2.auth': <module 'httplib2.auth' from '/usr/local/lib/python3.10/dist-packages/httplib2/auth.py'>,\n",
              " 'httplib2.iri2uri': <module 'httplib2.iri2uri' from '/usr/local/lib/python3.10/dist-packages/httplib2/iri2uri.py'>,\n",
              " 'certifi.core': <module 'certifi.core' from '/usr/local/lib/python3.10/dist-packages/certifi/core.py'>,\n",
              " 'certifi': <module 'certifi' from '/usr/local/lib/python3.10/dist-packages/certifi/__init__.py'>,\n",
              " 'httplib2.certs': <module 'httplib2.certs' from '/usr/local/lib/python3.10/dist-packages/httplib2/certs.py'>,\n",
              " 'importlib.readers': <module 'importlib.readers' from '/usr/lib/python3.10/importlib/readers.py'>,\n",
              " 'httplib2': <module 'httplib2' from '/usr/local/lib/python3.10/dist-packages/httplib2/__init__.py'>,\n",
              " 'google.colab.runtime': <module 'google.colab.runtime' from '/usr/local/lib/python3.10/dist-packages/google/colab/runtime.py'>,\n",
              " 'google.colab.snippets': <module 'google.colab.snippets' from '/usr/local/lib/python3.10/dist-packages/google/colab/snippets.py'>,\n",
              " 'google.colab': <module 'google.colab' from '/usr/local/lib/python3.10/dist-packages/google/colab/__init__.py'>,\n",
              " 'google.colab._history': <module 'google.colab._history' from '/usr/local/lib/python3.10/dist-packages/google/colab/_history.py'>,\n",
              " 'google.colab._pip': <module 'google.colab._pip' from '/usr/local/lib/python3.10/dist-packages/google/colab/_pip.py'>,\n",
              " 'IPython.core.inputtransformer': <module 'IPython.core.inputtransformer' from '/usr/local/lib/python3.10/dist-packages/IPython/core/inputtransformer.py'>,\n",
              " 'IPython.core.inputsplitter': <module 'IPython.core.inputsplitter' from '/usr/local/lib/python3.10/dist-packages/IPython/core/inputsplitter.py'>,\n",
              " 'google.colab._shell': <module 'google.colab._shell' from '/usr/local/lib/python3.10/dist-packages/google/colab/_shell.py'>,\n",
              " 'google.colab._kernel': <module 'google.colab._kernel' from '/usr/local/lib/python3.10/dist-packages/google/colab/_kernel.py'>,\n",
              " 'faulthandler': <module 'faulthandler' (built-in)>,\n",
              " 'IPython.core.completerlib': <module 'IPython.core.completerlib' from '/usr/local/lib/python3.10/dist-packages/IPython/core/completerlib.py'>,\n",
              " 'packaging': <module 'packaging' from '/usr/local/lib/python3.10/dist-packages/packaging/__init__.py'>,\n",
              " 'packaging._structures': <module 'packaging._structures' from '/usr/local/lib/python3.10/dist-packages/packaging/_structures.py'>,\n",
              " 'packaging.version': <module 'packaging.version' from '/usr/local/lib/python3.10/dist-packages/packaging/version.py'>,\n",
              " 'matplotlib._api.deprecation': <module 'matplotlib._api.deprecation' from '/usr/local/lib/python3.10/dist-packages/matplotlib/_api/deprecation.py'>,\n",
              " 'matplotlib._api': <module 'matplotlib._api' from '/usr/local/lib/python3.10/dist-packages/matplotlib/_api/__init__.py'>,\n",
              " 'matplotlib._version': <module 'matplotlib._version' from '/usr/local/lib/python3.10/dist-packages/matplotlib/_version.py'>,\n",
              " 'matplotlib._c_internal_utils': <module 'matplotlib._c_internal_utils' from '/usr/local/lib/python3.10/dist-packages/matplotlib/_c_internal_utils.cpython-310-x86_64-linux-gnu.so'>,\n",
              " 'matplotlib.cbook': <module 'matplotlib.cbook' from '/usr/local/lib/python3.10/dist-packages/matplotlib/cbook/__init__.py'>,\n",
              " 'matplotlib._docstring': <module 'matplotlib._docstring' from '/usr/local/lib/python3.10/dist-packages/matplotlib/_docstring.py'>,\n",
              " 'xml.parsers': <module 'xml.parsers' from '/usr/lib/python3.10/xml/parsers/__init__.py'>,\n",
              " 'pyexpat.errors': <module 'pyexpat.errors'>,\n",
              " 'pyexpat.model': <module 'pyexpat.model'>,\n",
              " 'pyexpat': <module 'pyexpat' (built-in)>,\n",
              " 'xml.parsers.expat.model': <module 'pyexpat.model'>,\n",
              " 'xml.parsers.expat.errors': <module 'pyexpat.errors'>,\n",
              " 'xml.parsers.expat': <module 'xml.parsers.expat' from '/usr/lib/python3.10/xml/parsers/expat.py'>,\n",
              " 'defusedxml.common': <module 'defusedxml.common' from '/usr/local/lib/python3.10/dist-packages/defusedxml/common.py'>,\n",
              " 'defusedxml': <module 'defusedxml' from '/usr/local/lib/python3.10/dist-packages/defusedxml/__init__.py'>,\n",
              " 'xml.etree': <module 'xml.etree' from '/usr/lib/python3.10/xml/etree/__init__.py'>,\n",
              " 'xml.etree.ElementPath': <module 'xml.etree.ElementPath' from '/usr/lib/python3.10/xml/etree/ElementPath.py'>,\n",
              " '_elementtree': <module '_elementtree' (built-in)>,\n",
              " 'xml.etree.ElementTree': <module 'xml.etree.ElementTree' from '/usr/lib/python3.10/xml/etree/ElementTree.py'>,\n",
              " 'defusedxml.ElementTree': <module 'defusedxml.ElementTree' from '/usr/local/lib/python3.10/dist-packages/defusedxml/ElementTree.py'>,\n",
              " 'PIL.ExifTags': <module 'PIL.ExifTags' from '/usr/local/lib/python3.10/dist-packages/PIL/ExifTags.py'>,\n",
              " 'PIL.ImageMode': <module 'PIL.ImageMode' from '/usr/local/lib/python3.10/dist-packages/PIL/ImageMode.py'>,\n",
              " 'PIL.TiffTags': <module 'PIL.TiffTags' from '/usr/local/lib/python3.10/dist-packages/PIL/TiffTags.py'>,\n",
              " 'PIL._binary': <module 'PIL._binary' from '/usr/local/lib/python3.10/dist-packages/PIL/_binary.py'>,\n",
              " 'PIL._deprecate': <module 'PIL._deprecate' from '/usr/local/lib/python3.10/dist-packages/PIL/_deprecate.py'>,\n",
              " 'PIL._util': <module 'PIL._util' from '/usr/local/lib/python3.10/dist-packages/PIL/_util.py'>,\n",
              " 'PIL._imaging': <module 'PIL._imaging' from '/usr/local/lib/python3.10/dist-packages/PIL/_imaging.cpython-310-x86_64-linux-gnu.so'>,\n",
              " 'cffi.lock': <module 'cffi.lock' from '/usr/local/lib/python3.10/dist-packages/cffi/lock.py'>,\n",
              " 'cffi.error': <module 'cffi.error' from '/usr/local/lib/python3.10/dist-packages/cffi/error.py'>,\n",
              " 'cffi.model': <module 'cffi.model' from '/usr/local/lib/python3.10/dist-packages/cffi/model.py'>,\n",
              " 'cffi.api': <module 'cffi.api' from '/usr/local/lib/python3.10/dist-packages/cffi/api.py'>,\n",
              " 'cffi': <module 'cffi' from '/usr/local/lib/python3.10/dist-packages/cffi/__init__.py'>,\n",
              " 'PIL.Image': <module 'PIL.Image' from '/usr/local/lib/python3.10/dist-packages/PIL/Image.py'>,\n",
              " 'PIL.ImageChops': <module 'PIL.ImageChops' from '/usr/local/lib/python3.10/dist-packages/PIL/ImageChops.py'>,\n",
              " 'PIL.ImageFile': <module 'PIL.ImageFile' from '/usr/local/lib/python3.10/dist-packages/PIL/ImageFile.py'>,\n",
              " 'PIL.GimpGradientFile': <module 'PIL.GimpGradientFile' from '/usr/local/lib/python3.10/dist-packages/PIL/GimpGradientFile.py'>,\n",
              " 'PIL.GimpPaletteFile': <module 'PIL.GimpPaletteFile' from '/usr/local/lib/python3.10/dist-packages/PIL/GimpPaletteFile.py'>,\n",
              " 'PIL.ImageColor': <module 'PIL.ImageColor' from '/usr/local/lib/python3.10/dist-packages/PIL/ImageColor.py'>,\n",
              " 'PIL.PaletteFile': <module 'PIL.PaletteFile' from '/usr/local/lib/python3.10/dist-packages/PIL/PaletteFile.py'>,\n",
              " 'PIL.ImagePalette': <module 'PIL.ImagePalette' from '/usr/local/lib/python3.10/dist-packages/PIL/ImagePalette.py'>,\n",
              " 'PIL.ImageSequence': <module 'PIL.ImageSequence' from '/usr/local/lib/python3.10/dist-packages/PIL/ImageSequence.py'>,\n",
              " 'PIL.PngImagePlugin': <module 'PIL.PngImagePlugin' from '/usr/local/lib/python3.10/dist-packages/PIL/PngImagePlugin.py'>,\n",
              " 'matplotlib._cm': <module 'matplotlib._cm' from '/usr/local/lib/python3.10/dist-packages/matplotlib/_cm.py'>,\n",
              " 'matplotlib._path': <module 'matplotlib._path' from '/usr/local/lib/python3.10/dist-packages/matplotlib/_path.cpython-310-x86_64-linux-gnu.so'>,\n",
              " 'matplotlib.bezier': <module 'matplotlib.bezier' from '/usr/local/lib/python3.10/dist-packages/matplotlib/bezier.py'>,\n",
              " 'matplotlib.path': <module 'matplotlib.path' from '/usr/local/lib/python3.10/dist-packages/matplotlib/path.py'>,\n",
              " 'matplotlib.transforms': <module 'matplotlib.transforms' from '/usr/local/lib/python3.10/dist-packages/matplotlib/transforms.py'>,\n",
              " 'matplotlib.ticker': <module 'matplotlib.ticker' from '/usr/local/lib/python3.10/dist-packages/matplotlib/ticker.py'>,\n",
              " 'matplotlib.scale': <module 'matplotlib.scale' from '/usr/local/lib/python3.10/dist-packages/matplotlib/scale.py'>,\n",
              " 'matplotlib._color_data': <module 'matplotlib._color_data' from '/usr/local/lib/python3.10/dist-packages/matplotlib/_color_data.py'>,\n",
              " 'matplotlib.colors': <module 'matplotlib.colors' from '/usr/local/lib/python3.10/dist-packages/matplotlib/colors.py'>,\n",
              " 'matplotlib._fontconfig_pattern': <module 'matplotlib._fontconfig_pattern' from '/usr/local/lib/python3.10/dist-packages/matplotlib/_fontconfig_pattern.py'>,\n",
              " 'matplotlib._enums': <module 'matplotlib._enums' from '/usr/local/lib/python3.10/dist-packages/matplotlib/_enums.py'>,\n",
              " 'cycler': <module 'cycler' from '/usr/local/lib/python3.10/dist-packages/cycler/__init__.py'>,\n",
              " 'matplotlib.rcsetup': <module 'matplotlib.rcsetup' from '/usr/local/lib/python3.10/dist-packages/matplotlib/rcsetup.py'>,\n",
              " 'matplotlib.ft2font': <module 'matplotlib.ft2font' from '/usr/local/lib/python3.10/dist-packages/matplotlib/ft2font.cpython-310-x86_64-linux-gnu.so'>,\n",
              " 'kiwisolver.exceptions': <module 'kiwisolver.exceptions' from '/usr/local/lib/python3.10/dist-packages/kiwisolver/exceptions.py'>,\n",
              " ...}"
            ]
          },
          "metadata": {},
          "execution_count": 7
        }
      ]
    },
    {
      "cell_type": "code",
      "source": [
        "# 2개의 방식이 있는데 어떤 방식이 좋을까? => 상황에 맞게\n",
        "# 어떤게 더 좋다는 표현은 옳지 않고 정답은 없음\n",
        "\n",
        "# 1번\n",
        "from info import name, age, hello\n",
        "\n",
        "print(name)"
      ],
      "metadata": {
        "colab": {
          "base_uri": "https://localhost:8080/",
          "height": 401
        },
        "id": "YkrzlxA319I4",
        "outputId": "3a153896-4bea-4cac-ee88-2e7f26ebe515"
      },
      "execution_count": 8,
      "outputs": [
        {
          "output_type": "error",
          "ename": "ModuleNotFoundError",
          "evalue": "No module named 'info'",
          "traceback": [
            "\u001b[0;31m---------------------------------------------------------------------------\u001b[0m",
            "\u001b[0;31mModuleNotFoundError\u001b[0m                       Traceback (most recent call last)",
            "\u001b[0;32m<ipython-input-8-e32440822700>\u001b[0m in \u001b[0;36m<cell line: 5>\u001b[0;34m()\u001b[0m\n\u001b[1;32m      3\u001b[0m \u001b[0;34m\u001b[0m\u001b[0m\n\u001b[1;32m      4\u001b[0m \u001b[0;31m# 1번\u001b[0m\u001b[0;34m\u001b[0m\u001b[0;34m\u001b[0m\u001b[0m\n\u001b[0;32m----> 5\u001b[0;31m \u001b[0;32mfrom\u001b[0m \u001b[0minfo\u001b[0m \u001b[0;32mimport\u001b[0m \u001b[0mname\u001b[0m\u001b[0;34m,\u001b[0m \u001b[0mage\u001b[0m\u001b[0;34m,\u001b[0m \u001b[0mhello\u001b[0m\u001b[0;34m\u001b[0m\u001b[0;34m\u001b[0m\u001b[0m\n\u001b[0m\u001b[1;32m      6\u001b[0m \u001b[0;34m\u001b[0m\u001b[0m\n\u001b[1;32m      7\u001b[0m \u001b[0mprint\u001b[0m\u001b[0;34m(\u001b[0m\u001b[0mname\u001b[0m\u001b[0;34m)\u001b[0m\u001b[0;34m\u001b[0m\u001b[0;34m\u001b[0m\u001b[0m\n",
            "\u001b[0;31mModuleNotFoundError\u001b[0m: No module named 'info'",
            "",
            "\u001b[0;31m---------------------------------------------------------------------------\u001b[0;32m\nNOTE: If your import is failing due to a missing package, you can\nmanually install dependencies using either !pip or !apt.\n\nTo view examples of installing some common dependencies, click the\n\"Open Examples\" button below.\n\u001b[0;31m---------------------------------------------------------------------------\u001b[0m\n"
          ],
          "errorDetails": {
            "actions": [
              {
                "action": "open_url",
                "actionText": "Open Examples",
                "url": "/notebooks/snippets/importing_libraries.ipynb"
              }
            ]
          }
        }
      ]
    },
    {
      "cell_type": "code",
      "source": [
        "# 2번\n",
        "# 여러 모듈을 포함해야 하는 실무에서는 2번이 선호\n",
        "import info\n",
        "\n",
        "info.name\n",
        "info.age\n",
        "info.hello()"
      ],
      "metadata": {
        "id": "Wwgl_Rj62O5S",
        "colab": {
          "base_uri": "https://localhost:8080/",
          "height": 401
        },
        "outputId": "244a4c08-95bd-473e-aa51-005d4a718ebd"
      },
      "execution_count": 9,
      "outputs": [
        {
          "output_type": "error",
          "ename": "ModuleNotFoundError",
          "evalue": "No module named 'info'",
          "traceback": [
            "\u001b[0;31m---------------------------------------------------------------------------\u001b[0m",
            "\u001b[0;31mModuleNotFoundError\u001b[0m                       Traceback (most recent call last)",
            "\u001b[0;32m<ipython-input-9-719a7bbd0fe1>\u001b[0m in \u001b[0;36m<cell line: 3>\u001b[0;34m()\u001b[0m\n\u001b[1;32m      1\u001b[0m \u001b[0;31m# 2번\u001b[0m\u001b[0;34m\u001b[0m\u001b[0;34m\u001b[0m\u001b[0m\n\u001b[1;32m      2\u001b[0m \u001b[0;31m# 여러 모듈을 포함해야 하는 실무에서는 2번이 선호\u001b[0m\u001b[0;34m\u001b[0m\u001b[0;34m\u001b[0m\u001b[0m\n\u001b[0;32m----> 3\u001b[0;31m \u001b[0;32mimport\u001b[0m \u001b[0minfo\u001b[0m\u001b[0;34m\u001b[0m\u001b[0;34m\u001b[0m\u001b[0m\n\u001b[0m\u001b[1;32m      4\u001b[0m \u001b[0;34m\u001b[0m\u001b[0m\n\u001b[1;32m      5\u001b[0m \u001b[0minfo\u001b[0m\u001b[0;34m.\u001b[0m\u001b[0mname\u001b[0m\u001b[0;34m\u001b[0m\u001b[0;34m\u001b[0m\u001b[0m\n",
            "\u001b[0;31mModuleNotFoundError\u001b[0m: No module named 'info'",
            "",
            "\u001b[0;31m---------------------------------------------------------------------------\u001b[0;32m\nNOTE: If your import is failing due to a missing package, you can\nmanually install dependencies using either !pip or !apt.\n\nTo view examples of installing some common dependencies, click the\n\"Open Examples\" button below.\n\u001b[0;31m---------------------------------------------------------------------------\u001b[0m\n"
          ],
          "errorDetails": {
            "actions": [
              {
                "action": "open_url",
                "actionText": "Open Examples",
                "url": "/notebooks/snippets/importing_libraries.ipynb"
              }
            ]
          }
        }
      ]
    },
    {
      "cell_type": "code",
      "source": [
        "# 문제가 있는 코드\n",
        "# 뒤에 로드 된 것이 덮어 씀, 극히 드물지만 일어나는 일\n",
        "\n",
        "from info import name, age, hello\n",
        "from infotwo import name, age\n",
        "\n",
        "print(name)"
      ],
      "metadata": {
        "colab": {
          "base_uri": "https://localhost:8080/",
          "height": 401
        },
        "id": "szGi5nlz2fZA",
        "outputId": "b9da2184-9bff-47a1-d18c-67c3e7eae055"
      },
      "execution_count": 10,
      "outputs": [
        {
          "output_type": "error",
          "ename": "ModuleNotFoundError",
          "evalue": "No module named 'info'",
          "traceback": [
            "\u001b[0;31m---------------------------------------------------------------------------\u001b[0m",
            "\u001b[0;31mModuleNotFoundError\u001b[0m                       Traceback (most recent call last)",
            "\u001b[0;32m<ipython-input-10-c275a93fac4f>\u001b[0m in \u001b[0;36m<cell line: 5>\u001b[0;34m()\u001b[0m\n\u001b[1;32m      3\u001b[0m \u001b[0;31m# 이런 경우는 아주 극히 드물지만 일어나는 일입니다.\u001b[0m\u001b[0;34m\u001b[0m\u001b[0;34m\u001b[0m\u001b[0m\n\u001b[1;32m      4\u001b[0m \u001b[0;34m\u001b[0m\u001b[0m\n\u001b[0;32m----> 5\u001b[0;31m \u001b[0;32mfrom\u001b[0m \u001b[0minfo\u001b[0m \u001b[0;32mimport\u001b[0m \u001b[0mname\u001b[0m\u001b[0;34m,\u001b[0m \u001b[0mage\u001b[0m\u001b[0;34m,\u001b[0m \u001b[0mhello\u001b[0m\u001b[0;34m\u001b[0m\u001b[0;34m\u001b[0m\u001b[0m\n\u001b[0m\u001b[1;32m      6\u001b[0m \u001b[0;32mfrom\u001b[0m \u001b[0minfotwo\u001b[0m \u001b[0;32mimport\u001b[0m \u001b[0mname\u001b[0m\u001b[0;34m,\u001b[0m \u001b[0mage\u001b[0m\u001b[0;34m\u001b[0m\u001b[0;34m\u001b[0m\u001b[0m\n\u001b[1;32m      7\u001b[0m \u001b[0;34m\u001b[0m\u001b[0m\n",
            "\u001b[0;31mModuleNotFoundError\u001b[0m: No module named 'info'",
            "",
            "\u001b[0;31m---------------------------------------------------------------------------\u001b[0;32m\nNOTE: If your import is failing due to a missing package, you can\nmanually install dependencies using either !pip or !apt.\n\nTo view examples of installing some common dependencies, click the\n\"Open Examples\" button below.\n\u001b[0;31m---------------------------------------------------------------------------\u001b[0m\n"
          ],
          "errorDetails": {
            "actions": [
              {
                "action": "open_url",
                "actionText": "Open Examples",
                "url": "/notebooks/snippets/importing_libraries.ipynb"
              }
            ]
          }
        }
      ]
    },
    {
      "cell_type": "code",
      "source": [
        "# 라이브러리 : 여러분들 코드에 라이브러리가 섞여 들어가는 코드. 예를 들어 크롤링에 request, bs4\n",
        "# 프레임웤 : 설계 도면이 정해져 있어서 이 설계 도면대로 코딩을 해야 하는 경우. 레고 설계 도면처럼 완성품에 설계도면이 존재\n",
        "# 서드파티 : 프레임웤에 붙는 코드. 예를 들어 Django 서드파티라고 하면 Django 로그인, DRF, Django-cors"
      ],
      "metadata": {
        "id": "eIYeu5p13iXk"
      },
      "execution_count": 11,
      "outputs": []
    },
    {
      "cell_type": "code",
      "source": [
        "# from .info import name\n",
        "\n",
        "# name"
      ],
      "metadata": {
        "id": "Fgrm5IA14pTn"
      },
      "execution_count": 26,
      "outputs": []
    },
    {
      "cell_type": "markdown",
      "source": [
        "### + 자주 사용되는 모듈"
      ],
      "metadata": {
        "id": "79awuDuS5L1b"
      }
    },
    {
      "cell_type": "code",
      "source": [
        "import os\n",
        "\n",
        "# Django에 3.x에서 os모듈이 빠졌음\n",
        "# os모듈 대신 Path(from pathlib import Path)라는 모듈\n",
        "# os모듈은 너무 강력함, os모듈에 경로지정\n",
        "\n",
        "os.mkdir('licat') # licat이란 폴더 생성, 삭제는 os.rmdir()\n",
        "os.getcwd() # 현재 경로 반환\n",
        "os.open('a.txt', os.O_CREAT | os.O_WRONLY) # 파일 생성(os.O_CREAT: 필요한 경우 파일을 생성, os.O_WRONLY: 파일을 쓰기 전용 모드로)\n",
        "os.rename('a.txt', 'b.txt') # a.txt파일을 b.txt파일로 변경\n",
        "os.remove('b.txt')"
      ],
      "metadata": {
        "colab": {
          "base_uri": "https://localhost:8080/",
          "height": 274
        },
        "id": "U4UzZw8X5Nf4",
        "outputId": "2262d0b8-3373-4314-d8e6-1ec0203bc7b0"
      },
      "execution_count": 35,
      "outputs": [
        {
          "output_type": "error",
          "ename": "FileExistsError",
          "evalue": "[Errno 17] File exists: 'licat'",
          "traceback": [
            "\u001b[0;31m---------------------------------------------------------------------------\u001b[0m",
            "\u001b[0;31mFileExistsError\u001b[0m                           Traceback (most recent call last)",
            "\u001b[0;32m<ipython-input-35-9da83ef97cfb>\u001b[0m in \u001b[0;36m<cell line: 7>\u001b[0;34m()\u001b[0m\n\u001b[1;32m      5\u001b[0m \u001b[0;31m# os모듈은 너무 강력함, os모듈에 경로지정\u001b[0m\u001b[0;34m\u001b[0m\u001b[0;34m\u001b[0m\u001b[0m\n\u001b[1;32m      6\u001b[0m \u001b[0;34m\u001b[0m\u001b[0m\n\u001b[0;32m----> 7\u001b[0;31m \u001b[0mos\u001b[0m\u001b[0;34m.\u001b[0m\u001b[0mmkdir\u001b[0m\u001b[0;34m(\u001b[0m\u001b[0;34m'licat'\u001b[0m\u001b[0;34m)\u001b[0m \u001b[0;31m# licat이란 폴더 생성, 삭제는 os.rmdir()\u001b[0m\u001b[0;34m\u001b[0m\u001b[0;34m\u001b[0m\u001b[0m\n\u001b[0m\u001b[1;32m      8\u001b[0m \u001b[0mos\u001b[0m\u001b[0;34m.\u001b[0m\u001b[0mgetcwd\u001b[0m\u001b[0;34m(\u001b[0m\u001b[0;34m)\u001b[0m \u001b[0;31m# 현재 경로 반환\u001b[0m\u001b[0;34m\u001b[0m\u001b[0;34m\u001b[0m\u001b[0m\n\u001b[1;32m      9\u001b[0m \u001b[0mos\u001b[0m\u001b[0;34m.\u001b[0m\u001b[0mopen\u001b[0m\u001b[0;34m(\u001b[0m\u001b[0;34m'a.txt'\u001b[0m\u001b[0;34m,\u001b[0m \u001b[0mos\u001b[0m\u001b[0;34m.\u001b[0m\u001b[0mO_CREAT\u001b[0m \u001b[0;34m|\u001b[0m \u001b[0mos\u001b[0m\u001b[0;34m.\u001b[0m\u001b[0mO_WRONLY\u001b[0m\u001b[0;34m)\u001b[0m \u001b[0;31m# 파일 생성(os.O_CREAT: 필요한 경우 파일을 생성, os.O_WRONLY: 파일을 쓰기 전용 모드로)\u001b[0m\u001b[0;34m\u001b[0m\u001b[0;34m\u001b[0m\u001b[0m\n",
            "\u001b[0;31mFileExistsError\u001b[0m: [Errno 17] File exists: 'licat'"
          ]
        }
      ]
    },
    {
      "cell_type": "code",
      "source": [
        "import math\n",
        "\n",
        "math.pi"
      ],
      "metadata": {
        "colab": {
          "base_uri": "https://localhost:8080/"
        },
        "id": "XaN6TGFh6Yod",
        "outputId": "63531e24-9456-4c3d-a31f-a28a68da7504"
      },
      "execution_count": 28,
      "outputs": [
        {
          "output_type": "execute_result",
          "data": {
            "text/plain": [
              "3.141592653589793"
            ]
          },
          "metadata": {},
          "execution_count": 28
        }
      ]
    },
    {
      "cell_type": "code",
      "source": [
        "import datetime\n",
        "\n",
        "s = datetime.datetime(2023, 9, 19, 14, 10)\n",
        "print(s)\n",
        "print(s.year, s.month, s.day, s.hour, s.minute)\n",
        "\n",
        "s = datetime.datetime(2023, 9, 18, 14, 10)\n",
        "print(s.weekday()) # 월요일0, 화요일1, 수요일2 ... 일요일6\n",
        "\n",
        "today = datetime.date.today()\n",
        "days = datetime.timedelta(days=100)\n",
        "today + days # 100일 후 시간\n",
        "\n",
        "graduation_date = datetime.date(2023, 12, 29)\n",
        "today = datetime.date.today()\n",
        "\n",
        "print(graduation_date - today) # 졸업까지 남은 일자"
      ],
      "metadata": {
        "id": "q8T7-mTj6irV",
        "colab": {
          "base_uri": "https://localhost:8080/"
        },
        "outputId": "e8e529f6-912a-4e4b-80a0-65b998f02ec3"
      },
      "execution_count": 29,
      "outputs": [
        {
          "output_type": "stream",
          "name": "stdout",
          "text": [
            "2023-09-19 14:10:00\n",
            "2023 9 19 14 10\n",
            "0\n",
            "-19 days, 0:00:00\n"
          ]
        }
      ]
    },
    {
      "cell_type": "code",
      "source": [
        "import json\n",
        "\n",
        "d = {\n",
        "    'one': 1,\n",
        "    'two': 2,\n",
        "    'three': 3\n",
        "}\n",
        "\n",
        "s = json.dumps(d)\n",
        "print(type(s)) # str\n",
        "d = json.loads(s)\n",
        "print(type(d)) # dict"
      ],
      "metadata": {
        "id": "HpqwUxZy6m-J",
        "colab": {
          "base_uri": "https://localhost:8080/"
        },
        "outputId": "3e16bbe8-5cc5-4016-ca28-a4a3d6537d8d"
      },
      "execution_count": 30,
      "outputs": [
        {
          "output_type": "stream",
          "name": "stdout",
          "text": [
            "<class 'str'>\n",
            "<class 'dict'>\n"
          ]
        }
      ]
    },
    {
      "cell_type": "code",
      "source": [
        "s = [{...}] # point1 앞에다 변수명을 쓰진 않음"
      ],
      "metadata": {
        "id": "QoNSgrmL6xKV"
      },
      "execution_count": 31,
      "outputs": []
    },
    {
      "cell_type": "code",
      "source": [
        "# (point4)주의! True는 안되고 true여야 함\n",
        "[{\n",
        "    \"지역이름\": \"서울\", # point2 json은 쌍 따옴표\n",
        "    \"확진자수\": 5607, # point3 dict key와 콜론은 붙여쓰고 콜론과 value는 한 칸 띄어쓰기\n",
        "    \"격리해제수\": 5050,\n",
        "    \"사망자수\": 66,\n",
        "    \"십만명당발생율\": 57.61,\n",
        "    \"지역별확진자비율\": 22.53\n",
        "},\n",
        "{\n",
        "    \"지역이름\": \"부산\",\n",
        "    \"확진자수\": 491,\n",
        "    \"격리해제수\": 423,\n",
        "    \"사망자수\": 4,\n",
        "    \"십만명당발생율\": 14.39,\n",
        "    \"지역별확진자비율\": 1.97\n",
        "},\n",
        "{\n",
        "    \"지역이름\": \"대구\",\n",
        "    \"확진자수\": 7141,\n",
        "    \"격리해제수\": 6933,\n",
        "    \"사망자수\": 196,\n",
        "    \"십만명당발생율\": 293.09,\n",
        "    \"지역별확진자비율\": 28.69\n",
        "}]"
      ],
      "metadata": {
        "id": "AK0tuQnU69pj",
        "colab": {
          "base_uri": "https://localhost:8080/"
        },
        "outputId": "dcd83180-c52d-42e9-a23c-af2c3193fee9"
      },
      "execution_count": 32,
      "outputs": [
        {
          "output_type": "execute_result",
          "data": {
            "text/plain": [
              "[{'지역이름': '서울',\n",
              "  '확진자수': 5607,\n",
              "  '격리해제수': 5050,\n",
              "  '사망자수': 66,\n",
              "  '십만명당발생율': 57.61,\n",
              "  '지역별확진자비율': 22.53},\n",
              " {'지역이름': '부산',\n",
              "  '확진자수': 491,\n",
              "  '격리해제수': 423,\n",
              "  '사망자수': 4,\n",
              "  '십만명당발생율': 14.39,\n",
              "  '지역별확진자비율': 1.97},\n",
              " {'지역이름': '대구',\n",
              "  '확진자수': 7141,\n",
              "  '격리해제수': 6933,\n",
              "  '사망자수': 196,\n",
              "  '십만명당발생율': 293.09,\n",
              "  '지역별확진자비율': 28.69}]"
            ]
          },
          "metadata": {},
          "execution_count": 32
        }
      ]
    },
    {
      "cell_type": "code",
      "source": [
        "data = [\n",
        "  {\n",
        "    \"_id\": \"044829e8-9d9c-43be-C881-afc426ec9134\",\n",
        "    \"index\": \"1\",\n",
        "    \"name\": \"용기준\",\n",
        "    \"email\": \"user-7jxpy5y@Sit.com\",\n",
        "    \"phone\": \"010-4407-4333\",\n",
        "    \"country\": \"네덜란드\",\n",
        "    \"address\": \"양재로 76-6\",\n",
        "    \"job\": \"검사\"\n",
        "  },\n",
        "  {\n",
        "    \"_id\": \"f01326f2-d4d0-4700-C0e3-f84ece54b6cb\",\n",
        "    \"index\": \"2\",\n",
        "    \"name\": \"인규리\",\n",
        "    \"email\": \"user-l8rhtqf@egestas.net\",\n",
        "    \"phone\": \"010-4126-2990\",\n",
        "    \"country\": \"중국\",\n",
        "    \"address\": \"성동로 22-7\",\n",
        "    \"job\": \"간호사\"\n",
        "  },\n",
        "  {\n",
        "    \"_id\": \"b931ea6e-b4cd-4b52-C3e6-22e9779cff1e\",\n",
        "    \"index\": \"3\",\n",
        "    \"name\": \"단인성\",\n",
        "    \"email\": \"user-no8losf@auctor.org\",\n",
        "    \"phone\": \"010-2785-3415\",\n",
        "    \"country\": \"콜롬비아\",\n",
        "    \"address\": \"서소문로 50-7\",\n",
        "    \"job\": \"작가\"\n",
        "  },\n",
        "  {\n",
        "    \"_id\": \"4fa8b9e8-8679-43dc-Affe-0757d1436d72\",\n",
        "    \"index\": \"4\",\n",
        "    \"name\": \"기민율\",\n",
        "    \"email\": \"user-gu3mdf0@scelerisque.com\",\n",
        "    \"phone\": \"010-5350-2880\",\n",
        "    \"country\": \"라이베리아\",\n",
        "    \"address\": \"사직로 13-1\",\n",
        "    \"job\": \"에너지공학기술자\"\n",
        "  },\n",
        "  {\n",
        "    \"_id\": \"f774242b-2eec-4c89-C65a-b625d2e72de2\",\n",
        "    \"index\": \"5\",\n",
        "    \"name\": \"음애린\",\n",
        "    \"email\": \"user-edxbg9z@maximus.co.kr\",\n",
        "    \"phone\": \"010-8408-4024\",\n",
        "    \"country\": \"코모로\",\n",
        "    \"address\": \"뚝섬로 59-6\",\n",
        "    \"job\": \"약사 및 한약사\"\n",
        "  }\n",
        "]\n",
        "\n",
        "print(str(data[0]))"
      ],
      "metadata": {
        "colab": {
          "base_uri": "https://localhost:8080/"
        },
        "id": "r9ExVDea8PHo",
        "outputId": "23e5001c-907e-4c5b-9416-79e8dce0d508"
      },
      "execution_count": 19,
      "outputs": [
        {
          "output_type": "stream",
          "name": "stdout",
          "text": [
            "{'_id': '044829e8-9d9c-43be-C881-afc426ec9134', 'index': '1', 'name': '용기준', 'email': 'user-7jxpy5y@Sit.com', 'phone': '010-4407-4333', 'country': '네덜란드', 'address': '양재로 76-6', 'job': '검사'}\n"
          ]
        }
      ]
    },
    {
      "cell_type": "code",
      "source": [
        "import json\n",
        "\n",
        "json.dumps(data)"
      ],
      "metadata": {
        "colab": {
          "base_uri": "https://localhost:8080/",
          "height": 199
        },
        "id": "xQoZAoPv9HUM",
        "outputId": "a2d25d9e-0771-43a2-d4e8-1f5bf2201d20"
      },
      "execution_count": 20,
      "outputs": [
        {
          "output_type": "execute_result",
          "data": {
            "text/plain": [
              "'[{\"_id\": \"044829e8-9d9c-43be-C881-afc426ec9134\", \"index\": \"1\", \"name\": \"\\\\uc6a9\\\\uae30\\\\uc900\", \"email\": \"user-7jxpy5y@Sit.com\", \"phone\": \"010-4407-4333\", \"country\": \"\\\\ub124\\\\ub35c\\\\ub780\\\\ub4dc\", \"address\": \"\\\\uc591\\\\uc7ac\\\\ub85c 76-6\", \"job\": \"\\\\uac80\\\\uc0ac\"}, {\"_id\": \"f01326f2-d4d0-4700-C0e3-f84ece54b6cb\", \"index\": \"2\", \"name\": \"\\\\uc778\\\\uaddc\\\\ub9ac\", \"email\": \"user-l8rhtqf@egestas.net\", \"phone\": \"010-4126-2990\", \"country\": \"\\\\uc911\\\\uad6d\", \"address\": \"\\\\uc131\\\\ub3d9\\\\ub85c 22-7\", \"job\": \"\\\\uac04\\\\ud638\\\\uc0ac\"}, {\"_id\": \"b931ea6e-b4cd-4b52-C3e6-22e9779cff1e\", \"index\": \"3\", \"name\": \"\\\\ub2e8\\\\uc778\\\\uc131\", \"email\": \"user-no8losf@auctor.org\", \"phone\": \"010-2785-3415\", \"country\": \"\\\\ucf5c\\\\ub86c\\\\ube44\\\\uc544\", \"address\": \"\\\\uc11c\\\\uc18c\\\\ubb38\\\\ub85c 50-7\", \"job\": \"\\\\uc791\\\\uac00\"}, {\"_id\": \"4fa8b9e8-8679-43dc-Affe-0757d1436d72\", \"index\": \"4\", \"name\": \"\\\\uae30\\\\ubbfc\\\\uc728\", \"email\": \"user-gu3mdf0@scelerisque.com\", \"phone\": \"010-5350-2880\", \"country\": \"\\\\ub77c\\\\uc774\\\\ubca0\\\\ub9ac\\\\uc544\", \"address\": \"\\\\uc0ac\\\\uc9c1\\\\ub85c 13-1\", \"job\": \"\\\\uc5d0\\\\ub108\\\\uc9c0\\\\uacf5\\\\ud559\\\\uae30\\\\uc220\\\\uc790\"}, {\"_id\": \"f774242b-2eec-4c89-C65a-b625d2e72de2\", \"index\": \"5\", \"name\": \"\\\\uc74c\\\\uc560\\\\ub9b0\", \"email\": \"user-edxbg9z@maximus.co.kr\", \"phone\": \"010-8408-4024\", \"country\": \"\\\\ucf54\\\\ubaa8\\\\ub85c\", \"address\": \"\\\\ub69d\\\\uc12c\\\\ub85c 59-6\", \"job\": \"\\\\uc57d\\\\uc0ac \\\\ubc0f \\\\ud55c\\\\uc57d\\\\uc0ac\"}]'"
            ],
            "application/vnd.google.colaboratory.intrinsic+json": {
              "type": "string"
            }
          },
          "metadata": {},
          "execution_count": 20
        }
      ]
    },
    {
      "cell_type": "code",
      "source": [
        "s = json.dumps(data)\n",
        "d = json.loads(s)\n",
        "print(d)\n",
        "\n",
        "# Python 자료형 => String 자료형 (직렬화)\n",
        "# String 자료형 => Python 자료형 (역직렬화)"
      ],
      "metadata": {
        "colab": {
          "base_uri": "https://localhost:8080/"
        },
        "id": "iTamdNak9Zbc",
        "outputId": "c07983d9-0392-4de9-a5d3-04e9cea9b451"
      },
      "execution_count": 21,
      "outputs": [
        {
          "output_type": "stream",
          "name": "stdout",
          "text": [
            "[{'_id': '044829e8-9d9c-43be-C881-afc426ec9134', 'index': '1', 'name': '용기준', 'email': 'user-7jxpy5y@Sit.com', 'phone': '010-4407-4333', 'country': '네덜란드', 'address': '양재로 76-6', 'job': '검사'}, {'_id': 'f01326f2-d4d0-4700-C0e3-f84ece54b6cb', 'index': '2', 'name': '인규리', 'email': 'user-l8rhtqf@egestas.net', 'phone': '010-4126-2990', 'country': '중국', 'address': '성동로 22-7', 'job': '간호사'}, {'_id': 'b931ea6e-b4cd-4b52-C3e6-22e9779cff1e', 'index': '3', 'name': '단인성', 'email': 'user-no8losf@auctor.org', 'phone': '010-2785-3415', 'country': '콜롬비아', 'address': '서소문로 50-7', 'job': '작가'}, {'_id': '4fa8b9e8-8679-43dc-Affe-0757d1436d72', 'index': '4', 'name': '기민율', 'email': 'user-gu3mdf0@scelerisque.com', 'phone': '010-5350-2880', 'country': '라이베리아', 'address': '사직로 13-1', 'job': '에너지공학기술자'}, {'_id': 'f774242b-2eec-4c89-C65a-b625d2e72de2', 'index': '5', 'name': '음애린', 'email': 'user-edxbg9z@maximus.co.kr', 'phone': '010-8408-4024', 'country': '코모로', 'address': '뚝섬로 59-6', 'job': '약사 및 한약사'}]\n"
          ]
        }
      ]
    },
    {
      "cell_type": "code",
      "source": [
        "import collections\n",
        "# 알고리즘 문제에서 정말 많이 사용\n",
        "# deque문제 : 페이지 교체 알고리즘, 회전 초밥 등 다양한 문제에서 활용\n",
        "\n",
        "d = collections.deque([1, 2, 3, 4])\n",
        "d.rotate(1) # 1번 오른쪽으로 쉬프트, 숫자를 2로 바꾸어 비교\n",
        "d # 출력: deque([4, 1, 2, 3])\n",
        "\n",
        "d = collections.deque([1, 2, 3, 4])\n",
        "d.rotate(2) # 1번 오른쪽으로 쉬프트, 숫자를 2로 바꾸어 비교\n",
        "d # 출력: deque([3, 4, 1, 2])"
      ],
      "metadata": {
        "colab": {
          "base_uri": "https://localhost:8080/"
        },
        "id": "BHG4zkux9zIf",
        "outputId": "f4367846-3676-40fe-ebcc-f189c35ce077"
      },
      "execution_count": 33,
      "outputs": [
        {
          "output_type": "execute_result",
          "data": {
            "text/plain": [
              "deque([3, 4, 1, 2])"
            ]
          },
          "metadata": {},
          "execution_count": 33
        }
      ]
    },
    {
      "cell_type": "code",
      "source": [
        "c = collections.Counter('hello world')\n",
        "c"
      ],
      "metadata": {
        "colab": {
          "base_uri": "https://localhost:8080/"
        },
        "id": "RTb7oDlnBsKL",
        "outputId": "2167e8e3-e367-4ba0-ea27-5f6974d4ea23"
      },
      "execution_count": 23,
      "outputs": [
        {
          "output_type": "execute_result",
          "data": {
            "text/plain": [
              "Counter({'h': 1, 'e': 1, 'l': 3, 'o': 2, ' ': 1, 'w': 1, 'r': 1, 'd': 1})"
            ]
          },
          "metadata": {},
          "execution_count": 23
        }
      ]
    },
    {
      "cell_type": "code",
      "source": [
        "c.most_common()"
      ],
      "metadata": {
        "colab": {
          "base_uri": "https://localhost:8080/"
        },
        "id": "gh3UJaaoCRkn",
        "outputId": "88a4670f-4f5c-4e19-d357-0aec1c5db3e7"
      },
      "execution_count": 24,
      "outputs": [
        {
          "output_type": "execute_result",
          "data": {
            "text/plain": [
              "[('l', 3),\n",
              " ('o', 2),\n",
              " ('h', 1),\n",
              " ('e', 1),\n",
              " (' ', 1),\n",
              " ('w', 1),\n",
              " ('r', 1),\n",
              " ('d', 1)]"
            ]
          },
          "metadata": {},
          "execution_count": 24
        }
      ]
    },
    {
      "cell_type": "code",
      "source": [
        "import requests\n",
        "# requests는 다양한 분야에서 사용\n",
        "# 테스트 용도로도 사용하고, 패킷 조작 등 통신에 관련된 것에 폭넓게 사용\n",
        "\n",
        "from bs4 import BeautifulSoup\n",
        "\n",
        "paullab_url = 'https://paullab.co.kr/bookservice/'\n",
        "response = requests.get(paullab_url)\n",
        "response.encoding = 'utf-8'\n",
        "html = response.text\n",
        "\n",
        "soup = BeautifulSoup(html, 'html.parser')\n",
        "\n",
        "bookservices = soup.select('.col-lg-6 > h2') # col-lg-6 클래스 안의 h2 태그 탐색\n",
        "for no, book in enumerate(bookservices, 1):\n",
        "    print(no, book.text)"
      ],
      "metadata": {
        "id": "cvYg-o5NCjvH",
        "colab": {
          "base_uri": "https://localhost:8080/"
        },
        "outputId": "0c7e4d1e-b188-4840-9967-97a2ddf692b6"
      },
      "execution_count": 34,
      "outputs": [
        {
          "output_type": "stream",
          "name": "stdout",
          "text": [
            "1 메모혁신 Notion(노션) 활용 가이드\n",
            "2 이력서 작성 가이드\n",
            "3 제주코딩베이스캠프 Code Festival: Python 100제 1부\n",
            "4 튜토리얼로 배우는 HTML&CSS\n",
            "5 코딩도장 튜토리얼로 배우는 Python 1편 object\n",
            "6 코딩도장 튜토리얼로 배우는 python 2편 제어문\n",
            "7 코딩도장 튜토리얼로 배우는 Python 문제풀이\n",
            "8 타노스의 건틀릿 알고리즘 With Python\n",
            "9 xlsxwriter 튜토리얼로 배우는 Python 엑셀 프로그래밍\n",
            "10 러플 튜토리얼로 배우는 Python\n",
            "11 인공지능을 활용한 업무자동화 With Google Developers Group JEJU\n"
          ]
        }
      ]
    },
    {
      "cell_type": "code",
      "source": [],
      "metadata": {
        "id": "0c5IQAMuKQNI"
      },
      "execution_count": null,
      "outputs": []
    }
  ]
}