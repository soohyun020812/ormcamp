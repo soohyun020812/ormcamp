{
  "nbformat": 4,
  "nbformat_minor": 0,
  "metadata": {
    "colab": {
      "provenance": []
    },
    "kernelspec": {
      "name": "python3",
      "display_name": "Python 3"
    },
    "language_info": {
      "name": "python"
    }
  },
  "cells": [
    {
      "cell_type": "markdown",
      "source": [
        "### **기본 역량 문제 풀이 20문제 (프로그래머스 10 + pyalgo 10)**"
      ],
      "metadata": {
        "id": "bxIQVfFxLoHF"
      }
    },
    {
      "cell_type": "code",
      "source": [
        "'''\n",
        "def solution(data):\n",
        "    return\n",
        "\n",
        "solution()\n",
        "'''"
      ],
      "metadata": {
        "id": "H4GZkXSoLves",
        "colab": {
          "base_uri": "https://localhost:8080/",
          "height": 35
        },
        "outputId": "76c4db5c-4151-4646-8767-a22b656065c3"
      },
      "execution_count": 12,
      "outputs": [
        {
          "output_type": "execute_result",
          "data": {
            "text/plain": [
              "'\\ndef solution(data):\\n    return\\n\\nsolution()\\n'"
            ],
            "application/vnd.google.colaboratory.intrinsic+json": {
              "type": "string"
            }
          },
          "metadata": {},
          "execution_count": 12
        }
      ]
    },
    {
      "cell_type": "code",
      "source": [
        "3# 코딩 인터뷰 완전분석\n",
        "# 듣기\n",
        "# 예제\n",
        "# 무식하게 풀기(V)\n",
        "# 최적화\n",
        "# 검토하기\n",
        "# 구현하기\n",
        "# 테스트"
      ],
      "metadata": {
        "id": "oPXTD8nBMPd8"
      },
      "execution_count": 5,
      "outputs": []
    },
    {
      "cell_type": "markdown",
      "source": [
        "### 홀수, 짝수 찾기\n",
        "링크: https://school.programmers.co.kr/learn/courses/30/lessons/120824"
      ],
      "metadata": {
        "id": "NTGbNKyWScWI"
      }
    },
    {
      "cell_type": "code",
      "source": [
        "def solution(data):\n",
        "    count = 0\n",
        "    for i in data:\n",
        "        if i % 2 == 0:\n",
        "            count += 1\n",
        "    return [count, len(data)-count]"
      ],
      "metadata": {
        "id": "_1bhqUclP62B"
      },
      "execution_count": 7,
      "outputs": []
    },
    {
      "cell_type": "code",
      "source": [
        "def solution(data):\n",
        "    홀수 = [i % 2 != 0 for i in data]\n",
        "    짝수 = [i % 2 == 0 for i in data]\n",
        "    # print(홀수, 짝수)\n",
        "    return [sum(짝수), sum(홀)]"
      ],
      "metadata": {
        "id": "F6jFNBc5L0Sf"
      },
      "execution_count": 8,
      "outputs": []
    },
    {
      "cell_type": "code",
      "source": [
        "def solution(num_list):\n",
        "    answer = [0, 0]\n",
        "    for i in num_list:\n",
        "        answer[i % 2] += 1\n",
        "    return answer"
      ],
      "metadata": {
        "id": "zuEVN72APzFn"
      },
      "execution_count": 9,
      "outputs": []
    },
    {
      "cell_type": "code",
      "source": [
        "# 좋은 풀이는 아님\n",
        "# data의 가변 최대치를 봄\n",
        "\n",
        "def solution(data):\n",
        "    짝수 = [i % 2 == 0 for i in data]\n",
        "    return [sum(짝수), len(data) - sum(짝수)] # sum이 순회"
      ],
      "metadata": {
        "id": "hvp38hbRQz-o"
      },
      "execution_count": 10,
      "outputs": []
    },
    {
      "cell_type": "code",
      "source": [
        "def solution(data):\n",
        "    짝수 = [i % 2 == 0 for i in data]\n",
        "    갯수 = sum(짝수)\n",
        "    return [갯수, len(data) - 갯수]"
      ],
      "metadata": {
        "id": "xHFaoJRERKFu"
      },
      "execution_count": 11,
      "outputs": []
    },
    {
      "cell_type": "markdown",
      "source": [
        "### 머쓱이보다 키 큰 사람\n",
        "링크 : https://school.programmers.co.kr/learn/courses/30/lessons/120585"
      ],
      "metadata": {
        "id": "SvZPvKRiSiUb"
      }
    },
    {
      "cell_type": "code",
      "source": [
        "def solution(array, height):\n",
        "    pass\n",
        "\n",
        "solution([149, 180, 192, 170], 167)"
      ],
      "metadata": {
        "id": "REeh7SuoSZ8V"
      },
      "execution_count": 13,
      "outputs": []
    },
    {
      "cell_type": "code",
      "source": [
        "# 이렇게 언패킹 해서 사용할 수 있는 것들은 언패킹 할 것\n",
        "# 가독성이 좋아짐\n",
        "\n",
        "def solution(data):\n",
        "    array, height = data\n",
        "    pass\n",
        "\n",
        "solution([[149, 180, 192, 170], 167])"
      ],
      "metadata": {
        "id": "uO5zdkLmS0QG"
      },
      "execution_count": 14,
      "outputs": []
    },
    {
      "cell_type": "code",
      "source": [
        "def solution(array, height):\n",
        "    count = 0\n",
        "    for i in array:\n",
        "        if i > height:\n",
        "            count += 1\n",
        "    return count\n",
        "\n",
        "solution([149, 180, 192, 170], 167)"
      ],
      "metadata": {
        "id": "kJvx8Po4TK_E",
        "colab": {
          "base_uri": "https://localhost:8080/"
        },
        "outputId": "784abf7f-e149-48b0-e873-dd2b70472340"
      },
      "execution_count": 15,
      "outputs": [
        {
          "output_type": "execute_result",
          "data": {
            "text/plain": [
              "3"
            ]
          },
          "metadata": {},
          "execution_count": 15
        }
      ]
    },
    {
      "cell_type": "code",
      "source": [
        "# filter는 len가 없음\n",
        "\n",
        "def solution(array, height):\n",
        "    return len(list(filter(lambda x: x > height, array)))\n",
        "\n",
        "solution([149, 180, 192, 170], 167)\n",
        "\n",
        "# 왜? filter에는 len가 없지?\n",
        "# filter는 순회 돌기 전까지 실행이 되지 않은 함수\n",
        "# for와 같이 순회를 돌아야 그때서야 각 원소 별로 접근해서\n",
        "# 주문만 하고 아직 제조되지 않은 커피\n",
        "# 커피를 달라고 소리쳐야(순회, 형변환) 그때야 제조가 됨"
      ],
      "metadata": {
        "colab": {
          "base_uri": "https://localhost:8080/"
        },
        "id": "eWEXi3p8ThsO",
        "outputId": "52e1f65c-efd4-49b8-98c5-17f506138d86"
      },
      "execution_count": 16,
      "outputs": [
        {
          "output_type": "execute_result",
          "data": {
            "text/plain": [
              "3"
            ]
          },
          "metadata": {},
          "execution_count": 16
        }
      ]
    },
    {
      "cell_type": "code",
      "source": [
        "def solution(array, height):\n",
        "    return sum(map(lambda x: x > height, array))\n",
        "\n",
        "solution([149, 180, 192, 170], 167)"
      ],
      "metadata": {
        "colab": {
          "base_uri": "https://localhost:8080/"
        },
        "id": "YKkGsS9hUigD",
        "outputId": "a713f461-af3c-432b-ca1c-fcd62b26ca64"
      },
      "execution_count": 17,
      "outputs": [
        {
          "output_type": "execute_result",
          "data": {
            "text/plain": [
              "3"
            ]
          },
          "metadata": {},
          "execution_count": 17
        }
      ]
    },
    {
      "cell_type": "code",
      "source": [
        "def solution(array, height):\n",
        "    return sum([i > height for i in array])\n",
        "\n",
        "solution([149, 180, 192, 170], 167)"
      ],
      "metadata": {
        "colab": {
          "base_uri": "https://localhost:8080/"
        },
        "id": "1Zl4vzYoVIQ4",
        "outputId": "f70db0db-613f-45f8-fcb5-7ae4a554254e"
      },
      "execution_count": 18,
      "outputs": [
        {
          "output_type": "execute_result",
          "data": {
            "text/plain": [
              "3"
            ]
          },
          "metadata": {},
          "execution_count": 18
        }
      ]
    },
    {
      "cell_type": "code",
      "source": [
        "def solution(array, height):\n",
        "    return sum(i > height for i in array)\n",
        "\n",
        "solution([149, 180, 192, 170], 167)"
      ],
      "metadata": {
        "colab": {
          "base_uri": "https://localhost:8080/"
        },
        "id": "1m--_D7AVYlZ",
        "outputId": "0c46dbcc-b718-4fd4-a6d5-ba617e437854"
      },
      "execution_count": 19,
      "outputs": [
        {
          "output_type": "execute_result",
          "data": {
            "text/plain": [
              "3"
            ]
          },
          "metadata": {},
          "execution_count": 19
        }
      ]
    },
    {
      "cell_type": "markdown",
      "source": [
        "### 숨어있는 숫자의 덧셈\n",
        "링크: https://school.programmers.co.kr/learn/courses/30/lessons/120851"
      ],
      "metadata": {
        "id": "TM1nxrjVV52y"
      }
    },
    {
      "cell_type": "code",
      "source": [
        "# 오답, 그러나 이렇게도 많이 사용\n",
        "\n",
        "def solution(my_string):\n",
        "    count = 0\n",
        "    for i in my_string:\n",
        "        if i.isdigit():\n",
        "            count += 1\n",
        "\n",
        "solution(\"aAb1B2cC34oOp\")"
      ],
      "metadata": {
        "id": "DJgijbb1WA6v"
      },
      "execution_count": 20,
      "outputs": []
    },
    {
      "cell_type": "code",
      "source": [
        "def solution(my_string):\n",
        "    result = 0\n",
        "    for i in my_string:\n",
        "        if i.isdigit():\n",
        "            result += int(i)\n",
        "\n",
        "    return result\n",
        "\n",
        "solution(\"aAb1B2cC34oOp\")"
      ],
      "metadata": {
        "colab": {
          "base_uri": "https://localhost:8080/"
        },
        "id": "HfSrI7WdWetA",
        "outputId": "d8edb28c-b563-494c-c272-d349c7d8a6ed"
      },
      "execution_count": 21,
      "outputs": [
        {
          "output_type": "execute_result",
          "data": {
            "text/plain": [
              "10"
            ]
          },
          "metadata": {},
          "execution_count": 21
        }
      ]
    },
    {
      "cell_type": "code",
      "source": [
        "# 효율적이진 않지만, 문법 복습차원에서\n",
        "\n",
        "def solution(my_string):\n",
        "    return list(filter(lambda x: x.isdigit(), list(my_string)))\n",
        "\n",
        "solution(\"aAb1B2cC34oOp\")"
      ],
      "metadata": {
        "colab": {
          "base_uri": "https://localhost:8080/"
        },
        "id": "eZk9gM1mWxI-",
        "outputId": "aae14ace-6a64-4052-a17e-a765132dd5ff"
      },
      "execution_count": 22,
      "outputs": [
        {
          "output_type": "execute_result",
          "data": {
            "text/plain": [
              "['1', '2', '3', '4']"
            ]
          },
          "metadata": {},
          "execution_count": 22
        }
      ]
    },
    {
      "cell_type": "code",
      "source": [
        "# 효율적이진 않지만, 문법 복습차원에서\n",
        "\n",
        "def solution(my_string):\n",
        "    return list(filter(str.isdigit, list(my_string)))\n",
        "\n",
        "solution(\"aAb1B2cC34oOp\")"
      ],
      "metadata": {
        "colab": {
          "base_uri": "https://localhost:8080/"
        },
        "id": "iqXG4xnmXMNs",
        "outputId": "c32f1f99-d4e4-4e31-a201-ab8a9cc633bd"
      },
      "execution_count": 23,
      "outputs": [
        {
          "output_type": "execute_result",
          "data": {
            "text/plain": [
              "['1', '2', '3', '4']"
            ]
          },
          "metadata": {},
          "execution_count": 23
        }
      ]
    },
    {
      "cell_type": "code",
      "source": [
        "# 효율적이진 않지만, 문법 복습차원에서\n",
        "\n",
        "def solution(my_string):\n",
        "    return list(filter(str.isdigit, my_string))\n",
        "\n",
        "solution(\"aAb1B2cC34oOp\")"
      ],
      "metadata": {
        "colab": {
          "base_uri": "https://localhost:8080/"
        },
        "id": "0X37pNIrXYAU",
        "outputId": "f2b02950-23e8-43ab-a516-7af4b9b32e85"
      },
      "execution_count": 24,
      "outputs": [
        {
          "output_type": "execute_result",
          "data": {
            "text/plain": [
              "['1', '2', '3', '4']"
            ]
          },
          "metadata": {},
          "execution_count": 24
        }
      ]
    },
    {
      "cell_type": "code",
      "source": [
        "# isdigit에 () 가 있고 없고의 차이는?\n",
        "\n",
        "def 함수(x):\n",
        "    return x.isdigit()\n",
        "\n",
        "def solution(my_string):\n",
        "    return list(filter(함수, my_string))\n",
        "\n",
        "solution(\"aAb1B2cC34oOp\")"
      ],
      "metadata": {
        "id": "OFmCQWy1XnGx",
        "colab": {
          "base_uri": "https://localhost:8080/"
        },
        "outputId": "9140e9a8-28d8-4af9-9106-6a940c86b536"
      },
      "execution_count": 25,
      "outputs": [
        {
          "output_type": "execute_result",
          "data": {
            "text/plain": [
              "['1', '2', '3', '4']"
            ]
          },
          "metadata": {},
          "execution_count": 25
        }
      ]
    },
    {
      "cell_type": "code",
      "source": [
        "# 효율적이진 않지만, 문법 복습차원에서\n",
        "\n",
        "def solution(my_string):\n",
        "    return sum(map(int,(filter(str.isdigit, my_string))))\n",
        "\n",
        "solution(\"aAb1B2cC34oOp\")"
      ],
      "metadata": {
        "colab": {
          "base_uri": "https://localhost:8080/"
        },
        "id": "kYj9LsFxXfjs",
        "outputId": "8c130dd7-462a-4cf3-bea9-57c3e9a50b6b"
      },
      "execution_count": 26,
      "outputs": [
        {
          "output_type": "execute_result",
          "data": {
            "text/plain": [
              "10"
            ]
          },
          "metadata": {},
          "execution_count": 26
        }
      ]
    },
    {
      "cell_type": "code",
      "source": [
        "# 효율적이진 않지만, 문법 복습차원에서\n",
        "\n",
        "def solution(my_string):\n",
        "    return sum(map(lambda x: int(x) if x.isdigit() else False, my_string))\n",
        "\n",
        "solution(\"aAb1B2cC34oOp\")"
      ],
      "metadata": {
        "colab": {
          "base_uri": "https://localhost:8080/"
        },
        "id": "DGYqQOk8Yo_z",
        "outputId": "9e641a80-17f4-4c42-f424-c1a64420fd00"
      },
      "execution_count": 27,
      "outputs": [
        {
          "output_type": "execute_result",
          "data": {
            "text/plain": [
              "10"
            ]
          },
          "metadata": {},
          "execution_count": 27
        }
      ]
    },
    {
      "cell_type": "code",
      "source": [
        "# r은 raw 날것의 라는 뜻이 있음\n",
        "# 실무에서 자주쓰는 용어, raw != low(이 용어는 자주 사용하지 않음)\n",
        "# raw data를 전달해줘 => 가공하지 않은 순수 데이터를 달라는 얘기\n",
        "\n",
        "r'hello\\nworld' # \\n 이스케이프 문자\n",
        "print('hello\\nworld')\n",
        "print(r'hello\\nworld') # 왜? 정규표현식에서 이스케이프 문자를 많이 사용"
      ],
      "metadata": {
        "colab": {
          "base_uri": "https://localhost:8080/"
        },
        "id": "5tt90LDyZWUp",
        "outputId": "955c548b-2d13-439d-9287-6e64e14158ed"
      },
      "execution_count": 28,
      "outputs": [
        {
          "output_type": "stream",
          "name": "stdout",
          "text": [
            "hello\n",
            "world\n",
            "hello\\nworld\n"
          ]
        }
      ]
    },
    {
      "cell_type": "code",
      "source": [
        "import re\n",
        "\n",
        "re.findall(r'[0-9]', \"aAb1B2cC34oOp\")"
      ],
      "metadata": {
        "colab": {
          "base_uri": "https://localhost:8080/"
        },
        "id": "HCe2K6kIZReN",
        "outputId": "f2eab967-8b98-475c-d2ce-7b3739843878"
      },
      "execution_count": 29,
      "outputs": [
        {
          "output_type": "execute_result",
          "data": {
            "text/plain": [
              "['1', '2', '3', '4']"
            ]
          },
          "metadata": {},
          "execution_count": 29
        }
      ]
    },
    {
      "cell_type": "code",
      "source": [
        "import re\n",
        "\n",
        "def solution(s):\n",
        "    return sum(map(int, re.findall(r'[0-9]', s)))\n",
        "\n",
        "solution('aAb1B2cC34oOp')"
      ],
      "metadata": {
        "colab": {
          "base_uri": "https://localhost:8080/"
        },
        "id": "H3wnulT0dNj-",
        "outputId": "b30ede01-4ae1-4b4f-a61e-6b5343be8cf3"
      },
      "execution_count": 30,
      "outputs": [
        {
          "output_type": "execute_result",
          "data": {
            "text/plain": [
              "10"
            ]
          },
          "metadata": {},
          "execution_count": 30
        }
      ]
    },
    {
      "cell_type": "code",
      "source": [
        "import re\n",
        "\n",
        "def solution(s):\n",
        "    return sum(map(int, (re.sub(r'[a-zA-Z]', '', s))))\n",
        "\n",
        "solution('aAb1B2cC34oOp')"
      ],
      "metadata": {
        "colab": {
          "base_uri": "https://localhost:8080/"
        },
        "id": "sHFjq_vCdqDs",
        "outputId": "48ded644-96be-474f-d038-7ac4f035b343"
      },
      "execution_count": 31,
      "outputs": [
        {
          "output_type": "execute_result",
          "data": {
            "text/plain": [
              "10"
            ]
          },
          "metadata": {},
          "execution_count": 31
        }
      ]
    },
    {
      "cell_type": "markdown",
      "source": [
        "### 암호해독\n",
        "링크: https://school.programmers.co.kr/learn/courses/30/lessons/120892"
      ],
      "metadata": {
        "id": "cMM5gYzVeiJB"
      }
    },
    {
      "cell_type": "code",
      "source": [
        "def solution(cipher, code):\n",
        "    return cipher[code-1::code]\n",
        "\n",
        "solution(\"dfjardstddetckdaccccdegk\", 4)"
      ],
      "metadata": {
        "colab": {
          "base_uri": "https://localhost:8080/",
          "height": 35
        },
        "id": "BJ2xuWKae4ss",
        "outputId": "c281e8ea-5b13-4914-95f8-0859aa8a0c98"
      },
      "execution_count": 32,
      "outputs": [
        {
          "output_type": "execute_result",
          "data": {
            "text/plain": [
              "'attack'"
            ],
            "application/vnd.google.colaboratory.intrinsic+json": {
              "type": "string"
            }
          },
          "metadata": {},
          "execution_count": 32
        }
      ]
    },
    {
      "cell_type": "code",
      "source": [
        "def solution(cipher, code):\n",
        "    count = 1\n",
        "    for i in cipher:\n",
        "        if count == code:\n",
        "            print(i)\n",
        "            count = 0\n",
        "        count += 1\n",
        "\n",
        "solution(\"dfjardstddetckdaccccdegk\", 4)"
      ],
      "metadata": {
        "colab": {
          "base_uri": "https://localhost:8080/"
        },
        "id": "zJJ9NSFgfNmD",
        "outputId": "9fb484af-c77b-4406-86d0-51658d70a42b"
      },
      "execution_count": 33,
      "outputs": [
        {
          "output_type": "stream",
          "name": "stdout",
          "text": [
            "a\n",
            "t\n",
            "t\n",
            "a\n",
            "c\n",
            "k\n"
          ]
        }
      ]
    },
    {
      "cell_type": "code",
      "source": [
        "def solution(cipher, code):\n",
        "    count = 1\n",
        "    for i, j in enumerate(cipher, 1):\n",
        "        if i % code == 0:\n",
        "            print(j)\n",
        "\n",
        "solution(\"dfjardstddetckdaccccdegk\", 4)"
      ],
      "metadata": {
        "colab": {
          "base_uri": "https://localhost:8080/"
        },
        "id": "j1P-O0gFgS2H",
        "outputId": "b803e741-da1f-4484-c003-a954a59363b0"
      },
      "execution_count": 34,
      "outputs": [
        {
          "output_type": "stream",
          "name": "stdout",
          "text": [
            "a\n",
            "t\n",
            "t\n",
            "a\n",
            "c\n",
            "k\n"
          ]
        }
      ]
    },
    {
      "cell_type": "code",
      "source": [
        "# 3 7 11 15\n",
        "# 이런 풀이는 권하지 않음\n",
        "\n",
        "def solution(cipher, code):\n",
        "    result = ''\n",
        "    for i in range(1, len(cipher) // 4 + 1):\n",
        "        result += cipher[i * code - 1]\n",
        "    print(result)\n",
        "\n",
        "solution(\"dfjardstddetckdaccccdegk\", 4)"
      ],
      "metadata": {
        "colab": {
          "base_uri": "https://localhost:8080/"
        },
        "id": "20N1YBrlg37d",
        "outputId": "ccde6996-d2ef-4566-fc33-7636f2ade775"
      },
      "execution_count": 35,
      "outputs": [
        {
          "output_type": "stream",
          "name": "stdout",
          "text": [
            "attack\n"
          ]
        }
      ]
    },
    {
      "cell_type": "code",
      "source": [
        "# 3 7 11 15\n",
        "# 이런 풀이는 권하지 않음\n",
        "\n",
        "def solution(cipher, code):\n",
        "    result = ''\n",
        "    for i in range(1, len(cipher) // code + 1):\n",
        "        result += cipher[i * code - 1]\n",
        "    return result\n",
        "\n",
        "solution(\"dfjardstddetckdaccccdegk\", 4)"
      ],
      "metadata": {
        "id": "ZFsElJk4hsox",
        "colab": {
          "base_uri": "https://localhost:8080/",
          "height": 35
        },
        "outputId": "bc86c310-7505-4d9a-b5d1-a4b1522df1d8"
      },
      "execution_count": 36,
      "outputs": [
        {
          "output_type": "execute_result",
          "data": {
            "text/plain": [
              "'attack'"
            ],
            "application/vnd.google.colaboratory.intrinsic+json": {
              "type": "string"
            }
          },
          "metadata": {},
          "execution_count": 36
        }
      ]
    },
    {
      "cell_type": "code",
      "source": [
        "s = 0\n",
        "for i in range(1, 101):\n",
        "    s += i\n",
        "print(s)\n",
        "\n",
        "n = 100\n",
        "s = n * (n + 1) // 2\n",
        "print(s)"
      ],
      "metadata": {
        "colab": {
          "base_uri": "https://localhost:8080/"
        },
        "id": "LNwkT_0qiG_n",
        "outputId": "67ad6aa3-638b-4c3e-e767-6ddb1466897d"
      },
      "execution_count": 37,
      "outputs": [
        {
          "output_type": "stream",
          "name": "stdout",
          "text": [
            "5050\n",
            "5050\n"
          ]
        }
      ]
    },
    {
      "cell_type": "markdown",
      "source": [
        "### 369게임\n",
        "링크: https://school.programmers.co.kr/learn/courses/30/lessons/120891"
      ],
      "metadata": {
        "id": "2VlkGR3Yi8w4"
      }
    },
    {
      "cell_type": "code",
      "source": [
        "def solution(order):\n",
        "    order = str(order)\n",
        "    return order.count('3') + order.count('6') + order.count('9')\n",
        "\n",
        "solution('29423')"
      ],
      "metadata": {
        "colab": {
          "base_uri": "https://localhost:8080/"
        },
        "id": "lK4bxwffihQR",
        "outputId": "424022e2-31fe-4734-bf49-fbc6bc7eb516"
      },
      "execution_count": 39,
      "outputs": [
        {
          "output_type": "execute_result",
          "data": {
            "text/plain": [
              "2"
            ]
          },
          "metadata": {},
          "execution_count": 39
        }
      ]
    },
    {
      "cell_type": "code",
      "source": [
        "import re\n",
        "\n",
        "re.findall(r'[369]', '1231231234839291')"
      ],
      "metadata": {
        "colab": {
          "base_uri": "https://localhost:8080/"
        },
        "id": "rWjMRSS_jmzH",
        "outputId": "4ea8a2cc-e4b4-459d-d611-44b1935f5984"
      },
      "execution_count": 40,
      "outputs": [
        {
          "output_type": "execute_result",
          "data": {
            "text/plain": [
              "['3', '3', '3', '3', '9', '9']"
            ]
          },
          "metadata": {},
          "execution_count": 40
        }
      ]
    },
    {
      "cell_type": "code",
      "source": [
        "import re\n",
        "\n",
        "def solution(order):\n",
        "    order = str(order)\n",
        "    return len(list(re.findall(r'[369]', order)))"
      ],
      "metadata": {
        "id": "-l7rOyEgj2nR"
      },
      "execution_count": 41,
      "outputs": []
    },
    {
      "cell_type": "markdown",
      "source": [
        "### 중복문자 제거\n",
        "링크: https://school.programmers.co.kr/learn/courses/30/lessons/120888"
      ],
      "metadata": {
        "id": "6uXMv8qqkSsz"
      }
    },
    {
      "cell_type": "code",
      "source": [
        "set(\"people\") # 중복 제거 완료, 그러나 순서를 보장하지 않음"
      ],
      "metadata": {
        "colab": {
          "base_uri": "https://localhost:8080/"
        },
        "id": "GotYTgDSkv0F",
        "outputId": "4a656521-0dfa-43b3-a395-4a8346ce77c3"
      },
      "execution_count": 43,
      "outputs": [
        {
          "output_type": "execute_result",
          "data": {
            "text/plain": [
              "{'e', 'l', 'o', 'p'}"
            ]
          },
          "metadata": {},
          "execution_count": 43
        }
      ]
    },
    {
      "cell_type": "code",
      "source": [
        "def solution(s):\n",
        "    answer = ''\n",
        "    for i in s:\n",
        "        if i not in answer:\n",
        "            answer += i\n",
        "    print(answer)\n",
        "\n",
        "solution('people')"
      ],
      "metadata": {
        "colab": {
          "base_uri": "https://localhost:8080/"
        },
        "id": "9ABTvrAdlA_T",
        "outputId": "02cb6743-2bf8-401a-b36b-464528044b14"
      },
      "execution_count": 44,
      "outputs": [
        {
          "output_type": "stream",
          "name": "stdout",
          "text": [
            "peol\n"
          ]
        }
      ]
    },
    {
      "cell_type": "code",
      "source": [
        "def solution(s):\n",
        "    answer = ''\n",
        "    for i in s:\n",
        "        if i not in answer:\n",
        "            answer += i\n",
        "    return answer\n",
        "\n",
        "solution('people')"
      ],
      "metadata": {
        "id": "goAK6Kn3lkak",
        "colab": {
          "base_uri": "https://localhost:8080/",
          "height": 35
        },
        "outputId": "942a59ac-25b9-4d5c-b544-d6dde26839fd"
      },
      "execution_count": 45,
      "outputs": [
        {
          "output_type": "execute_result",
          "data": {
            "text/plain": [
              "'peol'"
            ],
            "application/vnd.google.colaboratory.intrinsic+json": {
              "type": "string"
            }
          },
          "metadata": {},
          "execution_count": 45
        }
      ]
    },
    {
      "cell_type": "code",
      "source": [
        "def solution(my_string):\n",
        "    return dict.fromkeys(my_string) # 딕셔너리는 키의 중복이 안된다는 점을 이용, dict는 이제 순서를 보장\n",
        "\n",
        "solution('people')"
      ],
      "metadata": {
        "colab": {
          "base_uri": "https://localhost:8080/"
        },
        "id": "70XuwiMMltkb",
        "outputId": "30adfe6b-a17c-44c6-e1f7-f395ed1102c0"
      },
      "execution_count": 46,
      "outputs": [
        {
          "output_type": "execute_result",
          "data": {
            "text/plain": [
              "{'p': None, 'e': None, 'o': None, 'l': None}"
            ]
          },
          "metadata": {},
          "execution_count": 46
        }
      ]
    },
    {
      "cell_type": "code",
      "source": [
        "def solution(my_string):\n",
        "    return ''.join(dict.fromkeys(my_string))\n",
        "\n",
        "solution('people')"
      ],
      "metadata": {
        "colab": {
          "base_uri": "https://localhost:8080/",
          "height": 35
        },
        "id": "z-PwunWxl4f4",
        "outputId": "3d202c08-2dd2-4b18-ab1e-755ea38ab833"
      },
      "execution_count": 47,
      "outputs": [
        {
          "output_type": "execute_result",
          "data": {
            "text/plain": [
              "'peol'"
            ],
            "application/vnd.google.colaboratory.intrinsic+json": {
              "type": "string"
            }
          },
          "metadata": {},
          "execution_count": 47
        }
      ]
    },
    {
      "cell_type": "code",
      "source": [
        "''.join(['hello', 'world', '!'])\n",
        "''.join({'hello', 'world', '!'})\n",
        "''.join({'one': 10, 'two': 20}) # 왜? dict를 for문을 돌았을 때 key만 나오는 이유와 같음"
      ],
      "metadata": {
        "colab": {
          "base_uri": "https://localhost:8080/",
          "height": 35
        },
        "id": "f_Vfy2dZmCur",
        "outputId": "4360fdaf-d4d2-48a1-c740-5456dbaf441a"
      },
      "execution_count": 48,
      "outputs": [
        {
          "output_type": "execute_result",
          "data": {
            "text/plain": [
              "'onetwo'"
            ],
            "application/vnd.google.colaboratory.intrinsic+json": {
              "type": "string"
            }
          },
          "metadata": {},
          "execution_count": 48
        }
      ]
    },
    {
      "cell_type": "code",
      "source": [
        "str.isdigit\n",
        "dict.fromkeys('hello')\n",
        "dict.fromkeys('abccba')"
      ],
      "metadata": {
        "colab": {
          "base_uri": "https://localhost:8080/"
        },
        "id": "MOjMFVyamZKm",
        "outputId": "265258a9-642a-4f09-fdf4-9733dac151cb"
      },
      "execution_count": 49,
      "outputs": [
        {
          "output_type": "execute_result",
          "data": {
            "text/plain": [
              "{'a': None, 'b': None, 'c': None}"
            ]
          },
          "metadata": {},
          "execution_count": 49
        }
      ]
    },
    {
      "cell_type": "markdown",
      "source": [
        "### A로 B 만들기\n",
        "링크: https://school.programmers.co.kr/learn/courses/30/lessons/120886"
      ],
      "metadata": {
        "id": "Rj0VqNRGnIMW"
      }
    },
    {
      "cell_type": "code",
      "source": [
        "# 3시간, 4시간, 1문제당 30분 ~ 40분\n",
        "# 앞에 문제는 20분 내에 푸는 문제도 있어야 함\n",
        "# Lv 1 ~ 2는 20분 ~ 40분 내에 풀어야 함\n",
        "# 실전에서는 Lv1 ~ 2도 1시간 걸려도 됨\n",
        "# Lv4 ~ Lv5 포기\n",
        "################\n",
        "# 연습하면서 Lv0 10분 ~ 20분 고민하셨으면 정답을 보시고 외우시는 편이 좀 더 편함"
      ],
      "metadata": {
        "id": "4lK41_QMt1yB"
      },
      "execution_count": 50,
      "outputs": []
    },
    {
      "cell_type": "code",
      "source": [
        "def solution(before, after):\n",
        "    if len(before) != len(after): # 예외 처리는 앞에서 반드시, 특히나 요소가 없거나 길이가 0인 경우\n",
        "        return 0\n",
        "    return 1 if sorted(before) == sorted(after) else 0\n",
        "\n",
        "solution(\"olleh\", \"hello\")"
      ],
      "metadata": {
        "colab": {
          "base_uri": "https://localhost:8080/"
        },
        "id": "ezxejcS5nHy3",
        "outputId": "eeb647d1-e179-49f7-b23d-e2c2e37d5f24"
      },
      "execution_count": 51,
      "outputs": [
        {
          "output_type": "execute_result",
          "data": {
            "text/plain": [
              "1"
            ]
          },
          "metadata": {},
          "execution_count": 51
        }
      ]
    },
    {
      "cell_type": "code",
      "source": [
        "import collections\n",
        "\n",
        "\n",
        "# collections.Counter(\"olleh\") == collections.Counter(\"hello\")\n",
        "# collections.Counter(\"olleh\") == collections.Counter(\"hhhhhhhhhello\")\n",
        "collections.Counter(\"olleh\")"
      ],
      "metadata": {
        "colab": {
          "base_uri": "https://localhost:8080/"
        },
        "id": "GrsUwQPmviWD",
        "outputId": "de97ca4e-5dbd-4adc-9ea9-5b3ff97db5ba"
      },
      "execution_count": 52,
      "outputs": [
        {
          "output_type": "execute_result",
          "data": {
            "text/plain": [
              "Counter({'o': 1, 'l': 2, 'e': 1, 'h': 1})"
            ]
          },
          "metadata": {},
          "execution_count": 52
        }
      ]
    },
    {
      "cell_type": "code",
      "source": [
        "def solution(before, after):\n",
        "    a = list(after)\n",
        "    for i in before:\n",
        "        if i in a:\n",
        "            a.remove(i)\n",
        "        else:\n",
        "            return 0\n",
        "    if a:\n",
        "        return 0\n",
        "    return 1\n",
        "\n",
        "solution(\"olleh\", \"hello\")"
      ],
      "metadata": {
        "colab": {
          "base_uri": "https://localhost:8080/"
        },
        "id": "BoZy3Ob4wB3X",
        "outputId": "a18c3757-f56c-4180-b2e8-cc3ddca5c836"
      },
      "execution_count": 53,
      "outputs": [
        {
          "output_type": "execute_result",
          "data": {
            "text/plain": [
              "1"
            ]
          },
          "metadata": {},
          "execution_count": 53
        }
      ]
    },
    {
      "cell_type": "code",
      "source": [
        "# 회문\n",
        "\n",
        "# 'hello' => 'elloh' => 'llohe'\n",
        "# 'hello' => 'ohell' => 'lohel'\n",
        "# collections.deque를 사용해서 풀면 쉽게 풀림\n",
        "\n",
        "# 문제1 'hello'를 앞뒤로 이동시켜 'llohe'를 만들 수 있나요?\n",
        "# 'hellohello'\n",
        "\n",
        "# 문제2 몇칸 이동했나요?\n",
        "# 'hellohello'.index('llohe')"
      ],
      "metadata": {
        "id": "tAwbflcGwQBN"
      },
      "execution_count": 54,
      "outputs": []
    },
    {
      "cell_type": "markdown",
      "source": [
        "### 저주의 숫자 3\n",
        "링크: https://school.programmers.co.kr/learn/courses/30/lessons/120871"
      ],
      "metadata": {
        "id": "7WkqjI_jyl5R"
      }
    },
    {
      "cell_type": "code",
      "source": [
        "# 십진수    3숫자마을\n",
        "# 1         1\n",
        "# 2         2\n",
        "# 3         4\n",
        "# 4         5\n",
        "# 5         7\n",
        "# 6         8\n",
        "# 7         10\n",
        "# 8         11\n",
        "# 9         14\n",
        "# 10        16"
      ],
      "metadata": {
        "id": "qdePJjVkyT2j"
      },
      "execution_count": 55,
      "outputs": []
    },
    {
      "cell_type": "code",
      "source": [
        "# [True, True, False]..."
      ],
      "metadata": {
        "id": "0nYjJfHuzfa5"
      },
      "execution_count": 56,
      "outputs": []
    },
    {
      "cell_type": "code",
      "source": [
        "# filter('3이 들어간 숫자 없애기', filter('3의 배수 없애기', [1, 2, 3, 4, 5, 6, 7, 8, 9, 10]))"
      ],
      "metadata": {
        "id": "Sn8KyqgMzjkX"
      },
      "execution_count": 57,
      "outputs": []
    },
    {
      "cell_type": "code",
      "source": [
        "list(filter(lambda x: (x % 3 != 0) and ('3' not in str(x)), range(100)))[15-1]"
      ],
      "metadata": {
        "colab": {
          "base_uri": "https://localhost:8080/"
        },
        "id": "sFydClqDzziT",
        "outputId": "3560916d-50d5-46e0-8607-88e60b3cea32"
      },
      "execution_count": 58,
      "outputs": [
        {
          "output_type": "execute_result",
          "data": {
            "text/plain": [
              "25"
            ]
          },
          "metadata": {},
          "execution_count": 58
        }
      ]
    },
    {
      "cell_type": "code",
      "source": [
        "def solution(num):\n",
        "    return list(filter(lambda x: (x % 3 != 0) and ('3' not in str(x)), range(1000)))[num-1]\n",
        "\n",
        "solution(15)"
      ],
      "metadata": {
        "colab": {
          "base_uri": "https://localhost:8080/"
        },
        "id": "KEraZeSz0TjI",
        "outputId": "fdc138bc-7052-4f44-d6f7-dd747dead325"
      },
      "execution_count": 59,
      "outputs": [
        {
          "output_type": "execute_result",
          "data": {
            "text/plain": [
              "25"
            ]
          },
          "metadata": {},
          "execution_count": 59
        }
      ]
    },
    {
      "cell_type": "code",
      "source": [
        "solution = lambda n:[i for i in range(10000) if i % 3 != 0 and '3' not in str(i)][n-1]"
      ],
      "metadata": {
        "id": "0iL0D2ZT1Qdy"
      },
      "execution_count": 60,
      "outputs": []
    },
    {
      "cell_type": "code",
      "source": [
        "def solution(num):\n",
        "    l = []\n",
        "    for i in range(1000):\n",
        "        if i % 3 != 0:\n",
        "            l.append(i)\n",
        "        elif '3' not in str(i):\n",
        "            l.append(i)\n",
        "    print(l)\n",
        "\n",
        "solution(15)"
      ],
      "metadata": {
        "colab": {
          "base_uri": "https://localhost:8080/"
        },
        "id": "ZB0NE9My0s5A",
        "outputId": "9c7f7580-e222-4e4f-e9b1-c5e48405ab4e"
      },
      "execution_count": 61,
      "outputs": [
        {
          "output_type": "stream",
          "name": "stdout",
          "text": [
            "[0, 1, 2, 4, 5, 6, 7, 8, 9, 10, 11, 12, 13, 14, 15, 16, 17, 18, 19, 20, 21, 22, 23, 24, 25, 26, 27, 28, 29, 31, 32, 34, 35, 37, 38, 40, 41, 42, 43, 44, 45, 46, 47, 48, 49, 50, 51, 52, 53, 54, 55, 56, 57, 58, 59, 60, 61, 62, 64, 65, 66, 67, 68, 69, 70, 71, 72, 73, 74, 75, 76, 77, 78, 79, 80, 81, 82, 83, 84, 85, 86, 87, 88, 89, 90, 91, 92, 94, 95, 96, 97, 98, 99, 100, 101, 102, 103, 104, 105, 106, 107, 108, 109, 110, 111, 112, 113, 114, 115, 116, 117, 118, 119, 120, 121, 122, 124, 125, 126, 127, 128, 129, 130, 131, 133, 134, 136, 137, 139, 140, 141, 142, 143, 144, 145, 146, 147, 148, 149, 150, 151, 152, 154, 155, 156, 157, 158, 159, 160, 161, 162, 163, 164, 165, 166, 167, 168, 169, 170, 171, 172, 173, 174, 175, 176, 177, 178, 179, 180, 181, 182, 184, 185, 186, 187, 188, 189, 190, 191, 192, 193, 194, 195, 196, 197, 198, 199, 200, 201, 202, 203, 204, 205, 206, 207, 208, 209, 210, 211, 212, 214, 215, 216, 217, 218, 219, 220, 221, 222, 223, 224, 225, 226, 227, 228, 229, 230, 232, 233, 235, 236, 238, 239, 240, 241, 242, 244, 245, 246, 247, 248, 249, 250, 251, 252, 253, 254, 255, 256, 257, 258, 259, 260, 261, 262, 263, 264, 265, 266, 267, 268, 269, 270, 271, 272, 274, 275, 276, 277, 278, 279, 280, 281, 282, 283, 284, 285, 286, 287, 288, 289, 290, 291, 292, 293, 294, 295, 296, 297, 298, 299, 301, 302, 304, 305, 307, 308, 310, 311, 313, 314, 316, 317, 319, 320, 322, 323, 325, 326, 328, 329, 331, 332, 334, 335, 337, 338, 340, 341, 343, 344, 346, 347, 349, 350, 352, 353, 355, 356, 358, 359, 361, 362, 364, 365, 367, 368, 370, 371, 373, 374, 376, 377, 379, 380, 382, 383, 385, 386, 388, 389, 391, 392, 394, 395, 397, 398, 400, 401, 402, 403, 404, 405, 406, 407, 408, 409, 410, 411, 412, 413, 414, 415, 416, 417, 418, 419, 420, 421, 422, 424, 425, 426, 427, 428, 429, 430, 431, 433, 434, 436, 437, 439, 440, 441, 442, 443, 444, 445, 446, 447, 448, 449, 450, 451, 452, 454, 455, 456, 457, 458, 459, 460, 461, 462, 463, 464, 465, 466, 467, 468, 469, 470, 471, 472, 473, 474, 475, 476, 477, 478, 479, 480, 481, 482, 484, 485, 486, 487, 488, 489, 490, 491, 492, 493, 494, 495, 496, 497, 498, 499, 500, 501, 502, 503, 504, 505, 506, 507, 508, 509, 510, 511, 512, 514, 515, 516, 517, 518, 519, 520, 521, 522, 523, 524, 525, 526, 527, 528, 529, 530, 532, 533, 535, 536, 538, 539, 540, 541, 542, 544, 545, 546, 547, 548, 549, 550, 551, 552, 553, 554, 555, 556, 557, 558, 559, 560, 561, 562, 563, 564, 565, 566, 567, 568, 569, 570, 571, 572, 574, 575, 576, 577, 578, 579, 580, 581, 582, 583, 584, 585, 586, 587, 588, 589, 590, 591, 592, 593, 594, 595, 596, 597, 598, 599, 600, 601, 602, 604, 605, 606, 607, 608, 609, 610, 611, 612, 613, 614, 615, 616, 617, 618, 619, 620, 621, 622, 623, 624, 625, 626, 627, 628, 629, 631, 632, 634, 635, 637, 638, 640, 641, 642, 643, 644, 645, 646, 647, 648, 649, 650, 651, 652, 653, 654, 655, 656, 657, 658, 659, 660, 661, 662, 664, 665, 666, 667, 668, 669, 670, 671, 672, 673, 674, 675, 676, 677, 678, 679, 680, 681, 682, 683, 684, 685, 686, 687, 688, 689, 690, 691, 692, 694, 695, 696, 697, 698, 699, 700, 701, 702, 703, 704, 705, 706, 707, 708, 709, 710, 711, 712, 713, 714, 715, 716, 717, 718, 719, 720, 721, 722, 724, 725, 726, 727, 728, 729, 730, 731, 733, 734, 736, 737, 739, 740, 741, 742, 743, 744, 745, 746, 747, 748, 749, 750, 751, 752, 754, 755, 756, 757, 758, 759, 760, 761, 762, 763, 764, 765, 766, 767, 768, 769, 770, 771, 772, 773, 774, 775, 776, 777, 778, 779, 780, 781, 782, 784, 785, 786, 787, 788, 789, 790, 791, 792, 793, 794, 795, 796, 797, 798, 799, 800, 801, 802, 803, 804, 805, 806, 807, 808, 809, 810, 811, 812, 814, 815, 816, 817, 818, 819, 820, 821, 822, 823, 824, 825, 826, 827, 828, 829, 830, 832, 833, 835, 836, 838, 839, 840, 841, 842, 844, 845, 846, 847, 848, 849, 850, 851, 852, 853, 854, 855, 856, 857, 858, 859, 860, 861, 862, 863, 864, 865, 866, 867, 868, 869, 870, 871, 872, 874, 875, 876, 877, 878, 879, 880, 881, 882, 883, 884, 885, 886, 887, 888, 889, 890, 891, 892, 893, 894, 895, 896, 897, 898, 899, 900, 901, 902, 904, 905, 906, 907, 908, 909, 910, 911, 912, 913, 914, 915, 916, 917, 918, 919, 920, 921, 922, 923, 924, 925, 926, 927, 928, 929, 931, 932, 934, 935, 937, 938, 940, 941, 942, 943, 944, 945, 946, 947, 948, 949, 950, 951, 952, 953, 954, 955, 956, 957, 958, 959, 960, 961, 962, 964, 965, 966, 967, 968, 969, 970, 971, 972, 973, 974, 975, 976, 977, 978, 979, 980, 981, 982, 983, 984, 985, 986, 987, 988, 989, 990, 991, 992, 994, 995, 996, 997, 998, 999]\n"
          ]
        }
      ]
    },
    {
      "cell_type": "markdown",
      "source": [
        "### 진료순서 정하기\n",
        "링크: https://school.programmers.co.kr/learn/courses/30/lessons/120835"
      ],
      "metadata": {
        "id": "58K_8AUNIF5v"
      }
    },
    {
      "cell_type": "code",
      "source": [
        "# emergency     result\n",
        "# [3, 76, 24]   [3, 1, 2]\n",
        "\n",
        "def solution(emergency):\n",
        "    sorted_emergency = sorted(emergency, reverse=True)\n",
        "    return [sorted_emergency.index(i) + 1 for i in emergency]\n",
        "\n",
        "\n",
        "solution([3, 76, 24])"
      ],
      "metadata": {
        "id": "JNY-UFVrHrO2",
        "colab": {
          "base_uri": "https://localhost:8080/"
        },
        "outputId": "6d2c3fab-fb8e-42ce-c865-e383125c8be1"
      },
      "execution_count": 62,
      "outputs": [
        {
          "output_type": "execute_result",
          "data": {
            "text/plain": [
              "[3, 1, 2]"
            ]
          },
          "metadata": {},
          "execution_count": 62
        }
      ]
    },
    {
      "cell_type": "code",
      "source": [
        "# 좋은 문제\n",
        "emergency = [3, 76, 24]\n",
        "\n",
        "sorted_emergency = sorted(emergency, reverse=True)\n",
        "sorted_emergency\n",
        "\n",
        "# 원하는 결과값 [3, 1, 2]\n",
        "[sorted_emergency.index(i) + 1 for i in emergency]"
      ],
      "metadata": {
        "colab": {
          "base_uri": "https://localhost:8080/"
        },
        "id": "8UEZnVKqIfwX",
        "outputId": "3c3bf06b-59f0-4aed-b3c6-e830884817de"
      },
      "execution_count": 63,
      "outputs": [
        {
          "output_type": "execute_result",
          "data": {
            "text/plain": [
              "[3, 1, 2]"
            ]
          },
          "metadata": {},
          "execution_count": 63
        }
      ]
    },
    {
      "cell_type": "code",
      "source": [
        "data = ['제주', '경기', '전주'] # ['064', '031', '063']\n",
        "data2 = {\n",
        "    '제주': '064',\n",
        "    '경기': '031',\n",
        "    '전주': '063'\n",
        "}\n",
        "\n",
        "[data2[i] for i in data]"
      ],
      "metadata": {
        "colab": {
          "base_uri": "https://localhost:8080/"
        },
        "id": "R-35LTlZJtTC",
        "outputId": "9bcc0997-9f36-46bb-e502-f2f48522e6e9"
      },
      "execution_count": 64,
      "outputs": [
        {
          "output_type": "execute_result",
          "data": {
            "text/plain": [
              "['064', '031', '063']"
            ]
          },
          "metadata": {},
          "execution_count": 64
        }
      ]
    },
    {
      "cell_type": "markdown",
      "source": [
        "### 가까운 수\n",
        "링크: https://school.programmers.co.kr/learn/courses/30/lessons/120890"
      ],
      "metadata": {
        "id": "DPwx_56gLgZ2"
      }
    },
    {
      "cell_type": "code",
      "source": [
        "# [3, 10, 28] => [17, 10, 8]\n",
        "# 원하는 숫자: 20\n",
        "# result: 28"
      ],
      "metadata": {
        "id": "Mc0z_p2IK52D"
      },
      "execution_count": 65,
      "outputs": []
    },
    {
      "cell_type": "code",
      "source": [
        "l = [3, 10, 28]\n",
        "sorted(l, key=lambda x: abs(x - 20))[0]"
      ],
      "metadata": {
        "colab": {
          "base_uri": "https://localhost:8080/"
        },
        "id": "V7eCw_rFMRXP",
        "outputId": "c16ee637-545d-494a-db72-7b67f383b0fc"
      },
      "execution_count": 66,
      "outputs": [
        {
          "output_type": "execute_result",
          "data": {
            "text/plain": [
              "28"
            ]
          },
          "metadata": {},
          "execution_count": 66
        }
      ]
    },
    {
      "cell_type": "code",
      "source": [
        "# 오류\n",
        "def solution(array, n):\n",
        "    return sorted(array, key=lambda x: abs(x - n))[0]"
      ],
      "metadata": {
        "id": "vQaf5TZWMpL3"
      },
      "execution_count": 67,
      "outputs": []
    },
    {
      "cell_type": "code",
      "source": [
        "def solution(array, n):\n",
        "    return sorted(array, key=lambda x:(abs(x-n), x))[0]"
      ],
      "metadata": {
        "id": "YDdrqjX3M3uF"
      },
      "execution_count": 68,
      "outputs": []
    },
    {
      "cell_type": "code",
      "source": [
        "# [3, 10, 28, 30, 12] => [17, 10, 8, 10, 8]\n",
        "# [3, 10, 28, 30, 12] => [(17, 3), (10, 10), (8, 28), (10, 30), (8, 12)]\n",
        "# 원하는 숫자: 20\n",
        "# result: 28\n",
        "\n",
        "array = [3, 10, 28, 30, 12]\n",
        "n = 20\n",
        "\n",
        "# 28 - 20 == 8\n",
        "# 12 - 20 == -8\n",
        "\n",
        "# 20 - 28 == -8\n",
        "# 20 - 12 == 8\n",
        "\n",
        "sorted(array, key=lambda x:(abs(x-n), x))[0]\n",
        "sorted(array, key=lambda x:(abs(x-n), n-x))[0] # 팁, n-x이거나 x-n 2개 중에 하나"
      ],
      "metadata": {
        "colab": {
          "base_uri": "https://localhost:8080/"
        },
        "id": "e0y7DAlKNg5H",
        "outputId": "82c4d85d-85f4-43a5-ff6b-3b8070b22ebc"
      },
      "execution_count": 69,
      "outputs": [
        {
          "output_type": "execute_result",
          "data": {
            "text/plain": [
              "28"
            ]
          },
          "metadata": {},
          "execution_count": 69
        }
      ]
    },
    {
      "cell_type": "markdown",
      "source": [
        "### k의 개수\n",
        "\n",
        "링크: https://school.programmers.co.kr/learn/courses/30/lessons/120887"
      ],
      "metadata": {
        "id": "mf0z2TjZQRi_"
      }
    },
    {
      "cell_type": "code",
      "source": [
        "# i\tj\tk\n",
        "# 1\t13\t1\n",
        "\n",
        "i = 1\n",
        "j = 13\n",
        "k = 1\n",
        "\n",
        "str(list(range(i, j+1)))\n",
        "'[1, 11, 13]'.count('1')\n",
        "\n",
        "str(list(range(i, j+1))).count(str(k))"
      ],
      "metadata": {
        "colab": {
          "base_uri": "https://localhost:8080/"
        },
        "id": "G9nDlclcQfZo",
        "outputId": "0664d997-ac54-4c2a-82ff-468975ac8520"
      },
      "execution_count": 70,
      "outputs": [
        {
          "output_type": "execute_result",
          "data": {
            "text/plain": [
              "6"
            ]
          },
          "metadata": {},
          "execution_count": 70
        }
      ]
    },
    {
      "cell_type": "code",
      "source": [
        "a = 10\n",
        "b = 20\n",
        "\n",
        "# swap\n",
        "temp = a\n",
        "a = b\n",
        "b = temp\n",
        "\n",
        "# python에서 사용하는 swap\n",
        "a = 10\n",
        "b = 20\n",
        "a, b = b, a\n",
        "a, b"
      ],
      "metadata": {
        "colab": {
          "base_uri": "https://localhost:8080/"
        },
        "id": "u40zpvPVUKko",
        "outputId": "3b48c345-312d-432f-9705-3c877f29e0a4"
      },
      "execution_count": 71,
      "outputs": [
        {
          "output_type": "execute_result",
          "data": {
            "text/plain": [
              "(20, 10)"
            ]
          },
          "metadata": {},
          "execution_count": 71
        }
      ]
    },
    {
      "cell_type": "code",
      "source": [
        "i = 1\n",
        "j = 13\n",
        "k = 1\n",
        "\n",
        "count = 0\n",
        "for temp in range(i, j):\n",
        "    count += str(temp).count(str(k))\n",
        "\n",
        "count"
      ],
      "metadata": {
        "colab": {
          "base_uri": "https://localhost:8080/"
        },
        "id": "dqP_4oXIUBTU",
        "outputId": "45305c23-0fa5-4dde-8ed5-b93acf4deda6"
      },
      "execution_count": 72,
      "outputs": [
        {
          "output_type": "execute_result",
          "data": {
            "text/plain": [
              "5"
            ]
          },
          "metadata": {},
          "execution_count": 72
        }
      ]
    },
    {
      "cell_type": "code",
      "source": [],
      "metadata": {
        "id": "OZ9KyHPT_t_9"
      },
      "execution_count": 72,
      "outputs": []
    }
  ]
}