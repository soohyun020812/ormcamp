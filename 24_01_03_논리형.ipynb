{
  "nbformat": 4,
  "nbformat_minor": 0,
  "metadata": {
    "colab": {
      "provenance": [],
      "authorship_tag": "ABX9TyPPeI5zK3dnOjAFeXRuJgEN",
      "include_colab_link": true
    },
    "kernelspec": {
      "name": "python3",
      "display_name": "Python 3"
    },
    "language_info": {
      "name": "python"
    }
  },
  "cells": [
    {
      "cell_type": "markdown",
      "metadata": {
        "id": "view-in-github",
        "colab_type": "text"
      },
      "source": [
        "<a href=\"https://colab.research.google.com/github/soohyun020812/ormcamp/blob/main/24_01_03_%EB%85%BC%EB%A6%AC%ED%98%95.ipynb\" target=\"_parent\"><img src=\"https://colab.research.google.com/assets/colab-badge.svg\" alt=\"Open In Colab\"/></a>"
      ]
    },
    {
      "cell_type": "markdown",
      "source": [
        "Bool : True와 False를 가지는 자료형\n",
        "\n",
        "- `True`: 참을 나타냅니다. 1과 같은 값으로 취급됩니다.\n",
        "- `False`: 거짓을 나타냅니다. 0과 같은 값으로 취급됩니다."
      ],
      "metadata": {
        "id": "5BKLgAoiXWvF"
      }
    },
    {
      "cell_type": "code",
      "execution_count": null,
      "metadata": {
        "colab": {
          "base_uri": "https://localhost:8080/"
        },
        "id": "sBAfpJfHW_pk",
        "outputId": "0bba0660-0ee4-4c25-b61b-757b562195f1"
      },
      "outputs": [
        {
          "output_type": "stream",
          "name": "stdout",
          "text": [
            "True False True\n"
          ]
        }
      ],
      "source": [
        "x = True\n",
        "y = False\n",
        "z = 10 > 3\n",
        "\n",
        "print(x, y, z)"
      ]
    },
    {
      "cell_type": "code",
      "source": [
        "print(True == 1) # 출력: True\n",
        "print(False == 0) # 출력: True"
      ],
      "metadata": {
        "colab": {
          "base_uri": "https://localhost:8080/"
        },
        "id": "yoTsTo32XilQ",
        "outputId": "7241a312-bdbe-4d54-d509-2accc3f78670"
      },
      "execution_count": null,
      "outputs": [
        {
          "output_type": "stream",
          "name": "stdout",
          "text": [
            "True\n",
            "True\n"
          ]
        }
      ]
    },
    {
      "cell_type": "code",
      "source": [
        "print(True + True) # 출력: 2\n",
        "print(False - True) # 출력: -1\n",
        "print(True / True) # 출력: 1.0\n",
        "print(True * False) # 출력: 0\n",
        "# print(True / False) # error\n",
        "# print(False / False) # error"
      ],
      "metadata": {
        "colab": {
          "base_uri": "https://localhost:8080/"
        },
        "id": "SznEiG0QXnkQ",
        "outputId": "1efc90ce-4e20-446f-def0-362c22a74082"
      },
      "execution_count": null,
      "outputs": [
        {
          "output_type": "stream",
          "name": "stdout",
          "text": [
            "2\n",
            "-1\n",
            "1.0\n",
            "0\n"
          ]
        }
      ]
    },
    {
      "cell_type": "code",
      "source": [],
      "metadata": {
        "id": "cURIfNmnaAH7"
      },
      "execution_count": null,
      "outputs": []
    }
  ]
}