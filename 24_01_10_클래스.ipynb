{
  "nbformat": 4,
  "nbformat_minor": 0,
  "metadata": {
    "colab": {
      "provenance": []
    },
    "kernelspec": {
      "name": "python3",
      "display_name": "Python 3"
    },
    "language_info": {
      "name": "python"
    }
  },
  "cells": [
    {
      "cell_type": "markdown",
      "source": [
        "### 클래스란\n",
        "\n",
        "    - 클래스는 데이터(멤버 또는 애트리뷰트, 변수)와 기능(메서드, 함수)을 가지고 있는 일종의 설계 도면"
      ],
      "metadata": {
        "id": "ZXL5Hl3oFpq-"
      }
    },
    {
      "cell_type": "code",
      "execution_count": 4,
      "metadata": {
        "colab": {
          "base_uri": "https://localhost:8080/",
          "height": 108
        },
        "id": "kGoDTeKsZFrg",
        "outputId": "66024d46-818a-4743-d043-200e0a36dabc"
      },
      "outputs": [
        {
          "output_type": "execute_result",
          "data": {
            "text/plain": [
              "'\\n예를 들어 구현하는 방법\\n\\nclass Character:\\n    def __init__(hp, mp, power, drop_rate...(생략)): # 초기설정\\n        self.hp = hp\\n        self.mp = mp\\n        ...(생략)\\n    \\n    def move(self):\\n        ...(생략)\\n\\n    def attack(self):\\n        ...(생략)\\n\\nhero = Character(100, 100, 100, 0, ...(생략))\\nmob1 = Character(30, 30, 30, 0.8, ...(생략))\\nmob2 = Character(50, 50, 50, 0.5, ...(생략))\\nmob3 = Character(70, 70, 70, 0.3, ...(생략))\\nvillain = Character(100, 100, 90, 0.1, ...(생략))\\n'"
            ],
            "application/vnd.google.colaboratory.intrinsic+json": {
              "type": "string"
            }
          },
          "metadata": {},
          "execution_count": 4
        }
      ],
      "source": [
        "'''\n",
        "예를 들어 구현하는 방법\n",
        "\n",
        "class Character:\n",
        "    def __init__(hp, mp, power, drop_rate...(생략)): # 초기설정\n",
        "        self.hp = hp\n",
        "        self.mp = mp\n",
        "        ...(생략)\n",
        "\n",
        "    def move(self):\n",
        "        ...(생략)\n",
        "\n",
        "    def attack(self):\n",
        "        ...(생략)\n",
        "\n",
        "hero = Character(100, 100, 100, 0, ...(생략))\n",
        "mob1 = Character(30, 30, 30, 0.8, ...(생략))\n",
        "mob2 = Character(50, 50, 50, 0.5, ...(생략))\n",
        "mob3 = Character(70, 70, 70, 0.3, ...(생략))\n",
        "villain = Character(100, 100, 90, 0.1, ...(생략))\n",
        "'''"
      ]
    },
    {
      "cell_type": "markdown",
      "source": [
        "    - 설계도면(클래스)을 보며 하나의 객체(인스턴스)를 만들어 냄\n",
        "\n",
        "    데이터(멤버, 애트리뷰트) # 클래스 내 변수로 선언됩니다.\n",
        "    최대 속도\n",
        "    최대 탑승객\n",
        "    기어\n",
        "    \n",
        "    기능(메서드) # 클래스 내 함수로 선언됩니다.\n",
        "    출발\n",
        "    정지"
      ],
      "metadata": {
        "id": "8qaUXew2GH5I"
      }
    },
    {
      "cell_type": "code",
      "source": [
        "class Car: # 차에 설계 도면 또는 차 공장, 클래스\n",
        "    max_speed = 300 # 멤버 또는 애트리뷰트\n",
        "    max_people = 5\n",
        "    car_gear = ['P', 'D', 'R', 'N']\n",
        "\n",
        "    def start(self): # 메서드\n",
        "        print('차가 출발합니다!')\n",
        "\n",
        "    def stop(self):\n",
        "        print('차가 멈췄습니다!')\n",
        "\n",
        "# 공장에서 생산된 자동차 modelx, y, s, 인스턴스\n",
        "modelx = Car() # 인스턴스 = 클래스()\n",
        "modely = Car()\n",
        "models = Car()\n",
        "\n",
        "print(models.car_gear[1])\n",
        "models.start()\n",
        "models.stop()\n",
        "\n",
        "# Car.max_speed # modelx에 속도를 보고 싶으면 modelx.max_speed를 찍어야 합니다.\n",
        "# 초기 설계는 300으로 찍혀 있지만, 고객이 아래와 같이 자동차 튜닝을 했을 수도 있으니까요.\n",
        "\n",
        "models.max_speed = 500\n",
        "\n",
        "print(models.max_speed)\n",
        "print(modely.max_speed)"
      ],
      "metadata": {
        "colab": {
          "base_uri": "https://localhost:8080/"
        },
        "id": "mgHLimi1F1_c",
        "outputId": "cde0d89c-51c8-4a73-b928-f86658616898"
      },
      "execution_count": 5,
      "outputs": [
        {
          "output_type": "stream",
          "name": "stdout",
          "text": [
            "D\n",
            "차가 출발합니다!\n",
            "차가 멈췄습니다!\n",
            "500\n",
            "300\n"
          ]
        }
      ]
    },
    {
      "cell_type": "code",
      "source": [
        "class ClassName:\n",
        "    pass"
      ],
      "metadata": {
        "id": "NCgmfS0GGYiJ"
      },
      "execution_count": 6,
      "outputs": []
    },
    {
      "cell_type": "code",
      "source": [
        "instance = ClassName()"
      ],
      "metadata": {
        "id": "uxi2qzfaGarC"
      },
      "execution_count": 7,
      "outputs": []
    },
    {
      "cell_type": "code",
      "source": [
        "def start(self): # 메서드\n",
        "    print('차가 출발합니다!')"
      ],
      "metadata": {
        "id": "Z9t_FbuzGbmu"
      },
      "execution_count": 9,
      "outputs": []
    },
    {
      "cell_type": "code",
      "source": [
        "print(models.car_gear[1])\n",
        "models.start()\n",
        "models.stop()"
      ],
      "metadata": {
        "colab": {
          "base_uri": "https://localhost:8080/"
        },
        "id": "SPpzzuDDHGVv",
        "outputId": "94f4f8f5-6457-45f6-e2a9-c0fce0587c8f"
      },
      "execution_count": 10,
      "outputs": [
        {
          "output_type": "stream",
          "name": "stdout",
          "text": [
            "D\n",
            "차가 출발합니다!\n",
            "차가 멈췄습니다!\n"
          ]
        }
      ]
    },
    {
      "cell_type": "code",
      "source": [
        "l = [1, 2, 3]\n",
        "type(l)\n",
        "dir(l)\n",
        "l.append(4)\n",
        "l"
      ],
      "metadata": {
        "colab": {
          "base_uri": "https://localhost:8080/"
        },
        "id": "f_4H9CBKHPXd",
        "outputId": "fde360e4-99bb-40ad-d7af-06f8058cc200"
      },
      "execution_count": 14,
      "outputs": [
        {
          "output_type": "execute_result",
          "data": {
            "text/plain": [
              "[1, 2, 3, 4]"
            ]
          },
          "metadata": {},
          "execution_count": 14
        }
      ]
    },
    {
      "cell_type": "code",
      "source": [
        "print(type(models))\n",
        "print(dir(models))"
      ],
      "metadata": {
        "colab": {
          "base_uri": "https://localhost:8080/"
        },
        "id": "NjfMP_A1HPWe",
        "outputId": "3f91f44b-4c9a-40b6-f84b-e5b9b323fb14"
      },
      "execution_count": 15,
      "outputs": [
        {
          "output_type": "stream",
          "name": "stdout",
          "text": [
            "<class '__main__.Car'>\n",
            "['__class__', '__delattr__', '__dict__', '__dir__', '__doc__', '__eq__', '__format__', '__ge__', '__getattribute__', '__gt__', '__hash__', '__init__', '__init_subclass__', '__le__', '__lt__', '__module__', '__ne__', '__new__', '__reduce__', '__reduce_ex__', '__repr__', '__setattr__', '__sizeof__', '__str__', '__subclasshook__', '__weakref__', 'car_gear', 'max_people', 'max_speed', 'start', 'stop']\n"
          ]
        }
      ]
    },
    {
      "cell_type": "code",
      "source": [
        "x = int(3)\n",
        "print(type(x))"
      ],
      "metadata": {
        "colab": {
          "base_uri": "https://localhost:8080/"
        },
        "id": "ww5DnNGwHPVi",
        "outputId": "8aad2e5b-2184-49e6-98a1-07dda0ec5e0a"
      },
      "execution_count": 17,
      "outputs": [
        {
          "output_type": "stream",
          "name": "stdout",
          "text": [
            "<class 'int'>\n"
          ]
        }
      ]
    },
    {
      "cell_type": "code",
      "source": [
        "isinstance(x, int)"
      ],
      "metadata": {
        "colab": {
          "base_uri": "https://localhost:8080/"
        },
        "id": "s3i4TsVEHPUe",
        "outputId": "fff58bd7-26a6-4ae1-a630-6fb96ea7cfdb"
      },
      "execution_count": 18,
      "outputs": [
        {
          "output_type": "execute_result",
          "data": {
            "text/plain": [
              "True"
            ]
          },
          "metadata": {},
          "execution_count": 18
        }
      ]
    },
    {
      "cell_type": "code",
      "source": [
        "isinstance(modelx, Car)"
      ],
      "metadata": {
        "colab": {
          "base_uri": "https://localhost:8080/"
        },
        "id": "iH9VYii6HPTe",
        "outputId": "ef61277f-1627-4f64-d4ca-dc587b83fa98"
      },
      "execution_count": 19,
      "outputs": [
        {
          "output_type": "execute_result",
          "data": {
            "text/plain": [
              "True"
            ]
          },
          "metadata": {},
          "execution_count": 19
        }
      ]
    },
    {
      "cell_type": "code",
      "source": [
        "# x = int(3) 여기서 넣었던 3이라는 값이 어떻게 처리되는지 확인\n",
        "class Car:\n",
        "    max_speed = 300\n",
        "    max_people = 5\n",
        "    car_gear = ['P', 'D', 'R', 'N']\n",
        "\n",
        "    def __init__(self, name, CEO): # 클래스로 인스턴스를 만들 때 호출!\n",
        "        self.name = name\n",
        "        self.CEO = CEO\n",
        "\n",
        "    def start(self):\n",
        "        print('차가 출발합니다!')\n",
        "\n",
        "    def stop(self):\n",
        "        print('차가 멈췄습니다!')\n",
        "\n",
        "modelx = Car('Tesla Model X', '일론 머스크') # x = int(3) 여기서 넣었던 3이 __init__ 메직메서드에서 처리!\n",
        "modelx.name"
      ],
      "metadata": {
        "colab": {
          "base_uri": "https://localhost:8080/",
          "height": 35
        },
        "id": "z3ktKzQ0HPSe",
        "outputId": "15923d46-5512-49ce-895b-9c13adb670dd"
      },
      "execution_count": 20,
      "outputs": [
        {
          "output_type": "execute_result",
          "data": {
            "text/plain": [
              "'Tesla Model X'"
            ],
            "application/vnd.google.colaboratory.intrinsic+json": {
              "type": "string"
            }
          },
          "metadata": {},
          "execution_count": 20
        }
      ]
    },
    {
      "cell_type": "markdown",
      "source": [
        "### 클래스 변수와 인스턴스 변수\n",
        "    - 클래스 변수는 클래스 바로 하위에 자리하고 있는 변수들"
      ],
      "metadata": {
        "id": "WALNpCdzMD-m"
      }
    },
    {
      "cell_type": "code",
      "source": [
        "class Car:\n",
        "    # 클래스 변수의 위치\n",
        "    max_speed = 300\n",
        "    max_people = 5\n",
        "    car_gear = ['P', 'D', 'R', 'N']\n",
        "\n",
        "modelx = Car()\n",
        "print(Car.max_speed)\n",
        "print(modelx.max_speed)"
      ],
      "metadata": {
        "colab": {
          "base_uri": "https://localhost:8080/"
        },
        "id": "y0GlANC8HPRa",
        "outputId": "5f9f6dd4-716f-4da0-c318-34f8f06b731f"
      },
      "execution_count": 21,
      "outputs": [
        {
          "output_type": "stream",
          "name": "stdout",
          "text": [
            "300\n",
            "300\n"
          ]
        }
      ]
    },
    {
      "cell_type": "markdown",
      "source": [
        "**이 클래스 변수는 해당 클래스를 통해 만들어진 모든 인스턴스 객체들이 공유하는 변수 값**"
      ],
      "metadata": {
        "id": "BrRjTMDFMV_A"
      }
    },
    {
      "cell_type": "code",
      "source": [
        "class Car:\n",
        "    # 클래스 변수의 위치\n",
        "    max_speed = 300\n",
        "    max_people = 5\n",
        "    car_gear = ['P', 'D', 'R', 'N']\n",
        "\n",
        "modelx = Car()\n",
        "modely = Car()\n",
        "\n",
        "modely.max_speed = 500\n",
        "\n",
        "print(Car.max_speed)\n",
        "print(modelx.max_speed)\n",
        "print(modely.max_speed)"
      ],
      "metadata": {
        "colab": {
          "base_uri": "https://localhost:8080/"
        },
        "id": "MiEPz5C0HPQc",
        "outputId": "c651e1b1-be16-4577-eba4-4f5e5aba84bc"
      },
      "execution_count": 22,
      "outputs": [
        {
          "output_type": "stream",
          "name": "stdout",
          "text": [
            "300\n",
            "300\n",
            "500\n"
          ]
        }
      ]
    },
    {
      "cell_type": "code",
      "source": [
        "class Car:\n",
        "    kinds = []\n",
        "    speed = 300\n",
        "\n",
        "    def add_kinds(self, name):\n",
        "        self.kinds.append(name)\n",
        "\n",
        "    def change_speed(self, speed):\n",
        "        self.speed = speed\n",
        "\n",
        "modelx = Car()\n",
        "modely = Car()\n",
        "\n",
        "modelx.add_kinds('x')\n",
        "modely.add_kinds('y')"
      ],
      "metadata": {
        "id": "TvR-B1ypHO2y"
      },
      "execution_count": 28,
      "outputs": []
    },
    {
      "cell_type": "code",
      "source": [
        "Car.speed = 100\n",
        "\n",
        "# modelx.change_speed(500)\n",
        "# modely.change_speed(250)\n",
        "\n",
        "print(f'modelx.kinds: {modelx.kinds}')\n",
        "print(f'modely.kinds: {modely.kinds}')\n",
        "print(f'modelx.speed: {modelx.speed}')\n",
        "print(f'modely.speed: {modely.speed}')"
      ],
      "metadata": {
        "colab": {
          "base_uri": "https://localhost:8080/"
        },
        "id": "qsUSahekMsUD",
        "outputId": "c753027e-5608-4782-e10f-df828fa506ef"
      },
      "execution_count": 29,
      "outputs": [
        {
          "output_type": "stream",
          "name": "stdout",
          "text": [
            "modelx.kinds: ['x', 'y']\n",
            "modely.kinds: ['x', 'y']\n",
            "modelx.speed: 100\n",
            "modely.speed: 100\n"
          ]
        }
      ]
    },
    {
      "cell_type": "code",
      "source": [
        "class Car:\n",
        "    kinds = []\n",
        "    speed = 300\n",
        "\n",
        "    def add_kinds(self, name):\n",
        "        self.kinds.append(name)\n",
        "\n",
        "    def change_speed(self, speed):\n",
        "        self.speed = speed\n",
        "\n",
        "modelx = Car()\n",
        "modely = Car()\n",
        "\n",
        "# Car.speed = 100\n",
        "\n",
        "modelx.change_speed(500)\n",
        "modely.change_speed(250)\n",
        "\n",
        "print(f'modelx.speed: {modelx.speed}')\n",
        "print(f'modely.speed: {modely.speed}')"
      ],
      "metadata": {
        "colab": {
          "base_uri": "https://localhost:8080/"
        },
        "id": "_FghhhEWHOzT",
        "outputId": "c3b6e25d-00a5-4216-e783-ece395e22691"
      },
      "execution_count": 30,
      "outputs": [
        {
          "output_type": "stream",
          "name": "stdout",
          "text": [
            "modelx.speed: 500\n",
            "modely.speed: 250\n"
          ]
        }
      ]
    },
    {
      "cell_type": "code",
      "source": [
        "def change_speed(self, speed):\n",
        "    self.speed = speed"
      ],
      "metadata": {
        "id": "5mKSxk8GHOxB"
      },
      "execution_count": 31,
      "outputs": []
    },
    {
      "cell_type": "code",
      "source": [
        "class Car:\n",
        "    kinds = []\n",
        "    speed = 300\n",
        "\n",
        "    def add_kinds(self, name):\n",
        "        self.kinds.append(name)\n",
        "\n",
        "    def change_speed(self, speed):\n",
        "        self.speed = speed\n",
        "\n",
        "modelx = Car()\n",
        "modely = Car()\n",
        "\n",
        "# Car.speed = 100\n",
        "\n",
        "modelx.change_speed(500)\n",
        "modely.change_speed(250)\n",
        "\n",
        "print(f'modelx.speed: {modelx.speed}')\n",
        "print(f'modely.speed: {modely.speed}')\n",
        "\n",
        "Car.speed"
      ],
      "metadata": {
        "colab": {
          "base_uri": "https://localhost:8080/"
        },
        "id": "Vt4UGUMVHOue",
        "outputId": "ad06aa63-e298-44c4-c133-62b13e7f6fa2"
      },
      "execution_count": 32,
      "outputs": [
        {
          "output_type": "stream",
          "name": "stdout",
          "text": [
            "modelx.speed: 500\n",
            "modely.speed: 250\n"
          ]
        },
        {
          "output_type": "execute_result",
          "data": {
            "text/plain": [
              "300"
            ]
          },
          "metadata": {},
          "execution_count": 32
        }
      ]
    },
    {
      "cell_type": "code",
      "source": [
        "speed = 300 # 전역변수 speed 300\n",
        "\n",
        "def change_speed(value):\n",
        "    speed = value # 지역변수 speed\n",
        "\n",
        "change_speed(100)\n",
        "speed # 출력: 300"
      ],
      "metadata": {
        "colab": {
          "base_uri": "https://localhost:8080/"
        },
        "id": "qH8TwW9uHOsM",
        "outputId": "4fff9832-0405-4bf6-e38d-f0d720d32d76"
      },
      "execution_count": 33,
      "outputs": [
        {
          "output_type": "execute_result",
          "data": {
            "text/plain": [
              "300"
            ]
          },
          "metadata": {},
          "execution_count": 33
        }
      ]
    },
    {
      "cell_type": "code",
      "source": [
        "kinds = [] # 전역변수 speed 300\n",
        "\n",
        "def add_kinds(value):\n",
        "    kinds.append(value) # 지역에 해당 변수가 없으므로 전역변수 kinds에 append\n",
        "\n",
        "add_kinds(100)\n",
        "kinds"
      ],
      "metadata": {
        "colab": {
          "base_uri": "https://localhost:8080/"
        },
        "id": "FGb9UuaXHOpv",
        "outputId": "d5f1851d-1d92-4e89-e3dc-12894f4c23b2"
      },
      "execution_count": 34,
      "outputs": [
        {
          "output_type": "execute_result",
          "data": {
            "text/plain": [
              "[100]"
            ]
          },
          "metadata": {},
          "execution_count": 34
        }
      ]
    },
    {
      "cell_type": "code",
      "source": [
        "class Car:\n",
        "    kinds = []\n",
        "    speed = 300\n",
        "\n",
        "    def add_kinds(self, name):\n",
        "        self.kinds.append(name)\n",
        "\n",
        "    def change_speed(self, speed):\n",
        "        self.speed = speed"
      ],
      "metadata": {
        "id": "m6iXk2c8M5bj"
      },
      "execution_count": 35,
      "outputs": []
    },
    {
      "cell_type": "markdown",
      "source": [
        "    - 인스턴스 변수는 self가 위치한 어디서나 선언이 가능하지만 보통 __init__메서드 안에서 선언\n",
        "    - 언더바가 2개앞 뒤로 있는 메서드는 매직 메서드, 던더 함수라고 불림\n",
        "    - 이 메서드는 인스턴스 객체를 생성할 때 자동으로 실행\n",
        "\n",
        "    - 인스턴스 객체가 모두 공통으로 공유하는 값이 클래스 변수라면,\n",
        "      인스턴스 변수는 각 인스턴스 객체가 가지고 있는 값으로 인스턴스 내부에서만 사용이 가능"
      ],
      "metadata": {
        "id": "piav8lw3M8WA"
      }
    },
    {
      "cell_type": "code",
      "source": [
        "class Car:\n",
        "    max_speed = 300\n",
        "\n",
        "    def __init__(self, name): # self는 자신만의 영역\n",
        "        self.name = name\n",
        "\n",
        "    def start(self, speed): # self는 자신만의 영역\n",
        "        self.speed = speed\n",
        "        return f'{self.name}차가 {self.speed}의 속력으로 움직이고 있습니다.'\n",
        "\n",
        "modelx = Car('Tesla Model X')\n",
        "print(modelx.name)\n",
        "print(modelx.start(100))"
      ],
      "metadata": {
        "colab": {
          "base_uri": "https://localhost:8080/"
        },
        "id": "pEjE94D2M5aF",
        "outputId": "6590bebb-689a-43bc-e7ca-7f93c730f624"
      },
      "execution_count": 36,
      "outputs": [
        {
          "output_type": "stream",
          "name": "stdout",
          "text": [
            "Tesla Model X\n",
            "Tesla Model X차가 100의 속력으로 움직이고 있습니다.\n"
          ]
        }
      ]
    },
    {
      "cell_type": "code",
      "source": [
        "class Car:\n",
        "    max_speed = 300\n",
        "\n",
        "    def __init__(self, name): # self는 자신만의 영역\n",
        "        self.name = name\n",
        "\n",
        "    def start(self, speed): # self는 자신만의 영역\n",
        "        self.speed = speed\n",
        "        return f'{self.name}차가 {self.speed}의 속력으로 움직이고 있습니다.'\n",
        "\n",
        "modelx = Car('Tesla Model X')\n",
        "modelx.name = 'ModelY'\n",
        "modelx.welcome = 'hello world'\n",
        "print(modelx.name, modelx.welcome)"
      ],
      "metadata": {
        "colab": {
          "base_uri": "https://localhost:8080/"
        },
        "id": "_LF78i0SM5Yv",
        "outputId": "84ef9e89-100e-4fd4-ce40-b38e960b106b"
      },
      "execution_count": 37,
      "outputs": [
        {
          "output_type": "stream",
          "name": "stdout",
          "text": [
            "ModelY hello world\n"
          ]
        }
      ]
    },
    {
      "cell_type": "markdown",
      "source": [
        "### 다른 자료형의 인스턴스 변수 변경"
      ],
      "metadata": {
        "id": "azfRMLIgNcYK"
      }
    },
    {
      "cell_type": "code",
      "source": [
        "def hello():\n",
        "    print('hello world')\n",
        "\n",
        "print(type(hello))"
      ],
      "metadata": {
        "colab": {
          "base_uri": "https://localhost:8080/"
        },
        "id": "RfQiYctVM5Xb",
        "outputId": "c3ac29ed-b56e-4837-f2cd-ed4d32558efa"
      },
      "execution_count": 39,
      "outputs": [
        {
          "output_type": "stream",
          "name": "stdout",
          "text": [
            "<class 'function'>\n"
          ]
        }
      ]
    },
    {
      "cell_type": "code",
      "source": [
        "hello.hi = 'hi, world'\n",
        "hello.hi"
      ],
      "metadata": {
        "colab": {
          "base_uri": "https://localhost:8080/",
          "height": 35
        },
        "id": "UHDB8uaUM5Ve",
        "outputId": "b045b859-a5ca-4515-8864-7559bb5b29b3"
      },
      "execution_count": 40,
      "outputs": [
        {
          "output_type": "execute_result",
          "data": {
            "text/plain": [
              "'hi, world'"
            ],
            "application/vnd.google.colaboratory.intrinsic+json": {
              "type": "string"
            }
          },
          "metadata": {},
          "execution_count": 40
        }
      ]
    },
    {
      "cell_type": "code",
      "source": [
        "'''\n",
        "s = 'hello'\n",
        "s.hi = 'hi, world'\n",
        "s.hi # error\n",
        "\n",
        "s = [10, 20, 30]\n",
        "s.hi = 'hi, world'\n",
        "s.hi # error\n",
        "\n",
        "s = {'one':1}\n",
        "s.hi = 'hi, world'\n",
        "s.hi # error\n",
        "'''"
      ],
      "metadata": {
        "colab": {
          "base_uri": "https://localhost:8080/",
          "height": 53
        },
        "id": "ac48DwCmM4wB",
        "outputId": "62d5ab8a-d914-4b72-dd4d-02ee701508f1"
      },
      "execution_count": 42,
      "outputs": [
        {
          "output_type": "execute_result",
          "data": {
            "text/plain": [
              "\"\\ns = 'hello'\\ns.hi = 'hi, world'\\ns.hi # error\\n\\ns = [10, 20, 30]\\ns.hi = 'hi, world'\\ns.hi # error\\n\\ns = {'one':1}\\ns.hi = 'hi, world'\\ns.hi # error\\n\""
            ],
            "application/vnd.google.colaboratory.intrinsic+json": {
              "type": "string"
            }
          },
          "metadata": {},
          "execution_count": 42
        }
      ]
    },
    {
      "cell_type": "markdown",
      "source": [
        "---------------------------------------------\n",
        "**강사님이 진행한 파일 (참조)**\n",
        "---------------------------------------------"
      ],
      "metadata": {
        "id": "1rSBpysSG6tF"
      }
    },
    {
      "cell_type": "code",
      "source": [],
      "metadata": {
        "id": "RPz91IE3NxLk"
      },
      "execution_count": null,
      "outputs": []
    },
    {
      "cell_type": "code",
      "execution_count": 8,
      "metadata": {
        "id": "P9Bkd4bqYp8T"
      },
      "outputs": [],
      "source": [
        "# 고정된 값을 가지는 클래스 -> 함수랑 다른 점이 없는 클래스\n",
        "\n",
        "class Car: # 차에 설계 도면 또는 차 공장, 클래스 1. 클래스는 대문자로 이름을 설정해야한다.\n",
        "    max_speed = 300 # 멤버 또는 애트리뷰트\n",
        "    max_people = 5\n",
        "    car_gear = ['P', 'D', 'R', 'N']\n",
        "\n",
        "    def start(self): # 메서드\n",
        "        print('차가 출발합니다!')\n",
        "\n",
        "    def stop(self):\n",
        "        print('차가 멈췄습니다!')\n",
        "\n",
        "# 공장에서 생산된 자동차 modelx, y, s, 인스턴스\n",
        "modelx = Car() # 인스턴스 = 클래스()"
      ]
    },
    {
      "cell_type": "code",
      "source": [
        "# 클래스의 장점 -> 클래스 안에 있는 함수의 기능을 가져올 수 있다.\n",
        "print(modelx.max_speed)\n",
        "print(modelx.car_gear[1]) # 도서관에서 책 찾는것처럼 -> 문학 -> 한국문학 -> 비문학"
      ],
      "metadata": {
        "colab": {
          "base_uri": "https://localhost:8080/"
        },
        "id": "f-RTFrxGZs3G",
        "outputId": "e638737f-31c3-42dd-8639-8c282e54328f"
      },
      "execution_count": null,
      "outputs": [
        {
          "output_type": "stream",
          "name": "stdout",
          "text": [
            "300\n",
            "D\n"
          ]
        }
      ]
    },
    {
      "cell_type": "code",
      "source": [
        "#self는 무시된다. 함수를 가져올때는 () 꼭 입력한다.\n",
        "models.start()\n",
        "models.stop()"
      ],
      "metadata": {
        "colab": {
          "base_uri": "https://localhost:8080/"
        },
        "id": "mUs5sVIJaRtW",
        "outputId": "14ccb243-48ad-4f2e-b59c-2c21bef78f06"
      },
      "execution_count": null,
      "outputs": [
        {
          "output_type": "stream",
          "name": "stdout",
          "text": [
            "차가 출발합니다!\n",
            "차가 멈췄습니다!\n"
          ]
        }
      ]
    },
    {
      "cell_type": "code",
      "source": [
        "\n",
        "print(models.car_gear[1])\n",
        "models.start()\n",
        "models.stop()"
      ],
      "metadata": {
        "id": "VGEt2RnmZoMD"
      },
      "execution_count": null,
      "outputs": []
    },
    {
      "cell_type": "code",
      "source": [
        "modely = Car()\n",
        "models = Car()"
      ],
      "metadata": {
        "id": "fxrxwnpEZWzQ"
      },
      "execution_count": null,
      "outputs": []
    },
    {
      "cell_type": "code",
      "source": [
        "# Car.max_speed # modelx에 속도를 보고 싶으면 modelx.max_speed를 찍어야 합니다.\n",
        "# 초기 설계는 300으로 찍혀 있지만, 고객이 아래와 같이 자동차 튜닝을 했을 수도 있으니까요.\n",
        "\n",
        "models.max_speed = 500\n",
        "\n",
        "print(models.max_speed) # 직접 클래스 자료에 접근해서 -> 데이터를 변경할수 있다.\n",
        "print(modely.max_speed)"
      ],
      "metadata": {
        "colab": {
          "base_uri": "https://localhost:8080/"
        },
        "id": "VUz7mzIZZJgz",
        "outputId": "eb6795bf-e6be-4026-b775-c403b95a5c4f"
      },
      "execution_count": null,
      "outputs": [
        {
          "output_type": "stream",
          "name": "stdout",
          "text": [
            "500\n",
            "300\n"
          ]
        }
      ]
    },
    {
      "cell_type": "code",
      "source": [
        "def Car(x):\n",
        "    y = x + 1"
      ],
      "metadata": {
        "id": "J7-6IzrXcqA_"
      },
      "execution_count": null,
      "outputs": []
    },
    {
      "cell_type": "code",
      "source": [
        "# x = int(3) 여기서 넣었던 3이라는 값이 어떻게 처리되는지 확인\n",
        "class Car:\n",
        "    max_speed = 300\n",
        "    max_people = 5\n",
        "    car_gear = ['P', 'D', 'R', 'N']\n",
        "    # name = 'Tesla Model X'\n",
        "\n",
        "    def __init__(self, name): # 클래스로 인스턴스를 만들 때 호출!\n",
        "        self.name = name\n",
        "\n",
        "    def start(self):\n",
        "        print('차가 출발합니다!')\n",
        "\n",
        "    def stop(self):\n",
        "        print('차가 멈췄습니다!')\n",
        "\n",
        "modelx = Car('Tesla Model X') # x = int(3) 여기서 넣었던 3이 __init__ 메직메서드에서 처리!\n",
        "modelx.name"
      ],
      "metadata": {
        "colab": {
          "base_uri": "https://localhost:8080/",
          "height": 36
        },
        "id": "jP4R1UjFaokd",
        "outputId": "b9f4199d-1476-44d8-a510-be878423d484"
      },
      "execution_count": null,
      "outputs": [
        {
          "output_type": "execute_result",
          "data": {
            "text/plain": [
              "'Tesla Model X'"
            ],
            "application/vnd.google.colaboratory.intrinsic+json": {
              "type": "string"
            }
          },
          "metadata": {},
          "execution_count": 10
        }
      ]
    },
    {
      "cell_type": "code",
      "source": [
        "class Car:\n",
        "    def __init__(self, name, CEO): # 클래스에서 __init__은 붕어빵 틀 중에서 가장 기본 틀!\n",
        "        self.name = name           # self는 인수로 전달받지도 전달하지도 않음 -> Car 클래스 그 자체\n",
        "        self.CEO = CEO             # 위에 꼭 self를 붙여야 self를 사용해서 self.name처럼 사용할 수 있음\n",
        "\n",
        "modelx = Car('Tesla Model X', '일론 머스크') # __init__과 self로 구현된 값은 클래스 할당시 입력자료를 넣을 수 있다.\n",
        "print(modelx.name)                        # 입력을 받을때는 파라미터를 설정해야한다.(name, CEO처럼)\n",
        "print(modelx.CEO)                         # 그러면 modelx처럼 name과 CEO의 데이터를 불러올수 있다."
      ],
      "metadata": {
        "colab": {
          "base_uri": "https://localhost:8080/"
        },
        "id": "t0mpPfAdcNQa",
        "outputId": "14dfa16f-2ad7-4c18-cdfd-9b134b93324a"
      },
      "execution_count": null,
      "outputs": [
        {
          "output_type": "stream",
          "name": "stdout",
          "text": [
            "Tesla Model X\n",
            "일론 머스크\n"
          ]
        }
      ]
    },
    {
      "cell_type": "code",
      "source": [
        "class Car:\n",
        "    # 클래스 변수의 위치\n",
        "    max_speed = 300\n",
        "    max_people = 5\n",
        "    car_gear = ['P', 'D', 'R', 'N']\n",
        "\n",
        "\n",
        "modelx = Car()\n",
        "print(Car.max_speed)\n",
        "print(modelx.max_speed)"
      ],
      "metadata": {
        "id": "2Cwbdgf9dj0h"
      },
      "execution_count": null,
      "outputs": []
    },
    {
      "cell_type": "code",
      "source": [
        "# 인스턴스 식품!!\n",
        "class Car:\n",
        "    # 클래스 변수의 위치\n",
        "    max_speed = 300\n",
        "    max_people = 5\n",
        "    car_gear = ['P', 'D', 'R', 'N']\n",
        "\n",
        "modelx = Car()\n",
        "modely = Car()"
      ],
      "metadata": {
        "id": "bMmOVdETxyeT"
      },
      "execution_count": null,
      "outputs": []
    },
    {
      "cell_type": "code",
      "source": [
        "modely.max_speed"
      ],
      "metadata": {
        "colab": {
          "base_uri": "https://localhost:8080/"
        },
        "id": "xBO3mUo-x2ji",
        "outputId": "0c05c042-55b9-474c-95c2-39811541a952"
      },
      "execution_count": null,
      "outputs": [
        {
          "output_type": "execute_result",
          "data": {
            "text/plain": [
              "300"
            ]
          },
          "metadata": {},
          "execution_count": 17
        }
      ]
    },
    {
      "cell_type": "code",
      "source": [
        "modely.max_speed = 500\n",
        "\n",
        "print(Car.max_speed)\n",
        "print(modelx.max_speed)\n",
        "print(modely.max_speed)"
      ],
      "metadata": {
        "colab": {
          "base_uri": "https://localhost:8080/"
        },
        "id": "GEOkHXzDxz7O",
        "outputId": "bf7a3fcb-6157-456a-b529-d4bceb7fb92d"
      },
      "execution_count": null,
      "outputs": [
        {
          "output_type": "stream",
          "name": "stdout",
          "text": [
            "300\n",
            "300\n",
            "500\n"
          ]
        }
      ]
    },
    {
      "cell_type": "code",
      "source": [
        "class Car:\n",
        "    kinds = []\n",
        "    speed = 300\n",
        "\n",
        "    def add_kinds(self, name):\n",
        "        self.kinds.append(name)\n",
        "\n",
        "    def change_speed(self, speed):\n",
        "        self.speed = speed\n",
        "\n",
        "modelx = Car()\n",
        "modely = Car()\n",
        "\n",
        "modelx.add_kinds('x')\n",
        "modely.add_kinds('y')\n",
        "\n",
        "Car.speed = 100\n",
        "\n",
        "# modelx.change_speed(500)\n",
        "# modely.change_speed(250)\n",
        "\n",
        "print(f'modelx.kinds: {modelx.kinds}')\n",
        "print(f'modely.kinds: {modely.kinds}')\n",
        "print(f'modelx.speed: {modelx.speed}')\n",
        "print(f'modely.speed: {modely.speed}')"
      ],
      "metadata": {
        "id": "2Rgy4XzCyHQo"
      },
      "execution_count": null,
      "outputs": []
    },
    {
      "cell_type": "code",
      "source": [
        "class Car:\n",
        "    kinds = []\n",
        "\n",
        "    def add_kinds(self, name):\n",
        "        self.kinds.append(name) #append -> 리스트에(name) nam(임시이름)값을 추가하는!\n",
        "\n",
        "modelx = Car()\n",
        "#여러번 반복!\n",
        "modelx.add_kinds('x')\n",
        "print(modelx.kinds)"
      ],
      "metadata": {
        "id": "zS14FK0jy4-Y"
      },
      "execution_count": null,
      "outputs": []
    },
    {
      "cell_type": "code",
      "source": [
        "#Car()와 modelx는 분리되어있다.! 그게 아닐수도 있다.\n",
        "#왜냐하면 self라는 것때문에"
      ],
      "metadata": {
        "id": "ETsm5sBq1MRr"
      },
      "execution_count": null,
      "outputs": []
    },
    {
      "cell_type": "code",
      "source": [
        "print(modelx.kinds)"
      ],
      "metadata": {
        "colab": {
          "base_uri": "https://localhost:8080/"
        },
        "id": "K_2lZCeu1Hfd",
        "outputId": "e55a1ab6-8cec-4dc6-f4f5-a7df71a5c0e5"
      },
      "execution_count": null,
      "outputs": [
        {
          "output_type": "stream",
          "name": "stdout",
          "text": [
            "[]\n"
          ]
        }
      ]
    },
    {
      "cell_type": "code",
      "source": [
        "#Self는 Car라는 클래스 그 자체"
      ],
      "metadata": {
        "id": "dapPVd3V1ZWk"
      },
      "execution_count": null,
      "outputs": []
    },
    {
      "cell_type": "code",
      "source": [
        "modelx.add_kinds('x')\n",
        "print(modelx.kinds)"
      ],
      "metadata": {
        "colab": {
          "base_uri": "https://localhost:8080/"
        },
        "id": "nXCuwVyLzDGD",
        "outputId": "8fe4eb93-587d-46a2-9abc-6a12586089d4"
      },
      "execution_count": null,
      "outputs": [
        {
          "output_type": "stream",
          "name": "stdout",
          "text": [
            "['x', 'x']\n"
          ]
        }
      ]
    },
    {
      "cell_type": "code",
      "source": [
        "print(Car.kinds)"
      ],
      "metadata": {
        "colab": {
          "base_uri": "https://localhost:8080/"
        },
        "id": "MR0QGauC1KrC",
        "outputId": "8797c0a4-41a2-46b3-d125-a01bb3614780"
      },
      "execution_count": null,
      "outputs": [
        {
          "output_type": "stream",
          "name": "stdout",
          "text": [
            "['x', 'x']\n"
          ]
        }
      ]
    },
    {
      "cell_type": "code",
      "source": [
        "\n",
        "modelx.kinds"
      ],
      "metadata": {
        "colab": {
          "base_uri": "https://localhost:8080/"
        },
        "id": "LQl2DNaz0y7O",
        "outputId": "f1cdfc56-7f58-4a5b-8910-97d47989d907"
      },
      "execution_count": null,
      "outputs": [
        {
          "output_type": "execute_result",
          "data": {
            "text/plain": [
              "['x']"
            ]
          },
          "metadata": {},
          "execution_count": 5
        }
      ]
    },
    {
      "cell_type": "code",
      "source": [
        "Car.speed = 100"
      ],
      "metadata": {
        "id": "G244pKAdzMjB"
      },
      "execution_count": null,
      "outputs": []
    },
    {
      "cell_type": "code",
      "source": [
        "modelx.change_speed(500)"
      ],
      "metadata": {
        "id": "P8BV4T1IzOhE"
      },
      "execution_count": null,
      "outputs": []
    },
    {
      "cell_type": "code",
      "source": [
        "print(f'modelx.kinds: {modelx.kinds}')\n",
        "print(f'modelx.speed: {modelx.speed}')"
      ],
      "metadata": {
        "colab": {
          "base_uri": "https://localhost:8080/"
        },
        "id": "wruaoe7OyrlF",
        "outputId": "e02bf2d3-00a6-432d-eb9a-91aa4c793cd1"
      },
      "execution_count": null,
      "outputs": [
        {
          "output_type": "stream",
          "name": "stdout",
          "text": [
            "modelx.kinds: ['x']\n",
            "modelx.speed: 500\n"
          ]
        }
      ]
    },
    {
      "cell_type": "code",
      "source": [
        "modely = Car()"
      ],
      "metadata": {
        "id": "BZIw2eNizS9j"
      },
      "execution_count": null,
      "outputs": []
    },
    {
      "cell_type": "code",
      "source": [
        "modely.add_kinds('y')"
      ],
      "metadata": {
        "id": "qvJKuniszsQd"
      },
      "execution_count": null,
      "outputs": []
    },
    {
      "cell_type": "code",
      "source": [
        "print(f'modely.kinds: {modely.kinds}')"
      ],
      "metadata": {
        "colab": {
          "base_uri": "https://localhost:8080/"
        },
        "id": "NqKbPmQizw2Q",
        "outputId": "7178a31e-d106-4080-e728-c6819d8823b8"
      },
      "execution_count": null,
      "outputs": [
        {
          "output_type": "stream",
          "name": "stdout",
          "text": [
            "modely.kinds: ['x', 'y', 'y']\n"
          ]
        }
      ]
    },
    {
      "cell_type": "code",
      "source": [
        "class Car:\n",
        "    kinds = []\n",
        "    speed = 300\n",
        "\n",
        "    def add_kinds(self, name):\n",
        "        self.kinds.append(name) #Car - modelx - modely가 공유\n",
        "\n",
        "    def change_speed(self, speed):\n",
        "        self.speed = speed #왜 따로?????\n",
        "\n",
        "modelx = Car()\n",
        "modely = Car()\n",
        "\n",
        "# Car.speed = 100\n",
        "\n",
        "modelx.change_speed(500)\n",
        "modely.change_speed(250)\n",
        "\n",
        "print(f'modelx.speed: {modelx.speed}')\n",
        "print(f'modely.speed: {modely.speed}')"
      ],
      "metadata": {
        "colab": {
          "base_uri": "https://localhost:8080/"
        },
        "id": "vE1_5vT84C3q",
        "outputId": "b3c8f3c4-7fcd-4cf2-feb1-3e485c31144a"
      },
      "execution_count": null,
      "outputs": [
        {
          "output_type": "stream",
          "name": "stdout",
          "text": [
            "modelx.speed: 500\n",
            "modely.speed: 250\n"
          ]
        }
      ]
    },
    {
      "cell_type": "code",
      "source": [
        "Car.speed"
      ],
      "metadata": {
        "colab": {
          "base_uri": "https://localhost:8080/"
        },
        "id": "oLV6rmIE4Uh4",
        "outputId": "7d6fc845-3a54-4999-9610-7bfeb63962b7"
      },
      "execution_count": null,
      "outputs": [
        {
          "output_type": "execute_result",
          "data": {
            "text/plain": [
              "300"
            ]
          },
          "metadata": {},
          "execution_count": 13
        }
      ]
    },
    {
      "cell_type": "code",
      "source": [
        "speed = 300 # 전역변수 speed 300\n",
        "\n",
        "def change_speed(value):\n",
        "    speed = value # 지역변수 speed\n",
        "\n",
        "change_speed(100)\n",
        "print(speed) # 출력: 300"
      ],
      "metadata": {
        "id": "1sd1iL-u5B-W"
      },
      "execution_count": null,
      "outputs": []
    },
    {
      "cell_type": "code",
      "source": [
        "speed = 300 # 전역변수 speed 300\n",
        "\n",
        "def change_speed(value):\n",
        "    speed = value # 지역변수 speed\n",
        "    return speed\n",
        "\n",
        "speed_def = change_speed(100)\n",
        "print(speed) # 출력: 300\n",
        "print(speed_def)"
      ],
      "metadata": {
        "colab": {
          "base_uri": "https://localhost:8080/"
        },
        "id": "XzpeaQCy4inA",
        "outputId": "ccfc4e2f-3b05-45df-cc1c-66b633efeda0"
      },
      "execution_count": null,
      "outputs": [
        {
          "output_type": "stream",
          "name": "stdout",
          "text": [
            "300\n",
            "100\n"
          ]
        }
      ]
    },
    {
      "cell_type": "code",
      "source": [
        "class Car:\n",
        "    speed = 300\n",
        "\n",
        "    def change_speed(self, speed):\n",
        "        self.speed = speed\n",
        "\n",
        "modelx = Car()\n",
        "modely = Car()"
      ],
      "metadata": {
        "id": "J55kn7n_3wRl"
      },
      "execution_count": null,
      "outputs": []
    },
    {
      "cell_type": "code",
      "source": [
        "class Car:\n",
        "    speed = 300\n",
        "\n",
        "    def change_speed(self, speed):\n",
        "        self.speed = speed\n",
        "\n",
        "modelx = Car()\n",
        "modely = Car()\n",
        "\n",
        "Car.speed = 100\n",
        "\n",
        "modelx.change_speed(500)\n",
        "modely.change_speed(250)\n",
        "\n",
        "print(f'modelx.speed: {modelx.speed}')\n",
        "print(f'modely.speed: {modely.speed}')"
      ],
      "metadata": {
        "id": "pkVWpAMr0PTz"
      },
      "execution_count": null,
      "outputs": []
    }
  ]
}