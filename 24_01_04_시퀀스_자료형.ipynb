{
  "nbformat": 4,
  "nbformat_minor": 0,
  "metadata": {
    "colab": {
      "provenance": []
    },
    "kernelspec": {
      "name": "python3",
      "display_name": "Python 3"
    },
    "language_info": {
      "name": "python"
    }
  },
  "cells": [
    {
      "cell_type": "markdown",
      "source": [
        "### 시퀀스 자료형\n",
        "\n",
        "= 여러개의 항목들이 순서대로 나열된 구조를 나타내는 데이터 유형\n",
        "\n",
        "- 리스트(List)\n",
        "- 문자열(String)\n",
        "- 튜플(Tuple)\n",
        "- 바이트(Bytes)\n",
        "- 바이트배열(Bytearray)\n",
        "- 범위(range)\n",
        "\n"
      ],
      "metadata": {
        "id": "txGRAN73NeIB"
      }
    },
    {
      "cell_type": "code",
      "execution_count": 1,
      "metadata": {
        "colab": {
          "base_uri": "https://localhost:8080/"
        },
        "id": "OgmiBVslNZOI",
        "outputId": "19889e9c-eca7-4d1f-8427-d39dc389df1c"
      },
      "outputs": [
        {
          "output_type": "stream",
          "name": "stdout",
          "text": [
            "a\n",
            "c\n"
          ]
        }
      ],
      "source": [
        "# 인덱싱 (Indexing)\n",
        "\n",
        "example = 'abcde'\n",
        "print(example[0])\n",
        "print(example[2])"
      ]
    },
    {
      "cell_type": "code",
      "source": [
        "# 슬라이싱 (Slicing)\n",
        "\n",
        "example = 'abcde'\n",
        "print(example[1:3])\n",
        "range(10)[3]"
      ],
      "metadata": {
        "colab": {
          "base_uri": "https://localhost:8080/"
        },
        "id": "omr2xqOpNvFA",
        "outputId": "3ebbaf5e-fde2-4bac-e2de-4fe6207b9658"
      },
      "execution_count": 5,
      "outputs": [
        {
          "output_type": "stream",
          "name": "stdout",
          "text": [
            "bc\n"
          ]
        },
        {
          "output_type": "execute_result",
          "data": {
            "text/plain": [
              "3"
            ]
          },
          "metadata": {},
          "execution_count": 5
        }
      ]
    },
    {
      "cell_type": "code",
      "source": [
        "range(100)[::5]"
      ],
      "metadata": {
        "colab": {
          "base_uri": "https://localhost:8080/"
        },
        "id": "GUc5F8z7N2FR",
        "outputId": "1fcfd5bd-f5a8-4051-9463-4864ccdc68e3"
      },
      "execution_count": 6,
      "outputs": [
        {
          "output_type": "execute_result",
          "data": {
            "text/plain": [
              "range(0, 100, 5)"
            ]
          },
          "metadata": {},
          "execution_count": 6
        }
      ]
    },
    {
      "cell_type": "code",
      "source": [
        "# 특정 항목의 포함 여부(Member)\n",
        "\n",
        "example = 'abcde'\n",
        "print('a' in example)\n",
        "print('z' in example)"
      ],
      "metadata": {
        "colab": {
          "base_uri": "https://localhost:8080/"
        },
        "id": "bfK2ARZFN8hl",
        "outputId": "c36b8115-f945-4f1e-f5eb-554b31bcc879"
      },
      "execution_count": 8,
      "outputs": [
        {
          "output_type": "stream",
          "name": "stdout",
          "text": [
            "True\n",
            "False\n"
          ]
        }
      ]
    },
    {
      "cell_type": "code",
      "source": [
        "# 연결 및 반복 (Iteration)\n",
        "\n",
        "example1 = 'abcde'\n",
        "example2 = 'f'\n",
        "print(example1 + example2)\n",
        "print(example2 * 3)"
      ],
      "metadata": {
        "colab": {
          "base_uri": "https://localhost:8080/"
        },
        "id": "EDMuG_9vOUK0",
        "outputId": "cf36951a-80af-4230-d61e-08c8b831817f"
      },
      "execution_count": 9,
      "outputs": [
        {
          "output_type": "stream",
          "name": "stdout",
          "text": [
            "abcdef\n",
            "fff\n"
          ]
        }
      ]
    },
    {
      "cell_type": "code",
      "source": [
        "# 내장 함수\n",
        "\n",
        "example = 'abcde'\n",
        "print(len(example))\n",
        "print(min(example))\n",
        "print(max(example))"
      ],
      "metadata": {
        "colab": {
          "base_uri": "https://localhost:8080/"
        },
        "id": "pMkaxSSpOvPp",
        "outputId": "6266cf66-866a-410c-aa8f-7c14852b0d9c"
      },
      "execution_count": 10,
      "outputs": [
        {
          "output_type": "stream",
          "name": "stdout",
          "text": [
            "5\n",
            "a\n",
            "e\n"
          ]
        }
      ]
    },
    {
      "cell_type": "markdown",
      "source": [
        "### 시퀀스 자료형의 패킹과 언패킹\n",
        "\n",
        "= 데이터를 그룹화 하거나 그룹에서 분해하는 간결한 방법을 제공\n",
        "\n",
        "- 패킹 (Packing)\n",
        "  - 패킹은 여러 개의 데이터를 하나의 변수에 담는 과정\n",
        "- 언패킹 (Unpacking)\n",
        "  - 언패킹은 패킹된 데이터를 여러 개의 변수로 분배하는 과정"
      ],
      "metadata": {
        "id": "Vnm30Em0PYVA"
      }
    },
    {
      "cell_type": "code",
      "source": [
        "# 튜플 패킹\n",
        "\n",
        "packed_tuple = 1, 2, 3, 4\n",
        "print(packed_tuple)"
      ],
      "metadata": {
        "colab": {
          "base_uri": "https://localhost:8080/"
        },
        "id": "mE64gN4OO13w",
        "outputId": "6927e049-4205-4f64-b291-72048446b260"
      },
      "execution_count": 11,
      "outputs": [
        {
          "output_type": "stream",
          "name": "stdout",
          "text": [
            "(1, 2, 3, 4)\n"
          ]
        }
      ]
    },
    {
      "cell_type": "code",
      "source": [
        "# 튜플 패킹\n",
        "packed_tuple = 1, 2, 3, 4\n",
        "\n",
        "# 튜플 언패킹\n",
        "a, b, c, d = packed_tuple\n",
        "print(a)\n",
        "print(b)"
      ],
      "metadata": {
        "colab": {
          "base_uri": "https://localhost:8080/"
        },
        "id": "jpLcdNdyPfxv",
        "outputId": "ccfdaa02-ec9a-4c8e-812d-716188a86ce1"
      },
      "execution_count": 12,
      "outputs": [
        {
          "output_type": "stream",
          "name": "stdout",
          "text": [
            "1\n",
            "2\n"
          ]
        }
      ]
    },
    {
      "cell_type": "code",
      "source": [
        "a, b, c = range(3)\n",
        "a"
      ],
      "metadata": {
        "colab": {
          "base_uri": "https://localhost:8080/"
        },
        "id": "9GM_ZMIhPwVd",
        "outputId": "3687a0b6-168a-4785-df72-5cc6a535668e"
      },
      "execution_count": 13,
      "outputs": [
        {
          "output_type": "execute_result",
          "data": {
            "text/plain": [
              "0"
            ]
          },
          "metadata": {},
          "execution_count": 13
        }
      ]
    },
    {
      "cell_type": "code",
      "source": [
        "a, b, c, d, e = 'hello'\n",
        "a"
      ],
      "metadata": {
        "colab": {
          "base_uri": "https://localhost:8080/",
          "height": 35
        },
        "id": "USA6JJ57QIUE",
        "outputId": "edff8aa6-d06c-4c40-f52b-3bdebb6db133"
      },
      "execution_count": 14,
      "outputs": [
        {
          "output_type": "execute_result",
          "data": {
            "text/plain": [
              "'h'"
            ],
            "application/vnd.google.colaboratory.intrinsic+json": {
              "type": "string"
            }
          },
          "metadata": {},
          "execution_count": 14
        }
      ]
    },
    {
      "cell_type": "code",
      "source": [
        "a, b = [10, 20]\n",
        "a"
      ],
      "metadata": {
        "colab": {
          "base_uri": "https://localhost:8080/"
        },
        "id": "jZepYH3DQKD7",
        "outputId": "e72da94e-085f-40ba-e4e6-27d7a37cd5ba"
      },
      "execution_count": 15,
      "outputs": [
        {
          "output_type": "execute_result",
          "data": {
            "text/plain": [
              "10"
            ]
          },
          "metadata": {},
          "execution_count": 15
        }
      ]
    },
    {
      "cell_type": "code",
      "source": [
        "# 반복문에서의 사용\n",
        "\n",
        "for i, j in [[10, 20], [100, 200]]:\n",
        "    print(i, j)"
      ],
      "metadata": {
        "colab": {
          "base_uri": "https://localhost:8080/"
        },
        "id": "2JTThn5SQLoS",
        "outputId": "f29bbce2-2918-4d07-e584-9c5c6ede9145"
      },
      "execution_count": 16,
      "outputs": [
        {
          "output_type": "stream",
          "name": "stdout",
          "text": [
            "10 20\n",
            "100 200\n"
          ]
        }
      ]
    },
    {
      "cell_type": "code",
      "source": [
        "# 별표(*)를 이용한 언패킹\n",
        "# 별표(`*`)를 사용하면, 여러 개의 요소를 한번에 변수로 할당 가능\n",
        "# 특히 리스트나 튜플에서 일부만 변수로 할당하고 나머지를 다른 변수에 할당할 때 유용\n",
        "\n",
        "first, *middle, last = [1, 2, 3, 4, 5]\n",
        "print(first)\n",
        "print(middle)\n",
        "print(last)"
      ],
      "metadata": {
        "colab": {
          "base_uri": "https://localhost:8080/"
        },
        "id": "Wcq2LCgDQOby",
        "outputId": "fe0551d2-e346-4acb-db0c-8b8c459c8707"
      },
      "execution_count": 17,
      "outputs": [
        {
          "output_type": "stream",
          "name": "stdout",
          "text": [
            "1\n",
            "[2, 3, 4]\n",
            "5\n"
          ]
        }
      ]
    },
    {
      "cell_type": "code",
      "source": [],
      "metadata": {
        "id": "GIp9LXA-QbnH"
      },
      "execution_count": null,
      "outputs": []
    }
  ]
}