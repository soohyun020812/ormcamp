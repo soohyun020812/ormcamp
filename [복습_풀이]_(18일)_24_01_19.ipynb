{
  "nbformat": 4,
  "nbformat_minor": 0,
  "metadata": {
    "colab": {
      "provenance": []
    },
    "kernelspec": {
      "name": "python3",
      "display_name": "Python 3"
    },
    "language_info": {
      "name": "python"
    }
  },
  "cells": [
    {
      "cell_type": "markdown",
      "source": [
        "### 문제 1: 이메일 주소 변경하기 (sub 사용)\n",
        "\n",
        "    문제: 주어진 문자열에서 모든 이메일 주소를 `user@weniv.co.kr`으로 변경하시오.\n",
        "\n",
        "    예시 입력: \"저의 이메일 주소는 kim123@gmail.com입니다. 친구의 이메일 주소는 lee456@gmail.com입니다.\"\n",
        "\n",
        "    예시 출력: \"저의 이메일 주소는 kim123@weniv.co.kr입니다. 친구의 이메일 주소는 lee456@weniv.co.kr입니다.\"\n",
        "\n",
        "    힌트: 이메일 주소를 찾기 위한 정규표현식은 `\\b[A-Za-z0-9._%+-]+@[A-Za-z0-9.-]+\\.[A-Z|a-z]{2,}\\b`를 사용할 수 있습니다.\n",
        "\n",
        "\n",
        "### 문제 2: HTML 태그 제거하기 (sub 사용)\n",
        "\n",
        "    문제: 주어진 HTML 문자열에서 모든 HTML 태그를 제거하고 텍스트만 남기시오.\n",
        "\n",
        "    예시 입력: \"<p>이것은 <b>예시</b> 문장입니다.</p>\"\n",
        "\n",
        "    예시 출력: \"이것은 예시 문장입니다.\"\n",
        "\n",
        "    힌트: HTML 태그를 찾기 위한 정규표현식은 `<[^>]+>`를 사용할 수 있습니다."
      ],
      "metadata": {
        "id": "0bYRseWhGkwo"
      }
    },
    {
      "cell_type": "code",
      "source": [
        "# 풀이 1\n",
        "\n",
        "def solution(url):\n",
        "    return url.split('@')[0] + '@weniv.co.kr'\n",
        "\n",
        "solution('user@weniv.co.kr')"
      ],
      "metadata": {
        "colab": {
          "base_uri": "https://localhost:8080/",
          "height": 35
        },
        "id": "pVSOj5VwEShE",
        "outputId": "8934e55f-9a12-449a-b34a-d0ba2a709b94"
      },
      "execution_count": 1,
      "outputs": [
        {
          "output_type": "execute_result",
          "data": {
            "text/plain": [
              "'user@weniv.co.kr'"
            ],
            "application/vnd.google.colaboratory.intrinsic+json": {
              "type": "string"
            }
          },
          "metadata": {},
          "execution_count": 1
        }
      ]
    },
    {
      "cell_type": "code",
      "source": [
        "# 변경된 문제의 해답\n",
        "\n",
        "import re\n",
        "\n",
        "def chagedomain(url):\n",
        "    return url.split('@')[0] + '@weniv.co.kr'\n",
        "\n",
        "# 콤마는 의도적으로 넣지 않은 것\n",
        "\n",
        "findpattern = re.findall(r\"[A-Za-z0-9._%+-]+@[A-Za-z0-9.-]+\\.[A-Z|a-z]{2,}\",\n",
        "                         \"저의 이메일 주소는 kim123@gmail.com입니다.\"\n",
        "                         \"친구의 이메일 주소는 lee456@gmail.com입니다.\")\n",
        "\n",
        "for url in findpattern:\n",
        "    print(chagedomain(url))"
      ],
      "metadata": {
        "colab": {
          "base_uri": "https://localhost:8080/"
        },
        "id": "aJWXgObBFReS",
        "outputId": "fa733695-3dcd-4d9c-e23c-f35fc9a22f3d"
      },
      "execution_count": 2,
      "outputs": [
        {
          "output_type": "stream",
          "name": "stdout",
          "text": [
            "kim123@weniv.co.kr\n",
            "lee456@weniv.co.kr\n"
          ]
        }
      ]
    },
    {
      "cell_type": "code",
      "source": [
        "# 출제 했던 문제의 해답\n",
        "\n",
        "my_string = \"저의 이메일 주소는 kim123@gmail.com입니다. 친구의 이메일 주소는 lee456@gmail.com입니다.\"\n",
        "re.sub(r\"[a-zA-Z0-9._%+-]+@[a-zA-Z0-9.-]+\\.[A-Z|a-z]{2,}\", \"user@weniv.co.kr\", my_string)"
      ],
      "metadata": {
        "colab": {
          "base_uri": "https://localhost:8080/",
          "height": 35
        },
        "id": "TofWCQi7GeKP",
        "outputId": "d70e0888-bfb7-4326-f3e3-96c37ae810c1"
      },
      "execution_count": 3,
      "outputs": [
        {
          "output_type": "execute_result",
          "data": {
            "text/plain": [
              "'저의 이메일 주소는 user@weniv.co.kr입니다. 친구의 이메일 주소는 user@weniv.co.kr입니다.'"
            ],
            "application/vnd.google.colaboratory.intrinsic+json": {
              "type": "string"
            }
          },
          "metadata": {},
          "execution_count": 3
        }
      ]
    },
    {
      "cell_type": "code",
      "source": [
        "# 변경된 문제의 해답\n",
        "\n",
        "my_string = \"저의 이메일 주소는 kim123@gmail.com입니다. 친구의 이메일 주소는 lee456@gmail.com입니다.\"\n",
        "re.sub(r\"@[A-Za-z0-9.-]+\\.[A-Z|a-z]{2,}\", \"@weniv.co.kr\", my_string)"
      ],
      "metadata": {
        "colab": {
          "base_uri": "https://localhost:8080/",
          "height": 35
        },
        "id": "cPsjYDg6Gwe1",
        "outputId": "6e7740f1-8458-4dfa-fe28-84ad1d31a64c"
      },
      "execution_count": 4,
      "outputs": [
        {
          "output_type": "execute_result",
          "data": {
            "text/plain": [
              "'저의 이메일 주소는 kim123@weniv.co.kr입니다. 친구의 이메일 주소는 lee456@weniv.co.kr입니다.'"
            ],
            "application/vnd.google.colaboratory.intrinsic+json": {
              "type": "string"
            }
          },
          "metadata": {},
          "execution_count": 4
        }
      ]
    },
    {
      "cell_type": "code",
      "source": [
        "import re\n",
        "\n",
        "# 작은 따옴표 3개도 f-string을 사용할 수 있음\n",
        "\n",
        "html = f'''\n",
        "<p>이것은 <b>예시</b> 문장입니다.</p>\n",
        "'''\n",
        "html_str = \"<p>이것은 <b>예시</b> 문장입니다.</p>\"\n",
        "html_pattern = re.compile(r\"<[^>]+>\")\n",
        "\n",
        "print(html_pattern.sub(\"\", html_str))"
      ],
      "metadata": {
        "colab": {
          "base_uri": "https://localhost:8080/"
        },
        "id": "Q53FijBhFG_z",
        "outputId": "be5e55f3-58cb-46fe-c66c-0673c90dbc2c"
      },
      "execution_count": 5,
      "outputs": [
        {
          "output_type": "stream",
          "name": "stdout",
          "text": [
            "이것은 예시 문장입니다.\n"
          ]
        }
      ]
    },
    {
      "cell_type": "code",
      "source": [
        "import re # import 와 코드는 보통 2칸\n",
        "\n",
        "def hello():\n",
        "    print('world')"
      ],
      "metadata": {
        "id": "Mxnuh1QEHwGY"
      },
      "execution_count": 6,
      "outputs": []
    },
    {
      "cell_type": "code",
      "source": [
        "# import django.patterna\n",
        "# import django.patternb\n",
        "# import django.patternc\n",
        "\n",
        "# import a\n",
        "# import b\n",
        "# import c\n",
        "\n",
        "# import .aa\n",
        "# import .bb\n",
        "# import .cc\n",
        "\n",
        "def hello():\n",
        "    print('world')"
      ],
      "metadata": {
        "id": "_Zixf9FJHwbG"
      },
      "execution_count": 7,
      "outputs": []
    },
    {
      "cell_type": "code",
      "source": [
        "class A:\n",
        "    pass\n",
        "\n",
        "\n",
        "class B:\n",
        "    pass"
      ],
      "metadata": {
        "id": "GW5a4NZNIY3h"
      },
      "execution_count": 8,
      "outputs": []
    },
    {
      "cell_type": "code",
      "source": [
        "class A:\n",
        "    def a():\n",
        "        pass\n",
        "\n",
        "    def b():\n",
        "        pass\n",
        "\n",
        "\n",
        "class B:\n",
        "    def a():\n",
        "        pass\n",
        "\n",
        "    def b():\n",
        "        pass"
      ],
      "metadata": {
        "id": "CD_J0MOzIcQC"
      },
      "execution_count": 9,
      "outputs": []
    },
    {
      "cell_type": "code",
      "source": [],
      "metadata": {
        "id": "gCpHUF2q5CfF"
      },
      "execution_count": null,
      "outputs": []
    }
  ]
}