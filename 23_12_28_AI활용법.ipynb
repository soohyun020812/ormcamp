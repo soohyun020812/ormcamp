{
  "nbformat": 4,
  "nbformat_minor": 0,
  "metadata": {
    "colab": {
      "provenance": [],
      "authorship_tag": "ABX9TyNMT0zK/BSFbPUa9AeOwqkG",
      "include_colab_link": true
    },
    "kernelspec": {
      "name": "python3",
      "display_name": "Python 3"
    },
    "language_info": {
      "name": "python"
    }
  },
  "cells": [
    {
      "cell_type": "markdown",
      "metadata": {
        "id": "view-in-github",
        "colab_type": "text"
      },
      "source": [
        "<a href=\"https://colab.research.google.com/github/soohyun020812/ormcamp/blob/main/23_12_28_AI%ED%99%9C%EC%9A%A9%EB%B2%95.ipynb\" target=\"_parent\"><img src=\"https://colab.research.google.com/assets/colab-badge.svg\" alt=\"Open In Colab\"/></a>"
      ]
    },
    {
      "cell_type": "markdown",
      "source": [
        "### 1. 구글 코랩 AI\n",
        "\n",
        "구글 코랩 AI 사용법에 대해 알아보기\n",
        "\n",
        "- 코랩 내에 구글이 공개한 Codey 모델을 이용하여 사람의 명령(프롬프트 작성)으로 AI기반 코딩을 할 수 있음\n",
        "- 코드 자동완성, 챗봇, 챗지피티와 동일한 방식으로 사용 가능\n",
        "- 코랩 내에서 언제든지 활용 가능\n",
        "- 코랩 유로로 제공되었으나 현재 무료 사용자도 이용 가능\n",
        "\n",
        "@ # - 대제목 \\\n",
        "@ * - 순서가 없는 구분자"
      ],
      "metadata": {
        "id": "-WUheawjfY3L"
      }
    },
    {
      "cell_type": "code",
      "source": [
        "# 빙고게임을 만드려고 하는데 5*5 형식으로 만드는 코드를 작성해줘\n",
        "\n",
        "import random7\n",
        "\n",
        "# Create a 5x5 bingo board.\n",
        "board = [[0 for _ in range(5)] for _ in range(5)]\n",
        "\n",
        "# Fill the board with random numbers.\n",
        "for i in range(5):\n",
        "  for j in range(5):\n",
        "    board[i][j] = random.randint(1, 75)\n",
        "\n",
        "# Print the board.\n",
        "for row in board:\n",
        "  print(' '.join(map(str, row)))\n",
        "\n",
        "# Get the user's numbers.\n",
        "user_numbers = [int(input('Enter your number: ')) for _ in range(5)]\n",
        "\n",
        "# Check if the user has bingo.\n",
        "has_bingo = False\n",
        "for i in range(5):\n",
        "  if all(board[i][j] in user_numbers for j in range(5)):\n",
        "    has_bingo = True\n",
        "    break\n",
        "for j in range(5):\n",
        "  if all(board[i][j] in user_numbers for i in range(5)):\n",
        "    has_bingo = True\n",
        "    break\n",
        "if board[2][2] in user_numbers:\n",
        "  has_bingo = True\n",
        "\n",
        "# Print the result.\n",
        "if has_bingo:\n",
        "  print('You have bingo!')\n",
        "else:\n",
        "  print('You do not have bingo.')"
      ],
      "metadata": {
        "id": "vzT7xKjHLoGC",
        "colab": {
          "base_uri": "https://localhost:8080/"
        },
        "outputId": "bb786028-327c-4566-d6f5-612d31fbd353"
      },
      "execution_count": 4,
      "outputs": [
        {
          "output_type": "stream",
          "name": "stdout",
          "text": [
            "57 22 25 2 14\n",
            "73 73 57 25 68\n",
            "72 5 66 24 51\n",
            "41 75 70 73 72\n",
            "12 25 8 5 32\n",
            "Enter your number: 14\n",
            "Enter your number: 25\n",
            "Enter your number: 66\n",
            "Enter your number: 5\n",
            "Enter your number: 12\n",
            "You have bingo!\n"
          ]
        }
      ]
    },
    {
      "cell_type": "code",
      "source": [
        "# 샘플 데이터 프레임 하나 생성해줘\n",
        "\n",
        "import pandas as pd\n",
        "\n",
        "# Create a DataFrame from a list of lists.\n",
        "data = [['Alice', 25, 'Female'], ['Bob', 30, 'Male'], ['Carol', 35, 'Female']]\n",
        "df = pd.DataFrame(data, columns=['name', 'age', 'gender'])\n",
        "\n",
        "# Print the DataFrame.\n",
        "print(df)"
      ],
      "metadata": {
        "colab": {
          "base_uri": "https://localhost:8080/"
        },
        "id": "pyqg3zqjigu3",
        "outputId": "9d128a06-4a66-44a0-e453-3d932c380b48"
      },
      "execution_count": 5,
      "outputs": [
        {
          "output_type": "stream",
          "name": "stdout",
          "text": [
            "    name  age  gender\n",
            "0  Alice   25  Female\n",
            "1    Bob   30    Male\n",
            "2  Carol   35  Female\n"
          ]
        }
      ]
    },
    {
      "cell_type": "code",
      "source": [
        "# prompt: df DataFrame 사용: 해당 데이터셋으로 막대그래프 그려줘\n",
        "\n",
        "df.plot.bar(x='name', y='age')"
      ],
      "metadata": {
        "colab": {
          "base_uri": "https://localhost:8080/",
          "height": 490
        },
        "id": "BMMpRGcrit_m",
        "outputId": "73f8b5cb-bb7e-41cf-c007-67b8f6ff4e56"
      },
      "execution_count": 6,
      "outputs": [
        {
          "output_type": "execute_result",
          "data": {
            "text/plain": [
              "<Axes: xlabel='name'>"
            ]
          },
          "metadata": {},
          "execution_count": 6
        },
        {
          "output_type": "display_data",
          "data": {
            "text/plain": [
              "<Figure size 640x480 with 1 Axes>"
            ],
            "image/png": "[encoded data removed]"
          },
          "metadata": {}
        }
      ]
    }
  ]
}