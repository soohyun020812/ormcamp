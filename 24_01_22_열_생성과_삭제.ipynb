{
  "nbformat": 4,
  "nbformat_minor": 0,
  "metadata": {
    "colab": {
      "provenance": []
    },
    "kernelspec": {
      "name": "python3",
      "display_name": "Python 3"
    },
    "language_info": {
      "name": "python"
    }
  },
  "cells": [
    {
      "cell_type": "markdown",
      "source": [
        "### 3. 열의 생성과 삭제"
      ],
      "metadata": {
        "id": "j2xz7HkCNehG"
      }
    },
    {
      "cell_type": "code",
      "source": [
        "import pandas as pd\n",
        "\n",
        "df = pd.DataFrame({\n",
        "    'Name': ['Alice', 'Bob', 'Charlie'],\n",
        "    'Age': [25, 30, 35]\n",
        "})"
      ],
      "metadata": {
        "id": "M4ZndMhRNCoW"
      },
      "execution_count": 1,
      "outputs": []
    },
    {
      "cell_type": "code",
      "source": [
        "# 이건 많이 사용하지 않음\n",
        "# concat / join -> 데이터 결합\n",
        "'''\n",
        "df['Salary'] = # 다른 데이터 프레임에서 가져오는 경우\n",
        "print(df)\n",
        "'''"
      ],
      "metadata": {
        "colab": {
          "base_uri": "https://localhost:8080/",
          "height": 35
        },
        "id": "Y84Kzs3VNc3p",
        "outputId": "94f7762f-065f-4829-8c65-fa1139103eb9"
      },
      "execution_count": 3,
      "outputs": [
        {
          "output_type": "execute_result",
          "data": {
            "text/plain": [
              "\"\\ndf['Salary'] = # 다른 데이터 프레임에서 가져오는 경우\\nprint(df)\\n\""
            ],
            "application/vnd.google.colaboratory.intrinsic+json": {
              "type": "string"
            }
          },
          "metadata": {},
          "execution_count": 3
        }
      ]
    },
    {
      "cell_type": "code",
      "source": [
        "# drop(중요)\n",
        "# Data 컬럼 천개! ->\n",
        "#1. ram 효율을 증대하기 위해서 import할때만 전체 -> 작업 필요한 변수\n",
        "#2. 머신러닝 / 딥러닝 ! -> 분석에 필요한 변수만 가져올 때\n",
        "\n",
        "df = df.drop('Age', axis=1) #axis=1 열/컬럼 (주의)\n",
        "print(df)"
      ],
      "metadata": {
        "colab": {
          "base_uri": "https://localhost:8080/"
        },
        "id": "qWsHOMRcNd49",
        "outputId": "a4c6084a-09d1-4f69-87e1-8633714fa08a"
      },
      "execution_count": 4,
      "outputs": [
        {
          "output_type": "stream",
          "name": "stdout",
          "text": [
            "      Name\n",
            "0    Alice\n",
            "1      Bob\n",
            "2  Charlie\n"
          ]
        }
      ]
    },
    {
      "cell_type": "code",
      "source": [],
      "metadata": {
        "id": "elcKCRqZzdxv"
      },
      "execution_count": null,
      "outputs": []
    }
  ]
}