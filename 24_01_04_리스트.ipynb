{
  "nbformat": 4,
  "nbformat_minor": 0,
  "metadata": {
    "colab": {
      "provenance": []
    },
    "kernelspec": {
      "name": "python3",
      "display_name": "Python 3"
    },
    "language_info": {
      "name": "python"
    }
  },
  "cells": [
    {
      "cell_type": "code",
      "execution_count": 1,
      "metadata": {
        "id": "fzIA6SneQhBg"
      },
      "outputs": [],
      "source": [
        "# 리스트 생성 방법\n",
        "\n",
        "x = [1, 2, 3] # CSV 파일과 비슷 ,\n",
        "y = ['apple', 'banana', 'cherry']\n",
        "z = [1, [2], 3] in [2]"
      ]
    },
    {
      "cell_type": "code",
      "source": [
        "print(len(x))\n",
        "print(y)"
      ],
      "metadata": {
        "colab": {
          "base_uri": "https://localhost:8080/"
        },
        "id": "cJ8W7eczBJLB",
        "outputId": "5fc62ba8-331d-490b-e49d-6b301a889cff"
      },
      "execution_count": 3,
      "outputs": [
        {
          "output_type": "stream",
          "name": "stdout",
          "text": [
            "3\n",
            "['apple', 'banana', 'cherry']\n"
          ]
        }
      ]
    },
    {
      "cell_type": "code",
      "source": [
        "print(z)"
      ],
      "metadata": {
        "colab": {
          "base_uri": "https://localhost:8080/"
        },
        "id": "qfovYGNhBLq_",
        "outputId": "808a3cb7-a066-46e5-8453-f11b5dec978d"
      },
      "execution_count": 4,
      "outputs": [
        {
          "output_type": "stream",
          "name": "stdout",
          "text": [
            "False\n"
          ]
        }
      ]
    },
    {
      "cell_type": "code",
      "source": [
        "z = [\n",
        "\t\t1,\n",
        "\t\t'apple',\n",
        "\t\t2.5,\n",
        "\t\t['a', 'b'],\n",
        "\t\t(1, 2)\n",
        "]\n",
        "print(z[0])"
      ],
      "metadata": {
        "colab": {
          "base_uri": "https://localhost:8080/"
        },
        "id": "ZyweNzp6BU_m",
        "outputId": "85737bd9-d7a7-40d3-cdca-57b16d00a9ff"
      },
      "execution_count": 5,
      "outputs": [
        {
          "output_type": "stream",
          "name": "stdout",
          "text": [
            "1\n"
          ]
        }
      ]
    },
    {
      "cell_type": "code",
      "source": [
        "z = [\n",
        "\t\t1,\n",
        "\t\t'apple',\n",
        "\t\t2.5,\n",
        "\t\t['a', 'b'],\n",
        "\t\t(1, 2),\n",
        "]\n",
        "print(z[1])"
      ],
      "metadata": {
        "colab": {
          "base_uri": "https://localhost:8080/"
        },
        "id": "zWL-Tc3nBhgu",
        "outputId": "6a885863-70af-4c0f-e26e-cdcbc1aefbb1"
      },
      "execution_count": 7,
      "outputs": [
        {
          "output_type": "stream",
          "name": "stdout",
          "text": [
            "apple\n"
          ]
        }
      ]
    },
    {
      "cell_type": "code",
      "source": [
        "# 특정 항목의 변경\n",
        "\n",
        "a = [1, 2, 3, 4, 5]\n",
        "a[0] = 10000\n",
        "print(a)"
      ],
      "metadata": {
        "colab": {
          "base_uri": "https://localhost:8080/"
        },
        "id": "e_kqgUzABjXR",
        "outputId": "ab55e354-0acb-4851-a66c-28b0ca603a92"
      },
      "execution_count": 8,
      "outputs": [
        {
          "output_type": "stream",
          "name": "stdout",
          "text": [
            "[10000, 2, 3, 4, 5]\n"
          ]
        }
      ]
    },
    {
      "cell_type": "code",
      "source": [
        "# 리스트 안에 다차원 리스트 생성\n",
        "\n",
        "b = [[10, 20, 30], [1, 2, 3]]\n",
        "print(b[1][2])"
      ],
      "metadata": {
        "colab": {
          "base_uri": "https://localhost:8080/"
        },
        "id": "wcJCjOqcB17h",
        "outputId": "be951cda-352a-49c7-93bb-fe28c5f9c4b9"
      },
      "execution_count": 9,
      "outputs": [
        {
          "output_type": "stream",
          "name": "stdout",
          "text": [
            "3\n"
          ]
        }
      ]
    },
    {
      "cell_type": "code",
      "source": [
        "# 리스트의 덧셈\n",
        "\n",
        "a = [1, 2, 3, 4, 5]\n",
        "b = [6, 7, 8]\n",
        "\n",
        "print(a + b)"
      ],
      "metadata": {
        "colab": {
          "base_uri": "https://localhost:8080/"
        },
        "id": "ei4oLTXjCc13",
        "outputId": "2d6b48b3-3379-49c4-99a6-570fabb510ca"
      },
      "execution_count": 10,
      "outputs": [
        {
          "output_type": "stream",
          "name": "stdout",
          "text": [
            "[1, 2, 3, 4, 5, 6, 7, 8]\n"
          ]
        }
      ]
    },
    {
      "cell_type": "code",
      "source": [
        "import numpy as np\n",
        "\n",
        "l = [1, 2, 3]\n",
        "l = np.array(l)\n",
        "l * 3\n",
        "l + l"
      ],
      "metadata": {
        "colab": {
          "base_uri": "https://localhost:8080/"
        },
        "id": "_Lxqy2ICCnCY",
        "outputId": "ecf6d9d2-bf6b-4dd2-812b-cb9af8c4aeec"
      },
      "execution_count": 11,
      "outputs": [
        {
          "output_type": "execute_result",
          "data": {
            "text/plain": [
              "array([2, 4, 6])"
            ]
          },
          "metadata": {},
          "execution_count": 11
        }
      ]
    },
    {
      "cell_type": "code",
      "source": [
        "# 리스트의 곱셈\n",
        "\n",
        "x = [1]\n",
        "print(x * 3)"
      ],
      "metadata": {
        "colab": {
          "base_uri": "https://localhost:8080/"
        },
        "id": "rl9yokT5Cqir",
        "outputId": "311304f5-7fcc-4c1d-d88a-b1d3e8fa9757"
      },
      "execution_count": 14,
      "outputs": [
        {
          "output_type": "stream",
          "name": "stdout",
          "text": [
            "[1, 1, 1]\n"
          ]
        }
      ]
    },
    {
      "cell_type": "code",
      "source": [
        "a = [1, 2, 3]\n",
        "a = a * 3\n",
        "\n",
        "a[0] = 1000\n",
        "print(a)\n",
        "\n",
        "# 중첩되지 않은 리스트의 곱셈은 값이 하나가 변경되어도 다른 값들이 변경되지 않음"
      ],
      "metadata": {
        "colab": {
          "base_uri": "https://localhost:8080/"
        },
        "id": "mbYbLlDOCuPf",
        "outputId": "5d89bc75-34a1-4540-ef25-4cf2565249a3"
      },
      "execution_count": 15,
      "outputs": [
        {
          "output_type": "stream",
          "name": "stdout",
          "text": [
            "[1000, 2, 3, 1, 2, 3, 1, 2, 3]\n"
          ]
        }
      ]
    },
    {
      "cell_type": "code",
      "source": [
        "a = [1, 2, 3]\n",
        "a = [a * 2] * 2 # 리스트 컴프리헨션 사용하셔서 만드시는 것을 권장함\n",
        "\n",
        "print(a)\n",
        "print(id(a[0]), id(a[1]))\n",
        "a[0][0] = 10000\n",
        "print(a)"
      ],
      "metadata": {
        "colab": {
          "base_uri": "https://localhost:8080/"
        },
        "id": "6w1GWGIVC3Js",
        "outputId": "abe9e234-1d70-466c-8650-ac5c625180ae"
      },
      "execution_count": 16,
      "outputs": [
        {
          "output_type": "stream",
          "name": "stdout",
          "text": [
            "[[1, 2, 3, 1, 2, 3], [1, 2, 3, 1, 2, 3]]\n",
            "134051718611392 134051718611392\n",
            "[[10000, 2, 3, 1, 2, 3], [10000, 2, 3, 1, 2, 3]]\n"
          ]
        }
      ]
    },
    {
      "cell_type": "code",
      "source": [
        "# 리스트 인덱싱\n",
        "\n",
        "l = [1, 2, 3, 4, 5]\n",
        "print(l[0])\n",
        "print(l[-3])\n",
        "print(l[3])\n",
        "print(l[-1])"
      ],
      "metadata": {
        "colab": {
          "base_uri": "https://localhost:8080/"
        },
        "id": "Hy0lQT_RDIkZ",
        "outputId": "0c633a5b-6f1f-4fe1-d08f-e470f1f04907"
      },
      "execution_count": 17,
      "outputs": [
        {
          "output_type": "stream",
          "name": "stdout",
          "text": [
            "1\n",
            "3\n",
            "4\n",
            "5\n"
          ]
        }
      ]
    },
    {
      "cell_type": "code",
      "source": [
        "# 리스트 슬라이싱\n",
        "\n",
        "l = [1, 2, 3, 4, 5]\n",
        "print(l[1:4])"
      ],
      "metadata": {
        "colab": {
          "base_uri": "https://localhost:8080/"
        },
        "id": "2d80Sy6gDWjU",
        "outputId": "809f2f0f-f9dc-42e9-d7f5-b1dfb7cf3a03"
      },
      "execution_count": 22,
      "outputs": [
        {
          "output_type": "stream",
          "name": "stdout",
          "text": [
            "[2, 3, 4]\n"
          ]
        }
      ]
    },
    {
      "cell_type": "code",
      "source": [
        "l = [1, 2, 3, 4, 5]\n",
        "print(l[:])\n",
        "print(l[::-1])\n",
        "print(l[::2])\n",
        "print(l[0:4][::-1])"
      ],
      "metadata": {
        "colab": {
          "base_uri": "https://localhost:8080/"
        },
        "id": "-6N936PZDsOk",
        "outputId": "c741d11f-e0c2-4dd7-fff5-ab698d8ffca6"
      },
      "execution_count": 23,
      "outputs": [
        {
          "output_type": "stream",
          "name": "stdout",
          "text": [
            "[1, 2, 3, 4, 5]\n",
            "[5, 4, 3, 2, 1]\n",
            "[1, 3, 5]\n",
            "[4, 3, 2, 1]\n"
          ]
        }
      ]
    },
    {
      "cell_type": "code",
      "source": [],
      "metadata": {
        "id": "EoY5stTxD-2X"
      },
      "execution_count": null,
      "outputs": []
    }
  ]
}