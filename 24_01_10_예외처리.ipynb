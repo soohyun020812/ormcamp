{
  "nbformat": 4,
  "nbformat_minor": 0,
  "metadata": {
    "colab": {
      "provenance": []
    },
    "kernelspec": {
      "name": "python3",
      "display_name": "Python 3"
    },
    "language_info": {
      "name": "python"
    }
  },
  "cells": [
    {
      "cell_type": "code",
      "execution_count": null,
      "metadata": {
        "id": "TMm-qIPsN122"
      },
      "outputs": [],
      "source": [
        "# 문법 에러\n",
        "\n",
        "# Syntax Error\n",
        "for i in range(10)\n",
        "    print(i)"
      ]
    },
    {
      "cell_type": "code",
      "source": [
        "# 이름 에러\n",
        "\n",
        "# Name Error\n",
        "print(x)"
      ],
      "metadata": {
        "id": "PwfbXyi4exiJ"
      },
      "execution_count": null,
      "outputs": []
    },
    {
      "cell_type": "code",
      "source": [
        "# 타입 에러\n",
        "\n",
        "# Type Error\n",
        "x = 10\n",
        "y = '20'\n",
        "print(x + y)"
      ],
      "metadata": {
        "id": "DzyWqgrtex0X"
      },
      "execution_count": null,
      "outputs": []
    },
    {
      "cell_type": "code",
      "source": [
        "# 인덱스 에러\n",
        "\n",
        "# Index Error\n",
        "my_list = [1, 2, 3]\n",
        "print(my_list[3])"
      ],
      "metadata": {
        "id": "OMfzQuyFex_D"
      },
      "execution_count": null,
      "outputs": []
    },
    {
      "cell_type": "code",
      "source": [
        "# 키 에러\n",
        "\n",
        "# Key Error\n",
        "my_dict = {'a': 1, 'b': 2}\n",
        "print(my_dict['c'])"
      ],
      "metadata": {
        "id": "lbQEpW7OeyJj"
      },
      "execution_count": null,
      "outputs": []
    },
    {
      "cell_type": "code",
      "source": [
        "# 값 에러\n",
        "\n",
        "# Value Error\n",
        "int('a')"
      ],
      "metadata": {
        "id": "0XmFXAhbeyTY"
      },
      "execution_count": null,
      "outputs": []
    },
    {
      "cell_type": "code",
      "source": [
        "# 제로 나누기 에러\n",
        "\n",
        "# ZeroDivision Error\n",
        "x = 10\n",
        "y = 0\n",
        "print(x / y)"
      ],
      "metadata": {
        "id": "BkF13yBxeycx"
      },
      "execution_count": null,
      "outputs": []
    },
    {
      "cell_type": "code",
      "source": [
        "# 어트리뷰트 에러\n",
        "\n",
        "# Attribute Error\n",
        "my_list = [1, 2, 3]\n",
        "print(my_list.append(4))"
      ],
      "metadata": {
        "id": "mqcl77Imeyl0"
      },
      "execution_count": null,
      "outputs": []
    },
    {
      "cell_type": "code",
      "source": [
        "# 인자 개수 에러\n",
        "\n",
        "# Type Error\n",
        "def add(x, y):\n",
        "    return x + y\n",
        "\n",
        "add(1, 2, 3)"
      ],
      "metadata": {
        "id": "JKXAX824eyvB"
      },
      "execution_count": null,
      "outputs": []
    },
    {
      "cell_type": "code",
      "source": [
        "# 파일 입출력 에러\n",
        "\n",
        "# File I/O Error\n",
        "f = open('non-existent.txt', 'r')\n",
        "f.read()"
      ],
      "metadata": {
        "id": "BO37R2ZVey4S"
      },
      "execution_count": null,
      "outputs": []
    },
    {
      "cell_type": "markdown",
      "source": [
        "### 예외 처리\n",
        "\n",
        "```\n",
        "try:\n",
        "    # 예외가 발생할 가능성이 있는 코드\n",
        "except:\n",
        "    # 예외 처리 코드\n",
        "```"
      ],
      "metadata": {
        "id": "NxkFYc5YgTjN"
      }
    },
    {
      "cell_type": "markdown",
      "source": [
        "```\n",
        "1. try + except\n",
        "\n",
        "try:\n",
        "    # 예외가 발생할 가능성이 있는 코드\n",
        "except:\n",
        "    # 예외 처리 코드\n",
        "```\n",
        "```\n",
        "2. try + except + else\n",
        "\n",
        "try:\n",
        "    # 예외가 발생할 가능성이 있는 코드\n",
        "except:\n",
        "    # 예외 처리 코드\n",
        "else:\n",
        "    # 예외가 발생하지 않을 때 실행되는 코드\n",
        "```\n",
        "```\n",
        "3. try + finally\n",
        "\n",
        "try:\n",
        "    # 예외가 발생할 가능성이 있는 코드\n",
        "finally:\n",
        "    # 예외 발생 여부와 상관없이 항상 실행되는 코드\n",
        "```\n",
        "```\n",
        "4. try + except + finally\n",
        "\n",
        "try:\n",
        "    # 예외가 발생할 가능성이 있는 코드\n",
        "except:\n",
        "    # 예외 처리 코드\n",
        "finally:\n",
        "    # 예외 발생 여부와 상관없이 항상 실행되는 코드\n",
        "```\n",
        "```\n",
        "5. try + except + else + finally\n",
        "\n",
        "try:\n",
        "    # 예외가 발생할 가능성이 있는 코드\n",
        "except:\n",
        "    # 예외 처리 코드\n",
        "else:\n",
        "    # 예외가 발생하지 않을 때 실행되는 코드\n",
        "finally:\n",
        "    # 예외 발생 여부와 상관없이 항상 실행되는 코드\n",
        "```\n",
        "**try except else**문에서 else는 예외가 발생하지 않을 때 쓰임"
      ],
      "metadata": {
        "id": "y5ALRq7diO4u"
      }
    },
    {
      "cell_type": "markdown",
      "source": [
        "### 로깅 (Logging)\n",
        "\n",
        "경고, 접근, 에러, 예외 처리, 특정 함수 사용 등에 대한 기록을 남기는 행위\n",
        "\n",
        "주로 화면에 출력하거나 DB또는 일반 plane text로 남기는 방식을 사용\n",
        "\n",
        "로그기록이 너무 많을 경우 시스템에 부하를 줄 수 있으며, 일반적인 편집기가 읽지 못할 수 있음\n",
        "\n",
        "logging 모듈을 사용하면 다양한 레벨의 로그를 남길 수 있음"
      ],
      "metadata": {
        "id": "OBBNLfuaivJ3"
      }
    },
    {
      "cell_type": "code",
      "source": [
        "import logging\n",
        "\n",
        "# logging.basicConfig(level=logging.DEBUG) # 어느 레벨부터 로깅할지, 기본으로 warning 부터 합니다.\n",
        "# logging.basicConfig(level=logging.CRITICAL)\n",
        "logging.basicConfig(level=logging.CRITICAL, format=f'%(asctime)s - %(message)s')\n",
        "\n",
        "logging.debug(\"This is a debug message\") # 고쳐야 할 코드, 기록 필요\n",
        "logging.info(\"This is an info message\") # 정보성 메시지\n",
        "logging.warning(\"This is a warning message\") # 경고 메시지\n",
        "logging.error(\"This is an error message\") # 애러 메시지(프로그램은 동작)\n",
        "logging.critical(\"This is a critical message\") # 프로그램 중지(애러처리 안된경우)"
      ],
      "metadata": {
        "id": "CGPXjN4PgWue"
      },
      "execution_count": null,
      "outputs": []
    },
    {
      "cell_type": "code",
      "source": [
        "import logging.handlers\n",
        "\n",
        "def logger():\n",
        "    log_obj = logging.getLogger(\"log_name\") # log name으로 log 객체 생성\n",
        "    log_obj.setLevel(logging.DEBUG) # 어디부터 기록할지 설정\n",
        "\n",
        "    fileHandeler = logging.FileHandler(filename=\"./test.txt\") # 파일로 기록\n",
        "    # streamHandler = logging.StreamHandler() # 콘솔에 출력\n",
        "\n",
        "    fileHandeler.setLevel(logging.INFO) # 파일 기록 레벨 설정\n",
        "    # streamHandler.setLevel(logging.DEBUG) # 콘솔 기록 레벨 설정\n",
        "\n",
        "    formatter = logging.Formatter(\"%(name)s, %(asctime)s, %(levelname)s, %(message)s\") #포멧 생성\n",
        "\n",
        "    fileHandeler.setFormatter(formatter) # 파일 메시지 포멧 설정\n",
        "    # streamHandler.setFormatter(formatter) # 콘솔 메시지 포멧 설정\n",
        "\n",
        "    log_obj.addHandler(fileHandeler) # log_obj handler에 파일 출력 방식 추가\n",
        "    # log_obj.addHandler(streamHandler) # log_obj handler에 파일 콘솔 방식 추가\n",
        "\n",
        "    return log_obj\n",
        "\n",
        "log = logger()\n",
        "\n",
        "# 아래 코드를 기록하고 싶은 곳에 함께 설정\n",
        "log.debug('debug')\n",
        "log.info('info')\n",
        "log.warning('warning')\n",
        "log.error('error')\n",
        "log.critical('critical')\n",
        "\n",
        "print('---')\n",
        "\n",
        "# 아래와 같이 사용합니다.\n",
        "def f():\n",
        "    try:\n",
        "        x = 1 / 0\n",
        "    except Exception as e:\n",
        "        print(e)\n",
        "        log.error(f'{e} error')\n",
        "\n",
        "f()"
      ],
      "metadata": {
        "colab": {
          "base_uri": "https://localhost:8080/"
        },
        "id": "asb9RvQfi2Ak",
        "outputId": "8b78839d-31b5-4994-f05b-9ded849417dc"
      },
      "execution_count": 1,
      "outputs": [
        {
          "output_type": "stream",
          "name": "stderr",
          "text": [
            "DEBUG:log_name:debug\n",
            "INFO:log_name:info\n",
            "WARNING:log_name:warning\n",
            "ERROR:log_name:error\n",
            "CRITICAL:log_name:critical\n",
            "ERROR:log_name:division by zero error\n"
          ]
        },
        {
          "output_type": "stream",
          "name": "stdout",
          "text": [
            "---\n",
            "division by zero\n"
          ]
        }
      ]
    },
    {
      "cell_type": "code",
      "source": [],
      "metadata": {
        "id": "CprePguxi27Z"
      },
      "execution_count": null,
      "outputs": []
    }
  ]
}