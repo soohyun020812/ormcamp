{
  "nbformat": 4,
  "nbformat_minor": 0,
  "metadata": {
    "colab": {
      "provenance": [],
      "authorship_tag": "ABX9TyNShX0PasS+Unhn3W/1HMbe",
      "include_colab_link": true
    },
    "kernelspec": {
      "name": "python3",
      "display_name": "Python 3"
    },
    "language_info": {
      "name": "python"
    }
  },
  "cells": [
    {
      "cell_type": "markdown",
      "metadata": {
        "id": "view-in-github",
        "colab_type": "text"
      },
      "source": [
        "<a href=\"https://colab.research.google.com/github/soohyun020812/ormcamp/blob/main/23_12_29_input%EA%B3%BC_print.ipynb\" target=\"_parent\"><img src=\"https://colab.research.google.com/assets/colab-badge.svg\" alt=\"Open In Colab\"/></a>"
      ]
    },
    {
      "cell_type": "markdown",
      "source": [
        "### 입력(input)"
      ],
      "metadata": {
        "id": "jxfQtQzQLF4l"
      }
    },
    {
      "cell_type": "code",
      "source": [
        "input(\"입력해주세요 : \")"
      ],
      "metadata": {
        "colab": {
          "base_uri": "https://localhost:8080/",
          "height": 54
        },
        "id": "-fyKIFUeLFJb",
        "outputId": "9ecec19e-2b53-4c60-ab83-82daf8bc6d29"
      },
      "execution_count": 2,
      "outputs": [
        {
          "name": "stdout",
          "output_type": "stream",
          "text": [
            "입력해주세요 : 안녕하세요.\n"
          ]
        },
        {
          "output_type": "execute_result",
          "data": {
            "text/plain": [
              "'안녕하세요.'"
            ],
            "application/vnd.google.colaboratory.intrinsic+json": {
              "type": "string"
            }
          },
          "metadata": {},
          "execution_count": 2
        }
      ]
    },
    {
      "cell_type": "code",
      "source": [
        "# input로 받은 값을 변수에 할당하기\n",
        "\n",
        "name = input(\"이름을 입력해주세요 : \")"
      ],
      "metadata": {
        "colab": {
          "base_uri": "https://localhost:8080/"
        },
        "id": "59G6KJobL4nN",
        "outputId": "2ff1f335-c568-44af-9e04-54707caa92df"
      },
      "execution_count": 3,
      "outputs": [
        {
          "name": "stdout",
          "output_type": "stream",
          "text": [
            "이름을 입력해주세요 : 이수현\n"
          ]
        }
      ]
    },
    {
      "cell_type": "code",
      "source": [
        "print(\"Hello,\" + name + \"!\")"
      ],
      "metadata": {
        "colab": {
          "base_uri": "https://localhost:8080/"
        },
        "id": "Y7fx3MLbMjri",
        "outputId": "031261b7-0d82-4db6-b2a6-1720fbf16d1f"
      },
      "execution_count": 4,
      "outputs": [
        {
          "output_type": "stream",
          "name": "stdout",
          "text": [
            "Hello,이수현!\n"
          ]
        }
      ]
    },
    {
      "cell_type": "code",
      "source": [
        "# input을 활용한 덧셈 - 문자열 경우\n",
        "\n",
        "a = input(\"첫번째 숫자를 입력해주세요 : \")\n",
        "b = input(\"두번째 숫자를 입력해주세요 : \")\n",
        "\n",
        "print(\"a+b = \", a+b,\"입니다.\")"
      ],
      "metadata": {
        "colab": {
          "base_uri": "https://localhost:8080/"
        },
        "id": "ufotEt04MqTV",
        "outputId": "a38078ad-8b16-4af0-b8ed-0758017076e8"
      },
      "execution_count": 7,
      "outputs": [
        {
          "output_type": "stream",
          "name": "stdout",
          "text": [
            "첫번째 숫자를 입력해주세요 : 1\n",
            "두번째 숫자를 입력해주세요 : 2\n",
            "a+b =  12 입니다.\n"
          ]
        }
      ]
    },
    {
      "cell_type": "code",
      "source": [
        "# input을 활용한 덧셈 - 숫자형 경우\n",
        "\n",
        "a = int(input(\"첫번째 숫자를 입력해주세요 : \"))\n",
        "b = int(input(\"두번째 숫자를 입력해주세요 : \"))\n",
        "\n",
        "print(\"a+b = \", a+b,\"입니다.\")"
      ],
      "metadata": {
        "colab": {
          "base_uri": "https://localhost:8080/"
        },
        "id": "najf9FnpNM3g",
        "outputId": "3ee4405e-e72f-4125-cfb8-d16ea25ace17"
      },
      "execution_count": 8,
      "outputs": [
        {
          "output_type": "stream",
          "name": "stdout",
          "text": [
            "첫번째 숫자를 입력해주세요 : 1\n",
            "두번째 숫자를 입력해주세요 : 2\n",
            "a+b =  3 입니다.\n"
          ]
        }
      ]
    },
    {
      "cell_type": "markdown",
      "source": [
        "### 출력 (print)"
      ],
      "metadata": {
        "id": "SE4cP9vkNuQQ"
      }
    },
    {
      "cell_type": "code",
      "source": [
        "# 여러 줄 출력\n",
        "\n",
        "\"출력합니다\"\n",
        "\"출력합니다\""
      ],
      "metadata": {
        "colab": {
          "base_uri": "https://localhost:8080/",
          "height": 35
        },
        "id": "WvX-EyKfNd-x",
        "outputId": "1319de99-cec4-4774-cdfd-e30458b12db7"
      },
      "execution_count": 9,
      "outputs": [
        {
          "output_type": "execute_result",
          "data": {
            "text/plain": [
              "'출력합니다'"
            ],
            "application/vnd.google.colaboratory.intrinsic+json": {
              "type": "string"
            }
          },
          "metadata": {},
          "execution_count": 9
        }
      ]
    },
    {
      "cell_type": "code",
      "source": [
        "# 여러 값 출력\n",
        "\n",
        "print(\"Hello\", \"World\", \"!\")"
      ],
      "metadata": {
        "colab": {
          "base_uri": "https://localhost:8080/"
        },
        "id": "Zm9Pmd1GPl4K",
        "outputId": "cc31675d-ce77-4baa-cb83-936a630b4d8a"
      },
      "execution_count": 10,
      "outputs": [
        {
          "output_type": "stream",
          "name": "stdout",
          "text": [
            "Hello World !\n"
          ]
        }
      ]
    },
    {
      "cell_type": "code",
      "source": [
        "# sep 구분자\n",
        "\n",
        "print(\"Hello\", \"World\", \"!\", sep=\"❤\")"
      ],
      "metadata": {
        "colab": {
          "base_uri": "https://localhost:8080/"
        },
        "id": "IqlZ45c7Py9X",
        "outputId": "9e4186ac-f8ce-401a-c3d1-a445e3813798"
      },
      "execution_count": 12,
      "outputs": [
        {
          "output_type": "stream",
          "name": "stdout",
          "text": [
            "Hello❤World❤!\n"
          ]
        }
      ]
    },
    {
      "cell_type": "code",
      "source": [
        "# end 구분자\n",
        "\n",
        "print(\"Hello\", \"World\", \"!\", sep=\"❤\", end=\"~~~\")"
      ],
      "metadata": {
        "colab": {
          "base_uri": "https://localhost:8080/"
        },
        "id": "U-XuA0orP6SQ",
        "outputId": "2e2d38a9-0685-4fda-ec98-1e385d8e50fb"
      },
      "execution_count": 14,
      "outputs": [
        {
          "output_type": "stream",
          "name": "stdout",
          "text": [
            "Hello❤World❤!~~~"
          ]
        }
      ]
    },
    {
      "cell_type": "markdown",
      "source": [
        "### f-string"
      ],
      "metadata": {
        "id": "oDLfxKV8Sb6n"
      }
    },
    {
      "cell_type": "code",
      "source": [
        "# f-string에서 f가 없을때\n",
        "\n",
        "name = \"soo\"\n",
        "age = 22\n",
        "print(\"제 이름은 {name}이고, 나이는 {age}살 입니다.\")"
      ],
      "metadata": {
        "colab": {
          "base_uri": "https://localhost:8080/"
        },
        "id": "u4SHxwvUSve9",
        "outputId": "32f585e8-ce26-4469-ba55-182c5d851f4b"
      },
      "execution_count": 21,
      "outputs": [
        {
          "output_type": "stream",
          "name": "stdout",
          "text": [
            "제 이름은 {name}이고, 나이는 {age}살 입니다.\n"
          ]
        }
      ]
    },
    {
      "cell_type": "code",
      "source": [
        "# f-string에서 중괄호가 없을 때\n",
        "\n",
        "name = \"soo\"\n",
        "age = 22\n",
        "print(f\"제 이름은 name이고, 나이는 age살 입니다.\")"
      ],
      "metadata": {
        "colab": {
          "base_uri": "https://localhost:8080/"
        },
        "id": "cjMDGUuwS4sm",
        "outputId": "41ec51ba-ea68-4c07-b29a-dcb8cde0780e"
      },
      "execution_count": 22,
      "outputs": [
        {
          "output_type": "stream",
          "name": "stdout",
          "text": [
            "제 이름은 name이고, 나이는 age살 입니다.\n"
          ]
        }
      ]
    },
    {
      "cell_type": "code",
      "source": [
        "# f-string을 제대로 사용했을때\n",
        "\n",
        "name = \"이수현\"\n",
        "age = 22\n",
        "\n",
        "print(f\"제 이름은 {name}이고, 나이는 {age}살 입니다.\")"
      ],
      "metadata": {
        "colab": {
          "base_uri": "https://localhost:8080/"
        },
        "id": "R7Q_dUG9TAL9",
        "outputId": "2c449e09-7ab9-4b31-8818-49bda3a1656a"
      },
      "execution_count": 24,
      "outputs": [
        {
          "output_type": "stream",
          "name": "stdout",
          "text": [
            "제 이름은 이수현이고, 나이는 22살 입니다.\n"
          ]
        }
      ]
    },
    {
      "cell_type": "markdown",
      "source": [
        "### None"
      ],
      "metadata": {
        "id": "6EOdAMiOUJeI"
      }
    },
    {
      "cell_type": "code",
      "source": [
        "a = None\n",
        "a"
      ],
      "metadata": {
        "id": "8q8XELrmSL-n"
      },
      "execution_count": 25,
      "outputs": []
    },
    {
      "cell_type": "code",
      "source": [
        "print(a)"
      ],
      "metadata": {
        "colab": {
          "base_uri": "https://localhost:8080/"
        },
        "id": "hzM2o67OUNLq",
        "outputId": "5534ed9f-67e0-46f9-9083-510dafab453e"
      },
      "execution_count": 26,
      "outputs": [
        {
          "output_type": "stream",
          "name": "stdout",
          "text": [
            "None\n"
          ]
        }
      ]
    },
    {
      "cell_type": "code",
      "source": [],
      "metadata": {
        "id": "_TMEjCcmU_fA"
      },
      "execution_count": null,
      "outputs": []
    }
  ]
}