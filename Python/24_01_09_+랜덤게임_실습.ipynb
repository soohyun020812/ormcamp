{
  "nbformat": 4,
  "nbformat_minor": 0,
  "metadata": {
    "colab": {
      "provenance": []
    },
    "kernelspec": {
      "name": "python3",
      "display_name": "Python 3"
    },
    "language_info": {
      "name": "python"
    }
  },
  "cells": [
    {
      "cell_type": "markdown",
      "source": [
        "### **랜덤숫자 맞추기**"
      ],
      "metadata": {
        "id": "ETjdNLub7WLw"
      }
    },
    {
      "cell_type": "code",
      "execution_count": 1,
      "metadata": {
        "colab": {
          "base_uri": "https://localhost:8080/"
        },
        "id": "-owuWAfi0rVB",
        "outputId": "d26b7968-f9cd-4ef5-b428-f4b843297ffb"
      },
      "outputs": [
        {
          "name": "stdout",
          "output_type": "stream",
          "text": [
            "숫자를 입력해주세요 (1~100사이) : 34\n"
          ]
        }
      ],
      "source": [
        "number = int(input(\"숫자를 입력해주세요 (1~100사이) : \"))"
      ]
    },
    {
      "cell_type": "code",
      "source": [
        "print(number)\n",
        "print(type(number))"
      ],
      "metadata": {
        "colab": {
          "base_uri": "https://localhost:8080/"
        },
        "id": "enVvt_9z0z6n",
        "outputId": "a18a1436-7a5d-45b6-a936-a9e2ff3d8840"
      },
      "execution_count": 2,
      "outputs": [
        {
          "output_type": "stream",
          "name": "stdout",
          "text": [
            "34\n",
            "<class 'int'>\n"
          ]
        }
      ]
    },
    {
      "cell_type": "code",
      "source": [
        "# 랜덤숫자 게임\n",
        "\n",
        "import random\n",
        "# 맞춰야 할 숫자\n",
        "\n",
        "secret_number = random.randrange(1, 101)\n",
        "\n",
        "# if문 사용해서 같은 지(같으면 정답), 틀리면 틀렸습니다 출력\n",
        "\n",
        "attempts = 0\n",
        "\n",
        "for i in range(10):\n",
        "    number = int(input('숫자 입력(1~100): '))\n",
        "    attempts += 1\n",
        "\n",
        "    if number == secret_number:\n",
        "        print(f'정답입니다! {attempts}번 만에 맞추셨군요!')\n",
        "        break  # 정답을 맞추면 루프를 종료\n",
        "\n",
        "    elif number < secret_number:\n",
        "        print(\"{} 보다 큰 숫자 입니다.\".format(number))\n",
        "    elif number > secret_number:\n",
        "        print(\"{} 보다 낮은 숫자 입니다.\".format(number))\n",
        "    else:\n",
        "        print('틀렸습니다!')\n",
        "else:\n",
        "    print(f'10번 안에 맞추지 못하였습니다. 정답은 {secret_number}입니다.')"
      ],
      "metadata": {
        "colab": {
          "base_uri": "https://localhost:8080/"
        },
        "id": "su-N1Nle1Uhm",
        "outputId": "f5d823c9-a603-4323-eec8-ea84ab13cd1f"
      },
      "execution_count": 22,
      "outputs": [
        {
          "output_type": "stream",
          "name": "stdout",
          "text": [
            "숫자 입력(1~100): 50\n",
            "50 보다 낮은 숫자 입니다.\n",
            "숫자 입력(1~100): 25\n",
            "25 보다 큰 숫자 입니다.\n",
            "숫자 입력(1~100): 40\n",
            "정답입니다! 3번 만에 맞추셨군요!\n"
          ]
        }
      ]
    },
    {
      "cell_type": "markdown",
      "source": [
        "### **가위바위보**"
      ],
      "metadata": {
        "id": "Ks1DtVKc7dCx"
      }
    },
    {
      "cell_type": "code",
      "source": [
        "user = input(\"가위, 바위, 보 중 하나를 선택하세요 : \")\n",
        "print(f\"당신은 {user}입니다.\")\n",
        "\n",
        "choices = [\"가위\", \"바위\", \"보\"]\n",
        "computer = random.choice(choices)\n",
        "print(f\"컴퓨터는 {computer}입니다.\")\n",
        "\n",
        "if user == computer:\n",
        "    print(\"비겼습니다!\")\n",
        "elif (user == \"가위\" and computer == \"보\") or (user == \"바위\" and computer == \"가위\") or (user == \"보\" and computer == \"바위\"):\n",
        "    print(\"당신이 이겼습니다!\")\n",
        "else:\n",
        "    print(\"당신이 졌습니다ㅜㅜ\")"
      ],
      "metadata": {
        "colab": {
          "base_uri": "https://localhost:8080/"
        },
        "id": "j-p8h6Af75H1",
        "outputId": "c12866bb-4c54-4bae-e84d-2765c9f3db35"
      },
      "execution_count": 28,
      "outputs": [
        {
          "output_type": "stream",
          "name": "stdout",
          "text": [
            "가위, 바위, 보 중 하나를 선택하세요 : 바위\n",
            "당신은 바위입니다.\n",
            "컴퓨터는 가위입니다.\n",
            "당신이 이겼습니다!\n"
          ]
        }
      ]
    },
    {
      "cell_type": "code",
      "source": [],
      "metadata": {
        "id": "TjtkMcn98XjW"
      },
      "execution_count": null,
      "outputs": []
    }
  ]
}
