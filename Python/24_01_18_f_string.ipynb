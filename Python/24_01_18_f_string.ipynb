{
  "nbformat": 4,
  "nbformat_minor": 0,
  "metadata": {
    "colab": {
      "provenance": []
    },
    "kernelspec": {
      "name": "python3",
      "display_name": "Python 3"
    },
    "language_info": {
      "name": "python"
    }
  },
  "cells": [
    {
      "cell_type": "markdown",
      "source": [
        "**f-string 이란?**\n",
        "- f-string은 Formatted String Literals의 줄임말\n",
        "\n",
        "\n",
        "    f-string은 Python 3.6에서 도입된 새로운 문자열 포매팅 방법\n",
        "    문자열 내에 {}를 사용하여 변수나 표현식을 직접 삽입할 수 있음"
      ],
      "metadata": {
        "id": "ZB5c5OZZoS1n"
      }
    },
    {
      "cell_type": "code",
      "source": [
        "# print에 들어가는 문자열 만들기\n",
        "\n",
        "name = '이수현'\n",
        "age = 23\n",
        "\n",
        "'제 이름은 %s이고 제 나이는 %d입니다.'%(name, age) # % 용법\n",
        "'제 이름은 {}이고 제 나이는 {}입니다'.format(name, age) # format 용법\n",
        "f'제 이름은 {name}이고 제 나이는 {age}입니다' # f-string 용법"
      ],
      "metadata": {
        "colab": {
          "base_uri": "https://localhost:8080/",
          "height": 35
        },
        "id": "VFAGU_fthvR8",
        "outputId": "b5fcd376-55a4-4c83-c078-7b341f03e624"
      },
      "execution_count": 2,
      "outputs": [
        {
          "output_type": "execute_result",
          "data": {
            "text/plain": [
              "'제 이름은 이수현이고 제 나이는 23입니다'"
            ],
            "application/vnd.google.colaboratory.intrinsic+json": {
              "type": "string"
            }
          },
          "metadata": {},
          "execution_count": 2
        }
      ]
    },
    {
      "cell_type": "code",
      "source": [
        "삼 = '짝'*3\n",
        "칠 = '짝'*7\n",
        "print('삼삼칠 박수 :  {0}!!! {0}!!! {1}!!! '.format(삼, 칠))\n",
        "print(f'삼삼칠 박수 :  {삼}!!! {삼}!!! {칠}!!! ')\n",
        "print(f'삼삼칠 박수 :  {삼*2}!!! {삼}!!! {칠}!!! ') # {}안에서 연산하는 것은 가독성을 해칠 우려가 있음"
      ],
      "metadata": {
        "colab": {
          "base_uri": "https://localhost:8080/"
        },
        "id": "HkZ-__sGi-_V",
        "outputId": "f3b5b7a1-f6c7-46cb-ecc1-986f58e1cfc8"
      },
      "execution_count": 3,
      "outputs": [
        {
          "output_type": "stream",
          "name": "stdout",
          "text": [
            "삼삼칠 박수 :  짝짝짝!!! 짝짝짝!!! 짝짝짝짝짝짝짝!!! \n",
            "삼삼칠 박수 :  짝짝짝!!! 짝짝짝!!! 짝짝짝짝짝짝짝!!! \n",
            "삼삼칠 박수 :  짝짝짝짝짝짝!!! 짝짝짝!!! 짝짝짝짝짝짝짝!!! \n"
          ]
        }
      ]
    },
    {
      "cell_type": "code",
      "source": [
        "one_length = 5.343123123\n",
        "\n",
        "print(f'{one_length} 입니다.')\n",
        "print(f'{one_length:.1f} 입니다.')\n",
        "print('{0:.2f}'.format(one_length))\n",
        "print('{:.2f}'.format(one_length))"
      ],
      "metadata": {
        "colab": {
          "base_uri": "https://localhost:8080/"
        },
        "id": "lQoqbyXLjvPR",
        "outputId": "3c3f6a67-3da2-4956-ba6f-3d2553d48a1d"
      },
      "execution_count": 4,
      "outputs": [
        {
          "output_type": "stream",
          "name": "stdout",
          "text": [
            "5.343123123 입니다.\n",
            "5.3 입니다.\n",
            "5.34\n",
            "5.34\n"
          ]
        }
      ]
    },
    {
      "cell_type": "code",
      "source": [
        "# log 출력할 때 가운데 정렬은 많이 사용\n",
        "\n",
        "age = 100\n",
        "print('당신의 나이는 [{:^15}]세'.format(22))\n",
        "print(f'당신의 나이는 [{age:^15}]세')\n",
        "print(f'당신의 나이는 [{age:<15}]세')\n",
        "print(f'당신의 나이는 [{age:>15}]세')\n",
        "print(f'당신의 나이는 [{age:=^15}]세')\n",
        "print(f'당신의 나이는 [{age:#^15}]세')\n",
        "print(f'###########{age}###########')"
      ],
      "metadata": {
        "colab": {
          "base_uri": "https://localhost:8080/"
        },
        "id": "KsI_qKUEkpqW",
        "outputId": "3e6b131c-5ff3-4e74-9f75-5b5046357034"
      },
      "execution_count": 5,
      "outputs": [
        {
          "output_type": "stream",
          "name": "stdout",
          "text": [
            "당신의 나이는 [      22       ]세\n",
            "당신의 나이는 [      100      ]세\n",
            "당신의 나이는 [100            ]세\n",
            "당신의 나이는 [            100]세\n",
            "당신의 나이는 [======100======]세\n",
            "당신의 나이는 [######100######]세\n",
            "###########100###########\n"
          ]
        }
      ]
    },
    {
      "cell_type": "code",
      "source": [
        "age = 23\n",
        "\n",
        "print(f'My set is {{1, 2, 3}}.')\n",
        "print(f'My set is {{age*2}}.')\n",
        "print(f'My set is {{{age*2}}}.')"
      ],
      "metadata": {
        "colab": {
          "base_uri": "https://localhost:8080/"
        },
        "id": "80l9SB3plcJs",
        "outputId": "fed6a516-0c94-4134-ff5f-bfd3cf0c3bd4"
      },
      "execution_count": 6,
      "outputs": [
        {
          "output_type": "stream",
          "name": "stdout",
          "text": [
            "My set is {1, 2, 3}.\n",
            "My set is {age*2}.\n",
            "My set is {46}.\n"
          ]
        }
      ]
    },
    {
      "cell_type": "code",
      "source": [
        "l = []\n",
        "for i in range(2, 10):\n",
        "    for j in range(1, 10):\n",
        "        l.append(f'{i} X {j} = {i*j}')\n",
        "\n",
        "l"
      ],
      "metadata": {
        "id": "6wch1IT4mUwP",
        "colab": {
          "base_uri": "https://localhost:8080/"
        },
        "outputId": "a9edf416-cb15-4196-e918-35b35cd67bae"
      },
      "execution_count": 7,
      "outputs": [
        {
          "output_type": "execute_result",
          "data": {
            "text/plain": [
              "['2 X 1 = 2',\n",
              " '2 X 2 = 4',\n",
              " '2 X 3 = 6',\n",
              " '2 X 4 = 8',\n",
              " '2 X 5 = 10',\n",
              " '2 X 6 = 12',\n",
              " '2 X 7 = 14',\n",
              " '2 X 8 = 16',\n",
              " '2 X 9 = 18',\n",
              " '3 X 1 = 3',\n",
              " '3 X 2 = 6',\n",
              " '3 X 3 = 9',\n",
              " '3 X 4 = 12',\n",
              " '3 X 5 = 15',\n",
              " '3 X 6 = 18',\n",
              " '3 X 7 = 21',\n",
              " '3 X 8 = 24',\n",
              " '3 X 9 = 27',\n",
              " '4 X 1 = 4',\n",
              " '4 X 2 = 8',\n",
              " '4 X 3 = 12',\n",
              " '4 X 4 = 16',\n",
              " '4 X 5 = 20',\n",
              " '4 X 6 = 24',\n",
              " '4 X 7 = 28',\n",
              " '4 X 8 = 32',\n",
              " '4 X 9 = 36',\n",
              " '5 X 1 = 5',\n",
              " '5 X 2 = 10',\n",
              " '5 X 3 = 15',\n",
              " '5 X 4 = 20',\n",
              " '5 X 5 = 25',\n",
              " '5 X 6 = 30',\n",
              " '5 X 7 = 35',\n",
              " '5 X 8 = 40',\n",
              " '5 X 9 = 45',\n",
              " '6 X 1 = 6',\n",
              " '6 X 2 = 12',\n",
              " '6 X 3 = 18',\n",
              " '6 X 4 = 24',\n",
              " '6 X 5 = 30',\n",
              " '6 X 6 = 36',\n",
              " '6 X 7 = 42',\n",
              " '6 X 8 = 48',\n",
              " '6 X 9 = 54',\n",
              " '7 X 1 = 7',\n",
              " '7 X 2 = 14',\n",
              " '7 X 3 = 21',\n",
              " '7 X 4 = 28',\n",
              " '7 X 5 = 35',\n",
              " '7 X 6 = 42',\n",
              " '7 X 7 = 49',\n",
              " '7 X 8 = 56',\n",
              " '7 X 9 = 63',\n",
              " '8 X 1 = 8',\n",
              " '8 X 2 = 16',\n",
              " '8 X 3 = 24',\n",
              " '8 X 4 = 32',\n",
              " '8 X 5 = 40',\n",
              " '8 X 6 = 48',\n",
              " '8 X 7 = 56',\n",
              " '8 X 8 = 64',\n",
              " '8 X 9 = 72',\n",
              " '9 X 1 = 9',\n",
              " '9 X 2 = 18',\n",
              " '9 X 3 = 27',\n",
              " '9 X 4 = 36',\n",
              " '9 X 5 = 45',\n",
              " '9 X 6 = 54',\n",
              " '9 X 7 = 63',\n",
              " '9 X 8 = 72',\n",
              " '9 X 9 = 81']"
            ]
          },
          "metadata": {},
          "execution_count": 7
        }
      ]
    },
    {
      "cell_type": "code",
      "source": [
        "[f'{i} X {j} = {i*j}' for i in range(2, 10) for j in range(1, 10)]\n",
        "# 리스트 컴프리헨션 속도가 for 빠름"
      ],
      "metadata": {
        "id": "BbaBFY31mlbo",
        "colab": {
          "base_uri": "https://localhost:8080/"
        },
        "outputId": "c3c5b9c4-78ae-41a5-c955-7de14f1ce62f"
      },
      "execution_count": 8,
      "outputs": [
        {
          "output_type": "execute_result",
          "data": {
            "text/plain": [
              "['2 X 1 = 2',\n",
              " '2 X 2 = 4',\n",
              " '2 X 3 = 6',\n",
              " '2 X 4 = 8',\n",
              " '2 X 5 = 10',\n",
              " '2 X 6 = 12',\n",
              " '2 X 7 = 14',\n",
              " '2 X 8 = 16',\n",
              " '2 X 9 = 18',\n",
              " '3 X 1 = 3',\n",
              " '3 X 2 = 6',\n",
              " '3 X 3 = 9',\n",
              " '3 X 4 = 12',\n",
              " '3 X 5 = 15',\n",
              " '3 X 6 = 18',\n",
              " '3 X 7 = 21',\n",
              " '3 X 8 = 24',\n",
              " '3 X 9 = 27',\n",
              " '4 X 1 = 4',\n",
              " '4 X 2 = 8',\n",
              " '4 X 3 = 12',\n",
              " '4 X 4 = 16',\n",
              " '4 X 5 = 20',\n",
              " '4 X 6 = 24',\n",
              " '4 X 7 = 28',\n",
              " '4 X 8 = 32',\n",
              " '4 X 9 = 36',\n",
              " '5 X 1 = 5',\n",
              " '5 X 2 = 10',\n",
              " '5 X 3 = 15',\n",
              " '5 X 4 = 20',\n",
              " '5 X 5 = 25',\n",
              " '5 X 6 = 30',\n",
              " '5 X 7 = 35',\n",
              " '5 X 8 = 40',\n",
              " '5 X 9 = 45',\n",
              " '6 X 1 = 6',\n",
              " '6 X 2 = 12',\n",
              " '6 X 3 = 18',\n",
              " '6 X 4 = 24',\n",
              " '6 X 5 = 30',\n",
              " '6 X 6 = 36',\n",
              " '6 X 7 = 42',\n",
              " '6 X 8 = 48',\n",
              " '6 X 9 = 54',\n",
              " '7 X 1 = 7',\n",
              " '7 X 2 = 14',\n",
              " '7 X 3 = 21',\n",
              " '7 X 4 = 28',\n",
              " '7 X 5 = 35',\n",
              " '7 X 6 = 42',\n",
              " '7 X 7 = 49',\n",
              " '7 X 8 = 56',\n",
              " '7 X 9 = 63',\n",
              " '8 X 1 = 8',\n",
              " '8 X 2 = 16',\n",
              " '8 X 3 = 24',\n",
              " '8 X 4 = 32',\n",
              " '8 X 5 = 40',\n",
              " '8 X 6 = 48',\n",
              " '8 X 7 = 56',\n",
              " '8 X 8 = 64',\n",
              " '8 X 9 = 72',\n",
              " '9 X 1 = 9',\n",
              " '9 X 2 = 18',\n",
              " '9 X 3 = 27',\n",
              " '9 X 4 = 36',\n",
              " '9 X 5 = 45',\n",
              " '9 X 6 = 54',\n",
              " '9 X 7 = 63',\n",
              " '9 X 8 = 72',\n",
              " '9 X 9 = 81']"
            ]
          },
          "metadata": {},
          "execution_count": 8
        }
      ]
    },
    {
      "cell_type": "markdown",
      "source": [
        "- 교안 내용 정리"
      ],
      "metadata": {
        "id": "EhhoElPnouVY"
      }
    },
    {
      "cell_type": "code",
      "source": [
        "# 1. 기본 사용법\n",
        "# 변수를 문자열에 포함\n",
        "\n",
        "name = \"Alice\"\n",
        "print(f\"Hello, {name}\")"
      ],
      "metadata": {
        "colab": {
          "base_uri": "https://localhost:8080/"
        },
        "id": "VwEL_0QmoI_8",
        "outputId": "90e9476b-3291-4eb6-f5b8-56d9ce6e2960"
      },
      "execution_count": 9,
      "outputs": [
        {
          "output_type": "stream",
          "name": "stdout",
          "text": [
            "Hello, Alice\n"
          ]
        }
      ]
    },
    {
      "cell_type": "code",
      "source": [
        "# 2. 표현식 사용하기\n",
        "# 직접적으로 표현식을 사용할 수 있음, 계산이나 함수 호출 등도 가능\n",
        "\n",
        "age = 20\n",
        "print(f\"Next year, you will be {age + 1}.\")\n",
        "\n",
        "def greet(name):\n",
        "    return f\"Hello, {name}\"\n",
        "\n",
        "print(greet(\"Alice\"))"
      ],
      "metadata": {
        "colab": {
          "base_uri": "https://localhost:8080/"
        },
        "id": "2NuhhBmvo3AD",
        "outputId": "6a9ccc9a-f1da-457a-819d-a40f0150a23a"
      },
      "execution_count": 10,
      "outputs": [
        {
          "output_type": "stream",
          "name": "stdout",
          "text": [
            "Next year, you will be 21.\n",
            "Hello, Alice\n"
          ]
        }
      ]
    },
    {
      "cell_type": "code",
      "source": [
        "# 3. 포매팅(formatting) 지정자 사용하기\n",
        "# f-string에서는 {} 안에서 :를 사용하여 포맷팅을 지정할 수 있음\n",
        "# 소수점 아래 자릿수를 지정하거나, 정렬 방법을 지정하는 등의 포매팅 가능\n",
        "\n",
        "num = 3.14159\n",
        "print(f\"{num:.2f}\")\n",
        "\n",
        "name = \"Alice\"\n",
        "print(f\"{name:>10}\")"
      ],
      "metadata": {
        "colab": {
          "base_uri": "https://localhost:8080/"
        },
        "id": "eSfiK_pPpFBw",
        "outputId": "1fe4c8fe-fc64-4b7f-cee6-5369c30bc8ff"
      },
      "execution_count": 11,
      "outputs": [
        {
          "output_type": "stream",
          "name": "stdout",
          "text": [
            "3.14\n",
            "     Alice\n"
          ]
        }
      ]
    },
    {
      "cell_type": "markdown",
      "source": [
        "- 이전 방식 : \"문자열 + 형식문자로 구성된 출력형식\"%(변수)\n",
        "    - 출력형식에 형식화된 문자열을 넣어 출력의 모양을 변경하는것입니다.\n",
        "    - \"%형식문자\"로 지정하면 % 뒤의 출력 대상들이 1:1로 대응되어 출력됩니다.\n",
        "        - %s : 문자열, %d : 정수, %f : 실수 등이 있습니다.\n",
        "    - 좀더 자세한 설명은 문자열 설명에서 하도록 하겠습니다.\n",
        "        - %03d : 정수를 3칸에 맞추어 출력하는데 앞의 빈칸은 0으로 채워라 입니다.\n",
        "        - %6.2f : 실수를 전체 6칸 소수이하 2칸에 맞추어 출력하라 입니다.\n",
        "    \n",
        "- 파이썬(Python) 3 포맷팅 방식 : \"문자열 + {}로 구성된 출력형식\".format(변수)\n",
        "    - 출력형식에 형식화된 문자열을 넣어 출력의 모양을 변경하는것입니다.\n",
        "    - \"{}\" 지정하면 format에 기술한 출력 대상들이 대응되어 출력됩니다.\n",
        "        - “name: {}”.format(’이호준’)\n",
        "    - \"{n}\"안에 숫자를 지정하여 출력 대상의 위치를 지정할 수 있습니다.\n",
        "    - 함수의 인자처럼 키워드를 사용해서 나타낼 수 있습니다.\n",
        "    - 동일한 데이터를 여러번 출력할 수 있습니다.\n",
        "    \n",
        "- 파이썬 3.6이상부터 지원 : f-string  **f’문자열 {변수} 문자열**\n",
        "    - f-문자열, 문자열에 `f`또는 `F`접두어를 붙이고 변수를 {} 로 작성하여 문자열에 파이썬 표현식의 값을 삽입할 수 있게 합니다.\n",
        "    - 선택적인 포맷 지정자가 변수 뒤에 올 수 있습니다.\n",
        "        - f' 문자열 {math.pi:.3f}' : 원주율을 소수점 이하 세 자리로 반올림합니다."
      ],
      "metadata": {
        "id": "n6cjyZV6p-9R"
      }
    },
    {
      "cell_type": "code",
      "source": [
        "# 이전 방식\n",
        "print('나의 이름은 %s입니다'%('한사람'))\n",
        "print('나의 이름은 \"%s\"입니다. 나이는 %d세이고 성별은 %s입니다.'%('한사람',33,'남성'))\n",
        "print('나이는 %d세이고 성별은 %s입니다. 나의 이름은 %s입니다. '%(33,'남성','한사람'))\n",
        "print('나이는 %03d세이고 신장은 %6.2f입니다. 나의 이름은 %s입니다. '%(33,56.789,'한사람'))\n",
        "print('-' * 40)\n",
        "\n",
        "# 파이썬(Python) 3 포맷팅 방식\n",
        "print('나의 이름은 {}입니다'.format('한사람'))\n",
        "print('나의 이름은 {0}입니다. 나이는 {1}세이고 성별은 {2}입니다.'.format('한사람',33,'남성'))\n",
        "print('나이는 {1}세이고 성별은 {2}입니다. 나의 이름은 {0}입니다. '.format('한사람',33,'남성'))\n",
        "print('나이는 {age}세이고 성별은 {gender}입니다. 나의 이름은 {name}입니다. '\n",
        "         .format(name='한사람',age=33,gender='남성'))\n",
        "print('만세삼창 :  {0}!!! {0}!!! {0}!!! '.format('만세'))\n",
        "print('삼삼칠 박수 :  {0}!!! {0}!!! {1}!!! '.format('짝'*3,'짝'*7))\n",
        "print('-' * 40)\n",
        "\n",
        "# 파이썬(Python) 3.6 f-string 방식\n",
        "something = '볼펜'\n",
        "EA = 2\n",
        "one_length = 5.343\n",
        "scale = 'cm'\n",
        "\n",
        "print(f'{something} {EA}개의 길이는 {one_length*EA}{scale} 입니다.')\n",
        "print(f'{something} {EA}개의 길이는 {one_length*EA:.1f}{scale} 입니다.')"
      ],
      "metadata": {
        "colab": {
          "base_uri": "https://localhost:8080/"
        },
        "id": "hy8Vih59phWU",
        "outputId": "2404cb3b-75f2-499f-a0ca-1e4f11184787"
      },
      "execution_count": 12,
      "outputs": [
        {
          "output_type": "stream",
          "name": "stdout",
          "text": [
            "나의 이름은 한사람입니다\n",
            "나의 이름은 \"한사람\"입니다. 나이는 33세이고 성별은 남성입니다.\n",
            "나이는 33세이고 성별은 남성입니다. 나의 이름은 한사람입니다. \n",
            "나이는 033세이고 신장은  56.79입니다. 나의 이름은 한사람입니다. \n",
            "----------------------------------------\n",
            "나의 이름은 한사람입니다\n",
            "나의 이름은 한사람입니다. 나이는 33세이고 성별은 남성입니다.\n",
            "나이는 33세이고 성별은 남성입니다. 나의 이름은 한사람입니다. \n",
            "나이는 33세이고 성별은 남성입니다. 나의 이름은 한사람입니다. \n",
            "만세삼창 :  만세!!! 만세!!! 만세!!! \n",
            "삼삼칠 박수 :  짝짝짝!!! 짝짝짝!!! 짝짝짝짝짝짝짝!!! \n",
            "----------------------------------------\n",
            "볼펜 2개의 길이는 10.686cm 입니다.\n",
            "볼펜 2개의 길이는 10.7cm 입니다.\n"
          ]
        }
      ]
    },
    {
      "cell_type": "markdown",
      "source": [
        "format 길이와 정렬\n",
        "\n",
        "    {:길이} : 출력할 데이터의 길이를 지정합니다. 문자열(왼쪽 정렬), 숫자(오른쪽 정렬)\n",
        "    {:<길이} : 왼쪽 정렬\n",
        "    {:>길이} : 오른쪽 정렬\n",
        "    {:^길이} : 가운데 정렬"
      ],
      "metadata": {
        "id": "RM5FpUIzp5pK"
      }
    },
    {
      "cell_type": "code",
      "source": [
        "print('Python is [{:15}]'.format('good'))\n",
        "print('Python is [{:<15}]'.format('good'))\n",
        "print('Python is [{:>15}]'.format('good'))\n",
        "print('Python is [{:^15}]'.format('good'))\n",
        "print('Python is [{:-^15}]'.format('good'))\n",
        "print('당신의 나이는 [{:15}]세'.format(22))\n",
        "print('당신의 나이는 [{:<15}]세'.format(22))\n",
        "print('당신의 나이는 [{:>15}]세'.format(22))\n",
        "print('당신의 나이는 [{:^15}]세'.format(22))\n",
        "print('-' * 40)"
      ],
      "metadata": {
        "colab": {
          "base_uri": "https://localhost:8080/"
        },
        "id": "OBZSCQVHp2f7",
        "outputId": "57be07b1-6bfa-4cf5-e4fb-ec09f368ddb8"
      },
      "execution_count": 13,
      "outputs": [
        {
          "output_type": "stream",
          "name": "stdout",
          "text": [
            "Python is [good           ]\n",
            "Python is [good           ]\n",
            "Python is [           good]\n",
            "Python is [     good      ]\n",
            "Python is [-----good------]\n",
            "당신의 나이는 [             22]세\n",
            "당신의 나이는 [22             ]세\n",
            "당신의 나이는 [             22]세\n",
            "당신의 나이는 [      22       ]세\n",
            "----------------------------------------\n"
          ]
        }
      ]
    },
    {
      "cell_type": "code",
      "source": [
        "print('[{:15}]'.format('10')) # 양식 같음, 자료형만 다름(문자는 왼쪽 정렬)\n",
        "print('[{:15}]'.format(10)) # 양식 같음, 자료형만 다름(숫자는 오른쪽 정렬)"
      ],
      "metadata": {
        "colab": {
          "base_uri": "https://localhost:8080/"
        },
        "id": "VdEBSkf1qNS4",
        "outputId": "97c03208-5a6e-4d31-be67-e1910ba06358"
      },
      "execution_count": 14,
      "outputs": [
        {
          "output_type": "stream",
          "name": "stdout",
          "text": [
            "[10             ]\n",
            "[             10]\n"
          ]
        }
      ]
    },
    {
      "cell_type": "code",
      "source": [
        "char_a = '5'\n",
        "int_a = 5\n",
        "sample = 1234567890\n",
        "\n",
        "'''기본적으로 {} 포맷팅의 특성을 그대로 가짐'''\n",
        "print(1234567890)\n",
        "print(f'{sample:>5}') # 문자열이 넘어가도 잘리진 않음\n",
        "print(f'{char_a:>5}') # >는 오른쪽정렬\n",
        "print(f'{char_a:<5}') # <는 왼쪽정렬\n",
        "print(f'{char_a:^5}') # ^는 가운데정렬\n",
        "print(f'{int_a:0<5}')# <는 왼쪽정렬, 빈자리를 0으로 채울수도 있음 ('5'.zfill(5))\n",
        "print(f'{int_a:^10.2f}') # ^ 가운데 정렬하면서 float 타입지정"
      ],
      "metadata": {
        "colab": {
          "base_uri": "https://localhost:8080/"
        },
        "id": "npf0m5RNqQiK",
        "outputId": "d6d7ed58-f68e-4e9e-c754-81f829234071"
      },
      "execution_count": 16,
      "outputs": [
        {
          "output_type": "stream",
          "name": "stdout",
          "text": [
            "1234567890\n",
            "1234567890\n",
            "    5\n",
            "5    \n",
            "  5  \n",
            "50000\n",
            "   5.00   \n"
          ]
        }
      ]
    },
    {
      "cell_type": "code",
      "source": [],
      "metadata": {
        "id": "K7OtiMtGqSHC"
      },
      "execution_count": null,
      "outputs": []
    }
  ]
}
