{
  "nbformat": 4,
  "nbformat_minor": 0,
  "metadata": {
    "colab": {
      "provenance": [],
      "authorship_tag": "ABX9TyOql1kkEJ5uHLILRL+DEvgW",
      "include_colab_link": true
    },
    "kernelspec": {
      "name": "python3",
      "display_name": "Python 3"
    },
    "language_info": {
      "name": "python"
    }
  },
  "cells": [
    {
      "cell_type": "markdown",
      "metadata": {
        "id": "view-in-github",
        "colab_type": "text"
      },
      "source": [
        "<a href=\"https://colab.research.google.com/github/soohyun020812/ormcamp/blob/main/23_12_29_%EC%A3%BC%EC%84%9D.ipynb\" target=\"_parent\"><img src=\"https://colab.research.google.com/assets/colab-badge.svg\" alt=\"Open In Colab\"/></a>"
      ]
    },
    {
      "cell_type": "markdown",
      "source": [
        "### 1. 한 줄 주석\n",
        "한 줄 주석은 #기호로 시작, 이 기호 뒤에 따라오는 텍스트는 모두 주석처리\\\n",
        "아래처럼 입력 후 Alt + Enter를 입력하여 확인해보면 Hello World 1 와 Hello World 2만 출력된 것을 확인할 수 있음"
      ],
      "metadata": {
        "id": "bCJIbu6lDn06"
      }
    },
    {
      "cell_type": "code",
      "source": [
        "# 이것은 주석 (특이사항, 전체적인 내용, 업데이트한 내용)\n",
        "\n",
        "print(\"Hello World 1\") # 이 부분도 주석 (해당 코드에 대한 설명)\n",
        "# print(\"Hello World 2\") (코드 Error부분 수정을 위해, 향후 수정, 임시 주석)"
      ],
      "metadata": {
        "colab": {
          "base_uri": "https://localhost:8080/"
        },
        "id": "7neCqMfyD6GD",
        "outputId": "84bbd97e-631c-4058-d981-ac11570a86b4"
      },
      "execution_count": 3,
      "outputs": [
        {
          "output_type": "stream",
          "name": "stdout",
          "text": [
            "Hello World 1\n"
          ]
        }
      ]
    },
    {
      "cell_type": "markdown",
      "source": [
        "### 2. 여러 줄 주석\n",
        "\n",
        "여러 줄 주석을 작성 시 '나 \"가 사용됨\\\n",
        "위 아래로 감싸주어야 함\\\n",
        "'를 사용했을 때는 위 아래 둘 다 '를 사용하고, \"를 사용했을 때도 마찬가지로 똑같은 \"를 사용해야 함\\\n",
        "= 주석 기호를 통일"
      ],
      "metadata": {
        "id": "t1uilW5zEyEE"
      }
    },
    {
      "cell_type": "code",
      "source": [
        "'''\n",
        "print(\"Hello World 1\")\n",
        "print(\"Hello World 2\")\n",
        "print(\"Hello World 3\")\n",
        "'''\n",
        "print(\"Real Hello World\")"
      ],
      "metadata": {
        "colab": {
          "base_uri": "https://localhost:8080/"
        },
        "id": "J6On73gLEFra",
        "outputId": "efac7256-2fe7-4441-9a56-b76327476bc0"
      },
      "execution_count": 7,
      "outputs": [
        {
          "output_type": "stream",
          "name": "stdout",
          "text": [
            "Real Hello World\n"
          ]
        }
      ]
    },
    {
      "cell_type": "code",
      "source": [],
      "metadata": {
        "id": "nL8tuUDPFHlE"
      },
      "execution_count": null,
      "outputs": []
    }
  ]
}
