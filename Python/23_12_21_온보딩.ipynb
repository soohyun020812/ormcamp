{
  "nbformat": 4,
  "nbformat_minor": 0,
  "metadata": {
    "colab": {
      "provenance": []
    },
    "kernelspec": {
      "name": "python3",
      "display_name": "Python 3"
    },
    "language_info": {
      "name": "python"
    }
  },
  "cells": [
    {
      "cell_type": "markdown",
      "source": [
        "*흘림체* \\\n",
        "**굵음체**\n",
        "1. 번호\n",
        "* 문단"
      ],
      "metadata": {
        "id": "Oin02BeJI-fD"
      }
    },
    {
      "cell_type": "code",
      "execution_count": null,
      "metadata": {
        "colab": {
          "base_uri": "https://localhost:8080/"
        },
        "id": "WyOYrRhDI7OM",
        "outputId": "0aa000b1-e097-425a-94c5-563beccc482d"
      },
      "outputs": [
        {
          "output_type": "stream",
          "name": "stdout",
          "text": [
            "hello world\n"
          ]
        }
      ],
      "source": [
        "print(\"hello world\")"
      ]
    },
    {
      "cell_type": "code",
      "source": [],
      "metadata": {
        "id": "vzT7xKjHLoGC"
      },
      "execution_count": null,
      "outputs": []
    }
  ]
}
