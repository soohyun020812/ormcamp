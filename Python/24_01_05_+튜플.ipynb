{
  "nbformat": 4,
  "nbformat_minor": 0,
  "metadata": {
    "colab": {
      "provenance": []
    },
    "kernelspec": {
      "name": "python3",
      "display_name": "Python 3"
    },
    "language_info": {
      "name": "python"
    }
  },
  "cells": [
    {
      "cell_type": "markdown",
      "source": [
        "### 튜플\n",
        "\n",
        "    - 순서가 있는 자료형 (인덱싱, 슬라이싱)\n",
        "    - 참조 변경 불가 (값이 변경 불가하다고 하는 건 안됨)"
      ],
      "metadata": {
        "id": "j0kdDzoTAfW9"
      }
    },
    {
      "cell_type": "code",
      "source": [
        "t = (10, 20, 30) # 소괄호"
      ],
      "metadata": {
        "id": "BijaeHFCu0vp"
      },
      "execution_count": null,
      "outputs": []
    },
    {
      "cell_type": "code",
      "source": [
        "t[0]"
      ],
      "metadata": {
        "colab": {
          "base_uri": "https://localhost:8080/"
        },
        "id": "d2CO_NX8C-K7",
        "outputId": "2e9fa0f6-6fad-4a32-f0b5-b2e8bdd053d3"
      },
      "execution_count": null,
      "outputs": [
        {
          "output_type": "execute_result",
          "data": {
            "text/plain": [
              "10"
            ]
          },
          "metadata": {},
          "execution_count": 101
        }
      ]
    },
    {
      "cell_type": "code",
      "source": [
        "t[1:]"
      ],
      "metadata": {
        "colab": {
          "base_uri": "https://localhost:8080/"
        },
        "id": "i032LNyVC_QI",
        "outputId": "e08c229c-71c7-4c03-d4e6-90257fcb7813"
      },
      "execution_count": null,
      "outputs": [
        {
          "output_type": "execute_result",
          "data": {
            "text/plain": [
              "(20, 30)"
            ]
          },
          "metadata": {},
          "execution_count": 102
        }
      ]
    },
    {
      "cell_type": "code",
      "source": [
        "t[0] = 1000"
      ],
      "metadata": {
        "id": "eQ8uGsu9DAG4"
      },
      "execution_count": null,
      "outputs": []
    },
    {
      "cell_type": "code",
      "source": [
        "# 1번째 왜 이런 자료형이 필요할까요?\n",
        "# * 권한과 변경불가(시큐어 코딩), 형태 고정인 자료형(딕셔너리와 같은 것)\n",
        "\n",
        "# 2번째 변경이 불가능한데 왜 '값이 변경이 불가하다고 얘기하면 이것은 틀린 얘기입니다'라고 얘기하셨나요?\n",
        "a = [10, 20, 30]\n",
        "b = (a, 100, 200)\n",
        "b"
      ],
      "metadata": {
        "colab": {
          "base_uri": "https://localhost:8080/"
        },
        "id": "SHxO7nqgDDZj",
        "outputId": "3f3467c9-6ed4-499c-b026-2646c117aba8"
      },
      "execution_count": null,
      "outputs": [
        {
          "output_type": "execute_result",
          "data": {
            "text/plain": [
              "([10, 20, 30], 100, 200)"
            ]
          },
          "metadata": {},
          "execution_count": 105
        }
      ]
    },
    {
      "cell_type": "code",
      "source": [
        "a[0] = 1000\n",
        "b"
      ],
      "metadata": {
        "colab": {
          "base_uri": "https://localhost:8080/"
        },
        "id": "jLZzp1EtExLg",
        "outputId": "3ea8d0ad-fd94-4551-ef0a-ebc07d278485"
      },
      "execution_count": null,
      "outputs": [
        {
          "output_type": "execute_result",
          "data": {
            "text/plain": [
              "([1000, 20, 30], 100, 200)"
            ]
          },
          "metadata": {},
          "execution_count": 106
        }
      ]
    },
    {
      "cell_type": "code",
      "source": [
        "t = (10, 20, 30)\n",
        "dir(t)\n",
        "\n",
        "'count'\n",
        "'index'"
      ],
      "metadata": {
        "id": "qIrRROJBFZNU"
      },
      "execution_count": null,
      "outputs": []
    },
    {
      "cell_type": "code",
      "source": [
        "t.count(10) # 10의 갯수를 반환\n",
        "t.index(10) # 10의 위치를 반환"
      ],
      "metadata": {
        "id": "8KD1BWxFFvbK"
      },
      "execution_count": null,
      "outputs": []
    },
    {
      "cell_type": "code",
      "source": [
        "tuple([10, 20, 30])"
      ],
      "metadata": {
        "colab": {
          "base_uri": "https://localhost:8080/"
        },
        "id": "LoWM_YTNGB3z",
        "outputId": "1b440399-056f-43f0-8abd-8c49edc733c7"
      },
      "execution_count": null,
      "outputs": [
        {
          "output_type": "execute_result",
          "data": {
            "text/plain": [
              "(10, 20, 30)"
            ]
          },
          "metadata": {},
          "execution_count": 108
        }
      ]
    },
    {
      "cell_type": "code",
      "source": [
        "# tuple(순회가능한객체)\n",
        "# list(순회가능한객체)\n",
        "\n",
        "tuple('hello world')\n",
        "list('hello world')"
      ],
      "metadata": {
        "colab": {
          "base_uri": "https://localhost:8080/"
        },
        "id": "LGIpyPJOGIhF",
        "outputId": "ca739911-ee20-4071-f3d6-b44398dea1ed"
      },
      "execution_count": null,
      "outputs": [
        {
          "output_type": "execute_result",
          "data": {
            "text/plain": [
              "['h', 'e', 'l', 'l', 'o', ' ', 'w', 'o', 'r', 'l', 'd']"
            ]
          },
          "metadata": {},
          "execution_count": 110
        }
      ]
    }
  ]
}
