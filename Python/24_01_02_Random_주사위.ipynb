{
  "nbformat": 4,
  "nbformat_minor": 0,
  "metadata": {
    "colab": {
      "provenance": [],
      "authorship_tag": "ABX9TyPA9Y+aTWnUv4s5sS7AY6kA",
      "include_colab_link": true
    },
    "kernelspec": {
      "name": "python3",
      "display_name": "Python 3"
    },
    "language_info": {
      "name": "python"
    }
  },
  "cells": [
    {
      "cell_type": "markdown",
      "metadata": {
        "id": "view-in-github",
        "colab_type": "text"
      },
      "source": [
        "<a href=\"https://colab.research.google.com/github/soohyun020812/ormcamp/blob/main/24_01_02_Random_%EC%A3%BC%EC%82%AC%EC%9C%84.ipynb\" target=\"_parent\"><img src=\"https://colab.research.google.com/assets/colab-badge.svg\" alt=\"Open In Colab\"/></a>"
      ]
    },
    {
      "cell_type": "markdown",
      "source": [
        "### Randrange() 함수\n",
        "\n",
        "randrange(start, stop[, step])\n",
        "- **`start`**: 범위의 시작값입니다. 이 값은 범위에 포함됩니다. 만약 **`start`**가 생략되면, 기본값은 0이 됩니다.\n",
        "- **`stop`**: 범위의 끝값입니다. 이 값은 범위에 포함되지 않으며, 함수는 **`stop - 1`**까지의 수 중에서 무작위로 선택합니다.\n",
        "- **`step`**: 선택적 매개변수로, 숫자 간의 간격을 지정합니다. 예를 들어, **`step`**이 2이면 함수는 두 숫자 간격으로 무작위 수를 선택합니다."
      ],
      "metadata": {
        "id": "Ik7hF2XD0vaq"
      }
    },
    {
      "cell_type": "code",
      "source": [
        "# 1. 기본 사용법\n",
        "\n",
        "import random\n",
        "\n",
        "# 0~9 까지의 임의의 숫자를 선택하는 코드를 작성\n",
        "# 파이썬의 숫자의 시작은 무조건 0부터 시작\n",
        "# 10으로 입력하면 -1 즉, 9까지 나온다고 보면 됨\n",
        "\n",
        "num = random.randrange(10)\n",
        "print(num)"
      ],
      "metadata": {
        "colab": {
          "base_uri": "https://localhost:8080/"
        },
        "id": "6OwNYq3b1GHL",
        "outputId": "91521f4d-f8df-4f31-a77a-5a1857d73731"
      },
      "execution_count": null,
      "outputs": [
        {
          "output_type": "stream",
          "name": "stdout",
          "text": [
            "2\n"
          ]
        }
      ]
    },
    {
      "cell_type": "code",
      "source": [
        "# 1.2 시작값과 끝값을 지정\n",
        "num_2 = random.randrange(10, 20)\n",
        "print(num_2)\n",
        "\n",
        "# 로또 번호\n",
        "num ="
      ],
      "metadata": {
        "colab": {
          "base_uri": "https://localhost:8080/"
        },
        "id": "GOO6PJx_1LSO",
        "outputId": "9099d2a3-e7e4-4fd1-9c35-f6a81fc8659e"
      },
      "execution_count": null,
      "outputs": [
        {
          "output_type": "stream",
          "name": "stdout",
          "text": [
            "10\n"
          ]
        }
      ]
    },
    {
      "cell_type": "code",
      "source": [
        "# 1.3. 간격 설정\n",
        "# 10부터 100까지 숫자 중에서 10의 간격으로 무작위 선택\n",
        "\n",
        "num10_100 = random.randrange(10, 101, 10)\n",
        "print(num10_100)"
      ],
      "metadata": {
        "id": "Ky4YKjnD2RgM",
        "colab": {
          "base_uri": "https://localhost:8080/"
        },
        "outputId": "e19d94e9-4490-40d7-c8a5-2d2874ce9380"
      },
      "execution_count": null,
      "outputs": [
        {
          "output_type": "stream",
          "name": "stdout",
          "text": [
            "40\n"
          ]
        }
      ]
    },
    {
      "cell_type": "markdown",
      "source": [
        "### Choice 함수"
      ],
      "metadata": {
        "id": "O05_GTF67WSv"
      }
    },
    {
      "cell_type": "code",
      "source": [
        "#1. Choice 기본 사용법\n",
        "\n",
        "# chosen_element = random.choice(sequence)\n",
        "\n",
        "# 리스트에서 무작위 과일 선택\n",
        "# 다양한 정보를 한번에 받아오는 것 = 리스트\n",
        "elements = ['사과', '바나나', '체리']"
      ],
      "metadata": {
        "id": "9jRI1D9S7cUZ"
      },
      "execution_count": null,
      "outputs": []
    },
    {
      "cell_type": "code",
      "source": [
        "choice_elements = random.choice(elements)\n",
        "print(f'선택된 요소 : {choice_elements} 입니다')"
      ],
      "metadata": {
        "colab": {
          "base_uri": "https://localhost:8080/"
        },
        "id": "PWQmBTma78rw",
        "outputId": "75ba7385-4adf-4c15-8274-33a1b71aedaa"
      },
      "execution_count": null,
      "outputs": [
        {
          "output_type": "stream",
          "name": "stdout",
          "text": [
            "선택된 요소 : 바나나 입니다\n"
          ]
        }
      ]
    },
    {
      "cell_type": "code",
      "source": [
        "# 2. 문자열에서 무작위 문자 선택\n",
        "greeting = \"안녕하세요\"\n",
        "choice_char = random.choice(greeting)\n",
        "print(f\"선택된 문자는 '{choice_char}'입니다.\")"
      ],
      "metadata": {
        "colab": {
          "base_uri": "https://localhost:8080/"
        },
        "id": "J9AOsVo57_ai",
        "outputId": "a5e6d748-66c4-4b4a-d0c1-e43cbf9792e0"
      },
      "execution_count": null,
      "outputs": [
        {
          "output_type": "stream",
          "name": "stdout",
          "text": [
            "선택된 문자는 '안'입니다.\n"
          ]
        }
      ]
    },
    {
      "cell_type": "code",
      "source": [
        "# 이 코드는 Random 라이브러리를 사용한 예시입니다.\n",
        "import random  # random 라이브러리를 가져옴\n",
        "\n",
        "\n",
        "# random_number1, random_number2 라는 변수에 1~9 까지 무작위 정수형 숫자가 할당됨\n",
        "random_number1 = random.randint(1, 10)\n",
        "random_number2 = random.randint(1, 10)\n",
        "\n",
        "# 무작위 생성된 두 숫자의 합 할당\n",
        "sum_of_numbers = random_number1 + random_number2\n",
        "\n",
        "# 결과출력\n",
        "print(f\"첫 번째 생성된 숫자: {random_number1}\")   # 첫번째 무작위 생성된 정수값 출력\n",
        "print(f\"두 번째 생성된 숫자: {random_number2}\")   # 두번째 무작위 생성된 정수값 출력\n",
        "print(f\"두 숫자의 합: {sum_of_numbers}\")          # 두 값 합 출력"
      ],
      "metadata": {
        "colab": {
          "base_uri": "https://localhost:8080/"
        },
        "id": "--L9jHLa_jgy",
        "outputId": "5ffb71e4-9b65-44b1-c481-eb78a21e6bf7"
      },
      "execution_count": null,
      "outputs": [
        {
          "output_type": "stream",
          "name": "stdout",
          "text": [
            "첫 번째 생성된 숫자: 8\n",
            "두 번째 생성된 숫자: 7\n",
            "두 숫자의 합: 15\n"
          ]
        }
      ]
    },
    {
      "cell_type": "code",
      "source": [
        "# 랜덤 주사위 게임 만들기\n",
        "import random\n",
        "\n",
        "# 랜덤 주사위값 생성\n",
        "dice1 = random.randrange(1, 7)\n",
        "dice2 = random.randrange(1, 7)\n",
        "\n",
        "# 두 주사위 결과값 total에 할당\n",
        "total = dice1 + dice2\n",
        "\n",
        "# 출력\n",
        "print(f\"첫번째 주사위 값 : {dice1}\")\n",
        "print(f\"두번째 주사위 값 : {dice2}\")\n",
        "print(f\"주사위 결과: {dice1} + {dice2} = {total}\")"
      ],
      "metadata": {
        "colab": {
          "base_uri": "https://localhost:8080/"
        },
        "id": "6h5NmoeLnKIa",
        "outputId": "f7095891-edd1-421a-c1f9-ec2083e1067b"
      },
      "execution_count": null,
      "outputs": [
        {
          "output_type": "stream",
          "name": "stdout",
          "text": [
            "첫번째 주사위 값 : 6\n",
            "두번째 주사위 값 : 4\n",
            "주사위 결과: 6 + 4 = 10\n"
          ]
        }
      ]
    },
    {
      "cell_type": "markdown",
      "source": [
        "- 윷은 앞,뒤 하나를 선택해야 한다\\\n",
        "윷은 랜덤으로 하나가 선택됨\n",
        "\n",
        "- 윷놀이에는 다섯가지 이동 법칙이 있다 (빽도 제외)\\\n",
        "도, 개, 걸, 윷, 모\\\n",
        "앞3뒤1, 앞2뒤2, 앞1뒤3, 앞0뒤4, 앞4뒤0"
      ],
      "metadata": {
        "id": "Xn4SKp0IKjJs"
      }
    },
    {
      "cell_type": "code",
      "source": [
        "import random\n",
        "\n",
        "# 윷 던지기 결과 (0:앞, 1:뒤)\n",
        "throw1 = random.choice([0,1])\n",
        "throw2 = random.choice([0,1])\n",
        "throw3 = random.choice([0,1])\n",
        "throw4 = random.choice([0,1])\n",
        "\n",
        "# 뒷면의 총 개수 계산\n",
        "total_back = throw1 + throw2 + throw3 + throw4\n",
        "\n",
        "도 = 4\n",
        "개 = 3\n",
        "걸 = 2\n",
        "윷 = 1\n",
        "모 = 0\n",
        "\n",
        "# 윷놀이 결과\n",
        "result = ['도','개','걸','윷','모']\n",
        "print(result[total_back])"
      ],
      "metadata": {
        "id": "R1eYvMsiNki1",
        "colab": {
          "base_uri": "https://localhost:8080/"
        },
        "outputId": "3dfe976d-1055-4c07-b52d-b88c14c39a8f"
      },
      "execution_count": null,
      "outputs": [
        {
          "output_type": "stream",
          "name": "stdout",
          "text": [
            "윷\n"
          ]
        }
      ]
    },
    {
      "cell_type": "code",
      "source": [],
      "metadata": {
        "id": "x_VuYk7FBVyB"
      },
      "execution_count": null,
      "outputs": []
    }
  ]
}
