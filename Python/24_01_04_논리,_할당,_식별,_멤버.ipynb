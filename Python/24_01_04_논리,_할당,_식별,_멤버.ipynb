{
  "nbformat": 4,
  "nbformat_minor": 0,
  "metadata": {
    "colab": {
      "provenance": []
    },
    "kernelspec": {
      "name": "python3",
      "display_name": "Python 3"
    },
    "language_info": {
      "name": "python"
    }
  },
  "cells": [
    {
      "cell_type": "markdown",
      "source": [
        "### 논리연산자"
      ],
      "metadata": {
        "id": "rrSzeG0tXLvK"
      }
    },
    {
      "cell_type": "code",
      "execution_count": 1,
      "metadata": {
        "colab": {
          "base_uri": "https://localhost:8080/"
        },
        "id": "HaohuVcxXBJn",
        "outputId": "b9875da6-686a-4d01-ad94-d11c8752c265"
      },
      "outputs": [
        {
          "output_type": "stream",
          "name": "stdout",
          "text": [
            "True\n",
            "False\n",
            "False\n",
            "False\n"
          ]
        }
      ],
      "source": [
        "# and 두가지 조건이 모두 참일때만 True\n",
        "# 예 5 > 3 and 4 > 3 -> True\n",
        "# 하나라도 조건이 틀리면 False\n",
        "# 값이 같더라도 ID가 달라서 False 여러가지 상황이 있다.\n",
        "\n",
        "# and 연산자\n",
        "\n",
        "print(True and True)   # 결과: True\n",
        "print(True and False)  # 결과: False\n",
        "print(False and True)  # 결과: False\n",
        "print(False and False) # 결과: False"
      ]
    },
    {
      "cell_type": "code",
      "source": [
        "# and 두가지 조건이 모두 참일때만 True\n",
        "# 예 5 > 3 and 4 < 3 -> True\n",
        "# 하나라도 조건이 맞으면 True\n",
        "\n",
        "# or 연산자\n",
        "\n",
        "print(True or True)   # 결과: True\n",
        "print(True or False)  # 결과: True (and와 차이점)\n",
        "print(False or True)  # 결과: True (and와 차이점)\n",
        "print(False or False) # 결과: False"
      ],
      "metadata": {
        "colab": {
          "base_uri": "https://localhost:8080/"
        },
        "id": "KadC5pWDXQJH",
        "outputId": "7e20096d-3a57-4559-e7f5-500e642bff10"
      },
      "execution_count": 3,
      "outputs": [
        {
          "output_type": "stream",
          "name": "stdout",
          "text": [
            "True\n",
            "True\n",
            "True\n",
            "False\n"
          ]
        }
      ]
    },
    {
      "cell_type": "code",
      "source": [
        "# not 연산자\n",
        "\n",
        "print(not True)  # 결과: False\n",
        "print(not False) # 결과: True"
      ],
      "metadata": {
        "colab": {
          "base_uri": "https://localhost:8080/"
        },
        "id": "RV7J2IAuXVIZ",
        "outputId": "68ea9b65-a7c9-4209-e58a-b84ba287d1e2"
      },
      "execution_count": 4,
      "outputs": [
        {
          "output_type": "stream",
          "name": "stdout",
          "text": [
            "False\n",
            "True\n"
          ]
        }
      ]
    },
    {
      "cell_type": "code",
      "source": [
        "for i in range(101): # 0부터 100까지를 반복합니다.\n",
        "    if i % 3 == 0 and i % 5 == 0:\n",
        "        print(i)"
      ],
      "metadata": {
        "colab": {
          "base_uri": "https://localhost:8080/"
        },
        "id": "TAD3kFjQXcpW",
        "outputId": "ecdaf24e-0ec3-477c-cc88-cce90137b58c"
      },
      "execution_count": 5,
      "outputs": [
        {
          "output_type": "stream",
          "name": "stdout",
          "text": [
            "0\n",
            "15\n",
            "30\n",
            "45\n",
            "60\n",
            "75\n",
            "90\n"
          ]
        }
      ]
    },
    {
      "cell_type": "code",
      "source": [
        "for i in range(101): # 0부터 100까지를 반복합니다.\n",
        "    if i % 3 == 0 or i % 5 == 0:\n",
        "        print(i)"
      ],
      "metadata": {
        "colab": {
          "base_uri": "https://localhost:8080/"
        },
        "id": "L3zxEYUUXgFf",
        "outputId": "32853d8b-1a9f-4cce-95d4-e0ed152ef8a2"
      },
      "execution_count": 6,
      "outputs": [
        {
          "output_type": "stream",
          "name": "stdout",
          "text": [
            "0\n",
            "3\n",
            "5\n",
            "6\n",
            "9\n",
            "10\n",
            "12\n",
            "15\n",
            "18\n",
            "20\n",
            "21\n",
            "24\n",
            "25\n",
            "27\n",
            "30\n",
            "33\n",
            "35\n",
            "36\n",
            "39\n",
            "40\n",
            "42\n",
            "45\n",
            "48\n",
            "50\n",
            "51\n",
            "54\n",
            "55\n",
            "57\n",
            "60\n",
            "63\n",
            "65\n",
            "66\n",
            "69\n",
            "70\n",
            "72\n",
            "75\n",
            "78\n",
            "80\n",
            "81\n",
            "84\n",
            "85\n",
            "87\n",
            "90\n",
            "93\n",
            "95\n",
            "96\n",
            "99\n",
            "100\n"
          ]
        }
      ]
    },
    {
      "cell_type": "code",
      "source": [
        "# 단락평가\n",
        "#  A and B 형태의 연산에서 A가 거짓으로 평가되면 B는 평가되지 않고 바로 False로 결정\n",
        "\n",
        "def test1():\n",
        "    print(\"test1 함수 호출!\")\n",
        "    return False\n",
        "\n",
        "def test2():\n",
        "    print(\"test2 함수 호출!\")\n",
        "    return True\n",
        "\n",
        "result = test1() and test2()\n",
        "print(result)"
      ],
      "metadata": {
        "colab": {
          "base_uri": "https://localhost:8080/"
        },
        "id": "kg-ofNyiXiG5",
        "outputId": "8e3a546b-ed70-4587-810c-47d448c3759d"
      },
      "execution_count": 7,
      "outputs": [
        {
          "output_type": "stream",
          "name": "stdout",
          "text": [
            "test1 함수 호출!\n",
            "False\n"
          ]
        }
      ]
    },
    {
      "cell_type": "code",
      "source": [
        "# A or B 형태의 연산에서 A가 참으로 평가되면, B는 평가되지 않고 바로 True로 결정\n",
        "\n",
        "a = 'hello'\n",
        "b = ''"
      ],
      "metadata": {
        "id": "zNQ8SIO2YHAT"
      },
      "execution_count": 10,
      "outputs": []
    },
    {
      "cell_type": "code",
      "source": [
        "a = 'hello'\n",
        "b = 'world'"
      ],
      "metadata": {
        "id": "hKuTXaH8Yf4O"
      },
      "execution_count": 11,
      "outputs": []
    },
    {
      "cell_type": "code",
      "source": [
        "username = 'soohyun'\n",
        "\n",
        "username = username or '이름을 정하지 않았습니다.'\n",
        "username"
      ],
      "metadata": {
        "colab": {
          "base_uri": "https://localhost:8080/",
          "height": 35
        },
        "id": "Ad43pWplYhy3",
        "outputId": "91ef5b3f-b2c2-44ce-827b-281d955d698e"
      },
      "execution_count": 12,
      "outputs": [
        {
          "output_type": "execute_result",
          "data": {
            "text/plain": [
              "'soohyun'"
            ],
            "application/vnd.google.colaboratory.intrinsic+json": {
              "type": "string"
            }
          },
          "metadata": {},
          "execution_count": 12
        }
      ]
    },
    {
      "cell_type": "code",
      "source": [
        "a = True\n",
        "b = False\n",
        "\n",
        "print(a and b)\n",
        "print(a and b and aa and bb)"
      ],
      "metadata": {
        "colab": {
          "base_uri": "https://localhost:8080/"
        },
        "id": "pF5nZPEJYniG",
        "outputId": "941e5b59-8a0d-49d7-9161-9b94a15e724e"
      },
      "execution_count": 13,
      "outputs": [
        {
          "output_type": "stream",
          "name": "stdout",
          "text": [
            "False\n",
            "False\n"
          ]
        }
      ]
    },
    {
      "cell_type": "code",
      "source": [
        "a = True\n",
        "b = False\n",
        "\n",
        "print(a or b)\n",
        "print(a or b or aa or bb)"
      ],
      "metadata": {
        "colab": {
          "base_uri": "https://localhost:8080/"
        },
        "id": "LDhtJJGKY6nc",
        "outputId": "728e8d42-81bf-44ed-923c-69ce6ac1a450"
      },
      "execution_count": 14,
      "outputs": [
        {
          "output_type": "stream",
          "name": "stdout",
          "text": [
            "True\n",
            "True\n"
          ]
        }
      ]
    },
    {
      "cell_type": "code",
      "source": [
        "a = True\n",
        "b = False\n",
        "c = False\n",
        "\n",
        "a or b and c"
      ],
      "metadata": {
        "colab": {
          "base_uri": "https://localhost:8080/"
        },
        "id": "0WLFYdfIY8tI",
        "outputId": "726d8931-8fda-470f-c553-2664a944ced1"
      },
      "execution_count": 15,
      "outputs": [
        {
          "output_type": "execute_result",
          "data": {
            "text/plain": [
              "True"
            ]
          },
          "metadata": {},
          "execution_count": 15
        }
      ]
    },
    {
      "cell_type": "code",
      "source": [
        "a = True\n",
        "b = False\n",
        "c = False\n",
        "d = True\n",
        "\n",
        "a and b or c and d"
      ],
      "metadata": {
        "colab": {
          "base_uri": "https://localhost:8080/"
        },
        "id": "CxZybv87ZUEZ",
        "outputId": "a65e1e6e-97c4-4fc6-e681-c4c0b56c5dd7"
      },
      "execution_count": 16,
      "outputs": [
        {
          "output_type": "execute_result",
          "data": {
            "text/plain": [
              "False"
            ]
          },
          "metadata": {},
          "execution_count": 16
        }
      ]
    },
    {
      "cell_type": "code",
      "source": [
        "a = True\n",
        "b = False\n",
        "c = False\n",
        "d = True\n",
        "\n",
        "a and not b or c and d\n",
        "(a and (not b)) or (c and d)"
      ],
      "metadata": {
        "colab": {
          "base_uri": "https://localhost:8080/"
        },
        "id": "oLUjPR0YZVrK",
        "outputId": "dcc77a3e-f204-4c53-be13-e578b55bfe03"
      },
      "execution_count": 17,
      "outputs": [
        {
          "output_type": "execute_result",
          "data": {
            "text/plain": [
              "True"
            ]
          },
          "metadata": {},
          "execution_count": 17
        }
      ]
    },
    {
      "cell_type": "markdown",
      "source": [
        "### 할당연산자\n",
        "\n",
        "| 기호 | 이름 | 설명 | 예제 | 동일한 코드 |\n",
        "| --- | --- | --- | --- | --- |\n",
        "| //= | 몫 대입 | 연산자의 왼쪽 변수의 값을 오른쪽 값만큼 나눈 몫을 왼쪽 변수에 할당합니다. | a //= b | a = a // b |\n",
        "| -= | 뺄셈 대입 | 연산자의 왼쪽 변수의 값에서 오른쪽 값을 뺀 결과를 왼쪽 변수에 할당합니다. | a -= b | a = a - b |\n",
        "| **= | 제곱 대입 | 연산자의 왼쪽 변수의 값에서 오른쪽 값만큼 제곱한 결과를 왼쪽 변수에 할당합니다. | a **= b | a = a ** b |\n",
        "| *= | 곱셈 대입 | 연산자의 왼쪽 변수의 값과 오른쪽 값을 곱한 결과를 왼쪽 변수에 할당합니다. | a *= b | a = a * b |\n",
        "| += | 덧셈 대입 | 연산자의 왼쪽 변수 값과 오른쪽 값을 더한 결과를 왼쪽 변수에 할당합니다. | a += b | a = a + b |\n",
        "| %= | 나머지 연산 대입 | 연산자의 왼쪽 변수의 값을 오른쪽 값만큼 나눈 나머지를 왼쪽 변수에 할당합니다. | a %= b | a = a % b |\n",
        "| /= | 나눗셈 대입 | 연산자의 왼쪽 변수의 값을 오른쪽 값만큼 나눈 결과를 왼쪽 변수에 할당합니다. | a /= b | a = a / b |\n",
        "| = | 대입 | 연산자의 오른쪽 값을 왼쪽 변수에 할당합니다. | a = b | a = b |"
      ],
      "metadata": {
        "id": "3fqrHK9RZwqW"
      }
    },
    {
      "cell_type": "code",
      "source": [
        "x = 5\n",
        "y = 2\n",
        "z = 10\n",
        "\n",
        "x += y * z  # y * z 연산 후 x에 값을 할당\n",
        "print(x)"
      ],
      "metadata": {
        "colab": {
          "base_uri": "https://localhost:8080/"
        },
        "id": "AQVB0sHTZq4w",
        "outputId": "a6d6fcb5-77ed-4959-bef5-77255ca9e170"
      },
      "execution_count": 19,
      "outputs": [
        {
          "output_type": "stream",
          "name": "stdout",
          "text": [
            "25\n"
          ]
        }
      ]
    },
    {
      "cell_type": "markdown",
      "source": [
        "### 식별연산자"
      ],
      "metadata": {
        "id": "zLgrOXZ1aea4"
      }
    },
    {
      "cell_type": "code",
      "source": [
        "coffee_employee = \"Brand\"\n",
        "orange_employee = \"Brand\"\n",
        "\n",
        "print(coffee_employee is orange_employee)\n",
        "print(coffee_employee == orange_employee)"
      ],
      "metadata": {
        "colab": {
          "base_uri": "https://localhost:8080/"
        },
        "id": "slcBQRGRaEKK",
        "outputId": "d64782eb-e25c-43e9-e6b5-31659f4982a6"
      },
      "execution_count": 20,
      "outputs": [
        {
          "output_type": "stream",
          "name": "stdout",
          "text": [
            "True\n",
            "True\n"
          ]
        }
      ]
    },
    {
      "cell_type": "code",
      "source": [
        "id(coffee_employee)"
      ],
      "metadata": {
        "colab": {
          "base_uri": "https://localhost:8080/"
        },
        "id": "nNP_g-MPbLem",
        "outputId": "7c5ec1cc-e6ba-4375-889b-7698c6579ca6"
      },
      "execution_count": 21,
      "outputs": [
        {
          "output_type": "execute_result",
          "data": {
            "text/plain": [
              "134227124292208"
            ]
          },
          "metadata": {},
          "execution_count": 21
        }
      ]
    },
    {
      "cell_type": "code",
      "source": [
        "a = [1, 2, 3]\n",
        "b = [1, 2, 3]\n",
        "c = a\n",
        "\n",
        "print('a == b', a == b)\n",
        "print('a == c', a == c)\n",
        "print('a is b', a is b)\n",
        "print('a is c', a is c)"
      ],
      "metadata": {
        "colab": {
          "base_uri": "https://localhost:8080/"
        },
        "id": "Zp2eOoKabNDM",
        "outputId": "18197ddd-691b-480a-c797-be40d706bf45"
      },
      "execution_count": 22,
      "outputs": [
        {
          "output_type": "stream",
          "name": "stdout",
          "text": [
            "a == b True\n",
            "a == c True\n",
            "a is b False\n",
            "a is c True\n"
          ]
        }
      ]
    },
    {
      "cell_type": "code",
      "source": [
        "x = [1, 2, 3]\n",
        "y = x\n",
        "z = [1, 2, 3]"
      ],
      "metadata": {
        "id": "HyriS1j7bPwl"
      },
      "execution_count": 23,
      "outputs": []
    },
    {
      "cell_type": "code",
      "source": [
        "print(id(x))\n",
        "print(id(y))\n",
        "print(id(z))"
      ],
      "metadata": {
        "colab": {
          "base_uri": "https://localhost:8080/"
        },
        "id": "HQ5xzY6PbzkR",
        "outputId": "87b7f5a7-bff1-4998-ee75-b7f05d1134fe"
      },
      "execution_count": 24,
      "outputs": [
        {
          "output_type": "stream",
          "name": "stdout",
          "text": [
            "134227138857920\n",
            "134227138857920\n",
            "134227138639744\n"
          ]
        }
      ]
    },
    {
      "cell_type": "code",
      "source": [
        "x is y\n",
        "# True입니다. 왜냐하면 둘 다 동일한 객체를 참조하고 있기 때문입니다."
      ],
      "metadata": {
        "colab": {
          "base_uri": "https://localhost:8080/"
        },
        "id": "CQDe3isHb4NJ",
        "outputId": "e59fae37-aa09-4dae-ddee-ecd1246b8764"
      },
      "execution_count": 26,
      "outputs": [
        {
          "output_type": "execute_result",
          "data": {
            "text/plain": [
              "True"
            ]
          },
          "metadata": {},
          "execution_count": 26
        }
      ]
    },
    {
      "cell_type": "code",
      "source": [
        "x is z\n",
        "# False입니다. 왜냐하면 둘은 서로 다른 객체를 참조하고 있기 때문입니다."
      ],
      "metadata": {
        "colab": {
          "base_uri": "https://localhost:8080/"
        },
        "id": "TLaTh-LWb7xs",
        "outputId": "081677fa-09cc-4cc1-b3e9-02200cdd41dc"
      },
      "execution_count": 27,
      "outputs": [
        {
          "output_type": "execute_result",
          "data": {
            "text/plain": [
              "False"
            ]
          },
          "metadata": {},
          "execution_count": 27
        }
      ]
    },
    {
      "cell_type": "markdown",
      "source": [
        "### 멤버연산자\n",
        "\n",
        "| in | 값이 목록 안에 있으면 참(True)이에요.  |\n",
        "| --- | --- |\n",
        "| not in | 값이 목록 안에 없으면 참(True)이에요.  |"
      ],
      "metadata": {
        "id": "HeSkxeqecwAZ"
      }
    },
    {
      "cell_type": "code",
      "source": [
        "fruits = [\"사과\", \"바나나\", \"포도\"]\n",
        "\n",
        "print(\"사과\" in fruits) # True, 사과가 목록에 있어서\n",
        "print(\"오렌지\" not in fruits) # True, 오렌지는 목록에 없어서"
      ],
      "metadata": {
        "colab": {
          "base_uri": "https://localhost:8080/"
        },
        "id": "mDfsQRnob96f",
        "outputId": "718ce245-6183-45c7-c9b6-4740567a07d3"
      },
      "execution_count": 28,
      "outputs": [
        {
          "output_type": "stream",
          "name": "stdout",
          "text": [
            "True\n",
            "True\n"
          ]
        }
      ]
    },
    {
      "cell_type": "code",
      "source": [
        "a = [1, 2, 3, 4]\n",
        "b = [1, 2, 3, 4]\n",
        "c = 'hello world'\n",
        "\n",
        "print(1 in a)\n",
        "print(0 not in a)\n",
        "print([2] in b)\n",
        "print([1, 2] in b)\n",
        "print('h' in c)\n",
        "print('hello ' in c)"
      ],
      "metadata": {
        "colab": {
          "base_uri": "https://localhost:8080/"
        },
        "id": "yO3gLuSKdDZq",
        "outputId": "102711f3-55e1-4b4c-f0db-3fdc85a29b73"
      },
      "execution_count": 29,
      "outputs": [
        {
          "output_type": "stream",
          "name": "stdout",
          "text": [
            "True\n",
            "True\n",
            "False\n",
            "False\n",
            "True\n",
            "True\n"
          ]
        }
      ]
    },
    {
      "cell_type": "code",
      "source": [
        "a = {'key1': 'value1', 'key2': 'value2'} #딕셔너리\n",
        "b = {10, 10, 20}\n",
        "10 in b # 출력: True\n",
        "{10} in b # 출력: False, 주의\n",
        "{10, 20} in b # 출력: False, 주의\n",
        "\n",
        "'key1' in a # 출력: True\n",
        "'value1' in a # 출력: False\n",
        "('key1', 'key2') in a # 출력: False\n",
        "# {'key1':'value1'} in a # error"
      ],
      "metadata": {
        "colab": {
          "base_uri": "https://localhost:8080/"
        },
        "id": "sG8DM-UKdH7m",
        "outputId": "d85676b8-9ee5-4531-f7f4-09231dcd9e53"
      },
      "execution_count": 32,
      "outputs": [
        {
          "output_type": "execute_result",
          "data": {
            "text/plain": [
              "False"
            ]
          },
          "metadata": {},
          "execution_count": 32
        }
      ]
    },
    {
      "cell_type": "code",
      "source": [
        "'value1' in a.values()"
      ],
      "metadata": {
        "colab": {
          "base_uri": "https://localhost:8080/"
        },
        "id": "uJr9tThHezGw",
        "outputId": "47913e86-7b61-4ece-e2da-7824f72fd946"
      },
      "execution_count": 33,
      "outputs": [
        {
          "output_type": "execute_result",
          "data": {
            "text/plain": [
              "True"
            ]
          },
          "metadata": {},
          "execution_count": 33
        }
      ]
    },
    {
      "cell_type": "markdown",
      "source": [
        "in 연산자는 집합이나 dict에서 좀 더 높은 속도\\\n",
        "= 시간복잡도 측정\\\n",
        "in은 set, dict에서는 O(1)\\\n",
        "list와 tuple에서는 O(n)\n",
        "\n",
        "시간 빠른 순서 : O(1) < O(n) < O(log n) < O(n^2) < O(2^n)"
      ],
      "metadata": {
        "id": "B_VRotqVe_nP"
      }
    },
    {
      "cell_type": "markdown",
      "source": [
        "### 연산과 연산자 우선순위\n",
        "\n",
        "| 순위 | 연산자 기호 | 설명 |\n",
        "| --- | --- | --- |\n",
        "| 1 | (값…), {값…}, [값…], {키:값…} | 튜플, 셋, 리스트, 딕셔너리 생성 |\n",
        "| 2 | x[인덱스], x[인덱스:인덱스], x(인수…), x.속성 | 리스트와 튜플 인덱싱, 슬라이싱, 함수 호출, 속성 참조 |\n",
        "| 3 | await x | await 표현식 |\n",
        "| 4 | ** | 거듭제곱 |\n",
        "| 5 | +, -, ~ | 부호, 비트 NOT |\n",
        "| 6 | *, /, //, %, @ | 곱하기, 나누기, 내림 나눗셈, 나머지, 행렬 곱셈(numpy 등에서 활용) |\n",
        "| 7 | +, - | 더하기, 빼기 |\n",
        "| 8 | <<, >> | 쉬프트 연산 |\n",
        "| 9 | & | 비트연산 AND |\n",
        "| 10 | ^ | 비트연산 OR |\n",
        "| 11 |  in, not in, is, is not,                              \n",
        "<, ≤, >, ≥, ==, != | 멤버 연산자 식별 연산자 비교 연산자 |\n",
        "| 12 | not | 논리 부정 |\n",
        "| 13 | and | 논리 AND |\n",
        "| 14 | or | 논리 OR |\n",
        "| 15 | if else | 조건부 표현식 |\n",
        "| 16 | lambda | 람다 표현식 |\n",
        "| 17 | := | 할당 표현식 |"
      ],
      "metadata": {
        "id": "dy3DX0hNf3cv"
      }
    },
    {
      "cell_type": "code",
      "source": [
        "-2 ** 2"
      ],
      "metadata": {
        "colab": {
          "base_uri": "https://localhost:8080/"
        },
        "id": "fVY8Zq0df04V",
        "outputId": "7f7d3301-7f73-4018-c63c-b3beac139423"
      },
      "execution_count": 34,
      "outputs": [
        {
          "output_type": "execute_result",
          "data": {
            "text/plain": [
              "-4"
            ]
          },
          "metadata": {},
          "execution_count": 34
        }
      ]
    },
    {
      "cell_type": "code",
      "source": [
        "True * True and True + False"
      ],
      "metadata": {
        "colab": {
          "base_uri": "https://localhost:8080/"
        },
        "id": "hxFyBaocgkAI",
        "outputId": "dd2e8a8c-6e09-48bb-efdf-c1ab7b8f279a"
      },
      "execution_count": 35,
      "outputs": [
        {
          "output_type": "execute_result",
          "data": {
            "text/plain": [
              "1"
            ]
          },
          "metadata": {},
          "execution_count": 35
        }
      ]
    },
    {
      "cell_type": "code",
      "source": [
        "# 복합 할당 연산자가 가장 나중입니다!\n",
        "a = 10\n",
        "a *= 10 + 100\n",
        "a"
      ],
      "metadata": {
        "colab": {
          "base_uri": "https://localhost:8080/"
        },
        "id": "m6jW37yUglgI",
        "outputId": "5a053416-a13d-4817-9afb-2db419b3e512"
      },
      "execution_count": 36,
      "outputs": [
        {
          "output_type": "execute_result",
          "data": {
            "text/plain": [
              "1100"
            ]
          },
          "metadata": {},
          "execution_count": 36
        }
      ]
    },
    {
      "cell_type": "code",
      "source": [],
      "metadata": {
        "id": "ytpo9-MSgnmc"
      },
      "execution_count": null,
      "outputs": []
    }
  ]
}
