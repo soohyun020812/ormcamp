{
  "nbformat": 4,
  "nbformat_minor": 0,
  "metadata": {
    "colab": {
      "provenance": []
    },
    "kernelspec": {
      "name": "python3",
      "display_name": "Python 3"
    },
    "language_info": {
      "name": "python"
    }
  },
  "cells": [
    {
      "cell_type": "markdown",
      "source": [
        "### 함수에서 pass 사용하기\n",
        "\n",
        "- pass 문은 Python에서 아무 것도 하지 않는 구문\n",
        "- pass가 있는 위치에서 어떠한 연산도 수행되지 않음"
      ],
      "metadata": {
        "id": "t1rC7z7M9Jvq"
      }
    },
    {
      "cell_type": "code",
      "source": [
        "# TODO 어떠한 일을 해야 합니다.\n",
        "def my_function():\n",
        "    pass\n",
        "\n",
        "# my_function은 아무런 동작도 수행하지 않는 함수"
      ],
      "metadata": {
        "id": "4S_lQOMC9Rmw"
      },
      "execution_count": 2,
      "outputs": []
    },
    {
      "cell_type": "code",
      "source": [],
      "metadata": {
        "id": "4USx1W6F9S5O"
      },
      "execution_count": null,
      "outputs": []
    }
  ]
}
