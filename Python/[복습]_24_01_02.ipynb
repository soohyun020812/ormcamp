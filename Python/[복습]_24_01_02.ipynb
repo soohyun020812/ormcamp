{
  "nbformat": 4,
  "nbformat_minor": 0,
  "metadata": {
    "colab": {
      "provenance": [],
      "authorship_tag": "ABX9TyM5N/0js8g1VtvSUCR34j7l",
      "include_colab_link": true
    },
    "kernelspec": {
      "name": "python3",
      "display_name": "Python 3"
    },
    "language_info": {
      "name": "python"
    }
  },
  "cells": [
    {
      "cell_type": "markdown",
      "metadata": {
        "id": "view-in-github",
        "colab_type": "text"
      },
      "source": [
        "<a href=\"https://colab.research.google.com/github/soohyun020812/ormcamp/blob/main/%5B%EB%B3%B5%EC%8A%B5%5D_24_01_02.ipynb\" target=\"_parent\"><img src=\"https://colab.research.google.com/assets/colab-badge.svg\" alt=\"Open In Colab\"/></a>"
      ]
    },
    {
      "cell_type": "code",
      "execution_count": 13,
      "metadata": {
        "colab": {
          "base_uri": "https://localhost:8080/"
        },
        "id": "nKQ37spgX_zf",
        "outputId": "7b111419-af9d-4ff8-fae7-e1a1c5b2d20b"
      },
      "outputs": [
        {
          "output_type": "stream",
          "name": "stdout",
          "text": [
            "2019/04/26 11:34:27\n"
          ]
        }
      ],
      "source": [
        "# 문제9 : sep과 end를활용한 출력방법\n",
        "# 다음 소스 코드를 완성하여 날짜와 시간을 출력하시오.\n",
        "\n",
        "year = '2019'\n",
        "month = '04'\n",
        "day = '26'\n",
        "hour = '11'\n",
        "minute = '34'\n",
        "second = '27'\n",
        "\n",
        "'''\n",
        "print(year, month, day, )\n",
        "print(hour, minute, second, )\n",
        "\n",
        "2019/04/26 11:34:27\n",
        "'''\n",
        "\n",
        "print(year, month, day, sep=\"/\", end=\" \")\n",
        "print(hour, minute, second, sep=\":\")"
      ]
    },
    {
      "cell_type": "code",
      "source": [
        "# 문제15 : 자기소개\n",
        "\n",
        "'''\n",
        "신학기가 시작되고, 아이들이 돌아가면서 자기소개를 하기로 했습니다.\n",
        "만약 입력으로 `김다정`이라는 이름이 주어지면\n",
        "```python\n",
        "안녕하세요. 저는 김다정입니다.\n",
        "```\n",
        "라고 출력하게 해주세요.\n",
        "'''\n",
        "\n",
        "name = input()\n",
        "\n",
        "print(\"안녕하세요. 저는 {}입니다.\" .format(name))"
      ],
      "metadata": {
        "colab": {
          "base_uri": "https://localhost:8080/"
        },
        "id": "CgxjMI6BYsp3",
        "outputId": "71a69a64-f681-4ac8-cd17-cb715b768ab8"
      },
      "execution_count": 14,
      "outputs": [
        {
          "output_type": "stream",
          "name": "stdout",
          "text": [
            "이수현\n",
            "안녕하세요. 저는 이수현입니다.\n"
          ]
        }
      ]
    },
    {
      "cell_type": "code",
      "source": [
        "# # 문제23 : OX문제\n",
        "# print(10/2)의 출력 결과는 **5**이다.\n",
        "\n",
        "# X (5.0)"
      ],
      "metadata": {
        "id": "p1JmAEL-ZpBx"
      },
      "execution_count": 15,
      "outputs": []
    },
    {
      "cell_type": "code",
      "source": [
        "# 문제39 : 오타 수정하기\n",
        "\n",
        "'''\n",
        "혜원이는 평소 영타가 빠르고 정확한 것을 친구들에게 자랑하고 다녔습니다.\n",
        "반 친구들이 혜원이의 타자 속도가 빠르다는 것을 모두 알게 되자 혜원이는 모두의 앞에서 타자 실력을 보여주게 됩니다.\n",
        "\n",
        "그런데 막상 보여주려니 긴장이 되서 문장의 모든 e를 q로, n을 b로 잘못 친 것을 발견했습니다.\n",
        "혜원이는 프로그램을 돌려 재빠르게 모든 q를 e로, b를 n으로 바꾸는 프로그램을 작성하려고 합니다.\n",
        "\n",
        "문장이 입력되면 모든 q를 e로, b를 n으로 바꾸는 프로그램을 작성해 주세요.\n",
        "완성하려는 문장 안에 q나 b가 들어가지 않는다고 가정합니다.\n",
        "\n",
        "입출력\n",
        "\n",
        "입력 : querty\n",
        "출력 : euerty\n",
        "\n",
        "입력 : hqllo my bamq is hyqwob\n",
        "출력 : hello my bame is hyewob\n",
        "'''\n",
        "\n",
        "# 문자열을 입력받기\n",
        "data = input(\"입력하세요 : \")\n",
        "\n",
        "# 입력된 문자열에서 'q'를 'e'로, 'b'를 'n'으로 바꿈\n",
        "result = data.replace('q', 'e').replace('b', 'n')\n",
        "\n",
        "# 결과\n",
        "print(\"오타를 수정하였습니다. : \", result)"
      ],
      "metadata": {
        "colab": {
          "base_uri": "https://localhost:8080/"
        },
        "id": "eDmZ-F_CZ2gs",
        "outputId": "dc78fe11-48bd-43a2-8f5a-e5595366e492"
      },
      "execution_count": 27,
      "outputs": [
        {
          "output_type": "stream",
          "name": "stdout",
          "text": [
            "입력하세요 : hqllo my bamq is hyqwob\n",
            "오타를 수정하였습니다. :  hello my name is hyewon\n"
          ]
        }
      ]
    },
    {
      "cell_type": "code",
      "source": [],
      "metadata": {
        "id": "TRJ1DIWzaPFo"
      },
      "execution_count": null,
      "outputs": []
    }
  ]
}
