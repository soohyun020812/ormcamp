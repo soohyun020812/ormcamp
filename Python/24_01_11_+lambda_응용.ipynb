{
  "cells": [
    {
      "cell_type": "code",
      "execution_count": 1,
      "metadata": {
        "id": "x0wu1FI2QGmr"
      },
      "outputs": [],
      "source": [
        "def hello():\n",
        "    '''\n",
        "    독스트링(Docstring)\n",
        "    코드의 문서화와 편리한 문서 참조를 위해 기본 기능\n",
        "    함수, 클래스, 모듈의 목적과 이를 이용할 때 필요한 세부 정보들을 담는 것\n",
        "    '''\n",
        "    pass"
      ]
    },
    {
      "cell_type": "code",
      "source": [
        "print(type(hello)) # 함수도 class"
      ],
      "metadata": {
        "colab": {
          "base_uri": "https://localhost:8080/"
        },
        "id": "-enPb4IE5xLQ",
        "outputId": "e5250ed5-439f-4a6d-fa70-66565c259441"
      },
      "execution_count": 2,
      "outputs": [
        {
          "output_type": "stream",
          "name": "stdout",
          "text": [
            "<class 'function'>\n"
          ]
        }
      ]
    },
    {
      "cell_type": "code",
      "source": [
        "a = 10\n",
        "# a는 int에 인스턴스"
      ],
      "metadata": {
        "id": "YXkWfXHR59en"
      },
      "execution_count": 3,
      "outputs": []
    },
    {
      "cell_type": "code",
      "source": [
        "l = [a, a, a]\n",
        "l[2]"
      ],
      "metadata": {
        "colab": {
          "base_uri": "https://localhost:8080/"
        },
        "id": "XHSsSW1s6Qvd",
        "outputId": "c32a1e73-d00c-4aea-d1a8-1dd890cb302e"
      },
      "execution_count": 4,
      "outputs": [
        {
          "output_type": "execute_result",
          "data": {
            "text/plain": [
              "10"
            ]
          },
          "metadata": {},
          "execution_count": 4
        }
      ]
    },
    {
      "cell_type": "code",
      "source": [
        "print(\"hello world\") # built-in function"
      ],
      "metadata": {
        "colab": {
          "base_uri": "https://localhost:8080/"
        },
        "id": "tNtiwNOQ6HVu",
        "outputId": "229cf7f0-9918-4eaa-8323-daa08e51b891"
      },
      "execution_count": 5,
      "outputs": [
        {
          "output_type": "stream",
          "name": "stdout",
          "text": [
            "hello world\n"
          ]
        }
      ]
    },
    {
      "cell_type": "code",
      "source": [
        "l = [print, print, print]\n",
        "l[2]"
      ],
      "metadata": {
        "colab": {
          "base_uri": "https://localhost:8080/"
        },
        "id": "kcZahdjE6PIl",
        "outputId": "184d695b-e14a-4443-a658-0a7aaa45ffe1"
      },
      "execution_count": 6,
      "outputs": [
        {
          "output_type": "execute_result",
          "data": {
            "text/plain": [
              "<function print>"
            ]
          },
          "metadata": {},
          "execution_count": 6
        }
      ]
    },
    {
      "cell_type": "code",
      "source": [
        "l = [print, print, print]\n",
        "l[2](\"hello world\")"
      ],
      "metadata": {
        "colab": {
          "base_uri": "https://localhost:8080/"
        },
        "id": "xk8fYtUR6cvI",
        "outputId": "f44ba0e8-2f79-4718-bdda-9c415320c4d6"
      },
      "execution_count": 7,
      "outputs": [
        {
          "output_type": "stream",
          "name": "stdout",
          "text": [
            "hello world\n"
          ]
        }
      ]
    },
    {
      "cell_type": "code",
      "source": [
        "soohyun = print\n",
        "soohyun(\"hello world\")"
      ],
      "metadata": {
        "colab": {
          "base_uri": "https://localhost:8080/"
        },
        "id": "4OQGjaTQ6i-F",
        "outputId": "16e6c017-2768-4f62-bfed-e5ba621b9bf5"
      },
      "execution_count": 8,
      "outputs": [
        {
          "output_type": "stream",
          "name": "stdout",
          "text": [
            "hello world\n"
          ]
        }
      ]
    },
    {
      "cell_type": "markdown",
      "source": [
        "### labmda의 응용\n",
        "    - map에서 사용"
      ],
      "metadata": {
        "id": "7QGSRWTJCmQa"
      }
    },
    {
      "cell_type": "code",
      "source": [
        "홀수 = lambda x : x % 2\n",
        "홀수(3)"
      ],
      "metadata": {
        "colab": {
          "base_uri": "https://localhost:8080/"
        },
        "id": "JLKwbv0yJ7hR",
        "outputId": "0d7afd85-fcca-42d4-8bf0-554bd83d3407"
      },
      "execution_count": 36,
      "outputs": [
        {
          "output_type": "execute_result",
          "data": {
            "text/plain": [
              "1"
            ]
          },
          "metadata": {},
          "execution_count": 36
        }
      ]
    },
    {
      "cell_type": "code",
      "source": [
        "add = lambda x, y : x + y\n",
        "add(3, 5)"
      ],
      "metadata": {
        "colab": {
          "base_uri": "https://localhost:8080/"
        },
        "id": "lRQpFZf6Kfb1",
        "outputId": "ec442dd0-53b6-40fa-90fa-c85043b1c674"
      },
      "execution_count": 37,
      "outputs": [
        {
          "output_type": "execute_result",
          "data": {
            "text/plain": [
              "8"
            ]
          },
          "metadata": {},
          "execution_count": 37
        }
      ]
    },
    {
      "cell_type": "code",
      "source": [
        "add = lambda x, y: x + y"
      ],
      "metadata": {
        "id": "Sb_8o4D47WoW"
      },
      "execution_count": 10,
      "outputs": []
    },
    {
      "cell_type": "code",
      "source": [
        "# 코드가 이해가 안된다 => 이해할려고 노력하는 것 보다는\n",
        "# 예제를 30개 정도 만들어보시는 것을 권합니다.\n",
        "# Django 어려우면 30개 만들어보세요.\n",
        "# lambda 어려우면 30개 만들어보세요. 30개가 어려우면 50개\n",
        "# lambda x: x **2\n",
        "# lambda x, y: x + y ..."
      ],
      "metadata": {
        "id": "bkoKUWJD7kBs"
      },
      "execution_count": 11,
      "outputs": []
    },
    {
      "cell_type": "code",
      "source": [
        "# lambda + 3항 연산자 많이 사용합니다.\n",
        "x = 10\n",
        "y = True if x % 2 == 0 else False\n",
        "\n",
        "y"
      ],
      "metadata": {
        "id": "tmNMKyr-85yo",
        "colab": {
          "base_uri": "https://localhost:8080/"
        },
        "outputId": "f5558b08-a4a5-437e-b308-0a08b5256ce2"
      },
      "execution_count": 12,
      "outputs": [
        {
          "output_type": "execute_result",
          "data": {
            "text/plain": [
              "True"
            ]
          },
          "metadata": {},
          "execution_count": 12
        }
      ]
    },
    {
      "cell_type": "code",
      "source": [
        "# 재사용 할 것이면 이렇게 함수로\n",
        "\n",
        "def 제곱(x):\n",
        "    return x ** 2\n",
        "\n",
        "list(map(제곱, [1, 2, 3, 4]))"
      ],
      "metadata": {
        "colab": {
          "base_uri": "https://localhost:8080/"
        },
        "id": "ZPCiOda79axj",
        "outputId": "8d65914f-306c-4d27-d78c-6c19871d818b"
      },
      "execution_count": 13,
      "outputs": [
        {
          "output_type": "execute_result",
          "data": {
            "text/plain": [
              "[1, 4, 9, 16]"
            ]
          },
          "metadata": {},
          "execution_count": 13
        }
      ]
    },
    {
      "cell_type": "code",
      "source": [
        "# 재사용 하지 않을 것이면 이렇게 lambda로!\n",
        "# lambda가 실무에서 좀 더 많이 사용됩니다.\n",
        "# 수식이 복잡해지면 재사용과 별개로 lambda로 했을 경우 가독성이 떨어지는 경우도 발생합니다.\n",
        "# 이럴 때에는 함수로 빼기도 합니다.\n",
        "\n",
        "list(map(lambda x: x**2, [1, 2, 3, 4]))"
      ],
      "metadata": {
        "id": "LL7RjVXt9xwa",
        "colab": {
          "base_uri": "https://localhost:8080/"
        },
        "outputId": "667ed75f-8df0-41fe-f516-897d72a0e81c"
      },
      "execution_count": 14,
      "outputs": [
        {
          "output_type": "execute_result",
          "data": {
            "text/plain": [
              "[1, 4, 9, 16]"
            ]
          },
          "metadata": {},
          "execution_count": 14
        }
      ]
    },
    {
      "cell_type": "code",
      "source": [
        "list(map(lambda x: True if x % 2 == 0 else False, [1, 2, 3, 4])) # 마스킹, 필터링"
      ],
      "metadata": {
        "colab": {
          "base_uri": "https://localhost:8080/"
        },
        "id": "J93G3SSR-uid",
        "outputId": "abe72861-36b0-45c6-f273-4e2a4a4f6e26"
      },
      "execution_count": 15,
      "outputs": [
        {
          "output_type": "execute_result",
          "data": {
            "text/plain": [
              "[False, True, False, True]"
            ]
          },
          "metadata": {},
          "execution_count": 15
        }
      ]
    },
    {
      "cell_type": "code",
      "source": [
        "# 알고리즘 문제에서\n",
        "# 얼마나 효율적인지만 봐주시고, 이해는 못하셔도 괜찮습니다.\n",
        "# [True, False, False, False, True]\n",
        "# 에라토스테네스의 체(얼마나 마스킹이 유용한지 알 수 있죠.) => 소수\n",
        "'''\n",
        "[True,  True,   True    True,   True,   True,   True,   True,   True,   True]\n",
        "[0,     1,      2,      3,      4,      5,      6,      7,      8,      9]\n",
        "'''"
      ],
      "metadata": {
        "id": "Yk8b5rdX-0ci",
        "colab": {
          "base_uri": "https://localhost:8080/",
          "height": 53
        },
        "outputId": "4c2295fd-8218-453f-cd4a-5fb7ceb952fa"
      },
      "execution_count": 19,
      "outputs": [
        {
          "output_type": "execute_result",
          "data": {
            "text/plain": [
              "'\\n[True,  True,   True    True,   True,   True,   True,   True,   True,   True]\\n[0,     1,      2,      3,      4,      5,      6,      7,      8,      9]\\n'"
            ],
            "application/vnd.google.colaboratory.intrinsic+json": {
              "type": "string"
            }
          },
          "metadata": {},
          "execution_count": 19
        }
      ]
    },
    {
      "cell_type": "code",
      "source": [
        "'''\n",
        "[False, False,  True    True,   True,   True,   True,   True,   True,   True]\n",
        "[0,     1,      2,      3,      4,      5,      6,      7,      8,      9]\n",
        "'''"
      ],
      "metadata": {
        "id": "oZ8eMnJ0DH31",
        "colab": {
          "base_uri": "https://localhost:8080/",
          "height": 53
        },
        "outputId": "a0505cde-de6d-44de-b4f5-3c15efa46d6c"
      },
      "execution_count": 20,
      "outputs": [
        {
          "output_type": "execute_result",
          "data": {
            "text/plain": [
              "'\\n[False, False,  True    True,   True,   True,   True,   True,   True,   True]\\n[0,     1,      2,      3,      4,      5,      6,      7,      8,      9]\\n'"
            ],
            "application/vnd.google.colaboratory.intrinsic+json": {
              "type": "string"
            }
          },
          "metadata": {},
          "execution_count": 20
        }
      ]
    },
    {
      "cell_type": "code",
      "source": [
        "# 2가 소수가 되면 2의 배수들은 소수가 아닙니다. => 2의 배수는 모두 False로 만듭니다.\n",
        "'''\n",
        "[False, False,  True    True,   False,  True,   False,  True,   False,  True]\n",
        "[0,     1,      2,      3,      4,      5,      6,      7,      8,      9]\n",
        "'''"
      ],
      "metadata": {
        "id": "oDsBzXFfDTqx",
        "colab": {
          "base_uri": "https://localhost:8080/",
          "height": 53
        },
        "outputId": "df66e69b-816a-434c-8e75-faf06d6a36c7"
      },
      "execution_count": 21,
      "outputs": [
        {
          "output_type": "execute_result",
          "data": {
            "text/plain": [
              "'\\n[False, False,  True    True,   False,  True,   False,  True,   False,  True]\\n[0,     1,      2,      3,      4,      5,      6,      7,      8,      9]\\n'"
            ],
            "application/vnd.google.colaboratory.intrinsic+json": {
              "type": "string"
            }
          },
          "metadata": {},
          "execution_count": 21
        }
      ]
    },
    {
      "cell_type": "code",
      "source": [
        "# = 마스킹한 값이 얼마나 효율적인지\n",
        "# 101이 소수이냐?\n",
        "\n",
        "for i in range(2, 101):\n",
        "    if 101 % i == 0:\n",
        "        print('소수아님!')\n",
        "        break\n",
        "else: # else 대신 then으로 하자라는 논의가 활발 => 그러나 else\n",
        "    print('소수임')"
      ],
      "metadata": {
        "id": "MiiR60IuDxgV",
        "colab": {
          "base_uri": "https://localhost:8080/"
        },
        "outputId": "4131ce93-759d-4bc2-ff04-3737f1fb7c97"
      },
      "execution_count": 23,
      "outputs": [
        {
          "output_type": "stream",
          "name": "stdout",
          "text": [
            "소수임\n"
          ]
        }
      ]
    },
    {
      "cell_type": "code",
      "source": [
        "# 에라토스테네스의 체를 파이썬 코드로 표현\n",
        "\n",
        "n=1000\n",
        "a = [False,False] + [True]*(n-1)\n",
        "primes=[]\n",
        "\n",
        "for i in range(2,n+1):\n",
        "  if a[i]:\n",
        "    primes.append(i)\n",
        "    for j in range(2*i, n+1, i):\n",
        "        a[j] = False\n",
        "print(primes)"
      ],
      "metadata": {
        "colab": {
          "base_uri": "https://localhost:8080/"
        },
        "id": "zcwKDtaqE7t-",
        "outputId": "e8c30160-0d22-4281-a1de-c3f67f22c00c"
      },
      "execution_count": 24,
      "outputs": [
        {
          "output_type": "stream",
          "name": "stdout",
          "text": [
            "[2, 3, 5, 7, 11, 13, 17, 19, 23, 29, 31, 37, 41, 43, 47, 53, 59, 61, 67, 71, 73, 79, 83, 89, 97, 101, 103, 107, 109, 113, 127, 131, 137, 139, 149, 151, 157, 163, 167, 173, 179, 181, 191, 193, 197, 199, 211, 223, 227, 229, 233, 239, 241, 251, 257, 263, 269, 271, 277, 281, 283, 293, 307, 311, 313, 317, 331, 337, 347, 349, 353, 359, 367, 373, 379, 383, 389, 397, 401, 409, 419, 421, 431, 433, 439, 443, 449, 457, 461, 463, 467, 479, 487, 491, 499, 503, 509, 521, 523, 541, 547, 557, 563, 569, 571, 577, 587, 593, 599, 601, 607, 613, 617, 619, 631, 641, 643, 647, 653, 659, 661, 673, 677, 683, 691, 701, 709, 719, 727, 733, 739, 743, 751, 757, 761, 769, 773, 787, 797, 809, 811, 821, 823, 827, 829, 839, 853, 857, 859, 863, 877, 881, 883, 887, 907, 911, 919, 929, 937, 941, 947, 953, 967, 971, 977, 983, 991, 997]\n"
          ]
        }
      ]
    },
    {
      "cell_type": "markdown",
      "source": [
        "    - filter에서 사용"
      ],
      "metadata": {
        "id": "NOyodl3RIlZD"
      }
    },
    {
      "cell_type": "code",
      "source": [
        "# filter는 True인것만 출력합니다.\n",
        "list(filter(lambda x: x % 2 == 0, range(100)))"
      ],
      "metadata": {
        "id": "v2y7WbpfFSDS",
        "colab": {
          "base_uri": "https://localhost:8080/"
        },
        "outputId": "95ebb9c3-9e68-4164-d7e9-615c95645cd5"
      },
      "execution_count": 26,
      "outputs": [
        {
          "output_type": "execute_result",
          "data": {
            "text/plain": [
              "[0,\n",
              " 2,\n",
              " 4,\n",
              " 6,\n",
              " 8,\n",
              " 10,\n",
              " 12,\n",
              " 14,\n",
              " 16,\n",
              " 18,\n",
              " 20,\n",
              " 22,\n",
              " 24,\n",
              " 26,\n",
              " 28,\n",
              " 30,\n",
              " 32,\n",
              " 34,\n",
              " 36,\n",
              " 38,\n",
              " 40,\n",
              " 42,\n",
              " 44,\n",
              " 46,\n",
              " 48,\n",
              " 50,\n",
              " 52,\n",
              " 54,\n",
              " 56,\n",
              " 58,\n",
              " 60,\n",
              " 62,\n",
              " 64,\n",
              " 66,\n",
              " 68,\n",
              " 70,\n",
              " 72,\n",
              " 74,\n",
              " 76,\n",
              " 78,\n",
              " 80,\n",
              " 82,\n",
              " 84,\n",
              " 86,\n",
              " 88,\n",
              " 90,\n",
              " 92,\n",
              " 94,\n",
              " 96,\n",
              " 98]"
            ]
          },
          "metadata": {},
          "execution_count": 26
        }
      ]
    },
    {
      "cell_type": "code",
      "source": [
        "list(filter(lambda x: x % 3 == 0, range(100)))"
      ],
      "metadata": {
        "id": "JbGaXU8eGL92",
        "colab": {
          "base_uri": "https://localhost:8080/"
        },
        "outputId": "f635ac0f-8840-4e5e-c342-37f82a28b539"
      },
      "execution_count": 27,
      "outputs": [
        {
          "output_type": "execute_result",
          "data": {
            "text/plain": [
              "[0,\n",
              " 3,\n",
              " 6,\n",
              " 9,\n",
              " 12,\n",
              " 15,\n",
              " 18,\n",
              " 21,\n",
              " 24,\n",
              " 27,\n",
              " 30,\n",
              " 33,\n",
              " 36,\n",
              " 39,\n",
              " 42,\n",
              " 45,\n",
              " 48,\n",
              " 51,\n",
              " 54,\n",
              " 57,\n",
              " 60,\n",
              " 63,\n",
              " 66,\n",
              " 69,\n",
              " 72,\n",
              " 75,\n",
              " 78,\n",
              " 81,\n",
              " 84,\n",
              " 87,\n",
              " 90,\n",
              " 93,\n",
              " 96,\n",
              " 99]"
            ]
          },
          "metadata": {},
          "execution_count": 27
        }
      ]
    },
    {
      "cell_type": "code",
      "source": [
        "list(filter(lambda x: x > 50, range(100)))"
      ],
      "metadata": {
        "id": "ffXzYQxiGNa2",
        "colab": {
          "base_uri": "https://localhost:8080/"
        },
        "outputId": "25728acd-417a-43a7-880a-cbe0dd003f75"
      },
      "execution_count": 28,
      "outputs": [
        {
          "output_type": "execute_result",
          "data": {
            "text/plain": [
              "[51,\n",
              " 52,\n",
              " 53,\n",
              " 54,\n",
              " 55,\n",
              " 56,\n",
              " 57,\n",
              " 58,\n",
              " 59,\n",
              " 60,\n",
              " 61,\n",
              " 62,\n",
              " 63,\n",
              " 64,\n",
              " 65,\n",
              " 66,\n",
              " 67,\n",
              " 68,\n",
              " 69,\n",
              " 70,\n",
              " 71,\n",
              " 72,\n",
              " 73,\n",
              " 74,\n",
              " 75,\n",
              " 76,\n",
              " 77,\n",
              " 78,\n",
              " 79,\n",
              " 80,\n",
              " 81,\n",
              " 82,\n",
              " 83,\n",
              " 84,\n",
              " 85,\n",
              " 86,\n",
              " 87,\n",
              " 88,\n",
              " 89,\n",
              " 90,\n",
              " 91,\n",
              " 92,\n",
              " 93,\n",
              " 94,\n",
              " 95,\n",
              " 96,\n",
              " 97,\n",
              " 98,\n",
              " 99]"
            ]
          },
          "metadata": {},
          "execution_count": 28
        }
      ]
    },
    {
      "cell_type": "code",
      "source": [
        "list(filter(lambda x: x > 50 and x < 80, range(100)))"
      ],
      "metadata": {
        "id": "d98BYj3eGYTP",
        "colab": {
          "base_uri": "https://localhost:8080/"
        },
        "outputId": "d2ce3189-0ff9-4336-ba30-dea8365cd971"
      },
      "execution_count": 29,
      "outputs": [
        {
          "output_type": "execute_result",
          "data": {
            "text/plain": [
              "[51,\n",
              " 52,\n",
              " 53,\n",
              " 54,\n",
              " 55,\n",
              " 56,\n",
              " 57,\n",
              " 58,\n",
              " 59,\n",
              " 60,\n",
              " 61,\n",
              " 62,\n",
              " 63,\n",
              " 64,\n",
              " 65,\n",
              " 66,\n",
              " 67,\n",
              " 68,\n",
              " 69,\n",
              " 70,\n",
              " 71,\n",
              " 72,\n",
              " 73,\n",
              " 74,\n",
              " 75,\n",
              " 76,\n",
              " 77,\n",
              " 78,\n",
              " 79]"
            ]
          },
          "metadata": {},
          "execution_count": 29
        }
      ]
    },
    {
      "cell_type": "code",
      "source": [
        "list(filter(lambda x: True if x % 3 == 0 or x % 5 == 0 else False, range(100)))"
      ],
      "metadata": {
        "colab": {
          "base_uri": "https://localhost:8080/"
        },
        "id": "nWozY4ugGj2Y",
        "outputId": "1c06dac3-4c0f-4207-b4e8-e1287a2265f9"
      },
      "execution_count": 30,
      "outputs": [
        {
          "output_type": "execute_result",
          "data": {
            "text/plain": [
              "[0,\n",
              " 3,\n",
              " 5,\n",
              " 6,\n",
              " 9,\n",
              " 10,\n",
              " 12,\n",
              " 15,\n",
              " 18,\n",
              " 20,\n",
              " 21,\n",
              " 24,\n",
              " 25,\n",
              " 27,\n",
              " 30,\n",
              " 33,\n",
              " 35,\n",
              " 36,\n",
              " 39,\n",
              " 40,\n",
              " 42,\n",
              " 45,\n",
              " 48,\n",
              " 50,\n",
              " 51,\n",
              " 54,\n",
              " 55,\n",
              " 57,\n",
              " 60,\n",
              " 63,\n",
              " 65,\n",
              " 66,\n",
              " 69,\n",
              " 70,\n",
              " 72,\n",
              " 75,\n",
              " 78,\n",
              " 80,\n",
              " 81,\n",
              " 84,\n",
              " 85,\n",
              " 87,\n",
              " 90,\n",
              " 93,\n",
              " 95,\n",
              " 96,\n",
              " 99]"
            ]
          },
          "metadata": {},
          "execution_count": 30
        }
      ]
    },
    {
      "cell_type": "code",
      "source": [
        "# list(filter(lambda x: x % 2 == 0, range(100)))\n",
        "list(filter(lambda x: x % 2, range(100))) # 홀수 출력\n",
        "\n",
        "# [0, 1, 2, 3, 4, 5, 6, 7, 8, 9]\n",
        "# x == 0 => lamda x:x % 2 => 0    # False로 평가\n",
        "# x == 1 => lamda x:x % 2 => 1    # True로 평가\n",
        "# x == 2 => lamda x:x % 2 => 0\n",
        "# x == 3 => lamda x:x % 2 => 1\n",
        "# x == 4 => lamda x:x % 2 => 0\n",
        "# x == 5 => lamda x:x % 2 => 1\n",
        "# x == 6 => lamda x:x % 2 => 0\n",
        "# x == 7 => lamda x:x % 2 => 1\n",
        "# x == 8 => lamda x:x % 2 => 0\n",
        "# x == 9 => lamda x:x % 2 => 1"
      ],
      "metadata": {
        "colab": {
          "base_uri": "https://localhost:8080/"
        },
        "id": "oLnHxfzrG69c",
        "outputId": "431c2c26-2d96-4582-95ed-9a691a4833b4"
      },
      "execution_count": 32,
      "outputs": [
        {
          "output_type": "execute_result",
          "data": {
            "text/plain": [
              "[1,\n",
              " 3,\n",
              " 5,\n",
              " 7,\n",
              " 9,\n",
              " 11,\n",
              " 13,\n",
              " 15,\n",
              " 17,\n",
              " 19,\n",
              " 21,\n",
              " 23,\n",
              " 25,\n",
              " 27,\n",
              " 29,\n",
              " 31,\n",
              " 33,\n",
              " 35,\n",
              " 37,\n",
              " 39,\n",
              " 41,\n",
              " 43,\n",
              " 45,\n",
              " 47,\n",
              " 49,\n",
              " 51,\n",
              " 53,\n",
              " 55,\n",
              " 57,\n",
              " 59,\n",
              " 61,\n",
              " 63,\n",
              " 65,\n",
              " 67,\n",
              " 69,\n",
              " 71,\n",
              " 73,\n",
              " 75,\n",
              " 77,\n",
              " 79,\n",
              " 81,\n",
              " 83,\n",
              " 85,\n",
              " 87,\n",
              " 89,\n",
              " 91,\n",
              " 93,\n",
              " 95,\n",
              " 97,\n",
              " 99]"
            ]
          },
          "metadata": {},
          "execution_count": 32
        }
      ]
    },
    {
      "cell_type": "markdown",
      "source": [
        "    - sorted에서 사용"
      ],
      "metadata": {
        "id": "NKY8FrBgIsy4"
      }
    },
    {
      "cell_type": "code",
      "source": [
        "l = [10, 20, 5, 4, 22, 32, 5, 9, 11]\n",
        "l.sort() # sort를 자주 사용하진 않음 = 원본 변경\n",
        "l"
      ],
      "metadata": {
        "colab": {
          "base_uri": "https://localhost:8080/"
        },
        "id": "JoBXSioTHUzO",
        "outputId": "90ae7419-749b-4c18-e18e-13fa4b8a9e6d"
      },
      "execution_count": 33,
      "outputs": [
        {
          "output_type": "execute_result",
          "data": {
            "text/plain": [
              "[4, 5, 5, 9, 10, 11, 20, 22, 32]"
            ]
          },
          "metadata": {},
          "execution_count": 33
        }
      ]
    },
    {
      "cell_type": "code",
      "source": [
        "l = [10, 20, 5, 4, 22, 32, 5, 9, 11]\n",
        "sorted(l) # sorted의 return값이 정렬된 값\n",
        "l # l은 그대로 = 많이 사용"
      ],
      "metadata": {
        "colab": {
          "base_uri": "https://localhost:8080/"
        },
        "id": "XKWjyedII_lP",
        "outputId": "4c4e1960-5d82-4249-f561-2b70e33f7a47"
      },
      "execution_count": 34,
      "outputs": [
        {
          "output_type": "execute_result",
          "data": {
            "text/plain": [
              "[10, 20, 5, 4, 22, 32, 5, 9, 11]"
            ]
          },
          "metadata": {},
          "execution_count": 34
        }
      ]
    },
    {
      "cell_type": "code",
      "source": [
        "# sorted()\n",
        "\n",
        "# key, reverse 옵션을 많이 사용\n",
        "# 알고리즘 문제에서 단골 문제이고, sorted 문제는 1문제는 거의 출제된다 보면 됨\n",
        "# 최댓값, 최솟값, https://codingdojang.com/scode/408?answer_mode=hide 이것도 최솟값!,\n",
        "# https://school.programmers.co.kr/learn/courses/30/lessons/120835"
      ],
      "metadata": {
        "id": "XSZXtRCqJJwX"
      },
      "execution_count": 40,
      "outputs": []
    },
    {
      "cell_type": "code",
      "source": [
        "# 반별 점수가 주어짐\n",
        "\n",
        "반별점수 = [\n",
        "    ['이름', '국어', '영어', '수학'],\n",
        "    ['이름', '국어', '영어', '수학'],\n",
        "    ['이름', '국어', '영어', '수학'],\n",
        "    ['이름', '국어', '영어', '수학'],\n",
        "]"
      ],
      "metadata": {
        "id": "ZGUlPeg_MChl"
      },
      "execution_count": 48,
      "outputs": []
    },
    {
      "cell_type": "code",
      "source": [
        "# 반별 점수가 주어짐\n",
        "\n",
        "반별점수 = [\n",
        "    [\"짱구\", 30, 55, 22],\n",
        "    [\"맹구\", 55, 60, 73],\n",
        "    [\"철수\", 32, 65, 68],\n",
        "    [\"유리\", 92, 11, 95],\n",
        "]"
      ],
      "metadata": {
        "id": "PnLl8HWELASz"
      },
      "execution_count": 71,
      "outputs": []
    },
    {
      "cell_type": "code",
      "source": [
        "sorted(반별점수) # 값이나 0번째 값 기준으로 정렬\n",
        "# 한글로 정렬을 했을 땐 = 유니코드 순서대로 정렬함"
      ],
      "metadata": {
        "colab": {
          "base_uri": "https://localhost:8080/"
        },
        "id": "kcwMjNPDL-mK",
        "outputId": "16676bbe-30ba-4e05-e16b-f93c6fe5ca7d"
      },
      "execution_count": 63,
      "outputs": [
        {
          "output_type": "execute_result",
          "data": {
            "text/plain": [
              "[['맹구', 55, 60, 73],\n",
              " ['유리', 92, 11, 95],\n",
              " ['짱구', 30, 55, 22],\n",
              " ['철수', 32, 65, 68]]"
            ]
          },
          "metadata": {},
          "execution_count": 63
        }
      ]
    },
    {
      "cell_type": "code",
      "source": [
        "def 함수(x):\n",
        "    return x[3]\n",
        "\n",
        "sorted(반별점수, key=함수)\n",
        "# key 함수의 return 값대로 정렬"
      ],
      "metadata": {
        "colab": {
          "base_uri": "https://localhost:8080/"
        },
        "id": "VMvOfPncMJfM",
        "outputId": "44c7a9b7-a248-4e28-d2de-eb34a5105ba5"
      },
      "execution_count": 60,
      "outputs": [
        {
          "output_type": "execute_result",
          "data": {
            "text/plain": [
              "[['짱구', 30, 55, 22],\n",
              " ['철수', 32, 65, 68],\n",
              " ['맹구', 55, 60, 73],\n",
              " ['유리', 92, 11, 95]]"
            ]
          },
          "metadata": {},
          "execution_count": 60
        }
      ]
    },
    {
      "cell_type": "code",
      "source": [
        "# def 함수(x):\n",
        "#     return x[3]\n",
        "\n",
        "sorted(반별점수, key=lambda x: x[3])"
      ],
      "metadata": {
        "colab": {
          "base_uri": "https://localhost:8080/"
        },
        "id": "CFNVOag2MkTy",
        "outputId": "e2fb7bc7-8dff-45d7-bef7-4ab5634b5beb"
      },
      "execution_count": 61,
      "outputs": [
        {
          "output_type": "execute_result",
          "data": {
            "text/plain": [
              "[['짱구', 30, 55, 22],\n",
              " ['철수', 32, 65, 68],\n",
              " ['맹구', 55, 60, 73],\n",
              " ['유리', 92, 11, 95]]"
            ]
          },
          "metadata": {},
          "execution_count": 61
        }
      ]
    },
    {
      "cell_type": "code",
      "source": [
        "# 문제 : 영어 점수 순서대로 출력\n",
        "sorted(반별점수, key=lambda x : x[2])"
      ],
      "metadata": {
        "colab": {
          "base_uri": "https://localhost:8080/"
        },
        "id": "Ts5K0InSNjfi",
        "outputId": "049b1eaa-7a6d-4194-bbbe-0e4a5a0a9011"
      },
      "execution_count": 64,
      "outputs": [
        {
          "output_type": "execute_result",
          "data": {
            "text/plain": [
              "[['유리', 92, 11, 95],\n",
              " ['짱구', 30, 55, 22],\n",
              " ['맹구', 55, 60, 73],\n",
              " ['철수', 32, 65, 68]]"
            ]
          },
          "metadata": {},
          "execution_count": 64
        }
      ]
    },
    {
      "cell_type": "code",
      "source": [
        "# 문제 : 국, 영, 수 평균 점수 순서대로 출력\n",
        "sorted(반별점수, key= lambda x: x[1] + x[2]+ x[3]) # 나눌 필요 없음"
      ],
      "metadata": {
        "colab": {
          "base_uri": "https://localhost:8080/"
        },
        "id": "yM3OdQkLQkJI",
        "outputId": "f5666793-b9bd-4bae-f6e4-505d6cf3fab0"
      },
      "execution_count": 65,
      "outputs": [
        {
          "output_type": "execute_result",
          "data": {
            "text/plain": [
              "[['짱구', 30, 55, 22],\n",
              " ['철수', 32, 65, 68],\n",
              " ['맹구', 55, 60, 73],\n",
              " ['유리', 92, 11, 95]]"
            ]
          },
          "metadata": {},
          "execution_count": 65
        }
      ]
    },
    {
      "cell_type": "code",
      "source": [
        "sorted(반별점수, key= lambda x: x[1] + x[2]+ x[3], reverse=True)\n",
        "# 내림차순 정렬, 평균 점수가 높은 게 앞으로"
      ],
      "metadata": {
        "colab": {
          "base_uri": "https://localhost:8080/"
        },
        "id": "EWR2FrHMSpX9",
        "outputId": "649d0132-520f-4f96-a9d4-0486955ef19b"
      },
      "execution_count": 68,
      "outputs": [
        {
          "output_type": "execute_result",
          "data": {
            "text/plain": [
              "[['유리', 92, 11, 95],\n",
              " ['맹구', 55, 60, 73],\n",
              " ['철수', 32, 65, 68],\n",
              " ['짱구', 30, 55, 22]]"
            ]
          },
          "metadata": {},
          "execution_count": 68
        }
      ]
    },
    {
      "cell_type": "code",
      "source": [
        "sorted(반별점수, key=lambda x : x[1])"
      ],
      "metadata": {
        "colab": {
          "base_uri": "https://localhost:8080/"
        },
        "id": "2HNKN5AHRjTY",
        "outputId": "02e8633c-1ad5-44d0-a4c2-3ef09f220f67"
      },
      "execution_count": 66,
      "outputs": [
        {
          "output_type": "execute_result",
          "data": {
            "text/plain": [
              "[['짱구', 30, 55, 22],\n",
              " ['철수', 32, 65, 68],\n",
              " ['맹구', 55, 60, 73],\n",
              " ['유리', 92, 11, 95]]"
            ]
          },
          "metadata": {},
          "execution_count": 66
        }
      ]
    },
    {
      "cell_type": "code",
      "source": [
        "# 동점자인 경우 수학 점수를 우선순위로 둠\n",
        "\n",
        "반별점수2 = [\n",
        "    [\"홍길동\", 50, 50, 50],\n",
        "    [\"이철수\", 45, 50, 55],\n",
        "    [\"홍춘향\", 60, 35, 75],\n",
        "    [\"이수현\", 92, 11, 95],\n",
        "]\n",
        "\n",
        "sorted(반별점수2, key= lambda x: x[1] + x[2]+ x[3], reverse=True)\n",
        "# 철수가 길동보다 수학점수가 높은데 길동이 뒤에 있음\n",
        "# 수학점수가 높은 맹구를 앞으로 보내기\n",
        "# 반별점수2 = [\n",
        "#     [\"홍길동\", 50, 50, 50], => (50, 50)\n",
        "#     [\"이철수\", 45, 50, 55], => (50, 55)\n",
        "#     [\"홍춘향\", 60, 35, 75], => ??\n",
        "#     [\"이수현\", 92, 11, 95], => ??\n",
        "# ]"
      ],
      "metadata": {
        "colab": {
          "base_uri": "https://localhost:8080/"
        },
        "id": "D7fRbsjiRm6p",
        "outputId": "3ff69044-a270-4192-f548-4f0b8dca4a74"
      },
      "execution_count": 80,
      "outputs": [
        {
          "output_type": "execute_result",
          "data": {
            "text/plain": [
              "[['이수현', 92, 11, 95],\n",
              " ['홍춘향', 60, 35, 75],\n",
              " ['홍길동', 50, 50, 50],\n",
              " ['이철수', 45, 50, 55]]"
            ]
          },
          "metadata": {},
          "execution_count": 80
        }
      ]
    },
    {
      "cell_type": "code",
      "source": [
        "sorted(반별점수2, key=lambda x: (x[1] + x[2] + x[3], x[3]), reverse=True)\n",
        "# 철수랑 길동이 바뀜"
      ],
      "metadata": {
        "colab": {
          "base_uri": "https://localhost:8080/"
        },
        "id": "gXtJPkXjS6hi",
        "outputId": "19ca75a1-e8fd-48b5-9a97-5fd48bb1aecb"
      },
      "execution_count": 81,
      "outputs": [
        {
          "output_type": "execute_result",
          "data": {
            "text/plain": [
              "[['이수현', 92, 11, 95],\n",
              " ['홍춘향', 60, 35, 75],\n",
              " ['이철수', 45, 50, 55],\n",
              " ['홍길동', 50, 50, 50]]"
            ]
          },
          "metadata": {},
          "execution_count": 81
        }
      ]
    },
    {
      "cell_type": "code",
      "source": [
        "우편번호 = [\n",
        "    {\n",
        "        '주소': '경기도 용인시',\n",
        "        '우편번호': 321\n",
        "    },\n",
        "    {\n",
        "        '주소': '경기도 수원시',\n",
        "        '우편번호': 355\n",
        "    },\n",
        "    {\n",
        "        '주소': '제주특별자치도 제주시',\n",
        "        '우편번호': 333\n",
        "    }\n",
        "]\n",
        "\n",
        "# sorted(우편번호) # error, 비교를 할 수 없음\n",
        "sorted(우편번호, key=lambda x: x[\"우편번호\"])"
      ],
      "metadata": {
        "colab": {
          "base_uri": "https://localhost:8080/"
        },
        "id": "DwYJXwSIThor",
        "outputId": "6071289d-27cd-4394-d7d1-690887869a4d"
      },
      "execution_count": 82,
      "outputs": [
        {
          "output_type": "execute_result",
          "data": {
            "text/plain": [
              "[{'주소': '경기도 용인시', '우편번호': 321},\n",
              " {'주소': '제주특별자치도 제주시', '우편번호': 333},\n",
              " {'주소': '경기도 수원시', '우편번호': 355}]"
            ]
          },
          "metadata": {},
          "execution_count": 82
        }
      ]
    },
    {
      "cell_type": "code",
      "source": [
        "# 입사문제\n",
        "# 아래는 직선에 있는 점의 좌표\n",
        "# 점과 점 사이가 가장 짧은 점의 쌍을 출력\n",
        "\n",
        "s = [1, 3, 4, 8, 13, 17, 20] # 입력값\n",
        "#      2  1  4  5   4   3\n",
        "\n",
        "s[1:]"
      ],
      "metadata": {
        "colab": {
          "base_uri": "https://localhost:8080/"
        },
        "id": "nq8qKRnCUyiV",
        "outputId": "87fbb741-1836-4163-e286-11883d559adb"
      },
      "execution_count": 83,
      "outputs": [
        {
          "output_type": "execute_result",
          "data": {
            "text/plain": [
              "[3, 4, 8, 13, 17, 20]"
            ]
          },
          "metadata": {},
          "execution_count": 83
        }
      ]
    },
    {
      "cell_type": "code",
      "source": [
        "x = list(zip(s, s[1:]))\n",
        "x"
      ],
      "metadata": {
        "colab": {
          "base_uri": "https://localhost:8080/"
        },
        "id": "fz-LbfRGV159",
        "outputId": "0abb9476-014e-4ea5-fa9a-78135d28b054"
      },
      "execution_count": 94,
      "outputs": [
        {
          "output_type": "execute_result",
          "data": {
            "text/plain": [
              "[(1, 3), (3, 4), (4, 8), (8, 13), (13, 17), (17, 20)]"
            ]
          },
          "metadata": {},
          "execution_count": 94
        }
      ]
    },
    {
      "cell_type": "code",
      "source": [
        "sorted(x, key=lambda x: x[1] - x[0])\n",
        "sorted(x, key=lambda x: x[1] - x[0])[0]"
      ],
      "metadata": {
        "colab": {
          "base_uri": "https://localhost:8080/"
        },
        "id": "Lod9nzEtY-oD",
        "outputId": "80baed1c-a5aa-4b00-8c35-ad72c98ad92d"
      },
      "execution_count": 95,
      "outputs": [
        {
          "output_type": "execute_result",
          "data": {
            "text/plain": [
              "(3, 4)"
            ]
          },
          "metadata": {},
          "execution_count": 95
        }
      ]
    },
    {
      "cell_type": "code",
      "source": [
        "# 호준T 코드\n",
        "list(zip(\"hello\", \"world\"))"
      ],
      "metadata": {
        "colab": {
          "base_uri": "https://localhost:8080/"
        },
        "id": "DCKZe3RSWFsi",
        "outputId": "2ee7525f-899f-49f5-8b6f-dbf7057f2622"
      },
      "execution_count": 86,
      "outputs": [
        {
          "output_type": "execute_result",
          "data": {
            "text/plain": [
              "[('h', 'w'), ('e', 'o'), ('l', 'r'), ('l', 'l'), ('o', 'd')]"
            ]
          },
          "metadata": {},
          "execution_count": 86
        }
      ]
    },
    {
      "cell_type": "code",
      "source": [
        "# 앞에 숫자를 부여하고 싶음 : enumerate\n",
        "list(enumerate(zip(\"hello\", \"world\")))"
      ],
      "metadata": {
        "colab": {
          "base_uri": "https://localhost:8080/"
        },
        "id": "ReWr10fWWatV",
        "outputId": "c61e69c1-11cf-4cfe-98d2-49a05a8741d6"
      },
      "execution_count": 87,
      "outputs": [
        {
          "output_type": "execute_result",
          "data": {
            "text/plain": [
              "[(0, ('h', 'w')),\n",
              " (1, ('e', 'o')),\n",
              " (2, ('l', 'r')),\n",
              " (3, ('l', 'l')),\n",
              " (4, ('o', 'd'))]"
            ]
          },
          "metadata": {},
          "execution_count": 87
        }
      ]
    },
    {
      "cell_type": "code",
      "source": [
        "# 제너레이터(generator) = 심화 과정에서 다룸\n",
        "# 반복 가능한 객체(iterator)를 생성\n",
        "\n",
        "def gen():\n",
        "    i = 1\n",
        "    while True:\n",
        "        yield i\n",
        "        i += 1\n",
        "\n",
        "list(zip(gen(), \"hello\", \"world\"))"
      ],
      "metadata": {
        "colab": {
          "base_uri": "https://localhost:8080/"
        },
        "id": "uqoP8O_zWvgh",
        "outputId": "0c278620-852f-4c86-b137-d9aec79adebe"
      },
      "execution_count": 91,
      "outputs": [
        {
          "output_type": "execute_result",
          "data": {
            "text/plain": [
              "[(1, 'h', 'w'), (2, 'e', 'o'), (3, 'l', 'r'), (4, 'l', 'l'), (5, 'o', 'd')]"
            ]
          },
          "metadata": {},
          "execution_count": 91
        }
      ]
    },
    {
      "cell_type": "code",
      "source": [],
      "metadata": {
        "id": "cuqD6SncOjLB"
      },
      "execution_count": null,
      "outputs": []
    }
  ],
  "metadata": {
    "colab": {
      "provenance": []
    },
    "kernelspec": {
      "display_name": "Python 3",
      "name": "python3"
    },
    "language_info": {
      "name": "python"
    }
  },
  "nbformat": 4,
  "nbformat_minor": 0
}
