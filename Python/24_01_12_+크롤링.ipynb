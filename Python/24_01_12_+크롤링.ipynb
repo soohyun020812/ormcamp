{
  "nbformat": 4,
  "nbformat_minor": 0,
  "metadata": {
    "colab": {
      "provenance": []
    },
    "kernelspec": {
      "name": "python3",
      "display_name": "Python 3"
    },
    "language_info": {
      "name": "python"
    }
  },
  "cells": [
    {
      "cell_type": "markdown",
      "source": [
        "### 크롤링 후 클래스에 저장하는 미션"
      ],
      "metadata": {
        "id": "kWbbGfCdP4Cx"
      }
    },
    {
      "cell_type": "code",
      "source": [
        "import requests # 통신을 해서 서버에서 제공해주는 값을 가져올 수 있음\n",
        "from bs4 import BeautifulSoup # 가져온 값을 '파싱' 해주는 모듈\n",
        "\n",
        "response = requests.get('https://paullab.co.kr/bookservice/')\n",
        "soup = BeautifulSoup(response.text, 'html.parser')"
      ],
      "metadata": {
        "id": "DfzUNJafNpah"
      },
      "execution_count": 1,
      "outputs": []
    },
    {
      "cell_type": "code",
      "source": [
        "book_name = soup.select('.book_name')\n",
        "book_info = soup.select('.book_info')"
      ],
      "metadata": {
        "id": "QLmzKqQXUY8D"
      },
      "execution_count": 2,
      "outputs": []
    },
    {
      "cell_type": "code",
      "source": [
        "print(book_name[0].text)\n",
        "print(book_info[0].text)\n",
        "print(book_info[1].text)\n",
        "print(book_info[2].text)"
      ],
      "metadata": {
        "colab": {
          "base_uri": "https://localhost:8080/"
        },
        "id": "Wj4V8SxVV4qB",
        "outputId": "7bc3312d-89d5-498f-d36d-9ab16854c00a"
      },
      "execution_count": 3,
      "outputs": [
        {
          "output_type": "stream",
          "name": "stdout",
          "text": [
            "메모혁신 Notion(노션) 활용 가이드\n",
            "가격: 7,000원\n",
            "저자: 이호준, 이준호, 김혜원, 김유진, 차경림, 김진, 현지연, 정승한\n",
            "Notion의 기본 사용 방법부터 Notion을 활용한 홈페이지 제작 방법까지 다양하게 다루고 있으며 특히 개발자가 원하는 Notion의 활용 방법을 다루고 있습니다.\n"
          ]
        }
      ]
    },
    {
      "cell_type": "code",
      "source": [
        "print(book_name[1].text)\n",
        "print(book_info[3].text)\n",
        "print(book_info[4].text)\n",
        "print(book_info[5].text)"
      ],
      "metadata": {
        "id": "93J1Fx4KW-9_",
        "colab": {
          "base_uri": "https://localhost:8080/"
        },
        "outputId": "249632be-aee5-44ed-f1f6-5567c261018d"
      },
      "execution_count": 4,
      "outputs": [
        {
          "output_type": "stream",
          "name": "stdout",
          "text": [
            "이력서 작성 가이드\n",
            "가격: 10,000원\n",
            "저자: 강혜진, 김유진, 김혜원, 김진, 이범재, 이호준, 원유선, 박누리, 차경림, 최원범, 한재현\n",
            "개발자 역량을 갖추는 것뿐만 아니라 회사에 뽑힐 확률을 높이는 전략과 방법도 필요합니다. 개발자 이력서는 그 첫걸음입니다.\n"
          ]
        }
      ]
    },
    {
      "cell_type": "code",
      "source": [
        "books = []\n",
        "for i, _ in enumerate(book_name):\n",
        "    books.append({\n",
        "        '제목': book_name[i].text,\n",
        "        '가격': book_info[(i*3)].text,\n",
        "        '저자': book_info[(i*3)+1].text,\n",
        "        '설명': book_info[(i*3)+2].text,\n",
        "    })\n",
        "\n",
        "books\n",
        "books[0]['가격'] # books[0].price\n",
        "\n",
        "# 마음에 안드는 포인트들\n",
        "# 1. 가격이 int형이 아님\n",
        "# 2. 가격, 저자가 한 번 더 들어있음\n",
        "# 3. 공백도 포함되어 있음"
      ],
      "metadata": {
        "colab": {
          "base_uri": "https://localhost:8080/",
          "height": 35
        },
        "id": "uRyvj3NkWd11",
        "outputId": "edc35748-3710-4965-991a-5a9368fd0a22"
      },
      "execution_count": 5,
      "outputs": [
        {
          "output_type": "execute_result",
          "data": {
            "text/plain": [
              "'가격: 7,000원'"
            ],
            "application/vnd.google.colaboratory.intrinsic+json": {
              "type": "string"
            }
          },
          "metadata": {},
          "execution_count": 5
        }
      ]
    },
    {
      "cell_type": "code",
      "source": [
        "books = []\n",
        "class Book:\n",
        "    def __init__(self, name='', price=0, author='', info=''):\n",
        "        self.name = name\n",
        "        if price.replace('가격: ', '').replace('원', '').replace(',', '') == '무료':\n",
        "            self.price = 0\n",
        "        else:\n",
        "            self.price = int(price.replace('가격: ', '').replace('원', '').replace(',', ''))\n",
        "        self.author = author\n",
        "        self.info = info\n",
        "\n",
        "    def __str__(self):\n",
        "        return self.name\n",
        "\n",
        "    def __repr__(self):\n",
        "        return self.name\n",
        "\n",
        "for i, _ in enumerate(book_name):\n",
        "    books.append(Book(\n",
        "        book_name[i].text,\n",
        "        book_info[(i*3)].text,\n",
        "        book_info[(i*3)+1].text,\n",
        "        book_info[(i*3)+2].text\n",
        "    ))\n",
        "\n",
        "books\n",
        "books[0].name\n",
        "books[0].price"
      ],
      "metadata": {
        "colab": {
          "base_uri": "https://localhost:8080/"
        },
        "id": "3A8rTLKzX1EX",
        "outputId": "4334b34b-a125-4dfc-8495-e11386aea857"
      },
      "execution_count": 6,
      "outputs": [
        {
          "output_type": "execute_result",
          "data": {
            "text/plain": [
              "7000"
            ]
          },
          "metadata": {},
          "execution_count": 6
        }
      ]
    },
    {
      "cell_type": "code",
      "source": [
        "import requests # 통신을 해서 서버에서 제공해주는 값을 가져올 수 있음\n",
        "from bs4 import BeautifulSoup # 가져온 값을 '파싱'\n",
        "\n",
        "response = requests.get('https://search.naver.com/search.naver?where=nexearch&sm=top_hty&fbm=0&ie=utf8&query=%EC%B5%9C%EC%8B%A0%EC%98%81%ED%99%94')\n",
        "soup = BeautifulSoup(response.text, 'html.parser')"
      ],
      "metadata": {
        "id": "s6DM_qU6aeYE"
      },
      "execution_count": 8,
      "outputs": []
    },
    {
      "cell_type": "code",
      "source": [
        "soup.select('.this_text')[0].text"
      ],
      "metadata": {
        "colab": {
          "base_uri": "https://localhost:8080/",
          "height": 35
        },
        "id": "DpsyIGgrbAFT",
        "outputId": "6603d5e3-13b0-42f8-c4bf-5b0c6a78b060"
      },
      "execution_count": 9,
      "outputs": [
        {
          "output_type": "execute_result",
          "data": {
            "text/plain": [
              "'인투 더 월드'"
            ],
            "application/vnd.google.colaboratory.intrinsic+json": {
              "type": "string"
            }
          },
          "metadata": {},
          "execution_count": 9
        }
      ]
    },
    {
      "cell_type": "code",
      "source": [
        "for i, j in enumerate(soup.select('.this_text'), 1):\n",
        "    print(i, j.text)"
      ],
      "metadata": {
        "colab": {
          "base_uri": "https://localhost:8080/"
        },
        "id": "b9Mp9PavbZGI",
        "outputId": "63d28c87-8631-4d33-9034-54f54bd7f8da"
      },
      "execution_count": 10,
      "outputs": [
        {
          "output_type": "stream",
          "name": "stdout",
          "text": [
            "1 인투 더 월드\n",
            "2 외계+인 2부\n",
            "3 위시\n",
            "4 노량: 죽음의 바다\n",
            "5 서울의 봄\n",
            "6 신차원! 짱구는 못말려 더 무비 초능력 대결전 ~날아라 수제김밥~\n",
            "7 길위에 김대중\n",
            "8 립세의 사계\n",
            "9 새로고침\n"
          ]
        }
      ]
    },
    {
      "cell_type": "code",
      "source": [],
      "metadata": {
        "id": "Qm0a8k-YmLPP"
      },
      "execution_count": null,
      "outputs": []
    }
  ]
}
