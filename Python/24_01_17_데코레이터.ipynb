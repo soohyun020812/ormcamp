{
  "nbformat": 4,
  "nbformat_minor": 0,
  "metadata": {
    "colab": {
      "provenance": []
    },
    "kernelspec": {
      "name": "python3",
      "display_name": "Python 3"
    },
    "language_info": {
      "name": "python"
    }
  },
  "cells": [
    {
      "cell_type": "markdown",
      "source": [
        "### 데코레이터\n",
        "\n",
        "    함수 또는 메서드를 꾸며주는 함수\n",
        "    고차 함수는 하나 이상의 함수를 인자로 받고, 함수를 결과로 반환하는 함수"
      ],
      "metadata": {
        "id": "dFJmvr4__mD9"
      }
    },
    {
      "cell_type": "code",
      "source": [
        "def login(function):\n",
        "    '''\n",
        "    로그인을 확인하는 로직\n",
        "    '''\n",
        "    pass\n",
        "\n",
        "@login\n",
        "def 게시판읽기():\n",
        "    pass"
      ],
      "metadata": {
        "id": "5NoFML_S3Da3"
      },
      "execution_count": 4,
      "outputs": []
    },
    {
      "cell_type": "code",
      "source": [
        "def 동작시간체크(function):\n",
        "    '''\n",
        "    동작 시간을 체크하는 로직\n",
        "    '''\n",
        "    pass\n",
        "\n",
        "@동작시간체크\n",
        "def f():\n",
        "    pass"
      ],
      "metadata": {
        "id": "ePzbutU7_W-Y"
      },
      "execution_count": 1,
      "outputs": []
    },
    {
      "cell_type": "code",
      "source": [
        "def log(function):\n",
        "    '''\n",
        "    DB에 접속 기록을 쌓는 로직\n",
        "    '''\n",
        "    pass\n",
        "\n",
        "@log\n",
        "def f():\n",
        "    pass"
      ],
      "metadata": {
        "id": "ap36ZLsc_hTn"
      },
      "execution_count": 2,
      "outputs": []
    },
    {
      "cell_type": "code",
      "source": [
        "# 왜 데코레이터가 필요한가?\n",
        "# 아래의 코드처럼 작성해도 로직 실행이 가능\n",
        "\n",
        "def login(function):\n",
        "    pass\n",
        "\n",
        "def 게시판읽기():\n",
        "    login()\n",
        "    pass\n",
        "\n",
        "# 데코레이터의 목적 : 가독성과 코드의 분명성을 높이기 위해"
      ],
      "metadata": {
        "id": "ye_Dojp0_xqz"
      },
      "execution_count": 3,
      "outputs": []
    },
    {
      "cell_type": "code",
      "source": [
        "# 데코레이터는 함수가 호출되었을 때 실제 실행되는 함수\n",
        "# 데코레이터의 return 함수가 실행되는 것\n",
        "\n",
        "def simple_decorator(function):\n",
        "    def wrapper():\n",
        "        print(\"전\")\n",
        "        function()\n",
        "        print(\"후\")\n",
        "    return wrapper\n",
        "\n",
        "@simple_decorator\n",
        "def hello():\n",
        "    print(\"Hello, World!\")\n",
        "\n",
        "hello() # 데코레이터가 없는 상태에서는 simple_decorator(hello)() 와 같음"
      ],
      "metadata": {
        "colab": {
          "base_uri": "https://localhost:8080/"
        },
        "id": "1FUKcSA6AJuD",
        "outputId": "4c9c974b-6082-4a0a-a489-a38a2a88ed95"
      },
      "execution_count": 5,
      "outputs": [
        {
          "output_type": "stream",
          "name": "stdout",
          "text": [
            "전\n",
            "Hello, World!\n",
            "후\n"
          ]
        }
      ]
    },
    {
      "cell_type": "code",
      "source": [
        "def hello():\n",
        "    print(\"Hello, World!\")\n",
        "\n",
        "print(\"전\")\n",
        "hello()\n",
        "print(\"후\")"
      ],
      "metadata": {
        "colab": {
          "base_uri": "https://localhost:8080/"
        },
        "id": "ZM6XsdppCm7v",
        "outputId": "45b6c73f-9634-4d0a-dae2-603407f631d3"
      },
      "execution_count": 6,
      "outputs": [
        {
          "output_type": "stream",
          "name": "stdout",
          "text": [
            "전\n",
            "Hello, World!\n",
            "후\n"
          ]
        }
      ]
    },
    {
      "cell_type": "code",
      "source": [
        "def simple_decorator(function):\n",
        "    def wrapper():\n",
        "        print(\"전\")\n",
        "        function()\n",
        "        print(\"후\")\n",
        "    return wrapper\n",
        "\n",
        "def hello():\n",
        "    print(\"Hello, World!\")\n",
        "\n",
        "w = simple_decorator(hello)\n",
        "w()"
      ],
      "metadata": {
        "id": "eRl6pP0TCvJc",
        "colab": {
          "base_uri": "https://localhost:8080/"
        },
        "outputId": "13cd4afe-27f6-4662-c9a8-f61ed1d97a97"
      },
      "execution_count": 7,
      "outputs": [
        {
          "output_type": "stream",
          "name": "stdout",
          "text": [
            "전\n",
            "Hello, World!\n",
            "후\n"
          ]
        }
      ]
    },
    {
      "cell_type": "code",
      "source": [
        "def simple_decorator(function):\n",
        "    def wrapper():\n",
        "        print(\"전\")\n",
        "        function()\n",
        "        print(\"후\")\n",
        "    return wrapper\n",
        "\n",
        "def hello():\n",
        "    print(\"Hello, World!\")\n",
        "\n",
        "simple_decorator(hello)()"
      ],
      "metadata": {
        "colab": {
          "base_uri": "https://localhost:8080/"
        },
        "id": "_s6XGhHYDIt5",
        "outputId": "0d3cb588-907e-4358-c4fd-d50125cf3a71"
      },
      "execution_count": 8,
      "outputs": [
        {
          "output_type": "stream",
          "name": "stdout",
          "text": [
            "전\n",
            "Hello, World!\n",
            "후\n"
          ]
        }
      ]
    },
    {
      "cell_type": "code",
      "source": [
        "def simple_decorator(function):\n",
        "    def wrapper(a, b): # point 1\n",
        "        print('전')\n",
        "        result = function(a, b) # point 2\n",
        "        print(result)\n",
        "        print('후')\n",
        "        return result\n",
        "    return wrapper\n",
        "\n",
        "@simple_decorator\n",
        "def hello(a, b):\n",
        "    return a + b\n",
        "\n",
        "hello(10, 20) # -> simple_decorator(hello)(10, 20) -> wrapper(10, 20)"
      ],
      "metadata": {
        "colab": {
          "base_uri": "https://localhost:8080/"
        },
        "id": "o54MfTDXDscz",
        "outputId": "869ee413-e0f8-4c2c-96ef-f293ec61331c"
      },
      "execution_count": 9,
      "outputs": [
        {
          "output_type": "stream",
          "name": "stdout",
          "text": [
            "전\n",
            "30\n",
            "후\n"
          ]
        },
        {
          "output_type": "execute_result",
          "data": {
            "text/plain": [
              "30"
            ]
          },
          "metadata": {},
          "execution_count": 9
        }
      ]
    },
    {
      "cell_type": "code",
      "execution_count": 10,
      "metadata": {
        "colab": {
          "base_uri": "https://localhost:8080/"
        },
        "id": "XJO7ywzl3TF5",
        "outputId": "aba6c1e1-c544-415a-af8a-d6cc8134f3f4"
      },
      "outputs": [
        {
          "output_type": "stream",
          "name": "stdout",
          "text": [
            "전\n",
            "100\n",
            "후\n"
          ]
        },
        {
          "output_type": "execute_result",
          "data": {
            "text/plain": [
              "100"
            ]
          },
          "metadata": {},
          "execution_count": 10
        }
      ],
      "source": [
        "# 매개변수 다르게 설정\n",
        "# 허나 이처럼 코딩하게 되면 혼란이 가중될 수 있음\n",
        "\n",
        "def simple_decorator(function):\n",
        "    def wrapper(a, b):\n",
        "        print('전')\n",
        "        result = function(a)\n",
        "        print(result)\n",
        "        print('후')\n",
        "        return result\n",
        "    return wrapper\n",
        "\n",
        "@simple_decorator\n",
        "def hello(a):\n",
        "    return a ** 2\n",
        "\n",
        "hello(10, 20)"
      ]
    },
    {
      "cell_type": "code",
      "source": [
        "# 제가 사용하는 데코레이터\n",
        "# step0 : 필요성에 대한 인식\n",
        "\n",
        "sum([1, 2, '3', 4, 5, '6']) # error, 이 코드가 작동 되게 만들고 싶을 때"
      ],
      "metadata": {
        "id": "zUZDNt3JE7Gz",
        "colab": {
          "base_uri": "https://localhost:8080/",
          "height": 219
        },
        "outputId": "08a12f8c-3a2b-4a76-f034-b173a80e12be"
      },
      "execution_count": 11,
      "outputs": [
        {
          "output_type": "error",
          "ename": "TypeError",
          "evalue": "unsupported operand type(s) for +: 'int' and 'str'",
          "traceback": [
            "\u001b[0;31m---------------------------------------------------------------------------\u001b[0m",
            "\u001b[0;31mTypeError\u001b[0m                                 Traceback (most recent call last)",
            "\u001b[0;32m<ipython-input-11-285816a9f9c1>\u001b[0m in \u001b[0;36m<cell line: 4>\u001b[0;34m()\u001b[0m\n\u001b[1;32m      2\u001b[0m \u001b[0;31m# step0 : 필요성에 대한 인식\u001b[0m\u001b[0;34m\u001b[0m\u001b[0;34m\u001b[0m\u001b[0m\n\u001b[1;32m      3\u001b[0m \u001b[0;34m\u001b[0m\u001b[0m\n\u001b[0;32m----> 4\u001b[0;31m \u001b[0msum\u001b[0m\u001b[0;34m(\u001b[0m\u001b[0;34m[\u001b[0m\u001b[0;36m1\u001b[0m\u001b[0;34m,\u001b[0m \u001b[0;36m2\u001b[0m\u001b[0;34m,\u001b[0m \u001b[0;34m'3'\u001b[0m\u001b[0;34m,\u001b[0m \u001b[0;36m4\u001b[0m\u001b[0;34m,\u001b[0m \u001b[0;36m5\u001b[0m\u001b[0;34m,\u001b[0m \u001b[0;34m'6'\u001b[0m\u001b[0;34m]\u001b[0m\u001b[0;34m)\u001b[0m \u001b[0;31m# error, 이 코드가 작동 되게 만들고 싶을 때\u001b[0m\u001b[0;34m\u001b[0m\u001b[0;34m\u001b[0m\u001b[0m\n\u001b[0m",
            "\u001b[0;31mTypeError\u001b[0m: unsupported operand type(s) for +: 'int' and 'str'"
          ]
        }
      ]
    },
    {
      "cell_type": "code",
      "source": [
        "l = [1, 2, '3', 4, 5, '6']\n",
        "sum(map(int, l))"
      ],
      "metadata": {
        "colab": {
          "base_uri": "https://localhost:8080/"
        },
        "id": "W_6Hk6ZTFPiZ",
        "outputId": "2be149f1-c6a5-42ec-edee-c72ab953563a"
      },
      "execution_count": 12,
      "outputs": [
        {
          "output_type": "execute_result",
          "data": {
            "text/plain": [
              "21"
            ]
          },
          "metadata": {},
          "execution_count": 12
        }
      ]
    },
    {
      "cell_type": "code",
      "source": [
        "l = [1, 2, '3hello', 4, 5, 'l6l']\n",
        "sum(map(int, l))"
      ],
      "metadata": {
        "id": "IF74Po6HFdS8",
        "colab": {
          "base_uri": "https://localhost:8080/",
          "height": 201
        },
        "outputId": "30d11544-9839-4702-b579-7e58c4758dd5"
      },
      "execution_count": 13,
      "outputs": [
        {
          "output_type": "error",
          "ename": "ValueError",
          "evalue": "invalid literal for int() with base 10: '3hello'",
          "traceback": [
            "\u001b[0;31m---------------------------------------------------------------------------\u001b[0m",
            "\u001b[0;31mValueError\u001b[0m                                Traceback (most recent call last)",
            "\u001b[0;32m<ipython-input-13-98183ba8e8fb>\u001b[0m in \u001b[0;36m<cell line: 2>\u001b[0;34m()\u001b[0m\n\u001b[1;32m      1\u001b[0m \u001b[0ml\u001b[0m \u001b[0;34m=\u001b[0m \u001b[0;34m[\u001b[0m\u001b[0;36m1\u001b[0m\u001b[0;34m,\u001b[0m \u001b[0;36m2\u001b[0m\u001b[0;34m,\u001b[0m \u001b[0;34m'3hello'\u001b[0m\u001b[0;34m,\u001b[0m \u001b[0;36m4\u001b[0m\u001b[0;34m,\u001b[0m \u001b[0;36m5\u001b[0m\u001b[0;34m,\u001b[0m \u001b[0;34m'l6l'\u001b[0m\u001b[0;34m]\u001b[0m\u001b[0;34m\u001b[0m\u001b[0;34m\u001b[0m\u001b[0m\n\u001b[0;32m----> 2\u001b[0;31m \u001b[0msum\u001b[0m\u001b[0;34m(\u001b[0m\u001b[0mmap\u001b[0m\u001b[0;34m(\u001b[0m\u001b[0mint\u001b[0m\u001b[0;34m,\u001b[0m \u001b[0ml\u001b[0m\u001b[0;34m)\u001b[0m\u001b[0;34m)\u001b[0m\u001b[0;34m\u001b[0m\u001b[0;34m\u001b[0m\u001b[0m\n\u001b[0m",
            "\u001b[0;31mValueError\u001b[0m: invalid literal for int() with base 10: '3hello'"
          ]
        }
      ]
    },
    {
      "cell_type": "code",
      "source": [
        "l = [1, 2, '3hello', 4, 5, 'l6l']\n",
        "\n",
        "@p # 이것이 함수 전이나 후에 무언가를 작업해줄 수 있는 데코레이터 이기 때문\n",
        "sum(l)"
      ],
      "metadata": {
        "id": "IJudFd3HFj93",
        "colab": {
          "base_uri": "https://localhost:8080/",
          "height": 237
        },
        "outputId": "e3545580-9960-4e6a-9729-be8f266d81ed"
      },
      "execution_count": 15,
      "outputs": [
        {
          "output_type": "error",
          "ename": "NameError",
          "evalue": "name 'p' is not defined",
          "traceback": [
            "\u001b[0;31m---------------------------------------------------------------------------\u001b[0m",
            "\u001b[0;31mNameError\u001b[0m                                 Traceback (most recent call last)",
            "\u001b[0;32m<ipython-input-15-0593fdf4465b>\u001b[0m in \u001b[0;36m<cell line: 3>\u001b[0;34m()\u001b[0m\n\u001b[1;32m      1\u001b[0m \u001b[0ml\u001b[0m \u001b[0;34m=\u001b[0m \u001b[0;34m[\u001b[0m\u001b[0;36m1\u001b[0m\u001b[0;34m,\u001b[0m \u001b[0;36m2\u001b[0m\u001b[0;34m,\u001b[0m \u001b[0;34m'3hello'\u001b[0m\u001b[0;34m,\u001b[0m \u001b[0;36m4\u001b[0m\u001b[0;34m,\u001b[0m \u001b[0;36m5\u001b[0m\u001b[0;34m,\u001b[0m \u001b[0;34m'l6l'\u001b[0m\u001b[0;34m]\u001b[0m\u001b[0;34m\u001b[0m\u001b[0;34m\u001b[0m\u001b[0m\n\u001b[1;32m      2\u001b[0m \u001b[0;34m\u001b[0m\u001b[0m\n\u001b[0;32m----> 3\u001b[0;31m \u001b[0mp\u001b[0m \u001b[0;31m# 이것이 함수 전이나 후에 무언가를 작업해줄 수 있는 데코레이터 이기 때문에!\u001b[0m\u001b[0;34m\u001b[0m\u001b[0;34m\u001b[0m\u001b[0m\n\u001b[0m\u001b[1;32m      4\u001b[0m \u001b[0msum\u001b[0m\u001b[0;34m(\u001b[0m\u001b[0ml\u001b[0m\u001b[0;34m)\u001b[0m\u001b[0;34m\u001b[0m\u001b[0;34m\u001b[0m\u001b[0m\n",
            "\u001b[0;31mNameError\u001b[0m: name 'p' is not defined"
          ]
        }
      ]
    },
    {
      "cell_type": "code",
      "source": [
        "# step1 : 골격을 만듬\n",
        "\n",
        "def data_pre(function):\n",
        "    def wrapper():\n",
        "        return None\n",
        "    return wrapper\n",
        "\n",
        "@data_pre\n",
        "def mean(l):\n",
        "    return sum(l) / len(l)\n",
        "\n",
        "mean([1, 2, '3', 4, 5, '6']) # data_pre(mean)()"
      ],
      "metadata": {
        "id": "XIyMbod5F_st",
        "colab": {
          "base_uri": "https://localhost:8080/",
          "height": 219
        },
        "outputId": "9abb37e6-ab64-4492-ed32-0b6ea392cde2"
      },
      "execution_count": 16,
      "outputs": [
        {
          "output_type": "error",
          "ename": "TypeError",
          "evalue": "data_pre.<locals>.wrapper() takes 0 positional arguments but 1 was given",
          "traceback": [
            "\u001b[0;31m---------------------------------------------------------------------------\u001b[0m",
            "\u001b[0;31mTypeError\u001b[0m                                 Traceback (most recent call last)",
            "\u001b[0;32m<ipython-input-16-749b747a6a85>\u001b[0m in \u001b[0;36m<cell line: 12>\u001b[0;34m()\u001b[0m\n\u001b[1;32m     10\u001b[0m     \u001b[0;32mreturn\u001b[0m \u001b[0msum\u001b[0m\u001b[0;34m(\u001b[0m\u001b[0ml\u001b[0m\u001b[0;34m)\u001b[0m \u001b[0;34m/\u001b[0m \u001b[0mlen\u001b[0m\u001b[0;34m(\u001b[0m\u001b[0ml\u001b[0m\u001b[0;34m)\u001b[0m\u001b[0;34m\u001b[0m\u001b[0;34m\u001b[0m\u001b[0m\n\u001b[1;32m     11\u001b[0m \u001b[0;34m\u001b[0m\u001b[0m\n\u001b[0;32m---> 12\u001b[0;31m \u001b[0mmean\u001b[0m\u001b[0;34m(\u001b[0m\u001b[0;34m[\u001b[0m\u001b[0;36m1\u001b[0m\u001b[0;34m,\u001b[0m \u001b[0;36m2\u001b[0m\u001b[0;34m,\u001b[0m \u001b[0;34m'3'\u001b[0m\u001b[0;34m,\u001b[0m \u001b[0;36m4\u001b[0m\u001b[0;34m,\u001b[0m \u001b[0;36m5\u001b[0m\u001b[0;34m,\u001b[0m \u001b[0;34m'6'\u001b[0m\u001b[0;34m]\u001b[0m\u001b[0;34m)\u001b[0m \u001b[0;31m# data_pre(mean)()\u001b[0m\u001b[0;34m\u001b[0m\u001b[0;34m\u001b[0m\u001b[0m\n\u001b[0m",
            "\u001b[0;31mTypeError\u001b[0m: data_pre.<locals>.wrapper() takes 0 positional arguments but 1 was given"
          ]
        }
      ]
    },
    {
      "cell_type": "code",
      "source": [
        "# step2 : 파라미터를 설정\n",
        "# 얻어가야할 포인트(데코레이터와는 관련은 없음) : map은 __len__가 없어서 len()가 안됨\n",
        "# 포인트2 : list 형변환은 부담이 있는 연산이니 주의 할 것\n",
        "\n",
        "def data_pre(function):\n",
        "    def wrapper(iter_obj):\n",
        "        return function(list(map(int, iter_obj)))\n",
        "    return wrapper\n",
        "\n",
        "@data_pre\n",
        "def mean(l):\n",
        "    return sum(l) / len(l)\n",
        "\n",
        "mean([1, 2, '3', 4, 5, '6']) # data_pre(mean)(iter_obj) # iter_obj에 [1, 2, '3', 4, 5, '6']\n",
        "\n",
        "# 이 3.5는 실제 mean 반환값? 실제는 wrapper에 반환값"
      ],
      "metadata": {
        "colab": {
          "base_uri": "https://localhost:8080/"
        },
        "id": "1D924ptuGs4A",
        "outputId": "1ea192e1-3f30-4cad-ebc1-14c834ecc1b2"
      },
      "execution_count": 17,
      "outputs": [
        {
          "output_type": "execute_result",
          "data": {
            "text/plain": [
              "3.5"
            ]
          },
          "metadata": {},
          "execution_count": 17
        }
      ]
    },
    {
      "cell_type": "code",
      "source": [
        "isinstance('hello', str)"
      ],
      "metadata": {
        "colab": {
          "base_uri": "https://localhost:8080/"
        },
        "id": "rfxshC4jLhn1",
        "outputId": "19ae6a59-4ff6-4cb6-fc86-fc027df9b413"
      },
      "execution_count": 18,
      "outputs": [
        {
          "output_type": "execute_result",
          "data": {
            "text/plain": [
              "True"
            ]
          },
          "metadata": {},
          "execution_count": 18
        }
      ]
    },
    {
      "cell_type": "code",
      "source": [
        "isinstance(10, str)"
      ],
      "metadata": {
        "colab": {
          "base_uri": "https://localhost:8080/"
        },
        "id": "dhLrKqbpLkQ9",
        "outputId": "e29c7b2a-c19c-4448-8727-76f098682247"
      },
      "execution_count": 19,
      "outputs": [
        {
          "output_type": "execute_result",
          "data": {
            "text/plain": [
              "False"
            ]
          },
          "metadata": {},
          "execution_count": 19
        }
      ]
    },
    {
      "cell_type": "code",
      "source": [
        "# 복습 X\n",
        "# 좀 더 정교한 작업이 필요할 때\n",
        "# 정규표현식 배우면 엄청 간단해짐\n",
        "# re.sub(r'[a-zA-Z]+', '')\n",
        "\n",
        "def data_pre(function):\n",
        "    def wrapper(iter_obj):\n",
        "        l = []\n",
        "        for i in iter_obj:\n",
        "            if isinstance(i, str):\n",
        "                s = ''\n",
        "                for j in i:\n",
        "                    if j.isdigit():\n",
        "                        s += j\n",
        "                l.append(int(s))\n",
        "            else:\n",
        "                l.append(i)\n",
        "        print(l)\n",
        "        return function(list(map(int, l)))\n",
        "    return wrapper\n",
        "\n",
        "@data_pre\n",
        "def mean(l):\n",
        "    return sum(l) / len(l)\n",
        "\n",
        "mean([1, 2, 'l3l', 4, 5, 'abc6def'])"
      ],
      "metadata": {
        "colab": {
          "base_uri": "https://localhost:8080/"
        },
        "id": "NM_V8Z_-K92N",
        "outputId": "2ad2dcda-0a02-410a-ffc6-23a9075e90e5"
      },
      "execution_count": 20,
      "outputs": [
        {
          "output_type": "stream",
          "name": "stdout",
          "text": [
            "[1, 2, 3, 4, 5, 6]\n"
          ]
        },
        {
          "output_type": "execute_result",
          "data": {
            "text/plain": [
              "3.5"
            ]
          },
          "metadata": {},
          "execution_count": 20
        }
      ]
    },
    {
      "cell_type": "code",
      "source": [
        "# step0와 step1을 함께\n",
        "\n",
        "data = [-1, 30, 20, 31, -50] # sum을 할 것, 모두다 절대값을 취하는 데커레이터를 만들어 사용하도록 진행\n",
        "\n",
        "def all_abs(f):\n",
        "    def wrapper():\n",
        "        return\n",
        "    return wrapper\n",
        "\n",
        "\n",
        "@all_abs\n",
        "def _sum(l):\n",
        "    return sum(l)\n",
        "\n",
        "_sum(data)"
      ],
      "metadata": {
        "id": "JpiTSLtrNejC",
        "colab": {
          "base_uri": "https://localhost:8080/",
          "height": 219
        },
        "outputId": "cd6f76f4-7586-44fd-f894-b1a8e5199d58"
      },
      "execution_count": 25,
      "outputs": [
        {
          "output_type": "error",
          "ename": "TypeError",
          "evalue": "all_abs.<locals>.wrapper() takes 0 positional arguments but 1 was given",
          "traceback": [
            "\u001b[0;31m---------------------------------------------------------------------------\u001b[0m",
            "\u001b[0;31mTypeError\u001b[0m                                 Traceback (most recent call last)",
            "\u001b[0;32m<ipython-input-25-1f50a2c21230>\u001b[0m in \u001b[0;36m<cell line: 15>\u001b[0;34m()\u001b[0m\n\u001b[1;32m     13\u001b[0m     \u001b[0;32mreturn\u001b[0m \u001b[0msum\u001b[0m\u001b[0;34m(\u001b[0m\u001b[0ml\u001b[0m\u001b[0;34m)\u001b[0m\u001b[0;34m\u001b[0m\u001b[0;34m\u001b[0m\u001b[0m\n\u001b[1;32m     14\u001b[0m \u001b[0;34m\u001b[0m\u001b[0m\n\u001b[0;32m---> 15\u001b[0;31m \u001b[0m_sum\u001b[0m\u001b[0;34m(\u001b[0m\u001b[0mdata\u001b[0m\u001b[0;34m)\u001b[0m\u001b[0;34m\u001b[0m\u001b[0;34m\u001b[0m\u001b[0m\n\u001b[0m",
            "\u001b[0;31mTypeError\u001b[0m: all_abs.<locals>.wrapper() takes 0 positional arguments but 1 was given"
          ]
        }
      ]
    },
    {
      "cell_type": "code",
      "source": [
        "# step2\n",
        "\n",
        "data = [-1, 30, 20, 31, -50]\n",
        "\n",
        "def all_abs(f):\n",
        "    def wrapper(iter_obj):\n",
        "        return f([abs(i) for i in iter_obj])\n",
        "    return wrapper\n",
        "\n",
        "@all_abs\n",
        "def _sum(l):\n",
        "    return sum(l)\n",
        "\n",
        "_sum(data)"
      ],
      "metadata": {
        "id": "52HFh8DwOD9i",
        "colab": {
          "base_uri": "https://localhost:8080/"
        },
        "outputId": "16fa6c39-605d-497c-f5db-cf00c1dcd24b"
      },
      "execution_count": 27,
      "outputs": [
        {
          "output_type": "execute_result",
          "data": {
            "text/plain": [
              "132"
            ]
          },
          "metadata": {},
          "execution_count": 27
        }
      ]
    },
    {
      "cell_type": "code",
      "source": [],
      "metadata": {
        "id": "2IK781HUEts0"
      },
      "execution_count": null,
      "outputs": []
    }
  ]
}
