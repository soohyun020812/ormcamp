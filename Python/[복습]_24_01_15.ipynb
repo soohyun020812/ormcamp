{
  "nbformat": 4,
  "nbformat_minor": 0,
  "metadata": {
    "colab": {
      "provenance": []
    },
    "kernelspec": {
      "name": "python3",
      "display_name": "Python 3"
    },
    "language_info": {
      "name": "python"
    }
  },
  "cells": [
    {
      "cell_type": "markdown",
      "source": [
        "### **class Commnet**를 작성해주세요.\n",
        "\n",
        "요구사항\n",
        "* 각 댓글은 고유한 ID, 작성자 이름, 댓글 내용, 작성 시간을 가져야 합니다.\n",
        "* 댓글은 하나 이상의 대댓글을 가질 수 있어야 합니다.\n",
        "* 대댓글도 Comment 클래스의 인스턴스로 생성되며, 원 댓글에 종속됩니다.\n",
        "* 시간은 '년-월-일 시:분' 형식으로 표시되어야 합니다.\n",
        "* (선택 과제) 댓글 출력 기능 - 계층적 출력을 해보세요.\n",
        "* (선택 과제)댓글에 대한 좋아요 기능을 추가할 수 있습니다."
      ],
      "metadata": {
        "id": "-tE4EytHMccC"
      }
    },
    {
      "cell_type": "code",
      "source": [
        "from datetime import datetime\n",
        "\n",
        "class Comment:\n",
        "    def __init__(self, comment_id, author, content, parent=None):\n",
        "        self.comment_id = comment_id\n",
        "        self.author = author\n",
        "        self.content = content\n",
        "        self.parent = parent\n",
        "        self.timestamp = datetime.now()\n",
        "\n",
        "        # 대댓글을 저장할 리스트\n",
        "        self.replies = []\n",
        "\n",
        "    def add_reply(self, reply):\n",
        "        # 대댓글 추가\n",
        "        self.replies.append(reply)\n",
        "\n",
        "    def display(self, depth=0):\n",
        "        # 댓글을 계층적으로 출력\n",
        "        indentation = '    ' * depth\n",
        "        print(f\"{indentation}ID: {self.comment_id}\")\n",
        "        print(f\"{indentation}✍🏻 작성자: {self.author}\")\n",
        "        print(f\"{indentation}💬 내용: {self.content}\")\n",
        "        print(f\"{indentation}🕓 작성 시간: {self.timestamp.strftime('%Y-%m-%d %H:%M')}\")\n",
        "\n",
        "        print()  # 줄 바꿈\n",
        "\n",
        "        # 대댓글 출력\n",
        "        for reply in self.replies:\n",
        "            reply.display(depth + 1)\n",
        "\n",
        "    def add_like(self):\n",
        "        # (선택 과제) 댓글에 좋아요 추가 예시\n",
        "        print(f\"댓글 ID {self.comment_id}에 (💖)좋아요가 추가되었습니다.\")\n",
        "\n",
        "if __name__ == \"__main__\":\n",
        "    # 첫 댓글 생성\n",
        "    original_comment = Comment(1, \"수현\", \"안녕 테스트 내용이야\")\n",
        "\n",
        "    # 대댓글 생성\n",
        "    reply1 = Comment(2, \"길동\", \"댓글 1등\", parent=original_comment)\n",
        "    reply2 = Comment(3, \"순신\", \"나는 2등\", parent=original_comment)\n",
        "\n",
        "    # 대댓글 추가\n",
        "    original_comment.add_reply(reply1)\n",
        "    original_comment.add_reply(reply2)\n",
        "    # (선택 과제) 댓글 출력\n",
        "    original_comment.display()\n",
        "    # (선택 과제) 댓글에 좋아요 추가\n",
        "    original_comment.add_like()"
      ],
      "metadata": {
        "colab": {
          "base_uri": "https://localhost:8080/"
        },
        "id": "Tp-taWwMq6_o",
        "outputId": "3a8ead42-6aee-4e48-86ab-456f7629756a"
      },
      "execution_count": 28,
      "outputs": [
        {
          "output_type": "stream",
          "name": "stdout",
          "text": [
            "ID: 1\n",
            "✍🏻 작성자: 수현\n",
            "💬 내용: 안녕 테스트 내용이야\n",
            "🕓 작성 시간: 2024-01-17 09:36\n",
            "\n",
            "    ID: 2\n",
            "    ✍🏻 작성자: 길동\n",
            "    💬 내용: 댓글 1등\n",
            "    🕓 작성 시간: 2024-01-17 09:36\n",
            "\n",
            "    ID: 3\n",
            "    ✍🏻 작성자: 순신\n",
            "    💬 내용: 나는 2등\n",
            "    🕓 작성 시간: 2024-01-17 09:36\n",
            "\n",
            "댓글 ID 1에 (💖)좋아요가 추가되었습니다.\n"
          ]
        }
      ]
    },
    {
      "cell_type": "code",
      "source": [],
      "metadata": {
        "id": "4kO8lpMivkZy"
      },
      "execution_count": null,
      "outputs": []
    }
  ]
}
