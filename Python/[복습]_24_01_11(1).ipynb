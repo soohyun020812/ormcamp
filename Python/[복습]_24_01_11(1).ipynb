{
  "nbformat": 4,
  "nbformat_minor": 0,
  "metadata": {
    "colab": {
      "provenance": []
    },
    "kernelspec": {
      "name": "python3",
      "display_name": "Python 3"
    },
    "language_info": {
      "name": "python"
    }
  },
  "cells": [
    {
      "cell_type": "markdown",
      "source": [
        "1. 다음 숫자 중 5보다 크고, 20보다 작으면서 짝수인 수를 모두 더하는 코드를 완성 해주세요. 오늘 배운 filter 사용은 필수 입니다.\n",
        "```\n",
        "number = [1, 5, 7, 4, 3, 22, 23, 15, 26, 17, 3]\n",
        "def solution(data)\n",
        "    return\n",
        "solution(number)\n",
        "```\n",
        "\n",
        "2. 다음에 정보가 담겨져 있는 것을 Class로 만들어주세요. 메서드로는 '할인' 메서드를 만들어주세요. 예를 들어 아래 책을 10% 할인한다고 하면 4500원이 됩니다. `책.할인(10) == 4500`의 형태로 만들어주시면 됩니다.\n",
        "```\n",
        "{\n",
        "    '책제목': 'hello world python',\n",
        "    '책 내용 요약': 'hello world...',\n",
        "    '저자': '이호준',\n",
        "    '발행일': '2024-01-11',\n",
        "    '가격': 5000\n",
        "}\n",
        "```"
      ],
      "metadata": {
        "id": "D1o8aSSsnzzN"
      }
    },
    {
      "cell_type": "code",
      "execution_count": 3,
      "metadata": {
        "colab": {
          "base_uri": "https://localhost:8080/"
        },
        "id": "sGS3aa2QnsDk",
        "outputId": "616f0fa8-ed72-424a-de1a-a588fe17051c"
      },
      "outputs": [
        {
          "output_type": "stream",
          "name": "stdout",
          "text": [
            "0\n"
          ]
        }
      ],
      "source": [
        "number = [1, 5, 7, 4, 3, 22, 23, 15, 26, 17, 3]\n",
        "\n",
        "def solution(data):\n",
        "    numbers = filter(lambda x: 5 < x < 20 and x % 2 == 0, data)\n",
        "    return sum(numbers)\n",
        "\n",
        "print(solution(number))"
      ]
    },
    {
      "cell_type": "code",
      "source": [
        "# ★★★★★\n",
        "class Book:\n",
        "    def __init__(self, title, summary, author, publish, price):\n",
        "        self.title = title\n",
        "        self.summary = summary\n",
        "        self.author = author\n",
        "        self.publish = publish\n",
        "        self.price = price\n",
        "\n",
        "    def discount(self, rate):\n",
        "        discounted_price = round(self.price * (1 - rate / 100))  # 할인 가격 계산\n",
        "        return discounted_price\n",
        "\n",
        "    def __str__(self):\n",
        "        return f\"책 제목: {self.title}, 저자: {self.author}, 발행일: {self.publish}\"\n",
        "\n",
        "# Book 클래스 인스턴스 생성\n",
        "book = Book(\n",
        "    'hello world python',\n",
        "    'hello world...',\n",
        "    '이호준',\n",
        "    '2024-01-11',\n",
        "    5000\n",
        ")\n",
        "\n",
        "discount_rate = 10\n",
        "discounted_price = book.discount(discount_rate)\n",
        "print(book)\n",
        "print(f\"할인 전 가격: {book.price}원\")\n",
        "print(f\"{discount_rate}% 할인 가격: {discounted_price}원\")"
      ],
      "metadata": {
        "colab": {
          "base_uri": "https://localhost:8080/"
        },
        "id": "IptqPkEWqO2I",
        "outputId": "5f2051d6-9eed-449d-f2bb-a5b6d59242ad"
      },
      "execution_count": 21,
      "outputs": [
        {
          "output_type": "stream",
          "name": "stdout",
          "text": [
            "책 제목: hello world python, 저자: 이호준, 발행일: 2024-01-11\n",
            "할인 전 가격: 5000원\n",
            "10% 할인 가격: 4500원\n"
          ]
        }
      ]
    },
    {
      "cell_type": "code",
      "source": [],
      "metadata": {
        "id": "9At6ZOr8rLNa"
      },
      "execution_count": null,
      "outputs": []
    }
  ]
}
