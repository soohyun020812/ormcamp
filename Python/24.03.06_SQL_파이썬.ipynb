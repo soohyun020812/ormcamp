{
  "nbformat": 4,
  "nbformat_minor": 0,
  "metadata": {
    "colab": {
      "provenance": []
    },
    "kernelspec": {
      "name": "python3",
      "display_name": "Python 3"
    },
    "language_info": {
      "name": "python"
    }
  },
  "cells": [
    {
      "cell_type": "code",
      "execution_count": null,
      "metadata": {
        "id": "38grDub0DaUN"
      },
      "outputs": [],
      "source": [
        "import sqlite3\n",
        "conn = sqlite3.connect('example.db')  # 'example.db'라는 데이터베이스 파일 생성\n",
        "c = conn.cursor()\n"
      ]
    },
    {
      "cell_type": "code",
      "source": [
        "# 테이블 생성\n",
        "c.execute('''CREATE TABLE stocks\n",
        "             (date text, trans text, symbol text, qty real, price real)''')\n",
        "\n",
        "# 데이터 삽입\n",
        "c.execute(\"INSERT INTO stocks VALUES ('2024-03-06','BUY','RHAT',100,35.14)\")\n",
        "\n",
        "# 변경사항 저장\n",
        "conn.commit()"
      ],
      "metadata": {
        "id": "ZMU8BtDJDhZ1"
      },
      "execution_count": null,
      "outputs": []
    },
    {
      "cell_type": "code",
      "source": [
        "c.execute('SELECT * FROM stocks')\n",
        "print(c.fetchall())"
      ],
      "metadata": {
        "colab": {
          "base_uri": "https://localhost:8080/"
        },
        "id": "VcXuXkpBDj0A",
        "outputId": "a5f6aa07-cfec-411a-95e6-0b521c3a0aed"
      },
      "execution_count": null,
      "outputs": [
        {
          "output_type": "stream",
          "name": "stdout",
          "text": [
            "[('2024-03-06', 'BUY', 'RHAT', 100.0, 35.14)]\n"
          ]
        }
      ]
    },
    {
      "cell_type": "code",
      "source": [
        "conn.close()"
      ],
      "metadata": {
        "id": "8TshWpcNDlPI"
      },
      "execution_count": null,
      "outputs": []
    },
    {
      "cell_type": "code",
      "source": [],
      "metadata": {
        "id": "-03YXCjFDmCe"
      },
      "execution_count": null,
      "outputs": []
    }
  ]
}