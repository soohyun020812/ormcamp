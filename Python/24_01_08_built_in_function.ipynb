{
  "nbformat": 4,
  "nbformat_minor": 0,
  "metadata": {
    "colab": {
      "provenance": []
    },
    "kernelspec": {
      "name": "python3",
      "display_name": "Python 3"
    },
    "language_info": {
      "name": "python"
    }
  },
  "cells": [
    {
      "cell_type": "code",
      "execution_count": null,
      "metadata": {
        "colab": {
          "base_uri": "https://localhost:8080/"
        },
        "id": "hLT_ykSGr0iN",
        "outputId": "efa92399-02eb-4ed7-c57b-18dcfb62d07f"
      },
      "outputs": [
        {
          "output_type": "execute_result",
          "data": {
            "text/plain": [
              "<function sorted(iterable, /, *, key=None, reverse=False)>"
            ]
          },
          "metadata": {},
          "execution_count": 1
        }
      ],
      "source": [
        "# 요소 전체의 True, False 판별\n",
        "all\n",
        "any\n",
        "\n",
        "# 숫자를 문자로 바꾸거나 문자를 숫자로 바꾸는 함수\n",
        "chr\n",
        "ord\n",
        "\n",
        "# 함수와 순회할 수 있는 객체의 연산\n",
        "map\n",
        "filter\n",
        "\n",
        "# 순회할 수 있는 객체의 묶음\n",
        "zip\n",
        "\n",
        "# 형식 변환\n",
        "format\n",
        "\n",
        "# 길이 반환\n",
        "len\n",
        "\n",
        "# 큰 값, 작은 값, 다 더한 값\n",
        "max\n",
        "min\n",
        "sum\n",
        "\n",
        "# 문자열, 대표 문자열, 문자열 출력\n",
        "str\n",
        "repr\n",
        "print\n",
        "\n",
        "# 순회할 수 있는 객체\n",
        "enumerate\n",
        "range\n",
        "\n",
        "# 역순과 정렬\n",
        "reversed\n",
        "sorted"
      ]
    },
    {
      "cell_type": "code",
      "source": [
        "# all()\n",
        "\n",
        "# 모두 다 True여야 True 반환\n",
        "all([True, True, True]) # 출력: True\n",
        "all([True, True, False]) # 출력: False\n",
        "all([1, 1, 1, 0]) # 출력: False\n",
        "all([1, 0, 1, 1]) # 출력: False\n",
        "all([1, 100, 10, -1]) # 출력: True"
      ],
      "metadata": {
        "colab": {
          "base_uri": "https://localhost:8080/"
        },
        "id": "McWf0ktPr8Au",
        "outputId": "5a366f02-19f2-4564-a497-d8681b2bfe0f"
      },
      "execution_count": 1,
      "outputs": [
        {
          "output_type": "execute_result",
          "data": {
            "text/plain": [
              "True"
            ]
          },
          "metadata": {},
          "execution_count": 1
        }
      ]
    },
    {
      "cell_type": "code",
      "source": [
        "# any()\n",
        "\n",
        "# 하나라도 True이면 True이다.\n",
        "any([True, False, False]) # 출력: True\n",
        "any([False, False, False]) # 출력: False"
      ],
      "metadata": {
        "colab": {
          "base_uri": "https://localhost:8080/"
        },
        "id": "MtQNnMnlsAZe",
        "outputId": "aa55908f-c904-4a8b-884a-dbe8a6cc1e96"
      },
      "execution_count": 2,
      "outputs": [
        {
          "output_type": "execute_result",
          "data": {
            "text/plain": [
              "False"
            ]
          },
          "metadata": {},
          "execution_count": 2
        }
      ]
    },
    {
      "cell_type": "code",
      "source": [
        "# chr()\n",
        "\n",
        "# 10진수로 유니코드표에서 찾아 대응되는 값을 줍니다.\n",
        "chr(65) # 출력: 'A'\n",
        "chr(97) # 출력: 'a'\n",
        "chr(54616) # 출력: '하'"
      ],
      "metadata": {
        "id": "3smYkq5MsB43",
        "colab": {
          "base_uri": "https://localhost:8080/",
          "height": 35
        },
        "outputId": "43077bb8-56b1-44c0-faf8-b6afe52d80c5"
      },
      "execution_count": 3,
      "outputs": [
        {
          "output_type": "execute_result",
          "data": {
            "text/plain": [
              "'하'"
            ],
            "application/vnd.google.colaboratory.intrinsic+json": {
              "type": "string"
            }
          },
          "metadata": {},
          "execution_count": 3
        }
      ]
    },
    {
      "cell_type": "code",
      "source": [
        "# ord()\n",
        "\n",
        "# 문자를 입력하면 유니코드에서 숫자로 출력합니다.\n",
        "ord('a') # 출력: 97\n",
        "ord('하') # 출력: 54616"
      ],
      "metadata": {
        "colab": {
          "base_uri": "https://localhost:8080/"
        },
        "id": "TmVrtXPWaJfn",
        "outputId": "f42648ed-957d-4d3b-b639-df28fcd6e5f4"
      },
      "execution_count": 4,
      "outputs": [
        {
          "output_type": "execute_result",
          "data": {
            "text/plain": [
              "54616"
            ]
          },
          "metadata": {},
          "execution_count": 4
        }
      ]
    },
    {
      "cell_type": "code",
      "source": [
        "# + int()\n",
        "\n",
        "# 유니코드 표에서 값 확인\n",
        "int('D558', 16) # 출력: 54616"
      ],
      "metadata": {
        "colab": {
          "base_uri": "https://localhost:8080/"
        },
        "id": "WoxL90N4aLhP",
        "outputId": "1590f9d9-9678-487c-e20c-936568151835"
      },
      "execution_count": 5,
      "outputs": [
        {
          "output_type": "execute_result",
          "data": {
            "text/plain": [
              "54616"
            ]
          },
          "metadata": {},
          "execution_count": 5
        }
      ]
    },
    {
      "cell_type": "code",
      "source": [
        "# map()\n",
        "\n",
        "# 첫번째 방법\n",
        "def 제곱(x):\n",
        "    return x ** 2\n",
        "list(map(제곱, [1, 2, 3, 4])) # 출력: [1, 4, 9, 16]"
      ],
      "metadata": {
        "colab": {
          "base_uri": "https://localhost:8080/"
        },
        "id": "F1lizYliaOtt",
        "outputId": "172da055-2933-4ad2-ea80-b9f3fa1d1fdc"
      },
      "execution_count": 7,
      "outputs": [
        {
          "output_type": "execute_result",
          "data": {
            "text/plain": [
              "[1, 4, 9, 16]"
            ]
          },
          "metadata": {},
          "execution_count": 7
        }
      ]
    },
    {
      "cell_type": "code",
      "source": [
        "# 두번째 방법\n",
        "list(map(lambda x : x ** 2, [1, 2, 3, 4])) # 출력: [1, 4, 9, 16]"
      ],
      "metadata": {
        "colab": {
          "base_uri": "https://localhost:8080/"
        },
        "id": "aG_xPcLtaR3a",
        "outputId": "160fb621-53e7-443c-8be2-ae2ca865d4ee"
      },
      "execution_count": 8,
      "outputs": [
        {
          "output_type": "execute_result",
          "data": {
            "text/plain": [
              "[1, 4, 9, 16]"
            ]
          },
          "metadata": {},
          "execution_count": 8
        }
      ]
    },
    {
      "cell_type": "code",
      "source": [
        "# filter()\n",
        "\n",
        "list(filter(lambda x : x > 50, range(100)))"
      ],
      "metadata": {
        "colab": {
          "base_uri": "https://localhost:8080/"
        },
        "id": "WPoUsnnZaVtw",
        "outputId": "cea94c5b-5024-4d78-93b1-9df0dfb3b30c"
      },
      "execution_count": 9,
      "outputs": [
        {
          "output_type": "execute_result",
          "data": {
            "text/plain": [
              "[51,\n",
              " 52,\n",
              " 53,\n",
              " 54,\n",
              " 55,\n",
              " 56,\n",
              " 57,\n",
              " 58,\n",
              " 59,\n",
              " 60,\n",
              " 61,\n",
              " 62,\n",
              " 63,\n",
              " 64,\n",
              " 65,\n",
              " 66,\n",
              " 67,\n",
              " 68,\n",
              " 69,\n",
              " 70,\n",
              " 71,\n",
              " 72,\n",
              " 73,\n",
              " 74,\n",
              " 75,\n",
              " 76,\n",
              " 77,\n",
              " 78,\n",
              " 79,\n",
              " 80,\n",
              " 81,\n",
              " 82,\n",
              " 83,\n",
              " 84,\n",
              " 85,\n",
              " 86,\n",
              " 87,\n",
              " 88,\n",
              " 89,\n",
              " 90,\n",
              " 91,\n",
              " 92,\n",
              " 93,\n",
              " 94,\n",
              " 95,\n",
              " 96,\n",
              " 97,\n",
              " 98,\n",
              " 99]"
            ]
          },
          "metadata": {},
          "execution_count": 9
        }
      ]
    },
    {
      "cell_type": "code",
      "source": [
        "# zip()\n",
        "\n",
        "zip('ab', '12') # 출력: <zip at 0x7b9d83c6e440>"
      ],
      "metadata": {
        "colab": {
          "base_uri": "https://localhost:8080/"
        },
        "id": "IdDkzJ4CaZtc",
        "outputId": "0daed326-bac5-4b1f-8a75-a6fdb879578e"
      },
      "execution_count": 10,
      "outputs": [
        {
          "output_type": "execute_result",
          "data": {
            "text/plain": [
              "<zip at 0x7ac7985b0d00>"
            ]
          },
          "metadata": {},
          "execution_count": 10
        }
      ]
    },
    {
      "cell_type": "code",
      "source": [
        "list(zip('ab', '12', [10, 20])) # 출력: [('a', '1', 10), ('b', '2', 20)]"
      ],
      "metadata": {
        "colab": {
          "base_uri": "https://localhost:8080/"
        },
        "id": "FMVPV4VnaseY",
        "outputId": "aefa2e75-1b12-4029-b7da-3e9f1a3a551c"
      },
      "execution_count": 11,
      "outputs": [
        {
          "output_type": "execute_result",
          "data": {
            "text/plain": [
              "[('a', '1', 10), ('b', '2', 20)]"
            ]
          },
          "metadata": {},
          "execution_count": 11
        }
      ]
    },
    {
      "cell_type": "code",
      "source": [
        "x = [1, 2, 3]\n",
        "y = [1, 4, 9]\n",
        "list(zip(x, y)) # 출력: [(1, 1), (2, 4), (3, 9)]"
      ],
      "metadata": {
        "colab": {
          "base_uri": "https://localhost:8080/"
        },
        "id": "1h1Qh1KYauHh",
        "outputId": "0dd5b90b-1bef-4173-eb83-2606c5054dd8"
      },
      "execution_count": 13,
      "outputs": [
        {
          "output_type": "execute_result",
          "data": {
            "text/plain": [
              "[(1, 1), (2, 4), (3, 9)]"
            ]
          },
          "metadata": {},
          "execution_count": 13
        }
      ]
    },
    {
      "cell_type": "code",
      "source": [
        "# format()\n",
        "\n",
        "print(format(123.4567, '.2f')) # 출력: 123.46\n",
        "print(format('Hello', '^9')) # 출력: '  Hello  '"
      ],
      "metadata": {
        "colab": {
          "base_uri": "https://localhost:8080/"
        },
        "id": "9Q3UvqkJawnY",
        "outputId": "d4757bf6-13f3-4c81-e2f4-612a6eae3bbb"
      },
      "execution_count": 14,
      "outputs": [
        {
          "output_type": "stream",
          "name": "stdout",
          "text": [
            "123.46\n",
            "  Hello  \n"
          ]
        }
      ]
    },
    {
      "cell_type": "code",
      "source": [
        "# len()\n",
        "\n",
        "len('hello world')"
      ],
      "metadata": {
        "colab": {
          "base_uri": "https://localhost:8080/"
        },
        "id": "RMaUXAWha18c",
        "outputId": "f65901eb-e1f3-4fad-a6a4-0e106459fca7"
      },
      "execution_count": 15,
      "outputs": [
        {
          "output_type": "execute_result",
          "data": {
            "text/plain": [
              "11"
            ]
          },
          "metadata": {},
          "execution_count": 15
        }
      ]
    },
    {
      "cell_type": "code",
      "source": [
        "# max()\n",
        "\n",
        "max([1, 2, 3, 4, 5]) # 출력 : 5\n",
        "max([(1, 2), (3, 101), (1, 20), (3, 100)]) # 출력 : (3,101)\n",
        "max(['hello', 'world', 'world1']) # 출력 : world1"
      ],
      "metadata": {
        "colab": {
          "base_uri": "https://localhost:8080/",
          "height": 35
        },
        "id": "O7DGRIPea6f3",
        "outputId": "fe8e2ca1-3469-4e0c-cc5e-eb892078e9b1"
      },
      "execution_count": 16,
      "outputs": [
        {
          "output_type": "execute_result",
          "data": {
            "text/plain": [
              "'world1'"
            ],
            "application/vnd.google.colaboratory.intrinsic+json": {
              "type": "string"
            }
          },
          "metadata": {},
          "execution_count": 16
        }
      ]
    },
    {
      "cell_type": "code",
      "source": [
        "# min()\n",
        "\n",
        "students = [\n",
        "    {'이름': '가', '국어': 90, '영어': 72, '수학': 95},\n",
        "    {'이름': '나', \"국어\": 80, '영어': 90, '수학': 91},\n",
        "    {'이름': '다', \"국어\": 95, '영어': 73, '수학': 92}\n",
        "]\n",
        "\n",
        "min(students, key=lambda student: student['수학']) # 출력: {'이름': '나', '국어': 80, '영어': 90, '수학': 91}"
      ],
      "metadata": {
        "colab": {
          "base_uri": "https://localhost:8080/"
        },
        "id": "V4pilLNXa9St",
        "outputId": "38b388a5-98a4-4af5-86df-add34b9bb8cf"
      },
      "execution_count": 18,
      "outputs": [
        {
          "output_type": "execute_result",
          "data": {
            "text/plain": [
              "{'이름': '나', '국어': 80, '영어': 90, '수학': 91}"
            ]
          },
          "metadata": {},
          "execution_count": 18
        }
      ]
    },
    {
      "cell_type": "code",
      "source": [
        "# sum()\n",
        "\n",
        "sum([[1, 2], [10, 20], [100, 200]], []) # 출력: [1, 2, 10, 20, 100, 200]\n",
        "# [] + [1, 2]\n",
        "# [1, 2] + [10, 20]\n",
        "# [1, 2, 10, 20] + [100, 200]\n",
        "# [1, 2, 10, 20, 100, 200]"
      ],
      "metadata": {
        "colab": {
          "base_uri": "https://localhost:8080/"
        },
        "id": "cPAzjFFwbBe5",
        "outputId": "6fec6762-8b86-4f72-c478-d3160c47714b"
      },
      "execution_count": 27,
      "outputs": [
        {
          "output_type": "execute_result",
          "data": {
            "text/plain": [
              "[1, 2, 10, 20, 100, 200]"
            ]
          },
          "metadata": {},
          "execution_count": 27
        }
      ]
    },
    {
      "cell_type": "code",
      "source": [
        "sum(sum([[1, 2], [10, 20], [100, 200]], [])) # 출력: 333"
      ],
      "metadata": {
        "colab": {
          "base_uri": "https://localhost:8080/"
        },
        "id": "NcDe07Oibh18",
        "outputId": "211c60a6-0041-4597-ba81-451f69f5979e"
      },
      "execution_count": 28,
      "outputs": [
        {
          "output_type": "execute_result",
          "data": {
            "text/plain": [
              "333"
            ]
          },
          "metadata": {},
          "execution_count": 28
        }
      ]
    },
    {
      "cell_type": "code",
      "source": [
        "# + np.sum()\n",
        "\n",
        "import numpy as np\n",
        "\n",
        "np.sum([[1, 2], [3, 101], [1, 20], [3, 100]]) # 출력 : 328"
      ],
      "metadata": {
        "colab": {
          "base_uri": "https://localhost:8080/"
        },
        "id": "Km9zJeOFbG_N",
        "outputId": "02fdef18-ff2a-4c80-c058-bf5eeb2c26d5"
      },
      "execution_count": 21,
      "outputs": [
        {
          "output_type": "execute_result",
          "data": {
            "text/plain": [
              "231"
            ]
          },
          "metadata": {},
          "execution_count": 21
        }
      ]
    },
    {
      "cell_type": "code",
      "source": [
        "# print()\n",
        "\n",
        "class Charactor:\n",
        "    def __repr__(self):\n",
        "        return 'hello'\n",
        "    def __str__(self):\n",
        "        return 'world'\n",
        "\n",
        "hero = Charactor()\n",
        "print(hero) # 출력 : 'world'\n",
        "hero # 출력 : 'hello'"
      ],
      "metadata": {
        "colab": {
          "base_uri": "https://localhost:8080/"
        },
        "id": "pDdxaNiTbOJC",
        "outputId": "5f859bd2-7c95-4dcd-cd01-411f18cebdbb"
      },
      "execution_count": 22,
      "outputs": [
        {
          "output_type": "stream",
          "name": "stdout",
          "text": [
            "world\n"
          ]
        },
        {
          "output_type": "execute_result",
          "data": {
            "text/plain": [
              "hello"
            ]
          },
          "metadata": {},
          "execution_count": 22
        }
      ]
    },
    {
      "cell_type": "code",
      "source": [
        "# repr()\n",
        "\n",
        "repr(hero) # (__repr__ 메서드 호출로 인해) 출력 : hello"
      ],
      "metadata": {
        "colab": {
          "base_uri": "https://localhost:8080/",
          "height": 35
        },
        "id": "BR5wa018bRdk",
        "outputId": "bcc5534b-f81e-44e8-a280-a7f1b957103f"
      },
      "execution_count": 24,
      "outputs": [
        {
          "output_type": "execute_result",
          "data": {
            "text/plain": [
              "'hello'"
            ],
            "application/vnd.google.colaboratory.intrinsic+json": {
              "type": "string"
            }
          },
          "metadata": {},
          "execution_count": 24
        }
      ]
    },
    {
      "cell_type": "code",
      "source": [
        "# range()\n",
        "\n",
        "range(1, 10, 2) # 출력: range(1, 10, 2)\n",
        "list(range(1, 10, 2)) # 출력: [1, 3, 5, 7, 9]"
      ],
      "metadata": {
        "colab": {
          "base_uri": "https://localhost:8080/"
        },
        "id": "v1jWMhETbU7U",
        "outputId": "7ea55779-a1c5-4642-ec3e-d57a2e78b279"
      },
      "execution_count": 25,
      "outputs": [
        {
          "output_type": "execute_result",
          "data": {
            "text/plain": [
              "[1, 3, 5, 7, 9]"
            ]
          },
          "metadata": {},
          "execution_count": 25
        }
      ]
    },
    {
      "cell_type": "code",
      "source": [
        "print(list(range(0, 101, 2))) #짝수\n",
        "print(list(range(1, 101, 2))) #홀수"
      ],
      "metadata": {
        "colab": {
          "base_uri": "https://localhost:8080/"
        },
        "id": "u5_UXAOubcFh",
        "outputId": "97d31cd4-63f1-4f43-bcc7-93de2278f02d"
      },
      "execution_count": 26,
      "outputs": [
        {
          "output_type": "stream",
          "name": "stdout",
          "text": [
            "[0, 2, 4, 6, 8, 10, 12, 14, 16, 18, 20, 22, 24, 26, 28, 30, 32, 34, 36, 38, 40, 42, 44, 46, 48, 50, 52, 54, 56, 58, 60, 62, 64, 66, 68, 70, 72, 74, 76, 78, 80, 82, 84, 86, 88, 90, 92, 94, 96, 98, 100]\n",
            "[1, 3, 5, 7, 9, 11, 13, 15, 17, 19, 21, 23, 25, 27, 29, 31, 33, 35, 37, 39, 41, 43, 45, 47, 49, 51, 53, 55, 57, 59, 61, 63, 65, 67, 69, 71, 73, 75, 77, 79, 81, 83, 85, 87, 89, 91, 93, 95, 97, 99]\n"
          ]
        }
      ]
    },
    {
      "cell_type": "markdown",
      "source": [
        "### + range()와 시퀀스 자료형\n",
        "\n",
        "**`range`** 함수는 순차적인 수열을 생성하는데 사용되는 특별한 자료형으로, 시퀀스 자료형의 일종입니다. 시퀀스 자료형은 리스트, 튜플, 문자열 등과 같은 다양한 타입들을 포함하며, 공통적인 연산과 기능을 지니고 있습니다. 이런 특성은 **`range`** 함수가 생성하는 수열에도 적용됩니다. 다음과 같은 특성들을 확인할 수 있습니다:\n",
        "\n",
        "인덱싱을 할 수 있습니다. 시퀀스 자료형은 인덱스를 통해 각 요소에 접근할 수 있습니다. 예를 들어, **`range(10)[3]`**은 숫자 3을 반환합니다.\n",
        "\n",
        "슬라이싱을 할 수 있습니다. 범위를 지정하여 시퀀스의 일부를 추출할 수 있습니다. 예를 들면, **`range(10)[3:7]`**은 **`range(3, 7)`**과 동일한 결과를 반환합니다.\n",
        "\n",
        "길이 확인이 가능합니다. **`len`** 함수를 사용하여 시퀀스의 길이를 확인할 수 있습니다. 예시로, **`len(range(10))`**은 10을 반환합니다. filter나 map은 길이 확인이 안된다는 점도 기억해두세요.\n",
        "\n",
        "멤버십 테스트 (Membership)가 가능합니다. **`in`** 키워드를 이용하여 시퀀스 내 특정 요소의 존재 여부를 검사할 수 있습니다. 예를 들어, **`5 in range(10)`**은 **`True`**를 반환합니다.\n",
        "\n",
        "반복 (Iteration)할 수 있습니다. **`for`** 반복문을 사용하여 시퀀스의 모든 요소를 순차적으로 순회할 수 있습니다. 예를 들어, **`for i in range(3): print(i)`** 구문은 0, 1, 2를 순서대로 출력합니다."
      ],
      "metadata": {
        "id": "K0ZWY4ebbm4H"
      }
    },
    {
      "cell_type": "code",
      "source": [
        "# enumerate()\n",
        "\n",
        "values = ['A', 'B', 'C', 'D']\n",
        "print(list(enumerate(values)))\n",
        "print(list(enumerate(values, 1)))\n",
        "print(list(enumerate(values, 100)))"
      ],
      "metadata": {
        "colab": {
          "base_uri": "https://localhost:8080/"
        },
        "id": "opXNblucbfX_",
        "outputId": "fb41900e-a256-4c1a-e91c-deb029b18879"
      },
      "execution_count": 29,
      "outputs": [
        {
          "output_type": "stream",
          "name": "stdout",
          "text": [
            "[(0, 'A'), (1, 'B'), (2, 'C'), (3, 'D')]\n",
            "[(1, 'A'), (2, 'B'), (3, 'C'), (4, 'D')]\n",
            "[(100, 'A'), (101, 'B'), (102, 'C'), (103, 'D')]\n"
          ]
        }
      ]
    },
    {
      "cell_type": "code",
      "source": [
        "# sorted()\n",
        "\n",
        "sorted([1, 2, 100, 200, 3, 4, 10, 20])\n",
        "# 출력 : [1, 2, 3, 4, 10, 20, 100, 200] - 오름차순"
      ],
      "metadata": {
        "colab": {
          "base_uri": "https://localhost:8080/"
        },
        "id": "0DSMHa11buEY",
        "outputId": "f30e9104-44c3-4c45-89a9-3d4fc1a0373b"
      },
      "execution_count": 33,
      "outputs": [
        {
          "output_type": "execute_result",
          "data": {
            "text/plain": [
              "[1, 2, 3, 4, 10, 20, 100, 200]"
            ]
          },
          "metadata": {},
          "execution_count": 33
        }
      ]
    },
    {
      "cell_type": "code",
      "source": [
        "sorted([1, 2, 100, 200, 3, 4, 10, 20], reverse=True)\n",
        "# 출력 : [200, 100, 20, 10, 4, 3, 2, 1] - 내림차순"
      ],
      "metadata": {
        "colab": {
          "base_uri": "https://localhost:8080/"
        },
        "id": "awk65jdvb5_x",
        "outputId": "2399d31b-b5b9-4d1d-87fd-135c73dcd290"
      },
      "execution_count": 34,
      "outputs": [
        {
          "output_type": "execute_result",
          "data": {
            "text/plain": [
              "[200, 100, 20, 10, 4, 3, 2, 1]"
            ]
          },
          "metadata": {},
          "execution_count": 34
        }
      ]
    },
    {
      "cell_type": "code",
      "source": [
        "# reversed()\n",
        "\n",
        "list(reversed('hello world'))\n",
        "list(reversed([1, 2, 3, 10, 5, 4])) # 역 정렬 아닙니다! 역순입니다.\n",
        "list(reversed(sorted([1, 2, 3, 10, 5, 4])))"
      ],
      "metadata": {
        "colab": {
          "base_uri": "https://localhost:8080/"
        },
        "id": "Knr8yoFFbxbV",
        "outputId": "988dd1ff-42da-408c-f9b4-054cd39679d9"
      },
      "execution_count": 35,
      "outputs": [
        {
          "output_type": "execute_result",
          "data": {
            "text/plain": [
              "[10, 5, 4, 3, 2, 1]"
            ]
          },
          "metadata": {},
          "execution_count": 35
        }
      ]
    },
    {
      "cell_type": "code",
      "source": [
        "l = [3, 2, 1, 5, 4]\n",
        "print(sorted(l))\n",
        "print(l)"
      ],
      "metadata": {
        "colab": {
          "base_uri": "https://localhost:8080/"
        },
        "id": "xSefZvcWbzlN",
        "outputId": "db298b15-8437-40ff-8c69-7119414216bc"
      },
      "execution_count": 36,
      "outputs": [
        {
          "output_type": "stream",
          "name": "stdout",
          "text": [
            "[1, 2, 3, 4, 5]\n",
            "[3, 2, 1, 5, 4]\n"
          ]
        }
      ]
    },
    {
      "cell_type": "code",
      "source": [],
      "metadata": {
        "id": "l-hpejXucAkV"
      },
      "execution_count": null,
      "outputs": []
    }
  ]
}
