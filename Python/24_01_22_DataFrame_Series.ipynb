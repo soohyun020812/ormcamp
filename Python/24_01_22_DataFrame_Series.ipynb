{
  "nbformat": 4,
  "nbformat_minor": 0,
  "metadata": {
    "colab": {
      "provenance": []
    },
    "kernelspec": {
      "name": "python3",
      "display_name": "Python 3"
    },
    "language_info": {
      "name": "python"
    }
  },
  "cells": [
    {
      "cell_type": "markdown",
      "source": [
        "### 2. 데이터프레임 / 시리즈"
      ],
      "metadata": {
        "id": "btDbXPU0-rbc"
      }
    },
    {
      "cell_type": "code",
      "source": [
        "# Pandas DataFrame 예시\n",
        "import pandas as pd\n",
        "\n",
        "df = pd.DataFrame({\n",
        "    'Name': ['Alice', 'Bob', 'Charlie'],\n",
        "    'Age': [25, 30, 35],\n",
        "    'City': ['New York', 'Paris', 'Berlin']\n",
        "})\n",
        "\n",
        "# 각 속성 호출\n",
        "print(\"Shape:\", df.shape)\n",
        "print(\"Data Types:\\n\", df.dtypes)\n",
        "print(\"Index:\", df.index)\n",
        "print(\"Columns:\", df.columns)"
      ],
      "metadata": {
        "colab": {
          "base_uri": "https://localhost:8080/"
        },
        "id": "s_wmA3lt-q2j",
        "outputId": "d26bf04e-480a-4b69-9d71-8202af516587"
      },
      "execution_count": 1,
      "outputs": [
        {
          "output_type": "stream",
          "name": "stdout",
          "text": [
            "Shape: (3, 3)\n",
            "Data Types:\n",
            " Name    object\n",
            "Age      int64\n",
            "City    object\n",
            "dtype: object\n",
            "Index: RangeIndex(start=0, stop=3, step=1)\n",
            "Columns: Index(['Name', 'Age', 'City'], dtype='object')\n"
          ]
        }
      ]
    },
    {
      "cell_type": "code",
      "source": [
        "# 실습\n",
        "test = pd.read_csv(\"/content/sample_data/california_housing_train.csv\")"
      ],
      "metadata": {
        "id": "_jhwSx7d-0sf"
      },
      "execution_count": 2,
      "outputs": []
    },
    {
      "cell_type": "code",
      "source": [
        "# 각 속성 호출\n",
        "print(\"Shape:\", test.shape)\n",
        "print(\"Data Types:\\n\", test.dtypes)\n",
        "print(\"Index:\", test.index)\n",
        "print(\"Columns:\", test.columns)"
      ],
      "metadata": {
        "colab": {
          "base_uri": "https://localhost:8080/"
        },
        "id": "jgUSmzWq_1jU",
        "outputId": "8f5adcfe-617a-4b27-bee9-5124d0695c6c"
      },
      "execution_count": 3,
      "outputs": [
        {
          "output_type": "stream",
          "name": "stdout",
          "text": [
            "Shape: (17000, 9)\n",
            "Data Types:\n",
            " longitude             float64\n",
            "latitude              float64\n",
            "housing_median_age    float64\n",
            "total_rooms           float64\n",
            "total_bedrooms        float64\n",
            "population            float64\n",
            "households            float64\n",
            "median_income         float64\n",
            "median_house_value    float64\n",
            "dtype: object\n",
            "Index: RangeIndex(start=0, stop=17000, step=1)\n",
            "Columns: Index(['longitude', 'latitude', 'housing_median_age', 'total_rooms',\n",
            "       'total_bedrooms', 'population', 'households', 'median_income',\n",
            "       'median_house_value'],\n",
            "      dtype='object')\n"
          ]
        }
      ]
    },
    {
      "cell_type": "code",
      "source": [
        "import pandas as pd\n",
        "\n",
        "# 예시 데이터프레임 생성\n",
        "data = {\n",
        "    'Name': ['Alice', 'Bob'],  # 문자열 타입\n",
        "    'Age': ['25', '30'],       # 숫자 데이터를 문자열로 표현\n",
        "    'Member': ['True', 'False'],  # 불린 데이터를 문자열로 표현\n",
        "    'Join Date': ['2021-01-01', '2021-07-01']  # 날짜 데이터를 문자열로 표현\n",
        "}\n",
        "\n",
        "# DB -> 문자열! -> 메모리 / 저장용량 효율적!\n",
        "\n",
        "df = pd.DataFrame(data)\n",
        "# 결과 출력\n",
        "print(df)\n",
        "print(df.dtypes)"
      ],
      "metadata": {
        "colab": {
          "base_uri": "https://localhost:8080/"
        },
        "id": "coO9nTjF_3dJ",
        "outputId": "3000ac96-5d3d-47e7-b268-4518768e325a"
      },
      "execution_count": 4,
      "outputs": [
        {
          "output_type": "stream",
          "name": "stdout",
          "text": [
            "    Name Age Member   Join Date\n",
            "0  Alice  25   True  2021-01-01\n",
            "1    Bob  30  False  2021-07-01\n",
            "Name         object\n",
            "Age          object\n",
            "Member       object\n",
            "Join Date    object\n",
            "dtype: object\n"
          ]
        }
      ]
    },
    {
      "cell_type": "code",
      "source": [
        "# 데이터 타입 변환\n",
        "df['Age'] = df['Age'].astype(int)\n",
        "\n",
        "# 결과 출력\n",
        "print(df)\n",
        "print(df.dtypes)"
      ],
      "metadata": {
        "colab": {
          "base_uri": "https://localhost:8080/"
        },
        "id": "UDDyjU5lA-9x",
        "outputId": "ca6f92cb-79ec-497e-80af-32c9115412a3"
      },
      "execution_count": 5,
      "outputs": [
        {
          "output_type": "stream",
          "name": "stdout",
          "text": [
            "    Name  Age Member   Join Date\n",
            "0  Alice   25   True  2021-01-01\n",
            "1    Bob   30  False  2021-07-01\n",
            "Name         object\n",
            "Age           int64\n",
            "Member       object\n",
            "Join Date    object\n",
            "dtype: object\n"
          ]
        }
      ]
    },
    {
      "cell_type": "code",
      "source": [
        "df['Member'] = df['Member'].astype(bool)  # 'Member' 열을 불린형으로 변환\n",
        "\n",
        "# 결과 출력\n",
        "print(df)\n",
        "print(df.dtypes)"
      ],
      "metadata": {
        "colab": {
          "base_uri": "https://localhost:8080/"
        },
        "id": "InNJTEO0BKKR",
        "outputId": "2c5c7381-4510-4729-c55f-3705dea423bf"
      },
      "execution_count": 6,
      "outputs": [
        {
          "output_type": "stream",
          "name": "stdout",
          "text": [
            "    Name  Age  Member   Join Date\n",
            "0  Alice   25    True  2021-01-01\n",
            "1    Bob   30    True  2021-07-01\n",
            "Name         object\n",
            "Age           int64\n",
            "Member         bool\n",
            "Join Date    object\n",
            "dtype: object\n"
          ]
        }
      ]
    },
    {
      "cell_type": "code",
      "source": [
        "# 데이터 타입 변환\n",
        "df['Join Date'] = pd.to_datetime(df['Join Date'])  # 'Join Date' 열을 datetime으로 변환\n",
        "\n",
        "# 결과 출력\n",
        "print(df)\n",
        "print(df.dtypes)"
      ],
      "metadata": {
        "colab": {
          "base_uri": "https://localhost:8080/"
        },
        "id": "1CRQltToAiqG",
        "outputId": "5ea5b85c-04ac-4bfb-d352-33db83804760"
      },
      "execution_count": 7,
      "outputs": [
        {
          "output_type": "stream",
          "name": "stdout",
          "text": [
            "    Name  Age  Member  Join Date\n",
            "0  Alice   25    True 2021-01-01\n",
            "1    Bob   30    True 2021-07-01\n",
            "Name                 object\n",
            "Age                   int64\n",
            "Member                 bool\n",
            "Join Date    datetime64[ns]\n",
            "dtype: object\n"
          ]
        }
      ]
    },
    {
      "cell_type": "code",
      "source": [
        "df_joindate = df['Join Date']"
      ],
      "metadata": {
        "id": "hCIa-npGBUWT"
      },
      "execution_count": 8,
      "outputs": []
    },
    {
      "cell_type": "code",
      "source": [
        "df_joindate.info()"
      ],
      "metadata": {
        "colab": {
          "base_uri": "https://localhost:8080/"
        },
        "id": "7l78WnuvCBs8",
        "outputId": "0a441a44-4c2a-415f-9eee-6ba846f69acf"
      },
      "execution_count": 9,
      "outputs": [
        {
          "output_type": "stream",
          "name": "stdout",
          "text": [
            "<class 'pandas.core.series.Series'>\n",
            "RangeIndex: 2 entries, 0 to 1\n",
            "Series name: Join Date\n",
            "Non-Null Count  Dtype         \n",
            "--------------  -----         \n",
            "2 non-null      datetime64[ns]\n",
            "dtypes: datetime64[ns](1)\n",
            "memory usage: 144.0 bytes\n"
          ]
        }
      ]
    },
    {
      "cell_type": "code",
      "source": [
        "df_joindate_age = df[['Join Date', 'Age']]"
      ],
      "metadata": {
        "id": "wECBCH1_CCdh"
      },
      "execution_count": 10,
      "outputs": []
    },
    {
      "cell_type": "code",
      "source": [
        "df_joindate_age.info()"
      ],
      "metadata": {
        "colab": {
          "base_uri": "https://localhost:8080/"
        },
        "id": "r43nSoeFCR4m",
        "outputId": "bf4516d3-3b5a-4dc3-8fee-34f3f080d576"
      },
      "execution_count": 11,
      "outputs": [
        {
          "output_type": "stream",
          "name": "stdout",
          "text": [
            "<class 'pandas.core.frame.DataFrame'>\n",
            "RangeIndex: 2 entries, 0 to 1\n",
            "Data columns (total 2 columns):\n",
            " #   Column     Non-Null Count  Dtype         \n",
            "---  ------     --------------  -----         \n",
            " 0   Join Date  2 non-null      datetime64[ns]\n",
            " 1   Age        2 non-null      int64         \n",
            "dtypes: datetime64[ns](1), int64(1)\n",
            "memory usage: 160.0 bytes\n"
          ]
        }
      ]
    },
    {
      "cell_type": "code",
      "source": [
        "import pandas as pd\n",
        "import numpy as np\n",
        "\n",
        "# 예시 데이터프레임 생성\n",
        "data = {\n",
        "    'Name': ['Alice', 'Bob', 'Charlie'],\n",
        "    'Age': [25, 30, 35],\n",
        "    'City': ['New York', 'Paris', 'Berlin']\n",
        "}\n",
        "df = pd.DataFrame(data)"
      ],
      "metadata": {
        "id": "2ehxnNiPC6xt"
      },
      "execution_count": 12,
      "outputs": []
    },
    {
      "cell_type": "code",
      "source": [
        "# 단일 열 선택 -> 결과는 Series\n",
        "age_series = df['Age']\n",
        "print(type(age_series))"
      ],
      "metadata": {
        "colab": {
          "base_uri": "https://localhost:8080/"
        },
        "id": "ixwGRhukC9Gc",
        "outputId": "2a683cf5-958e-4189-fb16-7c7b74b4c212"
      },
      "execution_count": 13,
      "outputs": [
        {
          "output_type": "stream",
          "name": "stdout",
          "text": [
            "<class 'pandas.core.series.Series'>\n"
          ]
        }
      ]
    },
    {
      "cell_type": "code",
      "source": [
        "# 다중 열 선택 -> 결과는 DataFrame\n",
        "subset_df = df[['Name', 'City']]\n",
        "print(type(subset_df))"
      ],
      "metadata": {
        "colab": {
          "base_uri": "https://localhost:8080/"
        },
        "id": "hHpNW4vHDDZh",
        "outputId": "7411fd25-ae50-46bf-dba4-d8b05fee8dd8"
      },
      "execution_count": 14,
      "outputs": [
        {
          "output_type": "stream",
          "name": "stdout",
          "text": [
            "<class 'pandas.core.frame.DataFrame'>\n"
          ]
        }
      ]
    },
    {
      "cell_type": "code",
      "source": [
        "# loc 사용 예시\n",
        "print(df.loc[:, 'Age'])"
      ],
      "metadata": {
        "colab": {
          "base_uri": "https://localhost:8080/"
        },
        "id": "ifbVMcAcDHN6",
        "outputId": "ef0af441-b6de-409e-a673-d282deddd5a3"
      },
      "execution_count": 15,
      "outputs": [
        {
          "output_type": "stream",
          "name": "stdout",
          "text": [
            "0    25\n",
            "1    30\n",
            "2    35\n",
            "Name: Age, dtype: int64\n"
          ]
        }
      ]
    },
    {
      "cell_type": "code",
      "source": [
        "# iloc 사용 예시\n",
        "print(df.iloc[:, 1])"
      ],
      "metadata": {
        "colab": {
          "base_uri": "https://localhost:8080/"
        },
        "id": "Lf-iLCj2DMpQ",
        "outputId": "83765c25-2ae8-476c-a90c-54f943fe0f02"
      },
      "execution_count": 16,
      "outputs": [
        {
          "output_type": "stream",
          "name": "stdout",
          "text": [
            "0    25\n",
            "1    30\n",
            "2    35\n",
            "Name: Age, dtype: int64\n"
          ]
        }
      ]
    },
    {
      "cell_type": "code",
      "source": [
        "# 결측치 추가\n",
        "# [행 / 열]\n",
        "df.loc[1, 'Age'] = np.nan"
      ],
      "metadata": {
        "id": "kXEojA4_DZqQ"
      },
      "execution_count": 17,
      "outputs": []
    },
    {
      "cell_type": "code",
      "source": [
        "print(df)"
      ],
      "metadata": {
        "colab": {
          "base_uri": "https://localhost:8080/"
        },
        "id": "FpCTz7ddDc-x",
        "outputId": "fc6259e9-0b64-48f3-fc6b-828a045de721"
      },
      "execution_count": 18,
      "outputs": [
        {
          "output_type": "stream",
          "name": "stdout",
          "text": [
            "      Name   Age      City\n",
            "0    Alice  25.0  New York\n",
            "1      Bob   NaN     Paris\n",
            "2  Charlie  35.0    Berlin\n"
          ]
        }
      ]
    },
    {
      "cell_type": "code",
      "source": [
        "# 결측치 확인 isnull -> null이 아니면 false null이면 True\n",
        "print(df['Age'].isnull())"
      ],
      "metadata": {
        "colab": {
          "base_uri": "https://localhost:8080/"
        },
        "id": "i2TwfbOCCXIh",
        "outputId": "124d1a7c-d04d-4a2a-a046-0dc8b6fc8ac9"
      },
      "execution_count": 19,
      "outputs": [
        {
          "output_type": "stream",
          "name": "stdout",
          "text": [
            "0    False\n",
            "1     True\n",
            "2    False\n",
            "Name: Age, dtype: bool\n"
          ]
        }
      ]
    },
    {
      "cell_type": "code",
      "source": [
        "df.info()"
      ],
      "metadata": {
        "colab": {
          "base_uri": "https://localhost:8080/"
        },
        "id": "AvDHAaoXDuct",
        "outputId": "5ffa97db-db21-477d-93d1-6a7fdea36ae1"
      },
      "execution_count": 20,
      "outputs": [
        {
          "output_type": "stream",
          "name": "stdout",
          "text": [
            "<class 'pandas.core.frame.DataFrame'>\n",
            "RangeIndex: 3 entries, 0 to 2\n",
            "Data columns (total 3 columns):\n",
            " #   Column  Non-Null Count  Dtype  \n",
            "---  ------  --------------  -----  \n",
            " 0   Name    3 non-null      object \n",
            " 1   Age     2 non-null      float64\n",
            " 2   City    3 non-null      object \n",
            "dtypes: float64(1), object(2)\n",
            "memory usage: 200.0+ bytes\n"
          ]
        }
      ]
    },
    {
      "cell_type": "code",
      "source": [
        "# series 메서드 활용\n",
        "import pandas as pd\n",
        "\n",
        "# Series 생성\n",
        "data = pd.Series([10, 20, 20, 30, 30, 30, 40])\n",
        "\n",
        "# sum(), mean(), value_counts() 사용 예시\n",
        "print(\"Sum:\", data.sum())           # 합계\n",
        "print(\"Mean:\", data.mean())         # 평균\n",
        "print(\"Value Counts:\\n\", data.value_counts())  # 빈도 계산"
      ],
      "metadata": {
        "colab": {
          "base_uri": "https://localhost:8080/"
        },
        "id": "tvLbhBBzD3a_",
        "outputId": "5b833d69-6af4-4688-8fa4-3ebc515de8b5"
      },
      "execution_count": 21,
      "outputs": [
        {
          "output_type": "stream",
          "name": "stdout",
          "text": [
            "Sum: 180\n",
            "Mean: 25.714285714285715\n",
            "Value Counts:\n",
            " 30    3\n",
            "20    2\n",
            "10    1\n",
            "40    1\n",
            "dtype: int64\n"
          ]
        }
      ]
    },
    {
      "cell_type": "code",
      "source": [
        "import pandas as pd\n",
        "\n",
        "# Series 생성\n",
        "data = pd.Series([10, 15, 20, 25, 30, 10, 15, 20])\n",
        "\n",
        "# 다양한 메서드 활용\n",
        "print(\"Minimum:\", data.min())             # 최소값\n",
        "print(\"Maximum:\", data.max())             # 최대값\n",
        "print(\"Standard Deviation:\", data.std())  # 표준편차\n",
        "print(\"Variance:\", data.var())            # 분산\n",
        "print(\"Number of Unique Values:\", data.nunique())  # 고유값 개수\n",
        "\n",
        "# 데이터프레임 요약\n",
        "df = pd.DataFrame({\n",
        "    'Age': [25, 30, 35, 40, 45],\n",
        "    'Salary': [50000, 55000, 60000, 65000, 70000]\n",
        "})\n",
        "print(\"\\nDataFrame Summary:\\n\", df.describe())\n",
        "print(\"\\nDataFrame Info:\")\n",
        "df.info()"
      ],
      "metadata": {
        "colab": {
          "base_uri": "https://localhost:8080/"
        },
        "id": "BOvDHLp5IXyN",
        "outputId": "60943ab7-9b66-48ed-dae4-bc9df8fb5e52"
      },
      "execution_count": 22,
      "outputs": [
        {
          "output_type": "stream",
          "name": "stdout",
          "text": [
            "Minimum: 10\n",
            "Maximum: 30\n",
            "Standard Deviation: 7.039429765866794\n",
            "Variance: 49.55357142857143\n",
            "Number of Unique Values: 5\n",
            "\n",
            "DataFrame Summary:\n",
            "              Age       Salary\n",
            "count   5.000000      5.00000\n",
            "mean   35.000000  60000.00000\n",
            "std     7.905694   7905.69415\n",
            "min    25.000000  50000.00000\n",
            "25%    30.000000  55000.00000\n",
            "50%    35.000000  60000.00000\n",
            "75%    40.000000  65000.00000\n",
            "max    45.000000  70000.00000\n",
            "\n",
            "DataFrame Info:\n",
            "<class 'pandas.core.frame.DataFrame'>\n",
            "RangeIndex: 5 entries, 0 to 4\n",
            "Data columns (total 2 columns):\n",
            " #   Column  Non-Null Count  Dtype\n",
            "---  ------  --------------  -----\n",
            " 0   Age     5 non-null      int64\n",
            " 1   Salary  5 non-null      int64\n",
            "dtypes: int64(2)\n",
            "memory usage: 208.0 bytes\n"
          ]
        }
      ]
    },
    {
      "cell_type": "code",
      "source": [
        "# 실습\n",
        "test = pd.read_csv(\"/content/sample_data/california_housing_train.csv\")\n",
        "test\n",
        "# 데이터프레임의 'housing_median_age' 열을 Series로 변환하고 숫자형으로 변환\n",
        "test_series = test['housing_median_age']"
      ],
      "metadata": {
        "id": "GYv38VyRKB8v"
      },
      "execution_count": 26,
      "outputs": []
    },
    {
      "cell_type": "code",
      "source": [
        "print(test_series)"
      ],
      "metadata": {
        "colab": {
          "base_uri": "https://localhost:8080/"
        },
        "id": "V6mKrGCEKYcU",
        "outputId": "6b240aae-4970-477a-8456-85da96d63ffb"
      },
      "execution_count": 27,
      "outputs": [
        {
          "output_type": "stream",
          "name": "stdout",
          "text": [
            "0        15.0\n",
            "1        19.0\n",
            "2        17.0\n",
            "3        14.0\n",
            "4        20.0\n",
            "         ... \n",
            "16995    52.0\n",
            "16996    36.0\n",
            "16997    17.0\n",
            "16998    19.0\n",
            "16999    52.0\n",
            "Name: housing_median_age, Length: 17000, dtype: float64\n"
          ]
        }
      ]
    },
    {
      "cell_type": "code",
      "source": [
        "# 각 요소에 1 더하기\n",
        "test_plus_one = test_series + 1\n",
        "print(\"Stars Plus One:\\n\", test_plus_one.head())"
      ],
      "metadata": {
        "colab": {
          "base_uri": "https://localhost:8080/"
        },
        "id": "Di5pkmE-KfVR",
        "outputId": "21416ee6-c2a1-403e-cc16-b432b7e2d7d7"
      },
      "execution_count": 28,
      "outputs": [
        {
          "output_type": "stream",
          "name": "stdout",
          "text": [
            "Stars Plus One:\n",
            " 0    16.0\n",
            "1    20.0\n",
            "2    18.0\n",
            "3    15.0\n",
            "4    21.0\n",
            "Name: housing_median_age, dtype: float64\n"
          ]
        }
      ]
    },
    {
      "cell_type": "code",
      "source": [
        "# 각 요소에 2 곱하기\n",
        "test_times_two = test_series * 2\n",
        "print(\"Stars Times Two:\\n\", test_times_two.head())"
      ],
      "metadata": {
        "colab": {
          "base_uri": "https://localhost:8080/"
        },
        "id": "HPVMZizpKOWa",
        "outputId": "510f3cdb-d419-47e2-f38d-625e902f1321"
      },
      "execution_count": 29,
      "outputs": [
        {
          "output_type": "stream",
          "name": "stdout",
          "text": [
            "Stars Times Two:\n",
            " 0    30.0\n",
            "1    38.0\n",
            "2    34.0\n",
            "3    28.0\n",
            "4    40.0\n",
            "Name: housing_median_age, dtype: float64\n"
          ]
        }
      ]
    },
    {
      "cell_type": "code",
      "source": [
        "# 불린 연산이 가능 -> 해당하는 값만 가져올 수 있음\n",
        "high_age = test_series > 17.0\n",
        "print(\"High age:\\n\", high_age.head())"
      ],
      "metadata": {
        "colab": {
          "base_uri": "https://localhost:8080/"
        },
        "id": "lZpkXMEPLAwl",
        "outputId": "99985959-a4b0-42bb-df9b-121c7661aef3"
      },
      "execution_count": 31,
      "outputs": [
        {
          "output_type": "stream",
          "name": "stdout",
          "text": [
            "High age:\n",
            " 0    False\n",
            "1     True\n",
            "2    False\n",
            "3    False\n",
            "4     True\n",
            "Name: housing_median_age, dtype: bool\n"
          ]
        }
      ]
    },
    {
      "cell_type": "code",
      "source": [
        "# 조건을 만족하는 요소만 필터링\n",
        "filtered_series = test_series[high_age]\n",
        "print(\"Filtered Series:\\n\", filtered_series.head())"
      ],
      "metadata": {
        "colab": {
          "base_uri": "https://localhost:8080/"
        },
        "id": "iUTJb_kLKvG5",
        "outputId": "d2f5e21b-f25c-490e-cce5-50f743a09f98"
      },
      "execution_count": 32,
      "outputs": [
        {
          "output_type": "stream",
          "name": "stdout",
          "text": [
            "Filtered Series:\n",
            " 1    19.0\n",
            "4    20.0\n",
            "5    29.0\n",
            "6    25.0\n",
            "7    41.0\n",
            "Name: housing_median_age, dtype: float64\n"
          ]
        }
      ]
    },
    {
      "cell_type": "code",
      "source": [
        "import pandas as pd\n",
        "\n",
        "df = pd.DataFrame({\n",
        "    'A': [1, 2, 3],\n",
        "    'B': [4, 5, 6],\n",
        "    'C': [7, 8, 9]\n",
        "})\n",
        "\n",
        "# 열 이름 변경\n",
        "# columns({변경하기전 : 변경한 후 , 변경하기전 : 변경한 후})\n",
        "df = df.rename(columns={'A': 'X', 'B': 'Y', 'C': 'Z'})\n",
        "print(df)"
      ],
      "metadata": {
        "colab": {
          "base_uri": "https://localhost:8080/"
        },
        "id": "CTPyEVz1L2Jy",
        "outputId": "df291cc5-7186-4461-9381-6cc0e0d9250b"
      },
      "execution_count": 33,
      "outputs": [
        {
          "output_type": "stream",
          "name": "stdout",
          "text": [
            "   X  Y  Z\n",
            "0  1  4  7\n",
            "1  2  5  8\n",
            "2  3  6  9\n"
          ]
        }
      ]
    },
    {
      "cell_type": "code",
      "source": [
        "df = pd.DataFrame({\n",
        "    'A': [1, 2, 3],\n",
        "    'B': [4, 5, 6],\n",
        "    'C': [7, 8, 9]\n",
        "})\n",
        "# 모든 열 이름 변경\n",
        "df.columns = ['X', 'Y', 'Z']\n",
        "print(df)"
      ],
      "metadata": {
        "colab": {
          "base_uri": "https://localhost:8080/"
        },
        "id": "Xci4ivMsMqZH",
        "outputId": "c330f31d-1d96-41f5-bc6b-27bcbeed756a"
      },
      "execution_count": 34,
      "outputs": [
        {
          "output_type": "stream",
          "name": "stdout",
          "text": [
            "   X  Y  Z\n",
            "0  1  4  7\n",
            "1  2  5  8\n",
            "2  3  6  9\n"
          ]
        }
      ]
    },
    {
      "cell_type": "code",
      "source": [],
      "metadata": {
        "id": "b8h19PTszMX_"
      },
      "execution_count": null,
      "outputs": []
    }
  ]
}
