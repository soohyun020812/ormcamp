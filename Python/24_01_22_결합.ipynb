{
  "nbformat": 4,
  "nbformat_minor": 0,
  "metadata": {
    "colab": {
      "provenance": []
    },
    "kernelspec": {
      "name": "python3",
      "display_name": "Python 3"
    },
    "language_info": {
      "name": "python"
    }
  },
  "cells": [
    {
      "cell_type": "markdown",
      "source": [
        "### 4. 결합"
      ],
      "metadata": {
        "id": "8mciv_6FPQ3-"
      }
    },
    {
      "cell_type": "code",
      "source": [
        "import pandas as pd\n",
        "\n",
        "# Sample DataFrames\n",
        "df1 = pd.DataFrame({'A': [1, 2], 'B': [3, 4]})\n",
        "df2 = pd.DataFrame({'A': [5, 6], 'B': [7, 8]})"
      ],
      "metadata": {
        "id": "C78o0infOgui"
      },
      "execution_count": 1,
      "outputs": []
    },
    {
      "cell_type": "code",
      "source": [
        "print(df1)"
      ],
      "metadata": {
        "colab": {
          "base_uri": "https://localhost:8080/"
        },
        "id": "uuUJ-L8tPW_S",
        "outputId": "9facf137-2899-4284-dca7-120e0f553777"
      },
      "execution_count": 2,
      "outputs": [
        {
          "output_type": "stream",
          "name": "stdout",
          "text": [
            "   A  B\n",
            "0  1  3\n",
            "1  2  4\n"
          ]
        }
      ]
    },
    {
      "cell_type": "code",
      "source": [
        "print(df2)"
      ],
      "metadata": {
        "colab": {
          "base_uri": "https://localhost:8080/"
        },
        "id": "hK83d0CVPYs9",
        "outputId": "ac47a36f-a008-42db-96f4-c36782f3994f"
      },
      "execution_count": 3,
      "outputs": [
        {
          "output_type": "stream",
          "name": "stdout",
          "text": [
            "   A  B\n",
            "0  5  7\n",
            "1  6  8\n"
          ]
        }
      ]
    },
    {
      "cell_type": "code",
      "source": [
        "# 가로로 연결 (열 방향)\n",
        "# 주의할 점 - df1과 df2가 동일한 행을 가지고 있을 때\n",
        "\n",
        "result = pd.concat([df1, df2], axis=1) #axis=1\n",
        "\n",
        "print(result)"
      ],
      "metadata": {
        "colab": {
          "base_uri": "https://localhost:8080/"
        },
        "id": "PaRlvb43PTF3",
        "outputId": "b4f37541-898a-4660-fb47-867dfb7f4ad0"
      },
      "execution_count": 4,
      "outputs": [
        {
          "output_type": "stream",
          "name": "stdout",
          "text": [
            "   A  B  A  B\n",
            "0  1  3  5  7\n",
            "1  2  4  6  8\n"
          ]
        }
      ]
    },
    {
      "cell_type": "code",
      "source": [
        "import pandas as pd\n",
        "\n",
        "# Sample DataFrames with different column names\n",
        "df1 = pd.DataFrame({'A': [1, 2], 'B': [3, 4]})\n",
        "df2 = pd.DataFrame({'X': [5, 6], 'Y': [7, 8]})\n",
        "\n",
        "# 가로로 연결 (열 방향) - 열 이름 다름\n",
        "result = pd.concat([df1, df2], axis=1, ignore_index=True)\n",
        "\n",
        "print(result)"
      ],
      "metadata": {
        "colab": {
          "base_uri": "https://localhost:8080/"
        },
        "id": "fmBJ6WqBPebQ",
        "outputId": "2591f4d4-3977-4f19-80b1-73553baa77db"
      },
      "execution_count": 5,
      "outputs": [
        {
          "output_type": "stream",
          "name": "stdout",
          "text": [
            "   0  1  2  3\n",
            "0  1  3  5  7\n",
            "1  2  4  6  8\n"
          ]
        }
      ]
    },
    {
      "cell_type": "code",
      "source": [
        "import pandas as pd\n",
        "\n",
        "# Sample DataFrames\n",
        "df1 = pd.DataFrame({'A': [1, 2], 'B': [3, 4]})\n",
        "df2 = pd.DataFrame({'A': [5, 6], 'B': [7, 8]})\n",
        "\n",
        "# 세로로 연결 (행 방향)\n",
        "result = pd.concat([df1, df2]) # axis=0이 빠져있는 상태\n",
        "\n",
        "print(result)"
      ],
      "metadata": {
        "colab": {
          "base_uri": "https://localhost:8080/"
        },
        "id": "4wvLhwbzPw-L",
        "outputId": "69200116-89e7-42a8-f9b9-4428fd7e333c"
      },
      "execution_count": 6,
      "outputs": [
        {
          "output_type": "stream",
          "name": "stdout",
          "text": [
            "   A  B\n",
            "0  1  3\n",
            "1  2  4\n",
            "0  5  7\n",
            "1  6  8\n"
          ]
        }
      ]
    },
    {
      "cell_type": "code",
      "source": [
        "# 어떨때 사용할까\n",
        "# 2023년 1월 ~ 2024 1월 -> 분석 열심히 했다\n",
        "# 2024년 2월 신규로 왔다\n",
        "\n",
        "import pandas as pd\n",
        "\n",
        "# Sample DataFrames with different index\n",
        "df1 = pd.DataFrame({'A': [1, 2], 'B': [3, 4]}, index=[0, 1])\n",
        "df2 = pd.DataFrame({'A': [5, 6], 'B': [7, 8]}, index=[2, 3])\n",
        "\n",
        "# 세로로 연결 (행 방향) - 인덱스 다름\n",
        "result = pd.concat([df1, df2], ignore_index=True)\n",
        "\n",
        "print(result)"
      ],
      "metadata": {
        "colab": {
          "base_uri": "https://localhost:8080/"
        },
        "id": "FiicCUvtQX4s",
        "outputId": "a5626056-3dcc-4703-8b03-d3de3efc01f1"
      },
      "execution_count": 7,
      "outputs": [
        {
          "output_type": "stream",
          "name": "stdout",
          "text": [
            "   A  B\n",
            "0  1  3\n",
            "1  2  4\n",
            "2  5  7\n",
            "3  6  8\n"
          ]
        }
      ]
    },
    {
      "cell_type": "code",
      "source": [],
      "metadata": {
        "id": "wyZdpEhB0JWo"
      },
      "execution_count": null,
      "outputs": []
    }
  ]
}
