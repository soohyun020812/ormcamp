{
  "nbformat": 4,
  "nbformat_minor": 0,
  "metadata": {
    "colab": {
      "provenance": []
    },
    "kernelspec": {
      "name": "python3",
      "display_name": "Python 3"
    },
    "language_info": {
      "name": "python"
    }
  },
  "cells": [
    {
      "cell_type": "markdown",
      "source": [
        "**동기 프로그래밍** : 코드가 순차적으로 실행되며, 특정 작업이 완료될 때까지 프로그램이 기다리는 방식\\\n",
        "해당 실습은 로컬에서 진행\n",
        "\n",
        "**비동기 프로그래밍** : 동시에 여러 작업을 진행할 수 있음\\\n",
        "이때, 이벤트 루프와 콜백 함수 등을 활용하여 작업을 관리"
      ],
      "metadata": {
        "id": "ssSC_qZBCnCi"
      }
    },
    {
      "cell_type": "code",
      "source": [
        "!pip install nest_asyncio"
      ],
      "metadata": {
        "colab": {
          "base_uri": "https://localhost:8080/"
        },
        "id": "R02MkzQinSnM",
        "outputId": "3351cce7-e504-4e51-f12a-90a6c3e5afb7"
      },
      "execution_count": 1,
      "outputs": [
        {
          "output_type": "stream",
          "name": "stdout",
          "text": [
            "Requirement already satisfied: nest_asyncio in /usr/local/lib/python3.10/dist-packages (1.5.8)\n"
          ]
        }
      ]
    },
    {
      "cell_type": "code",
      "source": [
        "import nest_asyncio\n",
        "\n",
        "nest_asyncio.apply()"
      ],
      "metadata": {
        "id": "UMvUtWpEonIX"
      },
      "execution_count": 2,
      "outputs": []
    },
    {
      "cell_type": "code",
      "source": [
        "import time\n",
        "\n",
        "def job(number):\n",
        "    print(f\"Job {number} started\")\n",
        "    time.sleep(1)  # 매우 오래 걸리는 작업, 일반 sleep은 CPU를 쉬게 함\n",
        "    print(f\"Job {number} completed\")\n",
        "\n",
        "job(1)\n",
        "job(2)\n",
        "job(3)"
      ],
      "metadata": {
        "colab": {
          "base_uri": "https://localhost:8080/"
        },
        "id": "NlfPIyLgoohJ",
        "outputId": "26d371fb-b2be-4137-9156-384c4bcf9031"
      },
      "execution_count": 3,
      "outputs": [
        {
          "output_type": "stream",
          "name": "stdout",
          "text": [
            "Job 1 started\n",
            "Job 1 completed\n",
            "Job 2 started\n",
            "Job 2 completed\n",
            "Job 3 started\n",
            "Job 3 completed\n"
          ]
        }
      ]
    },
    {
      "cell_type": "code",
      "source": [
        "# colab에서 작동하는 코드\n",
        "# 기본 base는 colab에서 작동하지 않음\n",
        "\n",
        "import asyncio\n",
        "\n",
        "async def job(number):\n",
        "    print(f\"Job {number} started\")\n",
        "    await asyncio.sleep(1) # 매우 오래 걸리는 작업, asyncio.sleep은 비동기 처리를 할 수 있도록 함 (다른 작업이 가능)\n",
        "    print(f\"Job {number} completed\")\n",
        "\n",
        "async def main():\n",
        "    await asyncio.gather(job(1), job(2), job(3)) # await asyncio.wait([job(1), job(2), job(3)])\n",
        "\n",
        "asyncio.run(main())\n",
        "print('hello world')"
      ],
      "metadata": {
        "colab": {
          "base_uri": "https://localhost:8080/"
        },
        "id": "h1aW2xc-o0bA",
        "outputId": "cf6c08e1-46a8-47af-ebfe-1fecf02d2295"
      },
      "execution_count": 4,
      "outputs": [
        {
          "output_type": "stream",
          "name": "stdout",
          "text": [
            "Job 1 started\n",
            "Job 2 started\n",
            "Job 3 started\n",
            "Job 1 completed\n",
            "Job 2 completed\n",
            "Job 3 completed\n",
            "hello world\n"
          ]
        }
      ]
    },
    {
      "cell_type": "markdown",
      "source": [
        "### 코루틴"
      ],
      "metadata": {
        "id": "J9mf6XuQr1XQ"
      }
    },
    {
      "cell_type": "code",
      "source": [
        "def job():\n",
        "    print('job')\n",
        "\n",
        "print(job)"
      ],
      "metadata": {
        "id": "JUpKvhfrrOjT",
        "colab": {
          "base_uri": "https://localhost:8080/"
        },
        "outputId": "54f6638b-e1d9-499e-83cd-893b22e7521d"
      },
      "execution_count": 5,
      "outputs": [
        {
          "output_type": "stream",
          "name": "stdout",
          "text": [
            "<function job at 0x7cd24b44a4d0>\n"
          ]
        }
      ]
    },
    {
      "cell_type": "code",
      "source": [
        "async def job():\n",
        "    print('job')\n",
        "\n",
        "print(job) # <function job at 0x7fc8cb38ef80>\n",
        "job() # <coroutine object job at 0x7fc8cb32bc30>, print('job')이 실행되진 않음"
      ],
      "metadata": {
        "id": "-QOqvxFErSsN",
        "colab": {
          "base_uri": "https://localhost:8080/"
        },
        "outputId": "28360ba6-bec8-4dff-f7d2-b7a215577efb"
      },
      "execution_count": 6,
      "outputs": [
        {
          "output_type": "stream",
          "name": "stdout",
          "text": [
            "<function job at 0x7cd24b448f70>\n"
          ]
        },
        {
          "output_type": "execute_result",
          "data": {
            "text/plain": [
              "<coroutine object job at 0x7cd24b407220>"
            ]
          },
          "metadata": {},
          "execution_count": 6
        }
      ]
    },
    {
      "cell_type": "code",
      "source": [
        "async def main():\n",
        "    return await job()\n",
        "\n",
        "main() # <coroutine object main at 0x7fc8cb22bf40>\n",
        "print(await main()) # None"
      ],
      "metadata": {
        "colab": {
          "base_uri": "https://localhost:8080/"
        },
        "id": "_fOJ7NG2roGd",
        "outputId": "668558cb-39c9-4f04-e272-fb2b96ddf4c7"
      },
      "execution_count": 7,
      "outputs": [
        {
          "output_type": "stream",
          "name": "stdout",
          "text": [
            "job\n",
            "None\n"
          ]
        },
        {
          "output_type": "stream",
          "name": "stderr",
          "text": [
            "<ipython-input-7-1e692a3474ee>:4: RuntimeWarning: coroutine 'main' was never awaited\n",
            "  main() # <coroutine object main at 0x7fc8cb22bf40>\n",
            "RuntimeWarning: Enable tracemalloc to get the object allocation traceback\n"
          ]
        }
      ]
    },
    {
      "cell_type": "markdown",
      "source": [
        "**코루틴 관련된 주요 개념**\n",
        "\n",
        "    async def: 코루틴 함수를 선언하는 데 사용됩니다. 이 함수는 비동기적으로 실행될 수 있는 코루틴 객체를 반환합니다.\n",
        "    await: 코루틴의 작업이 완료될 때까지 기다린 후 결과를 반환합니다.\n",
        "    asyncio.run(): 코루틴을 실행하는 함수입니다. 이벤트 루프를 생성하고, 주어진 코루틴을 실행한 후 이벤트 루프를 닫습니다.\n",
        "    asyncio.gather(): 여러 코루틴을 동시에 실행하도록 스케줄링하는 함수입니다.\n",
        "\n",
        "- 코루틴은 파이썬 3.5부터 `async` / `await` 구문을 통해 지원되기 시작함"
      ],
      "metadata": {
        "id": "hJMcjX6nC9Ln"
      }
    },
    {
      "cell_type": "code",
      "source": [],
      "metadata": {
        "id": "AHGok2LVrvCC"
      },
      "execution_count": null,
      "outputs": []
    }
  ]
}
