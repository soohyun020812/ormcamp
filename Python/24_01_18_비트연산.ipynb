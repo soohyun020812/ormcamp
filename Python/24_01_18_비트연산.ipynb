{
  "nbformat": 4,
  "nbformat_minor": 0,
  "metadata": {
    "colab": {
      "provenance": []
    },
    "kernelspec": {
      "name": "python3",
      "display_name": "Python 3"
    },
    "language_info": {
      "name": "python"
    }
  },
  "cells": [
    {
      "cell_type": "markdown",
      "source": [
        "비트연산 : 알고리즘 테스트에서 CS지식 정도를 테스트 하는 용도\n",
        "\n",
        "*10진법*\n",
        "\n",
        "`1542 == 1 * (10**3) + 5 * (10**2) + 4 * (10**1) + 2 * (10**0)\n",
        "0123456789 10`\n",
        "\n",
        "*16진법*\n",
        "\n",
        "`1542 == 1 * (16**3) + 5 * (16**2) + 4 * (16**1) + 2 * (16**0)\n",
        "0123456789abcdef 10`\n",
        "\n",
        "*8진법*\n",
        "\n",
        "`1542 == 1 * (8**3) + 5 * (8**2) + 4 * (8**1) + 2 * (8**0)\n",
        "01234567 10`\n",
        "\n",
        "`01 10`"
      ],
      "metadata": {
        "id": "lNJffZ9SZN4Y"
      }
    },
    {
      "cell_type": "markdown",
      "source": [
        "**진법 변환 팁**\n",
        "\n",
        "10진 == 2진\n",
        "\n",
        "    1 == 1\n",
        "    2 == 10\n",
        "    4 == 100\n",
        "    8 == 1000\n",
        "    16 == 10000\n",
        "\n",
        "9는? 8 + 1 -> 1000 + 1 = 1001\n",
        "\n",
        "15는? 16 - 1 -> 10000 - 1 = 1111\n",
        "\n",
        "1. 6 - 1: 16진법에서 1을 뜻함\n",
        "2. 10000 - 1: 2진법에서 10000은 16진법에서 1을 나타냄,\\\n",
        "이는 2진법에서 16을 나타내는데 그 중에서 1을 빼줌\n",
        "3. = 1111: 그 결과로 나온 15를 2진법으로 표현하면 1111"
      ],
      "metadata": {
        "id": "8i7O60AnZseL"
      }
    },
    {
      "cell_type": "code",
      "execution_count": 1,
      "metadata": {
        "colab": {
          "base_uri": "https://localhost:8080/"
        },
        "id": "qYgxFIK-Ygsw",
        "outputId": "1f9155ed-ab91-4815-bb24-0ee7d20f5151"
      },
      "outputs": [
        {
          "output_type": "execute_result",
          "data": {
            "text/plain": [
              "11"
            ]
          },
          "metadata": {},
          "execution_count": 1
        }
      ],
      "source": [
        "3 | 9"
      ]
    },
    {
      "cell_type": "code",
      "source": [
        "'''\n",
        "00000000\n",
        "00000001 == 1\n",
        "11111110 == -1\n",
        "11111111 + 1 => 00000000(우리가 원하는 값)\n",
        "'''"
      ],
      "metadata": {
        "colab": {
          "base_uri": "https://localhost:8080/",
          "height": 35
        },
        "id": "vVDl7ryJnSY7",
        "outputId": "805817cc-36c3-4342-81d6-52aca84676cc"
      },
      "execution_count": 6,
      "outputs": [
        {
          "output_type": "execute_result",
          "data": {
            "text/plain": [
              "'\\n00000000\\n00000001 == 1\\n11111110 == -1\\n11111111 + 1 => 00000000(우리가 원하는 값)\\n'"
            ],
            "application/vnd.google.colaboratory.intrinsic+json": {
              "type": "string"
            }
          },
          "metadata": {},
          "execution_count": 6
        }
      ]
    },
    {
      "cell_type": "code",
      "source": [
        "9 | 30\n",
        "bin(9 | 30)\n",
        "bin(9 | 30)[2:]\n",
        "bin(9 | 30)[2:].replace('1', '#').replace('0', ' ')\n",
        "\n",
        "arr1 = [9, 20, 28, 18, 11]\n",
        "arr2 = [30, 1, 21, 17, 28]\n",
        "\n",
        "for i, j in zip(arr1, arr2):\n",
        "    print(bin(i | j)[2:].replace('1', '#').replace('0', ' '))"
      ],
      "metadata": {
        "colab": {
          "base_uri": "https://localhost:8080/"
        },
        "id": "QFbMBvq0dwqt",
        "outputId": "aad59fbc-2993-4567-b662-89b938615ecf"
      },
      "execution_count": 2,
      "outputs": [
        {
          "output_type": "stream",
          "name": "stdout",
          "text": [
            "#####\n",
            "# # #\n",
            "### #\n",
            "#  ##\n",
            "#####\n"
          ]
        }
      ]
    },
    {
      "cell_type": "code",
      "source": [
        "[\"#####\",\"# # #\", \"### #\", \"# ##\", \"#####\"]"
      ],
      "metadata": {
        "colab": {
          "base_uri": "https://localhost:8080/"
        },
        "id": "TJQvuWz8nMxr",
        "outputId": "1d1e3263-7334-4223-fb87-3bdfa45039a8"
      },
      "execution_count": 3,
      "outputs": [
        {
          "output_type": "execute_result",
          "data": {
            "text/plain": [
              "['#####', '# # #', '### #', '# ##', '#####']"
            ]
          },
          "metadata": {},
          "execution_count": 3
        }
      ]
    },
    {
      "cell_type": "code",
      "source": [
        "bin(31) # 2진법 변환  '0b11111'\n",
        "oct(31) # 8진법 변환  '0o37'\n",
        "hex(31) # 16진법 변환 '0x1f'\n",
        "\n",
        "int('0b11111', 2) # 2진수를 10진수로 변환\n",
        "int('11111', 2) # 2진수를 10진수로 변환"
      ],
      "metadata": {
        "colab": {
          "base_uri": "https://localhost:8080/"
        },
        "id": "7QHJU2iUnOcd",
        "outputId": "b43507f9-55d4-4934-dc28-3e687969adbb"
      },
      "execution_count": 4,
      "outputs": [
        {
          "output_type": "execute_result",
          "data": {
            "text/plain": [
              "31"
            ]
          },
          "metadata": {},
          "execution_count": 4
        }
      ]
    },
    {
      "cell_type": "code",
      "source": [],
      "metadata": {
        "id": "LGXY1XtpnPko"
      },
      "execution_count": null,
      "outputs": []
    }
  ]
}
