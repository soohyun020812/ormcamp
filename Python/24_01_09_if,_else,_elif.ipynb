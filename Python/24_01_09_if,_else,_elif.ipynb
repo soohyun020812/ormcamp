{
  "nbformat": 4,
  "nbformat_minor": 0,
  "metadata": {
    "colab": {
      "provenance": []
    },
    "kernelspec": {
      "name": "python3",
      "display_name": "Python 3"
    },
    "language_info": {
      "name": "python"
    }
  },
  "cells": [
    {
      "cell_type": "markdown",
      "source": [
        "### if - else\n",
        "\n",
        "**if문을 사용하면 조건을 기반으로 서로 다른 코드 블록을 실행할 수 있음**\n",
        "\n",
        "if 문의 조건문을 확인해서 만약 참이면 수행할 문장 1\\\n",
        "조건이 거짓이면 else 문이 실행되어 수행할 문장 2 가 수행"
      ],
      "metadata": {
        "id": "-nkfvRrO1_2e"
      }
    },
    {
      "cell_type": "code",
      "source": [
        "'''\n",
        "if, else문의 기본구조\n",
        "if 조건문: # 조건문을 확인해서 만약 '참'이면 if 문 다음에 문장들은 수행\n",
        "    pass\n",
        "\t  # 수행할 문장 1\n",
        "else: # if문의 조건이 거짓이면 else 문이 실행, (조건을 적지 않아도 됨)\n",
        "    pass\n",
        "\t  # 수행할 문장 2\n",
        "'''"
      ],
      "metadata": {
        "colab": {
          "base_uri": "https://localhost:8080/",
          "height": 72
        },
        "id": "cf0XpyO62XRa",
        "outputId": "90601e7d-b38d-4077-931b-a38175ade53c"
      },
      "execution_count": 2,
      "outputs": [
        {
          "output_type": "execute_result",
          "data": {
            "text/plain": [
              "\"\\nif, else문의 기본구조\\nif 조건문: # 조건문을 확인해서 만약 '참'이면 if 문 다음에 문장들은 수행\\n    pass\\n\\t  # 수행할 문장 1\\nelse: # if문의 조건이 거짓이면 else 문이 실행, (조건을 적지 않아도 됨)\\n    pass\\n\\t  # 수행할 문장 2\\n\""
            ],
            "application/vnd.google.colaboratory.intrinsic+json": {
              "type": "string"
            }
          },
          "metadata": {},
          "execution_count": 2
        }
      ]
    },
    {
      "cell_type": "code",
      "source": [
        "x = 3\n",
        "y = 1\n",
        "\n",
        "if x > y:\n",
        "    print('첫번째 값이 더 큽니다.') # 참일때만 수행\n",
        "else:\n",
        "    print('두번째 값이 더 크거나 같습니다.') # 거짓일 때 수행"
      ],
      "metadata": {
        "colab": {
          "base_uri": "https://localhost:8080/"
        },
        "id": "BulNXvJp2nHR",
        "outputId": "216a4b73-477e-4340-dae7-f38b0a14ba97"
      },
      "execution_count": 4,
      "outputs": [
        {
          "output_type": "stream",
          "name": "stdout",
          "text": [
            "첫번째 값이 더 큽니다.\n"
          ]
        }
      ]
    },
    {
      "cell_type": "code",
      "source": [
        "x = 3\n",
        "y = 6\n",
        "\n",
        "if x > y:\n",
        "    print('첫번째 값이 더 큽니다.') # 참일때만 수행\n",
        "else:\n",
        "    print('두번째 값이 더 크거나 같습니다.') # 거짓일 때 수행"
      ],
      "metadata": {
        "colab": {
          "base_uri": "https://localhost:8080/"
        },
        "id": "2gZ4aEte2puo",
        "outputId": "23ff7f79-a939-4a47-8198-9149a148de41"
      },
      "execution_count": 5,
      "outputs": [
        {
          "output_type": "stream",
          "name": "stdout",
          "text": [
            "두번째 값이 더 크거나 같습니다.\n"
          ]
        }
      ]
    },
    {
      "cell_type": "markdown",
      "source": [
        "### if - elif - else"
      ],
      "metadata": {
        "id": "iKanF65B3MgC"
      }
    },
    {
      "cell_type": "markdown",
      "source": [
        "```\n",
        "# if, elif, else문의 기본구조\n",
        "# elif에는 조건식 필요, 단 다른 조건과 겹치지 않게\n",
        "\n",
        "if 조건문: # 조건문을 확인해서 만약 '참'이면 if 문 다음에 문장들은 수행합니다.\n",
        "\t  # 수행할 문장 1\n",
        "    pass\n",
        "elif 추가조건: # if문의 조건이 '참'이 아니라면 elif 문의 조건문이 참이라면 수행한다.\n",
        "\t  # 수행할 문장 2\n",
        "      # 조건이 더 필요할 경우 elif 추가하면 됨\n",
        "    pass\n",
        "else: # 위 모든 if문, elif문의 조건이 '참'이 아니라면 수행합니다.\n",
        "\t  # 수행할 문장 3\n",
        "    pass\n",
        "```"
      ],
      "metadata": {
        "id": "EQwM9ij23PBk"
      }
    },
    {
      "cell_type": "code",
      "source": [
        "score = int(input(\"성적을 입력하세요 (0-100): \"))\n",
        "\n",
        "if score >= 90:\n",
        "    print(\"A\")\n",
        "elif 90 > score >= 80:\n",
        "    print(\"B\")\n",
        "elif 80 > score >= 70:\n",
        "    print(\"C\")\n",
        "elif 70 > score >= 60:\n",
        "    print(\"D\")\n",
        "else:\n",
        "    print(\"F\")"
      ],
      "metadata": {
        "colab": {
          "base_uri": "https://localhost:8080/"
        },
        "id": "6x9op_9zJeNC",
        "outputId": "6438a0d0-df81-4b4f-88e0-09907a1afe9d"
      },
      "execution_count": 2,
      "outputs": [
        {
          "output_type": "stream",
          "name": "stdout",
          "text": [
            "성적을 입력하세요 (0-100): 69\n",
            "D\n"
          ]
        }
      ]
    },
    {
      "cell_type": "code",
      "source": [
        "score = int(input(\"성적을 입력하세요 (0-100): \"))\n",
        "\n",
        "if score >= 90:\n",
        "    print(\"A\")\n",
        "elif score >= 80:\n",
        "    print(\"B\")\n",
        "elif score >= 70:\n",
        "    print(\"C\")\n",
        "elif score >= 60:\n",
        "    print(\"D\")\n",
        "else:\n",
        "    print(\"F\")"
      ],
      "metadata": {
        "colab": {
          "base_uri": "https://localhost:8080/"
        },
        "id": "upKB_jjinfGl",
        "outputId": "77916d01-50b7-4a04-bc2c-cade5023f92e"
      },
      "execution_count": 3,
      "outputs": [
        {
          "output_type": "stream",
          "name": "stdout",
          "text": [
            "성적을 입력하세요 (0-100): 97\n",
            "A\n"
          ]
        }
      ]
    },
    {
      "cell_type": "code",
      "source": [
        "score = 81\n",
        "money = 0\n",
        "\n",
        "if score >= 90:\n",
        "    money += 1000000\n",
        "elif score >= 80:\n",
        "    money += 100000\n",
        "elif score >= 70:\n",
        "    money += 10000\n",
        "elif score >= 60:\n",
        "    money += 1000\n",
        "else:\n",
        "    money = 0\n",
        "print(money) # 출력: 100000"
      ],
      "metadata": {
        "colab": {
          "base_uri": "https://localhost:8080/"
        },
        "id": "odTxcskWnswg",
        "outputId": "5b4bea4a-14e8-4972-fea5-fa383035cdef"
      },
      "execution_count": 4,
      "outputs": [
        {
          "output_type": "stream",
          "name": "stdout",
          "text": [
            "100000\n"
          ]
        }
      ]
    },
    {
      "cell_type": "code",
      "source": [
        "score = 81\n",
        "money = 0\n",
        "\n",
        "if score >= 90:\n",
        "    money += 1000000\n",
        "if score >= 80:\n",
        "    money += 100000\n",
        "if score >= 70:\n",
        "    money += 10000\n",
        "if score >= 60:\n",
        "    money += 1000\n",
        "else:\n",
        "    money = 0\n",
        "print(money) # 출력: 111000\n",
        "\n",
        "# elif와 else단독으로는 사용할 수 없음\n",
        "# elif는 if가 있어야만, else는 if, elif나 뒤에서 배울 for, while이 있어야만 사용할 수 있음"
      ],
      "metadata": {
        "colab": {
          "base_uri": "https://localhost:8080/"
        },
        "id": "g5VYSsFunxo9",
        "outputId": "024d2ba2-7317-49af-98ab-8b5b0dfb851f"
      },
      "execution_count": 5,
      "outputs": [
        {
          "output_type": "stream",
          "name": "stdout",
          "text": [
            "111000\n"
          ]
        }
      ]
    },
    {
      "cell_type": "markdown",
      "source": [
        "### 중첩 if - elif문 사용하기"
      ],
      "metadata": {
        "id": "iEIN6tZtoC0B"
      }
    },
    {
      "cell_type": "code",
      "source": [
        "# if를 중첩해서 사용하기\n",
        "\n",
        "movie = {\n",
        "    '영화': '레미제라블',\n",
        "    '장르': '드라마',\n",
        "    '서비스': '디즈니',\n",
        "    '비용': 15000,\n",
        "    '평점': 4.9\n",
        "}\n",
        "\n",
        "if movie['장르'] == '드라마':\n",
        "    if movie['서비스'] == '디즈니' or movie['서비스'] == '넷플릭스':\n",
        "        if movie['평점'] >= 4.5:\n",
        "            if movie['비용'] <= 20000:\n",
        "                print('영화시청') # 출력: 영화시청"
      ],
      "metadata": {
        "colab": {
          "base_uri": "https://localhost:8080/"
        },
        "id": "pa4XDX3rnz-j",
        "outputId": "4180c777-bfd4-49f5-f62f-32a81729adbf"
      },
      "execution_count": 6,
      "outputs": [
        {
          "output_type": "stream",
          "name": "stdout",
          "text": [
            "영화시청\n"
          ]
        }
      ]
    },
    {
      "cell_type": "code",
      "source": [
        "# and 사용\n",
        "\n",
        "# if를 중첩해서 사용하기\n",
        "\n",
        "movie = {\n",
        "    '영화': '레미제라블',\n",
        "    '장르': '드라마',\n",
        "    '서비스': '디즈니',\n",
        "    '비용': 15000,\n",
        "    '평점': 4.9\n",
        "}\n",
        "\n",
        "if movie['장르'] == 'SF' and (movie['서비스'] == '디즈니' or movie['서비스'] == '넷플릭스') and movie['평점'] >= 4.5 and movie['비용'] <= 20000:\n",
        "    print('영화시청') # 출력: 영화시청"
      ],
      "metadata": {
        "id": "BQ4nXAiSoFA-"
      },
      "execution_count": 8,
      "outputs": []
    },
    {
      "cell_type": "code",
      "source": [
        "# 중첩된 조건문에서는 elif, else를 모두 사용할 수 있음\n",
        "\n",
        "movie = {\n",
        "    '영화': '레미제라블',\n",
        "    '장르': '드라마',\n",
        "    '서비스': '왓챠',\n",
        "    '비용': 15000,\n",
        "    '평점': 4.9\n",
        "}\n",
        "\n",
        "if movie['장르'] == 'SF':\n",
        "    if movie['서비스'] == '디즈니' or movie['서비스'] == '넷플릭스':\n",
        "        if movie['평점'] >= 4.5 and movie['비용'] <= 20000:\n",
        "            print('영화시청')\n",
        "    else:\n",
        "        print(movie['서비스'] + ' 구독하기!') # 출력: 왓챠 구독하기!"
      ],
      "metadata": {
        "id": "LpFKN-SgoIwJ"
      },
      "execution_count": 9,
      "outputs": []
    },
    {
      "cell_type": "code",
      "source": [],
      "metadata": {
        "id": "Z_nBAQNAoXtn"
      },
      "execution_count": null,
      "outputs": []
    }
  ]
}
