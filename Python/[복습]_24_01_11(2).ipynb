{
  "nbformat": 4,
  "nbformat_minor": 0,
  "metadata": {
    "colab": {
      "provenance": []
    },
    "kernelspec": {
      "name": "python3",
      "display_name": "Python 3"
    },
    "language_info": {
      "name": "python"
    }
  },
  "cells": [
    {
      "cell_type": "markdown",
      "source": [
        "3. 다음 문제를 풀고 정답을 제출해주세요.\n",
        "\n",
        "    - 3.1 https://100.pyalgo.co.kr/?page=10#\n",
        "    - 3.2 https://100.pyalgo.co.kr/?page=18#"
      ],
      "metadata": {
        "id": "UcZMkV5HtGul"
      }
    },
    {
      "cell_type": "markdown",
      "source": [
        "3-1\\\n",
        "문제 설명\n",
        "\n",
        "    라이캣은 연말 출시할 게임의 게임 난이도를 조절하는 업무를 담당하게 되었습니다.\n",
        "    우선 능력치가 비정상적으로 높은 캐릭터들의 리스트를 뽑고자 합니다.\n",
        "    캐릭터 이름, 공격력, 방어력, 체력, 마력이 리스트로 ['Licat', 98, 30, 21, 60]와 같이 주어졌을 때\n",
        "    모든 능력치의 합이 350 이상이 되는 캐릭터의 이름을 출력하는 solution함수를 완성해주세요.\n",
        "\n",
        "제한 사항\n",
        "\n",
        "    3 ≤ 캐릭터의 수 ≤ 10\n",
        "    10 ≤ 능력치 ≤ 100\n",
        "    350이 넘는 캐릭터의 이름은 알파벳 순으로 출력합니다."
      ],
      "metadata": {
        "id": "Z0owezFFtyWH"
      }
    },
    {
      "cell_type": "code",
      "source": [
        "# 주어진 데이터에서 능력치 합이 350 이상인 캐릭터의 이름을 찾아 정렬하여 반환\n",
        "def solution(data):\n",
        "    # 1. 능력치 합이 350 이상인 캐릭터를 필터링하여 powerful_characters에 저장\n",
        "    powerful_characters = filter(lambda x: sum(x[1:]) >= 350, data)\n",
        "    # 2. powerful_characters에서 캐릭터의 이름만 추출하여 정렬하여 sorted_names에 저장\n",
        "    sorted_names = sorted([character[0] for character in powerful_characters])\n",
        "    # 3. 정렬된 이름들을 반환\n",
        "    return sorted_names\n",
        "\n",
        "# 테스트를 위한 데이터\n",
        "characters = [\n",
        "    ['Licat', 98, 92, 85, 97],\n",
        "    ['Mura', 95, 32, 51, 30],\n",
        "    ['Binky', 98, 98, 51, 32],\n",
        "    ['Gray', 98, 92, 85, 97],\n",
        "    ['Gom', 98, 30, 21, 60],\n",
        "    ['Allosa', 98, 90, 99, 98]\n",
        "]\n",
        "\n",
        "# solution 함수 호출 및 결과 출력\n",
        "result = solution(characters)\n",
        "print(result)"
      ],
      "metadata": {
        "colab": {
          "base_uri": "https://localhost:8080/"
        },
        "id": "BONBYaS3pMDv",
        "outputId": "c1269772-b090-4791-8d6f-fbacef933b6c"
      },
      "execution_count": 22,
      "outputs": [
        {
          "output_type": "stream",
          "name": "stdout",
          "text": [
            "['Allosa', 'Gray', 'Licat']\n"
          ]
        }
      ]
    },
    {
      "cell_type": "markdown",
      "source": [
        "3-2\\\n",
        "문제 설명\n",
        "    \n",
        "    일주일 동안의 최고 기온이 기록된 데이터가 주어집니다.\n",
        "    이 데이터에서 가장 높은 온도를 기록한 상위 3일을 찾아 'YY-MM-DD: 온도' 형식으로 반환하는 코드를 작성해주세요.\n",
        "    데이터는 'YYYY-MM-DD' 형식의 날짜와 해당 날짜의 최고 온도(섭씨)로 구성됩니다.\n",
        "\n",
        "제한 사항\n",
        "\n",
        "    각 날짜의 최고 온도는 정수로 주어집니다.\n",
        "    기온 데이터는 최소 7개(일주일)에서 최대 30개(한달)까지 주어질 수 있습니다.\n",
        "    날짜는 중복되지 않습니다.\n",
        "    중복된 온도일 경우 날짜가 빠른 것이 앞에 정렬되어야 합니다."
      ],
      "metadata": {
        "id": "UEA6tGLJcvY0"
      }
    },
    {
      "cell_type": "code",
      "source": [
        "def solution(data):\n",
        "    # 주어진 데이터를 날짜를 기준으로 내림차순으로 정렬\n",
        "    sorted_data = sorted(data.items(), key=lambda item: (-item[1], item[0]))\n",
        "    # 상위 3일의 데이터 추출 및 원하는 형식으로 포맷팅\n",
        "    top_3_days = sorted_data[:3]\n",
        "    result = [f\"{date[2:]}: {temperature}\" for date, temperature in top_3_days]\n",
        "    # 반환\n",
        "    return result\n",
        "\n",
        "# 테스트를 위한 데이터\n",
        "test_data = {\n",
        "    '2023-01-01':15,\n",
        "    '2023-01-02':18,\n",
        "    '2023-01-03':20,\n",
        "    '2023-01-01':22, # 중복 온도\n",
        "    '2023-01-05':22, # 중복 온도\n",
        "    '2023-01-06':17,\n",
        "    '2023-01-07':21\n",
        "}\n",
        "\n",
        "# solution 함수 호출 및 결과 출력\n",
        "result = solution(test_data)\n",
        "print(result)"
      ],
      "metadata": {
        "colab": {
          "base_uri": "https://localhost:8080/"
        },
        "id": "Zv1D5dQNb308",
        "outputId": "be16b1f1-1540-42e2-c51a-f91d8e759811"
      },
      "execution_count": 23,
      "outputs": [
        {
          "output_type": "stream",
          "name": "stdout",
          "text": [
            "['23-01-01: 22', '23-01-05: 22', '23-01-07: 21']\n"
          ]
        }
      ]
    },
    {
      "cell_type": "code",
      "source": [],
      "metadata": {
        "id": "4eSFRuGmdmRU"
      },
      "execution_count": null,
      "outputs": []
    }
  ]
}
