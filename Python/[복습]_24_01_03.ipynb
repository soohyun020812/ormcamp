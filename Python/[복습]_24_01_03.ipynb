{
  "nbformat": 4,
  "nbformat_minor": 0,
  "metadata": {
    "colab": {
      "provenance": []
    },
    "kernelspec": {
      "name": "python3",
      "display_name": "Python 3"
    },
    "language_info": {
      "name": "python"
    }
  },
  "cells": [
    {
      "cell_type": "code",
      "source": [
        "# 문제1\n",
        "# 다음 변수들이 가리키고 있는 값에 화살표를 그려주세요.\n",
        "# (z의 값은 무엇일까요?)\n",
        "\n",
        "x = 100\n",
        "y = 100\n",
        "z = x\n",
        "# z의 값은 100\n",
        "\n",
        "print(id(x), id(y), id(z))"
      ],
      "metadata": {
        "id": "M4X6nCXsaRJZ",
        "colab": {
          "base_uri": "https://localhost:8080/"
        },
        "outputId": "4edd4f4c-837f-48ad-fabf-acbd34cd4bbb"
      },
      "execution_count": 1,
      "outputs": [
        {
          "output_type": "stream",
          "name": "stdout",
          "text": [
            "137310478323024 137310478323024 137310478323024\n"
          ]
        }
      ]
    },
    {
      "cell_type": "code",
      "source": [
        "x = 258\n",
        "y = 258\n",
        "z = x\n",
        "# z = 258\n",
        "\n",
        "print(id(x), id(y), id(z))"
      ],
      "metadata": {
        "colab": {
          "base_uri": "https://localhost:8080/"
        },
        "id": "01leIjVg24LP",
        "outputId": "2cc3a781-17c7-4d4a-95fa-295a5d80768f"
      },
      "execution_count": 4,
      "outputs": [
        {
          "output_type": "stream",
          "name": "stdout",
          "text": [
            "137309984501168 137309984501392 137309984501168\n"
          ]
        }
      ]
    },
    {
      "cell_type": "code",
      "source": [
        "# 문제2\n",
        "# 다음 파이썬 문법 중 맞은 것을 골라주세요. (3개)\n",
        "\n",
        "'''\n",
        "1번\n",
        "print = 100\n",
        "= print 함수를 변수로 사용해서\n",
        "2번\n",
        "10 = a\n",
        "= 10이란 숫자로는 변수로 사용할 수 없어서 a를 할당받지 못함\n",
        "3번\n",
        "k = 100\n",
        "4번\n",
        "100k = 10000\n",
        "= 변수명 앞에 숫자가 올 수 없음\n",
        "5번\n",
        "a123 = 'abc'\n",
        "6번\n",
        "_ = 10\n",
        "'''\n",
        "\n",
        "# 3, 5, 6"
      ],
      "metadata": {
        "colab": {
          "base_uri": "https://localhost:8080/",
          "height": 72
        },
        "id": "C0dKpB_qDzhX",
        "outputId": "0e51cfa8-92f0-42c4-ea8b-55d88a45d76b"
      },
      "execution_count": 9,
      "outputs": [
        {
          "output_type": "execute_result",
          "data": {
            "text/plain": [
              "\"\\n1번\\nprint = 100\\n= print 함수를 변수로 사용해서\\n2번\\n10 = a\\n= 10이란 숫자로는 변수로 사용할 수 없어서 a를 할당받지 못함\\n3번\\nk = 100\\n4번\\n100k = 10000\\n= 변수명 앞에 숫자가 올 수 없음\\n5번\\na123 = 'abc'\\n6번\\n_ = 10\\n\""
            ],
            "application/vnd.google.colaboratory.intrinsic+json": {
              "type": "string"
            }
          },
          "metadata": {},
          "execution_count": 9
        }
      ]
    },
    {
      "cell_type": "code",
      "source": [
        "# 문제3\n",
        "# 문자를 사용자에게 입력받고, 그 문자를 2번 출력하는 프로그램을 만들어주세요.\n",
        "# 예를 들어 ‘abc’를 입력받는다면 ‘abcabc’를 출력해야 합니다.\n",
        "\n",
        "user = input(\"입력해주세요 : \")\n",
        "user * 2"
      ],
      "metadata": {
        "colab": {
          "base_uri": "https://localhost:8080/",
          "height": 53
        },
        "id": "URHQZgZHQRYj",
        "outputId": "91fe79cb-fb1b-44a5-b633-7691614f705a"
      },
      "execution_count": 11,
      "outputs": [
        {
          "name": "stdout",
          "output_type": "stream",
          "text": [
            "입력해주세요 : abc\n"
          ]
        },
        {
          "output_type": "execute_result",
          "data": {
            "text/plain": [
              "'abcabc'"
            ],
            "application/vnd.google.colaboratory.intrinsic+json": {
              "type": "string"
            }
          },
          "metadata": {},
          "execution_count": 11
        }
      ]
    },
    {
      "cell_type": "code",
      "source": [
        "# 문제4\n",
        "# 아래 변수에서 중복을 제거한 유일한 숫자를 알아내는 코드를 작성해주세요.\n",
        "# 형변환을 통해 풀어주세요.\n",
        "\n",
        "n = 1234567890123123123\n",
        "# set : 중복 제거, str : 정수형을 문자열로 형변환\n",
        "len(set(str(n)))"
      ],
      "metadata": {
        "colab": {
          "base_uri": "https://localhost:8080/"
        },
        "id": "1k09MhSSQgVL",
        "outputId": "cb4f100d-c989-4144-9ffa-512360e19506"
      },
      "execution_count": 18,
      "outputs": [
        {
          "output_type": "execute_result",
          "data": {
            "text/plain": [
              "10"
            ]
          },
          "metadata": {},
          "execution_count": 18
        }
      ]
    },
    {
      "cell_type": "code",
      "source": [
        "# 문제5\n",
        "# 문자열 s에 마지막에 있는 문자열을 2번 더 붙이는 코드를 작성해주세요.\n",
        "\n",
        "s = 'jun'\n",
        "s = s + s[-1] * 2\n",
        "\n",
        "print(s)"
      ],
      "metadata": {
        "colab": {
          "base_uri": "https://localhost:8080/"
        },
        "id": "MjnWTb_FQxUW",
        "outputId": "18937675-9201-4c56-d1b0-860f690d9ead"
      },
      "execution_count": 22,
      "outputs": [
        {
          "output_type": "stream",
          "name": "stdout",
          "text": [
            "junnn\n"
          ]
        }
      ]
    },
    {
      "cell_type": "code",
      "source": [
        "# 문제6\n",
        "# 'abcde', 숫자, 대쉬(-), 언더스코어(_)를 모두 제거해주세요.\n",
        "# 문자열에 translate를 사용해주세요.\n",
        "\n",
        "s = 'hello_world123'\n",
        "s_t = str.maketrans('', '', 'abcde0123456789-_')\n",
        "s.translate(s_t)"
      ],
      "metadata": {
        "colab": {
          "base_uri": "https://localhost:8080/",
          "height": 35
        },
        "id": "Ze_woE5MUxYI",
        "outputId": "57157b0e-0d68-4f97-fcd0-f35a51ff9434"
      },
      "execution_count": 23,
      "outputs": [
        {
          "output_type": "execute_result",
          "data": {
            "text/plain": [
              "'hlloworl'"
            ],
            "application/vnd.google.colaboratory.intrinsic+json": {
              "type": "string"
            }
          },
          "metadata": {},
          "execution_count": 23
        }
      ]
    },
    {
      "cell_type": "code",
      "source": [
        "# 문제7\n",
        "# 확장자를 출력해주는 코드를 작성해주세요.\n",
        "# 확장자는 png, jpeg, mp4등 입니다.\n",
        "\n",
        "s = 'licat.jpeg'\n",
        "s.split('.')[-1]"
      ],
      "metadata": {
        "colab": {
          "base_uri": "https://localhost:8080/",
          "height": 35
        },
        "id": "V52id7voWPkW",
        "outputId": "399463b5-c16c-4990-9cb1-c8041f193297"
      },
      "execution_count": 32,
      "outputs": [
        {
          "output_type": "execute_result",
          "data": {
            "text/plain": [
              "'jpeg'"
            ],
            "application/vnd.google.colaboratory.intrinsic+json": {
              "type": "string"
            }
          },
          "metadata": {},
          "execution_count": 32
        }
      ]
    },
    {
      "cell_type": "code",
      "source": [
        "s = 'li.cat.png'\n",
        "s.split('.')[-1]"
      ],
      "metadata": {
        "colab": {
          "base_uri": "https://localhost:8080/",
          "height": 35
        },
        "id": "PprhZBCUWloq",
        "outputId": "dcf74ea5-3066-4f14-9c54-4a338a22b68d"
      },
      "execution_count": 33,
      "outputs": [
        {
          "output_type": "execute_result",
          "data": {
            "text/plain": [
              "'png'"
            ],
            "application/vnd.google.colaboratory.intrinsic+json": {
              "type": "string"
            }
          },
          "metadata": {},
          "execution_count": 33
        }
      ]
    },
    {
      "cell_type": "code",
      "source": [],
      "metadata": {
        "id": "lKZYLrSSXXyf"
      },
      "execution_count": null,
      "outputs": []
    }
  ]
}
