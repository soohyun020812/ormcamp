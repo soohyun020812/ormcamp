{
  "nbformat": 4,
  "nbformat_minor": 0,
  "metadata": {
    "colab": {
      "provenance": [],
      "authorship_tag": "ABX9TyMHChftxDNEnY2OU4c8Tfow",
      "include_colab_link": true
    },
    "kernelspec": {
      "name": "python3",
      "display_name": "Python 3"
    },
    "language_info": {
      "name": "python"
    }
  },
  "cells": [
    {
      "cell_type": "markdown",
      "metadata": {
        "id": "view-in-github",
        "colab_type": "text"
      },
      "source": [
        "<a href=\"https://colab.research.google.com/github/soohyun020812/ormcamp/blob/main/24_01_03_%EB%A7%A4%EC%84%9C%EB%93%9C_%EC%B1%84%EC%9D%B4%EB%8B%9D.ipynb\" target=\"_parent\"><img src=\"https://colab.research.google.com/assets/colab-badge.svg\" alt=\"Open In Colab\"/></a>"
      ]
    },
    {
      "cell_type": "markdown",
      "source": [
        "메서드 체이닝(Method Chaining)\n",
        "\n",
        "- 메서드 체이닝이란 연속으로 메서드를 호출"
      ],
      "metadata": {
        "id": "Q_ScqRqval1C"
      }
    },
    {
      "cell_type": "code",
      "execution_count": 1,
      "metadata": {
        "colab": {
          "base_uri": "https://localhost:8080/"
        },
        "id": "N7_t-1U9agVs",
        "outputId": "89833253-d1c6-4f3a-e4ea-a3da216bc911"
      },
      "outputs": [
        {
          "output_type": "stream",
          "name": "stdout",
          "text": [
            "hello, python!\n"
          ]
        }
      ],
      "source": [
        "# 문자열의 메서드 체이닝\n",
        "\n",
        "sentence = '  Hello, World!  '\n",
        "result = sentence.strip().lower().replace('world', 'python')\n",
        "# 1번 스탭 : sentence.strip() == 'Hello, World!'\n",
        "# 2번 스탭 : 'Hello, World!'.lower() == 'hello, world!'\n",
        "# 3번 스탭 : 'hello, world!'.replace('world', 'python')\n",
        "print(result)  # 'hello, python!'"
      ]
    },
    {
      "cell_type": "code",
      "source": [
        "# 다른 언어처럼 개행해서 쓰고 싶을 때 (백슬러쉬 사용)\n",
        "\n",
        "sentence = '  Hello, World!  '\n",
        "result = sentence\\\n",
        ".strip()\\\n",
        ".lower()\\\n",
        ".replace('world', 'python')\n",
        "\n",
        "print(result)  # 'hello, python!'"
      ],
      "metadata": {
        "colab": {
          "base_uri": "https://localhost:8080/"
        },
        "id": "lY3NdZiva1hD",
        "outputId": "f1ffcfc9-66e1-4b58-de0a-31395ec6f798"
      },
      "execution_count": 2,
      "outputs": [
        {
          "output_type": "stream",
          "name": "stdout",
          "text": [
            "hello, python!\n"
          ]
        }
      ]
    },
    {
      "cell_type": "code",
      "source": [
        "# 중간 공백 허용\n",
        "\n",
        "sentence = '  Hello, World!  '\n",
        "result = sentence\\\n",
        "         .strip()\\\n",
        "         .lower()\\\n",
        "         .replace('world', 'python')\n",
        "\n",
        "print(result)  # 'hello, python!'"
      ],
      "metadata": {
        "colab": {
          "base_uri": "https://localhost:8080/"
        },
        "id": "UY90hgDEa-4M",
        "outputId": "b13a6a7c-d920-4087-ae7d-4df2643eac96"
      },
      "execution_count": 3,
      "outputs": [
        {
          "output_type": "stream",
          "name": "stdout",
          "text": [
            "hello, python!\n"
          ]
        }
      ]
    },
    {
      "cell_type": "code",
      "source": [
        "'''\n",
        "'010-1000-2000'.split('-').replace('0', 'x')\n",
        "# error\n",
        "'''"
      ],
      "metadata": {
        "colab": {
          "base_uri": "https://localhost:8080/",
          "height": 35
        },
        "id": "V8zAS6QAbH36",
        "outputId": "13ca6829-9058-45fb-d312-d1386f2edf52"
      },
      "execution_count": 8,
      "outputs": [
        {
          "output_type": "execute_result",
          "data": {
            "text/plain": [
              "\"\\n'010-1000-2000'.split('-').replace('0', 'x')\\n# error\\n\""
            ],
            "application/vnd.google.colaboratory.intrinsic+json": {
              "type": "string"
            }
          },
          "metadata": {},
          "execution_count": 8
        }
      ]
    },
    {
      "cell_type": "code",
      "source": [
        "'''\n",
        "'010-1000-2000'.split('-').replace('0', 'x')\n",
        "['010', '1000', '2000'].replace('0', 'x')\n",
        "# error\n",
        "'''"
      ],
      "metadata": {
        "colab": {
          "base_uri": "https://localhost:8080/",
          "height": 54
        },
        "id": "oAQk7pVBbJZP",
        "outputId": "453b4f55-3134-46bd-da6e-7cdfa935718f"
      },
      "execution_count": 9,
      "outputs": [
        {
          "output_type": "execute_result",
          "data": {
            "text/plain": [
              "\"\\n'010-1000-2000'.split('-').replace('0', 'x')\\n['010', '1000', '2000'].replace('0', 'x')\\n# error\\n\""
            ],
            "application/vnd.google.colaboratory.intrinsic+json": {
              "type": "string"
            }
          },
          "metadata": {},
          "execution_count": 9
        }
      ]
    },
    {
      "cell_type": "code",
      "source": [],
      "metadata": {
        "id": "1Q_EM2gWbKp4"
      },
      "execution_count": null,
      "outputs": []
    }
  ]
}
