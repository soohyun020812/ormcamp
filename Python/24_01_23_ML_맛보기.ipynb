{
  "nbformat": 4,
  "nbformat_minor": 0,
  "metadata": {
    "colab": {
      "provenance": []
    },
    "kernelspec": {
      "name": "python3",
      "display_name": "Python 3"
    },
    "language_info": {
      "name": "python"
    }
  },
  "cells": [
    {
      "cell_type": "markdown",
      "source": [
        "### 1. 데이터 import"
      ],
      "metadata": {
        "id": "L1b7ihmwTn7f"
      }
    },
    {
      "cell_type": "code",
      "source": [
        "from sklearn.datasets import fetch_openml\n",
        "\n",
        "# fetch_openml을 사용하여 타이타닉 데이터셋을 불러옴\n",
        "titanic = fetch_openml('titanic', version=1, as_frame=True)\n",
        "\n",
        "# 데이터 프레임으로 변환\n",
        "titanic_data = titanic.frame"
      ],
      "metadata": {
        "colab": {
          "base_uri": "https://localhost:8080/"
        },
        "id": "-fWDLiYz9bej",
        "outputId": "d483778b-a66b-4f8a-a686-cd12485ae05c"
      },
      "execution_count": 10,
      "outputs": [
        {
          "output_type": "stream",
          "name": "stderr",
          "text": [
            "/usr/local/lib/python3.10/dist-packages/sklearn/datasets/_openml.py:968: FutureWarning: The default value of `parser` will change from `'liac-arff'` to `'auto'` in 1.4. You can set `parser='auto'` to silence this warning. Therefore, an `ImportError` will be raised from 1.4 if the dataset is dense and pandas is not installed. Note that the pandas parser may return different data types. See the Notes Section in fetch_openml's API doc for details.\n",
            "  warn(\n"
          ]
        }
      ]
    },
    {
      "cell_type": "code",
      "source": [
        "titanic_data"
      ],
      "metadata": {
        "colab": {
          "base_uri": "https://localhost:8080/",
          "height": 808
        },
        "id": "lhJVWqjxTwPB",
        "outputId": "5ce8f93a-5618-4235-fab6-d51ed2e9a6cb"
      },
      "execution_count": 11,
      "outputs": [
        {
          "output_type": "execute_result",
          "data": {
            "text/plain": [
              "      pclass survived                                             name  \\\n",
              "0        1.0        1                    Allen, Miss. Elisabeth Walton   \n",
              "1        1.0        1                   Allison, Master. Hudson Trevor   \n",
              "2        1.0        0                     Allison, Miss. Helen Loraine   \n",
              "3        1.0        0             Allison, Mr. Hudson Joshua Creighton   \n",
              "4        1.0        0  Allison, Mrs. Hudson J C (Bessie Waldo Daniels)   \n",
              "...      ...      ...                                              ...   \n",
              "1304     3.0        0                             Zabour, Miss. Hileni   \n",
              "1305     3.0        0                            Zabour, Miss. Thamine   \n",
              "1306     3.0        0                        Zakarian, Mr. Mapriededer   \n",
              "1307     3.0        0                              Zakarian, Mr. Ortin   \n",
              "1308     3.0        0                               Zimmerman, Mr. Leo   \n",
              "\n",
              "         sex      age  sibsp  parch  ticket      fare    cabin embarked  boat  \\\n",
              "0     female  29.0000    0.0    0.0   24160  211.3375       B5        S     2   \n",
              "1       male   0.9167    1.0    2.0  113781  151.5500  C22 C26        S    11   \n",
              "2     female   2.0000    1.0    2.0  113781  151.5500  C22 C26        S  None   \n",
              "3       male  30.0000    1.0    2.0  113781  151.5500  C22 C26        S  None   \n",
              "4     female  25.0000    1.0    2.0  113781  151.5500  C22 C26        S  None   \n",
              "...      ...      ...    ...    ...     ...       ...      ...      ...   ...   \n",
              "1304  female  14.5000    1.0    0.0    2665   14.4542     None        C  None   \n",
              "1305  female      NaN    1.0    0.0    2665   14.4542     None        C  None   \n",
              "1306    male  26.5000    0.0    0.0    2656    7.2250     None        C  None   \n",
              "1307    male  27.0000    0.0    0.0    2670    7.2250     None        C  None   \n",
              "1308    male  29.0000    0.0    0.0  315082    7.8750     None        S  None   \n",
              "\n",
              "       body                        home.dest  \n",
              "0      None                     St Louis, MO  \n",
              "1       NaN  Montreal, PQ / Chesterville, ON  \n",
              "2       NaN  Montreal, PQ / Chesterville, ON  \n",
              "3     135.0  Montreal, PQ / Chesterville, ON  \n",
              "4       NaN  Montreal, PQ / Chesterville, ON  \n",
              "...     ...                              ...  \n",
              "1304  328.0                             None  \n",
              "1305    NaN                             None  \n",
              "1306  304.0                             None  \n",
              "1307    NaN                             None  \n",
              "1308    NaN                             None  \n",
              "\n",
              "[1309 rows x 14 columns]"
            ],
            "text/html": [
              "\n",
              "  <div id=\"df-7de2d9af-88fc-435c-8a88-f3297b8c8262\" class=\"colab-df-container\">\n",
              "    <div>\n",
              "<style scoped>\n",
              "    .dataframe tbody tr th:only-of-type {\n",
              "        vertical-align: middle;\n",
              "    }\n",
              "\n",
              "    .dataframe tbody tr th {\n",
              "        vertical-align: top;\n",
              "    }\n",
              "\n",
              "    .dataframe thead th {\n",
              "        text-align: right;\n",
              "    }\n",
              "</style>\n",
              "<table border=\"1\" class=\"dataframe\">\n",
              "  <thead>\n",
              "    <tr style=\"text-align: right;\">\n",
              "      <th></th>\n",
              "      <th>pclass</th>\n",
              "      <th>survived</th>\n",
              "      <th>name</th>\n",
              "      <th>sex</th>\n",
              "      <th>age</th>\n",
              "      <th>sibsp</th>\n",
              "      <th>parch</th>\n",
              "      <th>ticket</th>\n",
              "      <th>fare</th>\n",
              "      <th>cabin</th>\n",
              "      <th>embarked</th>\n",
              "      <th>boat</th>\n",
              "      <th>body</th>\n",
              "      <th>home.dest</th>\n",
              "    </tr>\n",
              "  </thead>\n",
              "  <tbody>\n",
              "    <tr>\n",
              "      <th>0</th>\n",
              "      <td>1.0</td>\n",
              "      <td>1</td>\n",
              "      <td>Allen, Miss. Elisabeth Walton</td>\n",
              "      <td>female</td>\n",
              "      <td>29.0000</td>\n",
              "      <td>0.0</td>\n",
              "      <td>0.0</td>\n",
              "      <td>24160</td>\n",
              "      <td>211.3375</td>\n",
              "      <td>B5</td>\n",
              "      <td>S</td>\n",
              "      <td>2</td>\n",
              "      <td>None</td>\n",
              "      <td>St Louis, MO</td>\n",
              "    </tr>\n",
              "    <tr>\n",
              "      <th>1</th>\n",
              "      <td>1.0</td>\n",
              "      <td>1</td>\n",
              "      <td>Allison, Master. Hudson Trevor</td>\n",
              "      <td>male</td>\n",
              "      <td>0.9167</td>\n",
              "      <td>1.0</td>\n",
              "      <td>2.0</td>\n",
              "      <td>113781</td>\n",
              "      <td>151.5500</td>\n",
              "      <td>C22 C26</td>\n",
              "      <td>S</td>\n",
              "      <td>11</td>\n",
              "      <td>NaN</td>\n",
              "      <td>Montreal, PQ / Chesterville, ON</td>\n",
              "    </tr>\n",
              "    <tr>\n",
              "      <th>2</th>\n",
              "      <td>1.0</td>\n",
              "      <td>0</td>\n",
              "      <td>Allison, Miss. Helen Loraine</td>\n",
              "      <td>female</td>\n",
              "      <td>2.0000</td>\n",
              "      <td>1.0</td>\n",
              "      <td>2.0</td>\n",
              "      <td>113781</td>\n",
              "      <td>151.5500</td>\n",
              "      <td>C22 C26</td>\n",
              "      <td>S</td>\n",
              "      <td>None</td>\n",
              "      <td>NaN</td>\n",
              "      <td>Montreal, PQ / Chesterville, ON</td>\n",
              "    </tr>\n",
              "    <tr>\n",
              "      <th>3</th>\n",
              "      <td>1.0</td>\n",
              "      <td>0</td>\n",
              "      <td>Allison, Mr. Hudson Joshua Creighton</td>\n",
              "      <td>male</td>\n",
              "      <td>30.0000</td>\n",
              "      <td>1.0</td>\n",
              "      <td>2.0</td>\n",
              "      <td>113781</td>\n",
              "      <td>151.5500</td>\n",
              "      <td>C22 C26</td>\n",
              "      <td>S</td>\n",
              "      <td>None</td>\n",
              "      <td>135.0</td>\n",
              "      <td>Montreal, PQ / Chesterville, ON</td>\n",
              "    </tr>\n",
              "    <tr>\n",
              "      <th>4</th>\n",
              "      <td>1.0</td>\n",
              "      <td>0</td>\n",
              "      <td>Allison, Mrs. Hudson J C (Bessie Waldo Daniels)</td>\n",
              "      <td>female</td>\n",
              "      <td>25.0000</td>\n",
              "      <td>1.0</td>\n",
              "      <td>2.0</td>\n",
              "      <td>113781</td>\n",
              "      <td>151.5500</td>\n",
              "      <td>C22 C26</td>\n",
              "      <td>S</td>\n",
              "      <td>None</td>\n",
              "      <td>NaN</td>\n",
              "      <td>Montreal, PQ / Chesterville, ON</td>\n",
              "    </tr>\n",
              "    <tr>\n",
              "      <th>...</th>\n",
              "      <td>...</td>\n",
              "      <td>...</td>\n",
              "      <td>...</td>\n",
              "      <td>...</td>\n",
              "      <td>...</td>\n",
              "      <td>...</td>\n",
              "      <td>...</td>\n",
              "      <td>...</td>\n",
              "      <td>...</td>\n",
              "      <td>...</td>\n",
              "      <td>...</td>\n",
              "      <td>...</td>\n",
              "      <td>...</td>\n",
              "      <td>...</td>\n",
              "    </tr>\n",
              "    <tr>\n",
              "      <th>1304</th>\n",
              "      <td>3.0</td>\n",
              "      <td>0</td>\n",
              "      <td>Zabour, Miss. Hileni</td>\n",
              "      <td>female</td>\n",
              "      <td>14.5000</td>\n",
              "      <td>1.0</td>\n",
              "      <td>0.0</td>\n",
              "      <td>2665</td>\n",
              "      <td>14.4542</td>\n",
              "      <td>None</td>\n",
              "      <td>C</td>\n",
              "      <td>None</td>\n",
              "      <td>328.0</td>\n",
              "      <td>None</td>\n",
              "    </tr>\n",
              "    <tr>\n",
              "      <th>1305</th>\n",
              "      <td>3.0</td>\n",
              "      <td>0</td>\n",
              "      <td>Zabour, Miss. Thamine</td>\n",
              "      <td>female</td>\n",
              "      <td>NaN</td>\n",
              "      <td>1.0</td>\n",
              "      <td>0.0</td>\n",
              "      <td>2665</td>\n",
              "      <td>14.4542</td>\n",
              "      <td>None</td>\n",
              "      <td>C</td>\n",
              "      <td>None</td>\n",
              "      <td>NaN</td>\n",
              "      <td>None</td>\n",
              "    </tr>\n",
              "    <tr>\n",
              "      <th>1306</th>\n",
              "      <td>3.0</td>\n",
              "      <td>0</td>\n",
              "      <td>Zakarian, Mr. Mapriededer</td>\n",
              "      <td>male</td>\n",
              "      <td>26.5000</td>\n",
              "      <td>0.0</td>\n",
              "      <td>0.0</td>\n",
              "      <td>2656</td>\n",
              "      <td>7.2250</td>\n",
              "      <td>None</td>\n",
              "      <td>C</td>\n",
              "      <td>None</td>\n",
              "      <td>304.0</td>\n",
              "      <td>None</td>\n",
              "    </tr>\n",
              "    <tr>\n",
              "      <th>1307</th>\n",
              "      <td>3.0</td>\n",
              "      <td>0</td>\n",
              "      <td>Zakarian, Mr. Ortin</td>\n",
              "      <td>male</td>\n",
              "      <td>27.0000</td>\n",
              "      <td>0.0</td>\n",
              "      <td>0.0</td>\n",
              "      <td>2670</td>\n",
              "      <td>7.2250</td>\n",
              "      <td>None</td>\n",
              "      <td>C</td>\n",
              "      <td>None</td>\n",
              "      <td>NaN</td>\n",
              "      <td>None</td>\n",
              "    </tr>\n",
              "    <tr>\n",
              "      <th>1308</th>\n",
              "      <td>3.0</td>\n",
              "      <td>0</td>\n",
              "      <td>Zimmerman, Mr. Leo</td>\n",
              "      <td>male</td>\n",
              "      <td>29.0000</td>\n",
              "      <td>0.0</td>\n",
              "      <td>0.0</td>\n",
              "      <td>315082</td>\n",
              "      <td>7.8750</td>\n",
              "      <td>None</td>\n",
              "      <td>S</td>\n",
              "      <td>None</td>\n",
              "      <td>NaN</td>\n",
              "      <td>None</td>\n",
              "    </tr>\n",
              "  </tbody>\n",
              "</table>\n",
              "<p>1309 rows × 14 columns</p>\n",
              "</div>\n",
              "    <div class=\"colab-df-buttons\">\n",
              "\n",
              "  <div class=\"colab-df-container\">\n",
              "    <button class=\"colab-df-convert\" onclick=\"convertToInteractive('df-7de2d9af-88fc-435c-8a88-f3297b8c8262')\"\n",
              "            title=\"Convert this dataframe to an interactive table.\"\n",
              "            style=\"display:none;\">\n",
              "\n",
              "  <svg xmlns=\"http://www.w3.org/2000/svg\" height=\"24px\" viewBox=\"0 -960 960 960\">\n",
              "    <path d=\"M120-120v-720h720v720H120Zm60-500h600v-160H180v160Zm220 220h160v-160H400v160Zm0 220h160v-160H400v160ZM180-400h160v-160H180v160Zm440 0h160v-160H620v160ZM180-180h160v-160H180v160Zm440 0h160v-160H620v160Z\"/>\n",
              "  </svg>\n",
              "    </button>\n",
              "\n",
              "  <style>\n",
              "    .colab-df-container {\n",
              "      display:flex;\n",
              "      gap: 12px;\n",
              "    }\n",
              "\n",
              "    .colab-df-convert {\n",
              "      background-color: #E8F0FE;\n",
              "      border: none;\n",
              "      border-radius: 50%;\n",
              "      cursor: pointer;\n",
              "      display: none;\n",
              "      fill: #1967D2;\n",
              "      height: 32px;\n",
              "      padding: 0 0 0 0;\n",
              "      width: 32px;\n",
              "    }\n",
              "\n",
              "    .colab-df-convert:hover {\n",
              "      background-color: #E2EBFA;\n",
              "      box-shadow: 0px 1px 2px rgba(60, 64, 67, 0.3), 0px 1px 3px 1px rgba(60, 64, 67, 0.15);\n",
              "      fill: #174EA6;\n",
              "    }\n",
              "\n",
              "    .colab-df-buttons div {\n",
              "      margin-bottom: 4px;\n",
              "    }\n",
              "\n",
              "    [theme=dark] .colab-df-convert {\n",
              "      background-color: #3B4455;\n",
              "      fill: #D2E3FC;\n",
              "    }\n",
              "\n",
              "    [theme=dark] .colab-df-convert:hover {\n",
              "      background-color: #434B5C;\n",
              "      box-shadow: 0px 1px 3px 1px rgba(0, 0, 0, 0.15);\n",
              "      filter: drop-shadow(0px 1px 2px rgba(0, 0, 0, 0.3));\n",
              "      fill: #FFFFFF;\n",
              "    }\n",
              "  </style>\n",
              "\n",
              "    <script>\n",
              "      const buttonEl =\n",
              "        document.querySelector('#df-7de2d9af-88fc-435c-8a88-f3297b8c8262 button.colab-df-convert');\n",
              "      buttonEl.style.display =\n",
              "        google.colab.kernel.accessAllowed ? 'block' : 'none';\n",
              "\n",
              "      async function convertToInteractive(key) {\n",
              "        const element = document.querySelector('#df-7de2d9af-88fc-435c-8a88-f3297b8c8262');\n",
              "        const dataTable =\n",
              "          await google.colab.kernel.invokeFunction('convertToInteractive',\n",
              "                                                    [key], {});\n",
              "        if (!dataTable) return;\n",
              "\n",
              "        const docLinkHtml = 'Like what you see? Visit the ' +\n",
              "          '<a target=\"_blank\" href=https://colab.research.google.com/notebooks/data_table.ipynb>data table notebook</a>'\n",
              "          + ' to learn more about interactive tables.';\n",
              "        element.innerHTML = '';\n",
              "        dataTable['output_type'] = 'display_data';\n",
              "        await google.colab.output.renderOutput(dataTable, element);\n",
              "        const docLink = document.createElement('div');\n",
              "        docLink.innerHTML = docLinkHtml;\n",
              "        element.appendChild(docLink);\n",
              "      }\n",
              "    </script>\n",
              "  </div>\n",
              "\n",
              "\n",
              "<div id=\"df-367063ee-4549-43f4-9913-a535d97acded\">\n",
              "  <button class=\"colab-df-quickchart\" onclick=\"quickchart('df-367063ee-4549-43f4-9913-a535d97acded')\"\n",
              "            title=\"Suggest charts\"\n",
              "            style=\"display:none;\">\n",
              "\n",
              "<svg xmlns=\"http://www.w3.org/2000/svg\" height=\"24px\"viewBox=\"0 0 24 24\"\n",
              "     width=\"24px\">\n",
              "    <g>\n",
              "        <path d=\"M19 3H5c-1.1 0-2 .9-2 2v14c0 1.1.9 2 2 2h14c1.1 0 2-.9 2-2V5c0-1.1-.9-2-2-2zM9 17H7v-7h2v7zm4 0h-2V7h2v10zm4 0h-2v-4h2v4z\"/>\n",
              "    </g>\n",
              "</svg>\n",
              "  </button>\n",
              "\n",
              "<style>\n",
              "  .colab-df-quickchart {\n",
              "      --bg-color: #E8F0FE;\n",
              "      --fill-color: #1967D2;\n",
              "      --hover-bg-color: #E2EBFA;\n",
              "      --hover-fill-color: #174EA6;\n",
              "      --disabled-fill-color: #AAA;\n",
              "      --disabled-bg-color: #DDD;\n",
              "  }\n",
              "\n",
              "  [theme=dark] .colab-df-quickchart {\n",
              "      --bg-color: #3B4455;\n",
              "      --fill-color: #D2E3FC;\n",
              "      --hover-bg-color: #434B5C;\n",
              "      --hover-fill-color: #FFFFFF;\n",
              "      --disabled-bg-color: #3B4455;\n",
              "      --disabled-fill-color: #666;\n",
              "  }\n",
              "\n",
              "  .colab-df-quickchart {\n",
              "    background-color: var(--bg-color);\n",
              "    border: none;\n",
              "    border-radius: 50%;\n",
              "    cursor: pointer;\n",
              "    display: none;\n",
              "    fill: var(--fill-color);\n",
              "    height: 32px;\n",
              "    padding: 0;\n",
              "    width: 32px;\n",
              "  }\n",
              "\n",
              "  .colab-df-quickchart:hover {\n",
              "    background-color: var(--hover-bg-color);\n",
              "    box-shadow: 0 1px 2px rgba(60, 64, 67, 0.3), 0 1px 3px 1px rgba(60, 64, 67, 0.15);\n",
              "    fill: var(--button-hover-fill-color);\n",
              "  }\n",
              "\n",
              "  .colab-df-quickchart-complete:disabled,\n",
              "  .colab-df-quickchart-complete:disabled:hover {\n",
              "    background-color: var(--disabled-bg-color);\n",
              "    fill: var(--disabled-fill-color);\n",
              "    box-shadow: none;\n",
              "  }\n",
              "\n",
              "  .colab-df-spinner {\n",
              "    border: 2px solid var(--fill-color);\n",
              "    border-color: transparent;\n",
              "    border-bottom-color: var(--fill-color);\n",
              "    animation:\n",
              "      spin 1s steps(1) infinite;\n",
              "  }\n",
              "\n",
              "  @keyframes spin {\n",
              "    0% {\n",
              "      border-color: transparent;\n",
              "      border-bottom-color: var(--fill-color);\n",
              "      border-left-color: var(--fill-color);\n",
              "    }\n",
              "    20% {\n",
              "      border-color: transparent;\n",
              "      border-left-color: var(--fill-color);\n",
              "      border-top-color: var(--fill-color);\n",
              "    }\n",
              "    30% {\n",
              "      border-color: transparent;\n",
              "      border-left-color: var(--fill-color);\n",
              "      border-top-color: var(--fill-color);\n",
              "      border-right-color: var(--fill-color);\n",
              "    }\n",
              "    40% {\n",
              "      border-color: transparent;\n",
              "      border-right-color: var(--fill-color);\n",
              "      border-top-color: var(--fill-color);\n",
              "    }\n",
              "    60% {\n",
              "      border-color: transparent;\n",
              "      border-right-color: var(--fill-color);\n",
              "    }\n",
              "    80% {\n",
              "      border-color: transparent;\n",
              "      border-right-color: var(--fill-color);\n",
              "      border-bottom-color: var(--fill-color);\n",
              "    }\n",
              "    90% {\n",
              "      border-color: transparent;\n",
              "      border-bottom-color: var(--fill-color);\n",
              "    }\n",
              "  }\n",
              "</style>\n",
              "\n",
              "  <script>\n",
              "    async function quickchart(key) {\n",
              "      const quickchartButtonEl =\n",
              "        document.querySelector('#' + key + ' button');\n",
              "      quickchartButtonEl.disabled = true;  // To prevent multiple clicks.\n",
              "      quickchartButtonEl.classList.add('colab-df-spinner');\n",
              "      try {\n",
              "        const charts = await google.colab.kernel.invokeFunction(\n",
              "            'suggestCharts', [key], {});\n",
              "      } catch (error) {\n",
              "        console.error('Error during call to suggestCharts:', error);\n",
              "      }\n",
              "      quickchartButtonEl.classList.remove('colab-df-spinner');\n",
              "      quickchartButtonEl.classList.add('colab-df-quickchart-complete');\n",
              "    }\n",
              "    (() => {\n",
              "      let quickchartButtonEl =\n",
              "        document.querySelector('#df-367063ee-4549-43f4-9913-a535d97acded button');\n",
              "      quickchartButtonEl.style.display =\n",
              "        google.colab.kernel.accessAllowed ? 'block' : 'none';\n",
              "    })();\n",
              "  </script>\n",
              "</div>\n",
              "\n",
              "  <div id=\"id_e48f317e-afe3-4dda-9e75-cb736378e239\">\n",
              "    <style>\n",
              "      .colab-df-generate {\n",
              "        background-color: #E8F0FE;\n",
              "        border: none;\n",
              "        border-radius: 50%;\n",
              "        cursor: pointer;\n",
              "        display: none;\n",
              "        fill: #1967D2;\n",
              "        height: 32px;\n",
              "        padding: 0 0 0 0;\n",
              "        width: 32px;\n",
              "      }\n",
              "\n",
              "      .colab-df-generate:hover {\n",
              "        background-color: #E2EBFA;\n",
              "        box-shadow: 0px 1px 2px rgba(60, 64, 67, 0.3), 0px 1px 3px 1px rgba(60, 64, 67, 0.15);\n",
              "        fill: #174EA6;\n",
              "      }\n",
              "\n",
              "      [theme=dark] .colab-df-generate {\n",
              "        background-color: #3B4455;\n",
              "        fill: #D2E3FC;\n",
              "      }\n",
              "\n",
              "      [theme=dark] .colab-df-generate:hover {\n",
              "        background-color: #434B5C;\n",
              "        box-shadow: 0px 1px 3px 1px rgba(0, 0, 0, 0.15);\n",
              "        filter: drop-shadow(0px 1px 2px rgba(0, 0, 0, 0.3));\n",
              "        fill: #FFFFFF;\n",
              "      }\n",
              "    </style>\n",
              "    <button class=\"colab-df-generate\" onclick=\"generateWithVariable('titanic_data')\"\n",
              "            title=\"Generate code using this dataframe.\"\n",
              "            style=\"display:none;\">\n",
              "\n",
              "  <svg xmlns=\"http://www.w3.org/2000/svg\" height=\"24px\"viewBox=\"0 0 24 24\"\n",
              "       width=\"24px\">\n",
              "    <path d=\"M7,19H8.4L18.45,9,17,7.55,7,17.6ZM5,21V16.75L18.45,3.32a2,2,0,0,1,2.83,0l1.4,1.43a1.91,1.91,0,0,1,.58,1.4,1.91,1.91,0,0,1-.58,1.4L9.25,21ZM18.45,9,17,7.55Zm-12,3A5.31,5.31,0,0,0,4.9,8.1,5.31,5.31,0,0,0,1,6.5,5.31,5.31,0,0,0,4.9,4.9,5.31,5.31,0,0,0,6.5,1,5.31,5.31,0,0,0,8.1,4.9,5.31,5.31,0,0,0,12,6.5,5.46,5.46,0,0,0,6.5,12Z\"/>\n",
              "  </svg>\n",
              "    </button>\n",
              "    <script>\n",
              "      (() => {\n",
              "      const buttonEl =\n",
              "        document.querySelector('#id_e48f317e-afe3-4dda-9e75-cb736378e239 button.colab-df-generate');\n",
              "      buttonEl.style.display =\n",
              "        google.colab.kernel.accessAllowed ? 'block' : 'none';\n",
              "\n",
              "      buttonEl.onclick = () => {\n",
              "        google.colab.notebook.generateWithVariable('titanic_data');\n",
              "      }\n",
              "      })();\n",
              "    </script>\n",
              "  </div>\n",
              "\n",
              "    </div>\n",
              "  </div>\n"
            ]
          },
          "metadata": {},
          "execution_count": 11
        }
      ]
    },
    {
      "cell_type": "markdown",
      "source": [
        "### 2. 데이터 확인"
      ],
      "metadata": {
        "id": "XbDfuiO_UCFh"
      }
    },
    {
      "cell_type": "code",
      "source": [
        "# 데이터의 처음 5행을 출력하여 데이터를 살펴보기\n",
        "print(titanic_data.head())"
      ],
      "metadata": {
        "colab": {
          "base_uri": "https://localhost:8080/"
        },
        "id": "qRgKARANTz0B",
        "outputId": "2b0ac54d-11ad-4ba4-a13d-426b4c73cebf"
      },
      "execution_count": 12,
      "outputs": [
        {
          "output_type": "stream",
          "name": "stdout",
          "text": [
            "   pclass survived                                             name     sex  \\\n",
            "0     1.0        1                    Allen, Miss. Elisabeth Walton  female   \n",
            "1     1.0        1                   Allison, Master. Hudson Trevor    male   \n",
            "2     1.0        0                     Allison, Miss. Helen Loraine  female   \n",
            "3     1.0        0             Allison, Mr. Hudson Joshua Creighton    male   \n",
            "4     1.0        0  Allison, Mrs. Hudson J C (Bessie Waldo Daniels)  female   \n",
            "\n",
            "       age  sibsp  parch  ticket      fare    cabin embarked  boat   body  \\\n",
            "0  29.0000    0.0    0.0   24160  211.3375       B5        S     2   None   \n",
            "1   0.9167    1.0    2.0  113781  151.5500  C22 C26        S    11    NaN   \n",
            "2   2.0000    1.0    2.0  113781  151.5500  C22 C26        S  None    NaN   \n",
            "3  30.0000    1.0    2.0  113781  151.5500  C22 C26        S  None  135.0   \n",
            "4  25.0000    1.0    2.0  113781  151.5500  C22 C26        S  None    NaN   \n",
            "\n",
            "                         home.dest  \n",
            "0                     St Louis, MO  \n",
            "1  Montreal, PQ / Chesterville, ON  \n",
            "2  Montreal, PQ / Chesterville, ON  \n",
            "3  Montreal, PQ / Chesterville, ON  \n",
            "4  Montreal, PQ / Chesterville, ON  \n"
          ]
        }
      ]
    },
    {
      "cell_type": "code",
      "source": [
        "# 데이터셋의 통계적 요약을 출력\n",
        "print(titanic_data.describe())"
      ],
      "metadata": {
        "colab": {
          "base_uri": "https://localhost:8080/"
        },
        "id": "T3ciatJ7UOV4",
        "outputId": "100d8f51-42a0-4b54-d53c-10fc67e5af80"
      },
      "execution_count": 13,
      "outputs": [
        {
          "output_type": "stream",
          "name": "stdout",
          "text": [
            "            pclass          age        sibsp        parch         fare\n",
            "count  1309.000000  1046.000000  1309.000000  1309.000000  1308.000000\n",
            "mean      2.294882    29.881135     0.498854     0.385027    33.295479\n",
            "std       0.837836    14.413500     1.041658     0.865560    51.758668\n",
            "min       1.000000     0.166700     0.000000     0.000000     0.000000\n",
            "25%       2.000000    21.000000     0.000000     0.000000     7.895800\n",
            "50%       3.000000    28.000000     0.000000     0.000000    14.454200\n",
            "75%       3.000000    39.000000     1.000000     0.000000    31.275000\n",
            "max       3.000000    80.000000     8.000000     9.000000   512.329200\n"
          ]
        }
      ]
    },
    {
      "cell_type": "code",
      "source": [
        "# 결측치가 있는지 확인\n",
        "print(titanic_data.isnull().sum())"
      ],
      "metadata": {
        "colab": {
          "base_uri": "https://localhost:8080/"
        },
        "id": "PSALNC1IURrE",
        "outputId": "1de0dd6e-99d4-471a-edc5-6eec06878a5f"
      },
      "execution_count": 14,
      "outputs": [
        {
          "output_type": "stream",
          "name": "stdout",
          "text": [
            "pclass          0\n",
            "survived        0\n",
            "name            0\n",
            "sex             0\n",
            "age           263\n",
            "sibsp           0\n",
            "parch           0\n",
            "ticket          0\n",
            "fare            1\n",
            "cabin        1014\n",
            "embarked        2\n",
            "boat          823\n",
            "body         1188\n",
            "home.dest     564\n",
            "dtype: int64\n"
          ]
        }
      ]
    },
    {
      "cell_type": "markdown",
      "source": [
        "### 3. 데이터 전처리"
      ],
      "metadata": {
        "id": "fZsbugl5Ujwn"
      }
    },
    {
      "cell_type": "code",
      "source": [
        "import pandas as pd\n",
        "\n",
        "# 예시 : 나이 결측치 처리, 성별 인코딩, 불필요한 특성 제거\n",
        "titanic_data['age'].fillna(titanic_data['age'].mean(), inplace=True)\n",
        "# ['age']변수의 평균값으로 null값 채우기 / inplace=True : 기존 데이터에 업데이트\n",
        "titanic_data['sex'] = titanic_data['sex'].map({'male': 0, 'female': 1})\n",
        "titanic_data = titanic_data.drop(['name', 'ticket', 'cabin', 'embarked', 'boat', 'body', 'home.dest'], axis=1)"
      ],
      "metadata": {
        "id": "TyCVHty9UUAo"
      },
      "execution_count": 15,
      "outputs": []
    },
    {
      "cell_type": "code",
      "source": [
        "print(titanic_data.info())"
      ],
      "metadata": {
        "colab": {
          "base_uri": "https://localhost:8080/"
        },
        "id": "BFcHQOJ1VuoH",
        "outputId": "7f55554f-1f4c-4414-969d-d032cc3e5c71"
      },
      "execution_count": 17,
      "outputs": [
        {
          "output_type": "stream",
          "name": "stdout",
          "text": [
            "<class 'pandas.core.frame.DataFrame'>\n",
            "RangeIndex: 1309 entries, 0 to 1308\n",
            "Data columns (total 7 columns):\n",
            " #   Column    Non-Null Count  Dtype   \n",
            "---  ------    --------------  -----   \n",
            " 0   pclass    1309 non-null   float64 \n",
            " 1   survived  1309 non-null   category\n",
            " 2   sex       1309 non-null   category\n",
            " 3   age       1309 non-null   float64 \n",
            " 4   sibsp     1309 non-null   float64 \n",
            " 5   parch     1309 non-null   float64 \n",
            " 6   fare      1308 non-null   float64 \n",
            "dtypes: category(2), float64(5)\n",
            "memory usage: 54.1 KB\n",
            "None\n"
          ]
        }
      ]
    },
    {
      "cell_type": "code",
      "source": [
        "print(titanic_data)"
      ],
      "metadata": {
        "colab": {
          "base_uri": "https://localhost:8080/"
        },
        "id": "Yz2MmVdiUx5m",
        "outputId": "794dc309-299e-47d0-bf73-383d70a44b0b"
      },
      "execution_count": 16,
      "outputs": [
        {
          "output_type": "stream",
          "name": "stdout",
          "text": [
            "      pclass survived sex        age  sibsp  parch      fare\n",
            "0        1.0        1   1  29.000000    0.0    0.0  211.3375\n",
            "1        1.0        1   0   0.916700    1.0    2.0  151.5500\n",
            "2        1.0        0   1   2.000000    1.0    2.0  151.5500\n",
            "3        1.0        0   0  30.000000    1.0    2.0  151.5500\n",
            "4        1.0        0   1  25.000000    1.0    2.0  151.5500\n",
            "...      ...      ...  ..        ...    ...    ...       ...\n",
            "1304     3.0        0   1  14.500000    1.0    0.0   14.4542\n",
            "1305     3.0        0   1  29.881135    1.0    0.0   14.4542\n",
            "1306     3.0        0   0  26.500000    0.0    0.0    7.2250\n",
            "1307     3.0        0   0  27.000000    0.0    0.0    7.2250\n",
            "1308     3.0        0   0  29.000000    0.0    0.0    7.8750\n",
            "\n",
            "[1309 rows x 7 columns]\n"
          ]
        }
      ]
    },
    {
      "cell_type": "code",
      "source": [
        "titanic_data['fare'].fillna(titanic_data['fare'].mean(), inplace=True) # ['age']변수의 평균값으로 null값을 채우기 / 기존 데이터에 업데이트 하기"
      ],
      "metadata": {
        "id": "RdDf_5StVQl8"
      },
      "execution_count": 19,
      "outputs": []
    },
    {
      "cell_type": "code",
      "source": [
        "print(titanic_data.info())"
      ],
      "metadata": {
        "colab": {
          "base_uri": "https://localhost:8080/"
        },
        "id": "jcoq3FPXXGO0",
        "outputId": "a83ca9a9-cfea-492b-a4a9-6baa1472dce6"
      },
      "execution_count": 20,
      "outputs": [
        {
          "output_type": "stream",
          "name": "stdout",
          "text": [
            "<class 'pandas.core.frame.DataFrame'>\n",
            "RangeIndex: 1309 entries, 0 to 1308\n",
            "Data columns (total 7 columns):\n",
            " #   Column    Non-Null Count  Dtype   \n",
            "---  ------    --------------  -----   \n",
            " 0   pclass    1309 non-null   float64 \n",
            " 1   survived  1309 non-null   category\n",
            " 2   sex       1309 non-null   category\n",
            " 3   age       1309 non-null   float64 \n",
            " 4   sibsp     1309 non-null   float64 \n",
            " 5   parch     1309 non-null   float64 \n",
            " 6   fare      1309 non-null   float64 \n",
            "dtypes: category(2), float64(5)\n",
            "memory usage: 54.1 KB\n",
            "None\n"
          ]
        }
      ]
    },
    {
      "cell_type": "markdown",
      "source": [
        "### 4. 데이터 분할"
      ],
      "metadata": {
        "id": "UDFeYe35ao0t"
      }
    },
    {
      "cell_type": "code",
      "source": [
        "from sklearn.model_selection import train_test_split\n",
        "\n",
        "# 입력 변수와 타겟 변수 분리\n",
        "X = titanic_data.drop(['survived'], axis=1) # 'survived' 컬럼 제외 / X에는 타겟이 있으면 안됨\n",
        "y = titanic_data['survived'] # 타겟 변수 / y에만 정답이 있어야 함\n",
        "\n",
        "# 데이터 분할 : 훈련 세트 80%, 테스트 세트 20%\n",
        "X_train, X_test, y_train, y_test = train_test_split(X, y, test_size=0.2, random_state=42) # random_state -> 고정된 값으로 분할이 가능"
      ],
      "metadata": {
        "id": "I7_I38_Zanr_"
      },
      "execution_count": 21,
      "outputs": []
    },
    {
      "cell_type": "markdown",
      "source": [
        "### 5. 알고리즘 선택\n",
        "- 베이스라인 모델"
      ],
      "metadata": {
        "id": "GTYwvPOHavs9"
      }
    },
    {
      "cell_type": "code",
      "source": [
        "from sklearn.ensemble import RandomForestClassifier\n",
        "\n",
        "# 랜덤 포레스트 분류기 인스턴스 준비\n",
        "model = RandomForestClassifier(random_state=42)"
      ],
      "metadata": {
        "id": "YPXxZiY0avDf"
      },
      "execution_count": 22,
      "outputs": []
    },
    {
      "cell_type": "markdown",
      "source": [
        "### 6. 학습"
      ],
      "metadata": {
        "id": "pMqGdxXSa3X9"
      }
    },
    {
      "cell_type": "code",
      "source": [
        "model.fit(X_train, y_train)"
      ],
      "metadata": {
        "colab": {
          "base_uri": "https://localhost:8080/",
          "height": 74
        },
        "id": "sGJwA1KBa2Ot",
        "outputId": "8e6d18d4-aa5e-41ec-fb9a-cc92b8976e05"
      },
      "execution_count": 23,
      "outputs": [
        {
          "output_type": "execute_result",
          "data": {
            "text/plain": [
              "RandomForestClassifier(random_state=42)"
            ],
            "text/html": [
              "<style>#sk-container-id-1 {color: black;background-color: white;}#sk-container-id-1 pre{padding: 0;}#sk-container-id-1 div.sk-toggleable {background-color: white;}#sk-container-id-1 label.sk-toggleable__label {cursor: pointer;display: block;width: 100%;margin-bottom: 0;padding: 0.3em;box-sizing: border-box;text-align: center;}#sk-container-id-1 label.sk-toggleable__label-arrow:before {content: \"▸\";float: left;margin-right: 0.25em;color: #696969;}#sk-container-id-1 label.sk-toggleable__label-arrow:hover:before {color: black;}#sk-container-id-1 div.sk-estimator:hover label.sk-toggleable__label-arrow:before {color: black;}#sk-container-id-1 div.sk-toggleable__content {max-height: 0;max-width: 0;overflow: hidden;text-align: left;background-color: #f0f8ff;}#sk-container-id-1 div.sk-toggleable__content pre {margin: 0.2em;color: black;border-radius: 0.25em;background-color: #f0f8ff;}#sk-container-id-1 input.sk-toggleable__control:checked~div.sk-toggleable__content {max-height: 200px;max-width: 100%;overflow: auto;}#sk-container-id-1 input.sk-toggleable__control:checked~label.sk-toggleable__label-arrow:before {content: \"▾\";}#sk-container-id-1 div.sk-estimator input.sk-toggleable__control:checked~label.sk-toggleable__label {background-color: #d4ebff;}#sk-container-id-1 div.sk-label input.sk-toggleable__control:checked~label.sk-toggleable__label {background-color: #d4ebff;}#sk-container-id-1 input.sk-hidden--visually {border: 0;clip: rect(1px 1px 1px 1px);clip: rect(1px, 1px, 1px, 1px);height: 1px;margin: -1px;overflow: hidden;padding: 0;position: absolute;width: 1px;}#sk-container-id-1 div.sk-estimator {font-family: monospace;background-color: #f0f8ff;border: 1px dotted black;border-radius: 0.25em;box-sizing: border-box;margin-bottom: 0.5em;}#sk-container-id-1 div.sk-estimator:hover {background-color: #d4ebff;}#sk-container-id-1 div.sk-parallel-item::after {content: \"\";width: 100%;border-bottom: 1px solid gray;flex-grow: 1;}#sk-container-id-1 div.sk-label:hover label.sk-toggleable__label {background-color: #d4ebff;}#sk-container-id-1 div.sk-serial::before {content: \"\";position: absolute;border-left: 1px solid gray;box-sizing: border-box;top: 0;bottom: 0;left: 50%;z-index: 0;}#sk-container-id-1 div.sk-serial {display: flex;flex-direction: column;align-items: center;background-color: white;padding-right: 0.2em;padding-left: 0.2em;position: relative;}#sk-container-id-1 div.sk-item {position: relative;z-index: 1;}#sk-container-id-1 div.sk-parallel {display: flex;align-items: stretch;justify-content: center;background-color: white;position: relative;}#sk-container-id-1 div.sk-item::before, #sk-container-id-1 div.sk-parallel-item::before {content: \"\";position: absolute;border-left: 1px solid gray;box-sizing: border-box;top: 0;bottom: 0;left: 50%;z-index: -1;}#sk-container-id-1 div.sk-parallel-item {display: flex;flex-direction: column;z-index: 1;position: relative;background-color: white;}#sk-container-id-1 div.sk-parallel-item:first-child::after {align-self: flex-end;width: 50%;}#sk-container-id-1 div.sk-parallel-item:last-child::after {align-self: flex-start;width: 50%;}#sk-container-id-1 div.sk-parallel-item:only-child::after {width: 0;}#sk-container-id-1 div.sk-dashed-wrapped {border: 1px dashed gray;margin: 0 0.4em 0.5em 0.4em;box-sizing: border-box;padding-bottom: 0.4em;background-color: white;}#sk-container-id-1 div.sk-label label {font-family: monospace;font-weight: bold;display: inline-block;line-height: 1.2em;}#sk-container-id-1 div.sk-label-container {text-align: center;}#sk-container-id-1 div.sk-container {/* jupyter's `normalize.less` sets `[hidden] { display: none; }` but bootstrap.min.css set `[hidden] { display: none !important; }` so we also need the `!important` here to be able to override the default hidden behavior on the sphinx rendered scikit-learn.org. See: https://github.com/scikit-learn/scikit-learn/issues/21755 */display: inline-block !important;position: relative;}#sk-container-id-1 div.sk-text-repr-fallback {display: none;}</style><div id=\"sk-container-id-1\" class=\"sk-top-container\"><div class=\"sk-text-repr-fallback\"><pre>RandomForestClassifier(random_state=42)</pre><b>In a Jupyter environment, please rerun this cell to show the HTML representation or trust the notebook. <br />On GitHub, the HTML representation is unable to render, please try loading this page with nbviewer.org.</b></div><div class=\"sk-container\" hidden><div class=\"sk-item\"><div class=\"sk-estimator sk-toggleable\"><input class=\"sk-toggleable__control sk-hidden--visually\" id=\"sk-estimator-id-1\" type=\"checkbox\" checked><label for=\"sk-estimator-id-1\" class=\"sk-toggleable__label sk-toggleable__label-arrow\">RandomForestClassifier</label><div class=\"sk-toggleable__content\"><pre>RandomForestClassifier(random_state=42)</pre></div></div></div></div></div>"
            ]
          },
          "metadata": {},
          "execution_count": 23
        }
      ]
    },
    {
      "cell_type": "markdown",
      "source": [
        "### 7. 예측"
      ],
      "metadata": {
        "id": "WrDZnGIKa64s"
      }
    },
    {
      "cell_type": "code",
      "source": [
        "# 테스트 데이터를 가지고 predict(예측)\n",
        "predictions = model.predict(X_test)"
      ],
      "metadata": {
        "id": "hKSf6muqa6NH"
      },
      "execution_count": 24,
      "outputs": []
    },
    {
      "cell_type": "code",
      "source": [
        "predictions"
      ],
      "metadata": {
        "colab": {
          "base_uri": "https://localhost:8080/"
        },
        "id": "WVo4Vonwa-UY",
        "outputId": "3564e741-1dd1-4e3f-aed3-1de6bb30fd60"
      },
      "execution_count": 25,
      "outputs": [
        {
          "output_type": "execute_result",
          "data": {
            "text/plain": [
              "array(['0', '0', '0', '0', '0', '0', '0', '0', '0', '1', '0', '0', '0',\n",
              "       '0', '0', '1', '0', '0', '1', '0', '1', '0', '0', '1', '1', '1',\n",
              "       '0', '1', '0', '1', '0', '1', '1', '1', '0', '0', '1', '0', '1',\n",
              "       '0', '1', '0', '1', '0', '0', '0', '0', '0', '1', '1', '1', '0',\n",
              "       '1', '1', '1', '0', '0', '0', '0', '0', '0', '0', '1', '0', '1',\n",
              "       '1', '1', '0', '0', '0', '0', '0', '0', '0', '1', '0', '0', '1',\n",
              "       '0', '1', '0', '0', '0', '1', '0', '0', '0', '1', '1', '1', '1',\n",
              "       '0', '1', '0', '0', '0', '0', '1', '0', '1', '0', '0', '1', '1',\n",
              "       '0', '0', '0', '0', '1', '1', '0', '0', '0', '1', '1', '0', '0',\n",
              "       '1', '1', '1', '0', '0', '0', '1', '0', '1', '0', '1', '1', '0',\n",
              "       '1', '1', '0', '0', '0', '1', '0', '0', '0', '1', '0', '0', '0',\n",
              "       '1', '0', '1', '0', '0', '1', '0', '0', '0', '0', '0', '0', '0',\n",
              "       '1', '0', '0', '0', '0', '1', '0', '0', '1', '1', '0', '1', '0',\n",
              "       '1', '1', '1', '1', '0', '1', '0', '1', '0', '1', '0', '1', '1',\n",
              "       '0', '1', '0', '1', '0', '1', '0', '1', '0', '0', '0', '0', '0',\n",
              "       '0', '0', '0', '1', '1', '0', '0', '0', '0', '1', '0', '1', '0',\n",
              "       '0', '0', '0', '1', '0', '1', '0', '1', '1', '0', '1', '0', '1',\n",
              "       '1', '1', '0', '0', '1', '0', '1', '0', '0', '0', '1', '0', '0',\n",
              "       '0', '1', '0', '0', '0', '0', '0', '1', '0', '0', '0', '0', '0',\n",
              "       '0', '0', '0', '0', '0', '1', '1', '0', '0', '1', '1', '1', '0',\n",
              "       '0', '1'], dtype=object)"
            ]
          },
          "metadata": {},
          "execution_count": 25
        }
      ]
    },
    {
      "cell_type": "markdown",
      "source": [
        "### 8. 평가\n",
        "\n",
        "    실제값과 예측된값이 실제로 일치하는지를 점검 -> 정확도\n",
        "    생존여부(1/0) -> 분류 -> 이진 분류 -> 맞는지 틀리는지 정확도"
      ],
      "metadata": {
        "id": "0kfQRIYFbApM"
      }
    },
    {
      "cell_type": "code",
      "source": [
        "from sklearn.metrics import accuracy_score\n",
        "accuracy = accuracy_score(y_test, predictions) # 실제값과 예측값을 비교\n",
        "print(f\"Accuracy: {accuracy}\") # 두 데이터가 얼마나 일치하는지 점검"
      ],
      "metadata": {
        "colab": {
          "base_uri": "https://localhost:8080/"
        },
        "id": "hhFyS1-aa_fw",
        "outputId": "6c7aa07b-6258-4e98-c875-b048fc15451e"
      },
      "execution_count": 26,
      "outputs": [
        {
          "output_type": "stream",
          "name": "stdout",
          "text": [
            "Accuracy: 0.7862595419847328\n"
          ]
        }
      ]
    },
    {
      "cell_type": "code",
      "source": [
        "# 두가지 방법\n",
        "# 1. EDA로 다시 돌아가서 처음부터 진행! -> 78% 마음에 안들어 -> 90%(자의적, 타의적)! / 10번\n",
        "# 2. 나는 이 성능에 만족하니까 하이퍼파라미터 튜닝! / 맨 마지막!"
      ],
      "metadata": {
        "id": "7RLB0-8LbPv7"
      },
      "execution_count": 27,
      "outputs": []
    },
    {
      "cell_type": "code",
      "source": [
        "import matplotlib.pyplot as plt\n",
        "\n",
        "# 변수 중요도 추출\n",
        "feature_importances = model.feature_importances_\n",
        "\n",
        "# 변수 이름과 중요도를 매핑\n",
        "feature_names = X_train.columns\n",
        "feature_importance_dict = dict(zip(feature_names, feature_importances))\n",
        "\n",
        "# 중요도에 따라 변수 정렬\n",
        "sorted_importance = sorted(feature_importance_dict.items(), key=lambda x: x[1], reverse=True)\n",
        "\n",
        "# 중요도 시각화\n",
        "plt.figure(figsize=(10, 8))\n",
        "plt.barh([item[0] for item in sorted_importance], [item[1] for item in sorted_importance])\n",
        "plt.xlabel('Importance')\n",
        "plt.ylabel('Feature')\n",
        "plt.title('Feature Importances in Random Forest Model')\n",
        "plt.gca().invert_yaxis() # 높은 중요도가 위로 오게 정렬\n",
        "plt.show()"
      ],
      "metadata": {
        "colab": {
          "base_uri": "https://localhost:8080/",
          "height": 637
        },
        "id": "WZLCGtc4bURr",
        "outputId": "fbb5899f-1fb9-4d9b-9aa4-6545a7c1958c"
      },
      "execution_count": 28,
      "outputs": [
        {
          "output_type": "display_data",
          "data": {
            "text/plain": [
              "<Figure size 1000x800 with 1 Axes>"
            ],
            "image/png": "[encoded data removed]"
          },
          "metadata": {}
        }
      ]
    },
    {
      "cell_type": "markdown",
      "source": [
        "### 9. 튜닝"
      ],
      "metadata": {
        "id": "NPBNdG3ZbcCq"
      }
    },
    {
      "cell_type": "code",
      "source": [
        "from sklearn.model_selection import GridSearchCV\n",
        "\n",
        "param_grid = {'n_estimators': [50, 100], 'max_depth': [5, 10]}\n",
        "grid_search = GridSearchCV(model, param_grid, cv=5)\n",
        "grid_search.fit(X_train, y_train)"
      ],
      "metadata": {
        "id": "8Ut45XcQbWHU"
      },
      "execution_count": null,
      "outputs": []
    },
    {
      "cell_type": "code",
      "source": [
        "# 테스트 데이터를 가지고 predict(예측)\n",
        "predictions = grid_search.predict(X_test)"
      ],
      "metadata": {
        "id": "T8rZAs5Mbg4w"
      },
      "execution_count": 30,
      "outputs": []
    },
    {
      "cell_type": "code",
      "source": [
        "from sklearn.metrics import accuracy_score\n",
        "accuracy = accuracy_score(y_test, predictions) # 실제값과 예측값을 비교\n",
        "print(f\"Accuracy: {accuracy}\") # 두 데이터가 얼마나 일치하는지 점검"
      ],
      "metadata": {
        "colab": {
          "base_uri": "https://localhost:8080/"
        },
        "id": "_pNQwhDabiem",
        "outputId": "e8a321c5-078f-4fbb-c276-1d68b524c2f8"
      },
      "execution_count": 31,
      "outputs": [
        {
          "metadata": {
            "tags": null
          },
          "name": "stdout",
          "output_type": "stream",
          "text": [
            "Accuracy: 0.7748091603053435\n"
          ]
        }
      ]
    },
    {
      "cell_type": "code",
      "source": [
        "# Accuracy: 0.7862595419847328\n",
        "# Accuracy: 0.7748091603053435\n",
        "# 이전 결과보다 현재 정확도 값이 떨어진 것을 확인할 수 있음"
      ],
      "metadata": {
        "id": "05I79GGTbl-D"
      },
      "execution_count": 32,
      "outputs": []
    },
    {
      "cell_type": "code",
      "source": [],
      "metadata": {
        "id": "LyKjsgLvcK_S"
      },
      "execution_count": null,
      "outputs": []
    }
  ]
}
