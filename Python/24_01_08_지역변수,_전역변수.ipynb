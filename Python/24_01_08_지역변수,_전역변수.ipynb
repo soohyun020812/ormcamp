{
  "nbformat": 4,
  "nbformat_minor": 0,
  "metadata": {
    "colab": {
      "provenance": []
    },
    "kernelspec": {
      "name": "python3",
      "display_name": "Python 3"
    },
    "language_info": {
      "name": "python"
    }
  },
  "cells": [
    {
      "cell_type": "markdown",
      "source": [
        "### **지역변수**\n",
        "\n",
        "함수 내부에서만 정의되고 사용되는 변수\n",
        "\n",
        "다른 함수나 프로그램의 전체 흐름에 영항을 주지 않고, 내부에서만 데이터를 관리할 수 있음\n",
        "\n",
        "여러 개발자가 작업할 때 변수 이름 충돌을 방지하며 코드의 유지보스에 용이하기 때문"
      ],
      "metadata": {
        "id": "ogFPuMJK7BR7"
      }
    },
    {
      "cell_type": "code",
      "source": [
        "# 지역 변수 사용 예시\n",
        "def f():\n",
        "    a = 1\n",
        "    print(a)  # 출력: 1\n",
        "\n",
        "f()\n",
        "print(a)  # error: a는 f 함수 내부에서만 정의되었습니다.\n",
        "\n",
        "# a는 지역변수, 밖에서 이 변수에 접근 불가\n",
        "# 지역에 선언된 변수 목록을 보려면 locals()를 사용"
      ],
      "metadata": {
        "colab": {
          "base_uri": "https://localhost:8080/",
          "height": 237
        },
        "id": "XsCRIo9y7BDo",
        "outputId": "30353ec3-56a2-41af-bcba-2f3696f1dbf6"
      },
      "execution_count": 1,
      "outputs": [
        {
          "output_type": "stream",
          "name": "stdout",
          "text": [
            "1\n"
          ]
        },
        {
          "output_type": "error",
          "ename": "NameError",
          "evalue": "name 'a' is not defined",
          "traceback": [
            "\u001b[0;31m---------------------------------------------------------------------------\u001b[0m",
            "\u001b[0;31mNameError\u001b[0m                                 Traceback (most recent call last)",
            "\u001b[0;32m<ipython-input-1-55b5f2baa76f>\u001b[0m in \u001b[0;36m<cell line: 7>\u001b[0;34m()\u001b[0m\n\u001b[1;32m      5\u001b[0m \u001b[0;34m\u001b[0m\u001b[0m\n\u001b[1;32m      6\u001b[0m \u001b[0mf\u001b[0m\u001b[0;34m(\u001b[0m\u001b[0;34m)\u001b[0m\u001b[0;34m\u001b[0m\u001b[0;34m\u001b[0m\u001b[0m\n\u001b[0;32m----> 7\u001b[0;31m \u001b[0mprint\u001b[0m\u001b[0;34m(\u001b[0m\u001b[0ma\u001b[0m\u001b[0;34m)\u001b[0m  \u001b[0;31m# error: a는 f 함수 내부에서만 정의되었습니다.\u001b[0m\u001b[0;34m\u001b[0m\u001b[0;34m\u001b[0m\u001b[0m\n\u001b[0m",
            "\u001b[0;31mNameError\u001b[0m: name 'a' is not defined"
          ]
        }
      ]
    },
    {
      "cell_type": "code",
      "source": [
        "def f():\n",
        "    a = 1\n",
        "    print(locals()) # 출력: {'a': 1}\n",
        "\n",
        "f()"
      ],
      "metadata": {
        "colab": {
          "base_uri": "https://localhost:8080/"
        },
        "id": "pphTgtWG7aN7",
        "outputId": "6129974d-7c31-488c-e50d-2e604547d614"
      },
      "execution_count": 2,
      "outputs": [
        {
          "output_type": "stream",
          "name": "stdout",
          "text": [
            "{'a': 1}\n"
          ]
        }
      ]
    },
    {
      "cell_type": "code",
      "source": [
        "def f():\n",
        "    a = 1\n",
        "    b = 'hello'\n",
        "    def ff():\n",
        "        pass\n",
        "    print(locals()) # 출력: {'a': 1, 'b': 'hello', 'ff': <function f.<locals>.ff at 0x7a46e99d2c20>}\n",
        "\n",
        "f()"
      ],
      "metadata": {
        "colab": {
          "base_uri": "https://localhost:8080/"
        },
        "id": "8v2qcBxA7hj9",
        "outputId": "e98c7872-c3b2-4c10-83f9-9fc45cacf991"
      },
      "execution_count": 3,
      "outputs": [
        {
          "output_type": "stream",
          "name": "stdout",
          "text": [
            "{'a': 1, 'b': 'hello', 'ff': <function f.<locals>.ff at 0x7db9f8194040>}\n"
          ]
        }
      ]
    },
    {
      "cell_type": "markdown",
      "source": [
        "### **전역변수**\n",
        "\n",
        "프로그램 전체, 어떤 함수에서도 접근 가능\n",
        "\n",
        "함수 내부에서 함수 외부에 정의된 변수를 변경하려면, 그 변수를 global로 선언\n",
        "\n",
        "키워드를 사용하면 함수 내부에서 전역 변수를 참조하고 수정 가능\n",
        "\n",
        "(키워드를 사용한 전역변수의 변경은 권장하지 않음)\n",
        "\n",
        "코드의 복잡도와 변수의 값의 예기치 않은 변경으로 버그 우려\n",
        "\n",
        "대신, 필요한 값을 함수의 인자로 전달하고 함수의 반환값을 사용하여 결과 얻는 방법을 권함\n",
        "\n",
        "= 객체 지향 프로그래밍에서 권장하는 방식, 코드의 안전성과 유지보수성을 높임"
      ],
      "metadata": {
        "id": "pgEb7XEs7kjc"
      }
    },
    {
      "cell_type": "code",
      "source": [
        "a = 100\n",
        "\n",
        "def f():\n",
        "    global a\n",
        "    a = a + 1\n",
        "\n",
        "f()\n",
        "print(a)  # 출력: 101, 함수 f 내에서 전역 변수 a가 수정되었습니다."
      ],
      "metadata": {
        "colab": {
          "base_uri": "https://localhost:8080/"
        },
        "id": "JozIXsID7jy2",
        "outputId": "94e0c280-aea3-4ff3-9820-2a268feba9c7"
      },
      "execution_count": 4,
      "outputs": [
        {
          "output_type": "stream",
          "name": "stdout",
          "text": [
            "101\n"
          ]
        }
      ]
    },
    {
      "cell_type": "code",
      "source": [
        "a = 100\n",
        "def f():\n",
        "    a = a + 1 # error\n",
        "\n",
        "f()\n",
        "print(a)\n",
        "\n",
        "# 전역 변수를 global 키워드 없이 수정하는 것은 허락하지 않음"
      ],
      "metadata": {
        "colab": {
          "base_uri": "https://localhost:8080/",
          "height": 382
        },
        "id": "Iul4q_cE8KHP",
        "outputId": "8020ce9f-df75-4baa-abcc-ffbe4c24cde7"
      },
      "execution_count": 5,
      "outputs": [
        {
          "output_type": "error",
          "ename": "UnboundLocalError",
          "evalue": "local variable 'a' referenced before assignment",
          "traceback": [
            "\u001b[0;31m---------------------------------------------------------------------------\u001b[0m",
            "\u001b[0;31mUnboundLocalError\u001b[0m                         Traceback (most recent call last)",
            "\u001b[0;32m<ipython-input-5-7b0cee044e05>\u001b[0m in \u001b[0;36m<cell line: 5>\u001b[0;34m()\u001b[0m\n\u001b[1;32m      3\u001b[0m     \u001b[0ma\u001b[0m \u001b[0;34m=\u001b[0m \u001b[0ma\u001b[0m \u001b[0;34m+\u001b[0m \u001b[0;36m1\u001b[0m \u001b[0;31m# error\u001b[0m\u001b[0;34m\u001b[0m\u001b[0;34m\u001b[0m\u001b[0m\n\u001b[1;32m      4\u001b[0m \u001b[0;34m\u001b[0m\u001b[0m\n\u001b[0;32m----> 5\u001b[0;31m \u001b[0mf\u001b[0m\u001b[0;34m(\u001b[0m\u001b[0;34m)\u001b[0m\u001b[0;34m\u001b[0m\u001b[0;34m\u001b[0m\u001b[0m\n\u001b[0m\u001b[1;32m      6\u001b[0m \u001b[0mprint\u001b[0m\u001b[0;34m(\u001b[0m\u001b[0ma\u001b[0m\u001b[0;34m)\u001b[0m\u001b[0;34m\u001b[0m\u001b[0;34m\u001b[0m\u001b[0m\n\u001b[1;32m      7\u001b[0m \u001b[0;34m\u001b[0m\u001b[0m\n",
            "\u001b[0;32m<ipython-input-5-7b0cee044e05>\u001b[0m in \u001b[0;36mf\u001b[0;34m()\u001b[0m\n\u001b[1;32m      1\u001b[0m \u001b[0ma\u001b[0m \u001b[0;34m=\u001b[0m \u001b[0;36m100\u001b[0m\u001b[0;34m\u001b[0m\u001b[0;34m\u001b[0m\u001b[0m\n\u001b[1;32m      2\u001b[0m \u001b[0;32mdef\u001b[0m \u001b[0mf\u001b[0m\u001b[0;34m(\u001b[0m\u001b[0;34m)\u001b[0m\u001b[0;34m:\u001b[0m\u001b[0;34m\u001b[0m\u001b[0;34m\u001b[0m\u001b[0m\n\u001b[0;32m----> 3\u001b[0;31m     \u001b[0ma\u001b[0m \u001b[0;34m=\u001b[0m \u001b[0ma\u001b[0m \u001b[0;34m+\u001b[0m \u001b[0;36m1\u001b[0m \u001b[0;31m# error\u001b[0m\u001b[0;34m\u001b[0m\u001b[0;34m\u001b[0m\u001b[0m\n\u001b[0m\u001b[1;32m      4\u001b[0m \u001b[0;34m\u001b[0m\u001b[0m\n\u001b[1;32m      5\u001b[0m \u001b[0mf\u001b[0m\u001b[0;34m(\u001b[0m\u001b[0;34m)\u001b[0m\u001b[0;34m\u001b[0m\u001b[0;34m\u001b[0m\u001b[0m\n",
            "\u001b[0;31mUnboundLocalError\u001b[0m: local variable 'a' referenced before assignment"
          ]
        }
      ]
    },
    {
      "cell_type": "code",
      "source": [
        "a = 100\n",
        "\n",
        "def f():\n",
        "    print(a) # 출력: 100\n",
        "\n",
        "f()\n",
        "\n",
        "def ff():\n",
        "    b = a + 1\n",
        "    print(b) # 출력: 101\n",
        "\n",
        "ff()"
      ],
      "metadata": {
        "colab": {
          "base_uri": "https://localhost:8080/"
        },
        "id": "jXhPlawt8Npn",
        "outputId": "bdf40241-f186-4faa-a058-1200b6f140b5"
      },
      "execution_count": 6,
      "outputs": [
        {
          "output_type": "stream",
          "name": "stdout",
          "text": [
            "100\n",
            "101\n"
          ]
        }
      ]
    },
    {
      "cell_type": "code",
      "source": [
        "a = 100\n",
        "\n",
        "def f():\n",
        "    a = 1000\n",
        "    print(a) # 출력: 1000\n",
        "\n",
        "f()\n",
        "\n",
        "# 전역에 있는 a와 로컬에 있는 a변수가 구분되어서 출력됨"
      ],
      "metadata": {
        "colab": {
          "base_uri": "https://localhost:8080/"
        },
        "id": "Gjg9b6Ws8OrQ",
        "outputId": "b03d361b-404b-472b-8d37-6fb1d1801b3f"
      },
      "execution_count": 7,
      "outputs": [
        {
          "output_type": "stream",
          "name": "stdout",
          "text": [
            "1000\n"
          ]
        }
      ]
    },
    {
      "cell_type": "code",
      "source": [
        "a = 100\n",
        "def f():\n",
        "    a = a + 1 # error\n",
        "\n",
        "f()\n",
        "\n",
        "# a = a + 1은 연산자 우선순위에 의해 a + 1이 먼저 실행\n",
        "# 따라서 a를 지역변수로 놓고 a + 1을 하려니 지역변수에는 a가 선언된 적이 없음\n",
        "# 따라서 a + 1 연산을 할 수 없기 때문에 local variable 'a' referenced before assignment에러 발생"
      ],
      "metadata": {
        "colab": {
          "base_uri": "https://localhost:8080/",
          "height": 382
        },
        "id": "igGSHXVi8WFF",
        "outputId": "c8ec6bb3-2a6e-47bd-ad01-6032de246ab7"
      },
      "execution_count": 8,
      "outputs": [
        {
          "output_type": "error",
          "ename": "UnboundLocalError",
          "evalue": "local variable 'a' referenced before assignment",
          "traceback": [
            "\u001b[0;31m---------------------------------------------------------------------------\u001b[0m",
            "\u001b[0;31mUnboundLocalError\u001b[0m                         Traceback (most recent call last)",
            "\u001b[0;32m<ipython-input-8-03ae356bff00>\u001b[0m in \u001b[0;36m<cell line: 5>\u001b[0;34m()\u001b[0m\n\u001b[1;32m      3\u001b[0m     \u001b[0ma\u001b[0m \u001b[0;34m=\u001b[0m \u001b[0ma\u001b[0m \u001b[0;34m+\u001b[0m \u001b[0;36m1\u001b[0m \u001b[0;31m# error\u001b[0m\u001b[0;34m\u001b[0m\u001b[0;34m\u001b[0m\u001b[0m\n\u001b[1;32m      4\u001b[0m \u001b[0;34m\u001b[0m\u001b[0m\n\u001b[0;32m----> 5\u001b[0;31m \u001b[0mf\u001b[0m\u001b[0;34m(\u001b[0m\u001b[0;34m)\u001b[0m\u001b[0;34m\u001b[0m\u001b[0;34m\u001b[0m\u001b[0m\n\u001b[0m\u001b[1;32m      6\u001b[0m \u001b[0;34m\u001b[0m\u001b[0m\n\u001b[1;32m      7\u001b[0m \u001b[0;31m# a = a + 1은 연산자 우선순위에 의해 a + 1이 먼저 실행\u001b[0m\u001b[0;34m\u001b[0m\u001b[0;34m\u001b[0m\u001b[0m\n",
            "\u001b[0;32m<ipython-input-8-03ae356bff00>\u001b[0m in \u001b[0;36mf\u001b[0;34m()\u001b[0m\n\u001b[1;32m      1\u001b[0m \u001b[0ma\u001b[0m \u001b[0;34m=\u001b[0m \u001b[0;36m100\u001b[0m\u001b[0;34m\u001b[0m\u001b[0;34m\u001b[0m\u001b[0m\n\u001b[1;32m      2\u001b[0m \u001b[0;32mdef\u001b[0m \u001b[0mf\u001b[0m\u001b[0;34m(\u001b[0m\u001b[0;34m)\u001b[0m\u001b[0;34m:\u001b[0m\u001b[0;34m\u001b[0m\u001b[0;34m\u001b[0m\u001b[0m\n\u001b[0;32m----> 3\u001b[0;31m     \u001b[0ma\u001b[0m \u001b[0;34m=\u001b[0m \u001b[0ma\u001b[0m \u001b[0;34m+\u001b[0m \u001b[0;36m1\u001b[0m \u001b[0;31m# error\u001b[0m\u001b[0;34m\u001b[0m\u001b[0;34m\u001b[0m\u001b[0m\n\u001b[0m\u001b[1;32m      4\u001b[0m \u001b[0;34m\u001b[0m\u001b[0m\n\u001b[1;32m      5\u001b[0m \u001b[0mf\u001b[0m\u001b[0;34m(\u001b[0m\u001b[0;34m)\u001b[0m\u001b[0;34m\u001b[0m\u001b[0;34m\u001b[0m\u001b[0m\n",
            "\u001b[0;31mUnboundLocalError\u001b[0m: local variable 'a' referenced before assignment"
          ]
        }
      ]
    },
    {
      "cell_type": "code",
      "source": [
        "a = 1\n",
        "b = 'hello'\n",
        "def f():\n",
        "    pass\n",
        "print(globals())"
      ],
      "metadata": {
        "colab": {
          "base_uri": "https://localhost:8080/"
        },
        "id": "-73U9qza8gfM",
        "outputId": "d1a6f9bd-674b-4612-9e51-e662d4db5212"
      },
      "execution_count": 9,
      "outputs": [
        {
          "output_type": "stream",
          "name": "stdout",
          "text": [
            "{'__name__': '__main__', '__doc__': 'Automatically created module for IPython interactive environment', '__package__': None, '__loader__': None, '__spec__': None, '__builtin__': <module 'builtins' (built-in)>, '__builtins__': <module 'builtins' (built-in)>, '_ih': ['', '# 지역 변수 사용 예시\\ndef f():\\n    a = 1\\n    print(a)  # 출력: 1\\n\\nf()\\nprint(a)  # error: a는 f 함수 내부에서만 정의되었습니다.', \"def f():\\n    a = 1\\n    print(locals()) # 출력: {'a': 1}\\n\\nf()\", \"def f():\\n    a = 1\\n    b = 'hello'\\n    def ff():\\n        pass\\n    print(locals()) # 출력: {'a': 1, 'b': 'hello', 'ff': <function f.<locals>.ff at 0x7a46e99d2c20>}\\n\\nf()\", 'a = 100\\n\\ndef f():\\n    global a\\n    a = a + 1\\n\\nf()\\nprint(a)  # 출력: 101, 함수 f 내에서 전역 변수 a가 수정되었습니다.', 'a = 100\\ndef f():\\n    a = a + 1 # error\\n\\nf()\\nprint(a)\\n\\n# 전역 변수를 global 키워드 없이 수정하는 것은 허락하지 않음', 'a = 100\\n\\ndef f():\\n    print(a) # 출력: 100\\n\\nf()\\n\\ndef ff():\\n    b = a + 1\\n    print(b) # 출력: 101\\n\\nff()', 'a = 100\\n\\ndef f():\\n    a = 1000\\n    print(a) # 출력: 1000\\n\\nf()\\n\\n# 전역에 있는 a와 로컬에 있는 a변수가 구분되어서 출력됨', 'a = 100\\ndef f():\\n    a = a + 1 # error\\n\\nf()\\n\\n# a = a + 1은 연산자 우선순위에 의해 a + 1이 먼저 실행', \"a = 1\\nb = 'hello'\\ndef f():\\n    pass\\nprint(globals())\"], '_oh': {}, '_dh': ['/content'], 'In': ['', '# 지역 변수 사용 예시\\ndef f():\\n    a = 1\\n    print(a)  # 출력: 1\\n\\nf()\\nprint(a)  # error: a는 f 함수 내부에서만 정의되었습니다.', \"def f():\\n    a = 1\\n    print(locals()) # 출력: {'a': 1}\\n\\nf()\", \"def f():\\n    a = 1\\n    b = 'hello'\\n    def ff():\\n        pass\\n    print(locals()) # 출력: {'a': 1, 'b': 'hello', 'ff': <function f.<locals>.ff at 0x7a46e99d2c20>}\\n\\nf()\", 'a = 100\\n\\ndef f():\\n    global a\\n    a = a + 1\\n\\nf()\\nprint(a)  # 출력: 101, 함수 f 내에서 전역 변수 a가 수정되었습니다.', 'a = 100\\ndef f():\\n    a = a + 1 # error\\n\\nf()\\nprint(a)\\n\\n# 전역 변수를 global 키워드 없이 수정하는 것은 허락하지 않음', 'a = 100\\n\\ndef f():\\n    print(a) # 출력: 100\\n\\nf()\\n\\ndef ff():\\n    b = a + 1\\n    print(b) # 출력: 101\\n\\nff()', 'a = 100\\n\\ndef f():\\n    a = 1000\\n    print(a) # 출력: 1000\\n\\nf()\\n\\n# 전역에 있는 a와 로컬에 있는 a변수가 구분되어서 출력됨', 'a = 100\\ndef f():\\n    a = a + 1 # error\\n\\nf()\\n\\n# a = a + 1은 연산자 우선순위에 의해 a + 1이 먼저 실행', \"a = 1\\nb = 'hello'\\ndef f():\\n    pass\\nprint(globals())\"], 'Out': {}, 'get_ipython': <bound method InteractiveShell.get_ipython of <google.colab._shell.Shell object at 0x7db9fcd8e590>>, 'exit': <IPython.core.autocall.ZMQExitAutocall object at 0x7db9fcd8ef80>, 'quit': <IPython.core.autocall.ZMQExitAutocall object at 0x7db9fcd8ef80>, '_': '', '__': '', '___': '', '_i': 'a = 100\\ndef f():\\n    a = a + 1 # error\\n\\nf()\\n\\n# a = a + 1은 연산자 우선순위에 의해 a + 1이 먼저 실행', '_ii': 'a = 100\\n\\ndef f():\\n    a = 1000\\n    print(a) # 출력: 1000\\n\\nf()\\n\\n# 전역에 있는 a와 로컬에 있는 a변수가 구분되어서 출력됨', '_iii': 'a = 100\\n\\ndef f():\\n    print(a) # 출력: 100\\n\\nf()\\n\\ndef ff():\\n    b = a + 1\\n    print(b) # 출력: 101\\n\\nff()', '_i1': '# 지역 변수 사용 예시\\ndef f():\\n    a = 1\\n    print(a)  # 출력: 1\\n\\nf()\\nprint(a)  # error: a는 f 함수 내부에서만 정의되었습니다.', 'f': <function f at 0x7db9f8194280>, '_i2': \"def f():\\n    a = 1\\n    print(locals()) # 출력: {'a': 1}\\n\\nf()\", '_i3': \"def f():\\n    a = 1\\n    b = 'hello'\\n    def ff():\\n        pass\\n    print(locals()) # 출력: {'a': 1, 'b': 'hello', 'ff': <function f.<locals>.ff at 0x7a46e99d2c20>}\\n\\nf()\", '_i4': 'a = 100\\n\\ndef f():\\n    global a\\n    a = a + 1\\n\\nf()\\nprint(a)  # 출력: 101, 함수 f 내에서 전역 변수 a가 수정되었습니다.', 'a': 1, '_i5': 'a = 100\\ndef f():\\n    a = a + 1 # error\\n\\nf()\\nprint(a)\\n\\n# 전역 변수를 global 키워드 없이 수정하는 것은 허락하지 않음', '_i6': 'a = 100\\n\\ndef f():\\n    print(a) # 출력: 100\\n\\nf()\\n\\ndef ff():\\n    b = a + 1\\n    print(b) # 출력: 101\\n\\nff()', 'ff': <function ff at 0x7db9f895dea0>, '_i7': 'a = 100\\n\\ndef f():\\n    a = 1000\\n    print(a) # 출력: 1000\\n\\nf()\\n\\n# 전역에 있는 a와 로컬에 있는 a변수가 구분되어서 출력됨', '_i8': 'a = 100\\ndef f():\\n    a = a + 1 # error\\n\\nf()\\n\\n# a = a + 1은 연산자 우선순위에 의해 a + 1이 먼저 실행', '_i9': \"a = 1\\nb = 'hello'\\ndef f():\\n    pass\\nprint(globals())\", 'b': 'hello'}\n"
          ]
        }
      ]
    },
    {
      "cell_type": "markdown",
      "source": [
        "여러 개의 중첩 함수를 정의하고 호출하면서 지역 변수 a의 스코프를 보여줌\n",
        "\n",
        "각 함수(f, ff, fff) 내에서 a라는 이름의 지역 변수가 따로 생성되고, 해당 함수의 스코프 내에서만 그 변수가 유효"
      ],
      "metadata": {
        "id": "2e0oWjg88tL1"
      }
    },
    {
      "cell_type": "code",
      "source": [
        "a = 10\n",
        "def f():\n",
        "    a = 100\n",
        "    print(a) # 출력: 100\n",
        "    def ff():\n",
        "        a = 1000\n",
        "        print(a) # 출력: 1000\n",
        "        def fff():\n",
        "            a = 10000 # 출력: 10000\n",
        "            print(a)\n",
        "        fff()\n",
        "    ff()\n",
        "f()\n",
        "print(a) # 출력: 10"
      ],
      "metadata": {
        "colab": {
          "base_uri": "https://localhost:8080/"
        },
        "id": "Jxfh5fpO8o7a",
        "outputId": "81d8d416-7f6c-47df-882e-2a4528875dba"
      },
      "execution_count": 10,
      "outputs": [
        {
          "output_type": "stream",
          "name": "stdout",
          "text": [
            "100\n",
            "1000\n",
            "10000\n",
            "10\n"
          ]
        }
      ]
    },
    {
      "cell_type": "code",
      "source": [
        "# global 키워드의 사용을 보여주는 복잡한 ex\n",
        "# 여러 단계의 중첩 함수를 통해 변수 a의 스코프를 다양하게 변경\n",
        "\n",
        "# global을 하면 함수가 얼만큼 중첩되어 있건 최상단에 있는 a를 바라봅니다.\n",
        "a = 10\n",
        "def f():\n",
        "    a = 100\n",
        "    print(a)\n",
        "    def ff():\n",
        "        a = 1000\n",
        "        print(a)\n",
        "        def fff():\n",
        "            global a\n",
        "            print(a)\n",
        "        fff()\n",
        "    ff()\n",
        "f()\n",
        "print(a)"
      ],
      "metadata": {
        "colab": {
          "base_uri": "https://localhost:8080/"
        },
        "id": "t79ALmCy8yOy",
        "outputId": "137bd432-0b22-41d2-e542-53e74934ecdc"
      },
      "execution_count": 11,
      "outputs": [
        {
          "output_type": "stream",
          "name": "stdout",
          "text": [
            "100\n",
            "1000\n",
            "10\n",
            "10\n"
          ]
        }
      ]
    },
    {
      "cell_type": "code",
      "source": [],
      "metadata": {
        "id": "Jbnv7ehG833R"
      },
      "execution_count": null,
      "outputs": []
    }
  ]
}
