{
  "nbformat": 4,
  "nbformat_minor": 0,
  "metadata": {
    "colab": {
      "provenance": []
    },
    "kernelspec": {
      "name": "python3",
      "display_name": "Python 3"
    },
    "language_info": {
      "name": "python"
    }
  },
  "cells": [
    {
      "cell_type": "markdown",
      "source": [
        "### While문\n",
        "\n",
        "    - while문은 조건이 참인 동안에 명령을 반복해서 수행\n",
        "    - 반복할 명령은 들여쓰기로 구분되며 조건이 거짓이면 들여쓰기로 구분되어 있는 반복 구문을 탈출"
      ],
      "metadata": {
        "id": "MN_ECJHfx2eS"
      }
    },
    {
      "cell_type": "code",
      "source": [
        "a = 1 # 연산자를 계산할수 있는 변수가 하나있고,\n",
        "\n",
        "#While문은 조건이 참이면 계속 수행 -> 무한루프(무한으로 프로그램이 돌아가게 만듬)\n",
        "\n",
        "while a < 10 : #1. for문과 차이점 - 조건이 있다. (for문은 범위가 있다.)\n",
        "\tprint(a)\n",
        "\ta += 1  # (무한루프에 빠질수 있기 때문에) -> 연산자를 계산해서 조건문을 강제로 false로 만드는 구문이 있다."
      ],
      "metadata": {
        "colab": {
          "base_uri": "https://localhost:8080/"
        },
        "id": "4J-HG9Zc_5Km",
        "outputId": "24945d28-32ad-46fd-a20a-7c6f88544ac7"
      },
      "execution_count": 1,
      "outputs": [
        {
          "output_type": "stream",
          "name": "stdout",
          "text": [
            "1\n",
            "2\n",
            "3\n",
            "4\n",
            "5\n",
            "6\n",
            "7\n",
            "8\n",
            "9\n"
          ]
        }
      ]
    },
    {
      "cell_type": "markdown",
      "source": [
        "Step1 : a -> 1 지정\n",
        "\n",
        "Step2 : while (a = 1) < 10 -> True -> while반복문 실행\n",
        "\n",
        "Step3 : print(a) -> a=1 -> 1이 출력\n",
        "\n",
        "Step4 : a += 1 -> a -> 2\n",
        "\n",
        "Step2-1 : a -> 2 step2,3,4가 계속 반복\n",
        "\n",
        "Step10-1 : a-> 10\n",
        "\n",
        "Step10-2 : a = 10 < 10 -> False -> while반복문 미실행\n",
        "-> 조건문 완료!\n",
        "\n",
        "### 어떨때 쓰일까?\n",
        "1. 로또번호 - 6개까지 추첨하면 끝!\n",
        "2. 이벤트 -> 100명이 당첨되면 끝!\n",
        "3. 제한된 마케팅 / 고객모집 / 조건!"
      ],
      "metadata": {
        "id": "XVpNTkf-_81u"
      }
    },
    {
      "cell_type": "markdown",
      "source": [
        "**while 문의 조건이 항상 True이면 무한 반복을 만들 수 있음**\n",
        "\n",
        "**colab에 정지버튼을 누르거나 Ctrl(Command)+C를 눌러 수동으로 중지**"
      ],
      "metadata": {
        "id": "kd1p3smrACh2"
      }
    },
    {
      "cell_type": "code",
      "execution_count": 3,
      "metadata": {
        "colab": {
          "base_uri": "https://localhost:8080/"
        },
        "id": "D38h8bLgxzOA",
        "outputId": "cd6a2b5c-7862-4e94-d983-8389b25a5c8b"
      },
      "outputs": [
        {
          "output_type": "stream",
          "name": "stdout",
          "text": [
            ">python\n",
            ">java\n",
            ">spring\n",
            ">exit\n",
            "안녕히가세요.\n"
          ]
        }
      ],
      "source": [
        "# colab에서도 작동되지만 가능하면 .py파일로 작성해서 실행해보세요.\n",
        "\n",
        "import os\n",
        "\n",
        "while True:\n",
        "    userinput = input('>')\n",
        "    if userinput == 'pwd':\n",
        "        # print('현재 위치 출력')\n",
        "        # print('\\\\'.join(__file__.split('\\\\')[:-1]))\n",
        "        print(os.getcwd())\n",
        "    elif userinput == 'dir' or userinput == 'ls':\n",
        "        # print('현재 폴더에 폴더와 파일명 출력')\n",
        "        print(os.listdir(os.getcwd()))\n",
        "    elif userinput == 'exit':\n",
        "        print('안녕히가세요.')\n",
        "        break"
      ]
    },
    {
      "cell_type": "code",
      "source": [
        "import random\n",
        "\n",
        "answer = random.randint(1, 1000)\n",
        "while True:\n",
        "    userinput = int(input('숫자를 입력해주세요.'))\n",
        "    if userinput > answer:\n",
        "        print('Down')\n",
        "\n",
        "    elif userinput < answer:\n",
        "        print('Up')\n",
        "    else:\n",
        "        print('축하합니다! 맞추셨어요!')\n",
        "        break"
      ],
      "metadata": {
        "colab": {
          "base_uri": "https://localhost:8080/"
        },
        "id": "VfjPwFLTAXuR",
        "outputId": "24ffe93d-a757-4a9b-8079-82f8c2ea5d7e"
      },
      "execution_count": 4,
      "outputs": [
        {
          "output_type": "stream",
          "name": "stdout",
          "text": [
            "숫자를 입력해주세요.500\n",
            "Down\n",
            "숫자를 입력해주세요.250\n",
            "Down\n",
            "숫자를 입력해주세요.100\n",
            "Down\n",
            "숫자를 입력해주세요.0\n",
            "Up\n",
            "숫자를 입력해주세요.50\n",
            "Down\n",
            "숫자를 입력해주세요.25\n",
            "Down\n",
            "숫자를 입력해주세요.15\n",
            "Up\n",
            "숫자를 입력해주세요.20\n",
            "Up\n",
            "숫자를 입력해주세요.22\n",
            "축하합니다! 맞추셨어요!\n"
          ]
        }
      ]
    },
    {
      "cell_type": "markdown",
      "source": [],
      "metadata": {
        "id": "e9wBwthPBQxP"
      }
    },
    {
      "cell_type": "markdown",
      "source": [
        "### 중첩 while문"
      ],
      "metadata": {
        "id": "iOpgb340BK4e"
      }
    },
    {
      "cell_type": "code",
      "source": [
        "i = 2\n",
        "while i < 10 :\n",
        "    j = 1\n",
        "    while j < 10:\n",
        "        print(f'{i} X {j} = {i * j}')\n",
        "        j += 1\n",
        "    i += 1"
      ],
      "metadata": {
        "colab": {
          "base_uri": "https://localhost:8080/"
        },
        "id": "rjjTDQ2ABLQn",
        "outputId": "014e96c5-3467-4846-ba59-6dfbf0eaffbb"
      },
      "execution_count": 6,
      "outputs": [
        {
          "output_type": "stream",
          "name": "stdout",
          "text": [
            "2 X 1 = 2\n",
            "2 X 2 = 4\n",
            "2 X 3 = 6\n",
            "2 X 4 = 8\n",
            "2 X 5 = 10\n",
            "2 X 6 = 12\n",
            "2 X 7 = 14\n",
            "2 X 8 = 16\n",
            "2 X 9 = 18\n",
            "3 X 1 = 3\n",
            "3 X 2 = 6\n",
            "3 X 3 = 9\n",
            "3 X 4 = 12\n",
            "3 X 5 = 15\n",
            "3 X 6 = 18\n",
            "3 X 7 = 21\n",
            "3 X 8 = 24\n",
            "3 X 9 = 27\n",
            "4 X 1 = 4\n",
            "4 X 2 = 8\n",
            "4 X 3 = 12\n",
            "4 X 4 = 16\n",
            "4 X 5 = 20\n",
            "4 X 6 = 24\n",
            "4 X 7 = 28\n",
            "4 X 8 = 32\n",
            "4 X 9 = 36\n",
            "5 X 1 = 5\n",
            "5 X 2 = 10\n",
            "5 X 3 = 15\n",
            "5 X 4 = 20\n",
            "5 X 5 = 25\n",
            "5 X 6 = 30\n",
            "5 X 7 = 35\n",
            "5 X 8 = 40\n",
            "5 X 9 = 45\n",
            "6 X 1 = 6\n",
            "6 X 2 = 12\n",
            "6 X 3 = 18\n",
            "6 X 4 = 24\n",
            "6 X 5 = 30\n",
            "6 X 6 = 36\n",
            "6 X 7 = 42\n",
            "6 X 8 = 48\n",
            "6 X 9 = 54\n",
            "7 X 1 = 7\n",
            "7 X 2 = 14\n",
            "7 X 3 = 21\n",
            "7 X 4 = 28\n",
            "7 X 5 = 35\n",
            "7 X 6 = 42\n",
            "7 X 7 = 49\n",
            "7 X 8 = 56\n",
            "7 X 9 = 63\n",
            "8 X 1 = 8\n",
            "8 X 2 = 16\n",
            "8 X 3 = 24\n",
            "8 X 4 = 32\n",
            "8 X 5 = 40\n",
            "8 X 6 = 48\n",
            "8 X 7 = 56\n",
            "8 X 8 = 64\n",
            "8 X 9 = 72\n",
            "9 X 1 = 9\n",
            "9 X 2 = 18\n",
            "9 X 3 = 27\n",
            "9 X 4 = 36\n",
            "9 X 5 = 45\n",
            "9 X 6 = 54\n",
            "9 X 7 = 63\n",
            "9 X 8 = 72\n",
            "9 X 9 = 81\n"
          ]
        }
      ]
    },
    {
      "cell_type": "markdown",
      "source": [
        "### + 왈러스(Walrus, :=) 연산자\n",
        "\n",
        "    - 할당 표현식(assignment expressions)를 사용하게 해주는 연산자\n",
        "    - 한국어로 바다코끼리\n",
        "    - 이 연산자는 변수에 값을 할당하고 그 값을 평가"
      ],
      "metadata": {
        "id": "VJHgTysVBRdD"
      }
    },
    {
      "cell_type": "code",
      "source": [
        "# 왈러스 연산자 기본 사용법\n",
        "\n",
        "x = (n := 10) * 2\n",
        "print(x)  # 출력: 20\n",
        "print(n)  # 출력: 10"
      ],
      "metadata": {
        "colab": {
          "base_uri": "https://localhost:8080/"
        },
        "id": "KQHv_1VqBQNR",
        "outputId": "10c1f9e3-494b-47d8-a797-41c3c2e1e1ed"
      },
      "execution_count": 7,
      "outputs": [
        {
          "output_type": "stream",
          "name": "stdout",
          "text": [
            "20\n",
            "10\n"
          ]
        }
      ]
    },
    {
      "cell_type": "code",
      "source": [
        "import random\n",
        "\n",
        "while True:\n",
        "    x = random.randint(0, 10)\n",
        "    if x == 7:\n",
        "        break\n",
        "    print(x)"
      ],
      "metadata": {
        "colab": {
          "base_uri": "https://localhost:8080/"
        },
        "id": "I23ID--SBdLQ",
        "outputId": "5cacac79-a3e6-4c09-8cac-1b897565f127"
      },
      "execution_count": 8,
      "outputs": [
        {
          "output_type": "stream",
          "name": "stdout",
          "text": [
            "9\n",
            "9\n",
            "1\n",
            "0\n",
            "2\n",
            "4\n",
            "4\n",
            "6\n",
            "0\n",
            "4\n"
          ]
        }
      ]
    },
    {
      "cell_type": "code",
      "source": [
        "import random\n",
        "\n",
        "while (x := random.randint(0, 10)) != 7:\n",
        "    print(x)"
      ],
      "metadata": {
        "colab": {
          "base_uri": "https://localhost:8080/"
        },
        "id": "R3Bv031iBe5Q",
        "outputId": "ec9f30bf-9597-40fa-daea-1a7db2f5167b"
      },
      "execution_count": 9,
      "outputs": [
        {
          "output_type": "stream",
          "name": "stdout",
          "text": [
            "1\n",
            "0\n",
            "4\n",
            "4\n",
            "0\n",
            "5\n",
            "5\n",
            "5\n",
            "0\n",
            "3\n",
            "6\n",
            "1\n",
            "10\n",
            "1\n",
            "3\n",
            "3\n",
            "3\n",
            "5\n"
          ]
        }
      ]
    },
    {
      "cell_type": "code",
      "source": [
        "def 시그마(n):\n",
        "    count = 0\n",
        "    result = 0\n",
        "    while (count := count + 1) < n + 1:\n",
        "        result += count\n",
        "    return result\n",
        "\n",
        "if (합 := 시그마(100)) == 5050:\n",
        "    print('5050이 출력되었습니다.')\n",
        "else:\n",
        "    print('1부터 정수형태로 입력이 가능합니다.')\n",
        "\n",
        "print(합 + 1000)"
      ],
      "metadata": {
        "colab": {
          "base_uri": "https://localhost:8080/"
        },
        "id": "PZw45HuRBgU_",
        "outputId": "5b6d6ea6-495b-4202-84a0-d7890857cf61"
      },
      "execution_count": 10,
      "outputs": [
        {
          "output_type": "stream",
          "name": "stdout",
          "text": [
            "5050이 출력되었습니다.\n",
            "6050\n"
          ]
        }
      ]
    },
    {
      "cell_type": "markdown",
      "source": [
        "### + 왈러스 연산자 주의사항\n",
        "\n",
        "코드의 가독성을 위해 복잡한 표현식 내에서 왈러스 연산자의 남용을 피해야함\n",
        "\n",
        "복잡한 한 줄 코드보다는 여러 줄에 걸친 명확한 코드가 유지보수와 이해(가독성)에 더 좋을 수 있음"
      ],
      "metadata": {
        "id": "lT-3SS2GBk7w"
      }
    },
    {
      "cell_type": "code",
      "source": [],
      "metadata": {
        "id": "atR1v-ZvBiGr"
      },
      "execution_count": null,
      "outputs": []
    }
  ]
}
