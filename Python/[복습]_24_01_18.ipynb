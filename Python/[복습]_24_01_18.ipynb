{
  "nbformat": 4,
  "nbformat_minor": 0,
  "metadata": {
    "colab": {
      "provenance": []
    },
    "kernelspec": {
      "name": "python3",
      "display_name": "Python 3"
    },
    "language_info": {
      "name": "python"
    }
  },
  "cells": [
    {
      "cell_type": "markdown",
      "source": [
        "### 문제 1: 이메일 주소 변경하기 (sub 사용)\n",
        "\n",
        "    문제: 주어진 문자열에서 모든 이메일 주소를 `user@weniv.co.kr`으로 변경하시오.\n",
        "\n",
        "    예시 입력: \"저의 이메일 주소는 kim123@gmail.com입니다. 친구의 이메일 주소는 lee456@gmail.com입니다.\"\n",
        "\n",
        "    예시 출력: \"저의 이메일 주소는 kim123@weniv.co.kr입니다. 친구의 이메일 주소는 lee456@weniv.co.kr입니다.\"\n",
        "\n",
        "    힌트: 이메일 주소를 찾기 위한 정규표현식은 `\\b[A-Za-z0-9._%+-]+@[A-Za-z0-9.-]+\\.[A-Z|a-z]{2,}\\b`를 사용할 수 있습니다.\n",
        "\n",
        "\n",
        "### 문제 2: HTML 태그 제거하기 (sub 사용)\n",
        "\n",
        "    문제: 주어진 HTML 문자열에서 모든 HTML 태그를 제거하고 텍스트만 남기시오.\n",
        "\n",
        "    예시 입력: \"<p>이것은 <b>예시</b> 문장입니다.</p>\"\n",
        "\n",
        "    예시 출력: \"이것은 예시 문장입니다.\"\n",
        "\n",
        "    힌트: HTML 태그를 찾기 위한 정규표현식은 `<[^>]+>`를 사용할 수 있습니다."
      ],
      "metadata": {
        "id": "5IkQB4AvW-hX"
      }
    },
    {
      "cell_type": "code",
      "source": [
        "import re\n",
        "\n",
        "def chagedomain(url):\n",
        "    return url.split('@')[0] + '@weniv.co.kr'\n",
        "\n",
        "# 정규표현식으로 이메일 주소 찾기\n",
        "findpattern = re.findall(r\"[A-Za-z0-9._%+-]+@[A-Za-z0-9.-]+\\.[A-Z|a-z]{2,}\",\n",
        "                         \"저의 이메일 주소는 kim123@gmail.com입니다.\"\n",
        "                         \"친구의 이메일 주소는 lee456@gmail.com입니다.\")\n",
        "\n",
        "# 대체된 문자열을 출력\n",
        "my_string = \"저의 이메일 주소는 kim123@gmail.com입니다. 친구의 이메일 주소는 lee456@gmail.com입니다.\"\n",
        "output_text = re.sub(r\"@[A-Za-z0-9.-]+\\.[A-Z|a-z]{2,}\", \"@weniv.co.kr\", my_string)\n",
        "print(output_text)"
      ],
      "metadata": {
        "colab": {
          "base_uri": "https://localhost:8080/"
        },
        "id": "ijC3Sum7aCNJ",
        "outputId": "6196ae03-1252-4411-ecc7-603cb42e1db1"
      },
      "execution_count": 23,
      "outputs": [
        {
          "output_type": "stream",
          "name": "stdout",
          "text": [
            "저의 이메일 주소는 kim123@weniv.co.kr입니다. 친구의 이메일 주소는 lee456@weniv.co.kr입니다.\n"
          ]
        }
      ]
    },
    {
      "cell_type": "code",
      "source": [
        "import re\n",
        "\n",
        "html = f'''\n",
        "<p>이것은 <b>예시</b> 문장입니다.</p>\n",
        "'''\n",
        "html_str = \"<p>이것은 <b>예시</b> 문장입니다.</p>\"\n",
        "html_pattern = re.compile(r\"<[^>]+>\")\n",
        "\n",
        "print(html_pattern.sub(\"\", html_str))"
      ],
      "metadata": {
        "colab": {
          "base_uri": "https://localhost:8080/"
        },
        "id": "OpIT6s9vjBfB",
        "outputId": "7a22b196-077f-4a8a-fc92-65d69a0dea80"
      },
      "execution_count": 7,
      "outputs": [
        {
          "output_type": "stream",
          "name": "stdout",
          "text": [
            "이것은 예시 문장입니다.\n"
          ]
        }
      ]
    },
    {
      "cell_type": "code",
      "source": [],
      "metadata": {
        "id": "O07Yw0vNjzHN"
      },
      "execution_count": null,
      "outputs": []
    }
  ]
}
