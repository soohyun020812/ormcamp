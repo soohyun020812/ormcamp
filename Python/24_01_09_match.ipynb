{
  "nbformat": 4,
  "nbformat_minor": 0,
  "metadata": {
    "colab": {
      "provenance": []
    },
    "kernelspec": {
      "name": "python3",
      "display_name": "Python 3"
    },
    "language_info": {
      "name": "python"
    }
  },
  "cells": [
    {
      "cell_type": "markdown",
      "source": [
        "### match\n",
        "    - 여러 조건을 체크하여 해당 조건에 맞는 코드 블록을 실행하는 제어문\n",
        "    - python에 없는 switch문을 switch처럼 사용하기 위해 나타남\n",
        "    - match문법을 통해 여러 경우의 수를 처리할 수 있음"
      ],
      "metadata": {
        "id": "_ezodNP3opQ8"
      }
    },
    {
      "cell_type": "code",
      "execution_count": 1,
      "metadata": {
        "colab": {
          "base_uri": "https://localhost:8080/"
        },
        "id": "TvhVKyKSoh6j",
        "outputId": "1bb67e3b-65c3-4bc7-95cb-64f11232b3f9"
      },
      "outputs": [
        {
          "output_type": "stream",
          "name": "stdout",
          "text": [
            "No Match\n"
          ]
        }
      ],
      "source": [
        "# match문법 활용 코드\n",
        "\n",
        "text = 'Hello World'\n",
        "match text:\n",
        "    case 'Hello':\n",
        "        print('Hello')\n",
        "    case 'World':\n",
        "        print('World')\n",
        "    case _:\n",
        "        print('No Match') # 결과 'No Match'"
      ]
    },
    {
      "cell_type": "code",
      "source": [
        "text = 'World'\n",
        "match text:\n",
        "    case 'Hello':\n",
        "        print('Hello')\n",
        "    case 'World':\n",
        "        print('World')\n",
        "    case _:\n",
        "        print('No Match')\n",
        "\n",
        "# text가 \"World\"이기 때문에 case 'World'조건에 부합하여 print('World')가 실행"
      ],
      "metadata": {
        "colab": {
          "base_uri": "https://localhost:8080/"
        },
        "id": "7AeW8oGJpbrY",
        "outputId": "7c6d54de-61dc-448b-def1-8fc9cd278efb"
      },
      "execution_count": 3,
      "outputs": [
        {
          "output_type": "stream",
          "name": "stdout",
          "text": [
            "World\n"
          ]
        }
      ]
    },
    {
      "cell_type": "code",
      "source": [
        "text = '1'\n",
        "match text:\n",
        "    case '1' | '2':\n",
        "        print('1, 2')\n",
        "    case _:\n",
        "        print('No Match')\n",
        "\n",
        "# (|) 대신 and나 or연산자는 가능하지 않음"
      ],
      "metadata": {
        "colab": {
          "base_uri": "https://localhost:8080/"
        },
        "id": "gGWURPempeMD",
        "outputId": "85e5486d-18ec-4537-c976-292a33878860"
      },
      "execution_count": 4,
      "outputs": [
        {
          "output_type": "stream",
          "name": "stdout",
          "text": [
            "1, 2\n"
          ]
        }
      ]
    },
    {
      "cell_type": "code",
      "source": [
        "def test(i):\n",
        "    match i:\n",
        "        case 1:\n",
        "            print('One')\n",
        "        case 2:\n",
        "            print('Two')\n",
        "        case 3 | 4:\n",
        "            print('Three or Four')\n",
        "        case _ if i > 10:\n",
        "            print('Greater than ten')\n",
        "        case _:\n",
        "            print('Other')\n",
        "\n",
        "test(1) # 출력: One\n",
        "test(2) # 출력: Two\n",
        "test(3) # 출력: Three or Four\n",
        "test(4) # 출력: Three or Four\n",
        "test(5) # 출력: Other\n",
        "test(15) # 출력: Greater than ten\n",
        "\n",
        "# case 3 | 4 구문은 case 3 or case 4와 같음"
      ],
      "metadata": {
        "colab": {
          "base_uri": "https://localhost:8080/"
        },
        "id": "uzjOhTeFptZ1",
        "outputId": "bb49aa56-56ba-473a-e028-849480912e89"
      },
      "execution_count": 6,
      "outputs": [
        {
          "output_type": "stream",
          "name": "stdout",
          "text": [
            "One\n",
            "Two\n",
            "Three or Four\n",
            "Three or Four\n",
            "Other\n",
            "Greater than ten\n"
          ]
        }
      ]
    },
    {
      "cell_type": "code",
      "source": [
        "def test(i):\n",
        "    match i:\n",
        "        case i if type(i) == int:\n",
        "            print('Integer')\n",
        "        case i if type(i) == str:\n",
        "            print('String')\n",
        "        case i if type(i) == float:\n",
        "            print('Float')\n",
        "test(1) # 출력: Integer\n",
        "test('hello') # 출력: String\n",
        "test(3.14) # 출력: Float\n",
        "\n",
        "#############################\n",
        "\n",
        "def test(i):\n",
        "    match i:\n",
        "        case _ if type(i) == int:\n",
        "            print('Integer')\n",
        "        case _ if type(i) == str:\n",
        "            print('String')\n",
        "        case _ if type(i) == float:\n",
        "            print('Float')\n",
        "test(1) # 출력: Integer\n",
        "test('hello') # 출력: String\n",
        "test(3.14) # 출력: Float"
      ],
      "metadata": {
        "colab": {
          "base_uri": "https://localhost:8080/"
        },
        "id": "uaOoj7I0p2sb",
        "outputId": "aa175227-a6db-472b-bd90-d39d549cb817"
      },
      "execution_count": 7,
      "outputs": [
        {
          "output_type": "stream",
          "name": "stdout",
          "text": [
            "Integer\n",
            "String\n",
            "Float\n",
            "Integer\n",
            "String\n",
            "Float\n"
          ]
        }
      ]
    },
    {
      "cell_type": "code",
      "source": [
        "# case block 내부에서도 if-else문을 사용할 수 있음\n",
        "\n",
        "def test(i):\n",
        "    match i:\n",
        "        case 1:\n",
        "            print('One')\n",
        "        case 2:\n",
        "            print('Two')\n",
        "        case _:\n",
        "            if i > 2:\n",
        "                print('Greater than two')\n",
        "            else:\n",
        "                print('Less than or equal to two')\n",
        "test(1) # 출력: One\n",
        "test(2) # 출력: Two\n",
        "test(3) # 출력: Greater than two\n",
        "test(4) # 출력: Greater than two"
      ],
      "metadata": {
        "colab": {
          "base_uri": "https://localhost:8080/"
        },
        "id": "5r43StAcp89c",
        "outputId": "3b84bb8d-01cf-44a9-d844-e1d9840db47b"
      },
      "execution_count": 8,
      "outputs": [
        {
          "output_type": "stream",
          "name": "stdout",
          "text": [
            "One\n",
            "Two\n",
            "Greater than two\n",
            "Greater than two\n"
          ]
        }
      ]
    },
    {
      "cell_type": "code",
      "source": [
        "def test(status):\n",
        "    match status:\n",
        "        case (1 | 2 | 3) as code:\n",
        "            return f'value : {code}'\n",
        "        case _:\n",
        "            return 'hello'\n",
        "print(test(2))  # 출력: value : 2"
      ],
      "metadata": {
        "colab": {
          "base_uri": "https://localhost:8080/"
        },
        "id": "9dMdn5mFqYT4",
        "outputId": "1da5ef35-b79e-4e02-b2ca-6cfbd6c8d12f"
      },
      "execution_count": 9,
      "outputs": [
        {
          "output_type": "stream",
          "name": "stdout",
          "text": [
            "value : 2\n"
          ]
        }
      ]
    },
    {
      "cell_type": "code",
      "source": [
        "def test(status):\n",
        "    match status:\n",
        "        case (1 | 2 | 3) if status % 2 == 0:\n",
        "            return 'hello'\n",
        "        case _:\n",
        "            return 'world'\n",
        "print(test(3)) # 출력: world"
      ],
      "metadata": {
        "colab": {
          "base_uri": "https://localhost:8080/"
        },
        "id": "kFXmSbdXqaso",
        "outputId": "05c7c9cd-1835-4ada-a0b1-6e129894968b"
      },
      "execution_count": 10,
      "outputs": [
        {
          "output_type": "stream",
          "name": "stdout",
          "text": [
            "world\n"
          ]
        }
      ]
    },
    {
      "cell_type": "code",
      "source": [],
      "metadata": {
        "id": "17ohRihsqcQD"
      },
      "execution_count": null,
      "outputs": []
    }
  ]
}
