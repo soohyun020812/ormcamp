{
  "nbformat": 4,
  "nbformat_minor": 0,
  "metadata": {
    "colab": {
      "provenance": []
    },
    "kernelspec": {
      "name": "python3",
      "display_name": "Python 3"
    },
    "language_info": {
      "name": "python"
    }
  },
  "cells": [
    {
      "cell_type": "markdown",
      "source": [
        "### lambda 함수\n",
        "\n",
        "    간결한 함수를 빠르고 익명으로 생성\n",
        "    작은 규모의 함수를 정의할 때 사용\n",
        "    코드를 더욱 깔끔하고 효율적"
      ],
      "metadata": {
        "id": "R9Ir7qA6R0p1"
      }
    },
    {
      "cell_type": "code",
      "source": [
        "square = lambda x: x*x\n",
        "print(square(5))"
      ],
      "metadata": {
        "id": "gSh3GIVhNIjM",
        "colab": {
          "base_uri": "https://localhost:8080/"
        },
        "outputId": "f385d32a-2c8f-4a0c-ff9d-0dd9bd93ee9b"
      },
      "execution_count": 1,
      "outputs": [
        {
          "output_type": "stream",
          "name": "stdout",
          "text": [
            "25\n"
          ]
        }
      ]
    },
    {
      "cell_type": "code",
      "source": [
        "map(lambda x:x**2, [1, 2, 3])"
      ],
      "metadata": {
        "colab": {
          "base_uri": "https://localhost:8080/"
        },
        "id": "p8hOeVsMSE_y",
        "outputId": "61a282e7-2b7a-463f-8a84-de29a40b5754"
      },
      "execution_count": 9,
      "outputs": [
        {
          "output_type": "execute_result",
          "data": {
            "text/plain": [
              "<map at 0x7b7f0f691570>"
            ]
          },
          "metadata": {},
          "execution_count": 9
        }
      ]
    },
    {
      "cell_type": "code",
      "source": [
        "def square(x):\n",
        "    return x**2\n",
        "\n",
        "map(square, [1, 2, 3])\n",
        "\n",
        "square = lambda x:x**2\n",
        "map(square, [1, 2, 3])"
      ],
      "metadata": {
        "colab": {
          "base_uri": "https://localhost:8080/"
        },
        "id": "hUs6NIrXSH8n",
        "outputId": "52e484b6-aa3e-4785-9be9-f08adb755b6d"
      },
      "execution_count": 12,
      "outputs": [
        {
          "output_type": "execute_result",
          "data": {
            "text/plain": [
              "<map at 0x7b7f0f691720>"
            ]
          },
          "metadata": {},
          "execution_count": 12
        }
      ]
    },
    {
      "cell_type": "code",
      "source": [
        "# l = lambda"
      ],
      "metadata": {
        "id": "N9UQLABqPd_W"
      },
      "execution_count": 11,
      "outputs": []
    },
    {
      "cell_type": "code",
      "source": [
        "# l = lambda x"
      ],
      "metadata": {
        "id": "ZnfupQDCPhKL"
      },
      "execution_count": 6,
      "outputs": []
    },
    {
      "cell_type": "code",
      "source": [
        "# 복습 X\n",
        "# 실험적 코드로 실무에서 사용 안 하는 코드\n",
        "\n",
        "l = lambda x: lambda y: y ** x\n",
        "a = l(2)\n",
        "b = l(3)\n",
        "print(a(2))\n",
        "print(a(3))\n",
        "print(b(2))\n",
        "print(b(3))"
      ],
      "metadata": {
        "colab": {
          "base_uri": "https://localhost:8080/"
        },
        "id": "sNhschT8PkPK",
        "outputId": "e54140ba-6e81-40ba-812d-bed8f99aa0c0"
      },
      "execution_count": 7,
      "outputs": [
        {
          "output_type": "stream",
          "name": "stdout",
          "text": [
            "4\n",
            "9\n",
            "8\n",
            "27\n"
          ]
        }
      ]
    },
    {
      "cell_type": "code",
      "source": [
        "numbers = [1, 2, 3, 4, 5]\n",
        "print(list(filter(lambda x: x > 3, numbers)))  # 출력: [4, 5]\n",
        "\n",
        "def f(x):\n",
        "    return x > 3\n",
        "numbers = [1, 2, 3, 4, 5]\n",
        "print(list(filter(lambda x: x > 3, numbers)))  # 출력: [4, 5]"
      ],
      "metadata": {
        "id": "mbUFZ2aKPqOP",
        "colab": {
          "base_uri": "https://localhost:8080/"
        },
        "outputId": "c9d71e27-30c1-425e-fbba-38c7c4e57aba"
      },
      "execution_count": 8,
      "outputs": [
        {
          "output_type": "stream",
          "name": "stdout",
          "text": [
            "[4, 5]\n",
            "[4, 5]\n"
          ]
        }
      ]
    },
    {
      "cell_type": "code",
      "source": [],
      "metadata": {
        "id": "g-8g-tr_QaIi"
      },
      "execution_count": null,
      "outputs": []
    }
  ]
}