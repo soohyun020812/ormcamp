{
  "nbformat": 4,
  "nbformat_minor": 0,
  "metadata": {
    "colab": {
      "provenance": [],
      "authorship_tag": "ABX9TyO7NqNMCUAyrVkrJBRLJnDF",
      "include_colab_link": true
    },
    "kernelspec": {
      "name": "python3",
      "display_name": "Python 3"
    },
    "language_info": {
      "name": "python"
    }
  },
  "cells": [
    {
      "cell_type": "markdown",
      "metadata": {
        "id": "view-in-github",
        "colab_type": "text"
      },
      "source": [
        "<a href=\"https://colab.research.google.com/github/soohyun020812/ormcamp/blob/main/24_01_03_%EB%AC%B8%EC%9E%90%EC%97%B4.ipynb\" target=\"_parent\"><img src=\"https://colab.research.google.com/assets/colab-badge.svg\" alt=\"Open In Colab\"/></a>"
      ]
    },
    {
      "cell_type": "code",
      "source": [
        "# 문자열 기초\n",
        "\n",
        "x = 'hello'\n",
        "y = \"python\"\n",
        "\n",
        "print(x, y)"
      ],
      "metadata": {
        "colab": {
          "base_uri": "https://localhost:8080/"
        },
        "id": "CJ6ihV00yRAz",
        "outputId": "baa00b98-535a-4dd9-bb69-19fb5cb1d49a"
      },
      "execution_count": 3,
      "outputs": [
        {
          "output_type": "stream",
          "name": "stdout",
          "text": [
            "hello python\n"
          ]
        }
      ]
    },
    {
      "cell_type": "code",
      "source": [
        "print(type(x), type(y))"
      ],
      "metadata": {
        "colab": {
          "base_uri": "https://localhost:8080/"
        },
        "id": "rwGyBAbsylNi",
        "outputId": "ebc3226a-35c7-4773-ae83-45a75733ffec"
      },
      "execution_count": 2,
      "outputs": [
        {
          "output_type": "stream",
          "name": "stdout",
          "text": [
            "<class 'str'> <class 'str'>\n"
          ]
        }
      ]
    },
    {
      "cell_type": "code",
      "source": [
        "i = '''안녕하세요.\n",
        "저는 이수현입니다.\n",
        "오늘은 1월 3일 입니다.\n",
        "'''\n",
        "j = \"\"\"안녕하세요.\n",
        "저는 이수현입니다.\n",
        "오늘은 1월 3일 입니다.\n",
        "\"\"\""
      ],
      "metadata": {
        "id": "mcY11U_8ysP0"
      },
      "execution_count": 4,
      "outputs": []
    },
    {
      "cell_type": "code",
      "source": [
        "print(i)"
      ],
      "metadata": {
        "colab": {
          "base_uri": "https://localhost:8080/"
        },
        "id": "_ur7o8ZGzDc6",
        "outputId": "a08bf947-7725-44a7-d03f-4885789ee99c"
      },
      "execution_count": 5,
      "outputs": [
        {
          "output_type": "stream",
          "name": "stdout",
          "text": [
            "안녕하세요.\n",
            "저는 이수현입니다.\n",
            "오늘은 1월 3일 입니다.\n",
            "\n"
          ]
        }
      ]
    },
    {
      "cell_type": "code",
      "source": [
        "i"
      ],
      "metadata": {
        "colab": {
          "base_uri": "https://localhost:8080/",
          "height": 35
        },
        "id": "ZVZKHpQFzFLZ",
        "outputId": "cb5df842-77e6-4386-cecd-9963656043dd"
      },
      "execution_count": 7,
      "outputs": [
        {
          "output_type": "execute_result",
          "data": {
            "text/plain": [
              "'안녕하세요.\\n저는 이수현입니다.\\n오늘은 1월 3일 입니다.\\n'"
            ],
            "application/vnd.google.colaboratory.intrinsic+json": {
              "type": "string"
            }
          },
          "metadata": {},
          "execution_count": 7
        }
      ]
    },
    {
      "cell_type": "code",
      "source": [
        "# 문자열 덧셈, 곱셈\n",
        "\n",
        "x = 'hello'\n",
        "y = \"python\"\n",
        "\n",
        "print(x + y)\n",
        "print(x * 3)"
      ],
      "metadata": {
        "colab": {
          "base_uri": "https://localhost:8080/"
        },
        "id": "g20_I3RAzHOp",
        "outputId": "55ff0793-2412-40a2-b576-73534f409f6e"
      },
      "execution_count": 8,
      "outputs": [
        {
          "output_type": "stream",
          "name": "stdout",
          "text": [
            "hellopython\n",
            "hellohellohello\n"
          ]
        }
      ]
    },
    {
      "cell_type": "code",
      "source": [
        "# 문자열 인덱싱\n",
        "\n",
        "   # 012 345 (띄어쓰기도 포함함)\n",
        "s = \"10시 6분\"\n",
        "\n",
        "print(s[0]) # 1\n",
        "print(s[-2]) # 6"
      ],
      "metadata": {
        "colab": {
          "base_uri": "https://localhost:8080/"
        },
        "id": "fJMv8gJL2QXz",
        "outputId": "fcfdc930-f5d4-4c69-9da7-034265292263"
      },
      "execution_count": 14,
      "outputs": [
        {
          "output_type": "stream",
          "name": "stdout",
          "text": [
            "1\n",
            "6\n"
          ]
        }
      ]
    },
    {
      "cell_type": "code",
      "source": [
        "# 문자열 슬라이싱\n",
        "\n",
        "s = \"영일이삼사오육칠팔구\"\n",
        "\n",
        "print(s[2::3])\n",
        "print(s[:5])\n",
        "print(s[0:])\n",
        "print(s[8::-2])"
      ],
      "metadata": {
        "colab": {
          "base_uri": "https://localhost:8080/"
        },
        "id": "hWkYttVc3NPG",
        "outputId": "0de40031-7fc5-4e80-a26d-9690567e98f5"
      },
      "execution_count": 19,
      "outputs": [
        {
          "output_type": "stream",
          "name": "stdout",
          "text": [
            "이오팔\n",
            "영일이삼사\n",
            "영일이삼사오육칠팔구\n",
            "팔육사이영\n"
          ]
        }
      ]
    },
    {
      "cell_type": "code",
      "source": [
        "a = \"weniv CEO licat\"\n",
        "\n",
        "# 시작점 설정하고 끝까지\n",
        "print(a[6:])\n",
        "# 전체 출력\n",
        "print(a[:])\n",
        "# 거꾸로 출력\n",
        "print(a[::-1])\n",
        "# 2칸씩 출력\n",
        "print(a[::2])"
      ],
      "metadata": {
        "colab": {
          "base_uri": "https://localhost:8080/"
        },
        "id": "D7ppNkMi4tm7",
        "outputId": "2a5bc949-aa85-442b-ce59-389148db0c64"
      },
      "execution_count": 25,
      "outputs": [
        {
          "output_type": "stream",
          "name": "stdout",
          "text": [
            "CEO licat\n",
            "weniv CEO licat\n",
            "tacil OEC vinew\n",
            "wnvCOlct\n"
          ]
        }
      ]
    },
    {
      "cell_type": "code",
      "source": [
        "# 문자열 슬라이싱 실습\n",
        "\n",
        "a = \"weniv_licat.png\"\n",
        "\n",
        "# 출력 시 weniv_licat만 나오게\n",
        "print(a[:11])\n",
        "# 출력 시 png만 나오게\n",
        "print(a[-3:])"
      ],
      "metadata": {
        "colab": {
          "base_uri": "https://localhost:8080/"
        },
        "id": "ZUiOvT-B5bc6",
        "outputId": "c64351bf-49ce-44df-e000-234f1bbb0a31"
      },
      "execution_count": 30,
      "outputs": [
        {
          "output_type": "stream",
          "name": "stdout",
          "text": [
            "weniv_licat\n",
            "png\n"
          ]
        }
      ]
    },
    {
      "cell_type": "code",
      "source": [
        "# method - 대문자와 소문자\n",
        "\n",
        "a = \"weniv CEO licat\"\n",
        "# .lower : 전체를 소문자로\n",
        "# .upper : 전체를 대문자로\n",
        "\n",
        "a.lower()"
      ],
      "metadata": {
        "colab": {
          "base_uri": "https://localhost:8080/",
          "height": 35
        },
        "id": "431E9ou96wkb",
        "outputId": "aa845aab-6390-4212-c17d-cfc22fd31765"
      },
      "execution_count": 34,
      "outputs": [
        {
          "output_type": "execute_result",
          "data": {
            "text/plain": [
              "'weniv ceo licat'"
            ],
            "application/vnd.google.colaboratory.intrinsic+json": {
              "type": "string"
            }
          },
          "metadata": {},
          "execution_count": 34
        }
      ]
    },
    {
      "cell_type": "code",
      "source": [
        "a.upper()"
      ],
      "metadata": {
        "colab": {
          "base_uri": "https://localhost:8080/",
          "height": 35
        },
        "id": "kzaurgPn86qQ",
        "outputId": "15a38ab5-0f85-4c9b-dc6b-194743e6f408"
      },
      "execution_count": 35,
      "outputs": [
        {
          "output_type": "execute_result",
          "data": {
            "text/plain": [
              "'WENIV CEO LICAT'"
            ],
            "application/vnd.google.colaboratory.intrinsic+json": {
              "type": "string"
            }
          },
          "metadata": {},
          "execution_count": 35
        }
      ]
    },
    {
      "cell_type": "code",
      "source": [
        "# find : 문자열을 찾아줌\n",
        "\n",
        "a.find(\"CEO\")"
      ],
      "metadata": {
        "colab": {
          "base_uri": "https://localhost:8080/"
        },
        "id": "BfDwfLnC9IHg",
        "outputId": "dc48d7f4-8dbe-40db-fba2-45066d770a2c"
      },
      "execution_count": 37,
      "outputs": [
        {
          "output_type": "execute_result",
          "data": {
            "text/plain": [
              "6"
            ]
          },
          "metadata": {},
          "execution_count": 37
        }
      ]
    },
    {
      "cell_type": "code",
      "source": [
        "a.index(\"CEO\")\n",
        "\n",
        "# 찾을 수 없는 문자열일 경우 find는 -1을 반환\n",
        "# index는 error를 반환"
      ],
      "metadata": {
        "colab": {
          "base_uri": "https://localhost:8080/"
        },
        "id": "wfwrGUQh9U68",
        "outputId": "efaa95ff-2dcf-4f6a-d07c-df3ead97cc50"
      },
      "execution_count": 39,
      "outputs": [
        {
          "output_type": "execute_result",
          "data": {
            "text/plain": [
              "6"
            ]
          },
          "metadata": {},
          "execution_count": 39
        }
      ]
    },
    {
      "cell_type": "code",
      "source": [
        "# count : 문자열이나 숫자를 셀 때\n",
        "\n",
        "a.count(\"CEO\")"
      ],
      "metadata": {
        "colab": {
          "base_uri": "https://localhost:8080/"
        },
        "id": "KpVcYwaQ9btW",
        "outputId": "c049ea89-36b7-4f61-bf84-50c836f48fa1"
      },
      "execution_count": 41,
      "outputs": [
        {
          "output_type": "execute_result",
          "data": {
            "text/plain": [
              "1"
            ]
          },
          "metadata": {},
          "execution_count": 41
        }
      ]
    },
    {
      "cell_type": "code",
      "source": [
        "a.count(\"i\")\n",
        "\n",
        "# 공백\n",
        "# 대문자 소문자 구분\n",
        "# 일치만 하면 다 찾음"
      ],
      "metadata": {
        "colab": {
          "base_uri": "https://localhost:8080/"
        },
        "id": "2z3j1OG098J3",
        "outputId": "411ba6da-7ebd-4b65-d96b-98706e859553"
      },
      "execution_count": 42,
      "outputs": [
        {
          "output_type": "execute_result",
          "data": {
            "text/plain": [
              "2"
            ]
          },
          "metadata": {},
          "execution_count": 42
        }
      ]
    },
    {
      "cell_type": "code",
      "source": [
        "# strip : 문자열 양쪽에 있는 공백을 제거, excel-trim\n",
        "\n",
        "a = \"   weniv CEO licat    \"\n",
        "a.strip()"
      ],
      "metadata": {
        "colab": {
          "base_uri": "https://localhost:8080/",
          "height": 35
        },
        "id": "SzvDswfX998T",
        "outputId": "67b855a8-fb56-468f-d196-86fc4670cb92"
      },
      "execution_count": 43,
      "outputs": [
        {
          "output_type": "execute_result",
          "data": {
            "text/plain": [
              "'weniv CEO licat'"
            ],
            "application/vnd.google.colaboratory.intrinsic+json": {
              "type": "string"
            }
          },
          "metadata": {},
          "execution_count": 43
        }
      ]
    },
    {
      "cell_type": "code",
      "source": [
        "\" ~ ..  hello soohyun  \".strip(\" .~h\") # 100% 완벽하진 않음"
      ],
      "metadata": {
        "colab": {
          "base_uri": "https://localhost:8080/",
          "height": 35
        },
        "id": "TUwqzB9h-by5",
        "outputId": "929ad4bc-93e1-43f8-f102-d54deba71199"
      },
      "execution_count": 48,
      "outputs": [
        {
          "output_type": "execute_result",
          "data": {
            "text/plain": [
              "'ello soohyun'"
            ],
            "application/vnd.google.colaboratory.intrinsic+json": {
              "type": "string"
            }
          },
          "metadata": {},
          "execution_count": 48
        }
      ]
    },
    {
      "cell_type": "code",
      "source": [
        "# replace : 원하는 문자열을 다른 문자열로 전환, 대소문자 구분함\n",
        "\n",
        "a = \"weniv CEO licat\"\n",
        "a.replace(\"CEO\", \"CTO\")"
      ],
      "metadata": {
        "colab": {
          "base_uri": "https://localhost:8080/",
          "height": 35
        },
        "id": "KS1Ftykc-u3k",
        "outputId": "3a573488-b81f-4b03-92a1-fa8c3dab101c"
      },
      "execution_count": 50,
      "outputs": [
        {
          "output_type": "execute_result",
          "data": {
            "text/plain": [
              "'weniv CTO licat'"
            ],
            "application/vnd.google.colaboratory.intrinsic+json": {
              "type": "string"
            }
          },
          "metadata": {},
          "execution_count": 50
        }
      ]
    },
    {
      "cell_type": "code",
      "source": [
        "a = 'weniv CEO licat'\n",
        "\n",
        "aa = a.replace('i', 'I')\n",
        "aa, a # 출력: ('weniv CEO licat', 'wenIv CEO lIcat')"
      ],
      "metadata": {
        "colab": {
          "base_uri": "https://localhost:8080/"
        },
        "id": "4nAVU5Yu_d6i",
        "outputId": "2ac374c1-826c-401e-8306-838abcf81498"
      },
      "execution_count": 51,
      "outputs": [
        {
          "output_type": "execute_result",
          "data": {
            "text/plain": [
              "('wenIv CEO lIcat', 'weniv CEO licat')"
            ]
          },
          "metadata": {},
          "execution_count": 51
        }
      ]
    },
    {
      "cell_type": "code",
      "source": [
        "# split : 공백을 기준으로 문자열 나눔\n",
        "# 리스트 형태로 결과 출력\n",
        "\n",
        "a = 'weniv CEO licat'\n",
        "a.split()"
      ],
      "metadata": {
        "colab": {
          "base_uri": "https://localhost:8080/"
        },
        "id": "zBN05vHRA6Pw",
        "outputId": "9d006b64-42b8-498e-f925-ab4113869c1f"
      },
      "execution_count": 52,
      "outputs": [
        {
          "output_type": "execute_result",
          "data": {
            "text/plain": [
              "['weniv', 'CEO', 'licat']"
            ]
          },
          "metadata": {},
          "execution_count": 52
        }
      ]
    },
    {
      "cell_type": "code",
      "source": [
        "a = 'weniv--CEO--licat'\n",
        "a.split(\"--\")"
      ],
      "metadata": {
        "colab": {
          "base_uri": "https://localhost:8080/"
        },
        "id": "6I9tXfcyEDQJ",
        "outputId": "81af7ec8-6374-4270-e876-bf87006acb27"
      },
      "execution_count": 54,
      "outputs": [
        {
          "output_type": "execute_result",
          "data": {
            "text/plain": [
              "['weniv', 'CEO', 'licat']"
            ]
          },
          "metadata": {},
          "execution_count": 54
        }
      ]
    },
    {
      "cell_type": "code",
      "source": [
        "# join : 리스트를 하나의 문자열로 합침 (split와 반대)\n",
        "\n",
        "a = ['weniv', 'CEO', 'licat']\n",
        "\"-\".join(a) # -를 사용하여 문자열을 합침"
      ],
      "metadata": {
        "colab": {
          "base_uri": "https://localhost:8080/",
          "height": 35
        },
        "id": "s3dL0c3iEhgA",
        "outputId": "4a0c7af0-d898-4928-e6a7-044167dfed75"
      },
      "execution_count": 56,
      "outputs": [
        {
          "output_type": "execute_result",
          "data": {
            "text/plain": [
              "'weniv-CEO-licat'"
            ],
            "application/vnd.google.colaboratory.intrinsic+json": {
              "type": "string"
            }
          },
          "metadata": {},
          "execution_count": 56
        }
      ]
    },
    {
      "cell_type": "code",
      "source": [
        "# format : 문자열 내에서 변수의 값을 대입할 때\n",
        "\n",
        "name = 'soohyun'\n",
        "age = 23\n",
        "\n",
        "print('제 이름은 {}이고, 나이는 {}살입니다.'.format(name, age))"
      ],
      "metadata": {
        "colab": {
          "base_uri": "https://localhost:8080/"
        },
        "id": "qtxPkIzMHVmJ",
        "outputId": "bf6328d4-c413-41ed-89b8-2e5a51ec2cda"
      },
      "execution_count": 59,
      "outputs": [
        {
          "output_type": "stream",
          "name": "stdout",
          "text": [
            "제 이름은 soohyun이고, 나이는 23살입니다.\n"
          ]
        }
      ]
    },
    {
      "cell_type": "code",
      "source": [
        "print(f\"제 이름은 {name}이고, 나이는 {age}살입니다.\")"
      ],
      "metadata": {
        "colab": {
          "base_uri": "https://localhost:8080/"
        },
        "id": "Ja40EgBMH2IB",
        "outputId": "1991f576-c57b-43de-ec5b-3c45f5ec50c5"
      },
      "execution_count": 60,
      "outputs": [
        {
          "output_type": "stream",
          "name": "stdout",
          "text": [
            "제 이름은 soohyun이고, 나이는 23살입니다.\n"
          ]
        }
      ]
    },
    {
      "cell_type": "markdown",
      "source": [
        "isalnum( ) / isdigit( ) / isalpha( ) / isascii( )\n",
        "1. isalnum : 문자열에 특수문자가 들어가 있으면 False\\\n",
        "한글이나 영어, 일본어, 중국어, 숫자 등이 들어가 있으면 False를 반환\n",
        "2. isdigit : 문자열이 숫자로만 이루어져 있는지 확인\n",
        "3. isalpha : 모든 문자가 알파벳으로 이루어져 있으면 True, 그렇지 않으면 False를 반환\n",
        "4. isascii : 아스키 코드표 안에 있는 것이면 True를 아니면 False"
      ],
      "metadata": {
        "id": "EYkH0xPPIDe7"
      }
    },
    {
      "cell_type": "code",
      "source": [
        "# rjust : 문자열을 지정한 길이로 맞추고 왼쪽을 지정한 문자로 채움\n",
        "\n",
        "a = \"soohyun\"\n",
        "a.rjust(10, '❤')"
      ],
      "metadata": {
        "colab": {
          "base_uri": "https://localhost:8080/",
          "height": 35
        },
        "id": "AYqYIRNeI_Tm",
        "outputId": "1235a1c9-ca01-472e-fff4-f80c0ec9b3b4"
      },
      "execution_count": 61,
      "outputs": [
        {
          "output_type": "execute_result",
          "data": {
            "text/plain": [
              "'❤❤❤soohyun'"
            ],
            "application/vnd.google.colaboratory.intrinsic+json": {
              "type": "string"
            }
          },
          "metadata": {},
          "execution_count": 61
        }
      ]
    },
    {
      "cell_type": "code",
      "source": [
        "# ljust : 문자열을 지정한 길이로 맞추고 오른쪽을 지정한 문자로 채움\n",
        "\n",
        "a = \"soohyun\"\n",
        "a.ljust(10, '❤')"
      ],
      "metadata": {
        "colab": {
          "base_uri": "https://localhost:8080/",
          "height": 35
        },
        "id": "Vdb9EAjFKdOc",
        "outputId": "2d39d6bd-069a-4dda-8184-80995b923688"
      },
      "execution_count": 62,
      "outputs": [
        {
          "output_type": "execute_result",
          "data": {
            "text/plain": [
              "'soohyun❤❤❤'"
            ],
            "application/vnd.google.colaboratory.intrinsic+json": {
              "type": "string"
            }
          },
          "metadata": {},
          "execution_count": 62
        }
      ]
    },
    {
      "cell_type": "code",
      "source": [
        "# center : 문자열을 지정한 길이로 맞추고 양쪽을 지정한 문자로 채움\n",
        "\n",
        "a = \"soohyun\"\n",
        "a.center(11, '❤')"
      ],
      "metadata": {
        "colab": {
          "base_uri": "https://localhost:8080/",
          "height": 35
        },
        "id": "iqJUEsppKyOv",
        "outputId": "98710664-05f1-4522-ea02-63a751ef66fe"
      },
      "execution_count": 64,
      "outputs": [
        {
          "output_type": "execute_result",
          "data": {
            "text/plain": [
              "'❤❤soohyun❤❤'"
            ],
            "application/vnd.google.colaboratory.intrinsic+json": {
              "type": "string"
            }
          },
          "metadata": {},
          "execution_count": 64
        }
      ]
    },
    {
      "cell_type": "code",
      "source": [
        "# zfill : 메서드는 주어진 길이만큼 문자열의 앞쪽을 '0'으로 채움\n",
        "# zfill(width) 형태로 사용함, width는 문자열의 전체 길이를 의미함\n",
        "\n",
        "z = \"12\"\n",
        "result = z.zfill(6)\n",
        "print(result)"
      ],
      "metadata": {
        "colab": {
          "base_uri": "https://localhost:8080/"
        },
        "id": "jRcynjOXK6as",
        "outputId": "32749e22-5159-4c1c-a972-adf97834eb3d"
      },
      "execution_count": 65,
      "outputs": [
        {
          "output_type": "stream",
          "name": "stdout",
          "text": [
            "000012\n"
          ]
        }
      ]
    },
    {
      "cell_type": "code",
      "source": [
        "# 문자열에 부호가 있을 때\n",
        "\n",
        "z = \"-12\"\n",
        "result = z.zfill(6)\n",
        "print(result)"
      ],
      "metadata": {
        "colab": {
          "base_uri": "https://localhost:8080/"
        },
        "id": "RLvN-HXeNH1U",
        "outputId": "61eb7f88-8390-4a4f-a400-fe55d4da3dbc"
      },
      "execution_count": 66,
      "outputs": [
        {
          "output_type": "stream",
          "name": "stdout",
          "text": [
            "-00012\n"
          ]
        }
      ]
    },
    {
      "cell_type": "code",
      "source": [
        "z = \"12\"\n",
        "result = z.zfill(3) + \".jpg\"\n",
        "print(result)"
      ],
      "metadata": {
        "colab": {
          "base_uri": "https://localhost:8080/"
        },
        "id": "cA-7Xn_xN7aQ",
        "outputId": "455e5537-1fd1-4ff5-a764-12f1efb4d77e"
      },
      "execution_count": 68,
      "outputs": [
        {
          "output_type": "stream",
          "name": "stdout",
          "text": [
            "012.jpg\n"
          ]
        }
      ]
    },
    {
      "cell_type": "code",
      "source": [
        "년 = '24'\n",
        "월 = '1'\n",
        "일 = '3'\n",
        "오늘날짜 = 년 + 월 + 일\n",
        "print(오늘날짜)\n",
        "오늘날짜 = 년 + 월.zfill(2) + 일.zfill(2)\n",
        "print(오늘날짜)"
      ],
      "metadata": {
        "colab": {
          "base_uri": "https://localhost:8080/"
        },
        "id": "-F605FmrRoXr",
        "outputId": "f342bc63-a33c-44d4-9b6a-bef2f20948fa"
      },
      "execution_count": 69,
      "outputs": [
        {
          "output_type": "stream",
          "name": "stdout",
          "text": [
            "2413\n",
            "240103\n"
          ]
        }
      ]
    },
    {
      "cell_type": "code",
      "source": [
        "# translate : 메서드는 문자열 내의 특정 문자들을 다른 문자로 치환하거나 제거할 때 사용\n",
        "# replace와 다르게 한 번에 많은 문자열들을 원하는 문자로 치환할 수 있음\n",
        "\n",
        "# 변환 테이블 생성\n",
        "table = str.maketrans(\"abc\", \"123\")"
      ],
      "metadata": {
        "id": "975pdDMjOEty"
      },
      "execution_count": 70,
      "outputs": []
    },
    {
      "cell_type": "code",
      "source": [
        "text = \"abcde\"\n",
        "result = text.translate(table)\n",
        "print(result)"
      ],
      "metadata": {
        "colab": {
          "base_uri": "https://localhost:8080/"
        },
        "id": "I5-9BRGnR9cF",
        "outputId": "7f86dbe1-2691-4f48-b1b5-d2f2dfbdc574"
      },
      "execution_count": 71,
      "outputs": [
        {
          "output_type": "stream",
          "name": "stdout",
          "text": [
            "123de\n"
          ]
        }
      ]
    },
    {
      "cell_type": "code",
      "source": [
        "# 'd'와 'e' 문자 제거하기\n",
        "\n",
        "table = str.maketrans(\"\", \"\", \"de\")\n",
        "text = \"abcde\"\n",
        "result = text.translate(table)\n",
        "print(result)"
      ],
      "metadata": {
        "colab": {
          "base_uri": "https://localhost:8080/"
        },
        "id": "79WWFHBvR_GU",
        "outputId": "983a42d0-4200-40fd-c92a-1794bc2d68b2"
      },
      "execution_count": 72,
      "outputs": [
        {
          "output_type": "stream",
          "name": "stdout",
          "text": [
            "abc\n"
          ]
        }
      ]
    },
    {
      "cell_type": "code",
      "source": [
        "table = str.maketrans(\"\\n\\t\", \"  \") # 똑같은 길이를 가지고 있어야 함\n",
        "\"weniv \\n\\n\\n CEO \\t\\t\\t licat\".translate(table)"
      ],
      "metadata": {
        "colab": {
          "base_uri": "https://localhost:8080/",
          "height": 35
        },
        "id": "3F32pSBWSLHp",
        "outputId": "5382d605-ac7a-46e1-a85e-5df89e0bc619"
      },
      "execution_count": 73,
      "outputs": [
        {
          "output_type": "execute_result",
          "data": {
            "text/plain": [
              "'weniv     CEO     licat'"
            ],
            "application/vnd.google.colaboratory.intrinsic+json": {
              "type": "string"
            }
          },
          "metadata": {},
          "execution_count": 73
        }
      ]
    },
    {
      "cell_type": "markdown",
      "source": [
        "문자열 포매팅 : 문자열 내에 변수나 표현식의 값을 삽입 or 문자열의 형태 조절\\\n",
        "\n",
        "1. % 연산자 사용\n",
        "2. format() 매서드 사용\n",
        "3. f-string 사용"
      ],
      "metadata": {
        "id": "vzix6cbLTxpE"
      }
    },
    {
      "cell_type": "markdown",
      "source": [
        "주요 이스케이프 문자들\n",
        "\n",
        "- `\\n`: 새로운 줄(줄바꿈)을 나타냅니다.\n",
        "- `\\t`: 탭 문자를 나타냅니다.\n",
        "- `\\r`: 커서를 현재 줄의 처음으로 이동합니다.\n",
        "- `\\\"`: 큰따옴표를 나타냅니다.\n",
        "- `\\'`: 작은따옴표를 나타냅니다.\n",
        "- `\\\\`: 백슬래시를 나타냅니다."
      ],
      "metadata": {
        "id": "Hfump1EmUHlQ"
      }
    },
    {
      "cell_type": "code",
      "source": [
        "print(\"Hello\\nWorld!\") # Hello와 World! 사이에 줄바꿈이 일어납니다.\n",
        "print(\"- 구 - 분 - 선 -\")\n",
        "print(\"Hello\\tWorld!\") # Hello와 World! 사이에 탭 간격이 생깁니다.\n",
        "print(\"- 구 - 분 - 선 -\")\n",
        "print(\"She said, \\\"Hello World!\\\"\") # 큰따옴표 내부에 문자열을 출력합니다.\n",
        "print(\"- 구 - 분 - 선 -\")\n",
        "print('She said, \\'Hello World!\\'') # 작은따옴표 내부에 문자열을 출력합니다.\n",
        "print(\"- 구 - 분 - 선 -\")\n",
        "print(\"Backslash: \\\\\") # 백슬래시를 출력합니다."
      ],
      "metadata": {
        "colab": {
          "base_uri": "https://localhost:8080/"
        },
        "id": "U7Efui5TSbV6",
        "outputId": "7cd2ccb3-ee44-453b-a527-6c57f4f91f8a"
      },
      "execution_count": 77,
      "outputs": [
        {
          "output_type": "stream",
          "name": "stdout",
          "text": [
            "Hello\n",
            "World!\n",
            "- 구 - 분 - 선 -\n",
            "Hello\tWorld!\n",
            "- 구 - 분 - 선 -\n",
            "She said, \"Hello World!\"\n",
            "- 구 - 분 - 선 -\n",
            "She said, 'Hello World!'\n",
            "- 구 - 분 - 선 -\n",
            "Backslash: \\\n"
          ]
        }
      ]
    },
    {
      "cell_type": "code",
      "source": [],
      "metadata": {
        "id": "b5WVQ39sULU-"
      },
      "execution_count": null,
      "outputs": []
    }
  ]
}