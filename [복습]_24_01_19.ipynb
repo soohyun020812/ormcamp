{
  "nbformat": 4,
  "nbformat_minor": 0,
  "metadata": {
    "colab": {
      "provenance": []
    },
    "kernelspec": {
      "name": "python3",
      "display_name": "Python 3"
    },
    "language_info": {
      "name": "python"
    }
  },
  "cells": [
    {
      "cell_type": "markdown",
      "source": [
        "알고리즘 3문제를 풀어주세요 🙂\n",
        "\n",
        "https://100.pyalgo.co.kr/?page=10\n",
        "\n",
        "https://100.pyalgo.co.kr/?page=12\n",
        "\n",
        "https://100.pyalgo.co.kr/?page=13"
      ],
      "metadata": {
        "id": "W9PJnpZUmIyn"
      }
    },
    {
      "cell_type": "code",
      "execution_count": 2,
      "metadata": {
        "id": "Ofm92ijfl8mG"
      },
      "outputs": [],
      "source": [
        "def solution(data):\n",
        "    # 합이 350 이상인 캐릭터를 필터링하여 characters에 저장\n",
        "    characters = list(filter(lambda character: sum(character[1:]) >= 350, data))\n",
        "    # characters에서 이름만 추출하여 알파벳 순으로 정렬\n",
        "    characters = sorted([character[0] for character in characters])\n",
        "    # 정렬된 캐릭터 이름 리스트 반환\n",
        "    return characters"
      ]
    },
    {
      "cell_type": "code",
      "source": [
        "def solution(data):\n",
        "    # 주소와 우편번호를 묶음\n",
        "    addresses_with_postal = [(address, data[1][address.split()[1]]) for address in data[0]]\n",
        "    # 튜플의 첫 번째 요소 기준으로 정렬\n",
        "    sorted_addresses = sorted(addresses_with_postal, key=lambda x: x[1])\n",
        "    # 정렬된 주소만 추출\n",
        "    result = [address[0] for address in sorted_addresses]\n",
        "    return result"
      ],
      "metadata": {
        "id": "8Pvl-27gQjrs"
      },
      "execution_count": 3,
      "outputs": []
    },
    {
      "cell_type": "code",
      "source": [
        "def solution(data):\n",
        "    if isinstance(data, list) and len(data) >= 2 and isinstance(data[1], dict):\n",
        "        # data[1]이 딕셔너리일 경우에만 코드 실행\n",
        "        books_info = sorted(data[1].items(), key=lambda info: info[1])\n",
        "        return [book[0] for book in books_info]"
      ],
      "metadata": {
        "id": "wr923uPARau2"
      },
      "execution_count": 4,
      "outputs": []
    },
    {
      "cell_type": "code",
      "source": [],
      "metadata": {
        "id": "tCJgK0rgRtUk"
      },
      "execution_count": null,
      "outputs": []
    }
  ]
}