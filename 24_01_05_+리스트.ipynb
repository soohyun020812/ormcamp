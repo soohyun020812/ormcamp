{
  "nbformat": 4,
  "nbformat_minor": 0,
  "metadata": {
    "colab": {
      "provenance": []
    },
    "kernelspec": {
      "name": "python3",
      "display_name": "Python 3"
    },
    "language_info": {
      "name": "python"
    }
  },
  "cells": [
    {
      "cell_type": "markdown",
      "source": [
        "*진환강사님의 몸상태로 호준강사님으로 변경됨*\n",
        "\n",
        "### 리스트\n",
        "    - 변경이 가능한 자료형\n",
        "    - 순서가 있는 자료형 (시퀀스, 자료, 인덱싱, 슬라이싱)"
      ],
      "metadata": {
        "id": "23Ab0Oa4PiZ6"
      }
    },
    {
      "cell_type": "code",
      "source": [
        "# 회색 줄은 영문자 80자, 한글은 32자\n",
        "# PEP8, PEP20\n",
        "# 줄이 너무 길면 가독성이 떨어집니다.\n",
        "# Python 잘 하시는 분 보면 모든지 한 줄로 할려고 하는 분 만나는데\n",
        "# 이거 안좋은 습관입니다.\n",
        "\n",
        "print('hello worldhello worldhello worldhello worldhello worldhello worldhello worldhello world')\n",
        "\n",
        "# 해결책 1: 역슬러시 넣는 방법(저는 권고하지 않습니다!, 이스케이 문자랑 혼동될 수 있습니다.)\n",
        "print('hello worldhello worldhello worldhello worldhello worldhello worldhello \\\n",
        "worldhello world')\n",
        "print('hello world \\n hello world')\n",
        "\n",
        "# 해결책 2: 콤마를 찍지 않은 연결\n",
        "print('hello world' 'hello world')\n",
        "print('hello world'\n",
        "      'hello world')"
      ],
      "metadata": {
        "colab": {
          "base_uri": "https://localhost:8080/"
        },
        "id": "rKhkmCriQFpd",
        "outputId": "5fe96965-ad4a-4c44-9483-4adec5cb05d2"
      },
      "execution_count": 3,
      "outputs": [
        {
          "output_type": "stream",
          "name": "stdout",
          "text": [
            "hello worldhello worldhello worldhello worldhello worldhello worldhello worldhello world\n",
            "hello worldhello worldhello worldhello worldhello worldhello worldhello worldhello world\n",
            "hello world \n",
            " hello world\n",
            "hello worldhello world\n",
            "hello worldhello world\n"
          ]
        }
      ]
    },
    {
      "cell_type": "code",
      "source": [
        "# 질문: 메서드 체인으로 길어지면 어떻게 하나요?\n",
        "# 답: 메서드 체인으로 80자 이상이면 이미 가독성에 문제가 있는 것입니다.\n",
        "# 메서드 체이닝을 3개 이상을 하길 권하지 않습니다.(가독성이 악화됩니다.)\n",
        "\n",
        "# 문제 있는 코드\n",
        "'hello world'.upper().split(' ').pop().lower() # 이렇게 코딩하시면 제가 Reject합니다.\n",
        "\n",
        "# 문제가 덜한 코드\n",
        "대문자 = 'hello world'.upper()\n",
        "잘린대문자 = 대문자.split(' ')"
      ],
      "metadata": {
        "id": "D7w7fikZQGsA"
      },
      "execution_count": 4,
      "outputs": []
    },
    {
      "cell_type": "code",
      "source": [
        "# 문자열 메서드\n",
        "dir('hello world') # 메서드, 매직메서드, (클래스 변수, 인스턴스 변수)\n",
        "\n",
        "# 문제1: find와 index 차이\n",
        "# 실무에서 사용하는 코드:\n",
        "\n",
        "if 'hello world'.find('hi'): # 실무에서 자주 나오는 오류! 이렇게 코딩하시면 안됩니다.\n",
        "    print('찾았다!')\n",
        "\n",
        "# 문제2 isdigit의 정체\n",
        "'123'.isdigit()\n",
        "'12h3'.isdigit()\n",
        "\n",
        "# 문제3 replace가 어디까지 변환하는지?\n",
        "'hello world hello world'.replace('hello', 'hi') # 모두 다 변환이 됩니다. 몇 개만 변환이 되는 것이 아닙니다.\n",
        "# 알아두셔야 할 사항: replace는 정규표현식이 안됩니다!\n",
        "# replace를 정규표현식을 사용하고 싶으면 re.sub를 사용해야 합니다.\n",
        "\n",
        "# 문제4 strip(공백제거)\n",
        "# 문제5 zfill(앞에 0으로 채워주는 것, 원하는 자릿수만큼, 시간이나 연도)"
      ],
      "metadata": {
        "colab": {
          "base_uri": "https://localhost:8080/",
          "height": 53
        },
        "id": "SPqAxOUbQAvv",
        "outputId": "290cc9fe-589f-44f2-b25d-a8011c589ece"
      },
      "execution_count": 2,
      "outputs": [
        {
          "output_type": "stream",
          "name": "stdout",
          "text": [
            "찾았다!\n"
          ]
        },
        {
          "output_type": "execute_result",
          "data": {
            "text/plain": [
              "'hi world hi world'"
            ],
            "application/vnd.google.colaboratory.intrinsic+json": {
              "type": "string"
            }
          },
          "metadata": {},
          "execution_count": 2
        }
      ]
    },
    {
      "cell_type": "code",
      "execution_count": 1,
      "metadata": {
        "id": "7m-eUwFJPck3"
      },
      "outputs": [],
      "source": [
        "L = [10, 20, 30]\n",
        "\n",
        "# 라인 수가 길어졌을 때\n",
        "# 권장1\n",
        "L = [10,\n",
        "     20,\n",
        "     30]\n",
        "\n",
        "# 권장2\n",
        "L = [\n",
        "    10,\n",
        "    20,\n",
        "    30\n",
        "]\n",
        "\n",
        "# + 통신을 할 때 JSON 형식을 사용할 때 마지막에 (,)를 허용하지 않음\n",
        "# 실무에선 권장2를 더 씀\n",
        "# - (,) 확인 유무, 편의성 (CtrlC+V 편리) 등의 이유"
      ]
    },
    {
      "cell_type": "code",
      "source": [
        "# -5부터 256은 같습니다.\n",
        "a = 10\n",
        "b = 10\n",
        "\n",
        "print(id(a))\n",
        "print(id(b))\n",
        "print(a is b)\n",
        "\n",
        "\n",
        "a = 257\n",
        "b = 257\n",
        "\n",
        "print(id(a))\n",
        "print(id(b))\n",
        "print(a is b)"
      ],
      "metadata": {
        "colab": {
          "base_uri": "https://localhost:8080/"
        },
        "id": "qIWRQ7JtP824",
        "outputId": "11f2dcaa-43a3-47f8-e5f6-4f3b3692b8db"
      },
      "execution_count": 5,
      "outputs": [
        {
          "output_type": "stream",
          "name": "stdout",
          "text": [
            "139119690449424\n",
            "139119690449424\n",
            "True\n",
            "139119263723792\n",
            "139119263723952\n",
            "False\n"
          ]
        }
      ]
    },
    {
      "cell_type": "code",
      "source": [
        "0.1 + 0.2 # 0.1이 2진수로 표현했을 때 무한소수입니다."
      ],
      "metadata": {
        "colab": {
          "base_uri": "https://localhost:8080/"
        },
        "id": "N5-sEHJOJRE4",
        "outputId": "25443ea8-cb8a-4aec-b00e-b6582f1f8998"
      },
      "execution_count": null,
      "outputs": [
        {
          "output_type": "execute_result",
          "data": {
            "text/plain": [
              "0.30000000000000004"
            ]
          },
          "metadata": {},
          "execution_count": 1
        }
      ]
    },
    {
      "cell_type": "code",
      "source": [
        "# str은 안됩니다!\n",
        "s = 'hello world'\n",
        "# s[0] = 'y'\n",
        "\n",
        "print(s.replace('h', 'y'))\n",
        "print(s)"
      ],
      "metadata": {
        "colab": {
          "base_uri": "https://localhost:8080/"
        },
        "id": "k_hP7XWNYNcA",
        "outputId": "736f1c00-247a-445c-ab20-90570038a0f0"
      },
      "execution_count": null,
      "outputs": [
        {
          "output_type": "stream",
          "name": "stdout",
          "text": [
            "yello world\n",
            "hello world\n"
          ]
        }
      ]
    },
    {
      "cell_type": "code",
      "source": [
        "# 정답1\n",
        "s = s.replace('h', 'y')\n",
        "\n",
        "# 정답2\n",
        "s = 'y' + s[1:] # 신경써야 하나요? black formatter에서 자동으로 해줍니다. 나중에는 익숙해지니 너무 걱정하지 마세요."
      ],
      "metadata": {
        "id": "uQK3VixtYy-_"
      },
      "execution_count": null,
      "outputs": []
    },
    {
      "cell_type": "code",
      "source": [
        "l = [10, 20, 30, 40, 50]\n",
        "l[-1]\n",
        "l[-2:] # 마이너스 인덱싱, 마이너스 슬라이싱은 최종적으로 양수로 치환됩니다.\n",
        "l[3:]\n",
        "# 변수명[stop]\n",
        "# 변수명[start:stop]\n",
        "# 변수명[start:stop:step]"
      ],
      "metadata": {
        "colab": {
          "base_uri": "https://localhost:8080/"
        },
        "id": "eUrFH-OfZSKl",
        "outputId": "2dc503ae-7217-47da-f943-2950baa29430"
      },
      "execution_count": null,
      "outputs": [
        {
          "output_type": "execute_result",
          "data": {
            "text/plain": [
              "[40, 50]"
            ]
          },
          "metadata": {},
          "execution_count": 35
        }
      ]
    },
    {
      "cell_type": "code",
      "source": [
        "type(l), dir(l)\n",
        "# type은 검색 키워드, GPT 질문 키워드가 될 수 있습니다.\n",
        "# dir은 대략적인 속성을 알 수 있습니다."
      ],
      "metadata": {
        "id": "sADQCVflaYpf"
      },
      "execution_count": null,
      "outputs": []
    },
    {
      "cell_type": "code",
      "source": [
        "# __add__가 있으니 더하기는 어디까지 될까? => 테스트\n",
        "# __mul__이 있으니 곱하기는 어디까지 될까? => 테스트\n",
        "\n",
        "l = [10, 20, 30]\n",
        "# l + 100 # 정수 더하기는 안됩니다!\n",
        "l + [100]\n",
        "l + [100, 200]\n",
        "l * 3 # 정수 곱하기는 됩니다!\n",
        "# l * [1, 2] # 리스트 곱하기는 안됩니다."
      ],
      "metadata": {
        "id": "jExT4-jvZ_7Y"
      },
      "execution_count": null,
      "outputs": []
    },
    {
      "cell_type": "code",
      "source": [
        "l = [1, 2, 3] * 3\n",
        "l[1] = 1000\n",
        "l"
      ],
      "metadata": {
        "colab": {
          "base_uri": "https://localhost:8080/"
        },
        "id": "0q7BqP8iZnPj",
        "outputId": "f9c90b6b-7fe5-4305-f2da-2ec88222b311"
      },
      "execution_count": null,
      "outputs": [
        {
          "output_type": "execute_result",
          "data": {
            "text/plain": [
              "[1, 1000, 3, 1, 2, 3, 1, 2, 3]"
            ]
          },
          "metadata": {},
          "execution_count": 42
        }
      ]
    },
    {
      "cell_type": "code",
      "source": [
        "# 리스트 곱하기는 매우 주의해야 합니다!\n",
        "# 곱하기가 2중으로 있을 때에는 나중에 배울 리스트컴프리헨션 사용해주세요!\n",
        "l = [[1, 2, 3] * 3] * 2\n",
        "l[1][0] = 1000\n",
        "l"
      ],
      "metadata": {
        "colab": {
          "base_uri": "https://localhost:8080/"
        },
        "id": "M791yYQjcNQw",
        "outputId": "07c93a28-1651-49c3-9b2f-8026e7031fb5"
      },
      "execution_count": null,
      "outputs": [
        {
          "output_type": "execute_result",
          "data": {
            "text/plain": [
              "[[1000, 2, 3, 1, 2, 3, 1, 2, 3], [1000, 2, 3, 1, 2, 3, 1, 2, 3]]"
            ]
          },
          "metadata": {},
          "execution_count": 44
        }
      ]
    },
    {
      "cell_type": "code",
      "source": [
        "l[1][1] = 10000\n",
        "l"
      ],
      "metadata": {
        "colab": {
          "base_uri": "https://localhost:8080/"
        },
        "id": "tr7HcGhRcXHW",
        "outputId": "162a10ff-6322-45bb-c7f6-d590c892ed4a"
      },
      "execution_count": null,
      "outputs": [
        {
          "output_type": "execute_result",
          "data": {
            "text/plain": [
              "[[1000, 10000, 3, 1, 2, 3, 1, 2, 3], [1000, 10000, 3, 1, 2, 3, 1, 2, 3]]"
            ]
          },
          "metadata": {},
          "execution_count": 45
        }
      ]
    },
    {
      "cell_type": "code",
      "source": [
        "# 암기해주세요.\n",
        "x = 10 # 스칼라\n",
        "x = [10] # 벡터\n",
        "x = [10, 20] # 벡터\n",
        "x = [[10, 20], [10, 20]] # 메트릭스(행렬)\n",
        "x = [[[10, 20], [10, 20]], [[10, 20], [10, 20]]] #텐서(3차원 이상 행렬)"
      ],
      "metadata": {
        "id": "_cPChiw5cwK6"
      },
      "execution_count": null,
      "outputs": []
    },
    {
      "cell_type": "code",
      "source": [
        "# 텐서플로? google에서 만든 딥러닝 라이브러리\n",
        "# 인공지능 => 행렬의 연산"
      ],
      "metadata": {
        "id": "U0S5bQlQd14r"
      },
      "execution_count": null,
      "outputs": []
    },
    {
      "cell_type": "code",
      "source": [
        "# Ctrl + Alt + 화살표 위나 아래, `print(` 입력했고, end버튼 눌렀고, `)` 입력했습니다.\n",
        "x = [[1, 2], [3, 'hello world'], [5, 6]]\n",
        "print(x[1])\n",
        "print(x[1][1])\n",
        "print(x[1][1][6:])"
      ],
      "metadata": {
        "colab": {
          "base_uri": "https://localhost:8080/"
        },
        "id": "ptSD8ylmewjR",
        "outputId": "7e021099-3102-4186-e848-9d4d5f6ffd2d"
      },
      "execution_count": null,
      "outputs": [
        {
          "output_type": "stream",
          "name": "stdout",
          "text": [
            "[3, 'hello world']\n",
            "hello world\n",
            "world\n"
          ]
        }
      ]
    },
    {
      "cell_type": "code",
      "source": [
        "x = 10\n",
        "\n",
        "# 다르다는 것만 인지해주세요!\n",
        "# print를 하는 것과 맨 마지막 출력하는 것은 다릅니다!\n",
        "print(x) # __str__\n",
        "x # __repr__"
      ],
      "metadata": {
        "id": "5n-vemjye8on"
      },
      "execution_count": null,
      "outputs": []
    },
    {
      "cell_type": "code",
      "source": [
        "# Python > 자료형 > list > 메서드\n",
        "\n",
        "l = [10, 20, 30]\n",
        "dir(l)\n",
        "\n",
        "# Shift + Tab\n",
        "# Ctrl + [, Ctrl + ]\n",
        "'append',\n",
        "'clear',\n",
        "'copy',\n",
        "'count',\n",
        "'extend',\n",
        "'index',\n",
        "'insert',\n",
        "'pop',\n",
        "'remove',\n",
        "'reverse',\n",
        "'sort'"
      ],
      "metadata": {
        "id": "roiCjrMLgL2n"
      },
      "execution_count": null,
      "outputs": []
    },
    {
      "cell_type": "code",
      "source": [
        "l.append(100)\n",
        "l"
      ],
      "metadata": {
        "colab": {
          "base_uri": "https://localhost:8080/"
        },
        "id": "Dp5VQPmHgPRX",
        "outputId": "284160b0-0345-422e-bcdd-e340302f8027"
      },
      "execution_count": null,
      "outputs": [
        {
          "output_type": "execute_result",
          "data": {
            "text/plain": [
              "[10, 20, 30, 100]"
            ]
          },
          "metadata": {},
          "execution_count": 57
        }
      ]
    },
    {
      "cell_type": "code",
      "source": [
        "# 앞에다 넣는 방법 1\n",
        "l = [1000] + l\n",
        "\n",
        "# 앞에다 넣는 방법 2\n",
        "x = 10000\n",
        "l = [x] + l[:]\n",
        "\n",
        "# 앞에다 넣는 방법 3\n",
        "l.insert(0, 999)\n",
        "l"
      ],
      "metadata": {
        "colab": {
          "base_uri": "https://localhost:8080/"
        },
        "id": "mu6tQffwgvZI",
        "outputId": "4875bc40-be11-43c9-f1ee-3c24546ec348"
      },
      "execution_count": null,
      "outputs": [
        {
          "output_type": "execute_result",
          "data": {
            "text/plain": [
              "[999, 10000, 1000, 10, 20, 30, 100]"
            ]
          },
          "metadata": {},
          "execution_count": 58
        }
      ]
    },
    {
      "cell_type": "code",
      "source": [
        "l = [10, 20, 30, 40]\n",
        "l.pop() # 뒤에서 값을 꺼내는 방법\n",
        "l"
      ],
      "metadata": {
        "colab": {
          "base_uri": "https://localhost:8080/"
        },
        "id": "9ifwH7-Thrtl",
        "outputId": "7777d5c6-11d8-4e44-f5aa-5bef8bbf3a6a"
      },
      "execution_count": null,
      "outputs": [
        {
          "output_type": "execute_result",
          "data": {
            "text/plain": [
              "[10, 20, 30]"
            ]
          },
          "metadata": {},
          "execution_count": 60
        }
      ]
    },
    {
      "cell_type": "code",
      "source": [
        "l = [10, 20, 30, 40]\n",
        "l.pop(0) # 앞에서 값을 꺼내는 방법\n",
        "l"
      ],
      "metadata": {
        "colab": {
          "base_uri": "https://localhost:8080/"
        },
        "id": "fhMvPUT4kWql",
        "outputId": "ad1be982-affc-4db4-fb66-d26fcbc8816b"
      },
      "execution_count": null,
      "outputs": [
        {
          "output_type": "execute_result",
          "data": {
            "text/plain": [
              "[20, 30, 40]"
            ]
          },
          "metadata": {},
          "execution_count": 61
        }
      ]
    },
    {
      "cell_type": "code",
      "source": [
        "l = [10, 20, 30, 40]\n",
        "l[:-1] # l = l[:-1]\n",
        "l[1:] # l = l[1:]"
      ],
      "metadata": {
        "colab": {
          "base_uri": "https://localhost:8080/"
        },
        "id": "nj7spaUPkfn-",
        "outputId": "77aac02b-150e-4815-b9fa-97f75076561b"
      },
      "execution_count": null,
      "outputs": [
        {
          "output_type": "execute_result",
          "data": {
            "text/plain": [
              "[20, 30, 40]"
            ]
          },
          "metadata": {},
          "execution_count": 63
        }
      ]
    },
    {
      "cell_type": "code",
      "source": [
        "l = [10, 20, 30, 40]\n",
        "l.index(20)"
      ],
      "metadata": {
        "id": "DMkdQWWMknvr"
      },
      "execution_count": null,
      "outputs": []
    },
    {
      "cell_type": "code",
      "source": [
        "# keep\n",
        "# index가 애러가 납니다. error 없이 코드를 짜고 싶어요.\n",
        "# 슬라이싱을 사용합니다. => 슬라이싱은 index가 벗어나더라도 애러가 나지 않습니다.\n",
        "\n",
        "l = [10, 20, 30, 40]\n",
        "l[100:101]"
      ],
      "metadata": {
        "colab": {
          "base_uri": "https://localhost:8080/"
        },
        "id": "uSW53BTPlMKF",
        "outputId": "f631c530-c025-475e-b222-2d9a91854ca2"
      },
      "execution_count": null,
      "outputs": [
        {
          "output_type": "execute_result",
          "data": {
            "text/plain": [
              "[]"
            ]
          },
          "metadata": {},
          "execution_count": 68
        }
      ]
    },
    {
      "cell_type": "code",
      "source": [
        "l = [10, 20, 30, 40]\n",
        "l.clear()\n",
        "l"
      ],
      "metadata": {
        "colab": {
          "base_uri": "https://localhost:8080/"
        },
        "id": "YjuNapeelnyN",
        "outputId": "bd6a1ddf-8a45-481c-8f7a-420738eb75fa"
      },
      "execution_count": null,
      "outputs": [
        {
          "output_type": "execute_result",
          "data": {
            "text/plain": [
              "[]"
            ]
          },
          "metadata": {},
          "execution_count": 70
        }
      ]
    },
    {
      "cell_type": "code",
      "source": [
        "l = [10, 20, 30, 40]\n",
        "ll = l\n",
        "\n",
        "l[0] = 1000\n",
        "ll\n",
        "\n",
        "id(l), id(ll)\n",
        "l is ll"
      ],
      "metadata": {
        "colab": {
          "base_uri": "https://localhost:8080/"
        },
        "id": "MrHdAzHZl4nC",
        "outputId": "a8753d2d-2511-42d3-b8a5-badc417e5e4b"
      },
      "execution_count": null,
      "outputs": [
        {
          "output_type": "execute_result",
          "data": {
            "text/plain": [
              "True"
            ]
          },
          "metadata": {},
          "execution_count": 72
        }
      ]
    },
    {
      "cell_type": "code",
      "source": [
        "l = [10, 20, 30, 40]\n",
        "ll = l.copy() # 얕은 복사와 깊은 복사가 있는데 이 개념은 뒤에서 알려드립니다.\n",
        "\n",
        "l[0] = 1000\n",
        "ll\n",
        "\n",
        "id(l), id(ll)\n",
        "l is ll\n",
        "l, ll"
      ],
      "metadata": {
        "colab": {
          "base_uri": "https://localhost:8080/"
        },
        "id": "GMn86ye8mOC1",
        "outputId": "2231f2db-7f25-48f2-d574-4971d81d389b"
      },
      "execution_count": null,
      "outputs": [
        {
          "output_type": "execute_result",
          "data": {
            "text/plain": [
              "([1000, 20, 30, 40], [10, 20, 30, 40])"
            ]
          },
          "metadata": {},
          "execution_count": 77
        }
      ]
    },
    {
      "cell_type": "code",
      "source": [
        "l = [10, 20, 30, 40]\n",
        "ll = l[:] # 얕은 복사와 깊은 복사가 있는데 이 개념은 뒤에서 알려드립니다.\n",
        "\n",
        "l[0] = 1000\n",
        "l, ll"
      ],
      "metadata": {
        "colab": {
          "base_uri": "https://localhost:8080/"
        },
        "id": "YOd0hJqTmrSP",
        "outputId": "81d87c6c-d6ee-4ea0-ebb3-7107ebbc0685"
      },
      "execution_count": null,
      "outputs": [
        {
          "output_type": "execute_result",
          "data": {
            "text/plain": [
              "([1000, 20, 30, 40], [10, 20, 30, 40])"
            ]
          },
          "metadata": {},
          "execution_count": 76
        }
      ]
    },
    {
      "cell_type": "code",
      "source": [
        "l = [1, 1, 1, 2, 2, 2, 3, 3]\n",
        "l.count(1)"
      ],
      "metadata": {
        "colab": {
          "base_uri": "https://localhost:8080/"
        },
        "id": "FZ99W2Pmm9uN",
        "outputId": "cb567f44-0968-4789-a47a-dd1801cc2ad6"
      },
      "execution_count": null,
      "outputs": [
        {
          "output_type": "execute_result",
          "data": {
            "text/plain": [
              "3"
            ]
          },
          "metadata": {},
          "execution_count": 78
        }
      ]
    },
    {
      "cell_type": "code",
      "source": [
        "l = ['1', '1', 1, 2, 2, 2, 3, 3]\n",
        "l.count(1)"
      ],
      "metadata": {
        "colab": {
          "base_uri": "https://localhost:8080/"
        },
        "id": "eNbZ_cFInDnT",
        "outputId": "31a2cfdd-0f71-4aec-c1d8-6045c46ac3fe"
      },
      "execution_count": null,
      "outputs": [
        {
          "output_type": "execute_result",
          "data": {
            "text/plain": [
              "1"
            ]
          },
          "metadata": {},
          "execution_count": 79
        }
      ]
    },
    {
      "cell_type": "code",
      "source": [
        "# 분위기 환기차 해드리는 것입니다.\n",
        "# 이해하지 못하셔도 괜찮습니다.\n",
        "# https://codingdojang.com/scode/393?answer_mode=hide\n",
        "str([1, 2, 3, 4, 5, 6, 7, 8, 9, 10, 11, 12, 13, 14, 15]).count('1')\n",
        "# str(1부터_10000까지_리스트).count('8')\n",
        "list(range(10))\n",
        "str(list(range(20)))\n",
        "str(list(range(20))).count('8')"
      ],
      "metadata": {
        "colab": {
          "base_uri": "https://localhost:8080/"
        },
        "id": "KgPdoo7JoAgr",
        "outputId": "5bf51818-c3b2-4393-c62c-99fed2494f4d"
      },
      "execution_count": null,
      "outputs": [
        {
          "output_type": "execute_result",
          "data": {
            "text/plain": [
              "2"
            ]
          },
          "metadata": {},
          "execution_count": 84
        }
      ]
    },
    {
      "cell_type": "code",
      "source": [
        "l = [10, 20, 30, 40]\n",
        "l.extend([50, 60])\n",
        "l"
      ],
      "metadata": {
        "colab": {
          "base_uri": "https://localhost:8080/"
        },
        "id": "acCPTW7HpDn8",
        "outputId": "94fcae15-d5c2-4b4a-f8c8-1d048049dbaf"
      },
      "execution_count": null,
      "outputs": [
        {
          "output_type": "execute_result",
          "data": {
            "text/plain": [
              "[10, 20, 30, 40, 50, 60]"
            ]
          },
          "metadata": {},
          "execution_count": 85
        }
      ]
    },
    {
      "cell_type": "code",
      "source": [
        "l = [10, 20, 30, 40]\n",
        "l.append([50, 60]) # 이것만 기억하셔도 좋습니다. 이렇게 많이 사용합니다.\n",
        "l"
      ],
      "metadata": {
        "colab": {
          "base_uri": "https://localhost:8080/"
        },
        "id": "dsGzze8kpKjh",
        "outputId": "00079a79-1837-444c-977d-ef54b7eb4ba3"
      },
      "execution_count": null,
      "outputs": [
        {
          "output_type": "execute_result",
          "data": {
            "text/plain": [
              "[10, 20, 30, 40, [50, 60]]"
            ]
          },
          "metadata": {},
          "execution_count": 86
        }
      ]
    },
    {
      "cell_type": "code",
      "source": [
        "l = [10, 20, 30, 40]\n",
        "l.extend('hello') # extend(보통리스트), extend(순회가능한객체)\n",
        "l"
      ],
      "metadata": {
        "colab": {
          "base_uri": "https://localhost:8080/"
        },
        "id": "5yE_K4EupNzB",
        "outputId": "e95c0eef-55de-4917-a2a9-32c8063fd5dc"
      },
      "execution_count": null,
      "outputs": [
        {
          "output_type": "execute_result",
          "data": {
            "text/plain": [
              "[10, 20, 30, 40, 'h', 'e', 'l', 'l', 'o']"
            ]
          },
          "metadata": {},
          "execution_count": 87
        }
      ]
    },
    {
      "cell_type": "code",
      "source": [
        "l = [1, 1, 1, 1, 2, 2, 3, 3, 3]\n",
        "l.remove(1) # 한가지 요소를 지울 때 사용\n",
        "l"
      ],
      "metadata": {
        "colab": {
          "base_uri": "https://localhost:8080/"
        },
        "id": "0xUlYr6upulz",
        "outputId": "4b81fb63-b7aa-4191-908e-b13709a703a3"
      },
      "execution_count": null,
      "outputs": [
        {
          "output_type": "execute_result",
          "data": {
            "text/plain": [
              "[1, 1, 1, 2, 2, 3, 3, 3]"
            ]
          },
          "metadata": {},
          "execution_count": 88
        }
      ]
    },
    {
      "cell_type": "code",
      "source": [
        "# 이해하지 않으셔도 됩니다.\n",
        "# 여기서 catch해야할 포인트는 모든 요소를 filtering하고 싶을 때에는\n",
        "# remove가 아니라 filter라는 것을 사용한다!\n",
        "def f(x):\n",
        "    return x != 1\n",
        "\n",
        "l = [1, 1, 1, 1, 2, 2, 3, 3, 3]\n",
        "list(filter(f, l))"
      ],
      "metadata": {
        "colab": {
          "base_uri": "https://localhost:8080/"
        },
        "id": "5KwzEIi6qIt_",
        "outputId": "03c986b8-adcf-4e49-855d-7c9ad3de4d8e"
      },
      "execution_count": null,
      "outputs": [
        {
          "output_type": "execute_result",
          "data": {
            "text/plain": [
              "[2, 2, 3, 3, 3]"
            ]
          },
          "metadata": {},
          "execution_count": 90
        }
      ]
    },
    {
      "cell_type": "code",
      "source": [
        "l = [1, 2, 3, 4, 9, 5, 6, 7]\n",
        "l.reverse()\n",
        "l # 역정렬은 아닙니다. # 원본이 변합니다.(입력된 원본은 대부분 보존하려 노력합니다.)\n",
        "\n",
        "# 역순은 단순히 순서를 뒤집는 것이고\n",
        "# 역 정렬은 정렬의 역순입니다."
      ],
      "metadata": {
        "colab": {
          "base_uri": "https://localhost:8080/"
        },
        "id": "7qgIc1amk9Dw",
        "outputId": "e11acb54-4d44-41c3-963c-8d0ad1f07f64"
      },
      "execution_count": null,
      "outputs": [
        {
          "output_type": "execute_result",
          "data": {
            "text/plain": [
              "[7, 6, 5, 9, 4, 3, 2, 1]"
            ]
          },
          "metadata": {},
          "execution_count": 91
        }
      ]
    },
    {
      "cell_type": "code",
      "source": [
        "# reversed는 잊으셔도 됩니다. l.reverse만 기억하세요.\n",
        "l = [1, 2, 3, 4, 9, 5, 6, 7]\n",
        "list(reversed(l)) # reversed는 원본을 변경하지 않습니다."
      ],
      "metadata": {
        "colab": {
          "base_uri": "https://localhost:8080/"
        },
        "id": "g0q1ZglbrGPS",
        "outputId": "56563d9b-c05b-402d-dea3-9553313a1da5"
      },
      "execution_count": null,
      "outputs": [
        {
          "output_type": "execute_result",
          "data": {
            "text/plain": [
              "[7, 6, 5, 9, 4, 3, 2, 1]"
            ]
          },
          "metadata": {},
          "execution_count": 93
        }
      ]
    },
    {
      "cell_type": "code",
      "source": [
        "l = [1, 2, 3, 4, 9, 5, 6, 7]\n",
        "l.sort()\n",
        "l # 원본을 바꾸는 정렬"
      ],
      "metadata": {
        "colab": {
          "base_uri": "https://localhost:8080/"
        },
        "id": "gIeWQJ8RrnuO",
        "outputId": "23a51f12-63b2-4521-f06e-fc8745ac4710"
      },
      "execution_count": null,
      "outputs": [
        {
          "output_type": "execute_result",
          "data": {
            "text/plain": [
              "[1, 2, 3, 4, 5, 6, 7, 9]"
            ]
          },
          "metadata": {},
          "execution_count": 94
        }
      ]
    },
    {
      "cell_type": "code",
      "source": [
        "l = [1, 2, 3, 4, 9, 5, 6, 7]\n",
        "l.sort()\n",
        "l.reverse()\n",
        "l # 원본을 바꾸는 역정렬"
      ],
      "metadata": {
        "colab": {
          "base_uri": "https://localhost:8080/"
        },
        "id": "DfGpFHxdsujZ",
        "outputId": "268200d2-e8b4-4e33-9cc4-14cb78c96668"
      },
      "execution_count": null,
      "outputs": [
        {
          "output_type": "execute_result",
          "data": {
            "text/plain": [
              "[9, 7, 6, 5, 4, 3, 2, 1]"
            ]
          },
          "metadata": {},
          "execution_count": 95
        }
      ]
    },
    {
      "cell_type": "code",
      "source": [
        "# sorted는 잊으셔도 됩니다. l.sort만 기억하세요.\n",
        "l = [1, 2, 3, 4, 9, 5, 6, 7]\n",
        "sorted(l) # sorted 원본을 변경하지 않습니다."
      ],
      "metadata": {
        "colab": {
          "base_uri": "https://localhost:8080/"
        },
        "id": "odLNyKNXs0Zv",
        "outputId": "617bfa95-d59c-4e05-deac-2600102a39ef"
      },
      "execution_count": null,
      "outputs": [
        {
          "output_type": "execute_result",
          "data": {
            "text/plain": [
              "[1, 2, 3, 4, 5, 6, 7, 9]"
            ]
          },
          "metadata": {},
          "execution_count": 96
        }
      ]
    },
    {
      "cell_type": "code",
      "source": [
        "# sort, sorted, reverse, reversed 알고리즘 문제에서도 1개 문제는 거의 나온다고 보시면 됩니다.\n",
        "# 옵션 값은 하지 않았습니다.\n",
        "# 옵션 값을 하지 않은 이유 : 함수까지는 배우셔야 좀 더 고급 문법이 가능합니다."
      ],
      "metadata": {
        "id": "VmomtowitIwr"
      },
      "execution_count": null,
      "outputs": []
    },
    {
      "cell_type": "code",
      "source": [
        "# 어떻게 사용되는지만 체크! (뒤에서 다시 하겠습니다.)\n",
        "# 국어 점수가 가장 높은 순으로 정렬해주세요.\n",
        "# 국, 영, 수, 이름\n",
        "s = [[100, 87, 91, '이순신'], [56, 38, 89, '이수현'], [33, 86, 100, '홍길동']]\n",
        "\n",
        "def f(x):\n",
        "    return x[0]\n",
        "\n",
        "sorted(s, key=f)\n",
        "sorted(s, key=f, reverse=True)"
      ],
      "metadata": {
        "colab": {
          "base_uri": "https://localhost:8080/"
        },
        "id": "gZshkz0LuR3e",
        "outputId": "3ef375a6-fb6c-4c11-ecbd-44c54ab38031"
      },
      "execution_count": 3,
      "outputs": [
        {
          "output_type": "execute_result",
          "data": {
            "text/plain": [
              "[[100, 87, 91, '이순신'], [56, 38, 89, '이수현'], [33, 86, 100, '홍길동']]"
            ]
          },
          "metadata": {},
          "execution_count": 3
        }
      ]
    },
    {
      "cell_type": "code",
      "source": [
        "# 평균 점수가 가장 높은 순으로 정렬해주세요.\n",
        "s = [[100, 87, 91, '이순신'], [56, 38, 89, '이수현'], [33, 86, 100, '홍길동']]\n",
        "\n",
        "def f(x):\n",
        "    return x[0] + x[1] + x[2]\n",
        "\n",
        "sorted(s, key=f)\n",
        "sorted(s, key=f, reverse=True)"
      ],
      "metadata": {
        "colab": {
          "base_uri": "https://localhost:8080/"
        },
        "id": "LkXTApREvA-W",
        "outputId": "c82cd5a5-1202-4357-d0df-bda1874d0a0a"
      },
      "execution_count": 4,
      "outputs": [
        {
          "output_type": "execute_result",
          "data": {
            "text/plain": [
              "[[100, 87, 91, '이순신'], [33, 86, 100, '홍길동'], [56, 38, 89, '이수현']]"
            ]
          },
          "metadata": {},
          "execution_count": 4
        }
      ]
    },
    {
      "cell_type": "code",
      "source": [],
      "metadata": {
        "id": "j-bpOidscsXT"
      },
      "execution_count": null,
      "outputs": []
    }
  ]
}