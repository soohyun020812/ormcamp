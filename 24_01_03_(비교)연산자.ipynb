{
  "nbformat": 4,
  "nbformat_minor": 0,
  "metadata": {
    "colab": {
      "provenance": [],
      "authorship_tag": "ABX9TyMMXqme7JZ9ASn+Ud/sVZQ/",
      "include_colab_link": true
    },
    "kernelspec": {
      "name": "python3",
      "display_name": "Python 3"
    },
    "language_info": {
      "name": "python"
    }
  },
  "cells": [
    {
      "cell_type": "markdown",
      "metadata": {
        "id": "view-in-github",
        "colab_type": "text"
      },
      "source": [
        "<a href=\"https://colab.research.google.com/github/soohyun020812/ormcamp/blob/main/24_01_03_(%EB%B9%84%EA%B5%90)%EC%97%B0%EC%82%B0%EC%9E%90.ipynb\" target=\"_parent\"><img src=\"https://colab.research.google.com/assets/colab-badge.svg\" alt=\"Open In Colab\"/></a>"
      ]
    },
    {
      "cell_type": "markdown",
      "source": [
        "비교연산자\n",
        "\n",
        "- 두 값을 비교하여 그 결과가 참(True)인지 거짓(False)인지를 판단\n",
        "- 주로 조건문이나 반복문에서 조건을 검사할 때 사용됨"
      ],
      "metadata": {
        "id": "3SmBSpxFI2ic"
      }
    },
    {
      "cell_type": "markdown",
      "source": [
        "| 기호 | 의미 |\n",
        "| --- | --- |\n",
        "| == | 같음 |\n",
        "| != | 같지 않음 |\n",
        "| < | 작음 |\n",
        "| <= | 작거나 같음 |\n",
        "| > | 큼 |\n",
        "| >= | 크거나 같음 |"
      ],
      "metadata": {
        "id": "477tstAlJHwa"
      }
    },
    {
      "cell_type": "code",
      "execution_count": 1,
      "metadata": {
        "colab": {
          "base_uri": "https://localhost:8080/"
        },
        "id": "NXSIzc_dCwmv",
        "outputId": "3d985762-cd8c-4504-8de8-e8a718dab5ad"
      },
      "outputs": [
        {
          "output_type": "stream",
          "name": "stdout",
          "text": [
            "True\n"
          ]
        }
      ],
      "source": [
        "print(5 == 5)"
      ]
    },
    {
      "cell_type": "code",
      "source": [
        "print(5 != 3)"
      ],
      "metadata": {
        "colab": {
          "base_uri": "https://localhost:8080/"
        },
        "id": "NE1kLUVVJl5q",
        "outputId": "81375b8f-b9ed-4e4a-f8cb-34b53405a9f4"
      },
      "execution_count": 2,
      "outputs": [
        {
          "output_type": "stream",
          "name": "stdout",
          "text": [
            "True\n"
          ]
        }
      ]
    },
    {
      "cell_type": "code",
      "source": [
        "print(3 < 5)"
      ],
      "metadata": {
        "colab": {
          "base_uri": "https://localhost:8080/"
        },
        "id": "bTR79jvYJiYj",
        "outputId": "9bc63b42-8f47-47bc-c98b-ffdbf4b35289"
      },
      "execution_count": 3,
      "outputs": [
        {
          "output_type": "stream",
          "name": "stdout",
          "text": [
            "True\n"
          ]
        }
      ]
    },
    {
      "cell_type": "code",
      "source": [
        "print(5 <= 4)"
      ],
      "metadata": {
        "colab": {
          "base_uri": "https://localhost:8080/"
        },
        "id": "tRfvSwdBJqOn",
        "outputId": "0a840952-e0f6-4b59-dd64-24f61e953baa"
      },
      "execution_count": 4,
      "outputs": [
        {
          "output_type": "stream",
          "name": "stdout",
          "text": [
            "False\n"
          ]
        }
      ]
    },
    {
      "cell_type": "code",
      "source": [
        "print(6 > 5)"
      ],
      "metadata": {
        "colab": {
          "base_uri": "https://localhost:8080/"
        },
        "id": "iQGXFiyRJswX",
        "outputId": "1e5242d8-96ac-4b10-e315-3eadf3d19417"
      },
      "execution_count": 5,
      "outputs": [
        {
          "output_type": "stream",
          "name": "stdout",
          "text": [
            "True\n"
          ]
        }
      ]
    },
    {
      "cell_type": "code",
      "source": [
        "print(5 >= 5)"
      ],
      "metadata": {
        "colab": {
          "base_uri": "https://localhost:8080/"
        },
        "id": "XWdJlpD_JuRf",
        "outputId": "c6b6f642-daad-42a2-ac0b-0e34ede065ac"
      },
      "execution_count": 6,
      "outputs": [
        {
          "output_type": "stream",
          "name": "stdout",
          "text": [
            "True\n"
          ]
        }
      ]
    },
    {
      "cell_type": "code",
      "source": [
        "# 문자열의 경우 맨 앞자리의 유니코드 순서를 비교\n",
        "\n",
        "print('apple' < 'banana')"
      ],
      "metadata": {
        "colab": {
          "base_uri": "https://localhost:8080/"
        },
        "id": "mMgtg6UNJwUY",
        "outputId": "a653db37-eb4e-4f3c-e1e1-5a991c505c89"
      },
      "execution_count": 7,
      "outputs": [
        {
          "output_type": "stream",
          "name": "stdout",
          "text": [
            "True\n"
          ]
        }
      ]
    },
    {
      "cell_type": "code",
      "source": [
        "# 유니코드표에서 하는 D558번째에 있으며 후는 D6C4번째에 있음\n",
        "\n",
        "print('하하' > '후후')"
      ],
      "metadata": {
        "colab": {
          "base_uri": "https://localhost:8080/"
        },
        "id": "zTslokIiJypl",
        "outputId": "20e9d365-d22c-42d0-99a6-6b9320f61aa3"
      },
      "execution_count": 8,
      "outputs": [
        {
          "output_type": "stream",
          "name": "stdout",
          "text": [
            "False\n"
          ]
        }
      ]
    },
    {
      "cell_type": "code",
      "source": [
        "# 연속적인 비교\n",
        "\n",
        "x = 10\n",
        "print(5 < x < 15)"
      ],
      "metadata": {
        "colab": {
          "base_uri": "https://localhost:8080/"
        },
        "id": "YHDOL7ZsJ6lm",
        "outputId": "613970a7-ffb5-46a2-dbae-b11ed3d4b32b"
      },
      "execution_count": 9,
      "outputs": [
        {
          "output_type": "stream",
          "name": "stdout",
          "text": [
            "True\n"
          ]
        }
      ]
    },
    {
      "cell_type": "code",
      "source": [
        "# 리스트의 비교는 맨 앞자리를 비교\n",
        "\n",
        "[10, 20, 30] > [20, 30, 40]\n",
        "\n",
        "# 시퀀스의 타입이 다르면 error, ex) []과 ()을 같이 사용"
      ],
      "metadata": {
        "colab": {
          "base_uri": "https://localhost:8080/"
        },
        "id": "kaqbuAHMJ9Bu",
        "outputId": "9071d047-6483-4632-ecf7-0f3af0944712"
      },
      "execution_count": 11,
      "outputs": [
        {
          "output_type": "execute_result",
          "data": {
            "text/plain": [
              "False"
            ]
          },
          "metadata": {},
          "execution_count": 11
        }
      ]
    },
    {
      "cell_type": "markdown",
      "source": [
        "부동소숫점의 비교\n",
        "\n",
        "- math.isclose()"
      ],
      "metadata": {
        "id": "5MBPsnAVKSbu"
      }
    },
    {
      "cell_type": "code",
      "source": [
        "import math\n",
        "\n",
        "result = 0.1 + 0.2\n",
        "print(result == 0.3)\n",
        "print(math.isclose(result, 0.3))\n",
        "print(math.isclose(result, 0.29))\n",
        "print(math.isclose(result, 0.31))\n",
        "print(math.isclose(result, 0.30000001))"
      ],
      "metadata": {
        "colab": {
          "base_uri": "https://localhost:8080/"
        },
        "id": "IWex3_51KOZb",
        "outputId": "428ca0f4-5809-41bb-e41e-2b80d8273296"
      },
      "execution_count": 13,
      "outputs": [
        {
          "output_type": "stream",
          "name": "stdout",
          "text": [
            "False\n",
            "True\n",
            "False\n",
            "False\n",
            "False\n"
          ]
        }
      ]
    },
    {
      "cell_type": "code",
      "source": [],
      "metadata": {
        "id": "bJcTALYGKbT0"
      },
      "execution_count": null,
      "outputs": []
    }
  ]
}