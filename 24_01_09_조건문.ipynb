{
  "nbformat": 4,
  "nbformat_minor": 0,
  "metadata": {
    "colab": {
      "provenance": []
    },
    "kernelspec": {
      "name": "python3",
      "display_name": "Python 3"
    },
    "language_info": {
      "name": "python"
    }
  },
  "cells": [
    {
      "cell_type": "markdown",
      "source": [
        "### 조건문\n",
        "\n",
        "True인지 False인지 평가하여 해당 조건이 True인 경우 특정 코드 블록을 실행\n",
        "\n",
        "Python에서 주로 if문을 사용하고 3.10버전 이후부터는 match문으로도 작성할 수 있음"
      ],
      "metadata": {
        "id": "FXtSUymZpJh1"
      }
    },
    {
      "cell_type": "markdown",
      "source": [
        "**if문의 기본 구조**"
      ],
      "metadata": {
        "id": "Gw77xZjAqzrE"
      }
    },
    {
      "cell_type": "code",
      "source": [
        "# if 다음 조건이 참인 경우에만 코드블록이 실행\n",
        "\n",
        "x = 2 # 비교 대상\n",
        "\n",
        "if x > 1: # 비교 식 (조건)\n",
        "    print('True') # 비교식이 참이여서 출력되는 True"
      ],
      "metadata": {
        "id": "4USx1W6F9S5O",
        "colab": {
          "base_uri": "https://localhost:8080/"
        },
        "outputId": "a7690aa4-27b9-41d8-a4b6-69ffeacd07d8"
      },
      "execution_count": 1,
      "outputs": [
        {
          "output_type": "stream",
          "name": "stdout",
          "text": [
            "True\n"
          ]
        }
      ]
    },
    {
      "cell_type": "code",
      "source": [
        "x = 1\n",
        "\n",
        "if x > 1:\n",
        "    print('True')\n",
        "\n",
        "# 비교식이 옳지 않아 True가 출력되지 않음"
      ],
      "metadata": {
        "id": "Q9KFT28ppiV_"
      },
      "execution_count": 3,
      "outputs": []
    },
    {
      "cell_type": "code",
      "source": [
        "if True:\n",
        "    print('True')"
      ],
      "metadata": {
        "colab": {
          "base_uri": "https://localhost:8080/"
        },
        "id": "scCSUD_Spo8z",
        "outputId": "86227a46-09e6-4594-97d4-47117c6d239d"
      },
      "execution_count": 4,
      "outputs": [
        {
          "output_type": "stream",
          "name": "stdout",
          "text": [
            "True\n"
          ]
        }
      ]
    },
    {
      "cell_type": "markdown",
      "source": [
        "**참과 거짓으로 평가**"
      ],
      "metadata": {
        "id": "xZtve4hmq3o2"
      }
    },
    {
      "cell_type": "code",
      "source": [
        "if 1:\n",
        "    print('hello')"
      ],
      "metadata": {
        "colab": {
          "base_uri": "https://localhost:8080/"
        },
        "id": "-CEeQV6UqQUz",
        "outputId": "fc9d57a1-d71c-475e-f2fc-5e2c1449a506"
      },
      "execution_count": 5,
      "outputs": [
        {
          "output_type": "stream",
          "name": "stdout",
          "text": [
            "hello\n"
          ]
        }
      ]
    },
    {
      "cell_type": "code",
      "source": [
        "if 10 and [1, 2, 3]: # True나 False가 아니라 단락평가에 의해 [1, 2, 3]\n",
        "    print('hello')\n",
        "\n",
        "# 단락평가에 의해 if문 뒤에 조건이 [1, 2, 3]\n",
        "# 리스트 값이 있는 것은 True로 평가되기 때문에 조건이 참이되어 'hello'가 출력"
      ],
      "metadata": {
        "colab": {
          "base_uri": "https://localhost:8080/"
        },
        "id": "pqQ__UMwq8WA",
        "outputId": "b5171734-1083-4259-c3af-b1ec39f7cbbe"
      },
      "execution_count": 6,
      "outputs": [
        {
          "output_type": "stream",
          "name": "stdout",
          "text": [
            "hello\n"
          ]
        }
      ]
    },
    {
      "cell_type": "code",
      "source": [
        "if -1:\n",
        "    print('hello')\n",
        "print('end')\n",
        "\n",
        "# if -1 = 0이 아닌 모든 정수형은 True로 인식 되어 hello와 end가 모두 출력"
      ],
      "metadata": {
        "colab": {
          "base_uri": "https://localhost:8080/"
        },
        "id": "qok86anzq_J3",
        "outputId": "4ff2afdf-3d0e-4d03-cd01-d64d264b9f8a"
      },
      "execution_count": 7,
      "outputs": [
        {
          "output_type": "stream",
          "name": "stdout",
          "text": [
            "hello\n",
            "end\n"
          ]
        }
      ]
    },
    {
      "cell_type": "code",
      "source": [
        "if 0:\n",
        "    print('hello')\n",
        "print('end')\n",
        "\n",
        "# 0은 False로 인식되어 hello는 출력되지 않고 end만 출력됨"
      ],
      "metadata": {
        "colab": {
          "base_uri": "https://localhost:8080/"
        },
        "id": "auIpYdjRrLrd",
        "outputId": "a664fcfb-de3f-4f91-b8a5-d0392a9a25c6"
      },
      "execution_count": 8,
      "outputs": [
        {
          "output_type": "stream",
          "name": "stdout",
          "text": [
            "end\n"
          ]
        }
      ]
    },
    {
      "cell_type": "code",
      "source": [
        "# 공백이 있는 문자열\n",
        "if ' ':\n",
        "    print('hello')\n",
        "print('end')"
      ],
      "metadata": {
        "colab": {
          "base_uri": "https://localhost:8080/"
        },
        "id": "vFrF_y29rfOH",
        "outputId": "bfbd3e12-3113-451e-cbd8-7790817e4fa2"
      },
      "execution_count": 10,
      "outputs": [
        {
          "output_type": "stream",
          "name": "stdout",
          "text": [
            "hello\n",
            "end\n"
          ]
        }
      ]
    },
    {
      "cell_type": "code",
      "source": [
        "# 공백이 없는 문자열\n",
        "if '':\n",
        "    print('hello')\n",
        "print('end')"
      ],
      "metadata": {
        "colab": {
          "base_uri": "https://localhost:8080/"
        },
        "id": "uRIniaVAvW0u",
        "outputId": "73a2d2a7-6085-4c26-f828-c52351461c6b"
      },
      "execution_count": 11,
      "outputs": [
        {
          "output_type": "stream",
          "name": "stdout",
          "text": [
            "end\n"
          ]
        }
      ]
    },
    {
      "cell_type": "code",
      "source": [
        "if not '':\n",
        "    print('hello')\n",
        "print('end')"
      ],
      "metadata": {
        "colab": {
          "base_uri": "https://localhost:8080/"
        },
        "id": "VnoS1UMuvZpm",
        "outputId": "ef18a11b-d2af-4209-cf17-34523378b469"
      },
      "execution_count": 13,
      "outputs": [
        {
          "output_type": "stream",
          "name": "stdout",
          "text": [
            "hello\n",
            "end\n"
          ]
        }
      ]
    },
    {
      "cell_type": "code",
      "source": [
        "if None: # None은 False로 처리됩니다.\n",
        "    print('hello')\n",
        "print('end')"
      ],
      "metadata": {
        "colab": {
          "base_uri": "https://localhost:8080/"
        },
        "id": "Jtu-esLZvfUY",
        "outputId": "8e13889b-82d7-42f2-aeba-a56fa4c5c690"
      },
      "execution_count": 14,
      "outputs": [
        {
          "output_type": "stream",
          "name": "stdout",
          "text": [
            "end\n"
          ]
        }
      ]
    },
    {
      "cell_type": "code",
      "source": [
        "if not None:\n",
        "    print('hello')\n",
        "print('end')"
      ],
      "metadata": {
        "colab": {
          "base_uri": "https://localhost:8080/"
        },
        "id": "RF5zPLATvdFW",
        "outputId": "bab8dfd9-4794-47e9-b9d3-b57979e4dc08"
      },
      "execution_count": 15,
      "outputs": [
        {
          "output_type": "stream",
          "name": "stdout",
          "text": [
            "hello\n",
            "end\n"
          ]
        }
      ]
    },
    {
      "cell_type": "markdown",
      "source": [
        "### if문에 사용할 수 있는 표현식\n",
        "\n",
        "**`if`**문의 조건에는 불리언(boolean) 표현식이 사용\\\n",
        "이 표현식은 **`True`** 또는 **`False`** 값을 결과로 반환해야 함\n",
        "\n",
        "- 비교 연산자: **`==`**, **`!=`**, **`<`**, **`<=`**, **`>`**, **`>=`**\n",
        "- 논리 연산자: **`and`**, **`or`**, **`not`**\n",
        "- 멤버십 연산자: **`in`**, **`not in`**\n",
        "- 식별 연산자: **`is`**, **`is not`**\n",
        "- 다른 함수의 반환 값이나 변수의 값 (이 값들이 결국 불리언으로 평가됨)"
      ],
      "metadata": {
        "id": "SdZ8Ca2xwSEM"
      }
    },
    {
      "cell_type": "code",
      "source": [
        "# if 문의 코드 블록에 들어갈 수 있는 것\n",
        "# 코드 블록에는 어떤 문장도 올 수 있음\n",
        "# 변수 할당, 함수 호출, 루프, 추가적인 if문 등을 포함\n",
        "\n",
        "def f():\n",
        "    return True\n",
        "\n",
        "if f() or f():\n",
        "    print('hello')"
      ],
      "metadata": {
        "colab": {
          "base_uri": "https://localhost:8080/"
        },
        "id": "IYwf6KIwvf1p",
        "outputId": "ea9f2374-0360-47ad-9de9-220d30391d9f"
      },
      "execution_count": 17,
      "outputs": [
        {
          "output_type": "stream",
          "name": "stdout",
          "text": [
            "hello\n"
          ]
        }
      ]
    },
    {
      "cell_type": "code",
      "source": [
        "# 단축평가\n",
        "# 논리 연산에서 두 번째 인수의 평가가 첫 번째 인수의 결과에 따라 달라지는 방식\n",
        "# and & or 연산자가 이러한 평가를 수행\n",
        "\n",
        "# f()함수 아규먼트x, 파라미터x\n",
        "def f():\n",
        "    return True # True가 무조건 반환되는 함수"
      ],
      "metadata": {
        "id": "3ifp8PFSxlAL"
      },
      "execution_count": 21,
      "outputs": []
    },
    {
      "cell_type": "code",
      "source": [
        "def ff():\n",
        "    x = 100 / 0 # error\n",
        "    return 'hello'"
      ],
      "metadata": {
        "id": "zJ93n2K3x-DY"
      },
      "execution_count": 22,
      "outputs": []
    },
    {
      "cell_type": "code",
      "source": [
        "if f() or ff():\n",
        "    print('hello') # 출력: hello"
      ],
      "metadata": {
        "colab": {
          "base_uri": "https://localhost:8080/"
        },
        "id": "keHue5OHyx8b",
        "outputId": "fdcd6215-2730-46a7-a94a-502bc3afbb06"
      },
      "execution_count": 23,
      "outputs": [
        {
          "output_type": "stream",
          "name": "stdout",
          "text": [
            "hello\n"
          ]
        }
      ]
    },
    {
      "cell_type": "code",
      "source": [
        "# 삼항 연산자\n",
        "\n",
        "x = 5\n",
        "y = 10\n",
        "\n",
        "# 맞았을 때 조건 / if / 조건 / else / 틀렷을 때 조건\n",
        "result = 'x가 더 큽니다' if x > y else 'y와 같거나 y가 더 큽니다.'\n",
        "print(result) # 출력: 'y와 같거나 y가 더 큽니다.'"
      ],
      "metadata": {
        "colab": {
          "base_uri": "https://localhost:8080/"
        },
        "id": "eI1piFpGy0Pu",
        "outputId": "dbd1f4f3-24db-4760-8f63-b881d46c1de2"
      },
      "execution_count": 24,
      "outputs": [
        {
          "output_type": "stream",
          "name": "stdout",
          "text": [
            "y와 같거나 y가 더 큽니다.\n"
          ]
        }
      ]
    },
    {
      "cell_type": "markdown",
      "source": [
        "### + 람다함수 (람다식)\n",
        "\n",
        "- 익명함수 - 한줄로 표현, 임시 함수를 만들 때 사용"
      ],
      "metadata": {
        "id": "mxso7ZE40SGS"
      }
    },
    {
      "cell_type": "code",
      "source": [
        "# 람다 예시\n",
        "\n",
        "'''\n",
        "def sum(x, y) :\n",
        "    z = x + y\n",
        "    return z\n",
        "sum(5, 3)\n",
        "'''\n",
        "\n",
        "add = lambda z, y : x + y\n",
        "print(add(5, 3))"
      ],
      "metadata": {
        "colab": {
          "base_uri": "https://localhost:8080/"
        },
        "id": "4PutO21H0edt",
        "outputId": "847859f5-04f2-4afb-be32-1d6e8ef93785"
      },
      "execution_count": 26,
      "outputs": [
        {
          "output_type": "stream",
          "name": "stdout",
          "text": [
            "8\n"
          ]
        }
      ]
    },
    {
      "cell_type": "code",
      "source": [
        "# 조건문과 람다함수\n",
        "# 짝수와 홀수\n",
        "\n",
        "my_function = lambda x: 'Even' if x % 2 == 0 else 'Odd'"
      ],
      "metadata": {
        "id": "MyXUVEgSzZ-o"
      },
      "execution_count": 28,
      "outputs": []
    },
    {
      "cell_type": "code",
      "source": [
        "# 딕셔너리\n",
        "# 컴프리헨션을 사용하여 조건문을 기반으로 딕셔너리를 생성 가능\n",
        "my_dict = {x: 'Even' if x % 2 == 0 else 'Odd' for x in range(10)}"
      ],
      "metadata": {
        "id": "7gFrp92A1pLH"
      },
      "execution_count": 27,
      "outputs": []
    },
    {
      "cell_type": "code",
      "source": [],
      "metadata": {
        "id": "G9OrjWbC1xcD"
      },
      "execution_count": null,
      "outputs": []
    }
  ]
}