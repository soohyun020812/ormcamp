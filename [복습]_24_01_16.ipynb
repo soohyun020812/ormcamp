{
  "nbformat": 4,
  "nbformat_minor": 0,
  "metadata": {
    "colab": {
      "provenance": []
    },
    "kernelspec": {
      "name": "python3",
      "display_name": "Python 3"
    },
    "language_info": {
      "name": "python"
    }
  },
  "cells": [
    {
      "cell_type": "markdown",
      "source": [
        "### **문제 1 : 함수를 인자로 받는 고차함수**\n",
        "\n",
        "주어진 리스트와 함수를 인자로 받아, 리스트의 각 요소에 해당 함수를 적용한 결과를 반환하는 고차함수 apply_function을 작성해주세요.\n",
        "\n",
        "    def apply_function(lst, func):\n",
        "        pass\n",
        "\n",
        "### 예제 사용\n",
        "result = apply_function([1, 2, 3, 4], lambda x: x * 2)\n",
        "\n",
        "print(result) # [2, 4, 6, 8]이 출력되어야 함\n",
        "\n",
        "\n",
        "### **문제 2 : 함수를 반환하는 고차함수**\n",
        "\n",
        "정수 n을 인자로 받아, 다른 정수 x에 n을 곱하는 함수를 반환하는 고차함수 multiply_by_n을 작성해주세요. 힌트를 드리자면 반환 값은 lambda여야 합니다.\n",
        "\n",
        "    def multiply_by_n(n):\n",
        "        pass\n",
        "\n",
        "### 예제 사용\n",
        "multiplier = multiply_by_n(5)\n",
        "\n",
        "print(multiplier(3)) # 15가 출력되어야 함"
      ],
      "metadata": {
        "id": "-tE4EytHMccC"
      }
    },
    {
      "cell_type": "code",
      "source": [
        "# 리스트와 함수를 인자로 받아, 리스트의 각 요소에 해당 함수를 적용한 결과를 반환하는 고차함수\n",
        "def apply_function(lst, func):\n",
        "    # 리스트 컴프리헨션을 사용,\n",
        "    # 함수 func를 리스트 lst의 각 요소에 적용한 결과를 새로운 리스트로 반환\n",
        "    return [func(i) for i in lst]\n",
        "\n",
        "result = apply_function([1, 2, 3, 4], lambda x: x * 2)\n",
        "print(result)"
      ],
      "metadata": {
        "colab": {
          "base_uri": "https://localhost:8080/"
        },
        "id": "0kH5bNgsz9Cs",
        "outputId": "643f1bb2-e35c-4d2c-d4eb-4d70eb19bf11"
      },
      "execution_count": 9,
      "outputs": [
        {
          "output_type": "stream",
          "name": "stdout",
          "text": [
            "[2, 4, 6, 8]\n"
          ]
        }
      ]
    },
    {
      "cell_type": "code",
      "source": [
        "# 정수 n을 인자로 받아, 다른 정수 x에 n을 곱하는 함수를 반환하는 고차함수\n",
        "def multiply_by_n(n):\n",
        "    # n은 multiply_by_n 함수가 호출될 때 결정\n",
        "    return lambda x: n * x\n",
        "\n",
        "multiplier = multiply_by_n(5)\n",
        "print(multiplier(3))"
      ],
      "metadata": {
        "colab": {
          "base_uri": "https://localhost:8080/"
        },
        "id": "MyVOX32Jz9nt",
        "outputId": "7a6a40ae-76fb-45ab-cef9-7f48fee6041e"
      },
      "execution_count": 10,
      "outputs": [
        {
          "output_type": "stream",
          "name": "stdout",
          "text": [
            "15\n"
          ]
        }
      ]
    },
    {
      "cell_type": "code",
      "source": [],
      "metadata": {
        "id": "zS0Nsi7K0MKW"
      },
      "execution_count": null,
      "outputs": []
    }
  ]
}