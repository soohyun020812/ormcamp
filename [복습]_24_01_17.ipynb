{
  "nbformat": 4,
  "nbformat_minor": 0,
  "metadata": {
    "colab": {
      "provenance": []
    },
    "kernelspec": {
      "name": "python3",
      "display_name": "Python 3"
    },
    "language_info": {
      "name": "python"
    }
  },
  "cells": [
    {
      "cell_type": "markdown",
      "source": [
        "### 1. 데코레이터 문제: 1부터 100까지 더하는 함수를 만들고 이 함수에 데코레이터를 실행시켜 몇 초가 걸리는지 확인해주세요. 아래 힌트 코드 입니다.\n",
        "\n",
        "    import time\n",
        "\n",
        "    def time_decorator(func):\n",
        "        def wrapper():\n",
        "            start_time = time.time()\n",
        "            result = func()\n",
        "            end_time = time.time()\n",
        "            print(f\"함수가 {end_time - start_time} 초가 걸렸습니다.\")\n",
        "            return result\n",
        "        return wrapper\n",
        "\n",
        "### 2. 제너레이터 문제: 0부터 시작하여, 매 호출 시마다 2씩 증가하는 값을 반환하는 제너레이터 함수를 작성하세요. 100이 되면 멈춰야 합니다.\n",
        "\n",
        "    for i in gen():\n",
        "        print(i)\n",
        "\n",
        "### 3. 예외처리 문제: 사용자로부터 두 개의 숫자를 입력받아 나눗셈을 수행하는 함수를 작성하세요. 이 때 0으로 나눌 때에는 예외처리를 해주세요.\n",
        "\n",
        "    def divide(x, y):\n",
        "        return x / y"
      ],
      "metadata": {
        "id": "-tE4EytHMccC"
      }
    },
    {
      "cell_type": "code",
      "source": [
        "import time\n",
        "\n",
        "def time_decorator(func):\n",
        "    def wrapper():\n",
        "        # 함수 실행 전 현재 시간 기록\n",
        "        start_time = time.time()\n",
        "        # 데코레이트된 함수 실행\n",
        "        result = func()\n",
        "        # 함수 실행 후 현재 시간 기록\n",
        "        end_time = time.time()\n",
        "        # 걸린 시간 출력\n",
        "        print(f\"함수가 {end_time - start_time} 초가 걸렸습니다.\")\n",
        "        # 결과 반환\n",
        "        return result\n",
        "    # 데코레이터 적용 함수 반환\n",
        "    return wrapper\n",
        "\n",
        "# @time_decorator를 사용하여 데코레이터를 적용\n",
        "@time_decorator\n",
        "def sum_1_to_100():\n",
        "    total = 0\n",
        "    for i in range(1, 101):\n",
        "        total += i\n",
        "    return total\n",
        "\n",
        "# 데코레이터가 적용된 함수 실행\n",
        "result = sum_1_to_100()\n",
        "\n",
        "print(f\"1부터 100까지의 합: {result}\")"
      ],
      "metadata": {
        "id": "zS0Nsi7K0MKW",
        "colab": {
          "base_uri": "https://localhost:8080/"
        },
        "outputId": "5d41e7e4-0ae8-4521-9a3c-76ca11f8190c"
      },
      "execution_count": 1,
      "outputs": [
        {
          "output_type": "stream",
          "name": "stdout",
          "text": [
            "함수가 0.0006198883056640625 초가 걸렸습니다.\n",
            "1부터 100까지의 합: 5050\n"
          ]
        }
      ]
    },
    {
      "cell_type": "code",
      "source": [
        "def gen():\n",
        "    # 시작 값 설정\n",
        "    value = 0\n",
        "    while True:\n",
        "        # 현재 값 반환\n",
        "        yield value\n",
        "        # 2씩 증가\n",
        "        value += 2\n",
        "        # 100이 되면 멈춤\n",
        "        if value > 100:\n",
        "            break\n",
        "\n",
        "for i in gen():\n",
        "    print(i)"
      ],
      "metadata": {
        "colab": {
          "base_uri": "https://localhost:8080/"
        },
        "id": "kEJDAUq5TGPB",
        "outputId": "9f9d7088-6f5d-4180-d53c-2ef8ca432ac4"
      },
      "execution_count": 2,
      "outputs": [
        {
          "output_type": "stream",
          "name": "stdout",
          "text": [
            "0\n",
            "2\n",
            "4\n",
            "6\n",
            "8\n",
            "10\n",
            "12\n",
            "14\n",
            "16\n",
            "18\n",
            "20\n",
            "22\n",
            "24\n",
            "26\n",
            "28\n",
            "30\n",
            "32\n",
            "34\n",
            "36\n",
            "38\n",
            "40\n",
            "42\n",
            "44\n",
            "46\n",
            "48\n",
            "50\n",
            "52\n",
            "54\n",
            "56\n",
            "58\n",
            "60\n",
            "62\n",
            "64\n",
            "66\n",
            "68\n",
            "70\n",
            "72\n",
            "74\n",
            "76\n",
            "78\n",
            "80\n",
            "82\n",
            "84\n",
            "86\n",
            "88\n",
            "90\n",
            "92\n",
            "94\n",
            "96\n",
            "98\n",
            "100\n"
          ]
        }
      ]
    },
    {
      "cell_type": "code",
      "source": [
        "def divide(x, y):\n",
        "    try:\n",
        "        result = x / y\n",
        "    except ZeroDivisionError:\n",
        "        # 0으로 나눌 때 예외 처리\n",
        "        print('0으로 나눌 수 없음')\n",
        "        result = 0\n",
        "    return result\n",
        "\n",
        "print(divide(1, 0))\n",
        "print(divide(4, 3))\n",
        "print(divide(4, 2))"
      ],
      "metadata": {
        "colab": {
          "base_uri": "https://localhost:8080/"
        },
        "id": "z7CheI2xT5wn",
        "outputId": "6cdab624-0a49-4e9d-ac6f-36c4210ca70a"
      },
      "execution_count": 14,
      "outputs": [
        {
          "output_type": "stream",
          "name": "stdout",
          "text": [
            "0으로 나눌 수 없음\n",
            "0\n",
            "1.3333333333333333\n",
            "2.0\n"
          ]
        }
      ]
    },
    {
      "cell_type": "code",
      "source": [],
      "metadata": {
        "id": "rBhGiV4lU1pG"
      },
      "execution_count": null,
      "outputs": []
    }
  ]
}