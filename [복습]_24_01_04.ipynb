{
  "nbformat": 4,
  "nbformat_minor": 0,
  "metadata": {
    "colab": {
      "provenance": [],
      "authorship_tag": "ABX9TyO7fwm+yUklY/RnAsapNITb",
      "include_colab_link": true
    },
    "kernelspec": {
      "name": "python3",
      "display_name": "Python 3"
    },
    "language_info": {
      "name": "python"
    }
  },
  "cells": [
    {
      "cell_type": "markdown",
      "metadata": {
        "id": "view-in-github",
        "colab_type": "text"
      },
      "source": [
        "<a href=\"https://colab.research.google.com/github/soohyun020812/ormcamp/blob/main/%5B%EB%B3%B5%EC%8A%B5%5D_24_01_04.ipynb\" target=\"_parent\"><img src=\"https://colab.research.google.com/assets/colab-badge.svg\" alt=\"Open In Colab\"/></a>"
      ]
    },
    {
      "cell_type": "code",
      "source": [
        "# 문제1\n",
        "\n",
        "a = 100\n",
        "(a > 100) and (a < 200)\n",
        "(a > 100) or (a < 200)\n",
        "(a >= 100) and (a <= 200)\n",
        "(a >= 100) or (a <= 200)"
      ],
      "metadata": {
        "colab": {
          "base_uri": "https://localhost:8080/"
        },
        "id": "Ts1IiIu8Xr-2",
        "outputId": "01b61444-a4a6-4317-a836-60a21714a8c8"
      },
      "execution_count": 4,
      "outputs": [
        {
          "output_type": "execute_result",
          "data": {
            "text/plain": [
              "True"
            ]
          },
          "metadata": {},
          "execution_count": 4
        }
      ]
    },
    {
      "cell_type": "code",
      "execution_count": 3,
      "metadata": {
        "colab": {
          "base_uri": "https://localhost:8080/"
        },
        "id": "qKp0fPinXpJc",
        "outputId": "43df13cd-8a87-465a-be37-a273322a9645"
      },
      "outputs": [
        {
          "output_type": "execute_result",
          "data": {
            "text/plain": [
              "False"
            ]
          },
          "metadata": {},
          "execution_count": 3
        }
      ],
      "source": [
        "# 문제2\n",
        "\n",
        "b = 25\n",
        "(b % 2 == 0) and (b % 5 == 0)"
      ]
    },
    {
      "cell_type": "code",
      "source": [
        "# 문제3\n",
        "\n",
        "c = 1000\n",
        "c // 100"
      ],
      "metadata": {
        "colab": {
          "base_uri": "https://localhost:8080/"
        },
        "id": "kGDdEW1GXtuq",
        "outputId": "0e1d0718-d59b-477f-d1b8-9cee65f11e41"
      },
      "execution_count": 15,
      "outputs": [
        {
          "output_type": "execute_result",
          "data": {
            "text/plain": [
              "10"
            ]
          },
          "metadata": {},
          "execution_count": 15
        }
      ]
    },
    {
      "cell_type": "code",
      "source": [
        "# 문제4\n",
        "# 입력한 금액을 5000원, 1000원, 500원, 100원으로 교환하는 프로그램을 만들어주세요.\n",
        "\n",
        "money = int(input(\"거스름돈을 출력하세요 : \"))"
      ],
      "metadata": {
        "colab": {
          "base_uri": "https://localhost:8080/"
        },
        "id": "x6A9-Gb9b5_L",
        "outputId": "d46f7439-2f54-4960-84fc-8d6fa5c5b7f6"
      },
      "execution_count": 3,
      "outputs": [
        {
          "name": "stdout",
          "output_type": "stream",
          "text": [
            "거스름돈을 출력하세요 : 9980\n"
          ]
        }
      ]
    },
    {
      "cell_type": "code",
      "source": [
        "print(money)"
      ],
      "metadata": {
        "colab": {
          "base_uri": "https://localhost:8080/"
        },
        "id": "mExhNUKAci20",
        "outputId": "fea02c35-bd20-4a54-f62f-fc4b73e51abf"
      },
      "execution_count": 4,
      "outputs": [
        {
          "output_type": "stream",
          "name": "stdout",
          "text": [
            "9980\n"
          ]
        }
      ]
    },
    {
      "cell_type": "code",
      "source": [
        "# 5000으로 나눠서 나눗셈된 값(몫) -> 5000원권 얼마나 거슬러 줘야하는가?\n",
        "num_5000 = money // 5000\n",
        "print(num_5000)"
      ],
      "metadata": {
        "id": "fh0FVe6uclcR",
        "colab": {
          "base_uri": "https://localhost:8080/"
        },
        "outputId": "75e55ca2-c02a-4086-9fcf-38778b3e1b5e"
      },
      "execution_count": 5,
      "outputs": [
        {
          "output_type": "stream",
          "name": "stdout",
          "text": [
            "1\n"
          ]
        }
      ]
    },
    {
      "cell_type": "code",
      "source": [
        "money -= (num_5000 * 5000)\n",
        "print(money)"
      ],
      "metadata": {
        "id": "kUKbracvc0xP",
        "colab": {
          "base_uri": "https://localhost:8080/"
        },
        "outputId": "72e7eb4c-db8c-4874-8663-2c27748c1d76"
      },
      "execution_count": 6,
      "outputs": [
        {
          "output_type": "stream",
          "name": "stdout",
          "text": [
            "4980\n"
          ]
        }
      ]
    },
    {
      "cell_type": "code",
      "source": [
        "# 1000\n",
        "\n",
        "num_1000 = money // 1000\n",
        "money -= (num_1000 * 1000)"
      ],
      "metadata": {
        "id": "3flayCfzc_Yf"
      },
      "execution_count": 7,
      "outputs": []
    },
    {
      "cell_type": "code",
      "source": [
        "print(num_1000, money)"
      ],
      "metadata": {
        "colab": {
          "base_uri": "https://localhost:8080/"
        },
        "id": "JmGquXBudFeO",
        "outputId": "2fe82ab9-c090-49ef-da60-644637635819"
      },
      "execution_count": 8,
      "outputs": [
        {
          "output_type": "stream",
          "name": "stdout",
          "text": [
            "4 980\n"
          ]
        }
      ]
    },
    {
      "cell_type": "code",
      "source": [
        "# 500\n",
        "\n",
        "num_500 = money // 500\n",
        "money -= (num_500 * 500)"
      ],
      "metadata": {
        "id": "fhP9RUnpdIKA"
      },
      "execution_count": 9,
      "outputs": []
    },
    {
      "cell_type": "code",
      "source": [
        "print(num_500, money)"
      ],
      "metadata": {
        "colab": {
          "base_uri": "https://localhost:8080/"
        },
        "id": "u4_zH1xRdM1F",
        "outputId": "5f4b710f-4667-474f-e28f-b735a55c4896"
      },
      "execution_count": 10,
      "outputs": [
        {
          "output_type": "stream",
          "name": "stdout",
          "text": [
            "1 480\n"
          ]
        }
      ]
    },
    {
      "cell_type": "code",
      "source": [
        "# 100\n",
        "\n",
        "num_100 = money // 100\n",
        "money -= (num_100 * 100)\n",
        "print(num_100, money)"
      ],
      "metadata": {
        "colab": {
          "base_uri": "https://localhost:8080/"
        },
        "id": "cqAqbXmldOXD",
        "outputId": "1a6b3d75-9ab6-4e70-cde7-421dd00c78e5"
      },
      "execution_count": 11,
      "outputs": [
        {
          "output_type": "stream",
          "name": "stdout",
          "text": [
            "4 80\n"
          ]
        }
      ]
    },
    {
      "cell_type": "code",
      "source": [
        "# 50\n",
        "\n",
        "num_50 = money // 50\n",
        "money -= (num_50 * 50)\n",
        "print(num_50, money)"
      ],
      "metadata": {
        "colab": {
          "base_uri": "https://localhost:8080/"
        },
        "id": "3vZhk8bXhRpF",
        "outputId": "8b4a5a97-4612-448f-d92f-a6679416b8a3"
      },
      "execution_count": 12,
      "outputs": [
        {
          "output_type": "stream",
          "name": "stdout",
          "text": [
            "1 30\n"
          ]
        }
      ]
    },
    {
      "cell_type": "code",
      "source": [
        "10\n",
        "\n",
        "num_10 = money // 10\n",
        "money -= (num_10 * 10)\n",
        "print(num_10, money)"
      ],
      "metadata": {
        "colab": {
          "base_uri": "https://localhost:8080/"
        },
        "id": "BmS5vny5dR54",
        "outputId": "cb0d2bb4-95ea-4653-bd1b-bb2cc77b960a"
      },
      "execution_count": 13,
      "outputs": [
        {
          "output_type": "stream",
          "name": "stdout",
          "text": [
            "3 0\n"
          ]
        }
      ]
    },
    {
      "cell_type": "code",
      "source": [
        "print(f\"5000원은 {num_5000}개, 1000원은 {num_1000}개, 500원은 {num_500}개, 100원은 {num_100}개, 50원은 {num_50}개, 10원은 {num_10}개 입니다.\") #9,980원"
      ],
      "metadata": {
        "colab": {
          "base_uri": "https://localhost:8080/"
        },
        "id": "E2uqBtZ4dVH_",
        "outputId": "2447d12b-e89d-4665-9426-c20cbf22c535"
      },
      "execution_count": 14,
      "outputs": [
        {
          "output_type": "stream",
          "name": "stdout",
          "text": [
            "5000원은 1개, 1000원은 4개, 500원은 1개, 100원은 4개, 50원은 1개, 10원은 3개 입니다.\n"
          ]
        }
      ]
    },
    {
      "cell_type": "markdown",
      "source": [
        "1. **사용자 입력 받기**:\n",
        "    - **`input()`** 함수를 사용하여 제품의 원가와 할인율을 입력받습니다.\n",
        "2. **문자열을 숫자로 변환**:\n",
        "    - 입력받은 원가와 할인율을 각각 **`float()`** 함수를 사용하여 실수로 변환합니다.\n",
        "3. **할인된 가격 계산**:\n",
        "    - 할인된 가격을 계산하는 공식을 사용합니다. (할인된 가격 = 원가 - (원가 × 할인율 / 100))\n",
        "4. **결과 출력**:\n",
        "    - 계산된 할인된 가격을 **`print()`** 함수를 사용하여 출력합니다."
      ],
      "metadata": {
        "id": "m3hEJM2kfAtA"
      }
    },
    {
      "cell_type": "code",
      "source": [
        "original = float(input(\"제품의 원가를 입력하세요 : \"))\n",
        "discount = float(input(\"제품의 할인율을 입력하세요 : \"))"
      ],
      "metadata": {
        "colab": {
          "base_uri": "https://localhost:8080/"
        },
        "id": "qewf_5OgfHEO",
        "outputId": "c43fa4bd-2ad1-412a-cf48-2494114cd830"
      },
      "execution_count": 59,
      "outputs": [
        {
          "name": "stdout",
          "output_type": "stream",
          "text": [
            "제품의 원가를 입력하세요 : 10000\n",
            "제품의 할인율을 입력하세요 : 10\n"
          ]
        }
      ]
    },
    {
      "cell_type": "code",
      "source": [
        "print(original, discount)"
      ],
      "metadata": {
        "colab": {
          "base_uri": "https://localhost:8080/"
        },
        "id": "CGbB12XliBkG",
        "outputId": "ec4c4f96-829d-45ec-abe8-80b55bd087de"
      },
      "execution_count": 60,
      "outputs": [
        {
          "output_type": "stream",
          "name": "stdout",
          "text": [
            "10000.0 10.0\n"
          ]
        }
      ]
    },
    {
      "cell_type": "code",
      "source": [
        "discount = original - (original * discount/100)"
      ],
      "metadata": {
        "id": "FxA4f7PoiLhw"
      },
      "execution_count": 61,
      "outputs": []
    },
    {
      "cell_type": "code",
      "source": [
        "print(discount)"
      ],
      "metadata": {
        "colab": {
          "base_uri": "https://localhost:8080/"
        },
        "id": "01kdk3g7iZ8S",
        "outputId": "4d52724e-02b5-4f10-947c-4c0b4d6e45ed"
      },
      "execution_count": 62,
      "outputs": [
        {
          "output_type": "stream",
          "name": "stdout",
          "text": [
            "9000.0\n"
          ]
        }
      ]
    },
    {
      "cell_type": "code",
      "source": [
        "print(f\"할인이 적용된 가격은 {int(discount)}원 입니다\")"
      ],
      "metadata": {
        "colab": {
          "base_uri": "https://localhost:8080/"
        },
        "id": "Udtagpdjibl6",
        "outputId": "4ada96c7-7439-4f91-e613-3d1bc9246841"
      },
      "execution_count": 67,
      "outputs": [
        {
          "output_type": "stream",
          "name": "stdout",
          "text": [
            "할인이 적용된 가격은 9000원 입니다\n"
          ]
        }
      ]
    },
    {
      "cell_type": "markdown",
      "source": [
        "1. 사용자 입력 받기:\n",
        "input() 함수를 사용하여 사용자의 이름과 나이를 입력받습니다.\n",
        "2. 문자열을 숫자로 변환:\n",
        "입력받은 나이(문자열)를 int() 함수를 사용하여 정수로 변환합니다.\n",
        "3. 산술 연산 수행:\n",
        "변환된 나이에 1을 더하여 다음 해의 나이를 계산합니다.\n",
        "4. 문자열 길이 계산:\n",
        "len() 함수를 사용하여 사용자 이름의 길이를 계산합니다.\n",
        "5. 성인 여부 판단:\n",
        "나이를 기준으로 성인 여부를 판단하여 불리언 값으로 표시합니다. (예: 18세 이상이면 True, 그렇지 않으면 False)\n",
        "6. 결과 출력:\n",
        "계산된 나이, 이름의 길이, 성인 여부를 print() 함수를 사용하여 출력합니다."
      ],
      "metadata": {
        "id": "9hPr8YhEjHHT"
      }
    },
    {
      "cell_type": "code",
      "source": [
        "# Step 1\n",
        "u_name = input(\"사용자의 이름을 입력해주세요: \")\n",
        "u_age = input(\"사용자의 나이를 입력해주세요: \")\n",
        "\n",
        "# Step 2\n",
        "u_age = int(u_age)\n",
        "\n",
        "# Step 3\n",
        "nxt_age = u_age + 1\n",
        "print(f\"다음 해의 나이는 {nxt_age}살 입니다.\")\n",
        "\n",
        "# Step 4\n",
        "length_name = len(u_name) # 이름의 길이\n",
        "# print(length_name)\n",
        "\n",
        "# Step 5\n",
        "is_adult = u_age >= 18\n",
        "# print(is_adult)\n",
        "\n",
        "# Step 6\n",
        "print(f\"사용자의 나이는 {u_age}이고 이름 길이는 {length_name}입니다. 사용자의 성인 여부는 {is_adult}입니다\")"
      ],
      "metadata": {
        "colab": {
          "base_uri": "https://localhost:8080/"
        },
        "id": "IKfOr3yCihxe",
        "outputId": "6a7cff78-be00-4fba-b8f5-810db1cf06f7"
      },
      "execution_count": 1,
      "outputs": [
        {
          "output_type": "stream",
          "name": "stdout",
          "text": [
            "사용자의 이름을 입력해주세요: 이수현\n",
            "사용자의 나이를 입력해주세요: 22\n",
            "다음 해의 나이는 23살 입니다.\n",
            "사용자의 나이는 22이고 이름 길이는 3입니다. 사용자의 성인 여부는 True입니다\n"
          ]
        }
      ]
    },
    {
      "cell_type": "code",
      "source": [],
      "metadata": {
        "id": "smJ4PYxX4nDd"
      },
      "execution_count": null,
      "outputs": []
    }
  ]
}