{
  "nbformat": 4,
  "nbformat_minor": 0,
  "metadata": {
    "colab": {
      "provenance": []
    },
    "kernelspec": {
      "name": "python3",
      "display_name": "Python 3"
    },
    "language_info": {
      "name": "python"
    }
  },
  "cells": [
    {
      "cell_type": "markdown",
      "source": [
        "문제 4 - 변수의 타입\n",
        "\n",
        "문제 6 - bool\n",
        "\n",
        "문제 7 - 변수명\n",
        "\n",
        "문제 16 - 로꾸꺼\n",
        "\n",
        "문제 22 - 배수\n",
        "\n",
        "문제 24 - 대소문자\n",
        "\n",
        "문제 30 - Index / find\n",
        "\n",
        "문제 31 - 파이썬 자료형의 복잡도\n",
        "\n",
        "문제 32 - 문자열 자료형\n"
      ],
      "metadata": {
        "id": "eJUjVylgu8Z7"
      }
    },
    {
      "cell_type": "code",
      "execution_count": 1,
      "metadata": {
        "colab": {
          "base_uri": "https://localhost:8080/",
          "height": 72
        },
        "id": "gDiYZtznuJVv",
        "outputId": "bf11eae8-fc53-467c-8ac6-f3c1cdc0d583"
      },
      "outputs": [
        {
          "output_type": "execute_result",
          "data": {
            "text/plain": [
              "\"\\n# 문제4 : 변수의 타입2\\n다음 변수 a를 print(type(a))로 넣었을 때 출력될 값과의 연결이 알맞지 않은 것은?\\n\\n1)  입력 : a =1,   출력 : class 'int'\\n2)  입력 : a = 2.22,   출력 : class 'float'\\n3)  입력 : a = 'p',   출력 : class 'char'\\n4)  입력 : a = [1, 2, 3],   출력 : class 'list'\\n\""
            ],
            "application/vnd.google.colaboratory.intrinsic+json": {
              "type": "string"
            }
          },
          "metadata": {},
          "execution_count": 1
        }
      ],
      "source": [
        "'''\n",
        "# 문제4 : 변수의 타입2\n",
        "\n",
        "다음 변수 a를 print(type(a))로 넣었을 때 출력될 값과의 연결이 알맞지 않은 것은?\n",
        "\n",
        "1)  입력 : a =1,   출력 : class 'int'\n",
        "2)  입력 : a = 2.22,   출력 : class 'float'\n",
        "3)  입력 : a = 'p',   출력 : class 'char'\n",
        "4)  입력 : a = [1, 2, 3],   출력 : class 'list'\n",
        "'''\n",
        "\n",
        "# 3번 : 'char'이 아닌 'str'이어야 함"
      ]
    },
    {
      "cell_type": "code",
      "source": [
        "'''\n",
        "# 문제6 : False\n",
        "\n",
        "다음은 파이썬 문법 중에서 False로 취급하는 것들 입니다.\n",
        "앗, False로 취급하지 않는 것이 하나 있네요! **True를 찾아주세요.**\n",
        "\n",
        "1)  None\n",
        "2)  1\n",
        "3)  \"\"\n",
        "4)  0\n",
        "5)  bool(0)\n",
        "'''\n",
        "\n",
        "# 2번"
      ],
      "metadata": {
        "colab": {
          "base_uri": "https://localhost:8080/",
          "height": 53
        },
        "id": "kLthC-1mccpJ",
        "outputId": "b808dafa-8134-42ff-e4d0-5b190477a7dc"
      },
      "execution_count": 2,
      "outputs": [
        {
          "output_type": "execute_result",
          "data": {
            "text/plain": [
              "'\\n# 문제6 : False\\n\\n다음은 파이썬 문법 중에서 False로 취급하는 것들 입니다.\\n앗, False로 취급하지 않는 것이 하나 있네요! **True를 찾아주세요.**\\n\\n1)  None\\n2)  1\\n3)  \"\"\\n4)  0\\n5)  bool(0)\\n'"
            ],
            "application/vnd.google.colaboratory.intrinsic+json": {
              "type": "string"
            }
          },
          "metadata": {},
          "execution_count": 2
        }
      ]
    },
    {
      "cell_type": "code",
      "source": [
        "'''\n",
        "# 문제7 : 변수명\n",
        "\n",
        "다음 중 변수명으로 사용할 수 없는 것 2개를 고르시오.\n",
        "\n",
        "1)  age\n",
        "2)  a\n",
        "3)  as\n",
        "4)  _age\n",
        "5)  1age\n",
        "'''\n",
        "\n",
        "# 3번, 5번"
      ],
      "metadata": {
        "colab": {
          "base_uri": "https://localhost:8080/",
          "height": 53
        },
        "id": "5DyI4DgndCDj",
        "outputId": "dbfba6f7-edff-4282-a2fe-32f77b367c43"
      },
      "execution_count": 3,
      "outputs": [
        {
          "output_type": "execute_result",
          "data": {
            "text/plain": [
              "'\\n# 문제7 : 변수명\\n\\n다음 중 변수명으로 사용할 수 없는 것 2개를 고르시오.\\n\\n1)  age\\n2)  a\\n3)  as\\n4)  _age\\n5)  1age\\n'"
            ],
            "application/vnd.google.colaboratory.intrinsic+json": {
              "type": "string"
            }
          },
          "metadata": {},
          "execution_count": 3
        }
      ]
    },
    {
      "cell_type": "code",
      "source": [
        "'''\n",
        "# 문제16 : 로꾸거\n",
        "\n",
        "문장이 입력되면 거꾸로 출력하는 프로그램을 만들어 봅시다.\n",
        "\n",
        ">> 입력\n",
        "거꾸로\n",
        "​\n",
        ">> 출력\n",
        "로꾸거\n",
        "'''\n",
        "\n",
        "a = input(\"입력해주세요 : \")\n",
        "print(a[::-1])"
      ],
      "metadata": {
        "colab": {
          "base_uri": "https://localhost:8080/"
        },
        "id": "mij70HYKdodk",
        "outputId": "d41cdbac-fa8f-48bd-ba6b-83c55bf1ee04"
      },
      "execution_count": 5,
      "outputs": [
        {
          "output_type": "stream",
          "name": "stdout",
          "text": [
            "입력해주세요 : 거꾸로\n",
            "로꾸거\n"
          ]
        }
      ]
    },
    {
      "cell_type": "code",
      "source": [
        "'''\n",
        "# 문제22 : 배수인지 확인하기\n",
        "\n",
        "다음 중 변수 i가 6의 배수인지 확인하는 방법으로 올바른 것은?\n",
        "\n",
        "1)  i / 6 == 0\n",
        "2)  i % 6 == 0\n",
        "3)  i & 6 == 0\n",
        "4)  i | 6 == 0\n",
        "5)  i // 6 == 0\n",
        "'''\n",
        "\n",
        "# 2번"
      ],
      "metadata": {
        "colab": {
          "base_uri": "https://localhost:8080/",
          "height": 53
        },
        "id": "g1uw3PzXd48i",
        "outputId": "831df165-215e-43e7-ed7a-bd2b123e7538"
      },
      "execution_count": 6,
      "outputs": [
        {
          "output_type": "execute_result",
          "data": {
            "text/plain": [
              "'\\n# 문제22 : 배수인지 확인하기\\n\\n다음 중 변수 i가 6의 배수인지 확인하는 방법으로 올바른 것은?\\n\\n1)  i / 6 == 0\\n2)  i % 6 == 0\\n3)  i & 6 == 0\\n4)  i | 6 == 0\\n5)  i // 6 == 0\\n'"
            ],
            "application/vnd.google.colaboratory.intrinsic+json": {
              "type": "string"
            }
          },
          "metadata": {},
          "execution_count": 6
        }
      ]
    },
    {
      "cell_type": "code",
      "source": [
        "'''\n",
        "# 문제24 : 대문자로 바꿔주세요!\n",
        "\n",
        "민지는 국제 포럼에서 아르바이트를 하게 되었습니다. 민지는 각 국에서 온 참가자들의 명단을 엑셀로 정리하고 있는데 참가자들 이름이 어떤 이는 전부 소문자, 어떤 이는 전부 대문자로 써져 있는 등 형식이 제각각이었습니다.\n",
        "민지를 위해 이름이 입력되면 전부 대문자로 출력되는 프로그램을 만들어주세요.\n",
        "\n",
        ">> 입력\n",
        "mary\n",
        "​\n",
        ">> 출력\n",
        "MARY\n",
        "'''\n",
        "\n",
        "z = input(\"입력해주세요 : \")\n",
        "print(z.upper())"
      ],
      "metadata": {
        "colab": {
          "base_uri": "https://localhost:8080/"
        },
        "id": "Z9VJ36xeeLMY",
        "outputId": "1d185920-677c-461f-a538-4ecd243d100d"
      },
      "execution_count": 7,
      "outputs": [
        {
          "output_type": "stream",
          "name": "stdout",
          "text": [
            "입력해주세요 : mary\n",
            "MARY\n"
          ]
        }
      ]
    },
    {
      "cell_type": "code",
      "source": [
        "'''\n",
        "# 문제30 : 문자열 속 문자 찾기\n",
        "\n",
        "문자 pineapple에는 apple이라는 문자가 숨어 있습니다. 원범이는 이렇듯 문자열 속에 숨어있는 문자를 찾아보려고 합니다.\n",
        "\n",
        "입력으로 첫 줄에 문자열이 주어지고 둘째 줄에 찾을 문자가 주어지면\n",
        "그 문자가 시작하는 index를 반환하는 프로그램을 만들어 주세요\n",
        "\n",
        ">> 입력\n",
        "pineapple is yummy\n",
        "apple\n",
        "\n",
        ">> 출력\n",
        "4\n",
        "'''\n",
        "\n",
        "data = input(\"입력해주세요 : \")\n",
        "word = input(\"입력해주세요 : \")\n",
        "\n",
        "print(data.find(word))\n",
        "\n",
        "# index와 find의 차이점\n",
        "# find는 찾는 문자가 없는 경우에 -1을 출력, index 찾는 문자가 없는 경우에 ValueError 에러"
      ],
      "metadata": {
        "colab": {
          "base_uri": "https://localhost:8080/"
        },
        "id": "HBQT0NUNeaaN",
        "outputId": "7f25727a-b980-4c73-87c1-aa4aecb1fdba"
      },
      "execution_count": 9,
      "outputs": [
        {
          "output_type": "stream",
          "name": "stdout",
          "text": [
            "입력해주세요 : pineapple is yummy\n",
            "입력해주세요 : apple\n",
            "4\n"
          ]
        }
      ]
    },
    {
      "cell_type": "code",
      "source": [
        "'''\n",
        "# 문제31 : 파이썬 자료형의 복잡도\n",
        "\n",
        "다음 리스트의 내장함수의 시간 복잡도가 O(1)이 아닌것은?\n",
        "\n",
        "1)  l[i]\n",
        "2)  l.append(5)\n",
        "3)  l[a:b]\n",
        "4)  l.pop()\n",
        "5)  l.clear()\n",
        "'''\n",
        "\n",
        "# 3번"
      ],
      "metadata": {
        "colab": {
          "base_uri": "https://localhost:8080/",
          "height": 53
        },
        "id": "ZJxKyJvLe5JM",
        "outputId": "8de187b6-9121-463b-c9ce-768f1b7797b2"
      },
      "execution_count": 10,
      "outputs": [
        {
          "output_type": "execute_result",
          "data": {
            "text/plain": [
              "'\\n# 문제31 : 파이썬 자료형의 복잡도\\n\\n다음 리스트의 내장함수의 시간 복잡도가 O(1)이 아닌것은?\\n\\n1)  l[i]\\n2)  l.append(5)\\n3)  l[a:b]\\n4)  l.pop()\\n5)  l.clear()\\n'"
            ],
            "application/vnd.google.colaboratory.intrinsic+json": {
              "type": "string"
            }
          },
          "metadata": {},
          "execution_count": 10
        }
      ]
    },
    {
      "cell_type": "code",
      "source": [
        "'''\n",
        "# 문제32 : 문자열 만들기\n",
        "\n",
        "취업 준비생인 혜림이는 자기소개서를 쓰고 있습니다. 열심히 자기소개서를 작성하던 도중 혜림이는 자기가 지금까지 단어를 얼마나 적었는지 궁금하게 됩니다.\n",
        "혜림이를 위해 문자열을 입력받으면 단어의 갯수를 출력하는 프로그램을 작성해 주세요.\n",
        "\n",
        ">> 입력\n",
        "안녕하세요. 저는 제주대학교 컴퓨터공학전공 혜림입니다.\n",
        "\n",
        ">> 출력\n",
        "5\n",
        "'''\n",
        "\n",
        "n = input(\"입력해주세요 : \")\n",
        "l = list(n.strip().split())\n",
        "print(len(l))"
      ],
      "metadata": {
        "colab": {
          "base_uri": "https://localhost:8080/"
        },
        "id": "60Hvpa-Zfm_R",
        "outputId": "3ff754b0-f6fd-41d9-c6bf-347edb73dfdd"
      },
      "execution_count": 12,
      "outputs": [
        {
          "output_type": "stream",
          "name": "stdout",
          "text": [
            "입력해주세요 : 안녕하세요. 저는 제주대학교 컴퓨터공학전공 혜림입니다.\n",
            "5\n"
          ]
        }
      ]
    },
    {
      "cell_type": "code",
      "source": [],
      "metadata": {
        "id": "z9qGL14jgQUp"
      },
      "execution_count": null,
      "outputs": []
    }
  ]
}