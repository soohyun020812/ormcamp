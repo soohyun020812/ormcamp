{
  "nbformat": 4,
  "nbformat_minor": 0,
  "metadata": {
    "colab": {
      "provenance": [],
      "authorship_tag": "ABX9TyMPYyGMix/uzmb99CwoNipd",
      "include_colab_link": true
    },
    "kernelspec": {
      "name": "python3",
      "display_name": "Python 3"
    },
    "language_info": {
      "name": "python"
    }
  },
  "cells": [
    {
      "cell_type": "markdown",
      "metadata": {
        "id": "view-in-github",
        "colab_type": "text"
      },
      "source": [
        "<a href=\"https://colab.research.google.com/github/soohyun020812/ormcamp/blob/main/24_01_03_(%EC%82%B0%EC%88%A0)%EC%97%B0%EC%82%B0%EC%9E%90.ipynb\" target=\"_parent\"><img src=\"https://colab.research.google.com/assets/colab-badge.svg\" alt=\"Open In Colab\"/></a>"
      ]
    },
    {
      "cell_type": "markdown",
      "source": [
        "### 연산자\n",
        "- 프로그래밍에서 데이터를 처리하고 분석하는 데 쓰이는 **기호**나 **키워드**\n",
        "\n",
        "- 연산자의 종류는 **산술연산자, 대입연산자(할당연산자), 비교연산자, 논리연산자, 비트연산자, 멤버연산자, 식별연산자**"
      ],
      "metadata": {
        "id": "IYmbmIl49fxK"
      }
    },
    {
      "cell_type": "code",
      "execution_count": null,
      "metadata": {
        "colab": {
          "base_uri": "https://localhost:8080/"
        },
        "id": "anr5SuSq9Wfh",
        "outputId": "dcf39087-e485-4282-ea1f-cf7decd09283"
      },
      "outputs": [
        {
          "output_type": "stream",
          "name": "stdout",
          "text": [
            "8\n"
          ]
        }
      ],
      "source": [
        "# 정수와 정수의 덧셈\n",
        "\n",
        "result = 5 + 3\n",
        "print(result)"
      ]
    },
    {
      "cell_type": "code",
      "source": [
        "# 정수와 실수의 덧셈\n",
        "\n",
        "result = 3 + 2.5\n",
        "print(result)"
      ],
      "metadata": {
        "colab": {
          "base_uri": "https://localhost:8080/"
        },
        "id": "-rsYF9ZL_FV9",
        "outputId": "ef58e454-60b5-4767-ff3f-8a1bc6446313"
      },
      "execution_count": null,
      "outputs": [
        {
          "output_type": "stream",
          "name": "stdout",
          "text": [
            "5.5\n"
          ]
        }
      ]
    },
    {
      "cell_type": "code",
      "source": [
        "s1 = \"Hello\"\n",
        "s2 = \"World\"\n",
        "result = s1 + \" \" + s2\n",
        "\n",
        "print(result)"
      ],
      "metadata": {
        "colab": {
          "base_uri": "https://localhost:8080/"
        },
        "id": "mpoHzXtS_IAl",
        "outputId": "eec66222-a16e-4579-c39f-0448e5834fa8"
      },
      "execution_count": null,
      "outputs": [
        {
          "output_type": "stream",
          "name": "stdout",
          "text": [
            "Hello World\n"
          ]
        }
      ]
    },
    {
      "cell_type": "code",
      "source": [
        "# 리스트 덧셈\n",
        "\n",
        "list1 = [1, 2, 3]\n",
        "list2 = [4, 5, 6]\n",
        "combined_list = list1 + list2\n",
        "print(combined_list)\n",
        "\n",
        "# 튜플 덧셈\n",
        "tuple1 = (1, 2, 3)\n",
        "tuple2 = (4, 5, 6)\n",
        "combined_tuple = tuple1 + tuple2\n",
        "print(combined_tuple)"
      ],
      "metadata": {
        "colab": {
          "base_uri": "https://localhost:8080/"
        },
        "id": "qAJYejWh_Lib",
        "outputId": "bd579ac4-32c1-45f6-8e29-9caca813d378"
      },
      "execution_count": null,
      "outputs": [
        {
          "output_type": "stream",
          "name": "stdout",
          "text": [
            "[1, 2, 3, 4, 5, 6]\n",
            "(1, 2, 3, 4, 5, 6)\n"
          ]
        }
      ]
    },
    {
      "cell_type": "code",
      "source": [
        "# 정수와 정수의 뺄셈\n",
        "\n",
        "result = 7 - 4\n",
        "print(result)\n",
        "\n",
        "# 정수와 실수의 뺄셈\n",
        "\n",
        "result = 10 - 3.5\n",
        "print(result)\n",
        "\n",
        "# 음수와 뺄셈\n",
        "\n",
        "result = 5 - (-3)\n",
        "print(result)"
      ],
      "metadata": {
        "colab": {
          "base_uri": "https://localhost:8080/"
        },
        "id": "4GeqN_S1_V0O",
        "outputId": "2c499756-7897-4300-8e35-cbd8d5aa9791"
      },
      "execution_count": null,
      "outputs": [
        {
          "output_type": "stream",
          "name": "stdout",
          "text": [
            "3\n",
            "6.5\n",
            "8\n"
          ]
        }
      ]
    },
    {
      "cell_type": "code",
      "source": [
        "# set의 뺄셈\n",
        "\n",
        "{3, 4, 5} - {4}"
      ],
      "metadata": {
        "colab": {
          "base_uri": "https://localhost:8080/"
        },
        "id": "QqYUGywi_gG1",
        "outputId": "ad0f6111-9322-42e7-96d8-5a57cc9a2697"
      },
      "execution_count": null,
      "outputs": [
        {
          "output_type": "execute_result",
          "data": {
            "text/plain": [
              "{3, 5}"
            ]
          },
          "metadata": {},
          "execution_count": 8
        }
      ]
    },
    {
      "cell_type": "code",
      "source": [
        "7 - 4 # (-)"
      ],
      "metadata": {
        "colab": {
          "base_uri": "https://localhost:8080/"
        },
        "id": "Qk_fC-r9ALU8",
        "outputId": "6df0d06e-6910-4b7d-ba50-3d45237468ff"
      },
      "execution_count": null,
      "outputs": [
        {
          "output_type": "execute_result",
          "data": {
            "text/plain": [
              "3"
            ]
          },
          "metadata": {},
          "execution_count": 10
        }
      ]
    },
    {
      "cell_type": "code",
      "source": [
        "7 -- 4 # (+)"
      ],
      "metadata": {
        "colab": {
          "base_uri": "https://localhost:8080/"
        },
        "id": "PksH8nKdARSl",
        "outputId": "8374a525-72f9-446f-9fe4-40490cee6a5b"
      },
      "execution_count": null,
      "outputs": [
        {
          "output_type": "execute_result",
          "data": {
            "text/plain": [
              "11"
            ]
          },
          "metadata": {},
          "execution_count": 11
        }
      ]
    },
    {
      "cell_type": "code",
      "source": [
        "7 --- 4 # (-)"
      ],
      "metadata": {
        "colab": {
          "base_uri": "https://localhost:8080/"
        },
        "id": "DVVNkKGKAVJI",
        "outputId": "83d458f9-f524-4cad-c207-916e71c02fe5"
      },
      "execution_count": null,
      "outputs": [
        {
          "output_type": "execute_result",
          "data": {
            "text/plain": [
              "3"
            ]
          },
          "metadata": {},
          "execution_count": 12
        }
      ]
    },
    {
      "cell_type": "code",
      "source": [
        "# 정수와 정수의 곱셈\n",
        "\n",
        "result = 3 * 4\n",
        "print(result)\n",
        "\n",
        "# 정수와 실수의 곱셈\n",
        "\n",
        "result = 5 * 2.5\n",
        "print(result)"
      ],
      "metadata": {
        "colab": {
          "base_uri": "https://localhost:8080/"
        },
        "id": "pg_I4mmQAWW6",
        "outputId": "3577fcbc-19c2-4c67-b8b9-f058bc952076"
      },
      "execution_count": null,
      "outputs": [
        {
          "output_type": "stream",
          "name": "stdout",
          "text": [
            "12\n",
            "12.5\n"
          ]
        }
      ]
    },
    {
      "cell_type": "code",
      "source": [
        "# 문자열 곱셈\n",
        "\n",
        "result = \"Ha\" * 3\n",
        "print(result)"
      ],
      "metadata": {
        "colab": {
          "base_uri": "https://localhost:8080/"
        },
        "id": "UFOhm1yWAk8Q",
        "outputId": "b700df2d-c0f9-4e26-fa72-d7fdd2b5562d"
      },
      "execution_count": null,
      "outputs": [
        {
          "output_type": "stream",
          "name": "stdout",
          "text": [
            "HaHaHa\n"
          ]
        }
      ]
    },
    {
      "cell_type": "code",
      "source": [
        "# 리스트 곱셈\n",
        "\n",
        "result = [1, 2, 3] * 2\n",
        "print(result)"
      ],
      "metadata": {
        "colab": {
          "base_uri": "https://localhost:8080/"
        },
        "id": "oFsEPxWpAr4t",
        "outputId": "f87f3107-c580-40dd-8457-3de0a833858f"
      },
      "execution_count": null,
      "outputs": [
        {
          "output_type": "stream",
          "name": "stdout",
          "text": [
            "[1, 2, 3, 1, 2, 3]\n"
          ]
        }
      ]
    },
    {
      "cell_type": "markdown",
      "source": [
        "##### 나눗셈\n",
        "연산자(/, //)는 두 수를 나누는 연산자\\\n",
        "첫번째 나눗셈 연산자는 항상 float 형식으로 반환\\\n",
        "두번째 나눗셈 연산자는 항상 int형으로 반환\\\n",
        "//는 내림"
      ],
      "metadata": {
        "id": "g2llYjMqAya5"
      }
    },
    {
      "cell_type": "code",
      "source": [
        "# 정수 나눗셈\n",
        "\n",
        "a = 10\n",
        "b = 2\n",
        "\n",
        "print(a / b)\n",
        "print(a // b)"
      ],
      "metadata": {
        "colab": {
          "base_uri": "https://localhost:8080/"
        },
        "id": "kPfG1DNlAvMT",
        "outputId": "629cc429-47b6-434f-b705-895e474a0131"
      },
      "execution_count": null,
      "outputs": [
        {
          "output_type": "stream",
          "name": "stdout",
          "text": [
            "5.0\n",
            "5\n"
          ]
        }
      ]
    },
    {
      "cell_type": "code",
      "source": [
        "# 음수 나눗셈\n",
        "\n",
        "a = -5\n",
        "b = 2\n",
        "\n",
        "print(a / b)\n",
        "print(a // b)"
      ],
      "metadata": {
        "colab": {
          "base_uri": "https://localhost:8080/"
        },
        "id": "nbXipuRzBFRf",
        "outputId": "5b548cc2-5221-4762-b761-43284c7d67fd"
      },
      "execution_count": null,
      "outputs": [
        {
          "output_type": "stream",
          "name": "stdout",
          "text": [
            "-2.5\n",
            "-3\n"
          ]
        }
      ]
    },
    {
      "cell_type": "markdown",
      "source": [
        "나머지 연산자(%)는 한 숫자를 다른 숫자로 나누었을 때의 나머지를 반환하는 연산자"
      ],
      "metadata": {
        "id": "OstDig7dBZCP"
      }
    },
    {
      "cell_type": "code",
      "source": [
        "10 % 3"
      ],
      "metadata": {
        "colab": {
          "base_uri": "https://localhost:8080/"
        },
        "id": "0NkVFvbHBQdl",
        "outputId": "97838c41-1199-4e8f-f385-a715b35db888"
      },
      "execution_count": null,
      "outputs": [
        {
          "output_type": "execute_result",
          "data": {
            "text/plain": [
              "1"
            ]
          },
          "metadata": {},
          "execution_count": 19
        }
      ]
    },
    {
      "cell_type": "code",
      "source": [
        "10 % 2 == 0 # 홀수, 짝수 판별\n",
        "365 % 10 == 0 # 1의 자리 반환"
      ],
      "metadata": {
        "colab": {
          "base_uri": "https://localhost:8080/"
        },
        "id": "tC1h-iKrBgkQ",
        "outputId": "12b753d1-74e2-44ab-e73b-39621fe9400d"
      },
      "execution_count": null,
      "outputs": [
        {
          "output_type": "execute_result",
          "data": {
            "text/plain": [
              "False"
            ]
          },
          "metadata": {},
          "execution_count": 20
        }
      ]
    },
    {
      "cell_type": "code",
      "source": [
        "10 % 3.3"
      ],
      "metadata": {
        "colab": {
          "base_uri": "https://localhost:8080/"
        },
        "id": "fG2gR34mBk82",
        "outputId": "1ba95a04-191d-486b-c75b-dda399ab4cc1"
      },
      "execution_count": null,
      "outputs": [
        {
          "output_type": "execute_result",
          "data": {
            "text/plain": [
              "0.10000000000000053"
            ]
          },
          "metadata": {},
          "execution_count": 21
        }
      ]
    },
    {
      "cell_type": "markdown",
      "source": [
        "제곱 연산자 (**)"
      ],
      "metadata": {
        "id": "tLzoBbuxBuQl"
      }
    },
    {
      "cell_type": "code",
      "source": [
        "10 ** 3"
      ],
      "metadata": {
        "colab": {
          "base_uri": "https://localhost:8080/"
        },
        "id": "cR2_r0EFBofd",
        "outputId": "e64cb418-dd69-4b06-a648-a3aa5715d5ff"
      },
      "execution_count": null,
      "outputs": [
        {
          "output_type": "execute_result",
          "data": {
            "text/plain": [
              "1000"
            ]
          },
          "metadata": {},
          "execution_count": 22
        }
      ]
    },
    {
      "cell_type": "code",
      "source": [
        "4 ** 0.5"
      ],
      "metadata": {
        "colab": {
          "base_uri": "https://localhost:8080/"
        },
        "id": "9Kgr0vaLBw-J",
        "outputId": "79aefa25-08aa-4ffc-9ebf-d4bc9eaf7313"
      },
      "execution_count": null,
      "outputs": [
        {
          "output_type": "execute_result",
          "data": {
            "text/plain": [
              "2.0"
            ]
          },
          "metadata": {},
          "execution_count": 23
        }
      ]
    },
    {
      "cell_type": "code",
      "source": [
        "-2 ** 2\n",
        "\n",
        "# 부호가 나중에 붙기 때문에 음수는 괄호로 묶어야 함"
      ],
      "metadata": {
        "colab": {
          "base_uri": "https://localhost:8080/"
        },
        "id": "qbvq74y9Byek",
        "outputId": "18f934fc-882a-4329-c060-39287d06b1bf"
      },
      "execution_count": null,
      "outputs": [
        {
          "output_type": "execute_result",
          "data": {
            "text/plain": [
              "-4"
            ]
          },
          "metadata": {},
          "execution_count": 24
        }
      ]
    },
    {
      "cell_type": "code",
      "source": [
        "(-2) ** 2"
      ],
      "metadata": {
        "colab": {
          "base_uri": "https://localhost:8080/"
        },
        "id": "tiKqBc37B0oe",
        "outputId": "c0060e18-bc1e-4302-a38e-d031214cbf67"
      },
      "execution_count": null,
      "outputs": [
        {
          "output_type": "execute_result",
          "data": {
            "text/plain": [
              "4"
            ]
          },
          "metadata": {},
          "execution_count": 25
        }
      ]
    },
    {
      "cell_type": "code",
      "source": [],
      "metadata": {
        "id": "T6qrnbGMChgD"
      },
      "execution_count": null,
      "outputs": []
    }
  ]
}