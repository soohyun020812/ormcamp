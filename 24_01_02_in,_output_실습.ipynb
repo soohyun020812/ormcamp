{
  "nbformat": 4,
  "nbformat_minor": 0,
  "metadata": {
    "colab": {
      "provenance": [],
      "authorship_tag": "ABX9TyMgn42H9UzBJhXyPZZPynQ1",
      "include_colab_link": true
    },
    "kernelspec": {
      "name": "python3",
      "display_name": "Python 3"
    },
    "language_info": {
      "name": "python"
    }
  },
  "cells": [
    {
      "cell_type": "markdown",
      "metadata": {
        "id": "view-in-github",
        "colab_type": "text"
      },
      "source": [
        "<a href=\"https://colab.research.google.com/github/soohyun020812/ormcamp/blob/main/24_01_02_in%2C_output_%EC%8B%A4%EC%8A%B5.ipynb\" target=\"_parent\"><img src=\"https://colab.research.google.com/assets/colab-badge.svg\" alt=\"Open In Colab\"/></a>"
      ]
    },
    {
      "cell_type": "markdown",
      "source": [
        "### 2024년 새해 계획 프로그램\n",
        "\n",
        "2024년도 계획을 10문장으로 적고, 그에 따른 중요 부분을 변수로 받아서 Input으로 받는 프로그램 생성\n",
        "\n",
        "1. 나의 2024년도 계획을 적는다.\n",
        "2. 그 중에서 변수로 만들수 있는 것들(input으로 받을 수 있는 것을 비운다.)\n",
        "3. 10 문장에 대해서 똑같이 적용한다. (1개~3개정도 단어)\n",
        "4. 테스트 해본다.\n",
        "5. 코드와 결과를 업로드 한다."
      ],
      "metadata": {
        "id": "RLxKtGF4lPEc"
      }
    },
    {
      "cell_type": "code",
      "source": [
        "#1. 2024년 계획 적기(최소 3가지 ~ 최대 10가지)\n",
        "\n",
        "'''\n",
        "1. 이번 해에는 __을 꾸준히 한다.\n",
        "2. 올해의 목표는 ___ 언어를 배우는 것이다.\n",
        "3. 올해는 ___ 만큼의 금액을 모으는 것이다.\n",
        "'''"
      ],
      "metadata": {
        "id": "xeFASN4iljy-",
        "colab": {
          "base_uri": "https://localhost:8080/",
          "height": 53
        },
        "outputId": "93ac4ba9-ca3f-4508-bcf1-ffc8c2ad1a3d"
      },
      "execution_count": null,
      "outputs": [
        {
          "output_type": "execute_result",
          "data": {
            "text/plain": [
              "'\\n1. 이번 해에는 __을 꾸준히 한다.\\n2. 올해의 목표는 ___ 언어를 배우는 것이다.\\n3. 올해는 ___ 만큼의 금액을 모으는 것이다.\\n'"
            ],
            "application/vnd.google.colaboratory.intrinsic+json": {
              "type": "string"
            }
          },
          "metadata": {},
          "execution_count": 5
        }
      ]
    },
    {
      "cell_type": "markdown",
      "source": [
        "### 하나의 단어를 입력받아서 출력하기"
      ],
      "metadata": {
        "id": "jYuzGDUMsiQ-"
      }
    },
    {
      "cell_type": "code",
      "source": [
        "변수 = input(\"내가 입력받을 값에 대한 질문 : \")"
      ],
      "metadata": {
        "id": "U0WASdaFsnA0",
        "colab": {
          "base_uri": "https://localhost:8080/"
        },
        "outputId": "3156381a-f0b2-475b-ebd9-848a261f3dfb"
      },
      "execution_count": null,
      "outputs": [
        {
          "name": "stdout",
          "output_type": "stream",
          "text": [
            "내가 입력받을 값에 대한 질문 : 이번 해에는 __을 꾸준히 한다.\n"
          ]
        }
      ]
    },
    {
      "cell_type": "code",
      "source": [
        "sentence_1 = input(\"이번 해에는 __을 꾸준히 한다. : \")"
      ],
      "metadata": {
        "colab": {
          "base_uri": "https://localhost:8080/"
        },
        "id": "zXyGY-h4lbaA",
        "outputId": "543e9dbb-60fe-409e-e5ff-edcdf4054899"
      },
      "execution_count": null,
      "outputs": [
        {
          "name": "stdout",
          "output_type": "stream",
          "text": [
            "이번 해에는 __을 꾸준히 한다. : 개발공부\n"
          ]
        }
      ]
    },
    {
      "cell_type": "code",
      "source": [
        "print(sentence_1)"
      ],
      "metadata": {
        "colab": {
          "base_uri": "https://localhost:8080/"
        },
        "id": "-1IdPxkPth72",
        "outputId": "e0cc0208-6887-4f1e-dfe6-adc7fb313e58"
      },
      "execution_count": null,
      "outputs": [
        {
          "output_type": "stream",
          "name": "stdout",
          "text": [
            "개발공부\n"
          ]
        }
      ]
    },
    {
      "cell_type": "code",
      "source": [
        "print(f\"이번 해에는 매일 {sentence_1}를 하기로 했다.\\n\") # \\n은 한칸 띄어쓰기"
      ],
      "metadata": {
        "colab": {
          "base_uri": "https://localhost:8080/"
        },
        "id": "Wb19XB1ql0rx",
        "outputId": "b3d12853-4dc1-4551-caeb-3cef18f94403"
      },
      "execution_count": null,
      "outputs": [
        {
          "output_type": "stream",
          "name": "stdout",
          "text": [
            "이번 해에는 매일 개발공부를 하기로 했다.\n",
            "\n"
          ]
        }
      ]
    },
    {
      "cell_type": "markdown",
      "source": [
        "### 두가지 단어를 한꺼번에 받기"
      ],
      "metadata": {
        "id": "-yRKjulJwsdR"
      }
    },
    {
      "cell_type": "code",
      "source": [
        "sentence_2 = input(\"올해는 ___과 ___에 집중하려고 한다: \")"
      ],
      "metadata": {
        "colab": {
          "base_uri": "https://localhost:8080/"
        },
        "id": "pQWc1dL5mkn0",
        "outputId": "5207ea30-1cdd-4fb3-a271-e24708ea9ea2"
      },
      "execution_count": null,
      "outputs": [
        {
          "name": "stdout",
          "output_type": "stream",
          "text": [
            "올해는 ___과 ___에 집중하려고 한다: 개발과 저축\n"
          ]
        }
      ]
    },
    {
      "cell_type": "code",
      "source": [
        "print(sentence_2)"
      ],
      "metadata": {
        "colab": {
          "base_uri": "https://localhost:8080/"
        },
        "id": "YL2aZdHrw-RM",
        "outputId": "b63585d6-8da3-4b8e-be75-bd1272bad98b"
      },
      "execution_count": null,
      "outputs": [
        {
          "output_type": "stream",
          "name": "stdout",
          "text": [
            "개발과 저축\n"
          ]
        }
      ]
    },
    {
      "cell_type": "code",
      "source": [
        "word_11, word_22 = sentence_2.split()  # 두 단어를 입력받고, (필수) 공백을 기준으로 분리"
      ],
      "metadata": {
        "id": "m9yZJ76_mljt"
      },
      "execution_count": null,
      "outputs": []
    },
    {
      "cell_type": "code",
      "source": [
        "print(f\"올해는 {word_11} {word_22}에 집중하려고 한다.\\n\")"
      ],
      "metadata": {
        "colab": {
          "base_uri": "https://localhost:8080/"
        },
        "id": "FsWu34Vhm0_C",
        "outputId": "b0b9e27f-e5c4-4e45-c149-0e6dd1f5cbbe"
      },
      "execution_count": null,
      "outputs": [
        {
          "output_type": "stream",
          "name": "stdout",
          "text": [
            "올해는 개발과 저축에 집중하려고 한다.\n",
            "\n"
          ]
        }
      ]
    },
    {
      "cell_type": "markdown",
      "source": [
        "### 두가지 값을 입력 받는 법\n",
        "\n",
        "010 #1번\\\n",
        "0000 #1번\\\n",
        "1234 #1번\n",
        "\n",
        "= 010-0000-1234"
      ],
      "metadata": {
        "id": "_IRhc5f_uGvO"
      }
    },
    {
      "cell_type": "code",
      "source": [
        "# 2가지 input 받아보기\n",
        "\n",
        "word1 = input(\"올해는 __ : \")\n",
        "word2 = input(\"__ 에 집중하려고 한다. : \")"
      ],
      "metadata": {
        "colab": {
          "base_uri": "https://localhost:8080/"
        },
        "id": "Tz7PqiqeucJK",
        "outputId": "da0c3f85-1ff7-4f8a-ba54-397fd4f66bfe"
      },
      "execution_count": null,
      "outputs": [
        {
          "name": "stdout",
          "output_type": "stream",
          "text": [
            "올해는 __ : 개발공부랑\n",
            "__ 에 집중하려고 한다. : 저축\n"
          ]
        }
      ]
    },
    {
      "cell_type": "code",
      "source": [
        "# 1. 한문장안에 word1, word2 둘 다 출력하기(가장 기본적인 방법)\n",
        "\n",
        "print(f\"올해는 {word1} {word2}에 집중하려고 한다.\")"
      ],
      "metadata": {
        "colab": {
          "base_uri": "https://localhost:8080/"
        },
        "id": "BHbmrXcem84I",
        "outputId": "0f37cec4-3d61-4f53-be18-c593c209c33c"
      },
      "execution_count": null,
      "outputs": [
        {
          "output_type": "stream",
          "name": "stdout",
          "text": [
            "올해는 개발공부랑 저축에 집중하려고 한다.\n"
          ]
        }
      ]
    },
    {
      "cell_type": "code",
      "source": [
        "# 2. end를 사용해서 다른 두 문장을 합치기\n",
        "\n",
        "print(f\"올해는 {word1}\", end = \" \")\n",
        "print(f\"{word2}에 집중하려고 한다.\")"
      ],
      "metadata": {
        "colab": {
          "base_uri": "https://localhost:8080/"
        },
        "id": "-lTCzkkgnd5H",
        "outputId": "cbdf5105-ef95-40a1-a43c-b784e7baa465"
      },
      "execution_count": null,
      "outputs": [
        {
          "output_type": "stream",
          "name": "stdout",
          "text": [
            "올해는 개발공부랑 저축에 집중하려고 한다.\n"
          ]
        }
      ]
    },
    {
      "cell_type": "code",
      "source": [],
      "metadata": {
        "id": "c-PrIHsPQb7e"
      },
      "execution_count": null,
      "outputs": []
    }
  ]
}