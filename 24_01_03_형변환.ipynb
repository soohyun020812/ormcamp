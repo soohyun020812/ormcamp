{
  "nbformat": 4,
  "nbformat_minor": 0,
  "metadata": {
    "colab": {
      "provenance": [],
      "authorship_tag": "ABX9TyNx68un6Toz/OmHh48Fcloy",
      "include_colab_link": true
    },
    "kernelspec": {
      "name": "python3",
      "display_name": "Python 3"
    },
    "language_info": {
      "name": "python"
    }
  },
  "cells": [
    {
      "cell_type": "markdown",
      "metadata": {
        "id": "view-in-github",
        "colab_type": "text"
      },
      "source": [
        "<a href=\"https://colab.research.google.com/github/soohyun020812/ormcamp/blob/main/24_01_03_%ED%98%95%EB%B3%80%ED%99%98.ipynb\" target=\"_parent\"><img src=\"https://colab.research.google.com/assets/colab-badge.svg\" alt=\"Open In Colab\"/></a>"
      ]
    },
    {
      "cell_type": "code",
      "execution_count": null,
      "metadata": {
        "colab": {
          "base_uri": "https://localhost:8080/"
        },
        "id": "YQ8zR6hXu9Pu",
        "outputId": "3f980cfe-90db-42c3-c56d-6815d08b2fed"
      },
      "outputs": [
        {
          "output_type": "stream",
          "name": "stdout",
          "text": [
            "월급을 입력하세요 : 400\n",
            "4800\n"
          ]
        }
      ],
      "source": [
        "# 형변환 기본 예제\n",
        "\n",
        "월급 = int(input(\"월급을 입력하세요 : \"))\n",
        "연봉 = 월급 * 12\n",
        "\n",
        "print(연봉)"
      ]
    },
    {
      "cell_type": "code",
      "source": [
        "월급 = input(\"월급을 입력하세요 : \")\n",
        "연봉 = int(월급) * 12\n",
        "\n",
        "print(연봉)"
      ],
      "metadata": {
        "colab": {
          "base_uri": "https://localhost:8080/"
        },
        "id": "PwxSzT8tvON-",
        "outputId": "60f7a97a-ea04-4597-c5e3-330dcc419adb"
      },
      "execution_count": null,
      "outputs": [
        {
          "output_type": "stream",
          "name": "stdout",
          "text": [
            "월급을 입력하세요 : 400\n",
            "4800\n"
          ]
        }
      ]
    },
    {
      "cell_type": "markdown",
      "source": [
        "| Built-in Function | 기능 |\n",
        "| --- | --- |\n",
        "| int() | 정수로 변환 |\n",
        "| str() | 문자열로 변환 |\n",
        "| float() | 실수로 변환 |\n",
        "| list() | 리스트로 변환 |\n",
        "| tuple() | 튜플로 변환 |\n",
        "| dict() | 딕셔너리로 변환 |\n",
        "| set() | 셋으로 변환 |"
      ],
      "metadata": {
        "id": "5IUMVagPv7xz"
      }
    },
    {
      "cell_type": "code",
      "source": [
        "# str에서 int로 형변환\n",
        "\n",
        "num = '123'\n",
        "print(type(num))\n",
        "\n",
        "num = int(num)\n",
        "print(type(num))"
      ],
      "metadata": {
        "colab": {
          "base_uri": "https://localhost:8080/"
        },
        "id": "7cf3Pv3evoBz",
        "outputId": "676fc478-3d1d-4b25-f14f-85c3e601c756"
      },
      "execution_count": null,
      "outputs": [
        {
          "output_type": "stream",
          "name": "stdout",
          "text": [
            "<class 'str'>\n",
            "<class 'int'>\n"
          ]
        }
      ]
    },
    {
      "cell_type": "code",
      "source": [
        "# float에서 int로 형변환\n",
        "\n",
        "f = 3.14159\n",
        "number = int(f)\n",
        "\n",
        "print(number)"
      ],
      "metadata": {
        "colab": {
          "base_uri": "https://localhost:8080/"
        },
        "id": "ZWWC7a2MwQEL",
        "outputId": "2f297ff1-a119-429f-a994-ad6da87d7176"
      },
      "execution_count": null,
      "outputs": [
        {
          "output_type": "stream",
          "name": "stdout",
          "text": [
            "3\n"
          ]
        }
      ]
    },
    {
      "cell_type": "code",
      "source": [
        "# bool → int로 형변환\n",
        "\n",
        "true_int = int(True)\n",
        "false_int = int(False)\n",
        "\n",
        "print(true_int)\n",
        "print(false_int)"
      ],
      "metadata": {
        "colab": {
          "base_uri": "https://localhost:8080/"
        },
        "id": "u_Pvm-Lpwa7R",
        "outputId": "8a5f01fe-bebd-44ef-fbd1-05e7bb8a293a"
      },
      "execution_count": null,
      "outputs": [
        {
          "output_type": "stream",
          "name": "stdout",
          "text": [
            "1\n",
            "0\n"
          ]
        }
      ]
    },
    {
      "cell_type": "markdown",
      "source": [
        "**None은 int로 형변환이 불가능함**"
      ],
      "metadata": {
        "id": "ZuuXlRmUwiyx"
      }
    },
    {
      "cell_type": "code",
      "source": [
        "# int와 float을 str으로 변환\n",
        "\n",
        "n = 123\n",
        "print(type(n))\n",
        "\n",
        "m = 123.4\n",
        "print(type(n))\n",
        "\n",
        "n = str(n)\n",
        "print(type(n))\n",
        "\n",
        "m = str(m)\n",
        "print(type(m))"
      ],
      "metadata": {
        "colab": {
          "base_uri": "https://localhost:8080/"
        },
        "id": "-GmpJyQDwhRl",
        "outputId": "4069d570-0b0a-480b-9c77-ce43043e766f"
      },
      "execution_count": null,
      "outputs": [
        {
          "output_type": "stream",
          "name": "stdout",
          "text": [
            "<class 'int'>\n",
            "<class 'int'>\n",
            "<class 'str'>\n",
            "<class 'str'>\n"
          ]
        }
      ]
    },
    {
      "cell_type": "markdown",
      "source": [
        "bool형으로 형변환\n",
        "\n",
        "- `bool()` 함수는 다양한 파이썬 데이터 타입을 불리언(`True` 또는 `False`) 값으로 변환\n",
        "- 이 변환의 핵심은 대부분의 값들이 어떻게 `True` 또는 `False`\n",
        "\n",
        "1. 조건문의 명확성 : 조건문 다음에 값이 True, False로 평가되는 것에 따라 분기가 달라짐\n",
        "2. 데이터 유효성 검사 : 많은 경우에, 데이터가 존재하거나 유효한지 확인 해야 함\n",
        "3. 값의 존재 여부 판단 : 파이썬에서는 빈 문자열, 빈 리스트, 0, None 등이 `False`로 평가됨, 이 특징을 이용하면 값의 존재 여부나 유효성을 간편하게 판단할 수 있음"
      ],
      "metadata": {
        "id": "ktv7xICXxdwv"
      }
    },
    {
      "cell_type": "code",
      "source": [
        "print(\"bool('test'):\", bool('test'))\n",
        "print(\"bool(' '):\", bool(' '))\n",
        "print(\"bool(''):\", bool(''))\n",
        "print(\"bool(100):\", bool(100))\n",
        "print(\"bool(1):\", bool(1))\n",
        "print(\"bool(0):\", bool(0))\n",
        "print(\"bool(-1):\", bool(-1))\n",
        "print(\"bool(None):\", bool(None))\n",
        "print(\"bool([]):\", bool([]))\n",
        "print(\"bool(tuple()):\", bool(tuple()))\n",
        "print(\"bool({}):\", bool({}))\n",
        "print(\"bool(set()):\", bool(set()))"
      ],
      "metadata": {
        "colab": {
          "base_uri": "https://localhost:8080/"
        },
        "id": "XoVvcLsmyOWk",
        "outputId": "e20ccc4d-1ed2-4ca8-e1b5-3671ebff259a"
      },
      "execution_count": null,
      "outputs": [
        {
          "output_type": "stream",
          "name": "stdout",
          "text": [
            "bool('test'): True\n",
            "bool(' '): True\n",
            "bool(''): False\n",
            "bool(100): True\n",
            "bool(1): True\n",
            "bool(0): False\n",
            "bool(-1): True\n",
            "bool(None): False\n",
            "bool([]): False\n",
            "bool(tuple()): False\n",
            "bool({}): False\n",
            "bool(set()): False\n"
          ]
        }
      ]
    },
    {
      "cell_type": "code",
      "source": [
        "# float형으로 형변환\n",
        "\n",
        "s = 10\n",
        "print(float(s))\n",
        "\n",
        "s = '10'\n",
        "print(float(s))\n",
        "\n",
        "s = '3.14'\n",
        "print(float(s))"
      ],
      "metadata": {
        "colab": {
          "base_uri": "https://localhost:8080/"
        },
        "id": "SrbI5ZRUyTAg",
        "outputId": "ccf017b7-d3ac-494b-d53b-d4e049ed63ed"
      },
      "execution_count": null,
      "outputs": [
        {
          "output_type": "stream",
          "name": "stdout",
          "text": [
            "10.0\n",
            "10.0\n",
            "3.14\n"
          ]
        }
      ]
    },
    {
      "cell_type": "code",
      "source": [
        "# inf, -inf, nan 같은 특별한 문자열은 float()를 사용해 변환\n",
        "\n",
        "infinity = float('inf')\n",
        "neg_infinity = float('-inf')\n",
        "not_a_number = float('nan')"
      ],
      "metadata": {
        "id": "s86zVS5X7kgm"
      },
      "execution_count": null,
      "outputs": []
    },
    {
      "cell_type": "code",
      "source": [
        "#  정수와 실수의 나눗셈 같은 경우 항상 float를 반환\n",
        "\n",
        "10 / 1"
      ],
      "metadata": {
        "colab": {
          "base_uri": "https://localhost:8080/"
        },
        "id": "ra2OOpvK7tOy",
        "outputId": "05d87ebb-dc0d-4da8-9b41-e681456ac497"
      },
      "execution_count": null,
      "outputs": [
        {
          "output_type": "execute_result",
          "data": {
            "text/plain": [
              "10.0"
            ]
          },
          "metadata": {},
          "execution_count": 21
        }
      ]
    },
    {
      "cell_type": "code",
      "source": [
        "# str를 list로 변환\n",
        "\n",
        "s = '10'\n",
        "print(list(s))\n",
        "\n",
        "name = 'licat'\n",
        "print(list(name))"
      ],
      "metadata": {
        "colab": {
          "base_uri": "https://localhost:8080/"
        },
        "id": "SClDL6vz7w0n",
        "outputId": "8dd6b647-1e76-4997-9901-ae75194ae979"
      },
      "execution_count": null,
      "outputs": [
        {
          "output_type": "stream",
          "name": "stdout",
          "text": [
            "['1', '0']\n",
            "['l', 'i', 'c', 'a', 't']\n"
          ]
        }
      ]
    },
    {
      "cell_type": "code",
      "source": [
        "# int를 list로 변환\n",
        "\n",
        "n = 10\n",
        "# print(list(n)) # error\n",
        "# 정수형은 list로 변환이 가능하지 않음"
      ],
      "metadata": {
        "id": "pCsOrQfa72QY"
      },
      "execution_count": null,
      "outputs": []
    },
    {
      "cell_type": "code",
      "source": [
        "# tuple형으로 형변환\n",
        "\n",
        "name = 'licat'\n",
        "tuple(name)"
      ],
      "metadata": {
        "colab": {
          "base_uri": "https://localhost:8080/"
        },
        "id": "dad07kKH77T7",
        "outputId": "0d1b084a-9851-4bdb-be31-1cbeb8bca6ce"
      },
      "execution_count": null,
      "outputs": [
        {
          "output_type": "execute_result",
          "data": {
            "text/plain": [
              "('l', 'i', 'c', 'a', 't')"
            ]
          },
          "metadata": {},
          "execution_count": 25
        }
      ]
    },
    {
      "cell_type": "code",
      "source": [
        "# dict형으로 형변환\n",
        "\n",
        "# name = 'licat' # error\n",
        "# dict(name)\n",
        "# 딕셔너리 자료형은 key와 value로 이루어져서 일반 문자열은 변환이 되지 않음"
      ],
      "metadata": {
        "id": "Dob2nIfu8DC6"
      },
      "execution_count": null,
      "outputs": []
    },
    {
      "cell_type": "code",
      "source": [
        "data = [('name','licat'),('age',10)]\n",
        "d = dict(data)\n",
        "d"
      ],
      "metadata": {
        "colab": {
          "base_uri": "https://localhost:8080/"
        },
        "id": "yL8m1MFC8Hn6",
        "outputId": "b578fc3d-81c9-4046-a976-985e3023c962"
      },
      "execution_count": null,
      "outputs": [
        {
          "output_type": "execute_result",
          "data": {
            "text/plain": [
              "{'name': 'licat', 'age': 10}"
            ]
          },
          "metadata": {},
          "execution_count": 28
        }
      ]
    },
    {
      "cell_type": "code",
      "source": [
        "# set형으로 형변환\n",
        "\n",
        "s = 'weniv CEO licat'\n",
        "print(set(s)) # 중복을 허락하지 않고 순서가 없음\n",
        "print(len(set(s))) # 중복을 제거한 상태로의 길이를 알려줌\n",
        "print(len(s))"
      ],
      "metadata": {
        "colab": {
          "base_uri": "https://localhost:8080/"
        },
        "id": "Kes4_Bub8TJU",
        "outputId": "4008e8ba-abd7-4ba0-bdfc-874e026ff051"
      },
      "execution_count": null,
      "outputs": [
        {
          "output_type": "stream",
          "name": "stdout",
          "text": [
            "{'c', 'a', 'n', 'C', 't', 'e', 'E', 'v', 'i', 'l', 'w', 'O', ' '}\n",
            "13\n",
            "15\n"
          ]
        }
      ]
    },
    {
      "cell_type": "code",
      "source": [
        "# + 문자열에 닷(.)이 포함되어 있으면 정수로 변환되지 않음\n",
        "\n",
        "'''\n",
        "x = 1.0\n",
        "x = str(x)\n",
        "print(int(x))\n",
        "'''\n",
        "\n",
        "# 조건을 만들어 형변환을 진행 or float형으로 먼저 변환 후 int로 변환해야 함\n",
        "\n",
        "x = 1.0\n",
        "x = str(x)\n",
        "if x.find('.') == -1:\n",
        "    print(int(x))\n",
        "else:\n",
        "    print(float(x))"
      ],
      "metadata": {
        "colab": {
          "base_uri": "https://localhost:8080/"
        },
        "id": "a_clkZx-8cZ2",
        "outputId": "eb4bcad0-e0a4-4fd4-cefb-aed47a665d18"
      },
      "execution_count": null,
      "outputs": [
        {
          "output_type": "stream",
          "name": "stdout",
          "text": [
            "1.0\n"
          ]
        }
      ]
    },
    {
      "cell_type": "code",
      "source": [
        "x = 1.0\n",
        "x = str(x)\n",
        "int(float(x))"
      ],
      "metadata": {
        "colab": {
          "base_uri": "https://localhost:8080/"
        },
        "id": "OKQcFgIM8ltN",
        "outputId": "92d931c8-5534-4063-e36f-2dd4df6a50be"
      },
      "execution_count": null,
      "outputs": [
        {
          "output_type": "execute_result",
          "data": {
            "text/plain": [
              "1"
            ]
          },
          "metadata": {},
          "execution_count": 33
        }
      ]
    },
    {
      "cell_type": "code",
      "source": [
        "# map 형변환\n",
        "\n",
        "list(map(int, ['10', '20', '30']))"
      ],
      "metadata": {
        "colab": {
          "base_uri": "https://localhost:8080/"
        },
        "id": "HBI_XGSZ8yVj",
        "outputId": "ec6623c3-e817-4130-bddb-9b142d66c840"
      },
      "execution_count": null,
      "outputs": [
        {
          "output_type": "execute_result",
          "data": {
            "text/plain": [
              "[10, 20, 30]"
            ]
          },
          "metadata": {},
          "execution_count": 36
        }
      ]
    },
    {
      "cell_type": "code",
      "source": [
        "list(map(int, '12345'))"
      ],
      "metadata": {
        "colab": {
          "base_uri": "https://localhost:8080/"
        },
        "id": "6joGLrsE89dY",
        "outputId": "e28fc9ec-83c2-44b7-d673-fc893370323b"
      },
      "execution_count": null,
      "outputs": [
        {
          "output_type": "execute_result",
          "data": {
            "text/plain": [
              "[1, 2, 3, 4, 5]"
            ]
          },
          "metadata": {},
          "execution_count": 37
        }
      ]
    },
    {
      "cell_type": "code",
      "source": [],
      "metadata": {
        "id": "kLy86krxIqYo"
      },
      "execution_count": null,
      "outputs": []
    }
  ]
}