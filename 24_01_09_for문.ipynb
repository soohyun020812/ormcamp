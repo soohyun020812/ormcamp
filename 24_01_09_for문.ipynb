{
  "nbformat": 4,
  "nbformat_minor": 0,
  "metadata": {
    "colab": {
      "provenance": []
    },
    "kernelspec": {
      "name": "python3",
      "display_name": "Python 3"
    },
    "language_info": {
      "name": "python"
    }
  },
  "cells": [
    {
      "cell_type": "markdown",
      "source": [
        "### for문\n",
        "    - 특정 범위나 순서열(ex 리스트, 문자열 등)을 순회하며 순서열의 끝에 도달하면 반복을 멈춤\n",
        "    - 객체를 처음부터 끝까지 하나씩 추출하며 순회하기 때문에 다양한 방식으로 활용"
      ],
      "metadata": {
        "id": "DSVIUDFQqi-g"
      }
    },
    {
      "cell_type": "markdown",
      "source": [
        "```\n",
        "# for문의 기본구조\n",
        "\n",
        "for 변수명 in 순회_가능한_객체 :\n",
        "    pass # 수행할_문장\n",
        "```"
      ],
      "metadata": {
        "id": "JLz_nebTqzrR"
      }
    },
    {
      "cell_type": "code",
      "source": [
        "# 시퀀스 자료형에 대표적인 문자열 순회\n",
        "\n",
        "for x in 'hello': # 순회 가능한 객체가 들어갑니다.\n",
        "    print(f'현재 값은 {x} 입니다.')\n",
        "\n",
        "# 반복문에서는 i, j, k를 많이 사용"
      ],
      "metadata": {
        "colab": {
          "base_uri": "https://localhost:8080/"
        },
        "id": "tInSGgWwrC-g",
        "outputId": "92bd268f-5ed7-44aa-b4f6-e818d5a693dc"
      },
      "execution_count": 1,
      "outputs": [
        {
          "output_type": "stream",
          "name": "stdout",
          "text": [
            "현재 값은 h 입니다.\n",
            "현재 값은 e 입니다.\n",
            "현재 값은 l 입니다.\n",
            "현재 값은 l 입니다.\n",
            "현재 값은 o 입니다.\n"
          ]
        }
      ]
    },
    {
      "cell_type": "code",
      "source": [
        "#시퀀스 자료형인 튜플을 반복\n",
        "\n",
        "for x in (1, 2, 3, 4, 5):\n",
        "    print(f'현재 값은 {x} 입니다.')"
      ],
      "metadata": {
        "colab": {
          "base_uri": "https://localhost:8080/"
        },
        "id": "MnU-61VLrGry",
        "outputId": "79c65451-5dc5-4a21-ae48-7603b6bf338a"
      },
      "execution_count": 2,
      "outputs": [
        {
          "output_type": "stream",
          "name": "stdout",
          "text": [
            "현재 값은 1 입니다.\n",
            "현재 값은 2 입니다.\n",
            "현재 값은 3 입니다.\n",
            "현재 값은 4 입니다.\n",
            "현재 값은 5 입니다.\n"
          ]
        }
      ]
    },
    {
      "cell_type": "code",
      "source": [
        "# 문자열(str) 자료형을 범위로 지정한 예시\n",
        "# 문자열 s를 순회하면서 각 문자를 i 변수에 할당하여 문자를 출력\n",
        "\n",
        "s = 'hello world'\n",
        "for i in s:\n",
        "    print(i)"
      ],
      "metadata": {
        "colab": {
          "base_uri": "https://localhost:8080/"
        },
        "id": "yLFoam38rC6L",
        "outputId": "257b6243-9e5d-4d8a-d28a-acaa69fca7d4"
      },
      "execution_count": 3,
      "outputs": [
        {
          "output_type": "stream",
          "name": "stdout",
          "text": [
            "h\n",
            "e\n",
            "l\n",
            "l\n",
            "o\n",
            " \n",
            "w\n",
            "o\n",
            "r\n",
            "l\n",
            "d\n"
          ]
        }
      ]
    },
    {
      "cell_type": "code",
      "source": [
        "# 숫자를 모두 더하는 예제\n",
        "\n",
        "s = '123'\n",
        "result = 0\n",
        "for i in s:\n",
        "    result += int(i)\n",
        "\n",
        "print(result)"
      ],
      "metadata": {
        "colab": {
          "base_uri": "https://localhost:8080/"
        },
        "id": "Pe1jSbVVrgmG",
        "outputId": "1f8f5f11-bf3b-4ff8-9857-b07860a2b959"
      },
      "execution_count": 4,
      "outputs": [
        {
          "output_type": "stream",
          "name": "stdout",
          "text": [
            "6\n"
          ]
        }
      ]
    },
    {
      "cell_type": "code",
      "source": [
        "# 리스트(list) 자료형을 범위로 지정한 예시\n",
        "# 리스트의 각 요소를 순회하면서 출력\n",
        "\n",
        "l = ['one', 'two', 'three']\n",
        "for i in l:\n",
        "    print(i)"
      ],
      "metadata": {
        "colab": {
          "base_uri": "https://localhost:8080/"
        },
        "id": "Ii7hv19qro1-",
        "outputId": "a397ef1d-c5eb-4ae5-a4a6-cb0afc986330"
      },
      "execution_count": 5,
      "outputs": [
        {
          "output_type": "stream",
          "name": "stdout",
          "text": [
            "one\n",
            "two\n",
            "three\n"
          ]
        }
      ]
    },
    {
      "cell_type": "code",
      "source": [
        "# 사전(dict) 자료형을 범위로 지정한 예시\n",
        "# for 문을 이용하여 dict 자료형을 순회하면 key(키)만을 가져옴\n",
        "\n",
        "단어_사전 = {\n",
        "    '하나' : 'one',\n",
        "    '둘' : 'two',\n",
        "    '셋' : 'three',\n",
        "}\n",
        "\n",
        "for i in 단어_사전:\n",
        "    print(i)"
      ],
      "metadata": {
        "colab": {
          "base_uri": "https://localhost:8080/"
        },
        "id": "na3VD6FqrvmA",
        "outputId": "53b7c1bf-2659-412a-c9a8-1e522362f692"
      },
      "execution_count": 6,
      "outputs": [
        {
          "output_type": "stream",
          "name": "stdout",
          "text": [
            "하나\n",
            "둘\n",
            "셋\n"
          ]
        }
      ]
    },
    {
      "cell_type": "code",
      "source": [
        "# key(키)에 해당하는 value(값) 또한 가져오고 싶다면 아래와 같이 튜플 언패킹 사용\n",
        "\n",
        "for key, value in 단어_사전.items():\n",
        "    print(f'{key} : {value}')"
      ],
      "metadata": {
        "colab": {
          "base_uri": "https://localhost:8080/"
        },
        "id": "MHZ3W72Ar2lC",
        "outputId": "dbf3450b-6068-4113-9e5c-7a0f471a5d27"
      },
      "execution_count": 7,
      "outputs": [
        {
          "output_type": "stream",
          "name": "stdout",
          "text": [
            "하나 : one\n",
            "둘 : two\n",
            "셋 : three\n"
          ]
        }
      ]
    },
    {
      "cell_type": "code",
      "source": [
        "# 딕셔너리의 키를 순회하면서 각 키에 해당하는 값을 출력\n",
        "\n",
        "for i in 단어_사전:\n",
        "    print(i, ':', 단어_사전[i])"
      ],
      "metadata": {
        "colab": {
          "base_uri": "https://localhost:8080/"
        },
        "id": "6gtcNh9Sr96u",
        "outputId": "7671c5b8-a63b-49dc-c465-4fa5e8c65a5f"
      },
      "execution_count": 8,
      "outputs": [
        {
          "output_type": "stream",
          "name": "stdout",
          "text": [
            "하나 : one\n",
            "둘 : two\n",
            "셋 : three\n"
          ]
        }
      ]
    },
    {
      "cell_type": "markdown",
      "source": [
        "### range를 **범위로 지정한 예시**\n",
        "\n",
        "    - range는 앞 챕터 built-in function에서 다룸\n",
        "    - range(시작_값, 종료_값, 연속하는_두_수의_차) 형식"
      ],
      "metadata": {
        "id": "Ap-GtGIwsEeJ"
      }
    },
    {
      "cell_type": "code",
      "source": [
        "for i in range(5):\n",
        "    print(i)"
      ],
      "metadata": {
        "colab": {
          "base_uri": "https://localhost:8080/"
        },
        "id": "SCzRhFrLsSuV",
        "outputId": "103284aa-79f1-4346-b08e-03ca3e6b048d"
      },
      "execution_count": 9,
      "outputs": [
        {
          "output_type": "stream",
          "name": "stdout",
          "text": [
            "0\n",
            "1\n",
            "2\n",
            "3\n",
            "4\n"
          ]
        }
      ]
    },
    {
      "cell_type": "code",
      "source": [
        "# 0이상 10이하 짝수만 더하는 코드\n",
        "# 10이하기 때문에 range의 종료값은 11이 되어야 함 (종료값 -1까지 값 생성)\n",
        "\n",
        "result = 0\n",
        "for i in range(0, 11, 2):\n",
        "    result += i\n",
        "result"
      ],
      "metadata": {
        "colab": {
          "base_uri": "https://localhost:8080/"
        },
        "id": "QXm9yc3qsWgk",
        "outputId": "d52297b8-66d8-41ed-fce3-25442ec89983"
      },
      "execution_count": 10,
      "outputs": [
        {
          "output_type": "execute_result",
          "data": {
            "text/plain": [
              "30"
            ]
          },
          "metadata": {},
          "execution_count": 10
        }
      ]
    },
    {
      "cell_type": "code",
      "source": [
        "# 1부터 100까지 더하기\n",
        "\n",
        "result = 0\n",
        "for i in range(101):\n",
        "    result += i\n",
        "result"
      ],
      "metadata": {
        "colab": {
          "base_uri": "https://localhost:8080/"
        },
        "id": "4qcFV1kUslai",
        "outputId": "274762aa-df4b-4f0d-f3ef-553a70d91cb7"
      },
      "execution_count": 11,
      "outputs": [
        {
          "output_type": "execute_result",
          "data": {
            "text/plain": [
              "5050"
            ]
          },
          "metadata": {},
          "execution_count": 11
        }
      ]
    },
    {
      "cell_type": "code",
      "source": [
        "n = 100\n",
        "result = (n + 1) * n / 2\n",
        "result"
      ],
      "metadata": {
        "colab": {
          "base_uri": "https://localhost:8080/"
        },
        "id": "74c33ukXslVL",
        "outputId": "b560cc45-cd71-4958-9f06-078952362ef8"
      },
      "execution_count": 12,
      "outputs": [
        {
          "output_type": "execute_result",
          "data": {
            "text/plain": [
              "5050.0"
            ]
          },
          "metadata": {},
          "execution_count": 12
        }
      ]
    },
    {
      "cell_type": "code",
      "execution_count": 13,
      "metadata": {
        "colab": {
          "base_uri": "https://localhost:8080/"
        },
        "id": "ZntFhzwEMHMC",
        "outputId": "bd407fee-82f8-489c-a87c-b2c93dd24142"
      },
      "outputs": [
        {
          "output_type": "execute_result",
          "data": {
            "text/plain": [
              "2550"
            ]
          },
          "metadata": {},
          "execution_count": 13
        }
      ],
      "source": [
        "# 짝수만 더하기\n",
        "\n",
        "result = 0\n",
        "\n",
        "# 리스트라면 비어있는 리스트라도 만들어야 함, result = []\n",
        "# 비어있는 자료형도 자료형, None도 자료형\n",
        "\n",
        "for i in range(101): # 시퀀스 자료형 불러오기\n",
        "    if i % 2 == 0: # 짝수만 가져오기\n",
        "        result += i # 가져온 짝수 누적으로 더하기\n",
        "result"
      ]
    },
    {
      "cell_type": "code",
      "source": [
        "result = 0\n",
        "for i in range(0, 101, 2):\n",
        "    result += i\n",
        "result"
      ],
      "metadata": {
        "colab": {
          "base_uri": "https://localhost:8080/"
        },
        "id": "KKdgd1FYNFIk",
        "outputId": "4b5189f6-1aa0-4f45-a577-b52ef00c8d99"
      },
      "execution_count": 14,
      "outputs": [
        {
          "output_type": "execute_result",
          "data": {
            "text/plain": [
              "2550"
            ]
          },
          "metadata": {},
          "execution_count": 14
        }
      ]
    },
    {
      "cell_type": "markdown",
      "source": [
        "### 중첩 for문"
      ],
      "metadata": {
        "id": "T0qHng5jNyx1"
      }
    },
    {
      "cell_type": "code",
      "source": [
        "[\n",
        "    [1, 2],\n",
        "    [10, 20],\n",
        "    [100, 200]\n",
        "]"
      ],
      "metadata": {
        "colab": {
          "base_uri": "https://localhost:8080/"
        },
        "id": "ru7X_FGaN5-g",
        "outputId": "ce5f8afe-6b34-4461-b4f2-3e11a522d046"
      },
      "execution_count": 15,
      "outputs": [
        {
          "output_type": "execute_result",
          "data": {
            "text/plain": [
              "[[1, 2], [10, 20], [100, 200]]"
            ]
          },
          "metadata": {},
          "execution_count": 15
        }
      ]
    },
    {
      "cell_type": "code",
      "source": [
        "# code1\n",
        "# 언패킹을 하지 않고 하나의 변수에서 확인\n",
        "\n",
        "for i in [[1, 2], [10, 20], [100, 200]]:\n",
        "    print(i)"
      ],
      "metadata": {
        "colab": {
          "base_uri": "https://localhost:8080/"
        },
        "id": "acDS2A0xNYcR",
        "outputId": "44d86f3f-5e1e-488d-a53b-1136803fc8e1"
      },
      "execution_count": 16,
      "outputs": [
        {
          "output_type": "stream",
          "name": "stdout",
          "text": [
            "[1, 2]\n",
            "[10, 20]\n",
            "[100, 200]\n"
          ]
        }
      ]
    },
    {
      "cell_type": "code",
      "source": [
        "# code2\n",
        "# i는 리스트를 받았으므로 순회를 할 수 있음\n",
        "# 첫 값인 [1, 2]를 받았을 때에는 아래와 같이 순회가 가능\n",
        "\n",
        "for j in [1, 2]:\n",
        "    print(j)"
      ],
      "metadata": {
        "colab": {
          "base_uri": "https://localhost:8080/"
        },
        "id": "KIbcExGitCR_",
        "outputId": "4fd763ba-0d28-4dbd-bac4-5b57df2d36b4"
      },
      "execution_count": 17,
      "outputs": [
        {
          "output_type": "stream",
          "name": "stdout",
          "text": [
            "1\n",
            "2\n"
          ]
        }
      ]
    },
    {
      "cell_type": "code",
      "source": [
        "for i in [[1, 2], [10, 20], [100, 200]]:\n",
        "    for j in i:\n",
        "        print(j)"
      ],
      "metadata": {
        "colab": {
          "base_uri": "https://localhost:8080/"
        },
        "id": "sdK-Lup2tPwg",
        "outputId": "9514128a-889a-4ade-85e3-b833db8d72f2"
      },
      "execution_count": 18,
      "outputs": [
        {
          "output_type": "stream",
          "name": "stdout",
          "text": [
            "1\n",
            "2\n",
            "10\n",
            "20\n",
            "100\n",
            "200\n"
          ]
        }
      ]
    },
    {
      "cell_type": "code",
      "source": [
        "# print()문 추가\n",
        "\n",
        "for i in [[1, 2], [10, 20], [100, 200]]:\n",
        "    for j in i:\n",
        "        print(i)\n",
        "        print(j)\n",
        "\n",
        "# 어떤 값을 순회하고 있는지도 확인을 할 수 있음\n",
        "# 순회하고자 하는 값에 또 다시 순회를 하고 싶을 때에는 중첩 반복문을 사용"
      ],
      "metadata": {
        "colab": {
          "base_uri": "https://localhost:8080/"
        },
        "id": "9FtOHSQPtT0Q",
        "outputId": "06b8da63-042a-4b88-8931-770ec301a53e"
      },
      "execution_count": 19,
      "outputs": [
        {
          "output_type": "stream",
          "name": "stdout",
          "text": [
            "[1, 2]\n",
            "1\n",
            "[1, 2]\n",
            "2\n",
            "[10, 20]\n",
            "10\n",
            "[10, 20]\n",
            "20\n",
            "[100, 200]\n",
            "100\n",
            "[100, 200]\n",
            "200\n"
          ]
        }
      ]
    },
    {
      "cell_type": "code",
      "source": [
        "# 9*9단\n",
        "\n",
        "for i in range(2, 10):\n",
        "    print(f'---{i}단---')\n",
        "    for j in range(1, 10):\n",
        "        print(f'{i} X {j} = {i * j}')"
      ],
      "metadata": {
        "colab": {
          "base_uri": "https://localhost:8080/"
        },
        "id": "xRNOx0GcN3b2",
        "outputId": "7b4bb1cd-c70f-4863-ebd8-7ba01fea2a5d"
      },
      "execution_count": 20,
      "outputs": [
        {
          "output_type": "stream",
          "name": "stdout",
          "text": [
            "---2단---\n",
            "2 X 1 = 2\n",
            "2 X 2 = 4\n",
            "2 X 3 = 6\n",
            "2 X 4 = 8\n",
            "2 X 5 = 10\n",
            "2 X 6 = 12\n",
            "2 X 7 = 14\n",
            "2 X 8 = 16\n",
            "2 X 9 = 18\n",
            "---3단---\n",
            "3 X 1 = 3\n",
            "3 X 2 = 6\n",
            "3 X 3 = 9\n",
            "3 X 4 = 12\n",
            "3 X 5 = 15\n",
            "3 X 6 = 18\n",
            "3 X 7 = 21\n",
            "3 X 8 = 24\n",
            "3 X 9 = 27\n",
            "---4단---\n",
            "4 X 1 = 4\n",
            "4 X 2 = 8\n",
            "4 X 3 = 12\n",
            "4 X 4 = 16\n",
            "4 X 5 = 20\n",
            "4 X 6 = 24\n",
            "4 X 7 = 28\n",
            "4 X 8 = 32\n",
            "4 X 9 = 36\n",
            "---5단---\n",
            "5 X 1 = 5\n",
            "5 X 2 = 10\n",
            "5 X 3 = 15\n",
            "5 X 4 = 20\n",
            "5 X 5 = 25\n",
            "5 X 6 = 30\n",
            "5 X 7 = 35\n",
            "5 X 8 = 40\n",
            "5 X 9 = 45\n",
            "---6단---\n",
            "6 X 1 = 6\n",
            "6 X 2 = 12\n",
            "6 X 3 = 18\n",
            "6 X 4 = 24\n",
            "6 X 5 = 30\n",
            "6 X 6 = 36\n",
            "6 X 7 = 42\n",
            "6 X 8 = 48\n",
            "6 X 9 = 54\n",
            "---7단---\n",
            "7 X 1 = 7\n",
            "7 X 2 = 14\n",
            "7 X 3 = 21\n",
            "7 X 4 = 28\n",
            "7 X 5 = 35\n",
            "7 X 6 = 42\n",
            "7 X 7 = 49\n",
            "7 X 8 = 56\n",
            "7 X 9 = 63\n",
            "---8단---\n",
            "8 X 1 = 8\n",
            "8 X 2 = 16\n",
            "8 X 3 = 24\n",
            "8 X 4 = 32\n",
            "8 X 5 = 40\n",
            "8 X 6 = 48\n",
            "8 X 7 = 56\n",
            "8 X 8 = 64\n",
            "8 X 9 = 72\n",
            "---9단---\n",
            "9 X 1 = 9\n",
            "9 X 2 = 18\n",
            "9 X 3 = 27\n",
            "9 X 4 = 36\n",
            "9 X 5 = 45\n",
            "9 X 6 = 54\n",
            "9 X 7 = 63\n",
            "9 X 8 = 72\n",
            "9 X 9 = 81\n"
          ]
        }
      ]
    },
    {
      "cell_type": "code",
      "source": [
        "# 19*19단\n",
        "\n",
        "for i in range(2, 20):\n",
        "    print(f'---{i}단---')\n",
        "    for j in range(1, 20):\n",
        "        print(f'{i} X {j} = {i * j}')"
      ],
      "metadata": {
        "colab": {
          "base_uri": "https://localhost:8080/"
        },
        "id": "EvY_qq3yRnkY",
        "outputId": "5978048f-0b20-44ae-f91c-e348e0af9cb9"
      },
      "execution_count": 21,
      "outputs": [
        {
          "output_type": "stream",
          "name": "stdout",
          "text": [
            "---2단---\n",
            "2 X 1 = 2\n",
            "2 X 2 = 4\n",
            "2 X 3 = 6\n",
            "2 X 4 = 8\n",
            "2 X 5 = 10\n",
            "2 X 6 = 12\n",
            "2 X 7 = 14\n",
            "2 X 8 = 16\n",
            "2 X 9 = 18\n",
            "2 X 10 = 20\n",
            "2 X 11 = 22\n",
            "2 X 12 = 24\n",
            "2 X 13 = 26\n",
            "2 X 14 = 28\n",
            "2 X 15 = 30\n",
            "2 X 16 = 32\n",
            "2 X 17 = 34\n",
            "2 X 18 = 36\n",
            "2 X 19 = 38\n",
            "---3단---\n",
            "3 X 1 = 3\n",
            "3 X 2 = 6\n",
            "3 X 3 = 9\n",
            "3 X 4 = 12\n",
            "3 X 5 = 15\n",
            "3 X 6 = 18\n",
            "3 X 7 = 21\n",
            "3 X 8 = 24\n",
            "3 X 9 = 27\n",
            "3 X 10 = 30\n",
            "3 X 11 = 33\n",
            "3 X 12 = 36\n",
            "3 X 13 = 39\n",
            "3 X 14 = 42\n",
            "3 X 15 = 45\n",
            "3 X 16 = 48\n",
            "3 X 17 = 51\n",
            "3 X 18 = 54\n",
            "3 X 19 = 57\n",
            "---4단---\n",
            "4 X 1 = 4\n",
            "4 X 2 = 8\n",
            "4 X 3 = 12\n",
            "4 X 4 = 16\n",
            "4 X 5 = 20\n",
            "4 X 6 = 24\n",
            "4 X 7 = 28\n",
            "4 X 8 = 32\n",
            "4 X 9 = 36\n",
            "4 X 10 = 40\n",
            "4 X 11 = 44\n",
            "4 X 12 = 48\n",
            "4 X 13 = 52\n",
            "4 X 14 = 56\n",
            "4 X 15 = 60\n",
            "4 X 16 = 64\n",
            "4 X 17 = 68\n",
            "4 X 18 = 72\n",
            "4 X 19 = 76\n",
            "---5단---\n",
            "5 X 1 = 5\n",
            "5 X 2 = 10\n",
            "5 X 3 = 15\n",
            "5 X 4 = 20\n",
            "5 X 5 = 25\n",
            "5 X 6 = 30\n",
            "5 X 7 = 35\n",
            "5 X 8 = 40\n",
            "5 X 9 = 45\n",
            "5 X 10 = 50\n",
            "5 X 11 = 55\n",
            "5 X 12 = 60\n",
            "5 X 13 = 65\n",
            "5 X 14 = 70\n",
            "5 X 15 = 75\n",
            "5 X 16 = 80\n",
            "5 X 17 = 85\n",
            "5 X 18 = 90\n",
            "5 X 19 = 95\n",
            "---6단---\n",
            "6 X 1 = 6\n",
            "6 X 2 = 12\n",
            "6 X 3 = 18\n",
            "6 X 4 = 24\n",
            "6 X 5 = 30\n",
            "6 X 6 = 36\n",
            "6 X 7 = 42\n",
            "6 X 8 = 48\n",
            "6 X 9 = 54\n",
            "6 X 10 = 60\n",
            "6 X 11 = 66\n",
            "6 X 12 = 72\n",
            "6 X 13 = 78\n",
            "6 X 14 = 84\n",
            "6 X 15 = 90\n",
            "6 X 16 = 96\n",
            "6 X 17 = 102\n",
            "6 X 18 = 108\n",
            "6 X 19 = 114\n",
            "---7단---\n",
            "7 X 1 = 7\n",
            "7 X 2 = 14\n",
            "7 X 3 = 21\n",
            "7 X 4 = 28\n",
            "7 X 5 = 35\n",
            "7 X 6 = 42\n",
            "7 X 7 = 49\n",
            "7 X 8 = 56\n",
            "7 X 9 = 63\n",
            "7 X 10 = 70\n",
            "7 X 11 = 77\n",
            "7 X 12 = 84\n",
            "7 X 13 = 91\n",
            "7 X 14 = 98\n",
            "7 X 15 = 105\n",
            "7 X 16 = 112\n",
            "7 X 17 = 119\n",
            "7 X 18 = 126\n",
            "7 X 19 = 133\n",
            "---8단---\n",
            "8 X 1 = 8\n",
            "8 X 2 = 16\n",
            "8 X 3 = 24\n",
            "8 X 4 = 32\n",
            "8 X 5 = 40\n",
            "8 X 6 = 48\n",
            "8 X 7 = 56\n",
            "8 X 8 = 64\n",
            "8 X 9 = 72\n",
            "8 X 10 = 80\n",
            "8 X 11 = 88\n",
            "8 X 12 = 96\n",
            "8 X 13 = 104\n",
            "8 X 14 = 112\n",
            "8 X 15 = 120\n",
            "8 X 16 = 128\n",
            "8 X 17 = 136\n",
            "8 X 18 = 144\n",
            "8 X 19 = 152\n",
            "---9단---\n",
            "9 X 1 = 9\n",
            "9 X 2 = 18\n",
            "9 X 3 = 27\n",
            "9 X 4 = 36\n",
            "9 X 5 = 45\n",
            "9 X 6 = 54\n",
            "9 X 7 = 63\n",
            "9 X 8 = 72\n",
            "9 X 9 = 81\n",
            "9 X 10 = 90\n",
            "9 X 11 = 99\n",
            "9 X 12 = 108\n",
            "9 X 13 = 117\n",
            "9 X 14 = 126\n",
            "9 X 15 = 135\n",
            "9 X 16 = 144\n",
            "9 X 17 = 153\n",
            "9 X 18 = 162\n",
            "9 X 19 = 171\n",
            "---10단---\n",
            "10 X 1 = 10\n",
            "10 X 2 = 20\n",
            "10 X 3 = 30\n",
            "10 X 4 = 40\n",
            "10 X 5 = 50\n",
            "10 X 6 = 60\n",
            "10 X 7 = 70\n",
            "10 X 8 = 80\n",
            "10 X 9 = 90\n",
            "10 X 10 = 100\n",
            "10 X 11 = 110\n",
            "10 X 12 = 120\n",
            "10 X 13 = 130\n",
            "10 X 14 = 140\n",
            "10 X 15 = 150\n",
            "10 X 16 = 160\n",
            "10 X 17 = 170\n",
            "10 X 18 = 180\n",
            "10 X 19 = 190\n",
            "---11단---\n",
            "11 X 1 = 11\n",
            "11 X 2 = 22\n",
            "11 X 3 = 33\n",
            "11 X 4 = 44\n",
            "11 X 5 = 55\n",
            "11 X 6 = 66\n",
            "11 X 7 = 77\n",
            "11 X 8 = 88\n",
            "11 X 9 = 99\n",
            "11 X 10 = 110\n",
            "11 X 11 = 121\n",
            "11 X 12 = 132\n",
            "11 X 13 = 143\n",
            "11 X 14 = 154\n",
            "11 X 15 = 165\n",
            "11 X 16 = 176\n",
            "11 X 17 = 187\n",
            "11 X 18 = 198\n",
            "11 X 19 = 209\n",
            "---12단---\n",
            "12 X 1 = 12\n",
            "12 X 2 = 24\n",
            "12 X 3 = 36\n",
            "12 X 4 = 48\n",
            "12 X 5 = 60\n",
            "12 X 6 = 72\n",
            "12 X 7 = 84\n",
            "12 X 8 = 96\n",
            "12 X 9 = 108\n",
            "12 X 10 = 120\n",
            "12 X 11 = 132\n",
            "12 X 12 = 144\n",
            "12 X 13 = 156\n",
            "12 X 14 = 168\n",
            "12 X 15 = 180\n",
            "12 X 16 = 192\n",
            "12 X 17 = 204\n",
            "12 X 18 = 216\n",
            "12 X 19 = 228\n",
            "---13단---\n",
            "13 X 1 = 13\n",
            "13 X 2 = 26\n",
            "13 X 3 = 39\n",
            "13 X 4 = 52\n",
            "13 X 5 = 65\n",
            "13 X 6 = 78\n",
            "13 X 7 = 91\n",
            "13 X 8 = 104\n",
            "13 X 9 = 117\n",
            "13 X 10 = 130\n",
            "13 X 11 = 143\n",
            "13 X 12 = 156\n",
            "13 X 13 = 169\n",
            "13 X 14 = 182\n",
            "13 X 15 = 195\n",
            "13 X 16 = 208\n",
            "13 X 17 = 221\n",
            "13 X 18 = 234\n",
            "13 X 19 = 247\n",
            "---14단---\n",
            "14 X 1 = 14\n",
            "14 X 2 = 28\n",
            "14 X 3 = 42\n",
            "14 X 4 = 56\n",
            "14 X 5 = 70\n",
            "14 X 6 = 84\n",
            "14 X 7 = 98\n",
            "14 X 8 = 112\n",
            "14 X 9 = 126\n",
            "14 X 10 = 140\n",
            "14 X 11 = 154\n",
            "14 X 12 = 168\n",
            "14 X 13 = 182\n",
            "14 X 14 = 196\n",
            "14 X 15 = 210\n",
            "14 X 16 = 224\n",
            "14 X 17 = 238\n",
            "14 X 18 = 252\n",
            "14 X 19 = 266\n",
            "---15단---\n",
            "15 X 1 = 15\n",
            "15 X 2 = 30\n",
            "15 X 3 = 45\n",
            "15 X 4 = 60\n",
            "15 X 5 = 75\n",
            "15 X 6 = 90\n",
            "15 X 7 = 105\n",
            "15 X 8 = 120\n",
            "15 X 9 = 135\n",
            "15 X 10 = 150\n",
            "15 X 11 = 165\n",
            "15 X 12 = 180\n",
            "15 X 13 = 195\n",
            "15 X 14 = 210\n",
            "15 X 15 = 225\n",
            "15 X 16 = 240\n",
            "15 X 17 = 255\n",
            "15 X 18 = 270\n",
            "15 X 19 = 285\n",
            "---16단---\n",
            "16 X 1 = 16\n",
            "16 X 2 = 32\n",
            "16 X 3 = 48\n",
            "16 X 4 = 64\n",
            "16 X 5 = 80\n",
            "16 X 6 = 96\n",
            "16 X 7 = 112\n",
            "16 X 8 = 128\n",
            "16 X 9 = 144\n",
            "16 X 10 = 160\n",
            "16 X 11 = 176\n",
            "16 X 12 = 192\n",
            "16 X 13 = 208\n",
            "16 X 14 = 224\n",
            "16 X 15 = 240\n",
            "16 X 16 = 256\n",
            "16 X 17 = 272\n",
            "16 X 18 = 288\n",
            "16 X 19 = 304\n",
            "---17단---\n",
            "17 X 1 = 17\n",
            "17 X 2 = 34\n",
            "17 X 3 = 51\n",
            "17 X 4 = 68\n",
            "17 X 5 = 85\n",
            "17 X 6 = 102\n",
            "17 X 7 = 119\n",
            "17 X 8 = 136\n",
            "17 X 9 = 153\n",
            "17 X 10 = 170\n",
            "17 X 11 = 187\n",
            "17 X 12 = 204\n",
            "17 X 13 = 221\n",
            "17 X 14 = 238\n",
            "17 X 15 = 255\n",
            "17 X 16 = 272\n",
            "17 X 17 = 289\n",
            "17 X 18 = 306\n",
            "17 X 19 = 323\n",
            "---18단---\n",
            "18 X 1 = 18\n",
            "18 X 2 = 36\n",
            "18 X 3 = 54\n",
            "18 X 4 = 72\n",
            "18 X 5 = 90\n",
            "18 X 6 = 108\n",
            "18 X 7 = 126\n",
            "18 X 8 = 144\n",
            "18 X 9 = 162\n",
            "18 X 10 = 180\n",
            "18 X 11 = 198\n",
            "18 X 12 = 216\n",
            "18 X 13 = 234\n",
            "18 X 14 = 252\n",
            "18 X 15 = 270\n",
            "18 X 16 = 288\n",
            "18 X 17 = 306\n",
            "18 X 18 = 324\n",
            "18 X 19 = 342\n",
            "---19단---\n",
            "19 X 1 = 19\n",
            "19 X 2 = 38\n",
            "19 X 3 = 57\n",
            "19 X 4 = 76\n",
            "19 X 5 = 95\n",
            "19 X 6 = 114\n",
            "19 X 7 = 133\n",
            "19 X 8 = 152\n",
            "19 X 9 = 171\n",
            "19 X 10 = 190\n",
            "19 X 11 = 209\n",
            "19 X 12 = 228\n",
            "19 X 13 = 247\n",
            "19 X 14 = 266\n",
            "19 X 15 = 285\n",
            "19 X 16 = 304\n",
            "19 X 17 = 323\n",
            "19 X 18 = 342\n",
            "19 X 19 = 361\n"
          ]
        }
      ]
    },
    {
      "cell_type": "markdown",
      "source": [
        "### 컴프리헨션 (comprehension)\n",
        "\n",
        "    - 리스트 컴프리헨션(list comprehension)은 파이썬에서 간결하게 리스트를 생성하는 기능\n",
        "    - 반복문과 조건문을 결합하여 리스트를 생성"
      ],
      "metadata": {
        "id": "55Sad3wztjyE"
      }
    },
    {
      "cell_type": "code",
      "source": [
        "for i in range(0x3131, 0x3135):\n",
        "   print(chr(i))"
      ],
      "metadata": {
        "colab": {
          "base_uri": "https://localhost:8080/"
        },
        "id": "arGk6qDxTX3s",
        "outputId": "12c5bbb2-a1de-423e-a34a-b0a25f2d253a"
      },
      "execution_count": 22,
      "outputs": [
        {
          "output_type": "stream",
          "name": "stdout",
          "text": [
            "ㄱ\n",
            "ㄲ\n",
            "ㄳ\n",
            "ㄴ\n"
          ]
        }
      ]
    },
    {
      "cell_type": "code",
      "source": [
        "# 리스트 컴프리헨션(list comprehension)\n",
        "# 간결하게 리스트를 생성하는 기능으로, 반복문과 조건문을 결합하여 리스트를 생성\n",
        "\n",
        "x = []\n",
        "\n",
        "for i in range(1, 10): # 1~9까지\n",
        "    x.append(i) #append(리스트에 값을 추가!)"
      ],
      "metadata": {
        "id": "gKjR4oF7QzMy"
      },
      "execution_count": 23,
      "outputs": []
    },
    {
      "cell_type": "code",
      "source": [
        "# 리스트 컴프리헨션\n",
        "# step1 list안에 for문을 가져옵니다.\n",
        "#[for i in range(1, 10)] # for문 시작하는 조건을 가져오고 리스트로 묶는다.\n",
        "\n",
        "# step2 append 항목을 앞으로 가져옵니다. - 여기서 i -> 자동으로 append\n",
        "a = [i for i in range(1, 10)] # 출력: [1, 2, 3, 4, 5, 6, 7, 8, 9]\n",
        "b = [i*2 for i in range(1, 10)] # 출력: [1, 2, 3, 4, 5, 6, 7, 8, 9]\n",
        "print(a, b)"
      ],
      "metadata": {
        "colab": {
          "base_uri": "https://localhost:8080/"
        },
        "id": "F9AhW1TxSFow",
        "outputId": "6bf41e58-447d-49ae-dca4-a2930f6e5c3a"
      },
      "execution_count": 24,
      "outputs": [
        {
          "output_type": "stream",
          "name": "stdout",
          "text": [
            "[1, 2, 3, 4, 5, 6, 7, 8, 9] [2, 4, 6, 8, 10, 12, 14, 16, 18]\n"
          ]
        }
      ]
    },
    {
      "cell_type": "code",
      "source": [
        "'''[추가할변수_또는_표현식 for 변수 in 특정범위]'''"
      ],
      "metadata": {
        "colab": {
          "base_uri": "https://localhost:8080/",
          "height": 35
        },
        "id": "I7-pouhqvpB3",
        "outputId": "e923140c-fb4a-45fd-9aa5-b2d78154980b"
      },
      "execution_count": 25,
      "outputs": [
        {
          "output_type": "execute_result",
          "data": {
            "text/plain": [
              "'[추가할변수_또는_표현식 for 변수 in 특정범위]'"
            ],
            "application/vnd.google.colaboratory.intrinsic+json": {
              "type": "string"
            }
          },
          "metadata": {},
          "execution_count": 25
        }
      ]
    },
    {
      "cell_type": "code",
      "source": [
        "# 컴프리헨션 내 조건문 사용법\n",
        "\n",
        "l = [i for i in range(1, 10) if i % 2 == 0 and i % 3 == 0]\n",
        "print(l)"
      ],
      "metadata": {
        "colab": {
          "base_uri": "https://localhost:8080/"
        },
        "id": "eiHqA7IYS83Q",
        "outputId": "18ac9fd1-9a25-4aa5-c0bf-e2a147d24542"
      },
      "execution_count": 26,
      "outputs": [
        {
          "output_type": "stream",
          "name": "stdout",
          "text": [
            "[6]\n"
          ]
        }
      ]
    },
    {
      "cell_type": "code",
      "source": [
        "nums = [1, 2, 3, 4, 5]\n",
        "result = [f'{x}는 3보다 큰 짝수' if x % 2 == 0 else f'{x}는 3보다 큰 홀수' for x in nums if x > 3]\n",
        "print(result) # 출력: ['4는 3보다 큰 짝수', '5는 3보다 큰 홀수']"
      ],
      "metadata": {
        "id": "S73D-TLtUfFZ",
        "colab": {
          "base_uri": "https://localhost:8080/"
        },
        "outputId": "10dcd5cc-136e-434f-c9ca-6869d45985f1"
      },
      "execution_count": 27,
      "outputs": [
        {
          "output_type": "stream",
          "name": "stdout",
          "text": [
            "['4는 3보다 큰 짝수', '5는 3보다 큰 홀수']\n"
          ]
        }
      ]
    },
    {
      "cell_type": "code",
      "source": [
        "result = []\n",
        "nums = [1, 2, 3, 4, 5]\n",
        "for x in nums:\n",
        "    if x > 3:\n",
        "        if x % 2 == 0:\n",
        "            result.append(f'{x}는 3보다 큰 짝수')\n",
        "        else:\n",
        "            result.append(f'{x}는 3보다 큰 홀수')\n",
        "print(result)"
      ],
      "metadata": {
        "id": "euEwyPUmUxwD",
        "colab": {
          "base_uri": "https://localhost:8080/"
        },
        "outputId": "090f9a79-98a7-4458-bf13-8b36bc811236"
      },
      "execution_count": 28,
      "outputs": [
        {
          "output_type": "stream",
          "name": "stdout",
          "text": [
            "['4는 3보다 큰 짝수', '5는 3보다 큰 홀수']\n"
          ]
        }
      ]
    },
    {
      "cell_type": "code",
      "source": [
        "# 중첩된 반복문과 중첩된 컴프리헨션\n",
        "\n",
        "# 리스트 컴프리헨션: 중첩된 반복문\n",
        "c = [f'{i} × {j} = {i*j}' for i in range(2, 10) for j in range(1, 10)]\n",
        "\n",
        "# 리스트 컴프리헨션: 중첩된 컴프리헨션\n",
        "cc = [[f'{i} × {j} = {i*j}' for j in range(1, 10)] for i in range(2, 10)]\n",
        "\n",
        "# 전통적인 방법\n",
        "c_list = []\n",
        "for i in range(2, 10):\n",
        "    for j in range(1, 10):\n",
        "        c_list.append(f'{i} × {j} = {i*j}')"
      ],
      "metadata": {
        "id": "zmj2NXbznykp"
      },
      "execution_count": 29,
      "outputs": []
    },
    {
      "cell_type": "code",
      "source": [
        "print(c)"
      ],
      "metadata": {
        "colab": {
          "base_uri": "https://localhost:8080/"
        },
        "id": "D-9S8Tb7oB_q",
        "outputId": "186e5aad-1790-4424-a2a8-98584c560f46"
      },
      "execution_count": 30,
      "outputs": [
        {
          "output_type": "stream",
          "name": "stdout",
          "text": [
            "['2 × 1 = 2', '2 × 2 = 4', '2 × 3 = 6', '2 × 4 = 8', '2 × 5 = 10', '2 × 6 = 12', '2 × 7 = 14', '2 × 8 = 16', '2 × 9 = 18', '3 × 1 = 3', '3 × 2 = 6', '3 × 3 = 9', '3 × 4 = 12', '3 × 5 = 15', '3 × 6 = 18', '3 × 7 = 21', '3 × 8 = 24', '3 × 9 = 27', '4 × 1 = 4', '4 × 2 = 8', '4 × 3 = 12', '4 × 4 = 16', '4 × 5 = 20', '4 × 6 = 24', '4 × 7 = 28', '4 × 8 = 32', '4 × 9 = 36', '5 × 1 = 5', '5 × 2 = 10', '5 × 3 = 15', '5 × 4 = 20', '5 × 5 = 25', '5 × 6 = 30', '5 × 7 = 35', '5 × 8 = 40', '5 × 9 = 45', '6 × 1 = 6', '6 × 2 = 12', '6 × 3 = 18', '6 × 4 = 24', '6 × 5 = 30', '6 × 6 = 36', '6 × 7 = 42', '6 × 8 = 48', '6 × 9 = 54', '7 × 1 = 7', '7 × 2 = 14', '7 × 3 = 21', '7 × 4 = 28', '7 × 5 = 35', '7 × 6 = 42', '7 × 7 = 49', '7 × 8 = 56', '7 × 9 = 63', '8 × 1 = 8', '8 × 2 = 16', '8 × 3 = 24', '8 × 4 = 32', '8 × 5 = 40', '8 × 6 = 48', '8 × 7 = 56', '8 × 8 = 64', '8 × 9 = 72', '9 × 1 = 9', '9 × 2 = 18', '9 × 3 = 27', '9 × 4 = 36', '9 × 5 = 45', '9 × 6 = 54', '9 × 7 = 63', '9 × 8 = 72', '9 × 9 = 81']\n"
          ]
        }
      ]
    },
    {
      "cell_type": "code",
      "source": [
        "# 컴프리헨션 내 함수 사용하기\n",
        "\n",
        "def sumthingFunction(i): # 함수 sumthingFunction(i)을 생성\n",
        "    if i % 100 ==0:      # 조건문 100으로 나눴을때 나머지가 0이 되는것\n",
        "        return i         # 조건에 일치하면 i를 리턴 일치하지 않으면 0을 리턴하는데,\n",
        "    else:\n",
        "        return 0\n",
        "\n",
        "l = [100, 200, 300, 101, 202, 303]\n",
        "l = [sumthingFunction(i) for i in l] # l(리스트)에 있는 값들을 하나씩 꺼내서, 함수에 태워보고, 조건에 맞는것만 출력\n",
        "l # 출력: [100, 200, 300, 0, 0, 0]\n",
        "print(l)"
      ],
      "metadata": {
        "colab": {
          "base_uri": "https://localhost:8080/"
        },
        "id": "CUnL88yKoDfi",
        "outputId": "cd12ccd6-8c5f-4b8a-e8a9-a2f81727f6e1"
      },
      "execution_count": 31,
      "outputs": [
        {
          "output_type": "stream",
          "name": "stdout",
          "text": [
            "[100, 200, 300, 0, 0, 0]\n"
          ]
        }
      ]
    },
    {
      "cell_type": "code",
      "source": [
        "l = [100, 200, 300, 101, 202, 303]\n",
        "l2 = [(lambda x : x * x)(x) for x in l]\n",
        "print(l2)"
      ],
      "metadata": {
        "colab": {
          "base_uri": "https://localhost:8080/"
        },
        "id": "SDHjq44Yptf9",
        "outputId": "6c3abd46-1b41-45a7-99ef-df3aa1d80ece"
      },
      "execution_count": 32,
      "outputs": [
        {
          "output_type": "stream",
          "name": "stdout",
          "text": [
            "[10000, 40000, 90000, 10201, 40804, 91809]\n"
          ]
        }
      ]
    },
    {
      "cell_type": "code",
      "source": [
        "# 딕셔너리 컴프리핸션\n",
        "\n",
        "# 전통적인 방법\n",
        "d = {}\n",
        "for i in range(5):\n",
        "    d[i] = i**2\n",
        "print(d)\n",
        "\n",
        "# 딕셔너리 컴프리헨션 사용\n",
        "dd = {i: i**2 for i in range(5)}\n",
        "print(dd)"
      ],
      "metadata": {
        "colab": {
          "base_uri": "https://localhost:8080/"
        },
        "id": "EeX772KZp6FS",
        "outputId": "69d5b3a8-3f85-4070-8d93-0817a7481bf4"
      },
      "execution_count": 33,
      "outputs": [
        {
          "output_type": "stream",
          "name": "stdout",
          "text": [
            "{0: 0, 1: 1, 2: 4, 3: 9, 4: 16}\n",
            "{0: 0, 1: 1, 2: 4, 3: 9, 4: 16}\n"
          ]
        }
      ]
    },
    {
      "cell_type": "code",
      "source": [
        "# 복합 자료형 순회\n",
        "\n",
        "for i, j, k in ['abc', 'def', 'ghi']:\n",
        "    print(i, j, k)"
      ],
      "metadata": {
        "colab": {
          "base_uri": "https://localhost:8080/"
        },
        "id": "fJEISZJ_q7T9",
        "outputId": "abbf2f4f-a7b5-47e5-f919-a90ff6e0ca0e"
      },
      "execution_count": 34,
      "outputs": [
        {
          "output_type": "stream",
          "name": "stdout",
          "text": [
            "a b c\n",
            "d e f\n",
            "g h i\n"
          ]
        }
      ]
    },
    {
      "cell_type": "code",
      "source": [
        "for i in ['abc']:\n",
        "    print(i)"
      ],
      "metadata": {
        "colab": {
          "base_uri": "https://localhost:8080/"
        },
        "id": "pcNVwddzruKM",
        "outputId": "6cc218c4-c652-4cb8-c1b8-da2437ee7943"
      },
      "execution_count": 35,
      "outputs": [
        {
          "output_type": "stream",
          "name": "stdout",
          "text": [
            "abc\n"
          ]
        }
      ]
    },
    {
      "cell_type": "code",
      "source": [
        "skill = [\n",
        "        ('고기잡이', 100),\n",
        "        ('고기팔기', 120),\n",
        "        ('낚시', 5),\n",
        "        ('통발', 5),\n",
        "        ('큰그물', 5)\n",
        "]\n",
        "\n",
        "for i, j in skill:\n",
        "    print(i, j)"
      ],
      "metadata": {
        "colab": {
          "base_uri": "https://localhost:8080/"
        },
        "id": "55oOidEWr6g_",
        "outputId": "6cf4813d-0902-415b-c94a-ec4d4d19a17b"
      },
      "execution_count": 36,
      "outputs": [
        {
          "output_type": "stream",
          "name": "stdout",
          "text": [
            "고기잡이 100\n",
            "고기팔기 120\n",
            "낚시 5\n",
            "통발 5\n",
            "큰그물 5\n"
          ]
        }
      ]
    },
    {
      "cell_type": "code",
      "source": [
        "# 하나만 리스트여도 쌓이면 상관없이 잘 돌아감\n",
        "skill = [\n",
        "        ('고기잡이', 100, 'SS'),\n",
        "        ('고기팔기', 120, 'SSS'),\n",
        "        ('낚시', 5, 'C'),\n",
        "        ('통발', 5, 'C'),\n",
        "        ('큰그물', 5, 'C')\n",
        "]\n",
        "\n",
        "for skillName, skillLevel, skillGrade in skill:\n",
        "    print(skillName, skillLevel, skillGrade)"
      ],
      "metadata": {
        "id": "qvX-OpOhsPU-",
        "colab": {
          "base_uri": "https://localhost:8080/"
        },
        "outputId": "583160a9-2b5f-4e61-9921-c589dec483e1"
      },
      "execution_count": 37,
      "outputs": [
        {
          "output_type": "stream",
          "name": "stdout",
          "text": [
            "고기잡이 100 SS\n",
            "고기팔기 120 SSS\n",
            "낚시 5 C\n",
            "통발 5 C\n",
            "큰그물 5 C\n"
          ]
        }
      ]
    },
    {
      "cell_type": "code",
      "source": [
        "# enumerate를 사용한 순회\n",
        "# enumerate는 순서를 매길 때 사용, 별도의 변수를 선언하지 않고 가능하게 함\n",
        "\n",
        "영화누적관객수 = ['레미제라블', '뷰티인사이트', '매트릭스', '인셉션', '어거스트 러쉬']\n",
        "for i in enumerate(영화누적관객수):\n",
        "    print(i)"
      ],
      "metadata": {
        "colab": {
          "base_uri": "https://localhost:8080/"
        },
        "id": "1WUeJ4sNtgoq",
        "outputId": "76503e24-d844-4a09-d544-47035e61115a"
      },
      "execution_count": 38,
      "outputs": [
        {
          "output_type": "stream",
          "name": "stdout",
          "text": [
            "(0, '레미제라블')\n",
            "(1, '뷰티인사이트')\n",
            "(2, '매트릭스')\n",
            "(3, '인셉션')\n",
            "(4, '어거스트 러쉬')\n"
          ]
        }
      ]
    },
    {
      "cell_type": "code",
      "source": [
        "영화누적관객수 = ['레미제라블', '뷰티인사이트', '매트릭스', '인셉션', '어거스트 러쉬']\n",
        "for i in 영화누적관객수:\n",
        "    print(i)"
      ],
      "metadata": {
        "colab": {
          "base_uri": "https://localhost:8080/"
        },
        "id": "FuSi-FPwt4DW",
        "outputId": "89f0e9ce-60f7-4191-be95-8ab6bf7f73f8"
      },
      "execution_count": 39,
      "outputs": [
        {
          "output_type": "stream",
          "name": "stdout",
          "text": [
            "레미제라블\n",
            "뷰티인사이트\n",
            "매트릭스\n",
            "인셉션\n",
            "어거스트 러쉬\n"
          ]
        }
      ]
    },
    {
      "cell_type": "code",
      "source": [
        "for i, j in enumerate(영화누적관객수, 1):\n",
        "    print(f'누적관객수 {i}위! {j}!') # i에는 index값 j에는 영화 제목! ,1 -> 1부터 시작!"
      ],
      "metadata": {
        "colab": {
          "base_uri": "https://localhost:8080/"
        },
        "id": "pht_IWn5tlJS",
        "outputId": "114ec38b-fc57-4caf-d828-a93ca0e86cb0"
      },
      "execution_count": 40,
      "outputs": [
        {
          "output_type": "stream",
          "name": "stdout",
          "text": [
            "누적관객수 1위! 레미제라블!\n",
            "누적관객수 2위! 뷰티인사이트!\n",
            "누적관객수 3위! 매트릭스!\n",
            "누적관객수 4위! 인셉션!\n",
            "누적관객수 5위! 어거스트 러쉬!\n"
          ]
        }
      ]
    },
    {
      "cell_type": "code",
      "source": [
        "# for 문으로 무한반복 만들기\n",
        "\n",
        "'''\n",
        "# 실행시키면 런타임 다시 시작해야 합니다.\n",
        "# l = [1, 2]\n",
        "# for i in l:\n",
        "#     l.append(3)\n",
        "#     print(i) # 1, 2, 3, 3, 3, 3, 3, 3 ...\n",
        "\n",
        "s = 'hello'\n",
        "for i in s: # 순회가 정상적으로 됩니다.\n",
        "    s += '!'\n",
        "    print(i)\n",
        "    print(s)\n",
        "\n",
        "d = {'one': '하나'}\n",
        "for i in d: # RuntimeError: dictionary changed size during iteration\n",
        "    d.update({i+d[i]:None})\n",
        "    print(d)\n",
        "'''"
      ],
      "metadata": {
        "colab": {
          "base_uri": "https://localhost:8080/",
          "height": 108
        },
        "id": "_gHJBpHbDRDv",
        "outputId": "5601e53a-d247-435b-be10-19120e6a5e2f"
      },
      "execution_count": 41,
      "outputs": [
        {
          "output_type": "execute_result",
          "data": {
            "text/plain": [
              "\"\\n# 실행시키면 런타임 다시 시작해야 합니다.\\n# l = [1, 2]\\n# for i in l:\\n#     l.append(3)\\n#     print(i) # 1, 2, 3, 3, 3, 3, 3, 3 ...\\n\\ns = 'hello'\\nfor i in s: # 순회가 정상적으로 됩니다.\\n    s += '!'\\n    print(i)\\n    print(s)\\n\\nd = {'one': '하나'}\\nfor i in d: # RuntimeError: dictionary changed size during iteration\\n    d.update({i+d[i]:None})\\n    print(d)\\n\""
            ],
            "application/vnd.google.colaboratory.intrinsic+json": {
              "type": "string"
            }
          },
          "metadata": {},
          "execution_count": 41
        }
      ]
    },
    {
      "cell_type": "markdown",
      "source": [
        "### While 문"
      ],
      "metadata": {
        "id": "q-ioQLM2v_ly"
      }
    },
    {
      "cell_type": "markdown",
      "source": [
        "```\n",
        "while 구문:\n",
        "    pass # 수행할 문장\n",
        "```"
      ],
      "metadata": {
        "id": "kYswejEQuNBN"
      }
    },
    {
      "cell_type": "code",
      "source": [
        "#while문 기초\n",
        "\n",
        "a = 1\n",
        "\n",
        "while a < 10 :\n",
        "    print(a)\n",
        "    a += 1"
      ],
      "metadata": {
        "colab": {
          "base_uri": "https://localhost:8080/"
        },
        "id": "kHdmgsggwHon",
        "outputId": "442c9013-9133-4407-c92b-bf1ac782c0c0"
      },
      "execution_count": 43,
      "outputs": [
        {
          "output_type": "stream",
          "name": "stdout",
          "text": [
            "1\n",
            "2\n",
            "3\n",
            "4\n",
            "5\n",
            "6\n",
            "7\n",
            "8\n",
            "9\n"
          ]
        }
      ]
    },
    {
      "cell_type": "code",
      "source": [
        "#while문 기초\n",
        "\n",
        "a = 1\n",
        "while a < 10: # 조건이 만족할때 까지\n",
        "    print(a)\n",
        "    a += 1 # 없으면 무한루프!"
      ],
      "metadata": {
        "colab": {
          "base_uri": "https://localhost:8080/"
        },
        "id": "peRV2dU2xT9t",
        "outputId": "cd0cc79f-319b-4336-ca08-dc840817d66b"
      },
      "execution_count": 44,
      "outputs": [
        {
          "output_type": "stream",
          "name": "stdout",
          "text": [
            "1\n",
            "2\n",
            "3\n",
            "4\n",
            "5\n",
            "6\n",
            "7\n",
            "8\n",
            "9\n"
          ]
        }
      ]
    },
    {
      "cell_type": "code",
      "source": [
        "#while문 기초\n",
        "\n",
        "a = 1\n",
        "while a < 10: # 조건이 만족할때 까지\n",
        "    print(a)\n",
        "    a += 1\n",
        "\n",
        "# for문 기초\n",
        "for i in range(1,10): # 범위가 끝날때 까지\n",
        "    print(i)"
      ],
      "metadata": {
        "colab": {
          "base_uri": "https://localhost:8080/"
        },
        "id": "iZzH19sJwOZ9",
        "outputId": "a7edee02-6d15-4bfd-974c-e120e816328c"
      },
      "execution_count": 45,
      "outputs": [
        {
          "output_type": "stream",
          "name": "stdout",
          "text": [
            "1\n",
            "2\n",
            "3\n",
            "4\n",
            "5\n",
            "6\n",
            "7\n",
            "8\n",
            "9\n",
            "1\n",
            "2\n",
            "3\n",
            "4\n",
            "5\n",
            "6\n",
            "7\n",
            "8\n",
            "9\n"
          ]
        }
      ]
    },
    {
      "cell_type": "code",
      "source": [],
      "metadata": {
        "id": "t5yJGrvyDicT"
      },
      "execution_count": null,
      "outputs": []
    }
  ]
}